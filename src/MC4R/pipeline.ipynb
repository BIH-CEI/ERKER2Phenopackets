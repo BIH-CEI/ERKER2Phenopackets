{
 "cells": [
  {
   "cell_type": "code",
   "execution_count": 1,
   "metadata": {
    "ExecuteTime": {
     "start_time": "2023-08-31T10:52:08.347375Z",
     "end_time": "2023-08-31T10:52:08.766329Z"
    }
   },
   "outputs": [],
   "source": [
    "import polars as pl # the same as pandas just faster\n",
    "\n",
    "import configparser\n",
    "from pathlib import Path\n",
    "from datetime import datetime\n",
    "import sys\n",
    "\n",
    "sys.path.append('../..') # for imports to work \n",
    "from src.old_erker_mapping import map_erker2phenopackets, write_phenopackets"
   ]
  },
  {
   "cell_type": "markdown",
   "metadata": {},
   "source": [
    "### Get path to notebook from config file"
   ]
  },
  {
   "cell_type": "code",
   "execution_count": 2,
   "metadata": {
    "ExecuteTime": {
     "start_time": "2023-08-31T10:52:08.772534Z",
     "end_time": "2023-08-31T10:52:08.781577Z"
    }
   },
   "outputs": [],
   "source": [
    "config = configparser.ConfigParser()\n",
    "config.read('../../data/config/config.cfg')\n",
    "real_data = False\n",
    "\n",
    "if real_data:\n",
    "    path = Path(config.get('Paths', 'mc4r_path')) \n",
    "else:\n",
    "    path = Path(config.get('Paths', 'synth_data_path'))\n",
    "\n",
    "phenopackets_out = Path(config.get('Paths', 'phenopackets_out'))"
   ]
  },
  {
   "cell_type": "markdown",
   "metadata": {
    "collapsed": false
   },
   "source": [
    "### Set Creator Tag"
   ]
  },
  {
   "cell_type": "code",
   "execution_count": 3,
   "metadata": {
    "ExecuteTime": {
     "start_time": "2023-08-31T10:52:08.784587Z",
     "end_time": "2023-08-31T10:52:08.856889Z"
    },
    "collapsed": false
   },
   "outputs": [
    {
     "name": "stdout",
     "output_type": "stream",
     "text": [
      "Creator tag: P. Robinson, MD, D. Danis, PhD, A. Graefe, F. Rehburg\n"
     ]
    }
   ],
   "source": [
    "created_by = config.get('Creator', 'creator_tag')\n",
    "\n",
    "print(f'Creator tag: {created_by}')"
   ]
  },
  {
   "cell_type": "markdown",
   "metadata": {},
   "source": [
    "### Read data in"
   ]
  },
  {
   "cell_type": "code",
   "execution_count": 4,
   "metadata": {
    "ExecuteTime": {
     "start_time": "2023-08-31T10:52:08.803657Z",
     "end_time": "2023-08-31T10:52:08.865412Z"
    }
   },
   "outputs": [
    {
     "data": {
      "text/plain": "shape: (5, 317)\n┌───────────┬───────────┬───────────┬───────────┬───┬───────────┬───────────┬───────────┬──────────┐\n│ record_id ┆ sct_42254 ┆ sct_39942 ┆ sct_18409 ┆ … ┆ sct_84056 ┆ sct_21134 ┆ sct_21134 ┆ erker_v1 │\n│ ---       ┆ 9004      ┆ 3000      ┆ 9003_y    ┆   ┆ 6006_spec ┆ 002_class ┆ 002_score ┆ 5_comple │\n│ i64       ┆ ---       ┆ ---       ┆ ---       ┆   ┆ ific      ┆ ---       ┆ ---       ┆ te       │\n│           ┆ str       ┆ str       ┆ i64       ┆   ┆ ---       ┆ str       ┆ str       ┆ ---      │\n│           ┆           ┆           ┆           ┆   ┆ str       ┆           ┆           ┆ str      │\n╞═══════════╪═══════════╪═══════════╪═══════════╪═══╪═══════════╪═══════════╪═══════════╪══════════╡\n│ 1         ┆ 123AB     ┆ null      ┆ 2004      ┆ … ┆ null      ┆ sct_12205 ┆ null      ┆ null     │\n│           ┆           ┆           ┆           ┆   ┆           ┆ 61009     ┆           ┆          │\n│ 2         ┆ 234BC     ┆ null      ┆ 2001      ┆ … ┆ null      ┆ sct_12205 ┆ null      ┆ null     │\n│           ┆           ┆           ┆           ┆   ┆           ┆ 61009     ┆           ┆          │\n│ 3         ┆ 345CD     ┆ null      ┆ 2002      ┆ … ┆ null      ┆ sct_12205 ┆ null      ┆ null     │\n│           ┆           ┆           ┆           ┆   ┆           ┆ 61009     ┆           ┆          │\n│ 4         ┆ 456DE     ┆ null      ┆ 2005      ┆ … ┆ null      ┆ sct_12205 ┆ null      ┆ null     │\n│           ┆           ┆           ┆           ┆   ┆           ┆ 61009     ┆           ┆          │\n│ 5         ┆ 567EF     ┆ null      ┆ 1999      ┆ … ┆ null      ┆ sct_12205 ┆ null      ┆ null     │\n│           ┆           ┆           ┆           ┆   ┆           ┆ 61009     ┆           ┆          │\n└───────────┴───────────┴───────────┴───────────┴───┴───────────┴───────────┴───────────┴──────────┘",
      "text/html": "<div><style>\n.dataframe > thead > tr > th,\n.dataframe > tbody > tr > td {\n  text-align: right;\n}\n</style>\n<small>shape: (5, 317)</small><table border=\"1\" class=\"dataframe\"><thead><tr><th>record_id</th><th>sct_422549004</th><th>sct_399423000</th><th>sct_184099003_y</th><th>sct_281053000</th><th>sct_263495000</th><th>sct_315354004</th><th>sct_364699009</th><th>sct_278844005</th><th>sct_399753006</th><th>sct_420259009</th><th>sct_767023003</th><th>sct_184305005_rd</th><th>sct_16100001</th><th>sct_16100001_source</th><th>sct_769681006_center</th><th>sct_440377005</th><th>sct_276239002_aim</th><th>sct_424850005</th><th>sct_405795006_y</th><th>sct_405795006_m</th><th>sct_405795006_d</th><th>sct_423493009</th><th>sct_432213005_y</th><th>sct_432213005_m</th><th>sct_432213005_d</th><th>sct_717800004</th><th>sct_412726003</th><th>sct_64245008</th><th>sct_125679009_proposit</th><th>sct_842009</th><th>sct_439401001_orpha</th><th>sct_439401001_orpha_sub</th><th>sct_439401001_icd10gm</th><th>sct_439401001_alphaid</th><th>sct_439401001_alphaidstr</th><th>sct_439401001_bodysite</th><th>&hellip;</th><th>sct_82101005_10_age</th><th>sct_82101005_10_gender</th><th>sct_75226009_rd</th><th>sct_75226009_1_age</th><th>sct_75226009_1_gender</th><th>sct_75226009_2_age</th><th>sct_75226009_2_gender</th><th>sct_75226009_3_age</th><th>sct_75226009_3_gender</th><th>sct_75226009_4_age</th><th>sct_75226009_4_gender</th><th>sct_75226009_5_age</th><th>sct_75226009_5_gender</th><th>sct_75226009_6_age</th><th>sct_75226009_6_gender</th><th>sct_75226009_7_age</th><th>sct_75226009_7_gender</th><th>sct_75226009_8_age</th><th>sct_75226009_8_gender</th><th>sct_75226009_9_age</th><th>sct_75226009_9_gender</th><th>sct_75226009_10_age</th><th>sct_75226009_10_gender</th><th>sct_309370004_research</th><th>sct_309370004_narse</th><th>sct_441898007_data</th><th>sct_441898007_eu</th><th>sct_441898007_int</th><th>sct_441898007_aff</th><th>sct_441898007_gen</th><th>sct_441898007_case</th><th>sct_123038009</th><th>sct_840566006</th><th>sct_840566006_specific</th><th>sct_21134002_class</th><th>sct_21134002_score</th><th>erker_v15_complete</th></tr><tr><td>i64</td><td>str</td><td>str</td><td>i64</td><td>str</td><td>str</td><td>str</td><td>str</td><td>str</td><td>str</td><td>str</td><td>str</td><td>str</td><td>str</td><td>str</td><td>str</td><td>str</td><td>str</td><td>str</td><td>str</td><td>str</td><td>str</td><td>str</td><td>i64</td><td>i64</td><td>i64</td><td>str</td><td>str</td><td>str</td><td>str</td><td>str</td><td>str</td><td>str</td><td>str</td><td>str</td><td>str</td><td>str</td><td>&hellip;</td><td>str</td><td>str</td><td>str</td><td>str</td><td>str</td><td>str</td><td>str</td><td>str</td><td>str</td><td>str</td><td>str</td><td>str</td><td>str</td><td>str</td><td>str</td><td>str</td><td>str</td><td>str</td><td>str</td><td>str</td><td>str</td><td>str</td><td>str</td><td>str</td><td>str</td><td>str</td><td>str</td><td>str</td><td>str</td><td>str</td><td>str</td><td>str</td><td>str</td><td>str</td><td>str</td><td>str</td><td>str</td></tr></thead><tbody><tr><td>1</td><td>&quot;123AB&quot;</td><td>null</td><td>2004</td><td>null</td><td>&quot;sct_248152002&quot;</td><td>null</td><td>&quot;sct_372148003_…</td><td>&quot;CS_MII_Person_…</td><td>null</td><td>null</td><td>&quot;sct_263659003&quot;</td><td>&quot;sct_1220561009…</td><td>null</td><td>null</td><td>&quot;2009-15-11&quot;</td><td>&quot;sct_1220561009…</td><td>null</td><td>&quot;sct_261665006&quot;</td><td>null</td><td>null</td><td>null</td><td>&quot;sct_261665006&quot;</td><td>2009</td><td>3</td><td>19</td><td>&quot;sct_1220561009…</td><td>null</td><td>&quot;sct_1220561009…</td><td>&quot;sct_1220561009…</td><td>&quot;sct_1220561009…</td><td>&quot;ORPHA:71529&quot;</td><td>null</td><td>&quot;E66.8&quot;</td><td>&quot;sct_1220561009…</td><td>null</td><td>null</td><td>&hellip;</td><td>null</td><td>null</td><td>&quot;sct_1220561009…</td><td>null</td><td>null</td><td>null</td><td>null</td><td>null</td><td>null</td><td>null</td><td>null</td><td>null</td><td>null</td><td>null</td><td>null</td><td>null</td><td>null</td><td>null</td><td>null</td><td>null</td><td>null</td><td>null</td><td>null</td><td>&quot;sct_1220561009…</td><td>&quot;sct_1220561009…</td><td>&quot;sct_1220561009…</td><td>&quot;sct_1220561009…</td><td>&quot;sct_1220561009…</td><td>&quot;sct_1220561009…</td><td>&quot;sct_1220561009…</td><td>&quot;sct_1220561009…</td><td>&quot;sct_1220561009…</td><td>&quot;sct_1220561009…</td><td>null</td><td>&quot;sct_1220561009…</td><td>null</td><td>null</td></tr><tr><td>2</td><td>&quot;234BC&quot;</td><td>null</td><td>2001</td><td>null</td><td>&quot;sct_248153007&quot;</td><td>null</td><td>&quot;sct_90027003&quot;</td><td>&quot;CS_MII_Person_…</td><td>null</td><td>null</td><td>&quot;sct_263659003&quot;</td><td>&quot;sct_1220561009…</td><td>null</td><td>null</td><td>&quot;2011-10-21&quot;</td><td>&quot;sct_1220561009…</td><td>null</td><td>&quot;sct_261665006&quot;</td><td>null</td><td>null</td><td>null</td><td>&quot;sct_410672004&quot;</td><td>2009</td><td>7</td><td>24</td><td>&quot;sct_1220561009…</td><td>null</td><td>&quot;sct_1220561009…</td><td>&quot;sct_1220561009…</td><td>&quot;sct_373067005&quot;</td><td>&quot;ORPHA:71529&quot;</td><td>null</td><td>&quot;E66.8&quot;</td><td>&quot;sct_1220561009…</td><td>null</td><td>null</td><td>&hellip;</td><td>null</td><td>null</td><td>&quot;sct_1220561009…</td><td>null</td><td>null</td><td>null</td><td>null</td><td>null</td><td>null</td><td>null</td><td>null</td><td>null</td><td>null</td><td>null</td><td>null</td><td>null</td><td>null</td><td>null</td><td>null</td><td>null</td><td>null</td><td>null</td><td>null</td><td>&quot;sct_1220561009…</td><td>&quot;sct_1220561009…</td><td>&quot;sct_1220561009…</td><td>&quot;sct_1220561009…</td><td>&quot;sct_1220561009…</td><td>&quot;sct_1220561009…</td><td>&quot;sct_1220561009…</td><td>&quot;sct_1220561009…</td><td>&quot;sct_1220561009…</td><td>&quot;sct_1220561009…</td><td>null</td><td>&quot;sct_1220561009…</td><td>null</td><td>null</td></tr><tr><td>3</td><td>&quot;345CD&quot;</td><td>null</td><td>2002</td><td>null</td><td>&quot;sct_248152002&quot;</td><td>null</td><td>&quot;sct_90027003&quot;</td><td>&quot;CS_MII_Person_…</td><td>null</td><td>null</td><td>&quot;sct_41847000&quot;</td><td>&quot;sct_1220561009…</td><td>null</td><td>null</td><td>&quot;2004-5-21&quot;</td><td>&quot;sct_1220561009…</td><td>null</td><td>&quot;sct_261665006&quot;</td><td>null</td><td>null</td><td>null</td><td>&quot;sct_410672004&quot;</td><td>null</td><td>null</td><td>null</td><td>&quot;sct_1220561009…</td><td>null</td><td>&quot;sct_1220561009…</td><td>&quot;sct_1220561009…</td><td>&quot;sct_373067005&quot;</td><td>&quot;ORPHA:71529&quot;</td><td>null</td><td>&quot;E66.8&quot;</td><td>&quot;sct_1220561009…</td><td>null</td><td>null</td><td>&hellip;</td><td>null</td><td>null</td><td>&quot;sct_1220561009…</td><td>null</td><td>null</td><td>null</td><td>null</td><td>null</td><td>null</td><td>null</td><td>null</td><td>null</td><td>null</td><td>null</td><td>null</td><td>null</td><td>null</td><td>null</td><td>null</td><td>null</td><td>null</td><td>null</td><td>null</td><td>&quot;sct_1220561009…</td><td>&quot;sct_1220561009…</td><td>&quot;sct_1220561009…</td><td>&quot;sct_1220561009…</td><td>&quot;sct_1220561009…</td><td>&quot;sct_1220561009…</td><td>&quot;sct_1220561009…</td><td>&quot;sct_1220561009…</td><td>&quot;sct_1220561009…</td><td>&quot;sct_1220561009…</td><td>null</td><td>&quot;sct_1220561009…</td><td>null</td><td>null</td></tr><tr><td>4</td><td>&quot;456DE&quot;</td><td>null</td><td>2005</td><td>null</td><td>&quot;sct_248152002&quot;</td><td>null</td><td>&quot;sct_14045001&quot;</td><td>&quot;CS_MII_Person_…</td><td>null</td><td>null</td><td>&quot;sct_41847000&quot;</td><td>&quot;sct_1220561009…</td><td>null</td><td>null</td><td>&quot;2017-2-18&quot;</td><td>&quot;sct_1220561009…</td><td>null</td><td>&quot;sct_261665006&quot;</td><td>null</td><td>null</td><td>null</td><td>&quot;sct_261665006&quot;</td><td>2016</td><td>14</td><td>19</td><td>&quot;sct_1220561009…</td><td>null</td><td>&quot;sct_1220561009…</td><td>&quot;sct_1220561009…</td><td>&quot;sct_1220561009…</td><td>&quot;ORPHA:71529&quot;</td><td>null</td><td>&quot;E66.8&quot;</td><td>&quot;sct_1220561009…</td><td>null</td><td>null</td><td>&hellip;</td><td>null</td><td>null</td><td>&quot;sct_1220561009…</td><td>null</td><td>null</td><td>null</td><td>null</td><td>null</td><td>null</td><td>null</td><td>null</td><td>null</td><td>null</td><td>null</td><td>null</td><td>null</td><td>null</td><td>null</td><td>null</td><td>null</td><td>null</td><td>null</td><td>null</td><td>&quot;sct_1220561009…</td><td>&quot;sct_1220561009…</td><td>&quot;sct_1220561009…</td><td>&quot;sct_1220561009…</td><td>&quot;sct_1220561009…</td><td>&quot;sct_1220561009…</td><td>&quot;sct_1220561009…</td><td>&quot;sct_1220561009…</td><td>&quot;sct_1220561009…</td><td>&quot;sct_1220561009…</td><td>null</td><td>&quot;sct_1220561009…</td><td>null</td><td>null</td></tr><tr><td>5</td><td>&quot;567EF&quot;</td><td>null</td><td>1999</td><td>null</td><td>&quot;sct_248153007&quot;</td><td>null</td><td>&quot;sct_372148003_…</td><td>&quot;CS_MII_Person_…</td><td>null</td><td>null</td><td>&quot;sct_263659003&quot;</td><td>&quot;sct_1220561009…</td><td>null</td><td>null</td><td>&quot;20011-6-14&quot;</td><td>&quot;sct_1220561009…</td><td>null</td><td>&quot;sct_261665006&quot;</td><td>null</td><td>null</td><td>null</td><td>&quot;sct_261665006&quot;</td><td>2009</td><td>9</td><td>14</td><td>&quot;sct_1220561009…</td><td>null</td><td>&quot;sct_1220561009…</td><td>&quot;sct_1220561009…</td><td>&quot;sct_373066001&quot;</td><td>&quot;ORPHA:71529&quot;</td><td>null</td><td>&quot;E66.8&quot;</td><td>&quot;sct_1220561009…</td><td>null</td><td>null</td><td>&hellip;</td><td>null</td><td>null</td><td>&quot;sct_1220561009…</td><td>null</td><td>null</td><td>null</td><td>null</td><td>null</td><td>null</td><td>null</td><td>null</td><td>null</td><td>null</td><td>null</td><td>null</td><td>null</td><td>null</td><td>null</td><td>null</td><td>null</td><td>null</td><td>null</td><td>null</td><td>&quot;sct_1220561009…</td><td>&quot;sct_1220561009…</td><td>&quot;sct_1220561009…</td><td>&quot;sct_1220561009…</td><td>&quot;sct_1220561009…</td><td>&quot;sct_1220561009…</td><td>&quot;sct_1220561009…</td><td>&quot;sct_1220561009…</td><td>&quot;sct_1220561009…</td><td>&quot;sct_1220561009…</td><td>null</td><td>&quot;sct_1220561009…</td><td>null</td><td>null</td></tr></tbody></table></div>"
     },
     "execution_count": 4,
     "metadata": {},
     "output_type": "execute_result"
    }
   ],
   "source": [
    "df = pl.read_csv(path)\n",
    "df.head(5)"
   ]
  },
  {
   "cell_type": "markdown",
   "source": [
    "## Preprocessing\n",
    "- remove null colus\n",
    "- clean up data\n",
    "- add id col to data (col name `'mc4r_id'`)"
   ],
   "metadata": {
    "collapsed": false
   }
  },
  {
   "cell_type": "code",
   "execution_count": null,
   "outputs": [],
   "source": [
    "# Todo\n",
    "df.head(5)"
   ],
   "metadata": {
    "collapsed": false
   }
  },
  {
   "cell_type": "markdown",
   "metadata": {
    "collapsed": false
   },
   "source": [
    "## Map to phenopackets"
   ]
  },
  {
   "cell_type": "code",
   "execution_count": 7,
   "metadata": {
    "collapsed": false
   },
   "outputs": [
    {
     "ename": "TypeError",
     "evalue": "Timestamp() takes no arguments",
     "output_type": "error",
     "traceback": [
      "\u001B[1;31m---------------------------------------------------------------------------\u001B[0m",
      "\u001B[1;31mTypeError\u001B[0m                                 Traceback (most recent call last)",
      "Cell \u001B[1;32mIn[7], line 1\u001B[0m\n\u001B[1;32m----> 1\u001B[0m phenopackets \u001B[38;5;241m=\u001B[39m \u001B[43mmap_erker2phenopackets\u001B[49m\u001B[43m(\u001B[49m\u001B[43mdf\u001B[49m\u001B[43m,\u001B[49m\u001B[43m \u001B[49m\u001B[43mcreated_by\u001B[49m\u001B[38;5;241;43m=\u001B[39;49m\u001B[43mcreated_by\u001B[49m\u001B[43m)\u001B[49m\n",
      "File \u001B[1;32m~\\OneDrive\\Documents\\DataSpell\\ERKER2Phenopackets\\src\\erker_mapping\\MapERKER2Phenopackets.py:37\u001B[0m, in \u001B[0;36mmap_erker2phenopackets\u001B[1;34m(df, created_by)\u001B[0m\n\u001B[0;32m     35\u001B[0m \u001B[38;5;28;01mfor\u001B[39;00m i, row \u001B[38;5;129;01min\u001B[39;00m \u001B[38;5;28menumerate\u001B[39m(df\u001B[38;5;241m.\u001B[39mrows(named\u001B[38;5;241m=\u001B[39m\u001B[38;5;28;01mTrue\u001B[39;00m)):\n\u001B[0;32m     36\u001B[0m     phenopacket_id \u001B[38;5;241m=\u001B[39m \u001B[38;5;124mf\u001B[39m\u001B[38;5;124m'\u001B[39m\u001B[38;5;124mERKER_pp_\u001B[39m\u001B[38;5;132;01m{\u001B[39;00mi\u001B[38;5;132;01m}\u001B[39;00m\u001B[38;5;124m'\u001B[39m  \u001B[38;5;66;03m# TODO: come up with a better ID\u001B[39;00m\n\u001B[1;32m---> 37\u001B[0m     phenopacket \u001B[38;5;241m=\u001B[39m \u001B[43mmap_erker_row2phenopacket\u001B[49m\u001B[43m(\u001B[49m\n\u001B[0;32m     38\u001B[0m \u001B[43m        \u001B[49m\u001B[43mphenopacket_id\u001B[49m\u001B[43m,\u001B[49m\u001B[43m \u001B[49m\u001B[43mrow\u001B[49m\u001B[43m,\u001B[49m\u001B[43m \u001B[49m\u001B[43mresources\u001B[49m\u001B[43m,\u001B[49m\u001B[43m \u001B[49m\u001B[43mcreated_by\u001B[49m\n\u001B[0;32m     39\u001B[0m \u001B[43m    \u001B[49m\u001B[43m)\u001B[49m\n\u001B[0;32m     40\u001B[0m     erker_phenopackets\u001B[38;5;241m.\u001B[39mappend(phenopacket)\n\u001B[0;32m     42\u001B[0m \u001B[38;5;28mprint\u001B[39m(\u001B[38;5;124mf\u001B[39m\u001B[38;5;124m'\u001B[39m\u001B[38;5;124mMapped \u001B[39m\u001B[38;5;132;01m{\u001B[39;00m\u001B[38;5;28mlen\u001B[39m(erker_phenopackets)\u001B[38;5;132;01m}\u001B[39;00m\u001B[38;5;124m phenopackets\u001B[39m\u001B[38;5;124m'\u001B[39m)\n",
      "File \u001B[1;32m~\\OneDrive\\Documents\\DataSpell\\ERKER2Phenopackets\\src\\erker_mapping\\MapERKER2Phenopackets.py:63\u001B[0m, in \u001B[0;36mmap_erker_row2phenopacket\u001B[1;34m(phenopacket_id, row, resources, created_by)\u001B[0m\n\u001B[0;32m     46\u001B[0m \u001B[38;5;28;01mdef\u001B[39;00m \u001B[38;5;21mmap_erker_row2phenopacket\u001B[39m(\n\u001B[0;32m     47\u001B[0m         phenopacket_id: \u001B[38;5;28mstr\u001B[39m, row: Dict[\u001B[38;5;28mstr\u001B[39m, Any],\n\u001B[0;32m     48\u001B[0m         resources: List[Resource], created_by: \u001B[38;5;28mstr\u001B[39m) \u001B[38;5;241m-\u001B[39m\u001B[38;5;241m>\u001B[39m Phenopacket:\n\u001B[0;32m     49\u001B[0m     \u001B[38;5;124;03m\"\"\"Maps a row from the ERKER data to a Phenopacket.\u001B[39;00m\n\u001B[0;32m     50\u001B[0m \n\u001B[0;32m     51\u001B[0m \u001B[38;5;124;03m    :param phenopacket_id: The ID of the phenopacket.\u001B[39;00m\n\u001B[1;32m   (...)\u001B[0m\n\u001B[0;32m     60\u001B[0m \u001B[38;5;124;03m    :rtype: Phenopacket\u001B[39;00m\n\u001B[0;32m     61\u001B[0m \u001B[38;5;124;03m    \"\"\"\u001B[39;00m\n\u001B[1;32m---> 63\u001B[0m     subject \u001B[38;5;241m=\u001B[39m \u001B[43m_create_subject\u001B[49m\u001B[43m(\u001B[49m\u001B[43mphenopacket_id\u001B[49m\u001B[43m,\u001B[49m\u001B[43m \u001B[49m\u001B[43mrow\u001B[49m\u001B[43m)\u001B[49m\n\u001B[0;32m     65\u001B[0m     \u001B[38;5;66;03m# TODO: this does not require any patient specific data, move it out of the loop\u001B[39;00m\n\u001B[0;32m     66\u001B[0m     phenotypic_features \u001B[38;5;241m=\u001B[39m _create_phenotypic_features()\n",
      "File \u001B[1;32m~\\OneDrive\\Documents\\DataSpell\\ERKER2Phenopackets\\src\\erker_mapping\\MapERKER2Phenopackets.py:137\u001B[0m, in \u001B[0;36m_create_subject\u001B[1;34m(phenopacket_id, row)\u001B[0m\n\u001B[0;32m    124\u001B[0m \u001B[38;5;124;03m\"\"\"Creates the Individual block of a Phenopacket.\u001B[39;00m\n\u001B[0;32m    125\u001B[0m \n\u001B[0;32m    126\u001B[0m \u001B[38;5;124;03m:param phenopacket_id: The id of the phenopacket.\u001B[39;00m\n\u001B[1;32m   (...)\u001B[0m\n\u001B[0;32m    131\u001B[0m \u001B[38;5;124;03m:rtype: Individual\u001B[39;00m\n\u001B[0;32m    132\u001B[0m \u001B[38;5;124;03m\"\"\"\u001B[39;00m\n\u001B[0;32m    133\u001B[0m \u001B[38;5;66;03m# TODO: The elements we may consider adding:\u001B[39;00m\n\u001B[0;32m    134\u001B[0m \u001B[38;5;66;03m#  age at last encounter, vital status, karyotypic sex, gender\u001B[39;00m\n\u001B[0;32m    135\u001B[0m subject \u001B[38;5;241m=\u001B[39m Individual(\n\u001B[0;32m    136\u001B[0m     \u001B[38;5;28mid\u001B[39m\u001B[38;5;241m=\u001B[39mphenopacket_id,  \u001B[38;5;66;03m# TODO: is this a valid id here?\u001B[39;00m\n\u001B[1;32m--> 137\u001B[0m     date_of_birth\u001B[38;5;241m=\u001B[39m\u001B[43mparse_erker_date_of_birth\u001B[49m\u001B[43m(\u001B[49m\u001B[43mrow\u001B[49m\u001B[43m[\u001B[49m\u001B[38;5;124;43m'\u001B[39;49m\u001B[38;5;124;43msct_184099003_y\u001B[39;49m\u001B[38;5;124;43m'\u001B[39;49m\u001B[43m]\u001B[49m\u001B[43m)\u001B[49m,\n\u001B[0;32m    138\u001B[0m     sex\u001B[38;5;241m=\u001B[39mparse_erker_sex(row[\u001B[38;5;124m'\u001B[39m\u001B[38;5;124msct_281053000\u001B[39m\u001B[38;5;124m'\u001B[39m]),\n\u001B[0;32m    139\u001B[0m     taxonomy\u001B[38;5;241m=\u001B[39mOntologyClass(\u001B[38;5;28mid\u001B[39m\u001B[38;5;241m=\u001B[39m\u001B[38;5;124m'\u001B[39m\u001B[38;5;124mNCBITaxon:9606\u001B[39m\u001B[38;5;124m'\u001B[39m, label\u001B[38;5;241m=\u001B[39m\u001B[38;5;124m'\u001B[39m\u001B[38;5;124mHomo sapiens\u001B[39m\u001B[38;5;124m'\u001B[39m)\n\u001B[0;32m    140\u001B[0m )\n\u001B[0;32m    142\u001B[0m \u001B[38;5;28;01mreturn\u001B[39;00m subject\n",
      "File \u001B[1;32m~\\OneDrive\\Documents\\DataSpell\\ERKER2Phenopackets\\src\\erker_mapping\\ParseErker.py:37\u001B[0m, in \u001B[0;36mparse_erker_date_of_birth\u001B[1;34m(age)\u001B[0m\n\u001B[0;32m     35\u001B[0m seconds \u001B[38;5;241m=\u001B[39m math\u001B[38;5;241m.\u001B[39mfloor(ts)\n\u001B[0;32m     36\u001B[0m nanos \u001B[38;5;241m=\u001B[39m math\u001B[38;5;241m.\u001B[39mfloor((ts \u001B[38;5;241m-\u001B[39m seconds) \u001B[38;5;241m*\u001B[39m \u001B[38;5;241m1e9\u001B[39m)\n\u001B[1;32m---> 37\u001B[0m \u001B[38;5;28;01mreturn\u001B[39;00m \u001B[43mTimestamp\u001B[49m\u001B[43m(\u001B[49m\u001B[43mseconds\u001B[49m\u001B[38;5;241;43m=\u001B[39;49m\u001B[43mseconds\u001B[49m\u001B[43m,\u001B[49m\u001B[43m \u001B[49m\u001B[43mnanos\u001B[49m\u001B[38;5;241;43m=\u001B[39;49m\u001B[43mnanos\u001B[49m\u001B[43m)\u001B[49m\n",
      "\u001B[1;31mTypeError\u001B[0m: Timestamp() takes no arguments"
     ]
    }
   ],
   "source": [
    "phenopackets = map_erker2phenopackets(df, created_by=created_by)"
   ]
  },
  {
   "cell_type": "markdown",
   "metadata": {},
   "source": [
    "## Write to json"
   ]
  },
  {
   "cell_type": "code",
   "execution_count": null,
   "metadata": {
    "ExecuteTime": {
     "end_time": "2023-08-30T16:59:04.142928Z",
     "start_time": "2023-08-30T16:59:04.048972Z"
    },
    "collapsed": false
   },
   "outputs": [],
   "source": [
    "cur_time = datetime.now().strftime(\"%Y%m%d-%H%M%S\")\n",
    "phenopackets_out_dir = phenopackets_out / cur_time\n",
    "\n",
    "write_phenopackets(phenopackets, phenopackets_out_dir)"
   ]
  },
  {
   "cell_type": "code",
   "execution_count": null,
   "metadata": {},
   "outputs": [],
   "source": []
  },
  {
   "cell_type": "code",
   "execution_count": null,
   "metadata": {},
   "outputs": [],
   "source": []
  },
  {
   "cell_type": "code",
   "execution_count": null,
   "metadata": {},
   "outputs": [],
   "source": []
  }
 ],
 "metadata": {
  "kernelspec": {
   "display_name": "Python 3 (ipykernel)",
   "language": "python",
   "name": "python3"
  },
  "language_info": {
   "codemirror_mode": {
    "name": "ipython",
    "version": 3
   },
   "file_extension": ".py",
   "mimetype": "text/x-python",
   "name": "python",
   "nbconvert_exporter": "python",
   "pygments_lexer": "ipython3",
   "version": "3.10.6"
  },
  "orig_nbformat": 4
 },
 "nbformat": 4,
 "nbformat_minor": 2
}
