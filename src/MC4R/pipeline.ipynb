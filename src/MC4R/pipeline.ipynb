{
 "cells": [
  {
   "cell_type": "code",
   "execution_count": 50,
   "metadata": {
    "ExecuteTime": {
     "end_time": "2023-08-31T16:35:28.993929Z",
     "start_time": "2023-08-31T16:35:28.868428Z"
    }
   },
   "outputs": [],
   "source": [
    "import polars as pl # the same as pandas just faster\n",
    "\n",
    "import configparser\n",
    "from pathlib import Path\n",
    "from datetime import datetime\n",
    "import sys\n",
    "\n",
    "sys.path.append('../..') # for imports to work\n",
    "from src.utils import write_files\n",
    "from src.MC4R import map_mc4r2phenopackets\n",
    "from src.utils import PolarsUtils"
   ]
  },
  {
   "cell_type": "markdown",
   "metadata": {},
   "source": [
    "### Get path to notebook from config file"
   ]
  },
  {
   "cell_type": "code",
   "execution_count": 51,
   "metadata": {
    "ExecuteTime": {
     "end_time": "2023-08-31T16:35:29.056631Z",
     "start_time": "2023-08-31T16:35:28.884050Z"
    }
   },
   "outputs": [],
   "source": [
    "config = configparser.ConfigParser()\n",
    "config.read('../../data/config/config.cfg')\n",
    "real_data = True\n",
    "\n",
    "if real_data:\n",
    "    path = Path(config.get('Paths', 'mc4r_path')) \n",
    "else:\n",
    "    path = Path(config.get('Paths', 'synth_data_path'))\n",
    "\n",
    "phenopackets_out = Path(config.get('Paths', 'phenopackets_out'))"
   ]
  },
  {
   "cell_type": "markdown",
   "metadata": {
    "collapsed": false
   },
   "source": [
    "### Set Creator Tag"
   ]
  },
  {
   "cell_type": "code",
   "execution_count": 52,
   "metadata": {
    "ExecuteTime": {
     "end_time": "2023-08-31T16:35:29.056631Z",
     "start_time": "2023-08-31T16:35:28.899673Z"
    },
    "collapsed": false
   },
   "outputs": [
    {
     "name": "stdout",
     "output_type": "stream",
     "text": [
      "Creator tag: P. Robinson, MD, D. Danis, PhD, A. Graefe, F. Rehburg\n"
     ]
    }
   ],
   "source": [
    "created_by = config.get('Creator', 'creator_tag')\n",
    "\n",
    "print(f'Creator tag: {created_by}')"
   ]
  },
  {
   "cell_type": "markdown",
   "metadata": {},
   "source": [
    "### Read data in"
   ]
  },
  {
   "cell_type": "code",
   "execution_count": 53,
   "metadata": {
    "ExecuteTime": {
     "end_time": "2023-08-31T16:35:29.056631Z",
     "start_time": "2023-08-31T16:35:28.915354Z"
    }
   },
   "outputs": [
    {
     "data": {
      "text/html": [
       "<div><style>\n",
       ".dataframe > thead > tr > th,\n",
       ".dataframe > tbody > tr > td {\n",
       "  text-align: right;\n",
       "}\n",
       "</style>\n",
       "<small>shape: (5, 317)</small><table border=\"1\" class=\"dataframe\"><thead><tr><th>record_id</th><th>sct_422549004</th><th>sct_399423000</th><th>sct_184099003_y</th><th>sct_281053000</th><th>sct_263495000</th><th>sct_315354004</th><th>sct_364699009</th><th>sct_278844005</th><th>sct_399753006</th><th>sct_420259009</th><th>sct_767023003</th><th>sct_184305005_rd</th><th>sct_16100001</th><th>sct_16100001_source</th><th>sct_769681006_center</th><th>sct_440377005</th><th>sct_276239002_aim</th><th>sct_424850005</th><th>sct_405795006_y</th><th>sct_405795006_m</th><th>sct_405795006_d</th><th>sct_423493009</th><th>sct_432213005_y</th><th>sct_432213005_m</th><th>sct_432213005_d</th><th>sct_717800004</th><th>sct_412726003</th><th>sct_64245008</th><th>sct_125679009_proposit</th><th>sct_842009</th><th>sct_439401001_orpha</th><th>sct_439401001_orpha_sub</th><th>sct_439401001_icd10gm</th><th>sct_439401001_alphaid</th><th>sct_439401001_alphaidstr</th><th>sct_38866009</th><th>&hellip;</th><th>sct_82101005_10_age</th><th>sct_82101005_10_gender</th><th>sct_75226009_rd</th><th>sct_75226009_1_age</th><th>sct_75226009_1_gender</th><th>sct_75226009_2_age</th><th>sct_75226009_2_gender</th><th>sct_75226009_3_age</th><th>sct_75226009_3_gender</th><th>sct_75226009_4_age</th><th>sct_75226009_4_gender</th><th>sct_75226009_5_age</th><th>sct_75226009_5_gender</th><th>sct_75226009_6_age</th><th>sct_75226009_6_gender</th><th>sct_75226009_7_age</th><th>sct_75226009_7_gender</th><th>sct_75226009_8_age</th><th>sct_75226009_8_gender</th><th>sct_75226009_9_age</th><th>sct_75226009_9_gender</th><th>sct_75226009_10_age</th><th>sct_75226009_10_gender</th><th>sct_309370004_research</th><th>sct_309370004_narse</th><th>sct_309370004_data</th><th>sct_309370004_eu</th><th>sct_309370004_int</th><th>sct_309370004_aff</th><th>sct_309370004_gen</th><th>sct_309370004_case</th><th>sct_123038009</th><th>sct_840566006</th><th>sct_840566006_specific</th><th>sct_21134002_class</th><th>sct_21134002_score</th><th>erker_v15_complete</th></tr><tr><td>i64</td><td>str</td><td>str</td><td>i64</td><td>str</td><td>str</td><td>str</td><td>str</td><td>str</td><td>str</td><td>str</td><td>str</td><td>str</td><td>str</td><td>str</td><td>str</td><td>str</td><td>str</td><td>str</td><td>str</td><td>str</td><td>str</td><td>str</td><td>i64</td><td>i64</td><td>i64</td><td>str</td><td>str</td><td>str</td><td>str</td><td>str</td><td>str</td><td>str</td><td>str</td><td>str</td><td>str</td><td>str</td><td>&hellip;</td><td>str</td><td>str</td><td>str</td><td>str</td><td>str</td><td>str</td><td>str</td><td>str</td><td>str</td><td>str</td><td>str</td><td>str</td><td>str</td><td>str</td><td>str</td><td>str</td><td>str</td><td>str</td><td>str</td><td>str</td><td>str</td><td>str</td><td>str</td><td>str</td><td>str</td><td>str</td><td>str</td><td>str</td><td>str</td><td>str</td><td>str</td><td>str</td><td>str</td><td>str</td><td>str</td><td>str</td><td>str</td></tr></thead><tbody><tr><td>1</td><td>&quot;FA062&quot;</td><td>null</td><td>2001</td><td>&quot;sct_248153007&quot;</td><td>null</td><td>null</td><td>&quot;sct_90027003&quot;</td><td>&quot;CS_MII_Person_…</td><td>null</td><td>null</td><td>&quot;sct_41847000&quot;</td><td>&quot;sct_1220561009…</td><td>null</td><td>null</td><td>&quot;2007-13-24&quot;</td><td>&quot;sct_1220561009…</td><td>null</td><td>&quot;sct_261665006&quot;</td><td>null</td><td>null</td><td>null</td><td>&quot;sct_410672004&quot;</td><td>2008</td><td>1</td><td>23</td><td>&quot;sct_1220561009…</td><td>null</td><td>&quot;sct_1220561009…</td><td>&quot;sct_1220561009…</td><td>&quot;sct_373066001&quot;</td><td>&quot;ORPHA:71529&quot;</td><td>null</td><td>&quot;E66.8&quot;</td><td>&quot;sct_1220561009…</td><td>null</td><td>null</td><td>&hellip;</td><td>null</td><td>null</td><td>&quot;sct_1220561009…</td><td>null</td><td>null</td><td>null</td><td>null</td><td>null</td><td>null</td><td>null</td><td>null</td><td>null</td><td>null</td><td>null</td><td>null</td><td>null</td><td>null</td><td>null</td><td>null</td><td>null</td><td>null</td><td>null</td><td>null</td><td>&quot;sct_1220561009…</td><td>&quot;sct_1220561009…</td><td>&quot;sct_1220561009…</td><td>&quot;sct_1220561009…</td><td>&quot;sct_1220561009…</td><td>&quot;sct_1220561009…</td><td>&quot;sct_1220561009…</td><td>&quot;sct_1220561009…</td><td>&quot;sct_1220561009…</td><td>&quot;sct_1220561009…</td><td>null</td><td>&quot;sct_1220561009…</td><td>null</td><td>null</td></tr><tr><td>2</td><td>&quot;YA074&quot;</td><td>null</td><td>2002</td><td>&quot;sct_248152002&quot;</td><td>null</td><td>null</td><td>&quot;sct_372148003_…</td><td>&quot;CS_MII_Person_…</td><td>null</td><td>null</td><td>&quot;sct_41847000&quot;</td><td>&quot;sct_1220561009…</td><td>null</td><td>null</td><td>&quot;2011-10-21&quot;</td><td>&quot;sct_1220561009…</td><td>null</td><td>&quot;sct_261665006&quot;</td><td>null</td><td>null</td><td>null</td><td>&quot;sct_410672004&quot;</td><td>2011</td><td>4</td><td>18</td><td>&quot;sct_1220561009…</td><td>null</td><td>&quot;sct_1220561009…</td><td>&quot;sct_1220561009…</td><td>&quot;sct_1220561009…</td><td>&quot;ORPHA:71529&quot;</td><td>null</td><td>&quot;E66.8&quot;</td><td>&quot;sct_1220561009…</td><td>null</td><td>null</td><td>&hellip;</td><td>null</td><td>null</td><td>&quot;sct_1220561009…</td><td>null</td><td>null</td><td>null</td><td>null</td><td>null</td><td>null</td><td>null</td><td>null</td><td>null</td><td>null</td><td>null</td><td>null</td><td>null</td><td>null</td><td>null</td><td>null</td><td>null</td><td>null</td><td>null</td><td>null</td><td>&quot;sct_1220561009…</td><td>&quot;sct_1220561009…</td><td>&quot;sct_1220561009…</td><td>&quot;sct_1220561009…</td><td>&quot;sct_1220561009…</td><td>&quot;sct_1220561009…</td><td>&quot;sct_1220561009…</td><td>&quot;sct_1220561009…</td><td>&quot;sct_1220561009…</td><td>&quot;sct_1220561009…</td><td>null</td><td>&quot;sct_1220561009…</td><td>null</td><td>null</td></tr><tr><td>3</td><td>&quot;SA099&quot;</td><td>null</td><td>2002</td><td>&quot;sct_248153007&quot;</td><td>null</td><td>null</td><td>&quot;sct_14045001&quot;</td><td>&quot;CS_MII_Person_…</td><td>null</td><td>null</td><td>&quot;sct_41847000&quot;</td><td>&quot;sct_1220561009…</td><td>null</td><td>null</td><td>&quot;2002-7-23&quot;</td><td>&quot;sct_1220561009…</td><td>null</td><td>&quot;sct_261665006&quot;</td><td>null</td><td>null</td><td>null</td><td>&quot;sct_261665006&quot;</td><td>null</td><td>null</td><td>null</td><td>&quot;sct_1220561009…</td><td>null</td><td>&quot;sct_1220561009…</td><td>&quot;sct_1220561009…</td><td>&quot;sct_1220561009…</td><td>&quot;ORPHA:71529&quot;</td><td>null</td><td>&quot;E66.8&quot;</td><td>&quot;sct_1220561009…</td><td>null</td><td>null</td><td>&hellip;</td><td>null</td><td>null</td><td>&quot;sct_1220561009…</td><td>null</td><td>null</td><td>null</td><td>null</td><td>null</td><td>null</td><td>null</td><td>null</td><td>null</td><td>null</td><td>null</td><td>null</td><td>null</td><td>null</td><td>null</td><td>null</td><td>null</td><td>null</td><td>null</td><td>null</td><td>&quot;sct_1220561009…</td><td>&quot;sct_1220561009…</td><td>&quot;sct_1220561009…</td><td>&quot;sct_1220561009…</td><td>&quot;sct_1220561009…</td><td>&quot;sct_1220561009…</td><td>&quot;sct_1220561009…</td><td>&quot;sct_1220561009…</td><td>&quot;sct_1220561009…</td><td>&quot;sct_1220561009…</td><td>null</td><td>&quot;sct_1220561009…</td><td>null</td><td>null</td></tr><tr><td>4</td><td>&quot;EA102&quot;</td><td>null</td><td>2007</td><td>&quot;sct_248152002&quot;</td><td>null</td><td>null</td><td>&quot;sct_372148003_…</td><td>&quot;CS_MII_Person_…</td><td>null</td><td>null</td><td>&quot;sct_263659003&quot;</td><td>&quot;sct_1220561009…</td><td>null</td><td>null</td><td>&quot;2018-9-26&quot;</td><td>&quot;sct_1220561009…</td><td>null</td><td>&quot;sct_261665006&quot;</td><td>null</td><td>null</td><td>null</td><td>&quot;sct_410672004&quot;</td><td>2018</td><td>10</td><td>17</td><td>&quot;sct_1220561009…</td><td>null</td><td>&quot;sct_1220561009…</td><td>&quot;sct_1220561009…</td><td>&quot;sct_373067005&quot;</td><td>&quot;ORPHA:71529&quot;</td><td>null</td><td>&quot;E66.8&quot;</td><td>&quot;sct_1220561009…</td><td>null</td><td>null</td><td>&hellip;</td><td>null</td><td>null</td><td>&quot;sct_1220561009…</td><td>null</td><td>null</td><td>null</td><td>null</td><td>null</td><td>null</td><td>null</td><td>null</td><td>null</td><td>null</td><td>null</td><td>null</td><td>null</td><td>null</td><td>null</td><td>null</td><td>null</td><td>null</td><td>null</td><td>null</td><td>&quot;sct_1220561009…</td><td>&quot;sct_1220561009…</td><td>&quot;sct_1220561009…</td><td>&quot;sct_1220561009…</td><td>&quot;sct_1220561009…</td><td>&quot;sct_1220561009…</td><td>&quot;sct_1220561009…</td><td>&quot;sct_1220561009…</td><td>&quot;sct_1220561009…</td><td>&quot;sct_1220561009…</td><td>null</td><td>&quot;sct_1220561009…</td><td>null</td><td>null</td></tr><tr><td>5</td><td>&quot;AA070&quot;</td><td>null</td><td>2000</td><td>&quot;sct_248152002&quot;</td><td>null</td><td>null</td><td>&quot;sct_372148003_…</td><td>&quot;CS_MII_Person_…</td><td>null</td><td>null</td><td>&quot;sct_41847000&quot;</td><td>&quot;sct_1220561009…</td><td>null</td><td>null</td><td>&quot;2009-4-17&quot;</td><td>&quot;sct_1220561009…</td><td>null</td><td>&quot;sct_261665006&quot;</td><td>null</td><td>null</td><td>null</td><td>&quot;sct_410672004&quot;</td><td>2009</td><td>7</td><td>5</td><td>&quot;sct_1220561009…</td><td>null</td><td>&quot;sct_1220561009…</td><td>&quot;sct_1220561009…</td><td>&quot;sct_1220561009…</td><td>&quot;ORPHA:71529&quot;</td><td>null</td><td>&quot;E66.8&quot;</td><td>&quot;sct_1220561009…</td><td>null</td><td>null</td><td>&hellip;</td><td>null</td><td>null</td><td>&quot;sct_1220561009…</td><td>null</td><td>null</td><td>null</td><td>null</td><td>null</td><td>null</td><td>null</td><td>null</td><td>null</td><td>null</td><td>null</td><td>null</td><td>null</td><td>null</td><td>null</td><td>null</td><td>null</td><td>null</td><td>null</td><td>null</td><td>&quot;sct_1220561009…</td><td>&quot;sct_1220561009…</td><td>&quot;sct_1220561009…</td><td>&quot;sct_1220561009…</td><td>&quot;sct_1220561009…</td><td>&quot;sct_1220561009…</td><td>&quot;sct_1220561009…</td><td>&quot;sct_1220561009…</td><td>&quot;sct_1220561009…</td><td>&quot;sct_1220561009…</td><td>null</td><td>&quot;sct_1220561009…</td><td>null</td><td>null</td></tr></tbody></table></div>"
      ],
      "text/plain": [
       "shape: (5, 317)\n",
       "┌───────────┬───────────┬───────────┬───────────┬───┬───────────┬───────────┬───────────┬──────────┐\n",
       "│ record_id ┆ sct_42254 ┆ sct_39942 ┆ sct_18409 ┆ … ┆ sct_84056 ┆ sct_21134 ┆ sct_21134 ┆ erker_v1 │\n",
       "│ ---       ┆ 9004      ┆ 3000      ┆ 9003_y    ┆   ┆ 6006_spec ┆ 002_class ┆ 002_score ┆ 5_comple │\n",
       "│ i64       ┆ ---       ┆ ---       ┆ ---       ┆   ┆ ific      ┆ ---       ┆ ---       ┆ te       │\n",
       "│           ┆ str       ┆ str       ┆ i64       ┆   ┆ ---       ┆ str       ┆ str       ┆ ---      │\n",
       "│           ┆           ┆           ┆           ┆   ┆ str       ┆           ┆           ┆ str      │\n",
       "╞═══════════╪═══════════╪═══════════╪═══════════╪═══╪═══════════╪═══════════╪═══════════╪══════════╡\n",
       "│ 1         ┆ FA062     ┆ null      ┆ 2001      ┆ … ┆ null      ┆ sct_12205 ┆ null      ┆ null     │\n",
       "│           ┆           ┆           ┆           ┆   ┆           ┆ 61009     ┆           ┆          │\n",
       "│ 2         ┆ YA074     ┆ null      ┆ 2002      ┆ … ┆ null      ┆ sct_12205 ┆ null      ┆ null     │\n",
       "│           ┆           ┆           ┆           ┆   ┆           ┆ 61009     ┆           ┆          │\n",
       "│ 3         ┆ SA099     ┆ null      ┆ 2002      ┆ … ┆ null      ┆ sct_12205 ┆ null      ┆ null     │\n",
       "│           ┆           ┆           ┆           ┆   ┆           ┆ 61009     ┆           ┆          │\n",
       "│ 4         ┆ EA102     ┆ null      ┆ 2007      ┆ … ┆ null      ┆ sct_12205 ┆ null      ┆ null     │\n",
       "│           ┆           ┆           ┆           ┆   ┆           ┆ 61009     ┆           ┆          │\n",
       "│ 5         ┆ AA070     ┆ null      ┆ 2000      ┆ … ┆ null      ┆ sct_12205 ┆ null      ┆ null     │\n",
       "│           ┆           ┆           ┆           ┆   ┆           ┆ 61009     ┆           ┆          │\n",
       "└───────────┴───────────┴───────────┴───────────┴───┴───────────┴───────────┴───────────┴──────────┘"
      ]
     },
     "execution_count": 53,
     "metadata": {},
     "output_type": "execute_result"
    }
   ],
   "source": [
    "df = pl.read_csv(path)\n",
    "df.head(5)"
   ]
  },
  {
   "cell_type": "markdown",
   "metadata": {
    "collapsed": false
   },
   "source": [
    "#### Get some info about the data"
   ]
  },
  {
   "cell_type": "markdown",
   "metadata": {
    "collapsed": false
   },
   "source": [
    "#### Get number of rows and columns"
   ]
  },
  {
   "cell_type": "code",
   "execution_count": 54,
   "metadata": {
    "ExecuteTime": {
     "end_time": "2023-08-31T16:35:29.056631Z",
     "start_time": "2023-08-31T16:35:28.947041Z"
    },
    "collapsed": false
   },
   "outputs": [
    {
     "name": "stdout",
     "output_type": "stream",
     "text": [
      "Number of rows: 317\n",
      "Number of cols: 98\n"
     ]
    }
   ],
   "source": [
    "print(f'Number of rows: {PolarsUtils.get_num_rows(df)}')\n",
    "print(f'Number of cols: {PolarsUtils.get_num_cols(df)}')"
   ]
  },
  {
   "cell_type": "code",
   "execution_count": 55,
   "metadata": {
    "ExecuteTime": {
     "end_time": "2023-08-31T16:35:29.072267Z",
     "start_time": "2023-08-31T16:35:28.962673Z"
    },
    "collapsed": false
   },
   "outputs": [
    {
     "data": {
      "text/html": [
       "<div><style>\n",
       ".dataframe > thead > tr > th,\n",
       ".dataframe > tbody > tr > td {\n",
       "  text-align: right;\n",
       "}\n",
       "</style>\n",
       "<small>shape: (9, 318)</small><table border=\"1\" class=\"dataframe\"><thead><tr><th>describe</th><th>record_id</th><th>sct_422549004</th><th>sct_399423000</th><th>sct_184099003_y</th><th>sct_281053000</th><th>sct_263495000</th><th>sct_315354004</th><th>sct_364699009</th><th>sct_278844005</th><th>sct_399753006</th><th>sct_420259009</th><th>sct_767023003</th><th>sct_184305005_rd</th><th>sct_16100001</th><th>sct_16100001_source</th><th>sct_769681006_center</th><th>sct_440377005</th><th>sct_276239002_aim</th><th>sct_424850005</th><th>sct_405795006_y</th><th>sct_405795006_m</th><th>sct_405795006_d</th><th>sct_423493009</th><th>sct_432213005_y</th><th>sct_432213005_m</th><th>sct_432213005_d</th><th>sct_717800004</th><th>sct_412726003</th><th>sct_64245008</th><th>sct_125679009_proposit</th><th>sct_842009</th><th>sct_439401001_orpha</th><th>sct_439401001_orpha_sub</th><th>sct_439401001_icd10gm</th><th>sct_439401001_alphaid</th><th>sct_439401001_alphaidstr</th><th>&hellip;</th><th>sct_82101005_10_age</th><th>sct_82101005_10_gender</th><th>sct_75226009_rd</th><th>sct_75226009_1_age</th><th>sct_75226009_1_gender</th><th>sct_75226009_2_age</th><th>sct_75226009_2_gender</th><th>sct_75226009_3_age</th><th>sct_75226009_3_gender</th><th>sct_75226009_4_age</th><th>sct_75226009_4_gender</th><th>sct_75226009_5_age</th><th>sct_75226009_5_gender</th><th>sct_75226009_6_age</th><th>sct_75226009_6_gender</th><th>sct_75226009_7_age</th><th>sct_75226009_7_gender</th><th>sct_75226009_8_age</th><th>sct_75226009_8_gender</th><th>sct_75226009_9_age</th><th>sct_75226009_9_gender</th><th>sct_75226009_10_age</th><th>sct_75226009_10_gender</th><th>sct_309370004_research</th><th>sct_309370004_narse</th><th>sct_309370004_data</th><th>sct_309370004_eu</th><th>sct_309370004_int</th><th>sct_309370004_aff</th><th>sct_309370004_gen</th><th>sct_309370004_case</th><th>sct_123038009</th><th>sct_840566006</th><th>sct_840566006_specific</th><th>sct_21134002_class</th><th>sct_21134002_score</th><th>erker_v15_complete</th></tr><tr><td>str</td><td>f64</td><td>str</td><td>str</td><td>f64</td><td>str</td><td>str</td><td>str</td><td>str</td><td>str</td><td>str</td><td>str</td><td>str</td><td>str</td><td>str</td><td>str</td><td>str</td><td>str</td><td>str</td><td>str</td><td>str</td><td>str</td><td>str</td><td>str</td><td>f64</td><td>f64</td><td>f64</td><td>str</td><td>str</td><td>str</td><td>str</td><td>str</td><td>str</td><td>str</td><td>str</td><td>str</td><td>str</td><td>&hellip;</td><td>str</td><td>str</td><td>str</td><td>str</td><td>str</td><td>str</td><td>str</td><td>str</td><td>str</td><td>str</td><td>str</td><td>str</td><td>str</td><td>str</td><td>str</td><td>str</td><td>str</td><td>str</td><td>str</td><td>str</td><td>str</td><td>str</td><td>str</td><td>str</td><td>str</td><td>str</td><td>str</td><td>str</td><td>str</td><td>str</td><td>str</td><td>str</td><td>str</td><td>str</td><td>str</td><td>str</td><td>str</td></tr></thead><tbody><tr><td>&quot;count&quot;</td><td>98.0</td><td>&quot;98&quot;</td><td>&quot;98&quot;</td><td>98.0</td><td>&quot;98&quot;</td><td>&quot;98&quot;</td><td>&quot;98&quot;</td><td>&quot;98&quot;</td><td>&quot;98&quot;</td><td>&quot;98&quot;</td><td>&quot;98&quot;</td><td>&quot;98&quot;</td><td>&quot;98&quot;</td><td>&quot;98&quot;</td><td>&quot;98&quot;</td><td>&quot;98&quot;</td><td>&quot;98&quot;</td><td>&quot;98&quot;</td><td>&quot;98&quot;</td><td>&quot;98&quot;</td><td>&quot;98&quot;</td><td>&quot;98&quot;</td><td>&quot;98&quot;</td><td>98.0</td><td>98.0</td><td>98.0</td><td>&quot;98&quot;</td><td>&quot;98&quot;</td><td>&quot;98&quot;</td><td>&quot;98&quot;</td><td>&quot;98&quot;</td><td>&quot;98&quot;</td><td>&quot;98&quot;</td><td>&quot;98&quot;</td><td>&quot;98&quot;</td><td>&quot;98&quot;</td><td>&hellip;</td><td>&quot;98&quot;</td><td>&quot;98&quot;</td><td>&quot;98&quot;</td><td>&quot;98&quot;</td><td>&quot;98&quot;</td><td>&quot;98&quot;</td><td>&quot;98&quot;</td><td>&quot;98&quot;</td><td>&quot;98&quot;</td><td>&quot;98&quot;</td><td>&quot;98&quot;</td><td>&quot;98&quot;</td><td>&quot;98&quot;</td><td>&quot;98&quot;</td><td>&quot;98&quot;</td><td>&quot;98&quot;</td><td>&quot;98&quot;</td><td>&quot;98&quot;</td><td>&quot;98&quot;</td><td>&quot;98&quot;</td><td>&quot;98&quot;</td><td>&quot;98&quot;</td><td>&quot;98&quot;</td><td>&quot;98&quot;</td><td>&quot;98&quot;</td><td>&quot;98&quot;</td><td>&quot;98&quot;</td><td>&quot;98&quot;</td><td>&quot;98&quot;</td><td>&quot;98&quot;</td><td>&quot;98&quot;</td><td>&quot;98&quot;</td><td>&quot;98&quot;</td><td>&quot;98&quot;</td><td>&quot;98&quot;</td><td>&quot;98&quot;</td><td>&quot;98&quot;</td></tr><tr><td>&quot;null_count&quot;</td><td>0.0</td><td>&quot;0&quot;</td><td>&quot;98&quot;</td><td>0.0</td><td>&quot;0&quot;</td><td>&quot;98&quot;</td><td>&quot;98&quot;</td><td>&quot;3&quot;</td><td>&quot;0&quot;</td><td>&quot;98&quot;</td><td>&quot;98&quot;</td><td>&quot;0&quot;</td><td>&quot;0&quot;</td><td>&quot;98&quot;</td><td>&quot;98&quot;</td><td>&quot;0&quot;</td><td>&quot;0&quot;</td><td>&quot;98&quot;</td><td>&quot;0&quot;</td><td>&quot;98&quot;</td><td>&quot;98&quot;</td><td>&quot;98&quot;</td><td>&quot;0&quot;</td><td>5.0</td><td>5.0</td><td>5.0</td><td>&quot;0&quot;</td><td>&quot;98&quot;</td><td>&quot;0&quot;</td><td>&quot;0&quot;</td><td>&quot;0&quot;</td><td>&quot;0&quot;</td><td>&quot;98&quot;</td><td>&quot;0&quot;</td><td>&quot;0&quot;</td><td>&quot;98&quot;</td><td>&hellip;</td><td>&quot;98&quot;</td><td>&quot;98&quot;</td><td>&quot;0&quot;</td><td>&quot;98&quot;</td><td>&quot;98&quot;</td><td>&quot;98&quot;</td><td>&quot;98&quot;</td><td>&quot;98&quot;</td><td>&quot;98&quot;</td><td>&quot;98&quot;</td><td>&quot;98&quot;</td><td>&quot;98&quot;</td><td>&quot;98&quot;</td><td>&quot;98&quot;</td><td>&quot;98&quot;</td><td>&quot;98&quot;</td><td>&quot;98&quot;</td><td>&quot;98&quot;</td><td>&quot;98&quot;</td><td>&quot;98&quot;</td><td>&quot;98&quot;</td><td>&quot;98&quot;</td><td>&quot;98&quot;</td><td>&quot;0&quot;</td><td>&quot;0&quot;</td><td>&quot;0&quot;</td><td>&quot;0&quot;</td><td>&quot;0&quot;</td><td>&quot;0&quot;</td><td>&quot;0&quot;</td><td>&quot;0&quot;</td><td>&quot;0&quot;</td><td>&quot;0&quot;</td><td>&quot;98&quot;</td><td>&quot;0&quot;</td><td>&quot;98&quot;</td><td>&quot;98&quot;</td></tr><tr><td>&quot;mean&quot;</td><td>49.5</td><td>null</td><td>null</td><td>2000.102041</td><td>null</td><td>null</td><td>null</td><td>null</td><td>null</td><td>null</td><td>null</td><td>null</td><td>null</td><td>null</td><td>null</td><td>null</td><td>null</td><td>null</td><td>null</td><td>null</td><td>null</td><td>null</td><td>null</td><td>2010.096774</td><td>5.645161</td><td>15.075269</td><td>null</td><td>null</td><td>null</td><td>null</td><td>null</td><td>null</td><td>null</td><td>null</td><td>null</td><td>null</td><td>&hellip;</td><td>null</td><td>null</td><td>null</td><td>null</td><td>null</td><td>null</td><td>null</td><td>null</td><td>null</td><td>null</td><td>null</td><td>null</td><td>null</td><td>null</td><td>null</td><td>null</td><td>null</td><td>null</td><td>null</td><td>null</td><td>null</td><td>null</td><td>null</td><td>null</td><td>null</td><td>null</td><td>null</td><td>null</td><td>null</td><td>null</td><td>null</td><td>null</td><td>null</td><td>null</td><td>null</td><td>null</td><td>null</td></tr><tr><td>&quot;std&quot;</td><td>28.434134</td><td>null</td><td>null</td><td>7.157276</td><td>null</td><td>null</td><td>null</td><td>null</td><td>null</td><td>null</td><td>null</td><td>null</td><td>null</td><td>null</td><td>null</td><td>null</td><td>null</td><td>null</td><td>null</td><td>null</td><td>null</td><td>null</td><td>null</td><td>5.039118</td><td>3.181622</td><td>8.106944</td><td>null</td><td>null</td><td>null</td><td>null</td><td>null</td><td>null</td><td>null</td><td>null</td><td>null</td><td>null</td><td>&hellip;</td><td>null</td><td>null</td><td>null</td><td>null</td><td>null</td><td>null</td><td>null</td><td>null</td><td>null</td><td>null</td><td>null</td><td>null</td><td>null</td><td>null</td><td>null</td><td>null</td><td>null</td><td>null</td><td>null</td><td>null</td><td>null</td><td>null</td><td>null</td><td>null</td><td>null</td><td>null</td><td>null</td><td>null</td><td>null</td><td>null</td><td>null</td><td>null</td><td>null</td><td>null</td><td>null</td><td>null</td><td>null</td></tr><tr><td>&quot;min&quot;</td><td>1.0</td><td>&quot;AA009&quot;</td><td>null</td><td>1988.0</td><td>&quot;sct_248152002&quot;</td><td>null</td><td>null</td><td>&quot;sct_14045001&quot;</td><td>&quot;CS_MII_Person_…</td><td>null</td><td>null</td><td>&quot;sct_255398004&quot;</td><td>&quot;sct_1220561009…</td><td>null</td><td>null</td><td>&quot;1988-10-21&quot;</td><td>&quot;sct_1220561009…</td><td>null</td><td>&quot;sct_261665006&quot;</td><td>null</td><td>null</td><td>null</td><td>&quot;sct_261665006&quot;</td><td>2000.0</td><td>1.0</td><td>1.0</td><td>&quot;sct_1220561009…</td><td>null</td><td>&quot;sct_1220561009…</td><td>&quot;sct_1220561009…</td><td>&quot;sct_1220561009…</td><td>&quot;ORPHA:71529&quot;</td><td>null</td><td>&quot;E66.8&quot;</td><td>&quot;sct_1220561009…</td><td>null</td><td>&hellip;</td><td>null</td><td>null</td><td>&quot;sct_1220561009…</td><td>null</td><td>null</td><td>null</td><td>null</td><td>null</td><td>null</td><td>null</td><td>null</td><td>null</td><td>null</td><td>null</td><td>null</td><td>null</td><td>null</td><td>null</td><td>null</td><td>null</td><td>null</td><td>null</td><td>null</td><td>&quot;sct_1220561009…</td><td>&quot;sct_1220561009…</td><td>&quot;sct_1220561009…</td><td>&quot;sct_1220561009…</td><td>&quot;sct_1220561009…</td><td>&quot;sct_1220561009…</td><td>&quot;sct_1220561009…</td><td>&quot;sct_1220561009…</td><td>&quot;sct_1220561009…</td><td>&quot;sct_1220561009…</td><td>null</td><td>&quot;sct_1220561009…</td><td>null</td><td>null</td></tr><tr><td>&quot;25%&quot;</td><td>25.0</td><td>null</td><td>null</td><td>1995.0</td><td>null</td><td>null</td><td>null</td><td>null</td><td>null</td><td>null</td><td>null</td><td>null</td><td>null</td><td>null</td><td>null</td><td>null</td><td>null</td><td>null</td><td>null</td><td>null</td><td>null</td><td>null</td><td>null</td><td>2007.0</td><td>3.0</td><td>8.0</td><td>null</td><td>null</td><td>null</td><td>null</td><td>null</td><td>null</td><td>null</td><td>null</td><td>null</td><td>null</td><td>&hellip;</td><td>null</td><td>null</td><td>null</td><td>null</td><td>null</td><td>null</td><td>null</td><td>null</td><td>null</td><td>null</td><td>null</td><td>null</td><td>null</td><td>null</td><td>null</td><td>null</td><td>null</td><td>null</td><td>null</td><td>null</td><td>null</td><td>null</td><td>null</td><td>null</td><td>null</td><td>null</td><td>null</td><td>null</td><td>null</td><td>null</td><td>null</td><td>null</td><td>null</td><td>null</td><td>null</td><td>null</td><td>null</td></tr><tr><td>&quot;50%&quot;</td><td>50.0</td><td>null</td><td>null</td><td>1999.0</td><td>null</td><td>null</td><td>null</td><td>null</td><td>null</td><td>null</td><td>null</td><td>null</td><td>null</td><td>null</td><td>null</td><td>null</td><td>null</td><td>null</td><td>null</td><td>null</td><td>null</td><td>null</td><td>null</td><td>2009.0</td><td>6.0</td><td>16.0</td><td>null</td><td>null</td><td>null</td><td>null</td><td>null</td><td>null</td><td>null</td><td>null</td><td>null</td><td>null</td><td>&hellip;</td><td>null</td><td>null</td><td>null</td><td>null</td><td>null</td><td>null</td><td>null</td><td>null</td><td>null</td><td>null</td><td>null</td><td>null</td><td>null</td><td>null</td><td>null</td><td>null</td><td>null</td><td>null</td><td>null</td><td>null</td><td>null</td><td>null</td><td>null</td><td>null</td><td>null</td><td>null</td><td>null</td><td>null</td><td>null</td><td>null</td><td>null</td><td>null</td><td>null</td><td>null</td><td>null</td><td>null</td><td>null</td></tr><tr><td>&quot;75%&quot;</td><td>74.0</td><td>null</td><td>null</td><td>2005.0</td><td>null</td><td>null</td><td>null</td><td>null</td><td>null</td><td>null</td><td>null</td><td>null</td><td>null</td><td>null</td><td>null</td><td>null</td><td>null</td><td>null</td><td>null</td><td>null</td><td>null</td><td>null</td><td>null</td><td>2014.0</td><td>8.0</td><td>21.0</td><td>null</td><td>null</td><td>null</td><td>null</td><td>null</td><td>null</td><td>null</td><td>null</td><td>null</td><td>null</td><td>&hellip;</td><td>null</td><td>null</td><td>null</td><td>null</td><td>null</td><td>null</td><td>null</td><td>null</td><td>null</td><td>null</td><td>null</td><td>null</td><td>null</td><td>null</td><td>null</td><td>null</td><td>null</td><td>null</td><td>null</td><td>null</td><td>null</td><td>null</td><td>null</td><td>null</td><td>null</td><td>null</td><td>null</td><td>null</td><td>null</td><td>null</td><td>null</td><td>null</td><td>null</td><td>null</td><td>null</td><td>null</td><td>null</td></tr><tr><td>&quot;max&quot;</td><td>98.0</td><td>&quot;ZK036&quot;</td><td>null</td><td>2017.0</td><td>&quot;sct_248153007&quot;</td><td>null</td><td>null</td><td>&quot;sct_90027003&quot;</td><td>&quot;CS_MII_Person_…</td><td>null</td><td>null</td><td>&quot;sct_41847000&quot;</td><td>&quot;sct_1220561009…</td><td>null</td><td>null</td><td>&quot;2020-5-16&quot;</td><td>&quot;sct_1220561009…</td><td>null</td><td>&quot;sct_261665006&quot;</td><td>null</td><td>null</td><td>null</td><td>&quot;sct_410672004&quot;</td><td>2020.0</td><td>12.0</td><td>29.0</td><td>&quot;sct_1220561009…</td><td>null</td><td>&quot;sct_1220561009…</td><td>&quot;sct_1220561009…</td><td>&quot;sct_373067005&quot;</td><td>&quot;ORPHA:71529&quot;</td><td>null</td><td>&quot;E66.8&quot;</td><td>&quot;sct_1220561009…</td><td>null</td><td>&hellip;</td><td>null</td><td>null</td><td>&quot;sct_1220561009…</td><td>null</td><td>null</td><td>null</td><td>null</td><td>null</td><td>null</td><td>null</td><td>null</td><td>null</td><td>null</td><td>null</td><td>null</td><td>null</td><td>null</td><td>null</td><td>null</td><td>null</td><td>null</td><td>null</td><td>null</td><td>&quot;sct_1220561009…</td><td>&quot;sct_1220561009…</td><td>&quot;sct_1220561009…</td><td>&quot;sct_1220561009…</td><td>&quot;sct_1220561009…</td><td>&quot;sct_1220561009…</td><td>&quot;sct_1220561009…</td><td>&quot;sct_1220561009…</td><td>&quot;sct_1220561009…</td><td>&quot;sct_1220561009…</td><td>null</td><td>&quot;sct_1220561009…</td><td>null</td><td>null</td></tr></tbody></table></div>"
      ],
      "text/plain": [
       "shape: (9, 318)\n",
       "┌───────────┬───────────┬───────────┬───────────┬───┬───────────┬───────────┬───────────┬──────────┐\n",
       "│ describe  ┆ record_id ┆ sct_42254 ┆ sct_39942 ┆ … ┆ sct_84056 ┆ sct_21134 ┆ sct_21134 ┆ erker_v1 │\n",
       "│ ---       ┆ ---       ┆ 9004      ┆ 3000      ┆   ┆ 6006_spec ┆ 002_class ┆ 002_score ┆ 5_comple │\n",
       "│ str       ┆ f64       ┆ ---       ┆ ---       ┆   ┆ ific      ┆ ---       ┆ ---       ┆ te       │\n",
       "│           ┆           ┆ str       ┆ str       ┆   ┆ ---       ┆ str       ┆ str       ┆ ---      │\n",
       "│           ┆           ┆           ┆           ┆   ┆ str       ┆           ┆           ┆ str      │\n",
       "╞═══════════╪═══════════╪═══════════╪═══════════╪═══╪═══════════╪═══════════╪═══════════╪══════════╡\n",
       "│ count     ┆ 98.0      ┆ 98        ┆ 98        ┆ … ┆ 98        ┆ 98        ┆ 98        ┆ 98       │\n",
       "│ null_coun ┆ 0.0       ┆ 0         ┆ 98        ┆ … ┆ 98        ┆ 0         ┆ 98        ┆ 98       │\n",
       "│ t         ┆           ┆           ┆           ┆   ┆           ┆           ┆           ┆          │\n",
       "│ mean      ┆ 49.5      ┆ null      ┆ null      ┆ … ┆ null      ┆ null      ┆ null      ┆ null     │\n",
       "│ std       ┆ 28.434134 ┆ null      ┆ null      ┆ … ┆ null      ┆ null      ┆ null      ┆ null     │\n",
       "│ min       ┆ 1.0       ┆ AA009     ┆ null      ┆ … ┆ null      ┆ sct_12205 ┆ null      ┆ null     │\n",
       "│           ┆           ┆           ┆           ┆   ┆           ┆ 61009     ┆           ┆          │\n",
       "│ 25%       ┆ 25.0      ┆ null      ┆ null      ┆ … ┆ null      ┆ null      ┆ null      ┆ null     │\n",
       "│ 50%       ┆ 50.0      ┆ null      ┆ null      ┆ … ┆ null      ┆ null      ┆ null      ┆ null     │\n",
       "│ 75%       ┆ 74.0      ┆ null      ┆ null      ┆ … ┆ null      ┆ null      ┆ null      ┆ null     │\n",
       "│ max       ┆ 98.0      ┆ ZK036     ┆ null      ┆ … ┆ null      ┆ sct_12205 ┆ null      ┆ null     │\n",
       "│           ┆           ┆           ┆           ┆   ┆           ┆ 61009     ┆           ┆          │\n",
       "└───────────┴───────────┴───────────┴───────────┴───┴───────────┴───────────┴───────────┴──────────┘"
      ]
     },
     "execution_count": 55,
     "metadata": {},
     "output_type": "execute_result"
    }
   ],
   "source": [
    "df.describe()"
   ]
  },
  {
   "cell_type": "markdown",
   "metadata": {
    "collapsed": false
   },
   "source": [
    "#### Display unique values for each column"
   ]
  },
  {
   "cell_type": "code",
   "execution_count": 56,
   "metadata": {
    "ExecuteTime": {
     "end_time": "2023-08-31T16:35:29.072267Z",
     "start_time": "2023-08-31T16:35:29.009550Z"
    },
    "collapsed": false
   },
   "outputs": [
    {
     "data": {
      "text/html": [
       "<div><style>\n",
       ".dataframe > thead > tr > th,\n",
       ".dataframe > tbody > tr > td {\n",
       "  text-align: right;\n",
       "}\n",
       "</style>\n",
       "<small>shape: (98, 317)</small><table border=\"1\" class=\"dataframe\"><thead><tr><th>record_id</th><th>sct_422549004</th><th>sct_399423000</th><th>sct_184099003_y</th><th>sct_281053000</th><th>sct_263495000</th><th>sct_315354004</th><th>sct_364699009</th><th>sct_278844005</th><th>sct_399753006</th><th>sct_420259009</th><th>sct_767023003</th><th>sct_184305005_rd</th><th>sct_16100001</th><th>sct_16100001_source</th><th>sct_769681006_center</th><th>sct_440377005</th><th>sct_276239002_aim</th><th>sct_424850005</th><th>sct_405795006_y</th><th>sct_405795006_m</th><th>sct_405795006_d</th><th>sct_423493009</th><th>sct_432213005_y</th><th>sct_432213005_m</th><th>sct_432213005_d</th><th>sct_717800004</th><th>sct_412726003</th><th>sct_64245008</th><th>sct_125679009_proposit</th><th>sct_842009</th><th>sct_439401001_orpha</th><th>sct_439401001_orpha_sub</th><th>sct_439401001_icd10gm</th><th>sct_439401001_alphaid</th><th>sct_439401001_alphaidstr</th><th>sct_38866009</th><th>&hellip;</th><th>sct_82101005_10_age</th><th>sct_82101005_10_gender</th><th>sct_75226009_rd</th><th>sct_75226009_1_age</th><th>sct_75226009_1_gender</th><th>sct_75226009_2_age</th><th>sct_75226009_2_gender</th><th>sct_75226009_3_age</th><th>sct_75226009_3_gender</th><th>sct_75226009_4_age</th><th>sct_75226009_4_gender</th><th>sct_75226009_5_age</th><th>sct_75226009_5_gender</th><th>sct_75226009_6_age</th><th>sct_75226009_6_gender</th><th>sct_75226009_7_age</th><th>sct_75226009_7_gender</th><th>sct_75226009_8_age</th><th>sct_75226009_8_gender</th><th>sct_75226009_9_age</th><th>sct_75226009_9_gender</th><th>sct_75226009_10_age</th><th>sct_75226009_10_gender</th><th>sct_309370004_research</th><th>sct_309370004_narse</th><th>sct_309370004_data</th><th>sct_309370004_eu</th><th>sct_309370004_int</th><th>sct_309370004_aff</th><th>sct_309370004_gen</th><th>sct_309370004_case</th><th>sct_123038009</th><th>sct_840566006</th><th>sct_840566006_specific</th><th>sct_21134002_class</th><th>sct_21134002_score</th><th>erker_v15_complete</th></tr><tr><td>i64</td><td>str</td><td>str</td><td>i64</td><td>str</td><td>str</td><td>str</td><td>str</td><td>str</td><td>str</td><td>str</td><td>str</td><td>str</td><td>str</td><td>str</td><td>str</td><td>str</td><td>str</td><td>str</td><td>str</td><td>str</td><td>str</td><td>str</td><td>i64</td><td>i64</td><td>i64</td><td>str</td><td>str</td><td>str</td><td>str</td><td>str</td><td>str</td><td>str</td><td>str</td><td>str</td><td>str</td><td>str</td><td>&hellip;</td><td>str</td><td>str</td><td>str</td><td>str</td><td>str</td><td>str</td><td>str</td><td>str</td><td>str</td><td>str</td><td>str</td><td>str</td><td>str</td><td>str</td><td>str</td><td>str</td><td>str</td><td>str</td><td>str</td><td>str</td><td>str</td><td>str</td><td>str</td><td>str</td><td>str</td><td>str</td><td>str</td><td>str</td><td>str</td><td>str</td><td>str</td><td>str</td><td>str</td><td>str</td><td>str</td><td>str</td><td>str</td></tr></thead><tbody><tr><td>3</td><td>&quot;SA099&quot;</td><td>null</td><td>2002</td><td>&quot;sct_248153007&quot;</td><td>null</td><td>null</td><td>&quot;sct_14045001&quot;</td><td>&quot;CS_MII_Person_…</td><td>null</td><td>null</td><td>&quot;sct_41847000&quot;</td><td>&quot;sct_1220561009…</td><td>null</td><td>null</td><td>&quot;2002-7-23&quot;</td><td>&quot;sct_1220561009…</td><td>null</td><td>&quot;sct_261665006&quot;</td><td>null</td><td>null</td><td>null</td><td>&quot;sct_261665006&quot;</td><td>null</td><td>null</td><td>null</td><td>&quot;sct_1220561009…</td><td>null</td><td>&quot;sct_1220561009…</td><td>&quot;sct_1220561009…</td><td>&quot;sct_1220561009…</td><td>&quot;ORPHA:71529&quot;</td><td>null</td><td>&quot;E66.8&quot;</td><td>&quot;sct_1220561009…</td><td>null</td><td>null</td><td>&hellip;</td><td>null</td><td>null</td><td>&quot;sct_1220561009…</td><td>null</td><td>null</td><td>null</td><td>null</td><td>null</td><td>null</td><td>null</td><td>null</td><td>null</td><td>null</td><td>null</td><td>null</td><td>null</td><td>null</td><td>null</td><td>null</td><td>null</td><td>null</td><td>null</td><td>null</td><td>&quot;sct_1220561009…</td><td>&quot;sct_1220561009…</td><td>&quot;sct_1220561009…</td><td>&quot;sct_1220561009…</td><td>&quot;sct_1220561009…</td><td>&quot;sct_1220561009…</td><td>&quot;sct_1220561009…</td><td>&quot;sct_1220561009…</td><td>&quot;sct_1220561009…</td><td>&quot;sct_1220561009…</td><td>null</td><td>&quot;sct_1220561009…</td><td>null</td><td>null</td></tr><tr><td>5</td><td>&quot;AA070&quot;</td><td>null</td><td>2000</td><td>&quot;sct_248152002&quot;</td><td>null</td><td>null</td><td>&quot;sct_372148003_…</td><td>&quot;CS_MII_Person_…</td><td>null</td><td>null</td><td>&quot;sct_41847000&quot;</td><td>&quot;sct_1220561009…</td><td>null</td><td>null</td><td>&quot;2009-4-17&quot;</td><td>&quot;sct_1220561009…</td><td>null</td><td>&quot;sct_261665006&quot;</td><td>null</td><td>null</td><td>null</td><td>&quot;sct_410672004&quot;</td><td>2009</td><td>7</td><td>5</td><td>&quot;sct_1220561009…</td><td>null</td><td>&quot;sct_1220561009…</td><td>&quot;sct_1220561009…</td><td>&quot;sct_1220561009…</td><td>&quot;ORPHA:71529&quot;</td><td>null</td><td>&quot;E66.8&quot;</td><td>&quot;sct_1220561009…</td><td>null</td><td>null</td><td>&hellip;</td><td>null</td><td>null</td><td>&quot;sct_1220561009…</td><td>null</td><td>null</td><td>null</td><td>null</td><td>null</td><td>null</td><td>null</td><td>null</td><td>null</td><td>null</td><td>null</td><td>null</td><td>null</td><td>null</td><td>null</td><td>null</td><td>null</td><td>null</td><td>null</td><td>null</td><td>&quot;sct_1220561009…</td><td>&quot;sct_1220561009…</td><td>&quot;sct_1220561009…</td><td>&quot;sct_1220561009…</td><td>&quot;sct_1220561009…</td><td>&quot;sct_1220561009…</td><td>&quot;sct_1220561009…</td><td>&quot;sct_1220561009…</td><td>&quot;sct_1220561009…</td><td>&quot;sct_1220561009…</td><td>null</td><td>&quot;sct_1220561009…</td><td>null</td><td>null</td></tr><tr><td>22</td><td>&quot;YD053&quot;</td><td>null</td><td>1993</td><td>&quot;sct_248153007&quot;</td><td>null</td><td>null</td><td>&quot;sct_372148003_…</td><td>&quot;CS_MII_Person_…</td><td>null</td><td>null</td><td>&quot;sct_41847000&quot;</td><td>&quot;sct_1220561009…</td><td>null</td><td>null</td><td>&quot;2000-17-8&quot;</td><td>&quot;sct_1220561009…</td><td>null</td><td>&quot;sct_261665006&quot;</td><td>null</td><td>null</td><td>null</td><td>&quot;sct_410672004&quot;</td><td>2001</td><td>5</td><td>15</td><td>&quot;sct_1220561009…</td><td>null</td><td>&quot;sct_1220561009…</td><td>&quot;sct_1220561009…</td><td>&quot;sct_1220561009…</td><td>&quot;ORPHA:71529&quot;</td><td>null</td><td>&quot;E66.8&quot;</td><td>&quot;sct_1220561009…</td><td>null</td><td>null</td><td>&hellip;</td><td>null</td><td>null</td><td>&quot;sct_1220561009…</td><td>null</td><td>null</td><td>null</td><td>null</td><td>null</td><td>null</td><td>null</td><td>null</td><td>null</td><td>null</td><td>null</td><td>null</td><td>null</td><td>null</td><td>null</td><td>null</td><td>null</td><td>null</td><td>null</td><td>null</td><td>&quot;sct_1220561009…</td><td>&quot;sct_1220561009…</td><td>&quot;sct_1220561009…</td><td>&quot;sct_1220561009…</td><td>&quot;sct_1220561009…</td><td>&quot;sct_1220561009…</td><td>&quot;sct_1220561009…</td><td>&quot;sct_1220561009…</td><td>&quot;sct_1220561009…</td><td>&quot;sct_1220561009…</td><td>null</td><td>&quot;sct_1220561009…</td><td>null</td><td>null</td></tr><tr><td>33</td><td>&quot;EH076&quot;</td><td>null</td><td>2005</td><td>&quot;sct_248152002&quot;</td><td>null</td><td>null</td><td>&quot;sct_14045001&quot;</td><td>&quot;CS_MII_Person_…</td><td>null</td><td>null</td><td>&quot;sct_41847000&quot;</td><td>&quot;sct_1220561009…</td><td>null</td><td>null</td><td>&quot;2012-16-8&quot;</td><td>&quot;sct_1220561009…</td><td>null</td><td>&quot;sct_261665006&quot;</td><td>null</td><td>null</td><td>null</td><td>&quot;sct_410672004&quot;</td><td>2013</td><td>4</td><td>23</td><td>&quot;sct_1220561009…</td><td>null</td><td>&quot;sct_1220561009…</td><td>&quot;sct_1220561009…</td><td>&quot;sct_373067005&quot;</td><td>&quot;ORPHA:71529&quot;</td><td>null</td><td>&quot;E66.8&quot;</td><td>&quot;sct_1220561009…</td><td>null</td><td>null</td><td>&hellip;</td><td>null</td><td>null</td><td>&quot;sct_1220561009…</td><td>null</td><td>null</td><td>null</td><td>null</td><td>null</td><td>null</td><td>null</td><td>null</td><td>null</td><td>null</td><td>null</td><td>null</td><td>null</td><td>null</td><td>null</td><td>null</td><td>null</td><td>null</td><td>null</td><td>null</td><td>&quot;sct_1220561009…</td><td>&quot;sct_1220561009…</td><td>&quot;sct_1220561009…</td><td>&quot;sct_1220561009…</td><td>&quot;sct_1220561009…</td><td>&quot;sct_1220561009…</td><td>&quot;sct_1220561009…</td><td>&quot;sct_1220561009…</td><td>&quot;sct_1220561009…</td><td>&quot;sct_1220561009…</td><td>null</td><td>&quot;sct_1220561009…</td><td>null</td><td>null</td></tr><tr><td>39</td><td>&quot;ZK036&quot;</td><td>null</td><td>1996</td><td>&quot;sct_248152002&quot;</td><td>null</td><td>null</td><td>&quot;sct_372148003_…</td><td>&quot;CS_MII_Person_…</td><td>null</td><td>null</td><td>&quot;sct_41847000&quot;</td><td>&quot;sct_1220561009…</td><td>null</td><td>null</td><td>&quot;2009-16-10&quot;</td><td>&quot;sct_1220561009…</td><td>null</td><td>&quot;sct_261665006&quot;</td><td>null</td><td>null</td><td>null</td><td>&quot;sct_410672004&quot;</td><td>2010</td><td>5</td><td>5</td><td>&quot;sct_1220561009…</td><td>null</td><td>&quot;sct_1220561009…</td><td>&quot;sct_1220561009…</td><td>&quot;sct_1220561009…</td><td>&quot;ORPHA:71529&quot;</td><td>null</td><td>&quot;E66.8&quot;</td><td>&quot;sct_1220561009…</td><td>null</td><td>null</td><td>&hellip;</td><td>null</td><td>null</td><td>&quot;sct_1220561009…</td><td>null</td><td>null</td><td>null</td><td>null</td><td>null</td><td>null</td><td>null</td><td>null</td><td>null</td><td>null</td><td>null</td><td>null</td><td>null</td><td>null</td><td>null</td><td>null</td><td>null</td><td>null</td><td>null</td><td>null</td><td>&quot;sct_1220561009…</td><td>&quot;sct_1220561009…</td><td>&quot;sct_1220561009…</td><td>&quot;sct_1220561009…</td><td>&quot;sct_1220561009…</td><td>&quot;sct_1220561009…</td><td>&quot;sct_1220561009…</td><td>&quot;sct_1220561009…</td><td>&quot;sct_1220561009…</td><td>&quot;sct_1220561009…</td><td>null</td><td>&quot;sct_1220561009…</td><td>null</td><td>null</td></tr><tr><td>42</td><td>&quot;AK068&quot;</td><td>null</td><td>2006</td><td>&quot;sct_248152002&quot;</td><td>null</td><td>null</td><td>&quot;sct_14045001&quot;</td><td>&quot;CS_MII_Person_…</td><td>null</td><td>null</td><td>&quot;sct_263659003&quot;</td><td>&quot;sct_1220561009…</td><td>null</td><td>null</td><td>&quot;2010-8-15&quot;</td><td>&quot;sct_1220561009…</td><td>null</td><td>&quot;sct_261665006&quot;</td><td>null</td><td>null</td><td>null</td><td>&quot;sct_410672004&quot;</td><td>2010</td><td>8</td><td>24</td><td>&quot;sct_1220561009…</td><td>null</td><td>&quot;sct_1220561009…</td><td>&quot;sct_1220561009…</td><td>&quot;sct_373067005&quot;</td><td>&quot;ORPHA:71529&quot;</td><td>null</td><td>&quot;E66.8&quot;</td><td>&quot;sct_1220561009…</td><td>null</td><td>null</td><td>&hellip;</td><td>null</td><td>null</td><td>&quot;sct_1220561009…</td><td>null</td><td>null</td><td>null</td><td>null</td><td>null</td><td>null</td><td>null</td><td>null</td><td>null</td><td>null</td><td>null</td><td>null</td><td>null</td><td>null</td><td>null</td><td>null</td><td>null</td><td>null</td><td>null</td><td>null</td><td>&quot;sct_1220561009…</td><td>&quot;sct_1220561009…</td><td>&quot;sct_1220561009…</td><td>&quot;sct_1220561009…</td><td>&quot;sct_1220561009…</td><td>&quot;sct_1220561009…</td><td>&quot;sct_1220561009…</td><td>&quot;sct_1220561009…</td><td>&quot;sct_1220561009…</td><td>&quot;sct_1220561009…</td><td>null</td><td>&quot;sct_1220561009…</td><td>null</td><td>null</td></tr><tr><td>44</td><td>&quot;RK101&quot;</td><td>null</td><td>2008</td><td>&quot;sct_248153007&quot;</td><td>null</td><td>null</td><td>&quot;sct_14045001&quot;</td><td>&quot;CS_MII_Person_…</td><td>null</td><td>null</td><td>&quot;sct_263659003&quot;</td><td>&quot;sct_1220561009…</td><td>null</td><td>null</td><td>&quot;2020-12-2&quot;</td><td>&quot;sct_1220561009…</td><td>null</td><td>&quot;sct_261665006&quot;</td><td>null</td><td>null</td><td>null</td><td>&quot;sct_410672004&quot;</td><td>2020</td><td>12</td><td>3</td><td>&quot;sct_1220561009…</td><td>null</td><td>&quot;sct_1220561009…</td><td>&quot;sct_1220561009…</td><td>&quot;sct_1220561009…</td><td>&quot;ORPHA:71529&quot;</td><td>null</td><td>&quot;E66.8&quot;</td><td>&quot;sct_1220561009…</td><td>null</td><td>null</td><td>&hellip;</td><td>null</td><td>null</td><td>&quot;sct_1220561009…</td><td>null</td><td>null</td><td>null</td><td>null</td><td>null</td><td>null</td><td>null</td><td>null</td><td>null</td><td>null</td><td>null</td><td>null</td><td>null</td><td>null</td><td>null</td><td>null</td><td>null</td><td>null</td><td>null</td><td>null</td><td>&quot;sct_1220561009…</td><td>&quot;sct_1220561009…</td><td>&quot;sct_1220561009…</td><td>&quot;sct_1220561009…</td><td>&quot;sct_1220561009…</td><td>&quot;sct_1220561009…</td><td>&quot;sct_1220561009…</td><td>&quot;sct_1220561009…</td><td>&quot;sct_1220561009…</td><td>&quot;sct_1220561009…</td><td>null</td><td>&quot;sct_1220561009…</td><td>null</td><td>null</td></tr><tr><td>46</td><td>&quot;NL042&quot;</td><td>null</td><td>1998</td><td>&quot;sct_248153007&quot;</td><td>null</td><td>null</td><td>&quot;sct_14045001&quot;</td><td>&quot;CS_MII_Person_…</td><td>null</td><td>null</td><td>&quot;sct_41847000&quot;</td><td>&quot;sct_1220561009…</td><td>null</td><td>null</td><td>&quot;2010-1-14&quot;</td><td>&quot;sct_1220561009…</td><td>null</td><td>&quot;sct_261665006&quot;</td><td>null</td><td>null</td><td>null</td><td>&quot;sct_410672004&quot;</td><td>2010</td><td>1</td><td>26</td><td>&quot;sct_1220561009…</td><td>null</td><td>&quot;sct_1220561009…</td><td>&quot;sct_1220561009…</td><td>&quot;sct_1220561009…</td><td>&quot;ORPHA:71529&quot;</td><td>null</td><td>&quot;E66.8&quot;</td><td>&quot;sct_1220561009…</td><td>null</td><td>null</td><td>&hellip;</td><td>null</td><td>null</td><td>&quot;sct_1220561009…</td><td>null</td><td>null</td><td>null</td><td>null</td><td>null</td><td>null</td><td>null</td><td>null</td><td>null</td><td>null</td><td>null</td><td>null</td><td>null</td><td>null</td><td>null</td><td>null</td><td>null</td><td>null</td><td>null</td><td>null</td><td>&quot;sct_1220561009…</td><td>&quot;sct_1220561009…</td><td>&quot;sct_1220561009…</td><td>&quot;sct_1220561009…</td><td>&quot;sct_1220561009…</td><td>&quot;sct_1220561009…</td><td>&quot;sct_1220561009…</td><td>&quot;sct_1220561009…</td><td>&quot;sct_1220561009…</td><td>&quot;sct_1220561009…</td><td>null</td><td>&quot;sct_1220561009…</td><td>null</td><td>null</td></tr><tr><td>50</td><td>&quot;DM090&quot;</td><td>null</td><td>2016</td><td>&quot;sct_248153007&quot;</td><td>null</td><td>null</td><td>&quot;sct_372148003_…</td><td>&quot;CS_MII_Person_…</td><td>null</td><td>null</td><td>&quot;sct_255398004&quot;</td><td>&quot;sct_1220561009…</td><td>null</td><td>null</td><td>&quot;2018-9-17&quot;</td><td>&quot;sct_1220561009…</td><td>null</td><td>&quot;sct_261665006&quot;</td><td>null</td><td>null</td><td>null</td><td>&quot;sct_410672004&quot;</td><td>2018</td><td>10</td><td>4</td><td>&quot;sct_1220561009…</td><td>null</td><td>&quot;sct_1220561009…</td><td>&quot;sct_1220561009…</td><td>&quot;sct_1220561009…</td><td>&quot;ORPHA:71529&quot;</td><td>null</td><td>&quot;E66.8&quot;</td><td>&quot;sct_1220561009…</td><td>null</td><td>null</td><td>&hellip;</td><td>null</td><td>null</td><td>&quot;sct_1220561009…</td><td>null</td><td>null</td><td>null</td><td>null</td><td>null</td><td>null</td><td>null</td><td>null</td><td>null</td><td>null</td><td>null</td><td>null</td><td>null</td><td>null</td><td>null</td><td>null</td><td>null</td><td>null</td><td>null</td><td>null</td><td>&quot;sct_1220561009…</td><td>&quot;sct_1220561009…</td><td>&quot;sct_1220561009…</td><td>&quot;sct_1220561009…</td><td>&quot;sct_1220561009…</td><td>&quot;sct_1220561009…</td><td>&quot;sct_1220561009…</td><td>&quot;sct_1220561009…</td><td>&quot;sct_1220561009…</td><td>&quot;sct_1220561009…</td><td>null</td><td>&quot;sct_1220561009…</td><td>null</td><td>null</td></tr><tr><td>55</td><td>&quot;AM034&quot;</td><td>null</td><td>1999</td><td>&quot;sct_248153007&quot;</td><td>null</td><td>null</td><td>&quot;sct_372148003_…</td><td>&quot;CS_MII_Person_…</td><td>null</td><td>null</td><td>&quot;sct_41847000&quot;</td><td>&quot;sct_1220561009…</td><td>null</td><td>null</td><td>&quot;2013-3-23&quot;</td><td>&quot;sct_1220561009…</td><td>null</td><td>&quot;sct_261665006&quot;</td><td>null</td><td>null</td><td>null</td><td>&quot;sct_410672004&quot;</td><td>2013</td><td>4</td><td>10</td><td>&quot;sct_1220561009…</td><td>null</td><td>&quot;sct_1220561009…</td><td>&quot;sct_1220561009…</td><td>&quot;sct_1220561009…</td><td>&quot;ORPHA:71529&quot;</td><td>null</td><td>&quot;E66.8&quot;</td><td>&quot;sct_1220561009…</td><td>null</td><td>null</td><td>&hellip;</td><td>null</td><td>null</td><td>&quot;sct_1220561009…</td><td>null</td><td>null</td><td>null</td><td>null</td><td>null</td><td>null</td><td>null</td><td>null</td><td>null</td><td>null</td><td>null</td><td>null</td><td>null</td><td>null</td><td>null</td><td>null</td><td>null</td><td>null</td><td>null</td><td>null</td><td>&quot;sct_1220561009…</td><td>&quot;sct_1220561009…</td><td>&quot;sct_1220561009…</td><td>&quot;sct_1220561009…</td><td>&quot;sct_1220561009…</td><td>&quot;sct_1220561009…</td><td>&quot;sct_1220561009…</td><td>&quot;sct_1220561009…</td><td>&quot;sct_1220561009…</td><td>&quot;sct_1220561009…</td><td>null</td><td>&quot;sct_1220561009…</td><td>null</td><td>null</td></tr><tr><td>59</td><td>&quot;YÖ056&quot;</td><td>null</td><td>1997</td><td>&quot;sct_248153007&quot;</td><td>null</td><td>null</td><td>&quot;sct_372148003_…</td><td>&quot;CS_MII_Person_…</td><td>null</td><td>null</td><td>&quot;sct_41847000&quot;</td><td>&quot;sct_1220561009…</td><td>null</td><td>null</td><td>&quot;2008-18-21&quot;</td><td>&quot;sct_1220561009…</td><td>null</td><td>&quot;sct_261665006&quot;</td><td>null</td><td>null</td><td>null</td><td>&quot;sct_410672004&quot;</td><td>2009</td><td>7</td><td>8</td><td>&quot;sct_1220561009…</td><td>null</td><td>&quot;sct_1220561009…</td><td>&quot;sct_1220561009…</td><td>&quot;sct_1220561009…</td><td>&quot;ORPHA:71529&quot;</td><td>null</td><td>&quot;E66.8&quot;</td><td>&quot;sct_1220561009…</td><td>null</td><td>null</td><td>&hellip;</td><td>null</td><td>null</td><td>&quot;sct_1220561009…</td><td>null</td><td>null</td><td>null</td><td>null</td><td>null</td><td>null</td><td>null</td><td>null</td><td>null</td><td>null</td><td>null</td><td>null</td><td>null</td><td>null</td><td>null</td><td>null</td><td>null</td><td>null</td><td>null</td><td>null</td><td>&quot;sct_1220561009…</td><td>&quot;sct_1220561009…</td><td>&quot;sct_1220561009…</td><td>&quot;sct_1220561009…</td><td>&quot;sct_1220561009…</td><td>&quot;sct_1220561009…</td><td>&quot;sct_1220561009…</td><td>&quot;sct_1220561009…</td><td>&quot;sct_1220561009…</td><td>&quot;sct_1220561009…</td><td>null</td><td>&quot;sct_1220561009…</td><td>null</td><td>null</td></tr><tr><td>69</td><td>&quot;AR031&quot;</td><td>null</td><td>1992</td><td>&quot;sct_248152002&quot;</td><td>null</td><td>null</td><td>&quot;sct_14045001&quot;</td><td>&quot;CS_MII_Person_…</td><td>null</td><td>null</td><td>&quot;sct_41847000&quot;</td><td>&quot;sct_1220561009…</td><td>null</td><td>null</td><td>&quot;2008-14-3&quot;</td><td>&quot;sct_1220561009…</td><td>null</td><td>&quot;sct_261665006&quot;</td><td>null</td><td>null</td><td>null</td><td>&quot;sct_410672004&quot;</td><td>2009</td><td>2</td><td>10</td><td>&quot;sct_1220561009…</td><td>null</td><td>&quot;sct_1220561009…</td><td>&quot;sct_1220561009…</td><td>&quot;sct_1220561009…</td><td>&quot;ORPHA:71529&quot;</td><td>null</td><td>&quot;E66.8&quot;</td><td>&quot;sct_1220561009…</td><td>null</td><td>null</td><td>&hellip;</td><td>null</td><td>null</td><td>&quot;sct_1220561009…</td><td>null</td><td>null</td><td>null</td><td>null</td><td>null</td><td>null</td><td>null</td><td>null</td><td>null</td><td>null</td><td>null</td><td>null</td><td>null</td><td>null</td><td>null</td><td>null</td><td>null</td><td>null</td><td>null</td><td>null</td><td>&quot;sct_1220561009…</td><td>&quot;sct_1220561009…</td><td>&quot;sct_1220561009…</td><td>&quot;sct_1220561009…</td><td>&quot;sct_1220561009…</td><td>&quot;sct_1220561009…</td><td>&quot;sct_1220561009…</td><td>&quot;sct_1220561009…</td><td>&quot;sct_1220561009…</td><td>&quot;sct_1220561009…</td><td>null</td><td>&quot;sct_1220561009…</td><td>null</td><td>null</td></tr><tr><td>&hellip;</td><td>&hellip;</td><td>&hellip;</td><td>&hellip;</td><td>&hellip;</td><td>&hellip;</td><td>&hellip;</td><td>&hellip;</td><td>&hellip;</td><td>&hellip;</td><td>&hellip;</td><td>&hellip;</td><td>&hellip;</td><td>&hellip;</td><td>&hellip;</td><td>&hellip;</td><td>&hellip;</td><td>&hellip;</td><td>&hellip;</td><td>&hellip;</td><td>&hellip;</td><td>&hellip;</td><td>&hellip;</td><td>&hellip;</td><td>&hellip;</td><td>&hellip;</td><td>&hellip;</td><td>&hellip;</td><td>&hellip;</td><td>&hellip;</td><td>&hellip;</td><td>&hellip;</td><td>&hellip;</td><td>&hellip;</td><td>&hellip;</td><td>&hellip;</td><td>&hellip;</td><td>&hellip;</td><td>&hellip;</td><td>&hellip;</td><td>&hellip;</td><td>&hellip;</td><td>&hellip;</td><td>&hellip;</td><td>&hellip;</td><td>&hellip;</td><td>&hellip;</td><td>&hellip;</td><td>&hellip;</td><td>&hellip;</td><td>&hellip;</td><td>&hellip;</td><td>&hellip;</td><td>&hellip;</td><td>&hellip;</td><td>&hellip;</td><td>&hellip;</td><td>&hellip;</td><td>&hellip;</td><td>&hellip;</td><td>&hellip;</td><td>&hellip;</td><td>&hellip;</td><td>&hellip;</td><td>&hellip;</td><td>&hellip;</td><td>&hellip;</td><td>&hellip;</td><td>&hellip;</td><td>&hellip;</td><td>&hellip;</td><td>&hellip;</td><td>&hellip;</td><td>&hellip;</td><td>&hellip;</td></tr><tr><td>58</td><td>&quot;AO085&quot;</td><td>null</td><td>1997</td><td>&quot;sct_248152002&quot;</td><td>null</td><td>null</td><td>&quot;sct_14045001&quot;</td><td>&quot;CS_MII_Person_…</td><td>null</td><td>null</td><td>&quot;sct_41847000&quot;</td><td>&quot;sct_1220561009…</td><td>null</td><td>null</td><td>&quot;2007-17-20&quot;</td><td>&quot;sct_1220561009…</td><td>null</td><td>&quot;sct_261665006&quot;</td><td>null</td><td>null</td><td>null</td><td>&quot;sct_410672004&quot;</td><td>2008</td><td>6</td><td>12</td><td>&quot;sct_1220561009…</td><td>null</td><td>&quot;sct_1220561009…</td><td>&quot;sct_1220561009…</td><td>&quot;sct_1220561009…</td><td>&quot;ORPHA:71529&quot;</td><td>null</td><td>&quot;E66.8&quot;</td><td>&quot;sct_1220561009…</td><td>null</td><td>null</td><td>&hellip;</td><td>null</td><td>null</td><td>&quot;sct_1220561009…</td><td>null</td><td>null</td><td>null</td><td>null</td><td>null</td><td>null</td><td>null</td><td>null</td><td>null</td><td>null</td><td>null</td><td>null</td><td>null</td><td>null</td><td>null</td><td>null</td><td>null</td><td>null</td><td>null</td><td>null</td><td>&quot;sct_1220561009…</td><td>&quot;sct_1220561009…</td><td>&quot;sct_1220561009…</td><td>&quot;sct_1220561009…</td><td>&quot;sct_1220561009…</td><td>&quot;sct_1220561009…</td><td>&quot;sct_1220561009…</td><td>&quot;sct_1220561009…</td><td>&quot;sct_1220561009…</td><td>&quot;sct_1220561009…</td><td>null</td><td>&quot;sct_1220561009…</td><td>null</td><td>null</td></tr><tr><td>60</td><td>&quot;HÖ012&quot;</td><td>null</td><td>2006</td><td>&quot;sct_248153007&quot;</td><td>null</td><td>null</td><td>&quot;sct_14045001&quot;</td><td>&quot;CS_MII_Person_…</td><td>null</td><td>null</td><td>&quot;sct_263659003&quot;</td><td>&quot;sct_1220561009…</td><td>null</td><td>null</td><td>&quot;2008-6-10&quot;</td><td>&quot;sct_1220561009…</td><td>null</td><td>&quot;sct_261665006&quot;</td><td>null</td><td>null</td><td>null</td><td>&quot;sct_410672004&quot;</td><td>2008</td><td>6</td><td>27</td><td>&quot;sct_1220561009…</td><td>null</td><td>&quot;sct_1220561009…</td><td>&quot;sct_1220561009…</td><td>&quot;sct_373066001&quot;</td><td>&quot;ORPHA:71529&quot;</td><td>null</td><td>&quot;E66.8&quot;</td><td>&quot;sct_1220561009…</td><td>null</td><td>null</td><td>&hellip;</td><td>null</td><td>null</td><td>&quot;sct_1220561009…</td><td>null</td><td>null</td><td>null</td><td>null</td><td>null</td><td>null</td><td>null</td><td>null</td><td>null</td><td>null</td><td>null</td><td>null</td><td>null</td><td>null</td><td>null</td><td>null</td><td>null</td><td>null</td><td>null</td><td>null</td><td>&quot;sct_1220561009…</td><td>&quot;sct_1220561009…</td><td>&quot;sct_1220561009…</td><td>&quot;sct_1220561009…</td><td>&quot;sct_1220561009…</td><td>&quot;sct_1220561009…</td><td>&quot;sct_1220561009…</td><td>&quot;sct_1220561009…</td><td>&quot;sct_1220561009…</td><td>&quot;sct_1220561009…</td><td>null</td><td>&quot;sct_1220561009…</td><td>null</td><td>null</td></tr><tr><td>78</td><td>&quot;TS100&quot;</td><td>null</td><td>1995</td><td>&quot;sct_248153007&quot;</td><td>null</td><td>null</td><td>&quot;sct_14045001&quot;</td><td>&quot;CS_MII_Person_…</td><td>null</td><td>null</td><td>&quot;sct_41847000&quot;</td><td>&quot;sct_1220561009…</td><td>null</td><td>null</td><td>&quot;2007-19-9&quot;</td><td>&quot;sct_1220561009…</td><td>null</td><td>&quot;sct_261665006&quot;</td><td>null</td><td>null</td><td>null</td><td>&quot;sct_410672004&quot;</td><td>2008</td><td>7</td><td>10</td><td>&quot;sct_1220561009…</td><td>null</td><td>&quot;sct_1220561009…</td><td>&quot;sct_1220561009…</td><td>&quot;sct_1220561009…</td><td>&quot;ORPHA:71529&quot;</td><td>null</td><td>&quot;E66.8&quot;</td><td>&quot;sct_1220561009…</td><td>null</td><td>null</td><td>&hellip;</td><td>null</td><td>null</td><td>&quot;sct_1220561009…</td><td>null</td><td>null</td><td>null</td><td>null</td><td>null</td><td>null</td><td>null</td><td>null</td><td>null</td><td>null</td><td>null</td><td>null</td><td>null</td><td>null</td><td>null</td><td>null</td><td>null</td><td>null</td><td>null</td><td>null</td><td>&quot;sct_1220561009…</td><td>&quot;sct_1220561009…</td><td>&quot;sct_1220561009…</td><td>&quot;sct_1220561009…</td><td>&quot;sct_1220561009…</td><td>&quot;sct_1220561009…</td><td>&quot;sct_1220561009…</td><td>&quot;sct_1220561009…</td><td>&quot;sct_1220561009…</td><td>&quot;sct_1220561009…</td><td>null</td><td>&quot;sct_1220561009…</td><td>null</td><td>null</td></tr><tr><td>92</td><td>&quot;LW103&quot;</td><td>null</td><td>1995</td><td>&quot;sct_248153007&quot;</td><td>null</td><td>null</td><td>&quot;sct_14045001&quot;</td><td>&quot;CS_MII_Person_…</td><td>null</td><td>null</td><td>&quot;sct_41847000&quot;</td><td>&quot;sct_1220561009…</td><td>null</td><td>null</td><td>&quot;2008-7-4&quot;</td><td>&quot;sct_1220561009…</td><td>null</td><td>&quot;sct_261665006&quot;</td><td>null</td><td>null</td><td>null</td><td>&quot;sct_410672004&quot;</td><td>2008</td><td>7</td><td>1</td><td>&quot;sct_1220561009…</td><td>null</td><td>&quot;sct_1220561009…</td><td>&quot;sct_1220561009…</td><td>&quot;sct_1220561009…</td><td>&quot;ORPHA:71529&quot;</td><td>null</td><td>&quot;E66.8&quot;</td><td>&quot;sct_1220561009…</td><td>null</td><td>null</td><td>&hellip;</td><td>null</td><td>null</td><td>&quot;sct_1220561009…</td><td>null</td><td>null</td><td>null</td><td>null</td><td>null</td><td>null</td><td>null</td><td>null</td><td>null</td><td>null</td><td>null</td><td>null</td><td>null</td><td>null</td><td>null</td><td>null</td><td>null</td><td>null</td><td>null</td><td>null</td><td>&quot;sct_1220561009…</td><td>&quot;sct_1220561009…</td><td>&quot;sct_1220561009…</td><td>&quot;sct_1220561009…</td><td>&quot;sct_1220561009…</td><td>&quot;sct_1220561009…</td><td>&quot;sct_1220561009…</td><td>&quot;sct_1220561009…</td><td>&quot;sct_1220561009…</td><td>&quot;sct_1220561009…</td><td>null</td><td>&quot;sct_1220561009…</td><td>null</td><td>null</td></tr><tr><td>96</td><td>&quot;NY021&quot;</td><td>null</td><td>1990</td><td>&quot;sct_248153007&quot;</td><td>null</td><td>null</td><td>&quot;sct_14045001&quot;</td><td>&quot;CS_MII_Person_…</td><td>null</td><td>null</td><td>&quot;sct_41847000&quot;</td><td>&quot;sct_1220561009…</td><td>null</td><td>null</td><td>&quot;2002-5-24&quot;</td><td>&quot;sct_1220561009…</td><td>null</td><td>&quot;sct_261665006&quot;</td><td>null</td><td>null</td><td>null</td><td>&quot;sct_410672004&quot;</td><td>2002</td><td>6</td><td>11</td><td>&quot;sct_1220561009…</td><td>null</td><td>&quot;sct_1220561009…</td><td>&quot;sct_1220561009…</td><td>&quot;sct_1220561009…</td><td>&quot;ORPHA:71529&quot;</td><td>null</td><td>&quot;E66.8&quot;</td><td>&quot;sct_1220561009…</td><td>null</td><td>null</td><td>&hellip;</td><td>null</td><td>null</td><td>&quot;sct_1220561009…</td><td>null</td><td>null</td><td>null</td><td>null</td><td>null</td><td>null</td><td>null</td><td>null</td><td>null</td><td>null</td><td>null</td><td>null</td><td>null</td><td>null</td><td>null</td><td>null</td><td>null</td><td>null</td><td>null</td><td>null</td><td>&quot;sct_1220561009…</td><td>&quot;sct_1220561009…</td><td>&quot;sct_1220561009…</td><td>&quot;sct_1220561009…</td><td>&quot;sct_1220561009…</td><td>&quot;sct_1220561009…</td><td>&quot;sct_1220561009…</td><td>&quot;sct_1220561009…</td><td>&quot;sct_1220561009…</td><td>&quot;sct_1220561009…</td><td>null</td><td>&quot;sct_1220561009…</td><td>null</td><td>null</td></tr><tr><td>12</td><td>&quot;NB069&quot;</td><td>null</td><td>2004</td><td>&quot;sct_248152002&quot;</td><td>null</td><td>null</td><td>&quot;sct_14045001&quot;</td><td>&quot;CS_MII_Person_…</td><td>null</td><td>null</td><td>&quot;sct_41847000&quot;</td><td>&quot;sct_1220561009…</td><td>null</td><td>null</td><td>&quot;2007-17-25&quot;</td><td>&quot;sct_1220561009…</td><td>null</td><td>&quot;sct_261665006&quot;</td><td>null</td><td>null</td><td>null</td><td>&quot;sct_410672004&quot;</td><td>2008</td><td>6</td><td>3</td><td>&quot;sct_1220561009…</td><td>null</td><td>&quot;sct_1220561009…</td><td>&quot;sct_1220561009…</td><td>&quot;sct_373067005&quot;</td><td>&quot;ORPHA:71529&quot;</td><td>null</td><td>&quot;E66.8&quot;</td><td>&quot;sct_1220561009…</td><td>null</td><td>null</td><td>&hellip;</td><td>null</td><td>null</td><td>&quot;sct_1220561009…</td><td>null</td><td>null</td><td>null</td><td>null</td><td>null</td><td>null</td><td>null</td><td>null</td><td>null</td><td>null</td><td>null</td><td>null</td><td>null</td><td>null</td><td>null</td><td>null</td><td>null</td><td>null</td><td>null</td><td>null</td><td>&quot;sct_1220561009…</td><td>&quot;sct_1220561009…</td><td>&quot;sct_1220561009…</td><td>&quot;sct_1220561009…</td><td>&quot;sct_1220561009…</td><td>&quot;sct_1220561009…</td><td>&quot;sct_1220561009…</td><td>&quot;sct_1220561009…</td><td>&quot;sct_1220561009…</td><td>&quot;sct_1220561009…</td><td>null</td><td>&quot;sct_1220561009…</td><td>null</td><td>null</td></tr><tr><td>14</td><td>&quot;AB043&quot;</td><td>null</td><td>1999</td><td>&quot;sct_248152002&quot;</td><td>null</td><td>null</td><td>&quot;sct_372148003_…</td><td>&quot;CS_MII_Person_…</td><td>null</td><td>null</td><td>&quot;sct_41847000&quot;</td><td>&quot;sct_1220561009…</td><td>null</td><td>null</td><td>&quot;2006-1-2&quot;</td><td>&quot;sct_1220561009…</td><td>null</td><td>&quot;sct_261665006&quot;</td><td>null</td><td>null</td><td>null</td><td>&quot;sct_410672004&quot;</td><td>2006</td><td>1</td><td>6</td><td>&quot;sct_1220561009…</td><td>null</td><td>&quot;sct_1220561009…</td><td>&quot;sct_1220561009…</td><td>&quot;sct_1220561009…</td><td>&quot;ORPHA:71529&quot;</td><td>null</td><td>&quot;E66.8&quot;</td><td>&quot;sct_1220561009…</td><td>null</td><td>null</td><td>&hellip;</td><td>null</td><td>null</td><td>&quot;sct_1220561009…</td><td>null</td><td>null</td><td>null</td><td>null</td><td>null</td><td>null</td><td>null</td><td>null</td><td>null</td><td>null</td><td>null</td><td>null</td><td>null</td><td>null</td><td>null</td><td>null</td><td>null</td><td>null</td><td>null</td><td>null</td><td>&quot;sct_1220561009…</td><td>&quot;sct_1220561009…</td><td>&quot;sct_1220561009…</td><td>&quot;sct_1220561009…</td><td>&quot;sct_1220561009…</td><td>&quot;sct_1220561009…</td><td>&quot;sct_1220561009…</td><td>&quot;sct_1220561009…</td><td>&quot;sct_1220561009…</td><td>&quot;sct_1220561009…</td><td>null</td><td>&quot;sct_1220561009…</td><td>null</td><td>null</td></tr><tr><td>20</td><td>&quot;NC061&quot;</td><td>null</td><td>1996</td><td>&quot;sct_248153007&quot;</td><td>null</td><td>null</td><td>null</td><td>&quot;CS_MII_Person_…</td><td>null</td><td>null</td><td>&quot;sct_41847000&quot;</td><td>&quot;sct_1220561009…</td><td>null</td><td>null</td><td>&quot;2006-14-29&quot;</td><td>&quot;sct_1220561009…</td><td>null</td><td>&quot;sct_261665006&quot;</td><td>null</td><td>null</td><td>null</td><td>&quot;sct_410672004&quot;</td><td>2007</td><td>3</td><td>12</td><td>&quot;sct_1220561009…</td><td>null</td><td>&quot;sct_1220561009…</td><td>&quot;sct_1220561009…</td><td>&quot;sct_1220561009…</td><td>&quot;ORPHA:71529&quot;</td><td>null</td><td>&quot;E66.8&quot;</td><td>&quot;sct_1220561009…</td><td>null</td><td>null</td><td>&hellip;</td><td>null</td><td>null</td><td>&quot;sct_1220561009…</td><td>null</td><td>null</td><td>null</td><td>null</td><td>null</td><td>null</td><td>null</td><td>null</td><td>null</td><td>null</td><td>null</td><td>null</td><td>null</td><td>null</td><td>null</td><td>null</td><td>null</td><td>null</td><td>null</td><td>null</td><td>&quot;sct_1220561009…</td><td>&quot;sct_1220561009…</td><td>&quot;sct_1220561009…</td><td>&quot;sct_1220561009…</td><td>&quot;sct_1220561009…</td><td>&quot;sct_1220561009…</td><td>&quot;sct_1220561009…</td><td>&quot;sct_1220561009…</td><td>&quot;sct_1220561009…</td><td>&quot;sct_1220561009…</td><td>null</td><td>&quot;sct_1220561009…</td><td>null</td><td>null</td></tr><tr><td>25</td><td>&quot;FE037&quot;</td><td>null</td><td>1990</td><td>&quot;sct_248153007&quot;</td><td>null</td><td>null</td><td>&quot;sct_14045001&quot;</td><td>&quot;CS_MII_Person_…</td><td>null</td><td>null</td><td>&quot;sct_41847000&quot;</td><td>&quot;sct_1220561009…</td><td>null</td><td>null</td><td>&quot;2001-7-26&quot;</td><td>&quot;sct_1220561009…</td><td>null</td><td>&quot;sct_261665006&quot;</td><td>null</td><td>null</td><td>null</td><td>&quot;sct_410672004&quot;</td><td>2001</td><td>7</td><td>15</td><td>&quot;sct_1220561009…</td><td>null</td><td>&quot;sct_1220561009…</td><td>&quot;sct_1220561009…</td><td>&quot;sct_373067005&quot;</td><td>&quot;ORPHA:71529&quot;</td><td>null</td><td>&quot;E66.8&quot;</td><td>&quot;sct_1220561009…</td><td>null</td><td>null</td><td>&hellip;</td><td>null</td><td>null</td><td>&quot;sct_1220561009…</td><td>null</td><td>null</td><td>null</td><td>null</td><td>null</td><td>null</td><td>null</td><td>null</td><td>null</td><td>null</td><td>null</td><td>null</td><td>null</td><td>null</td><td>null</td><td>null</td><td>null</td><td>null</td><td>null</td><td>null</td><td>&quot;sct_1220561009…</td><td>&quot;sct_1220561009…</td><td>&quot;sct_1220561009…</td><td>&quot;sct_1220561009…</td><td>&quot;sct_1220561009…</td><td>&quot;sct_1220561009…</td><td>&quot;sct_1220561009…</td><td>&quot;sct_1220561009…</td><td>&quot;sct_1220561009…</td><td>&quot;sct_1220561009…</td><td>null</td><td>&quot;sct_1220561009…</td><td>null</td><td>null</td></tr><tr><td>38</td><td>&quot;NK032&quot;</td><td>null</td><td>1996</td><td>&quot;sct_248153007&quot;</td><td>null</td><td>null</td><td>&quot;sct_372148003_…</td><td>&quot;CS_MII_Person_…</td><td>null</td><td>null</td><td>&quot;sct_41847000&quot;</td><td>&quot;sct_1220561009…</td><td>null</td><td>null</td><td>&quot;2013-17-12&quot;</td><td>&quot;sct_1220561009…</td><td>null</td><td>&quot;sct_261665006&quot;</td><td>null</td><td>null</td><td>null</td><td>&quot;sct_410672004&quot;</td><td>2014</td><td>6</td><td>4</td><td>&quot;sct_1220561009…</td><td>null</td><td>&quot;sct_1220561009…</td><td>&quot;sct_1220561009…</td><td>&quot;sct_1220561009…</td><td>&quot;ORPHA:71529&quot;</td><td>null</td><td>&quot;E66.8&quot;</td><td>&quot;sct_1220561009…</td><td>null</td><td>null</td><td>&hellip;</td><td>null</td><td>null</td><td>&quot;sct_1220561009…</td><td>null</td><td>null</td><td>null</td><td>null</td><td>null</td><td>null</td><td>null</td><td>null</td><td>null</td><td>null</td><td>null</td><td>null</td><td>null</td><td>null</td><td>null</td><td>null</td><td>null</td><td>null</td><td>null</td><td>null</td><td>&quot;sct_1220561009…</td><td>&quot;sct_1220561009…</td><td>&quot;sct_1220561009…</td><td>&quot;sct_1220561009…</td><td>&quot;sct_1220561009…</td><td>&quot;sct_1220561009…</td><td>&quot;sct_1220561009…</td><td>&quot;sct_1220561009…</td><td>&quot;sct_1220561009…</td><td>&quot;sct_1220561009…</td><td>null</td><td>&quot;sct_1220561009…</td><td>null</td><td>null</td></tr><tr><td>65</td><td>&quot;NR086&quot;</td><td>null</td><td>1996</td><td>&quot;sct_248152002&quot;</td><td>null</td><td>null</td><td>&quot;sct_14045001&quot;</td><td>&quot;CS_MII_Person_…</td><td>null</td><td>null</td><td>&quot;sct_41847000&quot;</td><td>&quot;sct_1220561009…</td><td>null</td><td>null</td><td>&quot;2008-6-14&quot;</td><td>&quot;sct_1220561009…</td><td>null</td><td>&quot;sct_261665006&quot;</td><td>null</td><td>null</td><td>null</td><td>&quot;sct_410672004&quot;</td><td>2008</td><td>6</td><td>27</td><td>&quot;sct_1220561009…</td><td>null</td><td>&quot;sct_1220561009…</td><td>&quot;sct_1220561009…</td><td>&quot;sct_1220561009…</td><td>&quot;ORPHA:71529&quot;</td><td>null</td><td>&quot;E66.8&quot;</td><td>&quot;sct_1220561009…</td><td>null</td><td>null</td><td>&hellip;</td><td>null</td><td>null</td><td>&quot;sct_1220561009…</td><td>null</td><td>null</td><td>null</td><td>null</td><td>null</td><td>null</td><td>null</td><td>null</td><td>null</td><td>null</td><td>null</td><td>null</td><td>null</td><td>null</td><td>null</td><td>null</td><td>null</td><td>null</td><td>null</td><td>null</td><td>&quot;sct_1220561009…</td><td>&quot;sct_1220561009…</td><td>&quot;sct_1220561009…</td><td>&quot;sct_1220561009…</td><td>&quot;sct_1220561009…</td><td>&quot;sct_1220561009…</td><td>&quot;sct_1220561009…</td><td>&quot;sct_1220561009…</td><td>&quot;sct_1220561009…</td><td>&quot;sct_1220561009…</td><td>null</td><td>&quot;sct_1220561009…</td><td>null</td><td>null</td></tr><tr><td>86</td><td>&quot;AT083&quot;</td><td>null</td><td>2008</td><td>&quot;sct_248152002&quot;</td><td>null</td><td>null</td><td>&quot;sct_372148003_…</td><td>&quot;CS_MII_Person_…</td><td>null</td><td>null</td><td>&quot;sct_263659003&quot;</td><td>&quot;sct_1220561009…</td><td>null</td><td>null</td><td>&quot;2018-3-3&quot;</td><td>&quot;sct_1220561009…</td><td>null</td><td>&quot;sct_261665006&quot;</td><td>null</td><td>null</td><td>null</td><td>&quot;sct_410672004&quot;</td><td>2018</td><td>3</td><td>13</td><td>&quot;sct_1220561009…</td><td>null</td><td>&quot;sct_1220561009…</td><td>&quot;sct_1220561009…</td><td>&quot;sct_1220561009…</td><td>&quot;ORPHA:71529&quot;</td><td>null</td><td>&quot;E66.8&quot;</td><td>&quot;sct_1220561009…</td><td>null</td><td>null</td><td>&hellip;</td><td>null</td><td>null</td><td>&quot;sct_1220561009…</td><td>null</td><td>null</td><td>null</td><td>null</td><td>null</td><td>null</td><td>null</td><td>null</td><td>null</td><td>null</td><td>null</td><td>null</td><td>null</td><td>null</td><td>null</td><td>null</td><td>null</td><td>null</td><td>null</td><td>null</td><td>&quot;sct_1220561009…</td><td>&quot;sct_1220561009…</td><td>&quot;sct_1220561009…</td><td>&quot;sct_1220561009…</td><td>&quot;sct_1220561009…</td><td>&quot;sct_1220561009…</td><td>&quot;sct_1220561009…</td><td>&quot;sct_1220561009…</td><td>&quot;sct_1220561009…</td><td>&quot;sct_1220561009…</td><td>null</td><td>&quot;sct_1220561009…</td><td>null</td><td>null</td></tr></tbody></table></div>"
      ],
      "text/plain": [
       "shape: (98, 317)\n",
       "┌───────────┬───────────┬───────────┬───────────┬───┬───────────┬───────────┬───────────┬──────────┐\n",
       "│ record_id ┆ sct_42254 ┆ sct_39942 ┆ sct_18409 ┆ … ┆ sct_84056 ┆ sct_21134 ┆ sct_21134 ┆ erker_v1 │\n",
       "│ ---       ┆ 9004      ┆ 3000      ┆ 9003_y    ┆   ┆ 6006_spec ┆ 002_class ┆ 002_score ┆ 5_comple │\n",
       "│ i64       ┆ ---       ┆ ---       ┆ ---       ┆   ┆ ific      ┆ ---       ┆ ---       ┆ te       │\n",
       "│           ┆ str       ┆ str       ┆ i64       ┆   ┆ ---       ┆ str       ┆ str       ┆ ---      │\n",
       "│           ┆           ┆           ┆           ┆   ┆ str       ┆           ┆           ┆ str      │\n",
       "╞═══════════╪═══════════╪═══════════╪═══════════╪═══╪═══════════╪═══════════╪═══════════╪══════════╡\n",
       "│ 3         ┆ SA099     ┆ null      ┆ 2002      ┆ … ┆ null      ┆ sct_12205 ┆ null      ┆ null     │\n",
       "│           ┆           ┆           ┆           ┆   ┆           ┆ 61009     ┆           ┆          │\n",
       "│ 5         ┆ AA070     ┆ null      ┆ 2000      ┆ … ┆ null      ┆ sct_12205 ┆ null      ┆ null     │\n",
       "│           ┆           ┆           ┆           ┆   ┆           ┆ 61009     ┆           ┆          │\n",
       "│ 22        ┆ YD053     ┆ null      ┆ 1993      ┆ … ┆ null      ┆ sct_12205 ┆ null      ┆ null     │\n",
       "│           ┆           ┆           ┆           ┆   ┆           ┆ 61009     ┆           ┆          │\n",
       "│ 33        ┆ EH076     ┆ null      ┆ 2005      ┆ … ┆ null      ┆ sct_12205 ┆ null      ┆ null     │\n",
       "│           ┆           ┆           ┆           ┆   ┆           ┆ 61009     ┆           ┆          │\n",
       "│ …         ┆ …         ┆ …         ┆ …         ┆ … ┆ …         ┆ …         ┆ …         ┆ …        │\n",
       "│ 25        ┆ FE037     ┆ null      ┆ 1990      ┆ … ┆ null      ┆ sct_12205 ┆ null      ┆ null     │\n",
       "│           ┆           ┆           ┆           ┆   ┆           ┆ 61009     ┆           ┆          │\n",
       "│ 38        ┆ NK032     ┆ null      ┆ 1996      ┆ … ┆ null      ┆ sct_12205 ┆ null      ┆ null     │\n",
       "│           ┆           ┆           ┆           ┆   ┆           ┆ 61009     ┆           ┆          │\n",
       "│ 65        ┆ NR086     ┆ null      ┆ 1996      ┆ … ┆ null      ┆ sct_12205 ┆ null      ┆ null     │\n",
       "│           ┆           ┆           ┆           ┆   ┆           ┆ 61009     ┆           ┆          │\n",
       "│ 86        ┆ AT083     ┆ null      ┆ 2008      ┆ … ┆ null      ┆ sct_12205 ┆ null      ┆ null     │\n",
       "│           ┆           ┆           ┆           ┆   ┆           ┆ 61009     ┆           ┆          │\n",
       "└───────────┴───────────┴───────────┴───────────┴───┴───────────┴───────────┴───────────┴──────────┘"
      ]
     },
     "execution_count": 56,
     "metadata": {},
     "output_type": "execute_result"
    }
   ],
   "source": [
    "df.unique()"
   ]
  },
  {
   "cell_type": "markdown",
   "metadata": {
    "collapsed": false
   },
   "source": [
    "#### Get number of null values for each column"
   ]
  },
  {
   "cell_type": "code",
   "execution_count": 57,
   "metadata": {
    "ExecuteTime": {
     "end_time": "2023-08-31T16:35:29.072267Z",
     "start_time": "2023-08-31T16:35:29.041618Z"
    },
    "collapsed": false
   },
   "outputs": [
    {
     "name": "stdout",
     "output_type": "stream",
     "text": [
      "There are 230/317 columns with only null values in the data\n",
      "There are 263/317 columns with at least one null value in the data\n"
     ]
    },
    {
     "data": {
      "text/html": [
       "<div><style>\n",
       ".dataframe > thead > tr > th,\n",
       ".dataframe > tbody > tr > td {\n",
       "  text-align: right;\n",
       "}\n",
       "</style>\n",
       "<small>shape: (263, 3)</small><table border=\"1\" class=\"dataframe\"><thead><tr><th>variable</th><th>null_count</th><th>all_null</th></tr><tr><td>str</td><td>u32</td><td>bool</td></tr></thead><tbody><tr><td>&quot;sct_399423000&quot;</td><td>98</td><td>false</td></tr><tr><td>&quot;sct_263495000&quot;</td><td>98</td><td>false</td></tr><tr><td>&quot;sct_315354004&quot;</td><td>98</td><td>false</td></tr><tr><td>&quot;sct_364699009&quot;</td><td>3</td><td>false</td></tr><tr><td>&quot;sct_399753006&quot;</td><td>98</td><td>false</td></tr><tr><td>&quot;sct_420259009&quot;</td><td>98</td><td>false</td></tr><tr><td>&quot;sct_16100001&quot;</td><td>98</td><td>false</td></tr><tr><td>&quot;sct_16100001_s…</td><td>98</td><td>false</td></tr><tr><td>&quot;sct_276239002_…</td><td>98</td><td>false</td></tr><tr><td>&quot;sct_405795006_…</td><td>98</td><td>false</td></tr><tr><td>&quot;sct_405795006_…</td><td>98</td><td>false</td></tr><tr><td>&quot;sct_405795006_…</td><td>98</td><td>false</td></tr><tr><td>&hellip;</td><td>&hellip;</td><td>&hellip;</td></tr><tr><td>&quot;sct_75226009_6…</td><td>98</td><td>false</td></tr><tr><td>&quot;sct_75226009_7…</td><td>98</td><td>false</td></tr><tr><td>&quot;sct_75226009_7…</td><td>98</td><td>false</td></tr><tr><td>&quot;sct_75226009_8…</td><td>98</td><td>false</td></tr><tr><td>&quot;sct_75226009_8…</td><td>98</td><td>false</td></tr><tr><td>&quot;sct_75226009_9…</td><td>98</td><td>false</td></tr><tr><td>&quot;sct_75226009_9…</td><td>98</td><td>false</td></tr><tr><td>&quot;sct_75226009_1…</td><td>98</td><td>false</td></tr><tr><td>&quot;sct_75226009_1…</td><td>98</td><td>false</td></tr><tr><td>&quot;sct_840566006_…</td><td>98</td><td>false</td></tr><tr><td>&quot;sct_21134002_s…</td><td>98</td><td>false</td></tr><tr><td>&quot;erker_v15_comp…</td><td>98</td><td>false</td></tr></tbody></table></div>"
      ],
      "text/plain": [
       "shape: (263, 3)\n",
       "┌────────────────────────┬────────────┬──────────┐\n",
       "│ variable               ┆ null_count ┆ all_null │\n",
       "│ ---                    ┆ ---        ┆ ---      │\n",
       "│ str                    ┆ u32        ┆ bool     │\n",
       "╞════════════════════════╪════════════╪══════════╡\n",
       "│ sct_399423000          ┆ 98         ┆ false    │\n",
       "│ sct_263495000          ┆ 98         ┆ false    │\n",
       "│ sct_315354004          ┆ 98         ┆ false    │\n",
       "│ sct_364699009          ┆ 3          ┆ false    │\n",
       "│ …                      ┆ …          ┆ …        │\n",
       "│ sct_75226009_10_gender ┆ 98         ┆ false    │\n",
       "│ sct_840566006_specific ┆ 98         ┆ false    │\n",
       "│ sct_21134002_score     ┆ 98         ┆ false    │\n",
       "│ erker_v15_complete     ┆ 98         ┆ false    │\n",
       "└────────────────────────┴────────────┴──────────┘"
      ]
     },
     "execution_count": 57,
     "metadata": {},
     "output_type": "execute_result"
    }
   ],
   "source": [
    "PolarsUtils.null_value_analysis(df, verbose=True)"
   ]
  },
  {
   "cell_type": "markdown",
   "metadata": {
    "collapsed": false
   },
   "source": [
    "## Preprocessing\n",
    "- remove null colus\n",
    "- clean up data\n",
    "- add id col to data (col name `'mc4r_id'`)"
   ]
  },
  {
   "cell_type": "markdown",
   "metadata": {
    "collapsed": false
   },
   "source": [
    "### Remove null cols"
   ]
  },
  {
   "cell_type": "code",
   "execution_count": 58,
   "metadata": {
    "ExecuteTime": {
     "end_time": "2023-08-31T16:35:29.213329Z",
     "start_time": "2023-08-31T16:35:29.056631Z"
    },
    "collapsed": false
   },
   "outputs": [
    {
     "name": "stdout",
     "output_type": "stream",
     "text": [
      "Dropped 230 columns. 87 columns remaining.\n"
     ]
    },
    {
     "data": {
      "text/html": [
       "<div><style>\n",
       ".dataframe > thead > tr > th,\n",
       ".dataframe > tbody > tr > td {\n",
       "  text-align: right;\n",
       "}\n",
       "</style>\n",
       "<small>shape: (5, 87)</small><table border=\"1\" class=\"dataframe\"><thead><tr><th>record_id</th><th>sct_422549004</th><th>sct_184099003_y</th><th>sct_281053000</th><th>sct_364699009</th><th>sct_278844005</th><th>sct_767023003</th><th>sct_184305005_rd</th><th>sct_769681006_center</th><th>sct_440377005</th><th>sct_424850005</th><th>sct_423493009</th><th>sct_432213005_y</th><th>sct_432213005_m</th><th>sct_432213005_d</th><th>sct_717800004</th><th>sct_64245008</th><th>sct_125679009_proposit</th><th>sct_842009</th><th>sct_439401001_orpha</th><th>sct_439401001_icd10gm</th><th>sct_439401001_alphaid</th><th>sct_432213005</th><th>sct_263493007</th><th>sct_116694002</th><th>sct_246454002</th><th>sct_439401001_ver</th><th>sct_103330002</th><th>sct_439401001_val</th><th>sct_39154008_hpo</th><th>sct_406522009</th><th>ln_48007_9</th><th>ln_48007_9_mitoch</th><th>sct_439401001_gen_val</th><th>ln_ll4048_6</th><th>sct_439401001_omim_g_1</th><th>sct_439401001_omim_g_2</th><th>&hellip;</th><th>ln_48018_6_2</th><th>ln_48002_0_2</th><th>ln_48019_4_2</th><th>ln_53037_8_2</th><th>ln_62374_4_3</th><th>sct_55446002_str_3</th><th>ln_48004_6_3</th><th>ln_48005_3_3</th><th>ln_48018_6_3</th><th>ln_48002_0_3</th><th>ln_48019_4_3</th><th>ln_53037_8_3</th><th>sct_8116006_1</th><th>sct_8116006_1_date</th><th>sct_8116006_2</th><th>sct_8116006_2_date</th><th>sct_8116006_3</th><th>sct_8116006_3_date</th><th>sct_8116006_4</th><th>sct_8116006_4_date</th><th>sct_72705000_rd</th><th>sct_160430005</th><th>sct_66839005_rd</th><th>sct_160436004</th><th>sct_82101005_rd</th><th>sct_75226009_rd</th><th>sct_309370004_research</th><th>sct_309370004_narse</th><th>sct_309370004_data</th><th>sct_309370004_eu</th><th>sct_309370004_int</th><th>sct_309370004_aff</th><th>sct_309370004_gen</th><th>sct_309370004_case</th><th>sct_123038009</th><th>sct_840566006</th><th>sct_21134002_class</th></tr><tr><td>i64</td><td>str</td><td>i64</td><td>str</td><td>str</td><td>str</td><td>str</td><td>str</td><td>str</td><td>str</td><td>str</td><td>str</td><td>i64</td><td>i64</td><td>i64</td><td>str</td><td>str</td><td>str</td><td>str</td><td>str</td><td>str</td><td>str</td><td>str</td><td>str</td><td>str</td><td>str</td><td>str</td><td>str</td><td>str</td><td>str</td><td>str</td><td>str</td><td>str</td><td>str</td><td>str</td><td>f64</td><td>f64</td><td>&hellip;</td><td>str</td><td>str</td><td>str</td><td>str</td><td>str</td><td>str</td><td>str</td><td>str</td><td>str</td><td>str</td><td>str</td><td>str</td><td>str</td><td>str</td><td>str</td><td>str</td><td>str</td><td>str</td><td>str</td><td>str</td><td>str</td><td>str</td><td>str</td><td>str</td><td>str</td><td>str</td><td>str</td><td>str</td><td>str</td><td>str</td><td>str</td><td>str</td><td>str</td><td>str</td><td>str</td><td>str</td><td>str</td></tr></thead><tbody><tr><td>1</td><td>&quot;FA062&quot;</td><td>2001</td><td>&quot;sct_248153007&quot;</td><td>&quot;sct_90027003&quot;</td><td>&quot;CS_MII_Person_…</td><td>&quot;sct_41847000&quot;</td><td>&quot;sct_1220561009…</td><td>&quot;2007-13-24&quot;</td><td>&quot;sct_1220561009…</td><td>&quot;sct_261665006&quot;</td><td>&quot;sct_410672004&quot;</td><td>2008</td><td>1</td><td>23</td><td>&quot;sct_1220561009…</td><td>&quot;sct_1220561009…</td><td>&quot;sct_1220561009…</td><td>&quot;sct_373066001&quot;</td><td>&quot;ORPHA:71529&quot;</td><td>&quot;E66.8&quot;</td><td>&quot;sct_1220561009…</td><td>&quot;2008-01-23&quot;</td><td>&quot;sct_1220561009…</td><td>&quot;sct_1220561009…</td><td>&quot;sct_1220561009…</td><td>&quot;hl7_conditionv…</td><td>&quot;sct_373067005&quot;</td><td>&quot;sct_439401001_…</td><td>&quot;sct_373066001&quot;</td><td>&quot;sct_1220561009…</td><td>&quot;ln_LA6706-1&quot;</td><td>&quot;sct_1220561009…</td><td>&quot;sct_373066001&quot;</td><td>&quot;sct_1220561009…</td><td>155541.0024</td><td>null</td><td>&hellip;</td><td>&quot;HGNC:6932&quot;</td><td>null</td><td>null</td><td>null</td><td>&quot;ln_LA26806-2&quot;</td><td>null</td><td>null</td><td>null</td><td>&quot;HGNC:6932&quot;</td><td>null</td><td>null</td><td>null</td><td>&quot;HP:0025500&quot;</td><td>&quot;2003-06-24&quot;</td><td>&quot;HP:0025501&quot;</td><td>&quot;2001-08-24&quot;</td><td>&quot;HP:0025499&quot;</td><td>&quot;2006-10-24&quot;</td><td>null</td><td>null</td><td>&quot;sct_1220561009…</td><td>&quot;sct_1220561009…</td><td>&quot;sct_1220561009…</td><td>&quot;sct_1220561009…</td><td>&quot;sct_1220561009…</td><td>&quot;sct_1220561009…</td><td>&quot;sct_1220561009…</td><td>&quot;sct_1220561009…</td><td>&quot;sct_1220561009…</td><td>&quot;sct_1220561009…</td><td>&quot;sct_1220561009…</td><td>&quot;sct_1220561009…</td><td>&quot;sct_1220561009…</td><td>&quot;sct_1220561009…</td><td>&quot;sct_1220561009…</td><td>&quot;sct_1220561009…</td><td>&quot;sct_1220561009…</td></tr><tr><td>2</td><td>&quot;YA074&quot;</td><td>2002</td><td>&quot;sct_248152002&quot;</td><td>&quot;sct_372148003_…</td><td>&quot;CS_MII_Person_…</td><td>&quot;sct_41847000&quot;</td><td>&quot;sct_1220561009…</td><td>&quot;2011-10-21&quot;</td><td>&quot;sct_1220561009…</td><td>&quot;sct_261665006&quot;</td><td>&quot;sct_410672004&quot;</td><td>2011</td><td>4</td><td>18</td><td>&quot;sct_1220561009…</td><td>&quot;sct_1220561009…</td><td>&quot;sct_1220561009…</td><td>&quot;sct_1220561009…</td><td>&quot;ORPHA:71529&quot;</td><td>&quot;E66.8&quot;</td><td>&quot;sct_1220561009…</td><td>&quot;2011-04-18&quot;</td><td>&quot;sct_1220561009…</td><td>&quot;sct_1220561009…</td><td>&quot;sct_1220561009…</td><td>&quot;hl7_conditionv…</td><td>&quot;sct_373067005&quot;</td><td>&quot;sct_439401001_…</td><td>&quot;sct_373066001&quot;</td><td>&quot;sct_1220561009…</td><td>&quot;ln_LA6706-1&quot;</td><td>&quot;sct_1220561009…</td><td>&quot;sct_373066001&quot;</td><td>&quot;sct_1220561009…</td><td>155541.0024</td><td>null</td><td>&hellip;</td><td>&quot;HGNC:6932&quot;</td><td>null</td><td>null</td><td>null</td><td>&quot;ln_LA26806-2&quot;</td><td>null</td><td>null</td><td>null</td><td>&quot;HGNC:6932&quot;</td><td>null</td><td>null</td><td>null</td><td>&quot;HP:0025499&quot;</td><td>&quot;2004-07-21&quot;</td><td>null</td><td>null</td><td>null</td><td>null</td><td>null</td><td>null</td><td>&quot;sct_1220561009…</td><td>&quot;sct_1220561009…</td><td>&quot;sct_1220561009…</td><td>&quot;sct_1220561009…</td><td>&quot;sct_1220561009…</td><td>&quot;sct_1220561009…</td><td>&quot;sct_1220561009…</td><td>&quot;sct_1220561009…</td><td>&quot;sct_1220561009…</td><td>&quot;sct_1220561009…</td><td>&quot;sct_1220561009…</td><td>&quot;sct_1220561009…</td><td>&quot;sct_1220561009…</td><td>&quot;sct_1220561009…</td><td>&quot;sct_1220561009…</td><td>&quot;sct_1220561009…</td><td>&quot;sct_1220561009…</td></tr><tr><td>3</td><td>&quot;SA099&quot;</td><td>2002</td><td>&quot;sct_248153007&quot;</td><td>&quot;sct_14045001&quot;</td><td>&quot;CS_MII_Person_…</td><td>&quot;sct_41847000&quot;</td><td>&quot;sct_1220561009…</td><td>&quot;2002-7-23&quot;</td><td>&quot;sct_1220561009…</td><td>&quot;sct_261665006&quot;</td><td>&quot;sct_261665006&quot;</td><td>null</td><td>null</td><td>null</td><td>&quot;sct_1220561009…</td><td>&quot;sct_1220561009…</td><td>&quot;sct_1220561009…</td><td>&quot;sct_1220561009…</td><td>&quot;ORPHA:71529&quot;</td><td>&quot;E66.8&quot;</td><td>&quot;sct_1220561009…</td><td>null</td><td>&quot;sct_1220561009…</td><td>&quot;sct_1220561009…</td><td>&quot;sct_1220561009…</td><td>&quot;hl7_conditionv…</td><td>&quot;sct_373067005&quot;</td><td>&quot;sct_439401001_…</td><td>&quot;sct_373066001&quot;</td><td>&quot;sct_1220561009…</td><td>&quot;sct_1220561009…</td><td>&quot;sct_1220561009…</td><td>&quot;sct_373066001&quot;</td><td>&quot;sct_1220561009…</td><td>null</td><td>null</td><td>&hellip;</td><td>&quot;HGNC:6932&quot;</td><td>null</td><td>null</td><td>null</td><td>&quot;ln_LA26806-2&quot;</td><td>null</td><td>null</td><td>null</td><td>&quot;HGNC:6932&quot;</td><td>null</td><td>null</td><td>null</td><td>&quot;HP:0025502&quot;</td><td>&quot;2006-09-23&quot;</td><td>&quot;HP:0025499&quot;</td><td>&quot;2007-10-23&quot;</td><td>null</td><td>null</td><td>null</td><td>null</td><td>&quot;sct_1220561009…</td><td>&quot;sct_1220561009…</td><td>&quot;sct_1220561009…</td><td>&quot;sct_1220561009…</td><td>&quot;sct_1220561009…</td><td>&quot;sct_1220561009…</td><td>&quot;sct_1220561009…</td><td>&quot;sct_1220561009…</td><td>&quot;sct_1220561009…</td><td>&quot;sct_1220561009…</td><td>&quot;sct_1220561009…</td><td>&quot;sct_1220561009…</td><td>&quot;sct_1220561009…</td><td>&quot;sct_1220561009…</td><td>&quot;sct_1220561009…</td><td>&quot;sct_1220561009…</td><td>&quot;sct_1220561009…</td></tr><tr><td>4</td><td>&quot;EA102&quot;</td><td>2007</td><td>&quot;sct_248152002&quot;</td><td>&quot;sct_372148003_…</td><td>&quot;CS_MII_Person_…</td><td>&quot;sct_263659003&quot;</td><td>&quot;sct_1220561009…</td><td>&quot;2018-9-26&quot;</td><td>&quot;sct_1220561009…</td><td>&quot;sct_261665006&quot;</td><td>&quot;sct_410672004&quot;</td><td>2018</td><td>10</td><td>17</td><td>&quot;sct_1220561009…</td><td>&quot;sct_1220561009…</td><td>&quot;sct_1220561009…</td><td>&quot;sct_373067005&quot;</td><td>&quot;ORPHA:71529&quot;</td><td>&quot;E66.8&quot;</td><td>&quot;sct_1220561009…</td><td>&quot;2018-10-17&quot;</td><td>&quot;sct_1220561009…</td><td>&quot;sct_1220561009…</td><td>&quot;sct_1220561009…</td><td>&quot;hl7_conditionv…</td><td>&quot;sct_373067005&quot;</td><td>&quot;sct_439401001_…</td><td>&quot;sct_373066001&quot;</td><td>&quot;sct_1220561009…</td><td>&quot;ln_LA6706-1&quot;</td><td>&quot;sct_1220561009…</td><td>&quot;sct_373066001&quot;</td><td>&quot;sct_1220561009…</td><td>155541.0021</td><td>null</td><td>&hellip;</td><td>&quot;HGNC:6932&quot;</td><td>null</td><td>null</td><td>null</td><td>&quot;ln_LA26806-2&quot;</td><td>null</td><td>null</td><td>null</td><td>&quot;HGNC:6932&quot;</td><td>null</td><td>null</td><td>null</td><td>&quot;HP:0025499&quot;</td><td>&quot;2008-01-26&quot;</td><td>&quot;HP:0025500&quot;</td><td>&quot;2009-01-26&quot;</td><td>&quot;HP:0025500&quot;</td><td>&quot;2010-10-26&quot;</td><td>&quot;HP:0025500&quot;</td><td>&quot;2012-01-26&quot;</td><td>&quot;sct_1220561009…</td><td>&quot;sct_1220561009…</td><td>&quot;sct_1220561009…</td><td>&quot;sct_1220561009…</td><td>&quot;sct_1220561009…</td><td>&quot;sct_1220561009…</td><td>&quot;sct_1220561009…</td><td>&quot;sct_1220561009…</td><td>&quot;sct_1220561009…</td><td>&quot;sct_1220561009…</td><td>&quot;sct_1220561009…</td><td>&quot;sct_1220561009…</td><td>&quot;sct_1220561009…</td><td>&quot;sct_1220561009…</td><td>&quot;sct_1220561009…</td><td>&quot;sct_1220561009…</td><td>&quot;sct_1220561009…</td></tr><tr><td>5</td><td>&quot;AA070&quot;</td><td>2000</td><td>&quot;sct_248152002&quot;</td><td>&quot;sct_372148003_…</td><td>&quot;CS_MII_Person_…</td><td>&quot;sct_41847000&quot;</td><td>&quot;sct_1220561009…</td><td>&quot;2009-4-17&quot;</td><td>&quot;sct_1220561009…</td><td>&quot;sct_261665006&quot;</td><td>&quot;sct_410672004&quot;</td><td>2009</td><td>7</td><td>5</td><td>&quot;sct_1220561009…</td><td>&quot;sct_1220561009…</td><td>&quot;sct_1220561009…</td><td>&quot;sct_1220561009…</td><td>&quot;ORPHA:71529&quot;</td><td>&quot;E66.8&quot;</td><td>&quot;sct_1220561009…</td><td>&quot;2009-07-05&quot;</td><td>&quot;sct_1220561009…</td><td>&quot;sct_1220561009…</td><td>&quot;sct_1220561009…</td><td>&quot;hl7_conditionv…</td><td>&quot;sct_373067005&quot;</td><td>&quot;sct_439401001_…</td><td>&quot;sct_373066001&quot;</td><td>&quot;sct_1220561009…</td><td>&quot;ln_LA6706-1&quot;</td><td>&quot;sct_1220561009…</td><td>&quot;sct_373066001&quot;</td><td>&quot;sct_1220561009…</td><td>null</td><td>null</td><td>&hellip;</td><td>&quot;HGNC:6932&quot;</td><td>null</td><td>null</td><td>null</td><td>&quot;ln_LA26806-2&quot;</td><td>null</td><td>null</td><td>null</td><td>&quot;HGNC:6932&quot;</td><td>null</td><td>null</td><td>null</td><td>&quot;HP:0025499&quot;</td><td>&quot;2002-11-17&quot;</td><td>&quot;HP:0025499&quot;</td><td>&quot;2005-02-17&quot;</td><td>null</td><td>null</td><td>null</td><td>null</td><td>&quot;sct_1220561009…</td><td>&quot;sct_1220561009…</td><td>&quot;sct_1220561009…</td><td>&quot;sct_1220561009…</td><td>&quot;sct_1220561009…</td><td>&quot;sct_1220561009…</td><td>&quot;sct_1220561009…</td><td>&quot;sct_1220561009…</td><td>&quot;sct_1220561009…</td><td>&quot;sct_1220561009…</td><td>&quot;sct_1220561009…</td><td>&quot;sct_1220561009…</td><td>&quot;sct_1220561009…</td><td>&quot;sct_1220561009…</td><td>&quot;sct_1220561009…</td><td>&quot;sct_1220561009…</td><td>&quot;sct_1220561009…</td></tr></tbody></table></div>"
      ],
      "text/plain": [
       "shape: (5, 87)\n",
       "┌───────────┬───────────┬───────────┬───────────┬───┬───────────┬───────────┬───────────┬──────────┐\n",
       "│ record_id ┆ sct_42254 ┆ sct_18409 ┆ sct_28105 ┆ … ┆ sct_30937 ┆ sct_12303 ┆ sct_84056 ┆ sct_2113 │\n",
       "│ ---       ┆ 9004      ┆ 9003_y    ┆ 3000      ┆   ┆ 0004_case ┆ 8009      ┆ 6006      ┆ 4002_cla │\n",
       "│ i64       ┆ ---       ┆ ---       ┆ ---       ┆   ┆ ---       ┆ ---       ┆ ---       ┆ ss       │\n",
       "│           ┆ str       ┆ i64       ┆ str       ┆   ┆ str       ┆ str       ┆ str       ┆ ---      │\n",
       "│           ┆           ┆           ┆           ┆   ┆           ┆           ┆           ┆ str      │\n",
       "╞═══════════╪═══════════╪═══════════╪═══════════╪═══╪═══════════╪═══════════╪═══════════╪══════════╡\n",
       "│ 1         ┆ FA062     ┆ 2001      ┆ sct_24815 ┆ … ┆ sct_12205 ┆ sct_12205 ┆ sct_12205 ┆ sct_1220 │\n",
       "│           ┆           ┆           ┆ 3007      ┆   ┆ 61009     ┆ 61009     ┆ 61009     ┆ 561009   │\n",
       "│ 2         ┆ YA074     ┆ 2002      ┆ sct_24815 ┆ … ┆ sct_12205 ┆ sct_12205 ┆ sct_12205 ┆ sct_1220 │\n",
       "│           ┆           ┆           ┆ 2002      ┆   ┆ 61009     ┆ 61009     ┆ 61009     ┆ 561009   │\n",
       "│ 3         ┆ SA099     ┆ 2002      ┆ sct_24815 ┆ … ┆ sct_12205 ┆ sct_12205 ┆ sct_12205 ┆ sct_1220 │\n",
       "│           ┆           ┆           ┆ 3007      ┆   ┆ 61009     ┆ 61009     ┆ 61009     ┆ 561009   │\n",
       "│ 4         ┆ EA102     ┆ 2007      ┆ sct_24815 ┆ … ┆ sct_12205 ┆ sct_12205 ┆ sct_12205 ┆ sct_1220 │\n",
       "│           ┆           ┆           ┆ 2002      ┆   ┆ 61009     ┆ 61009     ┆ 61009     ┆ 561009   │\n",
       "│ 5         ┆ AA070     ┆ 2000      ┆ sct_24815 ┆ … ┆ sct_12205 ┆ sct_12205 ┆ sct_12205 ┆ sct_1220 │\n",
       "│           ┆           ┆           ┆ 2002      ┆   ┆ 61009     ┆ 61009     ┆ 61009     ┆ 561009   │\n",
       "└───────────┴───────────┴───────────┴───────────┴───┴───────────┴───────────┴───────────┴──────────┘"
      ]
     },
     "execution_count": 58,
     "metadata": {},
     "output_type": "execute_result"
    }
   ],
   "source": [
    "df = PolarsUtils.drop_null_cols(df, remove_all_null=True, remove_any_null=False)\n",
    "df.head(5)"
   ]
  },
  {
   "cell_type": "markdown",
   "metadata": {
    "collapsed": false
   },
   "source": [
    "### Update id column\n",
    "1. Drop old ID (has duplicate values)\n",
    "2. Initialize new ID column"
   ]
  },
  {
   "cell_type": "code",
   "execution_count": 59,
   "metadata": {
    "ExecuteTime": {
     "end_time": "2023-08-31T16:35:29.228952Z",
     "start_time": "2023-08-31T16:35:29.087892Z"
    },
    "collapsed": false
   },
   "outputs": [],
   "source": [
    "df.drop_in_place('record_id');"
   ]
  },
  {
   "cell_type": "code",
   "execution_count": 60,
   "metadata": {
    "ExecuteTime": {
     "end_time": "2023-08-31T16:35:29.260602Z",
     "start_time": "2023-08-31T16:35:29.103517Z"
    },
    "collapsed": false
   },
   "outputs": [
    {
     "data": {
      "text/html": [
       "<div><style>\n",
       ".dataframe > thead > tr > th,\n",
       ".dataframe > tbody > tr > td {\n",
       "  text-align: right;\n",
       "}\n",
       "</style>\n",
       "<small>shape: (5, 87)</small><table border=\"1\" class=\"dataframe\"><thead><tr><th>mc4r_id</th><th>sct_422549004</th><th>sct_184099003_y</th><th>sct_281053000</th><th>sct_364699009</th><th>sct_278844005</th><th>sct_767023003</th><th>sct_184305005_rd</th><th>sct_769681006_center</th><th>sct_440377005</th><th>sct_424850005</th><th>sct_423493009</th><th>sct_432213005_y</th><th>sct_432213005_m</th><th>sct_432213005_d</th><th>sct_717800004</th><th>sct_64245008</th><th>sct_125679009_proposit</th><th>sct_842009</th><th>sct_439401001_orpha</th><th>sct_439401001_icd10gm</th><th>sct_439401001_alphaid</th><th>sct_432213005</th><th>sct_263493007</th><th>sct_116694002</th><th>sct_246454002</th><th>sct_439401001_ver</th><th>sct_103330002</th><th>sct_439401001_val</th><th>sct_39154008_hpo</th><th>sct_406522009</th><th>ln_48007_9</th><th>ln_48007_9_mitoch</th><th>sct_439401001_gen_val</th><th>ln_ll4048_6</th><th>sct_439401001_omim_g_1</th><th>sct_439401001_omim_g_2</th><th>&hellip;</th><th>ln_48018_6_2</th><th>ln_48002_0_2</th><th>ln_48019_4_2</th><th>ln_53037_8_2</th><th>ln_62374_4_3</th><th>sct_55446002_str_3</th><th>ln_48004_6_3</th><th>ln_48005_3_3</th><th>ln_48018_6_3</th><th>ln_48002_0_3</th><th>ln_48019_4_3</th><th>ln_53037_8_3</th><th>sct_8116006_1</th><th>sct_8116006_1_date</th><th>sct_8116006_2</th><th>sct_8116006_2_date</th><th>sct_8116006_3</th><th>sct_8116006_3_date</th><th>sct_8116006_4</th><th>sct_8116006_4_date</th><th>sct_72705000_rd</th><th>sct_160430005</th><th>sct_66839005_rd</th><th>sct_160436004</th><th>sct_82101005_rd</th><th>sct_75226009_rd</th><th>sct_309370004_research</th><th>sct_309370004_narse</th><th>sct_309370004_data</th><th>sct_309370004_eu</th><th>sct_309370004_int</th><th>sct_309370004_aff</th><th>sct_309370004_gen</th><th>sct_309370004_case</th><th>sct_123038009</th><th>sct_840566006</th><th>sct_21134002_class</th></tr><tr><td>i64</td><td>str</td><td>i64</td><td>str</td><td>str</td><td>str</td><td>str</td><td>str</td><td>str</td><td>str</td><td>str</td><td>str</td><td>i64</td><td>i64</td><td>i64</td><td>str</td><td>str</td><td>str</td><td>str</td><td>str</td><td>str</td><td>str</td><td>str</td><td>str</td><td>str</td><td>str</td><td>str</td><td>str</td><td>str</td><td>str</td><td>str</td><td>str</td><td>str</td><td>str</td><td>str</td><td>f64</td><td>f64</td><td>&hellip;</td><td>str</td><td>str</td><td>str</td><td>str</td><td>str</td><td>str</td><td>str</td><td>str</td><td>str</td><td>str</td><td>str</td><td>str</td><td>str</td><td>str</td><td>str</td><td>str</td><td>str</td><td>str</td><td>str</td><td>str</td><td>str</td><td>str</td><td>str</td><td>str</td><td>str</td><td>str</td><td>str</td><td>str</td><td>str</td><td>str</td><td>str</td><td>str</td><td>str</td><td>str</td><td>str</td><td>str</td><td>str</td></tr></thead><tbody><tr><td>0</td><td>&quot;FA062&quot;</td><td>2001</td><td>&quot;sct_248153007&quot;</td><td>&quot;sct_90027003&quot;</td><td>&quot;CS_MII_Person_…</td><td>&quot;sct_41847000&quot;</td><td>&quot;sct_1220561009…</td><td>&quot;2007-13-24&quot;</td><td>&quot;sct_1220561009…</td><td>&quot;sct_261665006&quot;</td><td>&quot;sct_410672004&quot;</td><td>2008</td><td>1</td><td>23</td><td>&quot;sct_1220561009…</td><td>&quot;sct_1220561009…</td><td>&quot;sct_1220561009…</td><td>&quot;sct_373066001&quot;</td><td>&quot;ORPHA:71529&quot;</td><td>&quot;E66.8&quot;</td><td>&quot;sct_1220561009…</td><td>&quot;2008-01-23&quot;</td><td>&quot;sct_1220561009…</td><td>&quot;sct_1220561009…</td><td>&quot;sct_1220561009…</td><td>&quot;hl7_conditionv…</td><td>&quot;sct_373067005&quot;</td><td>&quot;sct_439401001_…</td><td>&quot;sct_373066001&quot;</td><td>&quot;sct_1220561009…</td><td>&quot;ln_LA6706-1&quot;</td><td>&quot;sct_1220561009…</td><td>&quot;sct_373066001&quot;</td><td>&quot;sct_1220561009…</td><td>155541.0024</td><td>null</td><td>&hellip;</td><td>&quot;HGNC:6932&quot;</td><td>null</td><td>null</td><td>null</td><td>&quot;ln_LA26806-2&quot;</td><td>null</td><td>null</td><td>null</td><td>&quot;HGNC:6932&quot;</td><td>null</td><td>null</td><td>null</td><td>&quot;HP:0025500&quot;</td><td>&quot;2003-06-24&quot;</td><td>&quot;HP:0025501&quot;</td><td>&quot;2001-08-24&quot;</td><td>&quot;HP:0025499&quot;</td><td>&quot;2006-10-24&quot;</td><td>null</td><td>null</td><td>&quot;sct_1220561009…</td><td>&quot;sct_1220561009…</td><td>&quot;sct_1220561009…</td><td>&quot;sct_1220561009…</td><td>&quot;sct_1220561009…</td><td>&quot;sct_1220561009…</td><td>&quot;sct_1220561009…</td><td>&quot;sct_1220561009…</td><td>&quot;sct_1220561009…</td><td>&quot;sct_1220561009…</td><td>&quot;sct_1220561009…</td><td>&quot;sct_1220561009…</td><td>&quot;sct_1220561009…</td><td>&quot;sct_1220561009…</td><td>&quot;sct_1220561009…</td><td>&quot;sct_1220561009…</td><td>&quot;sct_1220561009…</td></tr><tr><td>1</td><td>&quot;YA074&quot;</td><td>2002</td><td>&quot;sct_248152002&quot;</td><td>&quot;sct_372148003_…</td><td>&quot;CS_MII_Person_…</td><td>&quot;sct_41847000&quot;</td><td>&quot;sct_1220561009…</td><td>&quot;2011-10-21&quot;</td><td>&quot;sct_1220561009…</td><td>&quot;sct_261665006&quot;</td><td>&quot;sct_410672004&quot;</td><td>2011</td><td>4</td><td>18</td><td>&quot;sct_1220561009…</td><td>&quot;sct_1220561009…</td><td>&quot;sct_1220561009…</td><td>&quot;sct_1220561009…</td><td>&quot;ORPHA:71529&quot;</td><td>&quot;E66.8&quot;</td><td>&quot;sct_1220561009…</td><td>&quot;2011-04-18&quot;</td><td>&quot;sct_1220561009…</td><td>&quot;sct_1220561009…</td><td>&quot;sct_1220561009…</td><td>&quot;hl7_conditionv…</td><td>&quot;sct_373067005&quot;</td><td>&quot;sct_439401001_…</td><td>&quot;sct_373066001&quot;</td><td>&quot;sct_1220561009…</td><td>&quot;ln_LA6706-1&quot;</td><td>&quot;sct_1220561009…</td><td>&quot;sct_373066001&quot;</td><td>&quot;sct_1220561009…</td><td>155541.0024</td><td>null</td><td>&hellip;</td><td>&quot;HGNC:6932&quot;</td><td>null</td><td>null</td><td>null</td><td>&quot;ln_LA26806-2&quot;</td><td>null</td><td>null</td><td>null</td><td>&quot;HGNC:6932&quot;</td><td>null</td><td>null</td><td>null</td><td>&quot;HP:0025499&quot;</td><td>&quot;2004-07-21&quot;</td><td>null</td><td>null</td><td>null</td><td>null</td><td>null</td><td>null</td><td>&quot;sct_1220561009…</td><td>&quot;sct_1220561009…</td><td>&quot;sct_1220561009…</td><td>&quot;sct_1220561009…</td><td>&quot;sct_1220561009…</td><td>&quot;sct_1220561009…</td><td>&quot;sct_1220561009…</td><td>&quot;sct_1220561009…</td><td>&quot;sct_1220561009…</td><td>&quot;sct_1220561009…</td><td>&quot;sct_1220561009…</td><td>&quot;sct_1220561009…</td><td>&quot;sct_1220561009…</td><td>&quot;sct_1220561009…</td><td>&quot;sct_1220561009…</td><td>&quot;sct_1220561009…</td><td>&quot;sct_1220561009…</td></tr><tr><td>2</td><td>&quot;SA099&quot;</td><td>2002</td><td>&quot;sct_248153007&quot;</td><td>&quot;sct_14045001&quot;</td><td>&quot;CS_MII_Person_…</td><td>&quot;sct_41847000&quot;</td><td>&quot;sct_1220561009…</td><td>&quot;2002-7-23&quot;</td><td>&quot;sct_1220561009…</td><td>&quot;sct_261665006&quot;</td><td>&quot;sct_261665006&quot;</td><td>null</td><td>null</td><td>null</td><td>&quot;sct_1220561009…</td><td>&quot;sct_1220561009…</td><td>&quot;sct_1220561009…</td><td>&quot;sct_1220561009…</td><td>&quot;ORPHA:71529&quot;</td><td>&quot;E66.8&quot;</td><td>&quot;sct_1220561009…</td><td>null</td><td>&quot;sct_1220561009…</td><td>&quot;sct_1220561009…</td><td>&quot;sct_1220561009…</td><td>&quot;hl7_conditionv…</td><td>&quot;sct_373067005&quot;</td><td>&quot;sct_439401001_…</td><td>&quot;sct_373066001&quot;</td><td>&quot;sct_1220561009…</td><td>&quot;sct_1220561009…</td><td>&quot;sct_1220561009…</td><td>&quot;sct_373066001&quot;</td><td>&quot;sct_1220561009…</td><td>null</td><td>null</td><td>&hellip;</td><td>&quot;HGNC:6932&quot;</td><td>null</td><td>null</td><td>null</td><td>&quot;ln_LA26806-2&quot;</td><td>null</td><td>null</td><td>null</td><td>&quot;HGNC:6932&quot;</td><td>null</td><td>null</td><td>null</td><td>&quot;HP:0025502&quot;</td><td>&quot;2006-09-23&quot;</td><td>&quot;HP:0025499&quot;</td><td>&quot;2007-10-23&quot;</td><td>null</td><td>null</td><td>null</td><td>null</td><td>&quot;sct_1220561009…</td><td>&quot;sct_1220561009…</td><td>&quot;sct_1220561009…</td><td>&quot;sct_1220561009…</td><td>&quot;sct_1220561009…</td><td>&quot;sct_1220561009…</td><td>&quot;sct_1220561009…</td><td>&quot;sct_1220561009…</td><td>&quot;sct_1220561009…</td><td>&quot;sct_1220561009…</td><td>&quot;sct_1220561009…</td><td>&quot;sct_1220561009…</td><td>&quot;sct_1220561009…</td><td>&quot;sct_1220561009…</td><td>&quot;sct_1220561009…</td><td>&quot;sct_1220561009…</td><td>&quot;sct_1220561009…</td></tr><tr><td>3</td><td>&quot;EA102&quot;</td><td>2007</td><td>&quot;sct_248152002&quot;</td><td>&quot;sct_372148003_…</td><td>&quot;CS_MII_Person_…</td><td>&quot;sct_263659003&quot;</td><td>&quot;sct_1220561009…</td><td>&quot;2018-9-26&quot;</td><td>&quot;sct_1220561009…</td><td>&quot;sct_261665006&quot;</td><td>&quot;sct_410672004&quot;</td><td>2018</td><td>10</td><td>17</td><td>&quot;sct_1220561009…</td><td>&quot;sct_1220561009…</td><td>&quot;sct_1220561009…</td><td>&quot;sct_373067005&quot;</td><td>&quot;ORPHA:71529&quot;</td><td>&quot;E66.8&quot;</td><td>&quot;sct_1220561009…</td><td>&quot;2018-10-17&quot;</td><td>&quot;sct_1220561009…</td><td>&quot;sct_1220561009…</td><td>&quot;sct_1220561009…</td><td>&quot;hl7_conditionv…</td><td>&quot;sct_373067005&quot;</td><td>&quot;sct_439401001_…</td><td>&quot;sct_373066001&quot;</td><td>&quot;sct_1220561009…</td><td>&quot;ln_LA6706-1&quot;</td><td>&quot;sct_1220561009…</td><td>&quot;sct_373066001&quot;</td><td>&quot;sct_1220561009…</td><td>155541.0021</td><td>null</td><td>&hellip;</td><td>&quot;HGNC:6932&quot;</td><td>null</td><td>null</td><td>null</td><td>&quot;ln_LA26806-2&quot;</td><td>null</td><td>null</td><td>null</td><td>&quot;HGNC:6932&quot;</td><td>null</td><td>null</td><td>null</td><td>&quot;HP:0025499&quot;</td><td>&quot;2008-01-26&quot;</td><td>&quot;HP:0025500&quot;</td><td>&quot;2009-01-26&quot;</td><td>&quot;HP:0025500&quot;</td><td>&quot;2010-10-26&quot;</td><td>&quot;HP:0025500&quot;</td><td>&quot;2012-01-26&quot;</td><td>&quot;sct_1220561009…</td><td>&quot;sct_1220561009…</td><td>&quot;sct_1220561009…</td><td>&quot;sct_1220561009…</td><td>&quot;sct_1220561009…</td><td>&quot;sct_1220561009…</td><td>&quot;sct_1220561009…</td><td>&quot;sct_1220561009…</td><td>&quot;sct_1220561009…</td><td>&quot;sct_1220561009…</td><td>&quot;sct_1220561009…</td><td>&quot;sct_1220561009…</td><td>&quot;sct_1220561009…</td><td>&quot;sct_1220561009…</td><td>&quot;sct_1220561009…</td><td>&quot;sct_1220561009…</td><td>&quot;sct_1220561009…</td></tr><tr><td>4</td><td>&quot;AA070&quot;</td><td>2000</td><td>&quot;sct_248152002&quot;</td><td>&quot;sct_372148003_…</td><td>&quot;CS_MII_Person_…</td><td>&quot;sct_41847000&quot;</td><td>&quot;sct_1220561009…</td><td>&quot;2009-4-17&quot;</td><td>&quot;sct_1220561009…</td><td>&quot;sct_261665006&quot;</td><td>&quot;sct_410672004&quot;</td><td>2009</td><td>7</td><td>5</td><td>&quot;sct_1220561009…</td><td>&quot;sct_1220561009…</td><td>&quot;sct_1220561009…</td><td>&quot;sct_1220561009…</td><td>&quot;ORPHA:71529&quot;</td><td>&quot;E66.8&quot;</td><td>&quot;sct_1220561009…</td><td>&quot;2009-07-05&quot;</td><td>&quot;sct_1220561009…</td><td>&quot;sct_1220561009…</td><td>&quot;sct_1220561009…</td><td>&quot;hl7_conditionv…</td><td>&quot;sct_373067005&quot;</td><td>&quot;sct_439401001_…</td><td>&quot;sct_373066001&quot;</td><td>&quot;sct_1220561009…</td><td>&quot;ln_LA6706-1&quot;</td><td>&quot;sct_1220561009…</td><td>&quot;sct_373066001&quot;</td><td>&quot;sct_1220561009…</td><td>null</td><td>null</td><td>&hellip;</td><td>&quot;HGNC:6932&quot;</td><td>null</td><td>null</td><td>null</td><td>&quot;ln_LA26806-2&quot;</td><td>null</td><td>null</td><td>null</td><td>&quot;HGNC:6932&quot;</td><td>null</td><td>null</td><td>null</td><td>&quot;HP:0025499&quot;</td><td>&quot;2002-11-17&quot;</td><td>&quot;HP:0025499&quot;</td><td>&quot;2005-02-17&quot;</td><td>null</td><td>null</td><td>null</td><td>null</td><td>&quot;sct_1220561009…</td><td>&quot;sct_1220561009…</td><td>&quot;sct_1220561009…</td><td>&quot;sct_1220561009…</td><td>&quot;sct_1220561009…</td><td>&quot;sct_1220561009…</td><td>&quot;sct_1220561009…</td><td>&quot;sct_1220561009…</td><td>&quot;sct_1220561009…</td><td>&quot;sct_1220561009…</td><td>&quot;sct_1220561009…</td><td>&quot;sct_1220561009…</td><td>&quot;sct_1220561009…</td><td>&quot;sct_1220561009…</td><td>&quot;sct_1220561009…</td><td>&quot;sct_1220561009…</td><td>&quot;sct_1220561009…</td></tr></tbody></table></div>"
      ],
      "text/plain": [
       "shape: (5, 87)\n",
       "┌─────────┬────────────┬───────────┬───────────┬───┬───────────┬───────────┬───────────┬───────────┐\n",
       "│ mc4r_id ┆ sct_422549 ┆ sct_18409 ┆ sct_28105 ┆ … ┆ sct_30937 ┆ sct_12303 ┆ sct_84056 ┆ sct_21134 │\n",
       "│ ---     ┆ 004        ┆ 9003_y    ┆ 3000      ┆   ┆ 0004_case ┆ 8009      ┆ 6006      ┆ 002_class │\n",
       "│ i64     ┆ ---        ┆ ---       ┆ ---       ┆   ┆ ---       ┆ ---       ┆ ---       ┆ ---       │\n",
       "│         ┆ str        ┆ i64       ┆ str       ┆   ┆ str       ┆ str       ┆ str       ┆ str       │\n",
       "╞═════════╪════════════╪═══════════╪═══════════╪═══╪═══════════╪═══════════╪═══════════╪═══════════╡\n",
       "│ 0       ┆ FA062      ┆ 2001      ┆ sct_24815 ┆ … ┆ sct_12205 ┆ sct_12205 ┆ sct_12205 ┆ sct_12205 │\n",
       "│         ┆            ┆           ┆ 3007      ┆   ┆ 61009     ┆ 61009     ┆ 61009     ┆ 61009     │\n",
       "│ 1       ┆ YA074      ┆ 2002      ┆ sct_24815 ┆ … ┆ sct_12205 ┆ sct_12205 ┆ sct_12205 ┆ sct_12205 │\n",
       "│         ┆            ┆           ┆ 2002      ┆   ┆ 61009     ┆ 61009     ┆ 61009     ┆ 61009     │\n",
       "│ 2       ┆ SA099      ┆ 2002      ┆ sct_24815 ┆ … ┆ sct_12205 ┆ sct_12205 ┆ sct_12205 ┆ sct_12205 │\n",
       "│         ┆            ┆           ┆ 3007      ┆   ┆ 61009     ┆ 61009     ┆ 61009     ┆ 61009     │\n",
       "│ 3       ┆ EA102      ┆ 2007      ┆ sct_24815 ┆ … ┆ sct_12205 ┆ sct_12205 ┆ sct_12205 ┆ sct_12205 │\n",
       "│         ┆            ┆           ┆ 2002      ┆   ┆ 61009     ┆ 61009     ┆ 61009     ┆ 61009     │\n",
       "│ 4       ┆ AA070      ┆ 2000      ┆ sct_24815 ┆ … ┆ sct_12205 ┆ sct_12205 ┆ sct_12205 ┆ sct_12205 │\n",
       "│         ┆            ┆           ┆ 2002      ┆   ┆ 61009     ┆ 61009     ┆ 61009     ┆ 61009     │\n",
       "└─────────┴────────────┴───────────┴───────────┴───┴───────────┴───────────┴───────────┴───────────┘"
      ]
     },
     "execution_count": 60,
     "metadata": {},
     "output_type": "execute_result"
    }
   ],
   "source": [
    "df = PolarsUtils.add_id_col(df, id_col_name='mc4r_id')\n",
    "df.head(5)"
   ]
  },
  {
   "cell_type": "markdown",
   "metadata": {
    "collapsed": false
   },
   "source": [
    "### Parsing step"
   ]
  },
  {
   "cell_type": "code",
   "execution_count": 61,
   "metadata": {
    "collapsed": false
   },
   "outputs": [
    {
     "ename": "ComputeError",
     "evalue": "TypeError: parse_date_of_diagnosis() missing 2 required positional arguments: 'month' and 'day'",
     "output_type": "error",
     "traceback": [
      "\u001b[0;31m---------------------------------------------------------------------------\u001b[0m",
      "\u001b[0;31mComputeError\u001b[0m                              Traceback (most recent call last)",
      "\u001b[1;32m/Users/adam/Documents/BIH/ERKER2Phenopackets/ERKER2Phenopackets/src/MC4R/pipeline.ipynb Cell 23\u001b[0m in \u001b[0;36m<cell line: 13>\u001b[0;34m()\u001b[0m\n\u001b[1;32m      <a href='vscode-notebook-cell:/Users/adam/Documents/BIH/ERKER2Phenopackets/ERKER2Phenopackets/src/MC4R/pipeline.ipynb#Y122sZmlsZQ%3D%3D?line=8'>9</a>\u001b[0m df \u001b[39m=\u001b[39m PolarsUtils\u001b[39m.\u001b[39mmap_col(df, map_from\u001b[39m=\u001b[39m\u001b[39m'\u001b[39m\u001b[39msct_281053000\u001b[39m\u001b[39m'\u001b[39m, map_to\u001b[39m=\u001b[39m\u001b[39m'\u001b[39m\u001b[39mparsed_sex\u001b[39m\u001b[39m'\u001b[39m,\\\n\u001b[1;32m     <a href='vscode-notebook-cell:/Users/adam/Documents/BIH/ERKER2Phenopackets/ERKER2Phenopackets/src/MC4R/pipeline.ipynb#Y122sZmlsZQ%3D%3D?line=9'>10</a>\u001b[0m     mapping\u001b[39m=\u001b[39msex_map_erker2phenopackets)\n\u001b[1;32m     <a href='vscode-notebook-cell:/Users/adam/Documents/BIH/ERKER2Phenopackets/ERKER2Phenopackets/src/MC4R/pipeline.ipynb#Y122sZmlsZQ%3D%3D?line=11'>12</a>\u001b[0m \u001b[39m# sct_432213005 (date of diagnosis)\u001b[39;00m\n\u001b[0;32m---> <a href='vscode-notebook-cell:/Users/adam/Documents/BIH/ERKER2Phenopackets/ERKER2Phenopackets/src/MC4R/pipeline.ipynb#Y122sZmlsZQ%3D%3D?line=12'>13</a>\u001b[0m df \u001b[39m=\u001b[39m PolarsUtils\u001b[39m.\u001b[39;49mmap_col(df, map_from\u001b[39m=\u001b[39;49m\u001b[39m'\u001b[39;49m\u001b[39msct_432213005\u001b[39;49m\u001b[39m'\u001b[39;49m,\\\n\u001b[1;32m     <a href='vscode-notebook-cell:/Users/adam/Documents/BIH/ERKER2Phenopackets/ERKER2Phenopackets/src/MC4R/pipeline.ipynb#Y122sZmlsZQ%3D%3D?line=13'>14</a>\u001b[0m     map_to\u001b[39m=\u001b[39;49m\u001b[39m'\u001b[39;49m\u001b[39mparsed_date_of_diagnosis\u001b[39;49m\u001b[39m'\u001b[39;49m ,mapping\u001b[39m=\u001b[39;49mparse_date_of_diagnosis)\n\u001b[1;32m     <a href='vscode-notebook-cell:/Users/adam/Documents/BIH/ERKER2Phenopackets/ERKER2Phenopackets/src/MC4R/pipeline.ipynb#Y122sZmlsZQ%3D%3D?line=15'>16</a>\u001b[0m \u001b[39m# ln_48007_9 (zygosity)\u001b[39;00m\n\u001b[1;32m     <a href='vscode-notebook-cell:/Users/adam/Documents/BIH/ERKER2Phenopackets/ERKER2Phenopackets/src/MC4R/pipeline.ipynb#Y122sZmlsZQ%3D%3D?line=16'>17</a>\u001b[0m df \u001b[39m=\u001b[39m PolarsUtils\u001b[39m.\u001b[39mmap_col(df, map_from\u001b[39m=\u001b[39m\u001b[39m'\u001b[39m\u001b[39mln_48007_9\u001b[39m\u001b[39m'\u001b[39m, map_to\u001b[39m=\u001b[39m\u001b[39m'\u001b[39m\u001b[39mparsed_zygosity\u001b[39m\u001b[39m'\u001b[39m,\\\n\u001b[1;32m     <a href='vscode-notebook-cell:/Users/adam/Documents/BIH/ERKER2Phenopackets/ERKER2Phenopackets/src/MC4R/pipeline.ipynb#Y122sZmlsZQ%3D%3D?line=17'>18</a>\u001b[0m     mapping\u001b[39m=\u001b[39mzygosity_map_erker2phenopackets)\n",
      "File \u001b[0;32m~/Documents/BIH/ERKER2Phenopackets/ERKER2Phenopackets/src/MC4R/../../src/utils/PolarsUtils.py:225\u001b[0m, in \u001b[0;36mmap_col\u001b[0;34m(df, map_from, map_to, mapping, default)\u001b[0m\n\u001b[1;32m    223\u001b[0m     warnings\u001b[39m.\u001b[39mwarn(\u001b[39m'\u001b[39m\u001b[39mDefault value is ignored when using a function to mapping\u001b[39m\u001b[39m'\u001b[39m)\n\u001b[1;32m    224\u001b[0m \u001b[39mif\u001b[39;00m \u001b[39misinstance\u001b[39m(map_from, \u001b[39mstr\u001b[39m):  \u001b[39m# one column\u001b[39;00m\n\u001b[0;32m--> 225\u001b[0m     \u001b[39mreturn\u001b[39;00m _map_col_function(df\u001b[39m=\u001b[39;49mdf,\n\u001b[1;32m    226\u001b[0m                              col_name\u001b[39m=\u001b[39;49mmap_from, new_col_name\u001b[39m=\u001b[39;49mmap_to,\n\u001b[1;32m    227\u001b[0m                              function\u001b[39m=\u001b[39;49mmapping\n\u001b[1;32m    228\u001b[0m                              )\n\u001b[1;32m    229\u001b[0m \u001b[39melif\u001b[39;00m \u001b[39misinstance\u001b[39m(map_from, \u001b[39mlist\u001b[39m):  \u001b[39m# multiple columns\u001b[39;00m\n\u001b[1;32m    230\u001b[0m     \u001b[39mreturn\u001b[39;00m _map_cols_function(df\u001b[39m=\u001b[39mdf,\n\u001b[1;32m    231\u001b[0m                               col_names\u001b[39m=\u001b[39mmap_from, new_col_name\u001b[39m=\u001b[39mmap_to,\n\u001b[1;32m    232\u001b[0m                               function\u001b[39m=\u001b[39mmapping\n\u001b[1;32m    233\u001b[0m                               )\n",
      "File \u001b[0;32m~/Documents/BIH/ERKER2Phenopackets/ERKER2Phenopackets/src/MC4R/../../src/utils/PolarsUtils.py:247\u001b[0m, in \u001b[0;36m_map_col_function\u001b[0;34m(df, col_name, new_col_name, function)\u001b[0m\n\u001b[1;32m    244\u001b[0m \u001b[39mdef\u001b[39;00m \u001b[39m_map_col_function\u001b[39m(df: pl\u001b[39m.\u001b[39mDataFrame,\n\u001b[1;32m    245\u001b[0m                       col_name: \u001b[39mstr\u001b[39m, new_col_name: \u001b[39mstr\u001b[39m,\n\u001b[1;32m    246\u001b[0m                       function: Callable[[\u001b[39m.\u001b[39m\u001b[39m.\u001b[39m\u001b[39m.\u001b[39m], Any]) \u001b[39m-\u001b[39m\u001b[39m>\u001b[39m pl\u001b[39m.\u001b[39mDataFrame:\n\u001b[0;32m--> 247\u001b[0m     \u001b[39mreturn\u001b[39;00m df\u001b[39m.\u001b[39;49mwith_columns(\n\u001b[1;32m    248\u001b[0m         pl\u001b[39m.\u001b[39;49mcol(col_name)\u001b[39m.\u001b[39;49mapply(function)\u001b[39m.\u001b[39;49malias(new_col_name)\n\u001b[1;32m    249\u001b[0m     )\n",
      "File \u001b[0;32m~/opt/anaconda3/envs/phenopacket_venv/lib/python3.10/site-packages/polars/dataframe/frame.py:7631\u001b[0m, in \u001b[0;36mDataFrame.with_columns\u001b[0;34m(self, *exprs, **named_exprs)\u001b[0m\n\u001b[1;32m   7482\u001b[0m \u001b[39mdef\u001b[39;00m \u001b[39mwith_columns\u001b[39m(\n\u001b[1;32m   7483\u001b[0m     \u001b[39mself\u001b[39m,\n\u001b[1;32m   7484\u001b[0m     \u001b[39m*\u001b[39mexprs: IntoExpr \u001b[39m|\u001b[39m Iterable[IntoExpr],\n\u001b[1;32m   7485\u001b[0m     \u001b[39m*\u001b[39m\u001b[39m*\u001b[39mnamed_exprs: IntoExpr,\n\u001b[1;32m   7486\u001b[0m ) \u001b[39m-\u001b[39m\u001b[39m>\u001b[39m DataFrame:\n\u001b[1;32m   7487\u001b[0m     \u001b[39m\"\"\"\u001b[39;00m\n\u001b[1;32m   7488\u001b[0m \u001b[39m    Add columns to this DataFrame.\u001b[39;00m\n\u001b[1;32m   7489\u001b[0m \n\u001b[0;32m   (...)\u001b[0m\n\u001b[1;32m   7628\u001b[0m \n\u001b[1;32m   7629\u001b[0m \u001b[39m    \"\"\"\u001b[39;00m\n\u001b[1;32m   7630\u001b[0m     \u001b[39mreturn\u001b[39;00m (\n\u001b[0;32m-> 7631\u001b[0m         \u001b[39mself\u001b[39;49m\u001b[39m.\u001b[39;49mlazy()\n\u001b[1;32m   7632\u001b[0m         \u001b[39m.\u001b[39;49mwith_columns(\u001b[39m*\u001b[39;49mexprs, \u001b[39m*\u001b[39;49m\u001b[39m*\u001b[39;49mnamed_exprs)\n\u001b[1;32m   7633\u001b[0m         \u001b[39m.\u001b[39;49mcollect(no_optimization\u001b[39m=\u001b[39;49m\u001b[39mTrue\u001b[39;49;00m)\n\u001b[1;32m   7634\u001b[0m     )\n",
      "File \u001b[0;32m~/opt/anaconda3/envs/phenopacket_venv/lib/python3.10/site-packages/polars/utils/deprecation.py:93\u001b[0m, in \u001b[0;36mdeprecate_renamed_parameter.<locals>.decorate.<locals>.wrapper\u001b[0;34m(*args, **kwargs)\u001b[0m\n\u001b[1;32m     88\u001b[0m \u001b[39m@wraps\u001b[39m(function)\n\u001b[1;32m     89\u001b[0m \u001b[39mdef\u001b[39;00m \u001b[39mwrapper\u001b[39m(\u001b[39m*\u001b[39margs: P\u001b[39m.\u001b[39margs, \u001b[39m*\u001b[39m\u001b[39m*\u001b[39mkwargs: P\u001b[39m.\u001b[39mkwargs) \u001b[39m-\u001b[39m\u001b[39m>\u001b[39m T:\n\u001b[1;32m     90\u001b[0m     _rename_keyword_argument(\n\u001b[1;32m     91\u001b[0m         old_name, new_name, kwargs, function\u001b[39m.\u001b[39m\u001b[39m__name__\u001b[39m, version\n\u001b[1;32m     92\u001b[0m     )\n\u001b[0;32m---> 93\u001b[0m     \u001b[39mreturn\u001b[39;00m function(\u001b[39m*\u001b[39;49margs, \u001b[39m*\u001b[39;49m\u001b[39m*\u001b[39;49mkwargs)\n",
      "File \u001b[0;32m~/opt/anaconda3/envs/phenopacket_venv/lib/python3.10/site-packages/polars/lazyframe/frame.py:1695\u001b[0m, in \u001b[0;36mLazyFrame.collect\u001b[0;34m(self, type_coercion, predicate_pushdown, projection_pushdown, simplify_expression, no_optimization, slice_pushdown, comm_subplan_elim, comm_subexpr_elim, streaming)\u001b[0m\n\u001b[1;32m   1683\u001b[0m     comm_subplan_elim \u001b[39m=\u001b[39m \u001b[39mFalse\u001b[39;00m\n\u001b[1;32m   1685\u001b[0m ldf \u001b[39m=\u001b[39m \u001b[39mself\u001b[39m\u001b[39m.\u001b[39m_ldf\u001b[39m.\u001b[39moptimization_toggle(\n\u001b[1;32m   1686\u001b[0m     type_coercion,\n\u001b[1;32m   1687\u001b[0m     predicate_pushdown,\n\u001b[0;32m   (...)\u001b[0m\n\u001b[1;32m   1693\u001b[0m     streaming,\n\u001b[1;32m   1694\u001b[0m )\n\u001b[0;32m-> 1695\u001b[0m \u001b[39mreturn\u001b[39;00m wrap_df(ldf\u001b[39m.\u001b[39;49mcollect())\n",
      "\u001b[0;31mComputeError\u001b[0m: TypeError: parse_date_of_diagnosis() missing 2 required positional arguments: 'month' and 'day'"
     ]
    }
   ],
   "source": [
    "from src.MC4R import zygosity_map_erker2phenopackets, sex_map_erker2phenopackets\n",
    "from src.MC4R.ParseMC4R import parse_date_of_diagnosis, parse_year_of_birth, parse_phenotyping_date\n",
    "\n",
    "# sct_184099003_y (year of birth)\n",
    "df = PolarsUtils.map_col(df, map_from='sct_184099003_y', map_to='parsed_year_of_birth',\\\n",
    "    mapping=parse_year_of_birth)\n",
    "\n",
    "# sct_281053000 (sex)\n",
    "df = PolarsUtils.map_col(df, map_from='sct_281053000', map_to='parsed_sex',\\\n",
    "    mapping=sex_map_erker2phenopackets)\n",
    "\n",
    "# sct_432213005 (date of diagnosis)\n",
    "df = PolarsUtils.map_col(df, map_from='sct_432213005',\\\n",
    "    map_to='parsed_date_of_diagnosis' ,mapping=parse_date_of_diagnosis)\n",
    "\n",
    "# ln_48007_9 (zygosity)\n",
    "df = PolarsUtils.map_col(df, map_from='ln_48007_9', map_to='parsed_zygosity',\\\n",
    "    mapping=zygosity_map_erker2phenopackets)\n",
    "\n",
    "# sct_439401001_orpha (diagnosis (ORPHA))\n",
    "# does not require mapping\n",
    "\n",
    "# ln_81290_9_1, ln_81290_9_2, ln_81290_9_3 (mutation p.HGVS)\n",
    "# does not require mapping\n",
    "\n",
    "# ln_48004_6_1, ln_48004_6_2, ln_48004_6_3 (mutation c.HGVS)\n",
    "# does not require mapping\n",
    "\n",
    "# ln_48018_6_1, ln_48018_6_2, ln_48018_6_3 (gene HGNC)\n",
    "# does not require mapping\n",
    "\n",
    "# sct_8116006_1, sct_8116006_2, sct_8116006_3, sct_8116006_4, sct_8116006_5 (phenotype\\\n",
    "  #classification\n",
    "# does not require mapping\n",
    "\n",
    "# sct_8116006_1_date, sct_8116006_2_date, sct_8116006_3_date, sct_8116006_4_date, \\\n",
    "    # sct_8116006_5_date (dates of phenotype determination)\n",
    "df = PolarsUtils.map_col(df, map_from='sct_8116006_1_date', map_to='parsed_dates_of_phenotyping1', mapping=parse_phenotyping_date)\n",
    "df = PolarsUtils.map_col(df, map_from='sct_8116006_2_date', map_to='parsed_dates_of_phenotyping2', mapping=parse_phenotyping_date)\n",
    "df = PolarsUtils.map_col(df, map_from='sct_8116006_3_date', map_to='parsed_dates_of_phenotyping3', mapping=parse_phenotyping_date)\n",
    "df = PolarsUtils.map_col(df, map_from='sct_8116006_4_date', map_to='parsed_dates_of_phenotyping4', mapping=parse_phenotyping_date)\n",
    "df = PolarsUtils.map_col(df, map_from='sct_8116006_5_date', map_to='parsed_dates_of_phenotyping5', mapping=parse_phenotyping_date)\n"
   ]
  },
  {
   "cell_type": "markdown",
   "metadata": {
    "collapsed": false
   },
   "source": [
    "## Map to phenopackets"
   ]
  },
  {
   "cell_type": "code",
   "execution_count": null,
   "metadata": {
    "collapsed": false
   },
   "outputs": [
    {
     "ename": "TypeError",
     "evalue": "Timestamp() takes no arguments",
     "output_type": "error",
     "traceback": [
      "\u001b[1;31m---------------------------------------------------------------------------\u001b[0m",
      "\u001b[1;31mTypeError\u001b[0m                                 Traceback (most recent call last)",
      "Cell \u001b[1;32mIn[24], line 1\u001b[0m\n\u001b[1;32m----> 1\u001b[0m phenopackets \u001b[38;5;241m=\u001b[39m \u001b[43mmap_erker2phenopackets\u001b[49m\u001b[43m(\u001b[49m\u001b[43mdf\u001b[49m\u001b[43m,\u001b[49m\u001b[43m \u001b[49m\u001b[43mcreated_by\u001b[49m\u001b[38;5;241;43m=\u001b[39;49m\u001b[43mcreated_by\u001b[49m\u001b[43m)\u001b[49m\n",
      "File \u001b[1;32m~\\OneDrive\\Documents\\DataSpell\\ERKER2Phenopackets\\src\\old_erker_mapping\\MapERKER2Phenopackets.py:37\u001b[0m, in \u001b[0;36mmap_erker2phenopackets\u001b[1;34m(df, created_by)\u001b[0m\n\u001b[0;32m     35\u001b[0m \u001b[38;5;28;01mfor\u001b[39;00m row \u001b[38;5;129;01min\u001b[39;00m df\u001b[38;5;241m.\u001b[39mrows(named\u001b[38;5;241m=\u001b[39m\u001b[38;5;28;01mTrue\u001b[39;00m):\n\u001b[0;32m     36\u001b[0m     phenopacket_id \u001b[38;5;241m=\u001b[39m row[\u001b[38;5;124m'\u001b[39m\u001b[38;5;124mmc4r_id\u001b[39m\u001b[38;5;124m'\u001b[39m]\n\u001b[1;32m---> 37\u001b[0m     phenopacket \u001b[38;5;241m=\u001b[39m \u001b[43mmap_erker_row2phenopacket\u001b[49m\u001b[43m(\u001b[49m\n\u001b[0;32m     38\u001b[0m \u001b[43m        \u001b[49m\u001b[43mphenopacket_id\u001b[49m\u001b[43m,\u001b[49m\u001b[43m \u001b[49m\u001b[43mrow\u001b[49m\u001b[43m,\u001b[49m\u001b[43m \u001b[49m\u001b[43mresources\u001b[49m\u001b[43m,\u001b[49m\u001b[43m \u001b[49m\u001b[43mcreated_by\u001b[49m\n\u001b[0;32m     39\u001b[0m \u001b[43m    \u001b[49m\u001b[43m)\u001b[49m\n\u001b[0;32m     40\u001b[0m     erker_phenopackets\u001b[38;5;241m.\u001b[39mappend(phenopacket)\n\u001b[0;32m     42\u001b[0m \u001b[38;5;28mprint\u001b[39m(\u001b[38;5;124mf\u001b[39m\u001b[38;5;124m'\u001b[39m\u001b[38;5;124mMapped \u001b[39m\u001b[38;5;132;01m{\u001b[39;00m\u001b[38;5;28mlen\u001b[39m(erker_phenopackets)\u001b[38;5;132;01m}\u001b[39;00m\u001b[38;5;124m phenopackets\u001b[39m\u001b[38;5;124m'\u001b[39m)\n",
      "File \u001b[1;32m~\\OneDrive\\Documents\\DataSpell\\ERKER2Phenopackets\\src\\old_erker_mapping\\MapERKER2Phenopackets.py:63\u001b[0m, in \u001b[0;36mmap_erker_row2phenopacket\u001b[1;34m(phenopacket_id, row, resources, created_by)\u001b[0m\n\u001b[0;32m     46\u001b[0m \u001b[38;5;28;01mdef\u001b[39;00m \u001b[38;5;21mmap_erker_row2phenopacket\u001b[39m(\n\u001b[0;32m     47\u001b[0m         phenopacket_id: \u001b[38;5;28mstr\u001b[39m, row: Dict[\u001b[38;5;28mstr\u001b[39m, Any],\n\u001b[0;32m     48\u001b[0m         resources: List[Resource], created_by: \u001b[38;5;28mstr\u001b[39m) \u001b[38;5;241m-\u001b[39m\u001b[38;5;241m>\u001b[39m Phenopacket:\n\u001b[0;32m     49\u001b[0m     \u001b[38;5;124;03m\"\"\"Maps a row from the ERKER data to a Phenopacket.\u001b[39;00m\n\u001b[0;32m     50\u001b[0m \n\u001b[0;32m     51\u001b[0m \u001b[38;5;124;03m    :param phenopacket_id: The ID of the phenopacket.\u001b[39;00m\n\u001b[1;32m   (...)\u001b[0m\n\u001b[0;32m     60\u001b[0m \u001b[38;5;124;03m    :rtype: Phenopacket\u001b[39;00m\n\u001b[0;32m     61\u001b[0m \u001b[38;5;124;03m    \"\"\"\u001b[39;00m\n\u001b[1;32m---> 63\u001b[0m     subject \u001b[38;5;241m=\u001b[39m \u001b[43m_create_subject\u001b[49m\u001b[43m(\u001b[49m\u001b[43mphenopacket_id\u001b[49m\u001b[43m,\u001b[49m\u001b[43m \u001b[49m\u001b[43mrow\u001b[49m\u001b[43m)\u001b[49m\n\u001b[0;32m     65\u001b[0m     \u001b[38;5;66;03m# TODO: this does not require any patient specific data, move it out of the loop\u001b[39;00m\n\u001b[0;32m     66\u001b[0m     phenotypic_features \u001b[38;5;241m=\u001b[39m _create_phenotypic_features()\n",
      "File \u001b[1;32m~\\OneDrive\\Documents\\DataSpell\\ERKER2Phenopackets\\src\\old_erker_mapping\\MapERKER2Phenopackets.py:137\u001b[0m, in \u001b[0;36m_create_subject\u001b[1;34m(phenopacket_id, row)\u001b[0m\n\u001b[0;32m    124\u001b[0m \u001b[38;5;124;03m\"\"\"Creates the Individual block of a Phenopacket.\u001b[39;00m\n\u001b[0;32m    125\u001b[0m \n\u001b[0;32m    126\u001b[0m \u001b[38;5;124;03m:param phenopacket_id: The id of the phenopacket.\u001b[39;00m\n\u001b[1;32m   (...)\u001b[0m\n\u001b[0;32m    131\u001b[0m \u001b[38;5;124;03m:rtype: Individual\u001b[39;00m\n\u001b[0;32m    132\u001b[0m \u001b[38;5;124;03m\"\"\"\u001b[39;00m\n\u001b[0;32m    133\u001b[0m \u001b[38;5;66;03m# TODO: The elements we may consider adding:\u001b[39;00m\n\u001b[0;32m    134\u001b[0m \u001b[38;5;66;03m#  age at last encounter, vital status, karyotypic sex, gender\u001b[39;00m\n\u001b[0;32m    135\u001b[0m subject \u001b[38;5;241m=\u001b[39m Individual(\n\u001b[0;32m    136\u001b[0m     \u001b[38;5;28mid\u001b[39m\u001b[38;5;241m=\u001b[39mphenopacket_id,  \u001b[38;5;66;03m# TODO: is this a valid id here?\u001b[39;00m\n\u001b[1;32m--> 137\u001b[0m     date_of_birth\u001b[38;5;241m=\u001b[39m\u001b[43mparse_erker_date_of_birth\u001b[49m\u001b[43m(\u001b[49m\u001b[43mrow\u001b[49m\u001b[43m[\u001b[49m\u001b[38;5;124;43m'\u001b[39;49m\u001b[38;5;124;43msct_184099003_y\u001b[39;49m\u001b[38;5;124;43m'\u001b[39;49m\u001b[43m]\u001b[49m\u001b[43m)\u001b[49m,\n\u001b[0;32m    138\u001b[0m     sex\u001b[38;5;241m=\u001b[39mparse_erker_sex(row[\u001b[38;5;124m'\u001b[39m\u001b[38;5;124msct_281053000\u001b[39m\u001b[38;5;124m'\u001b[39m]),\n\u001b[0;32m    139\u001b[0m     taxonomy\u001b[38;5;241m=\u001b[39mOntologyClass(\u001b[38;5;28mid\u001b[39m\u001b[38;5;241m=\u001b[39m\u001b[38;5;124m'\u001b[39m\u001b[38;5;124mNCBITaxon:9606\u001b[39m\u001b[38;5;124m'\u001b[39m, label\u001b[38;5;241m=\u001b[39m\u001b[38;5;124m'\u001b[39m\u001b[38;5;124mHomo sapiens\u001b[39m\u001b[38;5;124m'\u001b[39m)\n\u001b[0;32m    140\u001b[0m )\n\u001b[0;32m    142\u001b[0m \u001b[38;5;28;01mreturn\u001b[39;00m subject\n",
      "File \u001b[1;32m~\\OneDrive\\Documents\\DataSpell\\ERKER2Phenopackets\\src\\old_erker_mapping\\ParseErker.py:37\u001b[0m, in \u001b[0;36mparse_erker_date_of_birth\u001b[1;34m(age)\u001b[0m\n\u001b[0;32m     35\u001b[0m seconds \u001b[38;5;241m=\u001b[39m math\u001b[38;5;241m.\u001b[39mfloor(ts)\n\u001b[0;32m     36\u001b[0m nanos \u001b[38;5;241m=\u001b[39m math\u001b[38;5;241m.\u001b[39mfloor((ts \u001b[38;5;241m-\u001b[39m seconds) \u001b[38;5;241m*\u001b[39m \u001b[38;5;241m1e9\u001b[39m)\n\u001b[1;32m---> 37\u001b[0m \u001b[38;5;28;01mreturn\u001b[39;00m \u001b[43mTimestamp\u001b[49m\u001b[43m(\u001b[49m\u001b[43mseconds\u001b[49m\u001b[38;5;241;43m=\u001b[39;49m\u001b[43mseconds\u001b[49m\u001b[43m,\u001b[49m\u001b[43m \u001b[49m\u001b[43mnanos\u001b[49m\u001b[38;5;241;43m=\u001b[39;49m\u001b[43mnanos\u001b[49m\u001b[43m)\u001b[49m\n",
      "\u001b[1;31mTypeError\u001b[0m: Timestamp() takes no arguments"
     ]
    }
   ],
   "source": [
    "phenopackets = map_mc4r2phenopackets(df, created_by=created_by)"
   ]
  },
  {
   "cell_type": "markdown",
   "metadata": {},
   "source": [
    "## Write to json"
   ]
  },
  {
   "cell_type": "code",
   "execution_count": null,
   "metadata": {
    "ExecuteTime": {
     "end_time": "2023-08-30T16:59:04.142928Z",
     "start_time": "2023-08-30T16:59:04.048972Z"
    },
    "collapsed": false
   },
   "outputs": [],
   "source": [
    "cur_time = datetime.now().strftime(\"%Y%m%d-%H%M%S\")\n",
    "phenopackets_out_dir = phenopackets_out / cur_time\n",
    "\n",
    "write_files(phenopackets, phenopackets_out_dir)"
   ]
  },
  {
   "cell_type": "code",
   "execution_count": null,
   "metadata": {},
   "outputs": [],
   "source": []
  },
  {
   "cell_type": "code",
   "execution_count": null,
   "metadata": {},
   "outputs": [],
   "source": []
  },
  {
   "cell_type": "code",
   "execution_count": null,
   "metadata": {},
   "outputs": [],
   "source": []
  }
 ],
 "metadata": {
  "kernelspec": {
   "display_name": "Python 3 (ipykernel)",
   "language": "python",
   "name": "python3"
  },
  "language_info": {
   "codemirror_mode": {
    "name": "ipython",
    "version": 3
   },
   "file_extension": ".py",
   "mimetype": "text/x-python",
   "name": "python",
   "nbconvert_exporter": "python",
   "pygments_lexer": "ipython3",
   "version": "3.10.6"
  },
  "orig_nbformat": 4
 },
 "nbformat": 4,
 "nbformat_minor": 2
}
