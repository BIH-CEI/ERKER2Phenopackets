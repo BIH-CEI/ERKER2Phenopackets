{
 "cells": [
  {
   "cell_type": "code",
   "execution_count": null,
   "metadata": {
    "ExecuteTime": {
     "end_time": "2023-08-31T16:35:28.993929Z",
     "start_time": "2023-08-31T16:35:28.868428Z"
    }
   },
   "outputs": [],
   "source": [
    "import polars as pl # the same as pandas just faster\n",
    "\n",
    "import configparser\n",
    "from pathlib import Path\n",
    "from datetime import datetime\n",
    "import sys\n",
    "\n",
    "sys.path.append('../..') # for imports to work\n",
    "from src.utils import write_files\n",
    "from src.MC4R import map_mc4r2phenopackets\n",
    "from src.utils import PolarsUtils"
   ]
  },
  {
   "cell_type": "markdown",
   "metadata": {},
   "source": [
    "### Get path to notebook from config file"
   ]
  },
  {
   "cell_type": "code",
   "execution_count": null,
   "metadata": {
    "ExecuteTime": {
     "end_time": "2023-08-31T16:35:29.056631Z",
     "start_time": "2023-08-31T16:35:28.884050Z"
    }
   },
   "outputs": [],
   "source": [
    "config = configparser.ConfigParser()\n",
    "config.read('../../data/config/config.cfg')\n",
    "real_data = True\n",
    "\n",
    "if real_data:\n",
    "    path = Path(config.get('Paths', 'mc4r_path')) \n",
    "else:\n",
    "    path = Path(config.get('Paths', 'synth_data_path'))\n",
    "\n",
    "phenopackets_out = Path(config.get('Paths', 'phenopackets_out'))"
   ]
  },
  {
   "cell_type": "markdown",
   "metadata": {
    "collapsed": false
   },
   "source": [
    "### Set Creator Tag"
   ]
  },
  {
   "cell_type": "code",
   "execution_count": null,
   "metadata": {
    "ExecuteTime": {
     "end_time": "2023-08-31T16:35:29.056631Z",
     "start_time": "2023-08-31T16:35:28.899673Z"
    },
    "collapsed": false
   },
   "outputs": [],
   "source": [
    "created_by = config.get('Constants', 'creator_tag')\n",
    "\n",
    "print(f'Creator tag: {created_by}')"
   ]
  },
  {
   "cell_type": "markdown",
   "metadata": {},
   "source": [
    "### Read data in"
   ]
  },
  {
   "cell_type": "code",
   "execution_count": null,
   "metadata": {
    "ExecuteTime": {
     "end_time": "2023-08-31T16:35:29.056631Z",
     "start_time": "2023-08-31T16:35:28.915354Z"
    }
   },
   "outputs": [],
   "source": [
    "df = pl.read_csv(path)\n",
    "df.head(5)"
   ]
  },
  {
   "cell_type": "markdown",
   "metadata": {
    "collapsed": false
   },
   "source": [
    "#### Get some info about the data"
   ]
  },
  {
   "cell_type": "markdown",
   "metadata": {
    "collapsed": false
   },
   "source": [
    "#### Get number of rows and columns"
   ]
  },
  {
   "cell_type": "code",
   "execution_count": null,
   "metadata": {
    "ExecuteTime": {
     "end_time": "2023-08-31T16:35:29.056631Z",
     "start_time": "2023-08-31T16:35:28.947041Z"
    },
    "collapsed": false
   },
   "outputs": [],
   "source": [
    "print(f'Number of rows: {PolarsUtils.get_num_rows(df)}')\n",
    "print(f'Number of cols: {PolarsUtils.get_num_cols(df)}')"
   ]
  },
  {
   "cell_type": "code",
   "execution_count": null,
   "metadata": {
    "ExecuteTime": {
     "end_time": "2023-08-31T16:35:29.072267Z",
     "start_time": "2023-08-31T16:35:28.962673Z"
    },
    "collapsed": false
   },
   "outputs": [],
   "source": [
    "df.describe()"
   ]
  },
  {
   "cell_type": "markdown",
   "metadata": {
    "collapsed": false
   },
   "source": [
    "#### Display unique values for each column"
   ]
  },
  {
   "cell_type": "code",
   "execution_count": null,
   "metadata": {
    "ExecuteTime": {
     "end_time": "2023-08-31T16:35:29.072267Z",
     "start_time": "2023-08-31T16:35:29.009550Z"
    },
    "collapsed": false
   },
   "outputs": [],
   "source": [
    "df.unique()"
   ]
  },
  {
   "cell_type": "markdown",
   "metadata": {
    "collapsed": false
   },
   "source": [
    "#### Get number of null values for each column"
   ]
  },
  {
   "cell_type": "code",
   "execution_count": null,
   "metadata": {
    "ExecuteTime": {
     "end_time": "2023-08-31T16:35:29.072267Z",
     "start_time": "2023-08-31T16:35:29.041618Z"
    },
    "collapsed": false
   },
   "outputs": [],
   "source": [
    "PolarsUtils.null_value_analysis(df, verbose=True)"
   ]
  },
  {
   "cell_type": "markdown",
   "metadata": {
    "collapsed": false
   },
   "source": [
    "## Preprocessing\n",
    "- remove null colus\n",
    "- clean up data\n",
    "- add id col to data (col name `'mc4r_id'`)"
   ]
  },
  {
   "cell_type": "markdown",
   "metadata": {
    "collapsed": false
   },
   "source": [
    "### Remove null cols"
   ]
  },
  {
   "cell_type": "code",
   "execution_count": null,
   "metadata": {
    "ExecuteTime": {
     "end_time": "2023-08-31T16:35:29.213329Z",
     "start_time": "2023-08-31T16:35:29.056631Z"
    },
    "collapsed": false
   },
   "outputs": [],
   "source": [
    "df = PolarsUtils.drop_null_cols(df, remove_all_null=True, remove_any_null=False)\n",
    "df.head(5)"
   ]
  },
  {
   "cell_type": "markdown",
   "metadata": {
    "collapsed": false
   },
   "source": [
    "### Update id column\n",
    "1. Drop old ID (has duplicate values)\n",
    "2. Initialize new ID column"
   ]
  },
  {
   "cell_type": "code",
   "execution_count": null,
   "metadata": {
    "ExecuteTime": {
     "end_time": "2023-08-31T16:35:29.228952Z",
     "start_time": "2023-08-31T16:35:29.087892Z"
    },
    "collapsed": false
   },
   "outputs": [],
   "source": [
    "df.drop_in_place('record_id');  # entferne alte ID"
   ]
  },
  {
   "cell_type": "code",
   "execution_count": null,
   "metadata": {
    "ExecuteTime": {
     "end_time": "2023-08-31T16:35:29.260602Z",
     "start_time": "2023-08-31T16:35:29.103517Z"
    },
    "collapsed": false
   },
   "outputs": [],
   "source": [
    "df = PolarsUtils.add_id_col(df, id_col_name='mc4r_id')  # fuege neue ID hinzu\n",
    "df.head(5)"
   ]
  },
  {
   "cell_type": "markdown",
   "metadata": {
    "collapsed": false
   },
   "source": [
    "### Parsing step"
   ]
  },
  {
   "cell_type": "code",
   "execution_count": null,
   "metadata": {
    "collapsed": false
   },
   "outputs": [],
   "source": [
    "from src.MC4R.MappingDicts import phenotype_label_map_erker2phenopackets\n",
    "from src.MC4R.MappingDicts import allele_label_map_erker2phenopackets\n",
    "from src.MC4R import zygosity_map_erker2phenopackets, sex_map_erker2phenopackets\n",
    "from src.MC4R.ParseMC4R import parse_date_of_diagnosis, parse_year_of_birth, \\\n",
    "parse_phenotyping_date, parse_omim\n",
    "\n",
    "config = configparser.ConfigParser()\n",
    "config.read('../../data/config/config.cfg')\n",
    "no_mutation = config.get('NoValue', 'mutation')\n",
    "no_phenotype = config.get('NoValue', 'phenotype')\n",
    "no_date = config.get('NoValue', 'date')\n",
    "no_omim = config.get('NoValue', 'omim')\n",
    "\n",
    "# sct_184099003_y (year of birth)\n",
    "df = PolarsUtils.map_col(df, map_from='sct_184099003_y', map_to='parsed_year_of_birth',\\\n",
    "    mapping=parse_year_of_birth)\n",
    "\n",
    "# sct_281053000 (sex)\n",
    "df = PolarsUtils.map_col(df, map_from='sct_281053000', map_to='parsed_sex',\\\n",
    "    mapping=sex_map_erker2phenopackets)\n",
    "\n",
    "# sct_432213005 (date of diagnosis)\n",
    "df = PolarsUtils.map_col(df, map_from='sct_432213005',\\\n",
    "    map_to='parsed_date_of_diagnosis' ,mapping=parse_date_of_diagnosis)\n",
    "df = PolarsUtils.fill_null_vals(df, 'parsed_date_of_diagnosis', no_date)\n",
    "\n",
    "# # ln_48007_9 (zygosity)\n",
    "df = PolarsUtils.map_col(df, map_from='ln_48007_9', map_to='parsed_zygosity',\\\n",
    "    mapping=zygosity_map_erker2phenopackets)\n",
    "df = PolarsUtils.map_col(df, map_from='ln_48007_9', map_to='allele_label', \\\n",
    "                         mapping=allele_label_map_erker2phenopackets)\n",
    "\n",
    "\n",
    "# sct_439401001_orpha (diagnosis (ORPHA))\n",
    "# does not require mapping\n",
    "\n",
    "# sct_439401001_omim_g_1, sct_439401001_omim_g_2, sct_439401001_omim_g_3 \\\n",
    "# (Primärdiagnose OMIM)\n",
    "df = PolarsUtils.map_col(df, map_from='sct_439401001_omim_g_1',\\\n",
    "    map_to='parsed_omim_1' ,mapping=parse_omim)\n",
    "df = PolarsUtils.fill_null_vals(df, 'parsed_omim_1', no_omim)\n",
    "    \n",
    "df = PolarsUtils.map_col(df, map_from='sct_439401001_omim_g_2',\\\n",
    "    map_to='parsed_omim_2' ,mapping=parse_omim)\n",
    "df = PolarsUtils.fill_null_vals(df, 'parsed_omim_2', no_omim)\n",
    "\n",
    "\n",
    "# ln_48005_3_1, ln_48005_3_2, ln_48005_3_3 (mutation p.HGVS)\n",
    "df = PolarsUtils.fill_null_vals(df, 'ln_48005_3_1', no_mutation)\n",
    "df = PolarsUtils.fill_null_vals(df, 'ln_48005_3_2', no_mutation)\n",
    "df = PolarsUtils.fill_null_vals(df, 'ln_48005_3_3', no_mutation)\n",
    "\n",
    "# ln_48004_6_1, ln_48004_6_2, ln_48004_6_3 (mutation c.HGVS)\n",
    "df = PolarsUtils.fill_null_vals(df, 'ln_48004_6_1', no_mutation)\n",
    "df = PolarsUtils.fill_null_vals(df, 'ln_48004_6_2', no_mutation)\n",
    "df = PolarsUtils.fill_null_vals(df, 'ln_48004_6_3', no_mutation)\n",
    "\n",
    "# ln_48018_6_1 (gene HGNC)\n",
    "# does not require mapping\n",
    "\n",
    "# sct_8116006_1, sct_8116006_2, sct_8116006_3, sct_8116006_4, sct_8116006_5 (phenotype\\\n",
    "  #classification\n",
    "df = PolarsUtils.fill_null_vals(df, 'sct_8116006_1', no_phenotype)\n",
    "df = PolarsUtils.fill_null_vals(df, 'sct_8116006_2', no_phenotype)\n",
    "df = PolarsUtils.fill_null_vals(df, 'sct_8116006_3', no_phenotype)\n",
    "df = PolarsUtils.fill_null_vals(df, 'sct_8116006_4', no_phenotype)\n",
    "if 'sct_8116006_5' in df.columns:\n",
    "    df = PolarsUtils.fill_null_vals(df, 'sct_8116006_5', no_phenotype)\n",
    "\n",
    "# sct_8116006_1_date, sct_8116006_2_date, sct_8116006_3_date, sct_8116006_4_date, \\\n",
    "    # sct_8116006_5_date (dates of phenotype determination)\n",
    "df = PolarsUtils.map_col(df, map_from='sct_8116006_1_date', map_to='parsed_date_of_phenotyping1', mapping=parse_phenotyping_date)\n",
    "df = PolarsUtils.fill_null_vals(df, 'parsed_date_of_phenotyping1',no_date)\n",
    "\n",
    "df = PolarsUtils.map_col(df, map_from='sct_8116006_2_date', map_to='parsed_date_of_phenotyping2', mapping=parse_phenotyping_date)\n",
    "df = PolarsUtils.fill_null_vals(df, 'parsed_date_of_phenotyping2',no_date)\n",
    "\n",
    "if 'sct_8116006_3_date' in df.columns:\n",
    "    df = PolarsUtils.map_col(df, map_from='sct_8116006_3_date', map_to='parsed_date_of_phenotyping3', mapping=parse_phenotyping_date)\n",
    "    df = PolarsUtils.fill_null_vals(df, 'parsed_date_of_phenotyping3',no_date)\n",
    "    \n",
    "if 'sct_8116006_4_date' in df.columns:\n",
    "    df = PolarsUtils.map_col(df, map_from='sct_8116006_4_date', map_to='parsed_date_of_phenotyping4', mapping=parse_phenotyping_date)\n",
    "    df = PolarsUtils.fill_null_vals(df, 'parsed_date_of_phenotyping4',no_date)\n",
    "    \n",
    "if 'sct_8116006_5_date' in df.columns:\n",
    "    df = PolarsUtils.map_col(df, map_from='sct_8116006_5_date', map_to='parsed_date_of_phenotyping5', mapping=parse_phenotyping_date)  \n",
    "    df = PolarsUtils.fill_null_vals(df, 'parsed_date_of_phenotyping5',no_date)  \n",
    "\n",
    "\n",
    "# phenotype label\n",
    "df = PolarsUtils.map_col(df, map_from='sct_8116006_1', map_to='parsed_phenotype_label1', mapping=phenotype_label_map_erker2phenopackets)\n",
    "df = PolarsUtils.map_col(df, map_from='sct_8116006_2', map_to='parsed_phenotype_label2', mapping=phenotype_label_map_erker2phenopackets)\n",
    "df = PolarsUtils.map_col(df, map_from='sct_8116006_3', map_to='parsed_phenotype_label3', mapping=phenotype_label_map_erker2phenopackets)\n",
    "df = PolarsUtils.map_col(df, map_from='sct_8116006_4', map_to='parsed_phenotype_label4', mapping=phenotype_label_map_erker2phenopackets)\n",
    "if 'sct_8116006_5' in df.columns:\n",
    "    df = PolarsUtils.map_col(df, map_from='sct_8116006_5', map_to='parsed_phenotype_label5', mapping=phenotype_label_map_erker2phenopackets)"
   ]
  },
  {
   "cell_type": "code",
   "execution_count": null,
   "metadata": {},
   "outputs": [],
   "source": [
    "df.head()"
   ]
  },
  {
   "cell_type": "markdown",
   "metadata": {
    "collapsed": false
   },
   "source": [
    "## Map to phenopackets"
   ]
  },
  {
   "cell_type": "code",
   "execution_count": null,
   "metadata": {
    "collapsed": false
   },
   "outputs": [],
   "source": [
    "phenopackets = map_mc4r2phenopackets(df)"
   ]
  },
  {
   "cell_type": "markdown",
   "metadata": {},
   "source": [
    "## Write to json"
   ]
  },
  {
   "cell_type": "code",
   "execution_count": null,
   "metadata": {
    "ExecuteTime": {
     "end_time": "2023-08-30T16:59:04.142928Z",
     "start_time": "2023-08-30T16:59:04.048972Z"
    },
    "collapsed": false
   },
   "outputs": [],
   "source": [
    "cur_time = datetime.now().strftime(\"%Y%m%d-%H%M%S\") # get cur time for unique dir name\n",
    "phenopackets_out_dir = phenopackets_out / cur_time # create dir for output\n",
    "\n",
    "write_files(phenopackets, phenopackets_out_dir)"
   ]
  },
  {
   "cell_type": "code",
   "execution_count": null,
   "metadata": {},
   "outputs": [],
   "source": []
  },
  {
   "cell_type": "code",
   "execution_count": null,
   "metadata": {},
   "outputs": [],
   "source": []
  },
  {
   "cell_type": "code",
   "execution_count": null,
   "metadata": {},
   "outputs": [],
   "source": []
  }
 ],
 "metadata": {
  "kernelspec": {
   "display_name": "Python 3 (ipykernel)",
   "language": "python",
   "name": "python3"
  },
  "language_info": {
   "codemirror_mode": {
    "name": "ipython",
    "version": 3
   },
   "file_extension": ".py",
   "mimetype": "text/x-python",
   "name": "python",
   "nbconvert_exporter": "python",
   "pygments_lexer": "ipython3",
   "version": "3.10.6"
  },
  "orig_nbformat": 4
 },
 "nbformat": 4,
 "nbformat_minor": 2
}
