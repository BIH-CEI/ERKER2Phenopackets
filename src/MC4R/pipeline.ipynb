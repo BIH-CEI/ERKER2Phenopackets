{
 "cells": [
  {
   "cell_type": "code",
   "execution_count": 1,
   "metadata": {
    "ExecuteTime": {
     "end_time": "2023-09-08T13:35:46.566954Z",
     "start_time": "2023-09-08T13:35:46.414236Z"
    }
   },
   "outputs": [],
   "source": [
    "import sys\n",
    "sys.path.append('../..') # for imports to work\n",
    "from src.logging_ import setup_logging\n",
    "\n",
    "setup_logging()"
   ]
  },
  {
   "cell_type": "code",
   "execution_count": 2,
   "metadata": {
    "ExecuteTime": {
     "end_time": "2023-09-08T13:35:47.150664Z",
     "start_time": "2023-09-08T13:35:46.578032Z"
    }
   },
   "outputs": [],
   "source": [
    "import polars as pl # the same as pandas just faster\n",
    "from loguru import logger\n",
    "\n",
    "import configparser\n",
    "from pathlib import Path\n",
    "from datetime import datetime\n",
    "\n",
    "from src.utils import write_files\n",
    "from src.MC4R import map_mc4r2phenopackets\n",
    "from src.utils import PolarsUtils"
   ]
  },
  {
   "cell_type": "markdown",
   "metadata": {},
   "source": [
    "### Get path to notebook from config file"
   ]
  },
  {
   "cell_type": "code",
   "execution_count": 3,
   "metadata": {
    "ExecuteTime": {
     "end_time": "2023-09-08T10:56:41.155935Z",
     "start_time": "2023-09-08T10:56:41.147084Z"
    }
   },
   "outputs": [],
   "source": [
    "config = configparser.ConfigParser()\n",
    "config.read('../../data/config/config.cfg')\n",
    "real_data = False\n",
    "\n",
    "if real_data:\n",
    "    path = Path(config.get('Paths', 'mc4r_path')) \n",
    "else:\n",
    "    path = Path(config.get('Paths', 'synth_data_path'))\n",
    "\n",
    "phenopackets_out = Path(config.get('Paths', 'phenopackets_out'))"
   ]
  },
  {
   "cell_type": "markdown",
   "metadata": {},
   "source": [
    "### Set up logger using loguru"
   ]
  },
  {
   "cell_type": "code",
   "execution_count": 4,
   "metadata": {
    "ExecuteTime": {
     "end_time": "2023-09-08T13:35:47.167565Z",
     "start_time": "2023-09-08T13:35:47.156678Z"
    }
   },
   "outputs": [
    {
     "name": "stdout",
     "output_type": "stream",
     "text": [
      "\u001b[32m2023-09-11 10:43:56\u001b[0m | \u001b[34m\u001b[1mDEBUG   \u001b[0m | \u001b[36m__main__\u001b[0m:\u001b[36m<cell line: 4>\u001b[0m:\u001b[36m4\u001b[0m - \u001b[34m\u001b[1mtest test  t\u001b[0m\n"
     ]
    }
   ],
   "source": [
    "cur_time = datetime.now().strftime(\"%Y-%m-%d-%H%M\") # get cur time for unique dir name\n",
    "\n",
    "\n",
    "logger.debug('test test  t')"
   ]
  },
  {
   "cell_type": "markdown",
   "metadata": {
    "collapsed": false
   },
   "source": [
    "## Set Creator Tag"
   ]
  },
  {
   "cell_type": "code",
   "execution_count": 5,
   "metadata": {
    "ExecuteTime": {
     "end_time": "2023-08-31T16:35:29.056631Z",
     "start_time": "2023-08-31T16:35:28.899673Z"
    },
    "collapsed": false
   },
   "outputs": [
    {
     "name": "stdout",
     "output_type": "stream",
     "text": [
      "Creator tag: P. Robinson, MD, D. Danis, PhD, A. Graefe, F. Rehburg\n"
     ]
    }
   ],
   "source": [
    "created_by = config.get('Constants', 'creator_tag')\n",
    "\n",
    "print(f'Creator tag: {created_by}')"
   ]
  },
  {
   "cell_type": "markdown",
   "metadata": {},
   "source": [
    "### Read data in"
   ]
  },
  {
   "cell_type": "code",
   "execution_count": 6,
   "metadata": {
    "ExecuteTime": {
     "end_time": "2023-08-31T16:35:29.056631Z",
     "start_time": "2023-08-31T16:35:28.915354Z"
    }
   },
   "outputs": [
    {
     "data": {
      "text/html": [
       "<div><style>\n",
       ".dataframe > thead > tr > th,\n",
       ".dataframe > tbody > tr > td {\n",
       "  text-align: right;\n",
       "}\n",
       "</style>\n",
       "<small>shape: (5, 317)</small><table border=\"1\" class=\"dataframe\"><thead><tr><th>record_id</th><th>sct_422549004</th><th>sct_399423000</th><th>sct_184099003_y</th><th>sct_281053000</th><th>sct_263495000</th><th>sct_315354004</th><th>sct_364699009</th><th>sct_278844005</th><th>sct_399753006</th><th>sct_420259009</th><th>sct_767023003</th><th>sct_184305005_rd</th><th>sct_16100001</th><th>sct_16100001_source</th><th>sct_769681006_center</th><th>sct_440377005</th><th>sct_276239002_aim</th><th>sct_424850005</th><th>sct_405795006_y</th><th>sct_405795006_m</th><th>sct_405795006_d</th><th>sct_423493009</th><th>sct_432213005_y</th><th>sct_432213005_m</th><th>sct_432213005_d</th><th>sct_717800004</th><th>sct_412726003</th><th>sct_64245008</th><th>sct_125679009_proposit</th><th>sct_842009</th><th>sct_439401001_orpha</th><th>sct_439401001_orpha_sub</th><th>sct_439401001_icd10gm</th><th>sct_439401001_alphaid</th><th>sct_439401001_alphaidstr</th><th>sct_38866009</th><th>&hellip;</th><th>sct_82101005_10_age</th><th>sct_82101005_10_gender</th><th>sct_75226009_rd</th><th>sct_75226009_1_age</th><th>sct_75226009_1_gender</th><th>sct_75226009_2_age</th><th>sct_75226009_2_gender</th><th>sct_75226009_3_age</th><th>sct_75226009_3_gender</th><th>sct_75226009_4_age</th><th>sct_75226009_4_gender</th><th>sct_75226009_5_age</th><th>sct_75226009_5_gender</th><th>sct_75226009_6_age</th><th>sct_75226009_6_gender</th><th>sct_75226009_7_age</th><th>sct_75226009_7_gender</th><th>sct_75226009_8_age</th><th>sct_75226009_8_gender</th><th>sct_75226009_9_age</th><th>sct_75226009_9_gender</th><th>sct_75226009_10_age</th><th>sct_75226009_10_gender</th><th>sct_309370004_research</th><th>sct_309370004_narse</th><th>sct_309370004_data</th><th>sct_309370004_eu</th><th>sct_309370004_int</th><th>sct_309370004_aff</th><th>sct_309370004_gen</th><th>sct_309370004_case</th><th>sct_123038009</th><th>sct_840566006</th><th>sct_840566006_specific</th><th>sct_21134002_class</th><th>sct_21134002_score</th><th>erker_v15_complete</th></tr><tr><td>i64</td><td>str</td><td>str</td><td>i64</td><td>str</td><td>str</td><td>str</td><td>str</td><td>str</td><td>str</td><td>str</td><td>str</td><td>str</td><td>str</td><td>str</td><td>str</td><td>str</td><td>str</td><td>str</td><td>str</td><td>str</td><td>str</td><td>str</td><td>f64</td><td>f64</td><td>f64</td><td>str</td><td>str</td><td>str</td><td>str</td><td>str</td><td>str</td><td>str</td><td>str</td><td>str</td><td>str</td><td>str</td><td>&hellip;</td><td>str</td><td>str</td><td>str</td><td>str</td><td>str</td><td>str</td><td>str</td><td>str</td><td>str</td><td>str</td><td>str</td><td>str</td><td>str</td><td>str</td><td>str</td><td>str</td><td>str</td><td>str</td><td>str</td><td>str</td><td>str</td><td>str</td><td>str</td><td>str</td><td>str</td><td>str</td><td>str</td><td>str</td><td>str</td><td>str</td><td>str</td><td>str</td><td>str</td><td>str</td><td>str</td><td>str</td><td>str</td></tr></thead><tbody><tr><td>8</td><td>&quot;YD053&quot;</td><td>&quot;2023-09-05&quot;</td><td>1995</td><td>&quot;sct_248153007&quot;</td><td>null</td><td>null</td><td>&quot;sct_414408004&quot;</td><td>&quot;CS_MII_Person_…</td><td>null</td><td>null</td><td>&quot;sct_41847000&quot;</td><td>&quot;sct_1220561009…</td><td>null</td><td>null</td><td>&quot;2007-17-20&quot;</td><td>&quot;sct_1220561009…</td><td>null</td><td>&quot;sct_261665006&quot;</td><td>null</td><td>null</td><td>null</td><td>&quot;sct_410672004&quot;</td><td>2008.0</td><td>11.0</td><td>19.0</td><td>&quot;sct_1220561009…</td><td>null</td><td>&quot;sct_1220561009…</td><td>&quot;sct_1220561009…</td><td>&quot;sct_1220561009…</td><td>&quot;ORPHA:71529&quot;</td><td>null</td><td>&quot;E66.8&quot;</td><td>&quot;sct_1220561009…</td><td>null</td><td>null</td><td>&hellip;</td><td>null</td><td>null</td><td>&quot;sct_1220561009…</td><td>null</td><td>null</td><td>null</td><td>null</td><td>null</td><td>null</td><td>null</td><td>null</td><td>null</td><td>null</td><td>null</td><td>null</td><td>null</td><td>null</td><td>null</td><td>null</td><td>null</td><td>null</td><td>null</td><td>null</td><td>&quot;sct_1220561009…</td><td>&quot;sct_1220561009…</td><td>&quot;sct_1220561009…</td><td>&quot;sct_1220561009…</td><td>&quot;sct_1220561009…</td><td>&quot;sct_1220561009…</td><td>&quot;sct_1220561009…</td><td>&quot;sct_1220561009…</td><td>&quot;sct_1220561009…</td><td>&quot;sct_1220561009…</td><td>null</td><td>&quot;sct_1220561009…</td><td>null</td><td>null</td></tr><tr><td>37</td><td>&quot;ER019&quot;</td><td>&quot;2023-09-05&quot;</td><td>1992</td><td>&quot;sct_248153007&quot;</td><td>null</td><td>null</td><td>&quot;sct_14045001&quot;</td><td>&quot;CS_MII_Person_…</td><td>null</td><td>null</td><td>&quot;sct_41847000&quot;</td><td>&quot;sct_1220561009…</td><td>null</td><td>null</td><td>&quot;2015-14-18&quot;</td><td>&quot;sct_1220561009…</td><td>null</td><td>&quot;sct_261665006&quot;</td><td>null</td><td>null</td><td>null</td><td>&quot;sct_410672004&quot;</td><td>2014.0</td><td>5.0</td><td>5.0</td><td>&quot;sct_1220561009…</td><td>null</td><td>&quot;sct_1220561009…</td><td>&quot;sct_1220561009…</td><td>&quot;sct_373067005&quot;</td><td>&quot;ORPHA:71529&quot;</td><td>null</td><td>&quot;E66.8&quot;</td><td>&quot;sct_1220561009…</td><td>null</td><td>null</td><td>&hellip;</td><td>null</td><td>null</td><td>&quot;sct_1220561009…</td><td>null</td><td>null</td><td>null</td><td>null</td><td>null</td><td>null</td><td>null</td><td>null</td><td>null</td><td>null</td><td>null</td><td>null</td><td>null</td><td>null</td><td>null</td><td>null</td><td>null</td><td>null</td><td>null</td><td>null</td><td>&quot;sct_1220561009…</td><td>&quot;sct_1220561009…</td><td>&quot;sct_1220561009…</td><td>&quot;sct_1220561009…</td><td>&quot;sct_1220561009…</td><td>&quot;sct_1220561009…</td><td>&quot;sct_1220561009…</td><td>&quot;sct_1220561009…</td><td>&quot;sct_1220561009…</td><td>&quot;sct_1220561009…</td><td>null</td><td>&quot;sct_1220561009…</td><td>null</td><td>null</td></tr><tr><td>66</td><td>&quot;LD045&quot;</td><td>&quot;2023-09-05&quot;</td><td>1997</td><td>&quot;sct_248152002&quot;</td><td>null</td><td>null</td><td>&quot;sct_14045001&quot;</td><td>&quot;CS_MII_Person_…</td><td>null</td><td>null</td><td>&quot;sct_41847000&quot;</td><td>&quot;sct_1220561009…</td><td>null</td><td>null</td><td>&quot;2001-7-16&quot;</td><td>&quot;sct_1220561009…</td><td>null</td><td>&quot;sct_261665006&quot;</td><td>null</td><td>null</td><td>null</td><td>&quot;sct_410672004&quot;</td><td>2018.0</td><td>7.0</td><td>7.0</td><td>&quot;sct_1220561009…</td><td>null</td><td>&quot;sct_1220561009…</td><td>&quot;sct_1220561009…</td><td>&quot;sct_1220561009…</td><td>&quot;ORPHA:71529&quot;</td><td>null</td><td>&quot;E66.8&quot;</td><td>&quot;sct_1220561009…</td><td>null</td><td>null</td><td>&hellip;</td><td>null</td><td>null</td><td>&quot;sct_1220561009…</td><td>null</td><td>null</td><td>null</td><td>null</td><td>null</td><td>null</td><td>null</td><td>null</td><td>null</td><td>null</td><td>null</td><td>null</td><td>null</td><td>null</td><td>null</td><td>null</td><td>null</td><td>null</td><td>null</td><td>null</td><td>&quot;sct_1220561009…</td><td>&quot;sct_1220561009…</td><td>&quot;sct_1220561009…</td><td>&quot;sct_1220561009…</td><td>&quot;sct_1220561009…</td><td>&quot;sct_1220561009…</td><td>&quot;sct_1220561009…</td><td>&quot;sct_1220561009…</td><td>&quot;sct_1220561009…</td><td>&quot;sct_1220561009…</td><td>null</td><td>&quot;sct_1220561009…</td><td>null</td><td>null</td></tr><tr><td>35</td><td>&quot;AM034&quot;</td><td>&quot;2023-09-05&quot;</td><td>1994</td><td>&quot;sct_248152002&quot;</td><td>null</td><td>null</td><td>&quot;sct_14045001&quot;</td><td>&quot;CS_MII_Person_…</td><td>null</td><td>null</td><td>&quot;sct_263659003&quot;</td><td>&quot;sct_1220561009…</td><td>null</td><td>null</td><td>&quot;2008-6-14&quot;</td><td>&quot;sct_1220561009…</td><td>null</td><td>&quot;sct_261665006&quot;</td><td>null</td><td>null</td><td>null</td><td>&quot;sct_410672004&quot;</td><td>2009.0</td><td>7.0</td><td>10.0</td><td>&quot;sct_1220561009…</td><td>null</td><td>&quot;sct_1220561009…</td><td>&quot;sct_1220561009…</td><td>&quot;sct_373066001&quot;</td><td>&quot;ORPHA:71529&quot;</td><td>null</td><td>&quot;E66.8&quot;</td><td>&quot;sct_1220561009…</td><td>null</td><td>null</td><td>&hellip;</td><td>null</td><td>null</td><td>&quot;sct_1220561009…</td><td>null</td><td>null</td><td>null</td><td>null</td><td>null</td><td>null</td><td>null</td><td>null</td><td>null</td><td>null</td><td>null</td><td>null</td><td>null</td><td>null</td><td>null</td><td>null</td><td>null</td><td>null</td><td>null</td><td>null</td><td>&quot;sct_1220561009…</td><td>&quot;sct_1220561009…</td><td>&quot;sct_1220561009…</td><td>&quot;sct_1220561009…</td><td>&quot;sct_1220561009…</td><td>&quot;sct_1220561009…</td><td>&quot;sct_1220561009…</td><td>&quot;sct_1220561009…</td><td>&quot;sct_1220561009…</td><td>&quot;sct_1220561009…</td><td>null</td><td>&quot;sct_1220561009…</td><td>null</td><td>null</td></tr><tr><td>88</td><td>&quot;NS054&quot;</td><td>&quot;2023-09-05&quot;</td><td>1995</td><td>&quot;sct_248153007&quot;</td><td>null</td><td>null</td><td>&quot;sct_14045001&quot;</td><td>&quot;CS_MII_Person_…</td><td>null</td><td>null</td><td>&quot;sct_263659003&quot;</td><td>&quot;sct_1220561009…</td><td>null</td><td>null</td><td>&quot;2008-17-4&quot;</td><td>&quot;sct_1220561009…</td><td>null</td><td>&quot;sct_261665006&quot;</td><td>null</td><td>null</td><td>null</td><td>&quot;sct_410672004&quot;</td><td>2019.0</td><td>2.0</td><td>18.0</td><td>&quot;sct_1220561009…</td><td>null</td><td>&quot;sct_1220561009…</td><td>&quot;sct_1220561009…</td><td>&quot;sct_1220561009…</td><td>&quot;ORPHA:71529&quot;</td><td>null</td><td>&quot;E66.8&quot;</td><td>&quot;sct_1220561009…</td><td>null</td><td>null</td><td>&hellip;</td><td>null</td><td>null</td><td>&quot;sct_1220561009…</td><td>null</td><td>null</td><td>null</td><td>null</td><td>null</td><td>null</td><td>null</td><td>null</td><td>null</td><td>null</td><td>null</td><td>null</td><td>null</td><td>null</td><td>null</td><td>null</td><td>null</td><td>null</td><td>null</td><td>null</td><td>&quot;sct_1220561009…</td><td>&quot;sct_1220561009…</td><td>&quot;sct_1220561009…</td><td>&quot;sct_1220561009…</td><td>&quot;sct_1220561009…</td><td>&quot;sct_1220561009…</td><td>&quot;sct_1220561009…</td><td>&quot;sct_1220561009…</td><td>&quot;sct_1220561009…</td><td>&quot;sct_1220561009…</td><td>null</td><td>&quot;sct_1220561009…</td><td>null</td><td>null</td></tr></tbody></table></div>"
      ],
      "text/plain": [
       "shape: (5, 317)\n",
       "┌───────────┬───────────┬───────────┬───────────┬───┬───────────┬───────────┬───────────┬──────────┐\n",
       "│ record_id ┆ sct_42254 ┆ sct_39942 ┆ sct_18409 ┆ … ┆ sct_84056 ┆ sct_21134 ┆ sct_21134 ┆ erker_v1 │\n",
       "│ ---       ┆ 9004      ┆ 3000      ┆ 9003_y    ┆   ┆ 6006_spec ┆ 002_class ┆ 002_score ┆ 5_comple │\n",
       "│ i64       ┆ ---       ┆ ---       ┆ ---       ┆   ┆ ific      ┆ ---       ┆ ---       ┆ te       │\n",
       "│           ┆ str       ┆ str       ┆ i64       ┆   ┆ ---       ┆ str       ┆ str       ┆ ---      │\n",
       "│           ┆           ┆           ┆           ┆   ┆ str       ┆           ┆           ┆ str      │\n",
       "╞═══════════╪═══════════╪═══════════╪═══════════╪═══╪═══════════╪═══════════╪═══════════╪══════════╡\n",
       "│ 8         ┆ YD053     ┆ 2023-09-0 ┆ 1995      ┆ … ┆ null      ┆ sct_12205 ┆ null      ┆ null     │\n",
       "│           ┆           ┆ 5         ┆           ┆   ┆           ┆ 61009     ┆           ┆          │\n",
       "│ 37        ┆ ER019     ┆ 2023-09-0 ┆ 1992      ┆ … ┆ null      ┆ sct_12205 ┆ null      ┆ null     │\n",
       "│           ┆           ┆ 5         ┆           ┆   ┆           ┆ 61009     ┆           ┆          │\n",
       "│ 66        ┆ LD045     ┆ 2023-09-0 ┆ 1997      ┆ … ┆ null      ┆ sct_12205 ┆ null      ┆ null     │\n",
       "│           ┆           ┆ 5         ┆           ┆   ┆           ┆ 61009     ┆           ┆          │\n",
       "│ 35        ┆ AM034     ┆ 2023-09-0 ┆ 1994      ┆ … ┆ null      ┆ sct_12205 ┆ null      ┆ null     │\n",
       "│           ┆           ┆ 5         ┆           ┆   ┆           ┆ 61009     ┆           ┆          │\n",
       "│ 88        ┆ NS054     ┆ 2023-09-0 ┆ 1995      ┆ … ┆ null      ┆ sct_12205 ┆ null      ┆ null     │\n",
       "│           ┆           ┆ 5         ┆           ┆   ┆           ┆ 61009     ┆           ┆          │\n",
       "└───────────┴───────────┴───────────┴───────────┴───┴───────────┴───────────┴───────────┴──────────┘"
      ]
     },
     "execution_count": 6,
     "metadata": {},
     "output_type": "execute_result"
    }
   ],
   "source": [
    "df = pl.read_csv(path)\n",
    "df.head(5)"
   ]
  },
  {
   "cell_type": "markdown",
   "metadata": {
    "collapsed": false
   },
   "source": [
    "#### Get some info about the data"
   ]
  },
  {
   "cell_type": "markdown",
   "metadata": {
    "collapsed": false
   },
   "source": [
    "#### Get number of rows and columns"
   ]
  },
  {
   "cell_type": "code",
   "execution_count": 7,
   "metadata": {
    "ExecuteTime": {
     "end_time": "2023-08-31T16:35:29.056631Z",
     "start_time": "2023-08-31T16:35:28.947041Z"
    },
    "collapsed": false
   },
   "outputs": [
    {
     "name": "stdout",
     "output_type": "stream",
     "text": [
      "Number of rows: 317\n",
      "Number of cols: 50\n"
     ]
    }
   ],
   "source": [
    "print(f'Number of rows: {PolarsUtils.get_num_rows(df)}')\n",
    "print(f'Number of cols: {PolarsUtils.get_num_cols(df)}')"
   ]
  },
  {
   "cell_type": "code",
   "execution_count": 8,
   "metadata": {
    "ExecuteTime": {
     "end_time": "2023-08-31T16:35:29.072267Z",
     "start_time": "2023-08-31T16:35:28.962673Z"
    },
    "collapsed": false
   },
   "outputs": [
    {
     "data": {
      "text/html": [
       "<div><style>\n",
       ".dataframe > thead > tr > th,\n",
       ".dataframe > tbody > tr > td {\n",
       "  text-align: right;\n",
       "}\n",
       "</style>\n",
       "<small>shape: (9, 318)</small><table border=\"1\" class=\"dataframe\"><thead><tr><th>describe</th><th>record_id</th><th>sct_422549004</th><th>sct_399423000</th><th>sct_184099003_y</th><th>sct_281053000</th><th>sct_263495000</th><th>sct_315354004</th><th>sct_364699009</th><th>sct_278844005</th><th>sct_399753006</th><th>sct_420259009</th><th>sct_767023003</th><th>sct_184305005_rd</th><th>sct_16100001</th><th>sct_16100001_source</th><th>sct_769681006_center</th><th>sct_440377005</th><th>sct_276239002_aim</th><th>sct_424850005</th><th>sct_405795006_y</th><th>sct_405795006_m</th><th>sct_405795006_d</th><th>sct_423493009</th><th>sct_432213005_y</th><th>sct_432213005_m</th><th>sct_432213005_d</th><th>sct_717800004</th><th>sct_412726003</th><th>sct_64245008</th><th>sct_125679009_proposit</th><th>sct_842009</th><th>sct_439401001_orpha</th><th>sct_439401001_orpha_sub</th><th>sct_439401001_icd10gm</th><th>sct_439401001_alphaid</th><th>sct_439401001_alphaidstr</th><th>&hellip;</th><th>sct_82101005_10_age</th><th>sct_82101005_10_gender</th><th>sct_75226009_rd</th><th>sct_75226009_1_age</th><th>sct_75226009_1_gender</th><th>sct_75226009_2_age</th><th>sct_75226009_2_gender</th><th>sct_75226009_3_age</th><th>sct_75226009_3_gender</th><th>sct_75226009_4_age</th><th>sct_75226009_4_gender</th><th>sct_75226009_5_age</th><th>sct_75226009_5_gender</th><th>sct_75226009_6_age</th><th>sct_75226009_6_gender</th><th>sct_75226009_7_age</th><th>sct_75226009_7_gender</th><th>sct_75226009_8_age</th><th>sct_75226009_8_gender</th><th>sct_75226009_9_age</th><th>sct_75226009_9_gender</th><th>sct_75226009_10_age</th><th>sct_75226009_10_gender</th><th>sct_309370004_research</th><th>sct_309370004_narse</th><th>sct_309370004_data</th><th>sct_309370004_eu</th><th>sct_309370004_int</th><th>sct_309370004_aff</th><th>sct_309370004_gen</th><th>sct_309370004_case</th><th>sct_123038009</th><th>sct_840566006</th><th>sct_840566006_specific</th><th>sct_21134002_class</th><th>sct_21134002_score</th><th>erker_v15_complete</th></tr><tr><td>str</td><td>f64</td><td>str</td><td>str</td><td>f64</td><td>str</td><td>str</td><td>str</td><td>str</td><td>str</td><td>str</td><td>str</td><td>str</td><td>str</td><td>str</td><td>str</td><td>str</td><td>str</td><td>str</td><td>str</td><td>str</td><td>str</td><td>str</td><td>str</td><td>f64</td><td>f64</td><td>f64</td><td>str</td><td>str</td><td>str</td><td>str</td><td>str</td><td>str</td><td>str</td><td>str</td><td>str</td><td>str</td><td>&hellip;</td><td>str</td><td>str</td><td>str</td><td>str</td><td>str</td><td>str</td><td>str</td><td>str</td><td>str</td><td>str</td><td>str</td><td>str</td><td>str</td><td>str</td><td>str</td><td>str</td><td>str</td><td>str</td><td>str</td><td>str</td><td>str</td><td>str</td><td>str</td><td>str</td><td>str</td><td>str</td><td>str</td><td>str</td><td>str</td><td>str</td><td>str</td><td>str</td><td>str</td><td>str</td><td>str</td><td>str</td><td>str</td></tr></thead><tbody><tr><td>&quot;count&quot;</td><td>50.0</td><td>&quot;50&quot;</td><td>&quot;50&quot;</td><td>50.0</td><td>&quot;50&quot;</td><td>&quot;50&quot;</td><td>&quot;50&quot;</td><td>&quot;50&quot;</td><td>&quot;50&quot;</td><td>&quot;50&quot;</td><td>&quot;50&quot;</td><td>&quot;50&quot;</td><td>&quot;50&quot;</td><td>&quot;50&quot;</td><td>&quot;50&quot;</td><td>&quot;50&quot;</td><td>&quot;50&quot;</td><td>&quot;50&quot;</td><td>&quot;50&quot;</td><td>&quot;50&quot;</td><td>&quot;50&quot;</td><td>&quot;50&quot;</td><td>&quot;50&quot;</td><td>50.0</td><td>50.0</td><td>50.0</td><td>&quot;50&quot;</td><td>&quot;50&quot;</td><td>&quot;50&quot;</td><td>&quot;50&quot;</td><td>&quot;50&quot;</td><td>&quot;50&quot;</td><td>&quot;50&quot;</td><td>&quot;50&quot;</td><td>&quot;50&quot;</td><td>&quot;50&quot;</td><td>&hellip;</td><td>&quot;50&quot;</td><td>&quot;50&quot;</td><td>&quot;50&quot;</td><td>&quot;50&quot;</td><td>&quot;50&quot;</td><td>&quot;50&quot;</td><td>&quot;50&quot;</td><td>&quot;50&quot;</td><td>&quot;50&quot;</td><td>&quot;50&quot;</td><td>&quot;50&quot;</td><td>&quot;50&quot;</td><td>&quot;50&quot;</td><td>&quot;50&quot;</td><td>&quot;50&quot;</td><td>&quot;50&quot;</td><td>&quot;50&quot;</td><td>&quot;50&quot;</td><td>&quot;50&quot;</td><td>&quot;50&quot;</td><td>&quot;50&quot;</td><td>&quot;50&quot;</td><td>&quot;50&quot;</td><td>&quot;50&quot;</td><td>&quot;50&quot;</td><td>&quot;50&quot;</td><td>&quot;50&quot;</td><td>&quot;50&quot;</td><td>&quot;50&quot;</td><td>&quot;50&quot;</td><td>&quot;50&quot;</td><td>&quot;50&quot;</td><td>&quot;50&quot;</td><td>&quot;50&quot;</td><td>&quot;50&quot;</td><td>&quot;50&quot;</td><td>&quot;50&quot;</td></tr><tr><td>&quot;null_count&quot;</td><td>0.0</td><td>&quot;0&quot;</td><td>&quot;0&quot;</td><td>0.0</td><td>&quot;0&quot;</td><td>&quot;50&quot;</td><td>&quot;50&quot;</td><td>&quot;5&quot;</td><td>&quot;0&quot;</td><td>&quot;50&quot;</td><td>&quot;50&quot;</td><td>&quot;0&quot;</td><td>&quot;0&quot;</td><td>&quot;50&quot;</td><td>&quot;50&quot;</td><td>&quot;0&quot;</td><td>&quot;0&quot;</td><td>&quot;50&quot;</td><td>&quot;0&quot;</td><td>&quot;50&quot;</td><td>&quot;50&quot;</td><td>&quot;50&quot;</td><td>&quot;0&quot;</td><td>1.0</td><td>1.0</td><td>2.0</td><td>&quot;0&quot;</td><td>&quot;50&quot;</td><td>&quot;0&quot;</td><td>&quot;0&quot;</td><td>&quot;0&quot;</td><td>&quot;0&quot;</td><td>&quot;50&quot;</td><td>&quot;0&quot;</td><td>&quot;0&quot;</td><td>&quot;50&quot;</td><td>&hellip;</td><td>&quot;50&quot;</td><td>&quot;50&quot;</td><td>&quot;0&quot;</td><td>&quot;50&quot;</td><td>&quot;50&quot;</td><td>&quot;50&quot;</td><td>&quot;50&quot;</td><td>&quot;50&quot;</td><td>&quot;50&quot;</td><td>&quot;50&quot;</td><td>&quot;50&quot;</td><td>&quot;50&quot;</td><td>&quot;50&quot;</td><td>&quot;50&quot;</td><td>&quot;50&quot;</td><td>&quot;50&quot;</td><td>&quot;50&quot;</td><td>&quot;50&quot;</td><td>&quot;50&quot;</td><td>&quot;50&quot;</td><td>&quot;50&quot;</td><td>&quot;50&quot;</td><td>&quot;50&quot;</td><td>&quot;0&quot;</td><td>&quot;0&quot;</td><td>&quot;0&quot;</td><td>&quot;0&quot;</td><td>&quot;0&quot;</td><td>&quot;0&quot;</td><td>&quot;0&quot;</td><td>&quot;0&quot;</td><td>&quot;0&quot;</td><td>&quot;0&quot;</td><td>&quot;50&quot;</td><td>&quot;0&quot;</td><td>&quot;50&quot;</td><td>&quot;50&quot;</td></tr><tr><td>&quot;mean&quot;</td><td>44.86</td><td>null</td><td>null</td><td>1998.94</td><td>null</td><td>null</td><td>null</td><td>null</td><td>null</td><td>null</td><td>null</td><td>null</td><td>null</td><td>null</td><td>null</td><td>null</td><td>null</td><td>null</td><td>null</td><td>null</td><td>null</td><td>null</td><td>null</td><td>2011.122449</td><td>5.857143</td><td>15.375</td><td>null</td><td>null</td><td>null</td><td>null</td><td>null</td><td>null</td><td>null</td><td>null</td><td>null</td><td>null</td><td>&hellip;</td><td>null</td><td>null</td><td>null</td><td>null</td><td>null</td><td>null</td><td>null</td><td>null</td><td>null</td><td>null</td><td>null</td><td>null</td><td>null</td><td>null</td><td>null</td><td>null</td><td>null</td><td>null</td><td>null</td><td>null</td><td>null</td><td>null</td><td>null</td><td>null</td><td>null</td><td>null</td><td>null</td><td>null</td><td>null</td><td>null</td><td>null</td><td>null</td><td>null</td><td>null</td><td>null</td><td>null</td><td>null</td></tr><tr><td>&quot;std&quot;</td><td>29.624872</td><td>null</td><td>null</td><td>7.028833</td><td>null</td><td>null</td><td>null</td><td>null</td><td>null</td><td>null</td><td>null</td><td>null</td><td>null</td><td>null</td><td>null</td><td>null</td><td>null</td><td>null</td><td>null</td><td>null</td><td>null</td><td>null</td><td>null</td><td>4.871827</td><td>3.272359</td><td>8.001662</td><td>null</td><td>null</td><td>null</td><td>null</td><td>null</td><td>null</td><td>null</td><td>null</td><td>null</td><td>null</td><td>&hellip;</td><td>null</td><td>null</td><td>null</td><td>null</td><td>null</td><td>null</td><td>null</td><td>null</td><td>null</td><td>null</td><td>null</td><td>null</td><td>null</td><td>null</td><td>null</td><td>null</td><td>null</td><td>null</td><td>null</td><td>null</td><td>null</td><td>null</td><td>null</td><td>null</td><td>null</td><td>null</td><td>null</td><td>null</td><td>null</td><td>null</td><td>null</td><td>null</td><td>null</td><td>null</td><td>null</td><td>null</td><td>null</td></tr><tr><td>&quot;min&quot;</td><td>1.0</td><td>&quot;AA009&quot;</td><td>&quot;2023-09-05&quot;</td><td>1988.0</td><td>&quot;sct_248152002&quot;</td><td>null</td><td>null</td><td>&quot;sct_14045001&quot;</td><td>&quot;CS_MII_Person_…</td><td>null</td><td>null</td><td>&quot;sct_255398004&quot;</td><td>&quot;sct_1220561009…</td><td>null</td><td>null</td><td>&quot;2001-7-16&quot;</td><td>&quot;sct_1220561009…</td><td>null</td><td>&quot;sct_261665006&quot;</td><td>null</td><td>null</td><td>null</td><td>&quot;sct_410672004&quot;</td><td>2000.0</td><td>1.0</td><td>3.0</td><td>&quot;sct_1220561009…</td><td>null</td><td>&quot;sct_1220561009…</td><td>&quot;sct_1220561009…</td><td>&quot;sct_1220561009…</td><td>&quot;ORPHA:71529&quot;</td><td>null</td><td>&quot;E66.8&quot;</td><td>&quot;sct_1220561009…</td><td>null</td><td>&hellip;</td><td>null</td><td>null</td><td>&quot;sct_1220561009…</td><td>null</td><td>null</td><td>null</td><td>null</td><td>null</td><td>null</td><td>null</td><td>null</td><td>null</td><td>null</td><td>null</td><td>null</td><td>null</td><td>null</td><td>null</td><td>null</td><td>null</td><td>null</td><td>null</td><td>null</td><td>&quot;sct_1220561009…</td><td>&quot;sct_1220561009…</td><td>&quot;sct_1220561009…</td><td>&quot;sct_1220561009…</td><td>&quot;sct_1220561009…</td><td>&quot;sct_1220561009…</td><td>&quot;sct_1220561009…</td><td>&quot;sct_1220561009…</td><td>&quot;sct_1220561009…</td><td>&quot;sct_1220561009…</td><td>null</td><td>&quot;sct_1220561009…</td><td>null</td><td>null</td></tr><tr><td>&quot;25%&quot;</td><td>18.0</td><td>null</td><td>null</td><td>1995.0</td><td>null</td><td>null</td><td>null</td><td>null</td><td>null</td><td>null</td><td>null</td><td>null</td><td>null</td><td>null</td><td>null</td><td>null</td><td>null</td><td>null</td><td>null</td><td>null</td><td>null</td><td>null</td><td>null</td><td>2008.0</td><td>3.0</td><td>9.0</td><td>null</td><td>null</td><td>null</td><td>null</td><td>null</td><td>null</td><td>null</td><td>null</td><td>null</td><td>null</td><td>&hellip;</td><td>null</td><td>null</td><td>null</td><td>null</td><td>null</td><td>null</td><td>null</td><td>null</td><td>null</td><td>null</td><td>null</td><td>null</td><td>null</td><td>null</td><td>null</td><td>null</td><td>null</td><td>null</td><td>null</td><td>null</td><td>null</td><td>null</td><td>null</td><td>null</td><td>null</td><td>null</td><td>null</td><td>null</td><td>null</td><td>null</td><td>null</td><td>null</td><td>null</td><td>null</td><td>null</td><td>null</td><td>null</td></tr><tr><td>&quot;50%&quot;</td><td>47.0</td><td>null</td><td>null</td><td>1997.0</td><td>null</td><td>null</td><td>null</td><td>null</td><td>null</td><td>null</td><td>null</td><td>null</td><td>null</td><td>null</td><td>null</td><td>null</td><td>null</td><td>null</td><td>null</td><td>null</td><td>null</td><td>null</td><td>null</td><td>2010.0</td><td>6.0</td><td>17.0</td><td>null</td><td>null</td><td>null</td><td>null</td><td>null</td><td>null</td><td>null</td><td>null</td><td>null</td><td>null</td><td>&hellip;</td><td>null</td><td>null</td><td>null</td><td>null</td><td>null</td><td>null</td><td>null</td><td>null</td><td>null</td><td>null</td><td>null</td><td>null</td><td>null</td><td>null</td><td>null</td><td>null</td><td>null</td><td>null</td><td>null</td><td>null</td><td>null</td><td>null</td><td>null</td><td>null</td><td>null</td><td>null</td><td>null</td><td>null</td><td>null</td><td>null</td><td>null</td><td>null</td><td>null</td><td>null</td><td>null</td><td>null</td><td>null</td></tr><tr><td>&quot;75%&quot;</td><td>70.0</td><td>null</td><td>null</td><td>2002.0</td><td>null</td><td>null</td><td>null</td><td>null</td><td>null</td><td>null</td><td>null</td><td>null</td><td>null</td><td>null</td><td>null</td><td>null</td><td>null</td><td>null</td><td>null</td><td>null</td><td>null</td><td>null</td><td>null</td><td>2015.0</td><td>9.0</td><td>21.0</td><td>null</td><td>null</td><td>null</td><td>null</td><td>null</td><td>null</td><td>null</td><td>null</td><td>null</td><td>null</td><td>&hellip;</td><td>null</td><td>null</td><td>null</td><td>null</td><td>null</td><td>null</td><td>null</td><td>null</td><td>null</td><td>null</td><td>null</td><td>null</td><td>null</td><td>null</td><td>null</td><td>null</td><td>null</td><td>null</td><td>null</td><td>null</td><td>null</td><td>null</td><td>null</td><td>null</td><td>null</td><td>null</td><td>null</td><td>null</td><td>null</td><td>null</td><td>null</td><td>null</td><td>null</td><td>null</td><td>null</td><td>null</td><td>null</td></tr><tr><td>&quot;max&quot;</td><td>92.0</td><td>&quot;ZK036&quot;</td><td>&quot;2023-09-05&quot;</td><td>2015.0</td><td>&quot;sct_248153007&quot;</td><td>null</td><td>null</td><td>&quot;sct_90027003&quot;</td><td>&quot;CS_MII_Person_…</td><td>null</td><td>null</td><td>&quot;sct_41847000&quot;</td><td>&quot;sct_1220561009…</td><td>null</td><td>null</td><td>&quot;2020-12-2&quot;</td><td>&quot;sct_1220561009…</td><td>null</td><td>&quot;sct_261665006&quot;</td><td>null</td><td>null</td><td>null</td><td>&quot;sct_410672004&quot;</td><td>2020.0</td><td>11.0</td><td>29.0</td><td>&quot;sct_1220561009…</td><td>null</td><td>&quot;sct_1220561009…</td><td>&quot;sct_1220561009…</td><td>&quot;sct_373067005&quot;</td><td>&quot;ORPHA:71529&quot;</td><td>null</td><td>&quot;E66.8&quot;</td><td>&quot;sct_1220561009…</td><td>null</td><td>&hellip;</td><td>null</td><td>null</td><td>&quot;sct_1220561009…</td><td>null</td><td>null</td><td>null</td><td>null</td><td>null</td><td>null</td><td>null</td><td>null</td><td>null</td><td>null</td><td>null</td><td>null</td><td>null</td><td>null</td><td>null</td><td>null</td><td>null</td><td>null</td><td>null</td><td>null</td><td>&quot;sct_1220561009…</td><td>&quot;sct_1220561009…</td><td>&quot;sct_1220561009…</td><td>&quot;sct_1220561009…</td><td>&quot;sct_1220561009…</td><td>&quot;sct_1220561009…</td><td>&quot;sct_1220561009…</td><td>&quot;sct_1220561009…</td><td>&quot;sct_1220561009…</td><td>&quot;sct_1220561009…</td><td>null</td><td>&quot;sct_1220561009…</td><td>null</td><td>null</td></tr></tbody></table></div>"
      ],
      "text/plain": [
       "shape: (9, 318)\n",
       "┌───────────┬───────────┬───────────┬───────────┬───┬───────────┬───────────┬───────────┬──────────┐\n",
       "│ describe  ┆ record_id ┆ sct_42254 ┆ sct_39942 ┆ … ┆ sct_84056 ┆ sct_21134 ┆ sct_21134 ┆ erker_v1 │\n",
       "│ ---       ┆ ---       ┆ 9004      ┆ 3000      ┆   ┆ 6006_spec ┆ 002_class ┆ 002_score ┆ 5_comple │\n",
       "│ str       ┆ f64       ┆ ---       ┆ ---       ┆   ┆ ific      ┆ ---       ┆ ---       ┆ te       │\n",
       "│           ┆           ┆ str       ┆ str       ┆   ┆ ---       ┆ str       ┆ str       ┆ ---      │\n",
       "│           ┆           ┆           ┆           ┆   ┆ str       ┆           ┆           ┆ str      │\n",
       "╞═══════════╪═══════════╪═══════════╪═══════════╪═══╪═══════════╪═══════════╪═══════════╪══════════╡\n",
       "│ count     ┆ 50.0      ┆ 50        ┆ 50        ┆ … ┆ 50        ┆ 50        ┆ 50        ┆ 50       │\n",
       "│ null_coun ┆ 0.0       ┆ 0         ┆ 0         ┆ … ┆ 50        ┆ 0         ┆ 50        ┆ 50       │\n",
       "│ t         ┆           ┆           ┆           ┆   ┆           ┆           ┆           ┆          │\n",
       "│ mean      ┆ 44.86     ┆ null      ┆ null      ┆ … ┆ null      ┆ null      ┆ null      ┆ null     │\n",
       "│ std       ┆ 29.624872 ┆ null      ┆ null      ┆ … ┆ null      ┆ null      ┆ null      ┆ null     │\n",
       "│ min       ┆ 1.0       ┆ AA009     ┆ 2023-09-0 ┆ … ┆ null      ┆ sct_12205 ┆ null      ┆ null     │\n",
       "│           ┆           ┆           ┆ 5         ┆   ┆           ┆ 61009     ┆           ┆          │\n",
       "│ 25%       ┆ 18.0      ┆ null      ┆ null      ┆ … ┆ null      ┆ null      ┆ null      ┆ null     │\n",
       "│ 50%       ┆ 47.0      ┆ null      ┆ null      ┆ … ┆ null      ┆ null      ┆ null      ┆ null     │\n",
       "│ 75%       ┆ 70.0      ┆ null      ┆ null      ┆ … ┆ null      ┆ null      ┆ null      ┆ null     │\n",
       "│ max       ┆ 92.0      ┆ ZK036     ┆ 2023-09-0 ┆ … ┆ null      ┆ sct_12205 ┆ null      ┆ null     │\n",
       "│           ┆           ┆           ┆ 5         ┆   ┆           ┆ 61009     ┆           ┆          │\n",
       "└───────────┴───────────┴───────────┴───────────┴───┴───────────┴───────────┴───────────┴──────────┘"
      ]
     },
     "execution_count": 8,
     "metadata": {},
     "output_type": "execute_result"
    }
   ],
   "source": [
    "df.describe()"
   ]
  },
  {
   "cell_type": "markdown",
   "metadata": {
    "collapsed": false
   },
   "source": [
    "#### Display unique values for each column"
   ]
  },
  {
   "cell_type": "code",
   "execution_count": 9,
   "metadata": {
    "ExecuteTime": {
     "end_time": "2023-08-31T16:35:29.072267Z",
     "start_time": "2023-08-31T16:35:29.009550Z"
    },
    "collapsed": false
   },
   "outputs": [
    {
     "data": {
      "text/html": [
       "<div><style>\n",
       ".dataframe > thead > tr > th,\n",
       ".dataframe > tbody > tr > td {\n",
       "  text-align: right;\n",
       "}\n",
       "</style>\n",
       "<small>shape: (50, 317)</small><table border=\"1\" class=\"dataframe\"><thead><tr><th>record_id</th><th>sct_422549004</th><th>sct_399423000</th><th>sct_184099003_y</th><th>sct_281053000</th><th>sct_263495000</th><th>sct_315354004</th><th>sct_364699009</th><th>sct_278844005</th><th>sct_399753006</th><th>sct_420259009</th><th>sct_767023003</th><th>sct_184305005_rd</th><th>sct_16100001</th><th>sct_16100001_source</th><th>sct_769681006_center</th><th>sct_440377005</th><th>sct_276239002_aim</th><th>sct_424850005</th><th>sct_405795006_y</th><th>sct_405795006_m</th><th>sct_405795006_d</th><th>sct_423493009</th><th>sct_432213005_y</th><th>sct_432213005_m</th><th>sct_432213005_d</th><th>sct_717800004</th><th>sct_412726003</th><th>sct_64245008</th><th>sct_125679009_proposit</th><th>sct_842009</th><th>sct_439401001_orpha</th><th>sct_439401001_orpha_sub</th><th>sct_439401001_icd10gm</th><th>sct_439401001_alphaid</th><th>sct_439401001_alphaidstr</th><th>sct_38866009</th><th>&hellip;</th><th>sct_82101005_10_age</th><th>sct_82101005_10_gender</th><th>sct_75226009_rd</th><th>sct_75226009_1_age</th><th>sct_75226009_1_gender</th><th>sct_75226009_2_age</th><th>sct_75226009_2_gender</th><th>sct_75226009_3_age</th><th>sct_75226009_3_gender</th><th>sct_75226009_4_age</th><th>sct_75226009_4_gender</th><th>sct_75226009_5_age</th><th>sct_75226009_5_gender</th><th>sct_75226009_6_age</th><th>sct_75226009_6_gender</th><th>sct_75226009_7_age</th><th>sct_75226009_7_gender</th><th>sct_75226009_8_age</th><th>sct_75226009_8_gender</th><th>sct_75226009_9_age</th><th>sct_75226009_9_gender</th><th>sct_75226009_10_age</th><th>sct_75226009_10_gender</th><th>sct_309370004_research</th><th>sct_309370004_narse</th><th>sct_309370004_data</th><th>sct_309370004_eu</th><th>sct_309370004_int</th><th>sct_309370004_aff</th><th>sct_309370004_gen</th><th>sct_309370004_case</th><th>sct_123038009</th><th>sct_840566006</th><th>sct_840566006_specific</th><th>sct_21134002_class</th><th>sct_21134002_score</th><th>erker_v15_complete</th></tr><tr><td>i64</td><td>str</td><td>str</td><td>i64</td><td>str</td><td>str</td><td>str</td><td>str</td><td>str</td><td>str</td><td>str</td><td>str</td><td>str</td><td>str</td><td>str</td><td>str</td><td>str</td><td>str</td><td>str</td><td>str</td><td>str</td><td>str</td><td>str</td><td>f64</td><td>f64</td><td>f64</td><td>str</td><td>str</td><td>str</td><td>str</td><td>str</td><td>str</td><td>str</td><td>str</td><td>str</td><td>str</td><td>str</td><td>&hellip;</td><td>str</td><td>str</td><td>str</td><td>str</td><td>str</td><td>str</td><td>str</td><td>str</td><td>str</td><td>str</td><td>str</td><td>str</td><td>str</td><td>str</td><td>str</td><td>str</td><td>str</td><td>str</td><td>str</td><td>str</td><td>str</td><td>str</td><td>str</td><td>str</td><td>str</td><td>str</td><td>str</td><td>str</td><td>str</td><td>str</td><td>str</td><td>str</td><td>str</td><td>str</td><td>str</td><td>str</td><td>str</td></tr></thead><tbody><tr><td>27</td><td>&quot;OS035&quot;</td><td>&quot;2023-09-05&quot;</td><td>1996</td><td>&quot;sct_248153007&quot;</td><td>null</td><td>null</td><td>&quot;sct_14045001&quot;</td><td>&quot;CS_MII_Person_…</td><td>null</td><td>null</td><td>&quot;sct_255398004&quot;</td><td>&quot;sct_1220561009…</td><td>null</td><td>null</td><td>&quot;2004-16-13&quot;</td><td>&quot;sct_1220561009…</td><td>null</td><td>&quot;sct_261665006&quot;</td><td>null</td><td>null</td><td>null</td><td>&quot;sct_410672004&quot;</td><td>2009.0</td><td>10.0</td><td>9.0</td><td>&quot;sct_1220561009…</td><td>null</td><td>&quot;sct_1220561009…</td><td>&quot;sct_1220561009…</td><td>&quot;sct_1220561009…</td><td>&quot;ORPHA:71529&quot;</td><td>null</td><td>&quot;E66.8&quot;</td><td>&quot;sct_1220561009…</td><td>null</td><td>null</td><td>&hellip;</td><td>null</td><td>null</td><td>&quot;sct_1220561009…</td><td>null</td><td>null</td><td>null</td><td>null</td><td>null</td><td>null</td><td>null</td><td>null</td><td>null</td><td>null</td><td>null</td><td>null</td><td>null</td><td>null</td><td>null</td><td>null</td><td>null</td><td>null</td><td>null</td><td>null</td><td>&quot;sct_1220561009…</td><td>&quot;sct_1220561009…</td><td>&quot;sct_1220561009…</td><td>&quot;sct_1220561009…</td><td>&quot;sct_1220561009…</td><td>&quot;sct_1220561009…</td><td>&quot;sct_1220561009…</td><td>&quot;sct_1220561009…</td><td>&quot;sct_1220561009…</td><td>&quot;sct_1220561009…</td><td>null</td><td>&quot;sct_1220561009…</td><td>null</td><td>null</td></tr><tr><td>85</td><td>&quot;LÖ024&quot;</td><td>&quot;2023-09-05&quot;</td><td>1999</td><td>&quot;sct_248153007&quot;</td><td>null</td><td>null</td><td>&quot;sct_14045001&quot;</td><td>&quot;CS_MII_Person_…</td><td>null</td><td>null</td><td>&quot;sct_263659003&quot;</td><td>&quot;sct_1220561009…</td><td>null</td><td>null</td><td>&quot;2009-9-8&quot;</td><td>&quot;sct_1220561009…</td><td>null</td><td>&quot;sct_261665006&quot;</td><td>null</td><td>null</td><td>null</td><td>&quot;sct_410672004&quot;</td><td>2016.0</td><td>8.0</td><td>18.0</td><td>&quot;sct_1220561009…</td><td>null</td><td>&quot;sct_1220561009…</td><td>&quot;sct_1220561009…</td><td>&quot;sct_373067005&quot;</td><td>&quot;ORPHA:71529&quot;</td><td>null</td><td>&quot;E66.8&quot;</td><td>&quot;sct_1220561009…</td><td>null</td><td>null</td><td>&hellip;</td><td>null</td><td>null</td><td>&quot;sct_1220561009…</td><td>null</td><td>null</td><td>null</td><td>null</td><td>null</td><td>null</td><td>null</td><td>null</td><td>null</td><td>null</td><td>null</td><td>null</td><td>null</td><td>null</td><td>null</td><td>null</td><td>null</td><td>null</td><td>null</td><td>null</td><td>&quot;sct_1220561009…</td><td>&quot;sct_1220561009…</td><td>&quot;sct_1220561009…</td><td>&quot;sct_1220561009…</td><td>&quot;sct_1220561009…</td><td>&quot;sct_1220561009…</td><td>&quot;sct_1220561009…</td><td>&quot;sct_1220561009…</td><td>&quot;sct_1220561009…</td><td>&quot;sct_1220561009…</td><td>null</td><td>&quot;sct_1220561009…</td><td>null</td><td>null</td></tr><tr><td>79</td><td>&quot;EG049&quot;</td><td>&quot;2023-09-05&quot;</td><td>1995</td><td>&quot;sct_248153007&quot;</td><td>null</td><td>null</td><td>&quot;sct_14045001&quot;</td><td>&quot;CS_MII_Person_…</td><td>null</td><td>null</td><td>&quot;sct_41847000&quot;</td><td>&quot;sct_1220561009…</td><td>null</td><td>null</td><td>&quot;2015-9-31&quot;</td><td>&quot;sct_1220561009…</td><td>null</td><td>&quot;sct_261665006&quot;</td><td>null</td><td>null</td><td>null</td><td>&quot;sct_410672004&quot;</td><td>2008.0</td><td>6.0</td><td>15.0</td><td>&quot;sct_1220561009…</td><td>null</td><td>&quot;sct_1220561009…</td><td>&quot;sct_1220561009…</td><td>&quot;sct_1220561009…</td><td>&quot;ORPHA:71529&quot;</td><td>null</td><td>&quot;E66.8&quot;</td><td>&quot;sct_1220561009…</td><td>null</td><td>null</td><td>&hellip;</td><td>null</td><td>null</td><td>&quot;sct_1220561009…</td><td>null</td><td>null</td><td>null</td><td>null</td><td>null</td><td>null</td><td>null</td><td>null</td><td>null</td><td>null</td><td>null</td><td>null</td><td>null</td><td>null</td><td>null</td><td>null</td><td>null</td><td>null</td><td>null</td><td>null</td><td>&quot;sct_1220561009…</td><td>&quot;sct_1220561009…</td><td>&quot;sct_1220561009…</td><td>&quot;sct_1220561009…</td><td>&quot;sct_1220561009…</td><td>&quot;sct_1220561009…</td><td>&quot;sct_1220561009…</td><td>&quot;sct_1220561009…</td><td>&quot;sct_1220561009…</td><td>&quot;sct_1220561009…</td><td>null</td><td>&quot;sct_1220561009…</td><td>null</td><td>null</td></tr><tr><td>55</td><td>&quot;AV020&quot;</td><td>&quot;2023-09-05&quot;</td><td>1996</td><td>&quot;sct_248152002&quot;</td><td>null</td><td>null</td><td>null</td><td>&quot;CS_MII_Person_…</td><td>null</td><td>null</td><td>&quot;sct_41847000&quot;</td><td>&quot;sct_1220561009…</td><td>null</td><td>null</td><td>&quot;2006-14-18&quot;</td><td>&quot;sct_1220561009…</td><td>null</td><td>&quot;sct_261665006&quot;</td><td>null</td><td>null</td><td>null</td><td>&quot;sct_410672004&quot;</td><td>2001.0</td><td>3.0</td><td>21.0</td><td>&quot;sct_1220561009…</td><td>null</td><td>&quot;sct_1220561009…</td><td>&quot;sct_1220561009…</td><td>&quot;sct_1220561009…</td><td>&quot;ORPHA:71529&quot;</td><td>null</td><td>&quot;E66.8&quot;</td><td>&quot;sct_1220561009…</td><td>null</td><td>null</td><td>&hellip;</td><td>null</td><td>null</td><td>&quot;sct_1220561009…</td><td>null</td><td>null</td><td>null</td><td>null</td><td>null</td><td>null</td><td>null</td><td>null</td><td>null</td><td>null</td><td>null</td><td>null</td><td>null</td><td>null</td><td>null</td><td>null</td><td>null</td><td>null</td><td>null</td><td>null</td><td>&quot;sct_1220561009…</td><td>&quot;sct_1220561009…</td><td>&quot;sct_1220561009…</td><td>&quot;sct_1220561009…</td><td>&quot;sct_1220561009…</td><td>&quot;sct_1220561009…</td><td>&quot;sct_1220561009…</td><td>&quot;sct_1220561009…</td><td>&quot;sct_1220561009…</td><td>&quot;sct_1220561009…</td><td>null</td><td>&quot;sct_1220561009…</td><td>null</td><td>null</td></tr><tr><td>5</td><td>&quot;AK050&quot;</td><td>&quot;2023-09-05&quot;</td><td>1988</td><td>&quot;sct_248152002&quot;</td><td>null</td><td>null</td><td>&quot;sct_372148003_…</td><td>&quot;CS_MII_Person_…</td><td>null</td><td>null</td><td>&quot;sct_255398004&quot;</td><td>&quot;sct_1220561009…</td><td>null</td><td>null</td><td>&quot;2018-7-15&quot;</td><td>&quot;sct_1220561009…</td><td>null</td><td>&quot;sct_261665006&quot;</td><td>null</td><td>null</td><td>null</td><td>&quot;sct_410672004&quot;</td><td>2020.0</td><td>11.0</td><td>6.0</td><td>&quot;sct_1220561009…</td><td>null</td><td>&quot;sct_1220561009…</td><td>&quot;sct_1220561009…</td><td>&quot;sct_1220561009…</td><td>&quot;ORPHA:71529&quot;</td><td>null</td><td>&quot;E66.8&quot;</td><td>&quot;sct_1220561009…</td><td>null</td><td>null</td><td>&hellip;</td><td>null</td><td>null</td><td>&quot;sct_1220561009…</td><td>null</td><td>null</td><td>null</td><td>null</td><td>null</td><td>null</td><td>null</td><td>null</td><td>null</td><td>null</td><td>null</td><td>null</td><td>null</td><td>null</td><td>null</td><td>null</td><td>null</td><td>null</td><td>null</td><td>null</td><td>&quot;sct_1220561009…</td><td>&quot;sct_1220561009…</td><td>&quot;sct_1220561009…</td><td>&quot;sct_1220561009…</td><td>&quot;sct_1220561009…</td><td>&quot;sct_1220561009…</td><td>&quot;sct_1220561009…</td><td>&quot;sct_1220561009…</td><td>&quot;sct_1220561009…</td><td>&quot;sct_1220561009…</td><td>null</td><td>&quot;sct_1220561009…</td><td>null</td><td>null</td></tr><tr><td>13</td><td>&quot;AT028&quot;</td><td>&quot;2023-09-05&quot;</td><td>1998</td><td>&quot;sct_248153007&quot;</td><td>null</td><td>null</td><td>&quot;sct_14045001&quot;</td><td>&quot;CS_MII_Person_…</td><td>null</td><td>null</td><td>&quot;sct_263659003&quot;</td><td>&quot;sct_1220561009…</td><td>null</td><td>null</td><td>&quot;2008-16-21&quot;</td><td>&quot;sct_1220561009…</td><td>null</td><td>&quot;sct_261665006&quot;</td><td>null</td><td>null</td><td>null</td><td>&quot;sct_410672004&quot;</td><td>2005.0</td><td>4.0</td><td>20.0</td><td>&quot;sct_1220561009…</td><td>null</td><td>&quot;sct_1220561009…</td><td>&quot;sct_1220561009…</td><td>&quot;sct_1220561009…</td><td>&quot;ORPHA:71529&quot;</td><td>null</td><td>&quot;E66.8&quot;</td><td>&quot;sct_1220561009…</td><td>null</td><td>null</td><td>&hellip;</td><td>null</td><td>null</td><td>&quot;sct_1220561009…</td><td>null</td><td>null</td><td>null</td><td>null</td><td>null</td><td>null</td><td>null</td><td>null</td><td>null</td><td>null</td><td>null</td><td>null</td><td>null</td><td>null</td><td>null</td><td>null</td><td>null</td><td>null</td><td>null</td><td>null</td><td>&quot;sct_1220561009…</td><td>&quot;sct_1220561009…</td><td>&quot;sct_1220561009…</td><td>&quot;sct_1220561009…</td><td>&quot;sct_1220561009…</td><td>&quot;sct_1220561009…</td><td>&quot;sct_1220561009…</td><td>&quot;sct_1220561009…</td><td>&quot;sct_1220561009…</td><td>&quot;sct_1220561009…</td><td>null</td><td>&quot;sct_1220561009…</td><td>null</td><td>null</td></tr><tr><td>7</td><td>&quot;AS063&quot;</td><td>&quot;2023-09-05&quot;</td><td>2000</td><td>&quot;sct_248153007&quot;</td><td>null</td><td>null</td><td>&quot;sct_14045001&quot;</td><td>&quot;CS_MII_Person_…</td><td>null</td><td>null</td><td>&quot;sct_41847000&quot;</td><td>&quot;sct_1220561009…</td><td>null</td><td>null</td><td>&quot;2006-14-28&quot;</td><td>&quot;sct_1220561009…</td><td>null</td><td>&quot;sct_261665006&quot;</td><td>null</td><td>null</td><td>null</td><td>&quot;sct_410672004&quot;</td><td>2009.0</td><td>3.0</td><td>27.0</td><td>&quot;sct_1220561009…</td><td>null</td><td>&quot;sct_1220561009…</td><td>&quot;sct_1220561009…</td><td>&quot;sct_1220561009…</td><td>&quot;ORPHA:71529&quot;</td><td>null</td><td>&quot;E66.8&quot;</td><td>&quot;sct_1220561009…</td><td>null</td><td>null</td><td>&hellip;</td><td>null</td><td>null</td><td>&quot;sct_1220561009…</td><td>null</td><td>null</td><td>null</td><td>null</td><td>null</td><td>null</td><td>null</td><td>null</td><td>null</td><td>null</td><td>null</td><td>null</td><td>null</td><td>null</td><td>null</td><td>null</td><td>null</td><td>null</td><td>null</td><td>null</td><td>&quot;sct_1220561009…</td><td>&quot;sct_1220561009…</td><td>&quot;sct_1220561009…</td><td>&quot;sct_1220561009…</td><td>&quot;sct_1220561009…</td><td>&quot;sct_1220561009…</td><td>&quot;sct_1220561009…</td><td>&quot;sct_1220561009…</td><td>&quot;sct_1220561009…</td><td>&quot;sct_1220561009…</td><td>null</td><td>&quot;sct_1220561009…</td><td>null</td><td>null</td></tr><tr><td>6</td><td>&quot;EP039&quot;</td><td>&quot;2023-09-05&quot;</td><td>1997</td><td>&quot;sct_248152002&quot;</td><td>null</td><td>null</td><td>&quot;sct_372148003_…</td><td>&quot;CS_MII_Person_…</td><td>null</td><td>null</td><td>&quot;sct_255398004&quot;</td><td>&quot;sct_1220561009…</td><td>null</td><td>null</td><td>&quot;2013-13-30&quot;</td><td>&quot;sct_1220561009…</td><td>null</td><td>&quot;sct_261665006&quot;</td><td>null</td><td>null</td><td>null</td><td>&quot;sct_410672004&quot;</td><td>2008.0</td><td>3.0</td><td>9.0</td><td>&quot;sct_1220561009…</td><td>null</td><td>&quot;sct_1220561009…</td><td>&quot;sct_1220561009…</td><td>&quot;sct_1220561009…</td><td>&quot;ORPHA:71529&quot;</td><td>null</td><td>&quot;E66.8&quot;</td><td>&quot;sct_1220561009…</td><td>null</td><td>null</td><td>&hellip;</td><td>null</td><td>null</td><td>&quot;sct_1220561009…</td><td>null</td><td>null</td><td>null</td><td>null</td><td>null</td><td>null</td><td>null</td><td>null</td><td>null</td><td>null</td><td>null</td><td>null</td><td>null</td><td>null</td><td>null</td><td>null</td><td>null</td><td>null</td><td>null</td><td>null</td><td>&quot;sct_1220561009…</td><td>&quot;sct_1220561009…</td><td>&quot;sct_1220561009…</td><td>&quot;sct_1220561009…</td><td>&quot;sct_1220561009…</td><td>&quot;sct_1220561009…</td><td>&quot;sct_1220561009…</td><td>&quot;sct_1220561009…</td><td>&quot;sct_1220561009…</td><td>&quot;sct_1220561009…</td><td>null</td><td>&quot;sct_1220561009…</td><td>null</td><td>null</td></tr><tr><td>80</td><td>&quot;AS002&quot;</td><td>&quot;2023-09-05&quot;</td><td>2001</td><td>&quot;sct_248153007&quot;</td><td>null</td><td>null</td><td>&quot;sct_14045001&quot;</td><td>&quot;CS_MII_Person_…</td><td>null</td><td>null</td><td>&quot;sct_41847000&quot;</td><td>&quot;sct_1220561009…</td><td>null</td><td>null</td><td>&quot;2003-2-30&quot;</td><td>&quot;sct_1220561009…</td><td>null</td><td>&quot;sct_261665006&quot;</td><td>null</td><td>null</td><td>null</td><td>&quot;sct_410672004&quot;</td><td>2009.0</td><td>7.0</td><td>26.0</td><td>&quot;sct_1220561009…</td><td>null</td><td>&quot;sct_1220561009…</td><td>&quot;sct_1220561009…</td><td>&quot;sct_1220561009…</td><td>&quot;ORPHA:71529&quot;</td><td>null</td><td>&quot;E66.8&quot;</td><td>&quot;sct_1220561009…</td><td>null</td><td>null</td><td>&hellip;</td><td>null</td><td>null</td><td>&quot;sct_1220561009…</td><td>null</td><td>null</td><td>null</td><td>null</td><td>null</td><td>null</td><td>null</td><td>null</td><td>null</td><td>null</td><td>null</td><td>null</td><td>null</td><td>null</td><td>null</td><td>null</td><td>null</td><td>null</td><td>null</td><td>null</td><td>&quot;sct_1220561009…</td><td>&quot;sct_1220561009…</td><td>&quot;sct_1220561009…</td><td>&quot;sct_1220561009…</td><td>&quot;sct_1220561009…</td><td>&quot;sct_1220561009…</td><td>&quot;sct_1220561009…</td><td>&quot;sct_1220561009…</td><td>&quot;sct_1220561009…</td><td>&quot;sct_1220561009…</td><td>null</td><td>&quot;sct_1220561009…</td><td>null</td><td>null</td></tr><tr><td>34</td><td>&quot;ZK036&quot;</td><td>&quot;2023-09-05&quot;</td><td>1996</td><td>&quot;sct_248153007&quot;</td><td>null</td><td>null</td><td>&quot;sct_14045001&quot;</td><td>&quot;CS_MII_Person_…</td><td>null</td><td>null</td><td>&quot;sct_41847000&quot;</td><td>&quot;sct_1220561009…</td><td>null</td><td>null</td><td>&quot;2017-10-9&quot;</td><td>&quot;sct_1220561009…</td><td>null</td><td>&quot;sct_261665006&quot;</td><td>null</td><td>null</td><td>null</td><td>&quot;sct_410672004&quot;</td><td>2001.0</td><td>3.0</td><td>7.0</td><td>&quot;sct_1220561009…</td><td>null</td><td>&quot;sct_1220561009…</td><td>&quot;sct_1220561009…</td><td>&quot;sct_1220561009…</td><td>&quot;ORPHA:71529&quot;</td><td>null</td><td>&quot;E66.8&quot;</td><td>&quot;sct_1220561009…</td><td>null</td><td>null</td><td>&hellip;</td><td>null</td><td>null</td><td>&quot;sct_1220561009…</td><td>null</td><td>null</td><td>null</td><td>null</td><td>null</td><td>null</td><td>null</td><td>null</td><td>null</td><td>null</td><td>null</td><td>null</td><td>null</td><td>null</td><td>null</td><td>null</td><td>null</td><td>null</td><td>null</td><td>null</td><td>&quot;sct_1220561009…</td><td>&quot;sct_1220561009…</td><td>&quot;sct_1220561009…</td><td>&quot;sct_1220561009…</td><td>&quot;sct_1220561009…</td><td>&quot;sct_1220561009…</td><td>&quot;sct_1220561009…</td><td>&quot;sct_1220561009…</td><td>&quot;sct_1220561009…</td><td>&quot;sct_1220561009…</td><td>null</td><td>&quot;sct_1220561009…</td><td>null</td><td>null</td></tr><tr><td>8</td><td>&quot;YD053&quot;</td><td>&quot;2023-09-05&quot;</td><td>1995</td><td>&quot;sct_248153007&quot;</td><td>null</td><td>null</td><td>&quot;sct_414408004&quot;</td><td>&quot;CS_MII_Person_…</td><td>null</td><td>null</td><td>&quot;sct_41847000&quot;</td><td>&quot;sct_1220561009…</td><td>null</td><td>null</td><td>&quot;2007-17-20&quot;</td><td>&quot;sct_1220561009…</td><td>null</td><td>&quot;sct_261665006&quot;</td><td>null</td><td>null</td><td>null</td><td>&quot;sct_410672004&quot;</td><td>2008.0</td><td>11.0</td><td>19.0</td><td>&quot;sct_1220561009…</td><td>null</td><td>&quot;sct_1220561009…</td><td>&quot;sct_1220561009…</td><td>&quot;sct_1220561009…</td><td>&quot;ORPHA:71529&quot;</td><td>null</td><td>&quot;E66.8&quot;</td><td>&quot;sct_1220561009…</td><td>null</td><td>null</td><td>&hellip;</td><td>null</td><td>null</td><td>&quot;sct_1220561009…</td><td>null</td><td>null</td><td>null</td><td>null</td><td>null</td><td>null</td><td>null</td><td>null</td><td>null</td><td>null</td><td>null</td><td>null</td><td>null</td><td>null</td><td>null</td><td>null</td><td>null</td><td>null</td><td>null</td><td>null</td><td>&quot;sct_1220561009…</td><td>&quot;sct_1220561009…</td><td>&quot;sct_1220561009…</td><td>&quot;sct_1220561009…</td><td>&quot;sct_1220561009…</td><td>&quot;sct_1220561009…</td><td>&quot;sct_1220561009…</td><td>&quot;sct_1220561009…</td><td>&quot;sct_1220561009…</td><td>&quot;sct_1220561009…</td><td>null</td><td>&quot;sct_1220561009…</td><td>null</td><td>null</td></tr><tr><td>35</td><td>&quot;AM034&quot;</td><td>&quot;2023-09-05&quot;</td><td>1994</td><td>&quot;sct_248152002&quot;</td><td>null</td><td>null</td><td>&quot;sct_14045001&quot;</td><td>&quot;CS_MII_Person_…</td><td>null</td><td>null</td><td>&quot;sct_263659003&quot;</td><td>&quot;sct_1220561009…</td><td>null</td><td>null</td><td>&quot;2008-6-14&quot;</td><td>&quot;sct_1220561009…</td><td>null</td><td>&quot;sct_261665006&quot;</td><td>null</td><td>null</td><td>null</td><td>&quot;sct_410672004&quot;</td><td>2009.0</td><td>7.0</td><td>10.0</td><td>&quot;sct_1220561009…</td><td>null</td><td>&quot;sct_1220561009…</td><td>&quot;sct_1220561009…</td><td>&quot;sct_373066001&quot;</td><td>&quot;ORPHA:71529&quot;</td><td>null</td><td>&quot;E66.8&quot;</td><td>&quot;sct_1220561009…</td><td>null</td><td>null</td><td>&hellip;</td><td>null</td><td>null</td><td>&quot;sct_1220561009…</td><td>null</td><td>null</td><td>null</td><td>null</td><td>null</td><td>null</td><td>null</td><td>null</td><td>null</td><td>null</td><td>null</td><td>null</td><td>null</td><td>null</td><td>null</td><td>null</td><td>null</td><td>null</td><td>null</td><td>null</td><td>&quot;sct_1220561009…</td><td>&quot;sct_1220561009…</td><td>&quot;sct_1220561009…</td><td>&quot;sct_1220561009…</td><td>&quot;sct_1220561009…</td><td>&quot;sct_1220561009…</td><td>&quot;sct_1220561009…</td><td>&quot;sct_1220561009…</td><td>&quot;sct_1220561009…</td><td>&quot;sct_1220561009…</td><td>null</td><td>&quot;sct_1220561009…</td><td>null</td><td>null</td></tr><tr><td>&hellip;</td><td>&hellip;</td><td>&hellip;</td><td>&hellip;</td><td>&hellip;</td><td>&hellip;</td><td>&hellip;</td><td>&hellip;</td><td>&hellip;</td><td>&hellip;</td><td>&hellip;</td><td>&hellip;</td><td>&hellip;</td><td>&hellip;</td><td>&hellip;</td><td>&hellip;</td><td>&hellip;</td><td>&hellip;</td><td>&hellip;</td><td>&hellip;</td><td>&hellip;</td><td>&hellip;</td><td>&hellip;</td><td>&hellip;</td><td>&hellip;</td><td>&hellip;</td><td>&hellip;</td><td>&hellip;</td><td>&hellip;</td><td>&hellip;</td><td>&hellip;</td><td>&hellip;</td><td>&hellip;</td><td>&hellip;</td><td>&hellip;</td><td>&hellip;</td><td>&hellip;</td><td>&hellip;</td><td>&hellip;</td><td>&hellip;</td><td>&hellip;</td><td>&hellip;</td><td>&hellip;</td><td>&hellip;</td><td>&hellip;</td><td>&hellip;</td><td>&hellip;</td><td>&hellip;</td><td>&hellip;</td><td>&hellip;</td><td>&hellip;</td><td>&hellip;</td><td>&hellip;</td><td>&hellip;</td><td>&hellip;</td><td>&hellip;</td><td>&hellip;</td><td>&hellip;</td><td>&hellip;</td><td>&hellip;</td><td>&hellip;</td><td>&hellip;</td><td>&hellip;</td><td>&hellip;</td><td>&hellip;</td><td>&hellip;</td><td>&hellip;</td><td>&hellip;</td><td>&hellip;</td><td>&hellip;</td><td>&hellip;</td><td>&hellip;</td><td>&hellip;</td><td>&hellip;</td><td>&hellip;</td></tr><tr><td>75</td><td>&quot;TY097&quot;</td><td>&quot;2023-09-05&quot;</td><td>1993</td><td>&quot;sct_248153007&quot;</td><td>null</td><td>null</td><td>&quot;sct_14045001&quot;</td><td>&quot;CS_MII_Person_…</td><td>null</td><td>null</td><td>&quot;sct_41847000&quot;</td><td>&quot;sct_1220561009…</td><td>null</td><td>null</td><td>&quot;2013-17-12&quot;</td><td>&quot;sct_1220561009…</td><td>null</td><td>&quot;sct_261665006&quot;</td><td>null</td><td>null</td><td>null</td><td>&quot;sct_410672004&quot;</td><td>2009.0</td><td>6.0</td><td>8.0</td><td>&quot;sct_1220561009…</td><td>null</td><td>&quot;sct_1220561009…</td><td>&quot;sct_1220561009…</td><td>&quot;sct_1220561009…</td><td>&quot;ORPHA:71529&quot;</td><td>null</td><td>&quot;E66.8&quot;</td><td>&quot;sct_1220561009…</td><td>null</td><td>null</td><td>&hellip;</td><td>null</td><td>null</td><td>&quot;sct_1220561009…</td><td>null</td><td>null</td><td>null</td><td>null</td><td>null</td><td>null</td><td>null</td><td>null</td><td>null</td><td>null</td><td>null</td><td>null</td><td>null</td><td>null</td><td>null</td><td>null</td><td>null</td><td>null</td><td>null</td><td>null</td><td>&quot;sct_1220561009…</td><td>&quot;sct_1220561009…</td><td>&quot;sct_1220561009…</td><td>&quot;sct_1220561009…</td><td>&quot;sct_1220561009…</td><td>&quot;sct_1220561009…</td><td>&quot;sct_1220561009…</td><td>&quot;sct_1220561009…</td><td>&quot;sct_1220561009…</td><td>&quot;sct_1220561009…</td><td>null</td><td>&quot;sct_1220561009…</td><td>null</td><td>null</td></tr><tr><td>59</td><td>&quot;AA070&quot;</td><td>&quot;2023-09-05&quot;</td><td>1997</td><td>&quot;sct_248152002&quot;</td><td>null</td><td>null</td><td>&quot;sct_14045001&quot;</td><td>&quot;CS_MII_Person_…</td><td>null</td><td>null</td><td>&quot;sct_41847000&quot;</td><td>&quot;sct_1220561009…</td><td>null</td><td>null</td><td>&quot;2015-9-31&quot;</td><td>&quot;sct_1220561009…</td><td>null</td><td>&quot;sct_261665006&quot;</td><td>null</td><td>null</td><td>null</td><td>&quot;sct_410672004&quot;</td><td>2006.0</td><td>8.0</td><td>3.0</td><td>&quot;sct_1220561009…</td><td>null</td><td>&quot;sct_1220561009…</td><td>&quot;sct_1220561009…</td><td>&quot;sct_1220561009…</td><td>&quot;ORPHA:71529&quot;</td><td>null</td><td>&quot;E66.8&quot;</td><td>&quot;sct_1220561009…</td><td>null</td><td>null</td><td>&hellip;</td><td>null</td><td>null</td><td>&quot;sct_1220561009…</td><td>null</td><td>null</td><td>null</td><td>null</td><td>null</td><td>null</td><td>null</td><td>null</td><td>null</td><td>null</td><td>null</td><td>null</td><td>null</td><td>null</td><td>null</td><td>null</td><td>null</td><td>null</td><td>null</td><td>null</td><td>&quot;sct_1220561009…</td><td>&quot;sct_1220561009…</td><td>&quot;sct_1220561009…</td><td>&quot;sct_1220561009…</td><td>&quot;sct_1220561009…</td><td>&quot;sct_1220561009…</td><td>&quot;sct_1220561009…</td><td>&quot;sct_1220561009…</td><td>&quot;sct_1220561009…</td><td>&quot;sct_1220561009…</td><td>null</td><td>&quot;sct_1220561009…</td><td>null</td><td>null</td></tr><tr><td>48</td><td>&quot;EH076&quot;</td><td>&quot;2023-09-05&quot;</td><td>2014</td><td>&quot;sct_248153007&quot;</td><td>null</td><td>null</td><td>&quot;sct_372148003_…</td><td>&quot;CS_MII_Person_…</td><td>null</td><td>null</td><td>&quot;sct_41847000&quot;</td><td>&quot;sct_1220561009…</td><td>null</td><td>null</td><td>&quot;2009-16-28&quot;</td><td>&quot;sct_1220561009…</td><td>null</td><td>&quot;sct_261665006&quot;</td><td>null</td><td>null</td><td>null</td><td>&quot;sct_410672004&quot;</td><td>2014.0</td><td>11.0</td><td>29.0</td><td>&quot;sct_1220561009…</td><td>null</td><td>&quot;sct_1220561009…</td><td>&quot;sct_1220561009…</td><td>&quot;sct_1220561009…</td><td>&quot;ORPHA:71529&quot;</td><td>null</td><td>&quot;E66.8&quot;</td><td>&quot;sct_1220561009…</td><td>null</td><td>null</td><td>&hellip;</td><td>null</td><td>null</td><td>&quot;sct_1220561009…</td><td>null</td><td>null</td><td>null</td><td>null</td><td>null</td><td>null</td><td>null</td><td>null</td><td>null</td><td>null</td><td>null</td><td>null</td><td>null</td><td>null</td><td>null</td><td>null</td><td>null</td><td>null</td><td>null</td><td>null</td><td>&quot;sct_1220561009…</td><td>&quot;sct_1220561009…</td><td>&quot;sct_1220561009…</td><td>&quot;sct_1220561009…</td><td>&quot;sct_1220561009…</td><td>&quot;sct_1220561009…</td><td>&quot;sct_1220561009…</td><td>&quot;sct_1220561009…</td><td>&quot;sct_1220561009…</td><td>&quot;sct_1220561009…</td><td>null</td><td>&quot;sct_1220561009…</td><td>null</td><td>null</td></tr><tr><td>61</td><td>&quot;NL011&quot;</td><td>&quot;2023-09-05&quot;</td><td>2008</td><td>&quot;sct_248153007&quot;</td><td>null</td><td>null</td><td>&quot;sct_14045001&quot;</td><td>&quot;CS_MII_Person_…</td><td>null</td><td>null</td><td>&quot;sct_41847000&quot;</td><td>&quot;sct_1220561009…</td><td>null</td><td>null</td><td>&quot;2020-12-2&quot;</td><td>&quot;sct_1220561009…</td><td>null</td><td>&quot;sct_261665006&quot;</td><td>null</td><td>null</td><td>null</td><td>&quot;sct_410672004&quot;</td><td>2009.0</td><td>10.0</td><td>28.0</td><td>&quot;sct_1220561009…</td><td>null</td><td>&quot;sct_1220561009…</td><td>&quot;sct_1220561009…</td><td>&quot;sct_1220561009…</td><td>&quot;ORPHA:71529&quot;</td><td>null</td><td>&quot;E66.8&quot;</td><td>&quot;sct_1220561009…</td><td>null</td><td>null</td><td>&hellip;</td><td>null</td><td>null</td><td>&quot;sct_1220561009…</td><td>null</td><td>null</td><td>null</td><td>null</td><td>null</td><td>null</td><td>null</td><td>null</td><td>null</td><td>null</td><td>null</td><td>null</td><td>null</td><td>null</td><td>null</td><td>null</td><td>null</td><td>null</td><td>null</td><td>null</td><td>&quot;sct_1220561009…</td><td>&quot;sct_1220561009…</td><td>&quot;sct_1220561009…</td><td>&quot;sct_1220561009…</td><td>&quot;sct_1220561009…</td><td>&quot;sct_1220561009…</td><td>&quot;sct_1220561009…</td><td>&quot;sct_1220561009…</td><td>&quot;sct_1220561009…</td><td>&quot;sct_1220561009…</td><td>null</td><td>&quot;sct_1220561009…</td><td>null</td><td>null</td></tr><tr><td>11</td><td>&quot;NM089&quot;</td><td>&quot;2023-09-05&quot;</td><td>2011</td><td>&quot;sct_248153007&quot;</td><td>null</td><td>null</td><td>&quot;sct_372148003_…</td><td>&quot;CS_MII_Person_…</td><td>null</td><td>null</td><td>&quot;sct_41847000&quot;</td><td>&quot;sct_1220561009…</td><td>null</td><td>null</td><td>&quot;2008-22-7&quot;</td><td>&quot;sct_1220561009…</td><td>null</td><td>&quot;sct_261665006&quot;</td><td>null</td><td>null</td><td>null</td><td>&quot;sct_410672004&quot;</td><td>2014.0</td><td>5.0</td><td>19.0</td><td>&quot;sct_1220561009…</td><td>null</td><td>&quot;sct_1220561009…</td><td>&quot;sct_1220561009…</td><td>&quot;sct_373067005&quot;</td><td>&quot;ORPHA:71529&quot;</td><td>null</td><td>&quot;E66.8&quot;</td><td>&quot;sct_1220561009…</td><td>null</td><td>null</td><td>&hellip;</td><td>null</td><td>null</td><td>&quot;sct_1220561009…</td><td>null</td><td>null</td><td>null</td><td>null</td><td>null</td><td>null</td><td>null</td><td>null</td><td>null</td><td>null</td><td>null</td><td>null</td><td>null</td><td>null</td><td>null</td><td>null</td><td>null</td><td>null</td><td>null</td><td>null</td><td>&quot;sct_1220561009…</td><td>&quot;sct_1220561009…</td><td>&quot;sct_1220561009…</td><td>&quot;sct_1220561009…</td><td>&quot;sct_1220561009…</td><td>&quot;sct_1220561009…</td><td>&quot;sct_1220561009…</td><td>&quot;sct_1220561009…</td><td>&quot;sct_1220561009…</td><td>&quot;sct_1220561009…</td><td>null</td><td>&quot;sct_1220561009…</td><td>null</td><td>null</td></tr><tr><td>19</td><td>&quot;EA102&quot;</td><td>&quot;2023-09-05&quot;</td><td>1993</td><td>&quot;sct_248152002&quot;</td><td>null</td><td>null</td><td>&quot;sct_14045001&quot;</td><td>&quot;CS_MII_Person_…</td><td>null</td><td>null</td><td>&quot;sct_263659003&quot;</td><td>&quot;sct_1220561009…</td><td>null</td><td>null</td><td>&quot;2008-7-4&quot;</td><td>&quot;sct_1220561009…</td><td>null</td><td>&quot;sct_261665006&quot;</td><td>null</td><td>null</td><td>null</td><td>&quot;sct_410672004&quot;</td><td>2015.0</td><td>1.0</td><td>25.0</td><td>&quot;sct_1220561009…</td><td>null</td><td>&quot;sct_1220561009…</td><td>&quot;sct_1220561009…</td><td>&quot;sct_1220561009…</td><td>&quot;ORPHA:71529&quot;</td><td>null</td><td>&quot;E66.8&quot;</td><td>&quot;sct_1220561009…</td><td>null</td><td>null</td><td>&hellip;</td><td>null</td><td>null</td><td>&quot;sct_1220561009…</td><td>null</td><td>null</td><td>null</td><td>null</td><td>null</td><td>null</td><td>null</td><td>null</td><td>null</td><td>null</td><td>null</td><td>null</td><td>null</td><td>null</td><td>null</td><td>null</td><td>null</td><td>null</td><td>null</td><td>null</td><td>&quot;sct_1220561009…</td><td>&quot;sct_1220561009…</td><td>&quot;sct_1220561009…</td><td>&quot;sct_1220561009…</td><td>&quot;sct_1220561009…</td><td>&quot;sct_1220561009…</td><td>&quot;sct_1220561009…</td><td>&quot;sct_1220561009…</td><td>&quot;sct_1220561009…</td><td>&quot;sct_1220561009…</td><td>null</td><td>&quot;sct_1220561009…</td><td>null</td><td>null</td></tr><tr><td>13</td><td>&quot;TS100&quot;</td><td>&quot;2023-09-05&quot;</td><td>1996</td><td>&quot;sct_248153007&quot;</td><td>null</td><td>null</td><td>&quot;sct_372148003_…</td><td>&quot;CS_MII_Person_…</td><td>null</td><td>null</td><td>&quot;sct_41847000&quot;</td><td>&quot;sct_1220561009…</td><td>null</td><td>null</td><td>&quot;2002-7-23&quot;</td><td>&quot;sct_1220561009…</td><td>null</td><td>&quot;sct_261665006&quot;</td><td>null</td><td>null</td><td>null</td><td>&quot;sct_410672004&quot;</td><td>2010.0</td><td>9.0</td><td>25.0</td><td>&quot;sct_1220561009…</td><td>null</td><td>&quot;sct_1220561009…</td><td>&quot;sct_1220561009…</td><td>&quot;sct_1220561009…</td><td>&quot;ORPHA:71529&quot;</td><td>null</td><td>&quot;E66.8&quot;</td><td>&quot;sct_1220561009…</td><td>null</td><td>null</td><td>&hellip;</td><td>null</td><td>null</td><td>&quot;sct_1220561009…</td><td>null</td><td>null</td><td>null</td><td>null</td><td>null</td><td>null</td><td>null</td><td>null</td><td>null</td><td>null</td><td>null</td><td>null</td><td>null</td><td>null</td><td>null</td><td>null</td><td>null</td><td>null</td><td>null</td><td>null</td><td>&quot;sct_1220561009…</td><td>&quot;sct_1220561009…</td><td>&quot;sct_1220561009…</td><td>&quot;sct_1220561009…</td><td>&quot;sct_1220561009…</td><td>&quot;sct_1220561009…</td><td>&quot;sct_1220561009…</td><td>&quot;sct_1220561009…</td><td>&quot;sct_1220561009…</td><td>&quot;sct_1220561009…</td><td>null</td><td>&quot;sct_1220561009…</td><td>null</td><td>null</td></tr><tr><td>70</td><td>&quot;ER019&quot;</td><td>&quot;2023-09-05&quot;</td><td>1993</td><td>&quot;sct_248153007&quot;</td><td>null</td><td>null</td><td>&quot;sct_14045001&quot;</td><td>&quot;CS_MII_Person_…</td><td>null</td><td>null</td><td>&quot;sct_255398004&quot;</td><td>&quot;sct_1220561009…</td><td>null</td><td>null</td><td>&quot;2008-17-4&quot;</td><td>&quot;sct_1220561009…</td><td>null</td><td>&quot;sct_261665006&quot;</td><td>null</td><td>null</td><td>null</td><td>&quot;sct_410672004&quot;</td><td>2018.0</td><td>10.0</td><td>7.0</td><td>&quot;sct_1220561009…</td><td>null</td><td>&quot;sct_1220561009…</td><td>&quot;sct_1220561009…</td><td>&quot;sct_1220561009…</td><td>&quot;ORPHA:71529&quot;</td><td>null</td><td>&quot;E66.8&quot;</td><td>&quot;sct_1220561009…</td><td>null</td><td>null</td><td>&hellip;</td><td>null</td><td>null</td><td>&quot;sct_1220561009…</td><td>null</td><td>null</td><td>null</td><td>null</td><td>null</td><td>null</td><td>null</td><td>null</td><td>null</td><td>null</td><td>null</td><td>null</td><td>null</td><td>null</td><td>null</td><td>null</td><td>null</td><td>null</td><td>null</td><td>null</td><td>&quot;sct_1220561009…</td><td>&quot;sct_1220561009…</td><td>&quot;sct_1220561009…</td><td>&quot;sct_1220561009…</td><td>&quot;sct_1220561009…</td><td>&quot;sct_1220561009…</td><td>&quot;sct_1220561009…</td><td>&quot;sct_1220561009…</td><td>&quot;sct_1220561009…</td><td>&quot;sct_1220561009…</td><td>null</td><td>&quot;sct_1220561009…</td><td>null</td><td>null</td></tr><tr><td>91</td><td>&quot;OS035&quot;</td><td>&quot;2023-09-05&quot;</td><td>1996</td><td>&quot;sct_248152002&quot;</td><td>null</td><td>null</td><td>&quot;sct_14045001&quot;</td><td>&quot;CS_MII_Person_…</td><td>null</td><td>null</td><td>&quot;sct_41847000&quot;</td><td>&quot;sct_1220561009…</td><td>null</td><td>null</td><td>&quot;2009-7-21&quot;</td><td>&quot;sct_1220561009…</td><td>null</td><td>&quot;sct_261665006&quot;</td><td>null</td><td>null</td><td>null</td><td>&quot;sct_410672004&quot;</td><td>2014.0</td><td>11.0</td><td>11.0</td><td>&quot;sct_1220561009…</td><td>null</td><td>&quot;sct_1220561009…</td><td>&quot;sct_1220561009…</td><td>&quot;sct_373067005&quot;</td><td>&quot;ORPHA:71529&quot;</td><td>null</td><td>&quot;E66.8&quot;</td><td>&quot;sct_1220561009…</td><td>null</td><td>null</td><td>&hellip;</td><td>null</td><td>null</td><td>&quot;sct_1220561009…</td><td>null</td><td>null</td><td>null</td><td>null</td><td>null</td><td>null</td><td>null</td><td>null</td><td>null</td><td>null</td><td>null</td><td>null</td><td>null</td><td>null</td><td>null</td><td>null</td><td>null</td><td>null</td><td>null</td><td>null</td><td>&quot;sct_1220561009…</td><td>&quot;sct_1220561009…</td><td>&quot;sct_1220561009…</td><td>&quot;sct_1220561009…</td><td>&quot;sct_1220561009…</td><td>&quot;sct_1220561009…</td><td>&quot;sct_1220561009…</td><td>&quot;sct_1220561009…</td><td>&quot;sct_1220561009…</td><td>&quot;sct_1220561009…</td><td>null</td><td>&quot;sct_1220561009…</td><td>null</td><td>null</td></tr><tr><td>88</td><td>&quot;DM090&quot;</td><td>&quot;2023-09-05&quot;</td><td>2015</td><td>&quot;sct_248153007&quot;</td><td>null</td><td>null</td><td>&quot;sct_14045001&quot;</td><td>&quot;CS_MII_Person_…</td><td>null</td><td>null</td><td>&quot;sct_41847000&quot;</td><td>&quot;sct_1220561009…</td><td>null</td><td>null</td><td>&quot;2008-15-22&quot;</td><td>&quot;sct_1220561009…</td><td>null</td><td>&quot;sct_261665006&quot;</td><td>null</td><td>null</td><td>null</td><td>&quot;sct_410672004&quot;</td><td>2007.0</td><td>1.0</td><td>18.0</td><td>&quot;sct_1220561009…</td><td>null</td><td>&quot;sct_1220561009…</td><td>&quot;sct_1220561009…</td><td>&quot;sct_373067005&quot;</td><td>&quot;ORPHA:71529&quot;</td><td>null</td><td>&quot;E66.8&quot;</td><td>&quot;sct_1220561009…</td><td>null</td><td>null</td><td>&hellip;</td><td>null</td><td>null</td><td>&quot;sct_1220561009…</td><td>null</td><td>null</td><td>null</td><td>null</td><td>null</td><td>null</td><td>null</td><td>null</td><td>null</td><td>null</td><td>null</td><td>null</td><td>null</td><td>null</td><td>null</td><td>null</td><td>null</td><td>null</td><td>null</td><td>null</td><td>&quot;sct_1220561009…</td><td>&quot;sct_1220561009…</td><td>&quot;sct_1220561009…</td><td>&quot;sct_1220561009…</td><td>&quot;sct_1220561009…</td><td>&quot;sct_1220561009…</td><td>&quot;sct_1220561009…</td><td>&quot;sct_1220561009…</td><td>&quot;sct_1220561009…</td><td>&quot;sct_1220561009…</td><td>null</td><td>&quot;sct_1220561009…</td><td>null</td><td>null</td></tr><tr><td>31</td><td>&quot;OS035&quot;</td><td>&quot;2023-09-05&quot;</td><td>1995</td><td>&quot;sct_248153007&quot;</td><td>null</td><td>null</td><td>&quot;sct_14045001&quot;</td><td>&quot;CS_MII_Person_…</td><td>null</td><td>null</td><td>&quot;sct_41847000&quot;</td><td>&quot;sct_1220561009…</td><td>null</td><td>null</td><td>&quot;2008-17-4&quot;</td><td>&quot;sct_1220561009…</td><td>null</td><td>&quot;sct_261665006&quot;</td><td>null</td><td>null</td><td>null</td><td>&quot;sct_410672004&quot;</td><td>2010.0</td><td>10.0</td><td>7.0</td><td>&quot;sct_1220561009…</td><td>null</td><td>&quot;sct_1220561009…</td><td>&quot;sct_1220561009…</td><td>&quot;sct_1220561009…</td><td>&quot;ORPHA:71529&quot;</td><td>null</td><td>&quot;E66.8&quot;</td><td>&quot;sct_1220561009…</td><td>null</td><td>null</td><td>&hellip;</td><td>null</td><td>null</td><td>&quot;sct_1220561009…</td><td>null</td><td>null</td><td>null</td><td>null</td><td>null</td><td>null</td><td>null</td><td>null</td><td>null</td><td>null</td><td>null</td><td>null</td><td>null</td><td>null</td><td>null</td><td>null</td><td>null</td><td>null</td><td>null</td><td>null</td><td>&quot;sct_1220561009…</td><td>&quot;sct_1220561009…</td><td>&quot;sct_1220561009…</td><td>&quot;sct_1220561009…</td><td>&quot;sct_1220561009…</td><td>&quot;sct_1220561009…</td><td>&quot;sct_1220561009…</td><td>&quot;sct_1220561009…</td><td>&quot;sct_1220561009…</td><td>&quot;sct_1220561009…</td><td>null</td><td>&quot;sct_1220561009…</td><td>null</td><td>null</td></tr><tr><td>63</td><td>&quot;NF033&quot;</td><td>&quot;2023-09-05&quot;</td><td>1998</td><td>&quot;sct_248153007&quot;</td><td>null</td><td>null</td><td>&quot;sct_14045001&quot;</td><td>&quot;CS_MII_Person_…</td><td>null</td><td>null</td><td>&quot;sct_41847000&quot;</td><td>&quot;sct_1220561009…</td><td>null</td><td>null</td><td>&quot;2005-7-13&quot;</td><td>&quot;sct_1220561009…</td><td>null</td><td>&quot;sct_261665006&quot;</td><td>null</td><td>null</td><td>null</td><td>&quot;sct_410672004&quot;</td><td>2009.0</td><td>7.0</td><td>17.0</td><td>&quot;sct_1220561009…</td><td>null</td><td>&quot;sct_1220561009…</td><td>&quot;sct_1220561009…</td><td>&quot;sct_1220561009…</td><td>&quot;ORPHA:71529&quot;</td><td>null</td><td>&quot;E66.8&quot;</td><td>&quot;sct_1220561009…</td><td>null</td><td>null</td><td>&hellip;</td><td>null</td><td>null</td><td>&quot;sct_1220561009…</td><td>null</td><td>null</td><td>null</td><td>null</td><td>null</td><td>null</td><td>null</td><td>null</td><td>null</td><td>null</td><td>null</td><td>null</td><td>null</td><td>null</td><td>null</td><td>null</td><td>null</td><td>null</td><td>null</td><td>null</td><td>&quot;sct_1220561009…</td><td>&quot;sct_1220561009…</td><td>&quot;sct_1220561009…</td><td>&quot;sct_1220561009…</td><td>&quot;sct_1220561009…</td><td>&quot;sct_1220561009…</td><td>&quot;sct_1220561009…</td><td>&quot;sct_1220561009…</td><td>&quot;sct_1220561009…</td><td>&quot;sct_1220561009…</td><td>null</td><td>&quot;sct_1220561009…</td><td>null</td><td>null</td></tr></tbody></table></div>"
      ],
      "text/plain": [
       "shape: (50, 317)\n",
       "┌───────────┬───────────┬───────────┬───────────┬───┬───────────┬───────────┬───────────┬──────────┐\n",
       "│ record_id ┆ sct_42254 ┆ sct_39942 ┆ sct_18409 ┆ … ┆ sct_84056 ┆ sct_21134 ┆ sct_21134 ┆ erker_v1 │\n",
       "│ ---       ┆ 9004      ┆ 3000      ┆ 9003_y    ┆   ┆ 6006_spec ┆ 002_class ┆ 002_score ┆ 5_comple │\n",
       "│ i64       ┆ ---       ┆ ---       ┆ ---       ┆   ┆ ific      ┆ ---       ┆ ---       ┆ te       │\n",
       "│           ┆ str       ┆ str       ┆ i64       ┆   ┆ ---       ┆ str       ┆ str       ┆ ---      │\n",
       "│           ┆           ┆           ┆           ┆   ┆ str       ┆           ┆           ┆ str      │\n",
       "╞═══════════╪═══════════╪═══════════╪═══════════╪═══╪═══════════╪═══════════╪═══════════╪══════════╡\n",
       "│ 27        ┆ OS035     ┆ 2023-09-0 ┆ 1996      ┆ … ┆ null      ┆ sct_12205 ┆ null      ┆ null     │\n",
       "│           ┆           ┆ 5         ┆           ┆   ┆           ┆ 61009     ┆           ┆          │\n",
       "│ 85        ┆ LÖ024     ┆ 2023-09-0 ┆ 1999      ┆ … ┆ null      ┆ sct_12205 ┆ null      ┆ null     │\n",
       "│           ┆           ┆ 5         ┆           ┆   ┆           ┆ 61009     ┆           ┆          │\n",
       "│ 79        ┆ EG049     ┆ 2023-09-0 ┆ 1995      ┆ … ┆ null      ┆ sct_12205 ┆ null      ┆ null     │\n",
       "│           ┆           ┆ 5         ┆           ┆   ┆           ┆ 61009     ┆           ┆          │\n",
       "│ 55        ┆ AV020     ┆ 2023-09-0 ┆ 1996      ┆ … ┆ null      ┆ sct_12205 ┆ null      ┆ null     │\n",
       "│           ┆           ┆ 5         ┆           ┆   ┆           ┆ 61009     ┆           ┆          │\n",
       "│ …         ┆ …         ┆ …         ┆ …         ┆ … ┆ …         ┆ …         ┆ …         ┆ …        │\n",
       "│ 91        ┆ OS035     ┆ 2023-09-0 ┆ 1996      ┆ … ┆ null      ┆ sct_12205 ┆ null      ┆ null     │\n",
       "│           ┆           ┆ 5         ┆           ┆   ┆           ┆ 61009     ┆           ┆          │\n",
       "│ 88        ┆ DM090     ┆ 2023-09-0 ┆ 2015      ┆ … ┆ null      ┆ sct_12205 ┆ null      ┆ null     │\n",
       "│           ┆           ┆ 5         ┆           ┆   ┆           ┆ 61009     ┆           ┆          │\n",
       "│ 31        ┆ OS035     ┆ 2023-09-0 ┆ 1995      ┆ … ┆ null      ┆ sct_12205 ┆ null      ┆ null     │\n",
       "│           ┆           ┆ 5         ┆           ┆   ┆           ┆ 61009     ┆           ┆          │\n",
       "│ 63        ┆ NF033     ┆ 2023-09-0 ┆ 1998      ┆ … ┆ null      ┆ sct_12205 ┆ null      ┆ null     │\n",
       "│           ┆           ┆ 5         ┆           ┆   ┆           ┆ 61009     ┆           ┆          │\n",
       "└───────────┴───────────┴───────────┴───────────┴───┴───────────┴───────────┴───────────┴──────────┘"
      ]
     },
     "execution_count": 9,
     "metadata": {},
     "output_type": "execute_result"
    }
   ],
   "source": [
    "df.unique()"
   ]
  },
  {
   "cell_type": "markdown",
   "metadata": {
    "collapsed": false
   },
   "source": [
    "#### Get number of null values for each column"
   ]
  },
  {
   "cell_type": "code",
   "execution_count": 10,
   "metadata": {
    "ExecuteTime": {
     "end_time": "2023-08-31T16:35:29.072267Z",
     "start_time": "2023-08-31T16:35:29.041618Z"
    },
    "collapsed": false
   },
   "outputs": [
    {
     "name": "stdout",
     "output_type": "stream",
     "text": [
      "There are 232/317 columns with only null values in the data\n",
      "There are 260/317 columns with at least one null value in the data\n"
     ]
    },
    {
     "data": {
      "text/html": [
       "<div><style>\n",
       ".dataframe > thead > tr > th,\n",
       ".dataframe > tbody > tr > td {\n",
       "  text-align: right;\n",
       "}\n",
       "</style>\n",
       "<small>shape: (260, 3)</small><table border=\"1\" class=\"dataframe\"><thead><tr><th>variable</th><th>null_count</th><th>all_null</th></tr><tr><td>str</td><td>u32</td><td>bool</td></tr></thead><tbody><tr><td>&quot;sct_263495000&quot;</td><td>50</td><td>false</td></tr><tr><td>&quot;sct_315354004&quot;</td><td>50</td><td>false</td></tr><tr><td>&quot;sct_364699009&quot;</td><td>5</td><td>false</td></tr><tr><td>&quot;sct_399753006&quot;</td><td>50</td><td>false</td></tr><tr><td>&quot;sct_420259009&quot;</td><td>50</td><td>false</td></tr><tr><td>&quot;sct_16100001&quot;</td><td>50</td><td>false</td></tr><tr><td>&quot;sct_16100001_s…</td><td>50</td><td>false</td></tr><tr><td>&quot;sct_276239002_…</td><td>50</td><td>false</td></tr><tr><td>&quot;sct_405795006_…</td><td>50</td><td>false</td></tr><tr><td>&quot;sct_405795006_…</td><td>50</td><td>false</td></tr><tr><td>&quot;sct_405795006_…</td><td>50</td><td>false</td></tr><tr><td>&quot;sct_432213005_…</td><td>1</td><td>false</td></tr><tr><td>&hellip;</td><td>&hellip;</td><td>&hellip;</td></tr><tr><td>&quot;sct_75226009_6…</td><td>50</td><td>false</td></tr><tr><td>&quot;sct_75226009_7…</td><td>50</td><td>false</td></tr><tr><td>&quot;sct_75226009_7…</td><td>50</td><td>false</td></tr><tr><td>&quot;sct_75226009_8…</td><td>50</td><td>false</td></tr><tr><td>&quot;sct_75226009_8…</td><td>50</td><td>false</td></tr><tr><td>&quot;sct_75226009_9…</td><td>50</td><td>false</td></tr><tr><td>&quot;sct_75226009_9…</td><td>50</td><td>false</td></tr><tr><td>&quot;sct_75226009_1…</td><td>50</td><td>false</td></tr><tr><td>&quot;sct_75226009_1…</td><td>50</td><td>false</td></tr><tr><td>&quot;sct_840566006_…</td><td>50</td><td>false</td></tr><tr><td>&quot;sct_21134002_s…</td><td>50</td><td>false</td></tr><tr><td>&quot;erker_v15_comp…</td><td>50</td><td>false</td></tr></tbody></table></div>"
      ],
      "text/plain": [
       "shape: (260, 3)\n",
       "┌────────────────────────┬────────────┬──────────┐\n",
       "│ variable               ┆ null_count ┆ all_null │\n",
       "│ ---                    ┆ ---        ┆ ---      │\n",
       "│ str                    ┆ u32        ┆ bool     │\n",
       "╞════════════════════════╪════════════╪══════════╡\n",
       "│ sct_263495000          ┆ 50         ┆ false    │\n",
       "│ sct_315354004          ┆ 50         ┆ false    │\n",
       "│ sct_364699009          ┆ 5          ┆ false    │\n",
       "│ sct_399753006          ┆ 50         ┆ false    │\n",
       "│ …                      ┆ …          ┆ …        │\n",
       "│ sct_75226009_10_gender ┆ 50         ┆ false    │\n",
       "│ sct_840566006_specific ┆ 50         ┆ false    │\n",
       "│ sct_21134002_score     ┆ 50         ┆ false    │\n",
       "│ erker_v15_complete     ┆ 50         ┆ false    │\n",
       "└────────────────────────┴────────────┴──────────┘"
      ]
     },
     "execution_count": 10,
     "metadata": {},
     "output_type": "execute_result"
    }
   ],
   "source": [
    "PolarsUtils.null_value_analysis(df, verbose=True)"
   ]
  },
  {
   "cell_type": "markdown",
   "metadata": {
    "collapsed": false
   },
   "source": [
    "## Preprocessing\n",
    "- remove null colus\n",
    "- clean up data\n",
    "- add id col to data (col name `'mc4r_id'`)"
   ]
  },
  {
   "cell_type": "markdown",
   "metadata": {
    "collapsed": false
   },
   "source": [
    "### Remove null cols"
   ]
  },
  {
   "cell_type": "code",
   "execution_count": 11,
   "metadata": {
    "ExecuteTime": {
     "end_time": "2023-08-31T16:35:29.213329Z",
     "start_time": "2023-08-31T16:35:29.056631Z"
    },
    "collapsed": false
   },
   "outputs": [
    {
     "name": "stdout",
     "output_type": "stream",
     "text": [
      "Dropped 232 columns. 85 columns remaining.\n"
     ]
    },
    {
     "data": {
      "text/html": [
       "<div><style>\n",
       ".dataframe > thead > tr > th,\n",
       ".dataframe > tbody > tr > td {\n",
       "  text-align: right;\n",
       "}\n",
       "</style>\n",
       "<small>shape: (5, 85)</small><table border=\"1\" class=\"dataframe\"><thead><tr><th>record_id</th><th>sct_422549004</th><th>sct_399423000</th><th>sct_184099003_y</th><th>sct_281053000</th><th>sct_364699009</th><th>sct_278844005</th><th>sct_767023003</th><th>sct_184305005_rd</th><th>sct_769681006_center</th><th>sct_440377005</th><th>sct_424850005</th><th>sct_423493009</th><th>sct_432213005_y</th><th>sct_432213005_m</th><th>sct_432213005_d</th><th>sct_717800004</th><th>sct_64245008</th><th>sct_125679009_proposit</th><th>sct_842009</th><th>sct_439401001_orpha</th><th>sct_439401001_icd10gm</th><th>sct_439401001_alphaid</th><th>sct_432213005</th><th>sct_263493007</th><th>sct_116694002</th><th>sct_246454002</th><th>sct_439401001_ver</th><th>sct_103330002</th><th>sct_439401001_val</th><th>sct_39154008_hpo</th><th>sct_406522009</th><th>ln_48007_9</th><th>ln_48007_9_mitoch</th><th>sct_439401001_gen_val</th><th>ln_ll4048_6</th><th>sct_439401001_omim_g_1</th><th>&hellip;</th><th>sct_55446002_str_2</th><th>ln_48004_6_2</th><th>ln_48005_3_2</th><th>ln_48018_6_2</th><th>ln_48002_0_2</th><th>ln_48019_4_2</th><th>ln_53037_8_2</th><th>ln_62374_4_3</th><th>ln_48004_6_3</th><th>ln_48018_6_3</th><th>ln_48019_4_3</th><th>ln_53037_8_3</th><th>sct_8116006_1</th><th>sct_8116006_1_date</th><th>sct_8116006_2</th><th>sct_8116006_2_date</th><th>sct_8116006_3</th><th>sct_8116006_3_date</th><th>sct_8116006_4</th><th>sct_8116006_4_date</th><th>sct_72705000_rd</th><th>sct_160430005</th><th>sct_66839005_rd</th><th>sct_160436004</th><th>sct_82101005_rd</th><th>sct_75226009_rd</th><th>sct_309370004_research</th><th>sct_309370004_narse</th><th>sct_309370004_data</th><th>sct_309370004_eu</th><th>sct_309370004_int</th><th>sct_309370004_aff</th><th>sct_309370004_gen</th><th>sct_309370004_case</th><th>sct_123038009</th><th>sct_840566006</th><th>sct_21134002_class</th></tr><tr><td>i64</td><td>str</td><td>str</td><td>i64</td><td>str</td><td>str</td><td>str</td><td>str</td><td>str</td><td>str</td><td>str</td><td>str</td><td>str</td><td>f64</td><td>f64</td><td>f64</td><td>str</td><td>str</td><td>str</td><td>str</td><td>str</td><td>str</td><td>str</td><td>str</td><td>str</td><td>str</td><td>str</td><td>str</td><td>str</td><td>str</td><td>str</td><td>str</td><td>str</td><td>str</td><td>str</td><td>str</td><td>str</td><td>&hellip;</td><td>str</td><td>str</td><td>str</td><td>str</td><td>str</td><td>str</td><td>str</td><td>str</td><td>str</td><td>str</td><td>str</td><td>str</td><td>str</td><td>str</td><td>str</td><td>str</td><td>str</td><td>str</td><td>str</td><td>str</td><td>str</td><td>str</td><td>str</td><td>str</td><td>str</td><td>str</td><td>str</td><td>str</td><td>str</td><td>str</td><td>str</td><td>str</td><td>str</td><td>str</td><td>str</td><td>str</td><td>str</td></tr></thead><tbody><tr><td>8</td><td>&quot;YD053&quot;</td><td>&quot;2023-09-05&quot;</td><td>1995</td><td>&quot;sct_248153007&quot;</td><td>&quot;sct_414408004&quot;</td><td>&quot;CS_MII_Person_…</td><td>&quot;sct_41847000&quot;</td><td>&quot;sct_1220561009…</td><td>&quot;2007-17-20&quot;</td><td>&quot;sct_1220561009…</td><td>&quot;sct_261665006&quot;</td><td>&quot;sct_410672004&quot;</td><td>2008.0</td><td>11.0</td><td>19.0</td><td>&quot;sct_1220561009…</td><td>&quot;sct_1220561009…</td><td>&quot;sct_1220561009…</td><td>&quot;sct_1220561009…</td><td>&quot;ORPHA:71529&quot;</td><td>&quot;E66.8&quot;</td><td>&quot;sct_1220561009…</td><td>&quot;2014-05-07&quot;</td><td>&quot;sct_1220561009…</td><td>&quot;sct_1220561009…</td><td>&quot;sct_1220561009…</td><td>&quot;hl7_conditionv…</td><td>&quot;sct_373067005&quot;</td><td>&quot;sct_439401001_…</td><td>&quot;sct_373066001&quot;</td><td>&quot;sct_1220561009…</td><td>&quot;ln_LA6706-1&quot;</td><td>&quot;sct_1220561009…</td><td>&quot;sct_373066001&quot;</td><td>&quot;sct_1220561009…</td><td>&quot;&quot;nan&quot;&quot;</td><td>&hellip;</td><td>null</td><td>null</td><td>null</td><td>&quot;HGNC:6932&quot;</td><td>null</td><td>null</td><td>null</td><td>&quot;ln_LA26806-2&quot;</td><td>null</td><td>&quot;HGNC:6932&quot;</td><td>&quot;SO_1000002&quot;</td><td>null</td><td>null</td><td>&quot;2008-01-13&quot;</td><td>&quot;HP:0025499&quot;</td><td>null</td><td>null</td><td>&quot;2001-03-17&quot;</td><td>null</td><td>null</td><td>&quot;sct_1220561009…</td><td>&quot;sct_1220561009…</td><td>&quot;sct_1220561009…</td><td>&quot;sct_1220561009…</td><td>&quot;sct_1220561009…</td><td>&quot;sct_1220561009…</td><td>&quot;sct_1220561009…</td><td>&quot;sct_1220561009…</td><td>&quot;sct_1220561009…</td><td>&quot;sct_1220561009…</td><td>&quot;sct_1220561009…</td><td>&quot;sct_1220561009…</td><td>&quot;sct_1220561009…</td><td>&quot;sct_1220561009…</td><td>&quot;sct_1220561009…</td><td>&quot;sct_1220561009…</td><td>&quot;sct_1220561009…</td></tr><tr><td>37</td><td>&quot;ER019&quot;</td><td>&quot;2023-09-05&quot;</td><td>1992</td><td>&quot;sct_248153007&quot;</td><td>&quot;sct_14045001&quot;</td><td>&quot;CS_MII_Person_…</td><td>&quot;sct_41847000&quot;</td><td>&quot;sct_1220561009…</td><td>&quot;2015-14-18&quot;</td><td>&quot;sct_1220561009…</td><td>&quot;sct_261665006&quot;</td><td>&quot;sct_410672004&quot;</td><td>2014.0</td><td>5.0</td><td>5.0</td><td>&quot;sct_1220561009…</td><td>&quot;sct_1220561009…</td><td>&quot;sct_1220561009…</td><td>&quot;sct_373067005&quot;</td><td>&quot;ORPHA:71529&quot;</td><td>&quot;E66.8&quot;</td><td>&quot;sct_1220561009…</td><td>&quot;2015-02-24&quot;</td><td>&quot;sct_1220561009…</td><td>&quot;sct_1220561009…</td><td>&quot;sct_1220561009…</td><td>&quot;hl7_conditionv…</td><td>&quot;sct_373067005&quot;</td><td>&quot;sct_439401001_…</td><td>&quot;sct_373066001&quot;</td><td>&quot;sct_1220561009…</td><td>&quot;ln_LA6706-1&quot;</td><td>&quot;sct_1220561009…</td><td>&quot;sct_373066001&quot;</td><td>&quot;sct_1220561009…</td><td>&quot;&quot;155541.0024&quot;&quot;</td><td>&hellip;</td><td>null</td><td>null</td><td>null</td><td>&quot;HGNC:6932&quot;</td><td>null</td><td>null</td><td>null</td><td>&quot;ln_LA26806-2&quot;</td><td>null</td><td>&quot;HGNC:6932&quot;</td><td>null</td><td>null</td><td>null</td><td>&quot;2004-01-26&quot;</td><td>null</td><td>null</td><td>&quot;HP:0025499&quot;</td><td>null</td><td>null</td><td>null</td><td>&quot;sct_1220561009…</td><td>&quot;sct_1220561009…</td><td>&quot;sct_1220561009…</td><td>&quot;sct_1220561009…</td><td>&quot;sct_1220561009…</td><td>&quot;sct_1220561009…</td><td>&quot;sct_1220561009…</td><td>&quot;sct_1220561009…</td><td>&quot;sct_1220561009…</td><td>&quot;sct_1220561009…</td><td>&quot;sct_1220561009…</td><td>&quot;sct_1220561009…</td><td>&quot;sct_1220561009…</td><td>&quot;sct_1220561009…</td><td>&quot;sct_1220561009…</td><td>&quot;sct_1220561009…</td><td>&quot;sct_1220561009…</td></tr><tr><td>66</td><td>&quot;LD045&quot;</td><td>&quot;2023-09-05&quot;</td><td>1997</td><td>&quot;sct_248152002&quot;</td><td>&quot;sct_14045001&quot;</td><td>&quot;CS_MII_Person_…</td><td>&quot;sct_41847000&quot;</td><td>&quot;sct_1220561009…</td><td>&quot;2001-7-16&quot;</td><td>&quot;sct_1220561009…</td><td>&quot;sct_261665006&quot;</td><td>&quot;sct_410672004&quot;</td><td>2018.0</td><td>7.0</td><td>7.0</td><td>&quot;sct_1220561009…</td><td>&quot;sct_1220561009…</td><td>&quot;sct_1220561009…</td><td>&quot;sct_1220561009…</td><td>&quot;ORPHA:71529&quot;</td><td>&quot;E66.8&quot;</td><td>&quot;sct_1220561009…</td><td>&quot;2007-12-12&quot;</td><td>&quot;sct_1220561009…</td><td>&quot;sct_1220561009…</td><td>&quot;sct_1220561009…</td><td>&quot;hl7_conditionv…</td><td>&quot;sct_373067005&quot;</td><td>&quot;sct_439401001_…</td><td>&quot;sct_373066001&quot;</td><td>&quot;sct_1220561009…</td><td>&quot;sct_1220561009…</td><td>&quot;sct_1220561009…</td><td>&quot;sct_373066001&quot;</td><td>&quot;sct_1220561009…</td><td>&quot;&quot;155541.0024&quot;&quot;</td><td>&hellip;</td><td>null</td><td>null</td><td>null</td><td>&quot;HGNC:6932&quot;</td><td>null</td><td>null</td><td>null</td><td>&quot;ln_LA26806-2&quot;</td><td>null</td><td>&quot;HGNC:6932&quot;</td><td>null</td><td>null</td><td>null</td><td>null</td><td>null</td><td>null</td><td>null</td><td>null</td><td>null</td><td>null</td><td>&quot;sct_1220561009…</td><td>&quot;sct_1220561009…</td><td>&quot;sct_1220561009…</td><td>&quot;sct_1220561009…</td><td>&quot;sct_1220561009…</td><td>&quot;sct_1220561009…</td><td>&quot;sct_1220561009…</td><td>&quot;sct_1220561009…</td><td>&quot;sct_1220561009…</td><td>&quot;sct_1220561009…</td><td>&quot;sct_1220561009…</td><td>&quot;sct_1220561009…</td><td>&quot;sct_1220561009…</td><td>&quot;sct_1220561009…</td><td>&quot;sct_1220561009…</td><td>&quot;sct_1220561009…</td><td>&quot;sct_1220561009…</td></tr><tr><td>35</td><td>&quot;AM034&quot;</td><td>&quot;2023-09-05&quot;</td><td>1994</td><td>&quot;sct_248152002&quot;</td><td>&quot;sct_14045001&quot;</td><td>&quot;CS_MII_Person_…</td><td>&quot;sct_263659003&quot;</td><td>&quot;sct_1220561009…</td><td>&quot;2008-6-14&quot;</td><td>&quot;sct_1220561009…</td><td>&quot;sct_261665006&quot;</td><td>&quot;sct_410672004&quot;</td><td>2009.0</td><td>7.0</td><td>10.0</td><td>&quot;sct_1220561009…</td><td>&quot;sct_1220561009…</td><td>&quot;sct_1220561009…</td><td>&quot;sct_373066001&quot;</td><td>&quot;ORPHA:71529&quot;</td><td>&quot;E66.8&quot;</td><td>&quot;sct_1220561009…</td><td>&quot;2008-06-27&quot;</td><td>&quot;sct_1220561009…</td><td>&quot;sct_1220561009…</td><td>&quot;sct_1220561009…</td><td>&quot;hl7_conditionv…</td><td>&quot;sct_373067005&quot;</td><td>&quot;sct_439401001_…</td><td>&quot;sct_373066001&quot;</td><td>&quot;sct_1220561009…</td><td>&quot;ln_LA6706-1&quot;</td><td>&quot;sct_1220561009…</td><td>&quot;sct_373066001&quot;</td><td>&quot;sct_1220561009…</td><td>&quot;&quot;155541.0024&quot;&quot;</td><td>&hellip;</td><td>null</td><td>null</td><td>null</td><td>&quot;HGNC:6932&quot;</td><td>null</td><td>null</td><td>null</td><td>&quot;ln_LA26806-2&quot;</td><td>null</td><td>&quot;HGNC:6932&quot;</td><td>null</td><td>null</td><td>null</td><td>null</td><td>&quot;HP:0025499&quot;</td><td>null</td><td>null</td><td>null</td><td>null</td><td>null</td><td>&quot;sct_1220561009…</td><td>&quot;sct_1220561009…</td><td>&quot;sct_1220561009…</td><td>&quot;sct_1220561009…</td><td>&quot;sct_1220561009…</td><td>&quot;sct_1220561009…</td><td>&quot;sct_1220561009…</td><td>&quot;sct_1220561009…</td><td>&quot;sct_1220561009…</td><td>&quot;sct_1220561009…</td><td>&quot;sct_1220561009…</td><td>&quot;sct_1220561009…</td><td>&quot;sct_1220561009…</td><td>&quot;sct_1220561009…</td><td>&quot;sct_1220561009…</td><td>&quot;sct_1220561009…</td><td>&quot;sct_1220561009…</td></tr><tr><td>88</td><td>&quot;NS054&quot;</td><td>&quot;2023-09-05&quot;</td><td>1995</td><td>&quot;sct_248153007&quot;</td><td>&quot;sct_14045001&quot;</td><td>&quot;CS_MII_Person_…</td><td>&quot;sct_263659003&quot;</td><td>&quot;sct_1220561009…</td><td>&quot;2008-17-4&quot;</td><td>&quot;sct_1220561009…</td><td>&quot;sct_261665006&quot;</td><td>&quot;sct_410672004&quot;</td><td>2019.0</td><td>2.0</td><td>18.0</td><td>&quot;sct_1220561009…</td><td>&quot;sct_1220561009…</td><td>&quot;sct_1220561009…</td><td>&quot;sct_1220561009…</td><td>&quot;ORPHA:71529&quot;</td><td>&quot;E66.8&quot;</td><td>&quot;sct_1220561009…</td><td>&quot;2013-04-10&quot;</td><td>&quot;sct_1220561009…</td><td>&quot;sct_1220561009…</td><td>&quot;sct_1220561009…</td><td>&quot;hl7_conditionv…</td><td>&quot;sct_373067005&quot;</td><td>&quot;sct_439401001_…</td><td>&quot;sct_373066001&quot;</td><td>&quot;sct_1220561009…</td><td>&quot;ln_LA6706-1&quot;</td><td>&quot;sct_1220561009…</td><td>&quot;sct_373066001&quot;</td><td>&quot;sct_1220561009…</td><td>&quot;&quot;nan&quot;&quot;</td><td>&hellip;</td><td>null</td><td>&quot;NM_005912.3:c.…</td><td>null</td><td>&quot;HGNC:6932&quot;</td><td>null</td><td>null</td><td>null</td><td>&quot;ln_LA26806-2&quot;</td><td>null</td><td>&quot;HGNC:6932&quot;</td><td>null</td><td>null</td><td>&quot;HP:0025499&quot;</td><td>null</td><td>null</td><td>null</td><td>null</td><td>&quot;2004-09-04&quot;</td><td>null</td><td>&quot;2002-01-12&quot;</td><td>&quot;sct_1220561009…</td><td>&quot;sct_1220561009…</td><td>&quot;sct_1220561009…</td><td>&quot;sct_1220561009…</td><td>&quot;sct_1220561009…</td><td>&quot;sct_1220561009…</td><td>&quot;sct_1220561009…</td><td>&quot;sct_1220561009…</td><td>&quot;sct_1220561009…</td><td>&quot;sct_1220561009…</td><td>&quot;sct_1220561009…</td><td>&quot;sct_1220561009…</td><td>&quot;sct_1220561009…</td><td>&quot;sct_1220561009…</td><td>&quot;sct_1220561009…</td><td>&quot;sct_1220561009…</td><td>&quot;sct_1220561009…</td></tr></tbody></table></div>"
      ],
      "text/plain": [
       "shape: (5, 85)\n",
       "┌───────────┬───────────┬───────────┬───────────┬───┬───────────┬───────────┬───────────┬──────────┐\n",
       "│ record_id ┆ sct_42254 ┆ sct_39942 ┆ sct_18409 ┆ … ┆ sct_30937 ┆ sct_12303 ┆ sct_84056 ┆ sct_2113 │\n",
       "│ ---       ┆ 9004      ┆ 3000      ┆ 9003_y    ┆   ┆ 0004_case ┆ 8009      ┆ 6006      ┆ 4002_cla │\n",
       "│ i64       ┆ ---       ┆ ---       ┆ ---       ┆   ┆ ---       ┆ ---       ┆ ---       ┆ ss       │\n",
       "│           ┆ str       ┆ str       ┆ i64       ┆   ┆ str       ┆ str       ┆ str       ┆ ---      │\n",
       "│           ┆           ┆           ┆           ┆   ┆           ┆           ┆           ┆ str      │\n",
       "╞═══════════╪═══════════╪═══════════╪═══════════╪═══╪═══════════╪═══════════╪═══════════╪══════════╡\n",
       "│ 8         ┆ YD053     ┆ 2023-09-0 ┆ 1995      ┆ … ┆ sct_12205 ┆ sct_12205 ┆ sct_12205 ┆ sct_1220 │\n",
       "│           ┆           ┆ 5         ┆           ┆   ┆ 61009     ┆ 61009     ┆ 61009     ┆ 561009   │\n",
       "│ 37        ┆ ER019     ┆ 2023-09-0 ┆ 1992      ┆ … ┆ sct_12205 ┆ sct_12205 ┆ sct_12205 ┆ sct_1220 │\n",
       "│           ┆           ┆ 5         ┆           ┆   ┆ 61009     ┆ 61009     ┆ 61009     ┆ 561009   │\n",
       "│ 66        ┆ LD045     ┆ 2023-09-0 ┆ 1997      ┆ … ┆ sct_12205 ┆ sct_12205 ┆ sct_12205 ┆ sct_1220 │\n",
       "│           ┆           ┆ 5         ┆           ┆   ┆ 61009     ┆ 61009     ┆ 61009     ┆ 561009   │\n",
       "│ 35        ┆ AM034     ┆ 2023-09-0 ┆ 1994      ┆ … ┆ sct_12205 ┆ sct_12205 ┆ sct_12205 ┆ sct_1220 │\n",
       "│           ┆           ┆ 5         ┆           ┆   ┆ 61009     ┆ 61009     ┆ 61009     ┆ 561009   │\n",
       "│ 88        ┆ NS054     ┆ 2023-09-0 ┆ 1995      ┆ … ┆ sct_12205 ┆ sct_12205 ┆ sct_12205 ┆ sct_1220 │\n",
       "│           ┆           ┆ 5         ┆           ┆   ┆ 61009     ┆ 61009     ┆ 61009     ┆ 561009   │\n",
       "└───────────┴───────────┴───────────┴───────────┴───┴───────────┴───────────┴───────────┴──────────┘"
      ]
     },
     "execution_count": 11,
     "metadata": {},
     "output_type": "execute_result"
    }
   ],
   "source": [
    "df = PolarsUtils.drop_null_cols(df, remove_all_null=True, remove_any_null=False)\n",
    "df.head(5)"
   ]
  },
  {
   "cell_type": "markdown",
   "metadata": {
    "collapsed": false
   },
   "source": [
    "### Update id column\n",
    "1. Drop old ID (has duplicate values)\n",
    "2. Initialize new ID column"
   ]
  },
  {
   "cell_type": "code",
   "execution_count": 12,
   "metadata": {
    "ExecuteTime": {
     "end_time": "2023-08-31T16:35:29.228952Z",
     "start_time": "2023-08-31T16:35:29.087892Z"
    },
    "collapsed": false
   },
   "outputs": [],
   "source": [
    "df.drop_in_place('record_id');  # entferne alte ID"
   ]
  },
  {
   "cell_type": "code",
   "execution_count": 13,
   "metadata": {
    "ExecuteTime": {
     "end_time": "2023-08-31T16:35:29.260602Z",
     "start_time": "2023-08-31T16:35:29.103517Z"
    },
    "collapsed": false
   },
   "outputs": [
    {
     "data": {
      "text/html": [
       "<div><style>\n",
       ".dataframe > thead > tr > th,\n",
       ".dataframe > tbody > tr > td {\n",
       "  text-align: right;\n",
       "}\n",
       "</style>\n",
       "<small>shape: (5, 85)</small><table border=\"1\" class=\"dataframe\"><thead><tr><th>mc4r_id</th><th>sct_422549004</th><th>sct_399423000</th><th>sct_184099003_y</th><th>sct_281053000</th><th>sct_364699009</th><th>sct_278844005</th><th>sct_767023003</th><th>sct_184305005_rd</th><th>sct_769681006_center</th><th>sct_440377005</th><th>sct_424850005</th><th>sct_423493009</th><th>sct_432213005_y</th><th>sct_432213005_m</th><th>sct_432213005_d</th><th>sct_717800004</th><th>sct_64245008</th><th>sct_125679009_proposit</th><th>sct_842009</th><th>sct_439401001_orpha</th><th>sct_439401001_icd10gm</th><th>sct_439401001_alphaid</th><th>sct_432213005</th><th>sct_263493007</th><th>sct_116694002</th><th>sct_246454002</th><th>sct_439401001_ver</th><th>sct_103330002</th><th>sct_439401001_val</th><th>sct_39154008_hpo</th><th>sct_406522009</th><th>ln_48007_9</th><th>ln_48007_9_mitoch</th><th>sct_439401001_gen_val</th><th>ln_ll4048_6</th><th>sct_439401001_omim_g_1</th><th>&hellip;</th><th>sct_55446002_str_2</th><th>ln_48004_6_2</th><th>ln_48005_3_2</th><th>ln_48018_6_2</th><th>ln_48002_0_2</th><th>ln_48019_4_2</th><th>ln_53037_8_2</th><th>ln_62374_4_3</th><th>ln_48004_6_3</th><th>ln_48018_6_3</th><th>ln_48019_4_3</th><th>ln_53037_8_3</th><th>sct_8116006_1</th><th>sct_8116006_1_date</th><th>sct_8116006_2</th><th>sct_8116006_2_date</th><th>sct_8116006_3</th><th>sct_8116006_3_date</th><th>sct_8116006_4</th><th>sct_8116006_4_date</th><th>sct_72705000_rd</th><th>sct_160430005</th><th>sct_66839005_rd</th><th>sct_160436004</th><th>sct_82101005_rd</th><th>sct_75226009_rd</th><th>sct_309370004_research</th><th>sct_309370004_narse</th><th>sct_309370004_data</th><th>sct_309370004_eu</th><th>sct_309370004_int</th><th>sct_309370004_aff</th><th>sct_309370004_gen</th><th>sct_309370004_case</th><th>sct_123038009</th><th>sct_840566006</th><th>sct_21134002_class</th></tr><tr><td>str</td><td>str</td><td>str</td><td>i64</td><td>str</td><td>str</td><td>str</td><td>str</td><td>str</td><td>str</td><td>str</td><td>str</td><td>str</td><td>f64</td><td>f64</td><td>f64</td><td>str</td><td>str</td><td>str</td><td>str</td><td>str</td><td>str</td><td>str</td><td>str</td><td>str</td><td>str</td><td>str</td><td>str</td><td>str</td><td>str</td><td>str</td><td>str</td><td>str</td><td>str</td><td>str</td><td>str</td><td>str</td><td>&hellip;</td><td>str</td><td>str</td><td>str</td><td>str</td><td>str</td><td>str</td><td>str</td><td>str</td><td>str</td><td>str</td><td>str</td><td>str</td><td>str</td><td>str</td><td>str</td><td>str</td><td>str</td><td>str</td><td>str</td><td>str</td><td>str</td><td>str</td><td>str</td><td>str</td><td>str</td><td>str</td><td>str</td><td>str</td><td>str</td><td>str</td><td>str</td><td>str</td><td>str</td><td>str</td><td>str</td><td>str</td><td>str</td></tr></thead><tbody><tr><td>&quot;0&quot;</td><td>&quot;YD053&quot;</td><td>&quot;2023-09-05&quot;</td><td>1995</td><td>&quot;sct_248153007&quot;</td><td>&quot;sct_414408004&quot;</td><td>&quot;CS_MII_Person_…</td><td>&quot;sct_41847000&quot;</td><td>&quot;sct_1220561009…</td><td>&quot;2007-17-20&quot;</td><td>&quot;sct_1220561009…</td><td>&quot;sct_261665006&quot;</td><td>&quot;sct_410672004&quot;</td><td>2008.0</td><td>11.0</td><td>19.0</td><td>&quot;sct_1220561009…</td><td>&quot;sct_1220561009…</td><td>&quot;sct_1220561009…</td><td>&quot;sct_1220561009…</td><td>&quot;ORPHA:71529&quot;</td><td>&quot;E66.8&quot;</td><td>&quot;sct_1220561009…</td><td>&quot;2014-05-07&quot;</td><td>&quot;sct_1220561009…</td><td>&quot;sct_1220561009…</td><td>&quot;sct_1220561009…</td><td>&quot;hl7_conditionv…</td><td>&quot;sct_373067005&quot;</td><td>&quot;sct_439401001_…</td><td>&quot;sct_373066001&quot;</td><td>&quot;sct_1220561009…</td><td>&quot;ln_LA6706-1&quot;</td><td>&quot;sct_1220561009…</td><td>&quot;sct_373066001&quot;</td><td>&quot;sct_1220561009…</td><td>&quot;&quot;nan&quot;&quot;</td><td>&hellip;</td><td>null</td><td>null</td><td>null</td><td>&quot;HGNC:6932&quot;</td><td>null</td><td>null</td><td>null</td><td>&quot;ln_LA26806-2&quot;</td><td>null</td><td>&quot;HGNC:6932&quot;</td><td>&quot;SO_1000002&quot;</td><td>null</td><td>null</td><td>&quot;2008-01-13&quot;</td><td>&quot;HP:0025499&quot;</td><td>null</td><td>null</td><td>&quot;2001-03-17&quot;</td><td>null</td><td>null</td><td>&quot;sct_1220561009…</td><td>&quot;sct_1220561009…</td><td>&quot;sct_1220561009…</td><td>&quot;sct_1220561009…</td><td>&quot;sct_1220561009…</td><td>&quot;sct_1220561009…</td><td>&quot;sct_1220561009…</td><td>&quot;sct_1220561009…</td><td>&quot;sct_1220561009…</td><td>&quot;sct_1220561009…</td><td>&quot;sct_1220561009…</td><td>&quot;sct_1220561009…</td><td>&quot;sct_1220561009…</td><td>&quot;sct_1220561009…</td><td>&quot;sct_1220561009…</td><td>&quot;sct_1220561009…</td><td>&quot;sct_1220561009…</td></tr><tr><td>&quot;1&quot;</td><td>&quot;ER019&quot;</td><td>&quot;2023-09-05&quot;</td><td>1992</td><td>&quot;sct_248153007&quot;</td><td>&quot;sct_14045001&quot;</td><td>&quot;CS_MII_Person_…</td><td>&quot;sct_41847000&quot;</td><td>&quot;sct_1220561009…</td><td>&quot;2015-14-18&quot;</td><td>&quot;sct_1220561009…</td><td>&quot;sct_261665006&quot;</td><td>&quot;sct_410672004&quot;</td><td>2014.0</td><td>5.0</td><td>5.0</td><td>&quot;sct_1220561009…</td><td>&quot;sct_1220561009…</td><td>&quot;sct_1220561009…</td><td>&quot;sct_373067005&quot;</td><td>&quot;ORPHA:71529&quot;</td><td>&quot;E66.8&quot;</td><td>&quot;sct_1220561009…</td><td>&quot;2015-02-24&quot;</td><td>&quot;sct_1220561009…</td><td>&quot;sct_1220561009…</td><td>&quot;sct_1220561009…</td><td>&quot;hl7_conditionv…</td><td>&quot;sct_373067005&quot;</td><td>&quot;sct_439401001_…</td><td>&quot;sct_373066001&quot;</td><td>&quot;sct_1220561009…</td><td>&quot;ln_LA6706-1&quot;</td><td>&quot;sct_1220561009…</td><td>&quot;sct_373066001&quot;</td><td>&quot;sct_1220561009…</td><td>&quot;&quot;155541.0024&quot;&quot;</td><td>&hellip;</td><td>null</td><td>null</td><td>null</td><td>&quot;HGNC:6932&quot;</td><td>null</td><td>null</td><td>null</td><td>&quot;ln_LA26806-2&quot;</td><td>null</td><td>&quot;HGNC:6932&quot;</td><td>null</td><td>null</td><td>null</td><td>&quot;2004-01-26&quot;</td><td>null</td><td>null</td><td>&quot;HP:0025499&quot;</td><td>null</td><td>null</td><td>null</td><td>&quot;sct_1220561009…</td><td>&quot;sct_1220561009…</td><td>&quot;sct_1220561009…</td><td>&quot;sct_1220561009…</td><td>&quot;sct_1220561009…</td><td>&quot;sct_1220561009…</td><td>&quot;sct_1220561009…</td><td>&quot;sct_1220561009…</td><td>&quot;sct_1220561009…</td><td>&quot;sct_1220561009…</td><td>&quot;sct_1220561009…</td><td>&quot;sct_1220561009…</td><td>&quot;sct_1220561009…</td><td>&quot;sct_1220561009…</td><td>&quot;sct_1220561009…</td><td>&quot;sct_1220561009…</td><td>&quot;sct_1220561009…</td></tr><tr><td>&quot;2&quot;</td><td>&quot;LD045&quot;</td><td>&quot;2023-09-05&quot;</td><td>1997</td><td>&quot;sct_248152002&quot;</td><td>&quot;sct_14045001&quot;</td><td>&quot;CS_MII_Person_…</td><td>&quot;sct_41847000&quot;</td><td>&quot;sct_1220561009…</td><td>&quot;2001-7-16&quot;</td><td>&quot;sct_1220561009…</td><td>&quot;sct_261665006&quot;</td><td>&quot;sct_410672004&quot;</td><td>2018.0</td><td>7.0</td><td>7.0</td><td>&quot;sct_1220561009…</td><td>&quot;sct_1220561009…</td><td>&quot;sct_1220561009…</td><td>&quot;sct_1220561009…</td><td>&quot;ORPHA:71529&quot;</td><td>&quot;E66.8&quot;</td><td>&quot;sct_1220561009…</td><td>&quot;2007-12-12&quot;</td><td>&quot;sct_1220561009…</td><td>&quot;sct_1220561009…</td><td>&quot;sct_1220561009…</td><td>&quot;hl7_conditionv…</td><td>&quot;sct_373067005&quot;</td><td>&quot;sct_439401001_…</td><td>&quot;sct_373066001&quot;</td><td>&quot;sct_1220561009…</td><td>&quot;sct_1220561009…</td><td>&quot;sct_1220561009…</td><td>&quot;sct_373066001&quot;</td><td>&quot;sct_1220561009…</td><td>&quot;&quot;155541.0024&quot;&quot;</td><td>&hellip;</td><td>null</td><td>null</td><td>null</td><td>&quot;HGNC:6932&quot;</td><td>null</td><td>null</td><td>null</td><td>&quot;ln_LA26806-2&quot;</td><td>null</td><td>&quot;HGNC:6932&quot;</td><td>null</td><td>null</td><td>null</td><td>null</td><td>null</td><td>null</td><td>null</td><td>null</td><td>null</td><td>null</td><td>&quot;sct_1220561009…</td><td>&quot;sct_1220561009…</td><td>&quot;sct_1220561009…</td><td>&quot;sct_1220561009…</td><td>&quot;sct_1220561009…</td><td>&quot;sct_1220561009…</td><td>&quot;sct_1220561009…</td><td>&quot;sct_1220561009…</td><td>&quot;sct_1220561009…</td><td>&quot;sct_1220561009…</td><td>&quot;sct_1220561009…</td><td>&quot;sct_1220561009…</td><td>&quot;sct_1220561009…</td><td>&quot;sct_1220561009…</td><td>&quot;sct_1220561009…</td><td>&quot;sct_1220561009…</td><td>&quot;sct_1220561009…</td></tr><tr><td>&quot;3&quot;</td><td>&quot;AM034&quot;</td><td>&quot;2023-09-05&quot;</td><td>1994</td><td>&quot;sct_248152002&quot;</td><td>&quot;sct_14045001&quot;</td><td>&quot;CS_MII_Person_…</td><td>&quot;sct_263659003&quot;</td><td>&quot;sct_1220561009…</td><td>&quot;2008-6-14&quot;</td><td>&quot;sct_1220561009…</td><td>&quot;sct_261665006&quot;</td><td>&quot;sct_410672004&quot;</td><td>2009.0</td><td>7.0</td><td>10.0</td><td>&quot;sct_1220561009…</td><td>&quot;sct_1220561009…</td><td>&quot;sct_1220561009…</td><td>&quot;sct_373066001&quot;</td><td>&quot;ORPHA:71529&quot;</td><td>&quot;E66.8&quot;</td><td>&quot;sct_1220561009…</td><td>&quot;2008-06-27&quot;</td><td>&quot;sct_1220561009…</td><td>&quot;sct_1220561009…</td><td>&quot;sct_1220561009…</td><td>&quot;hl7_conditionv…</td><td>&quot;sct_373067005&quot;</td><td>&quot;sct_439401001_…</td><td>&quot;sct_373066001&quot;</td><td>&quot;sct_1220561009…</td><td>&quot;ln_LA6706-1&quot;</td><td>&quot;sct_1220561009…</td><td>&quot;sct_373066001&quot;</td><td>&quot;sct_1220561009…</td><td>&quot;&quot;155541.0024&quot;&quot;</td><td>&hellip;</td><td>null</td><td>null</td><td>null</td><td>&quot;HGNC:6932&quot;</td><td>null</td><td>null</td><td>null</td><td>&quot;ln_LA26806-2&quot;</td><td>null</td><td>&quot;HGNC:6932&quot;</td><td>null</td><td>null</td><td>null</td><td>null</td><td>&quot;HP:0025499&quot;</td><td>null</td><td>null</td><td>null</td><td>null</td><td>null</td><td>&quot;sct_1220561009…</td><td>&quot;sct_1220561009…</td><td>&quot;sct_1220561009…</td><td>&quot;sct_1220561009…</td><td>&quot;sct_1220561009…</td><td>&quot;sct_1220561009…</td><td>&quot;sct_1220561009…</td><td>&quot;sct_1220561009…</td><td>&quot;sct_1220561009…</td><td>&quot;sct_1220561009…</td><td>&quot;sct_1220561009…</td><td>&quot;sct_1220561009…</td><td>&quot;sct_1220561009…</td><td>&quot;sct_1220561009…</td><td>&quot;sct_1220561009…</td><td>&quot;sct_1220561009…</td><td>&quot;sct_1220561009…</td></tr><tr><td>&quot;4&quot;</td><td>&quot;NS054&quot;</td><td>&quot;2023-09-05&quot;</td><td>1995</td><td>&quot;sct_248153007&quot;</td><td>&quot;sct_14045001&quot;</td><td>&quot;CS_MII_Person_…</td><td>&quot;sct_263659003&quot;</td><td>&quot;sct_1220561009…</td><td>&quot;2008-17-4&quot;</td><td>&quot;sct_1220561009…</td><td>&quot;sct_261665006&quot;</td><td>&quot;sct_410672004&quot;</td><td>2019.0</td><td>2.0</td><td>18.0</td><td>&quot;sct_1220561009…</td><td>&quot;sct_1220561009…</td><td>&quot;sct_1220561009…</td><td>&quot;sct_1220561009…</td><td>&quot;ORPHA:71529&quot;</td><td>&quot;E66.8&quot;</td><td>&quot;sct_1220561009…</td><td>&quot;2013-04-10&quot;</td><td>&quot;sct_1220561009…</td><td>&quot;sct_1220561009…</td><td>&quot;sct_1220561009…</td><td>&quot;hl7_conditionv…</td><td>&quot;sct_373067005&quot;</td><td>&quot;sct_439401001_…</td><td>&quot;sct_373066001&quot;</td><td>&quot;sct_1220561009…</td><td>&quot;ln_LA6706-1&quot;</td><td>&quot;sct_1220561009…</td><td>&quot;sct_373066001&quot;</td><td>&quot;sct_1220561009…</td><td>&quot;&quot;nan&quot;&quot;</td><td>&hellip;</td><td>null</td><td>&quot;NM_005912.3:c.…</td><td>null</td><td>&quot;HGNC:6932&quot;</td><td>null</td><td>null</td><td>null</td><td>&quot;ln_LA26806-2&quot;</td><td>null</td><td>&quot;HGNC:6932&quot;</td><td>null</td><td>null</td><td>&quot;HP:0025499&quot;</td><td>null</td><td>null</td><td>null</td><td>null</td><td>&quot;2004-09-04&quot;</td><td>null</td><td>&quot;2002-01-12&quot;</td><td>&quot;sct_1220561009…</td><td>&quot;sct_1220561009…</td><td>&quot;sct_1220561009…</td><td>&quot;sct_1220561009…</td><td>&quot;sct_1220561009…</td><td>&quot;sct_1220561009…</td><td>&quot;sct_1220561009…</td><td>&quot;sct_1220561009…</td><td>&quot;sct_1220561009…</td><td>&quot;sct_1220561009…</td><td>&quot;sct_1220561009…</td><td>&quot;sct_1220561009…</td><td>&quot;sct_1220561009…</td><td>&quot;sct_1220561009…</td><td>&quot;sct_1220561009…</td><td>&quot;sct_1220561009…</td><td>&quot;sct_1220561009…</td></tr></tbody></table></div>"
      ],
      "text/plain": [
       "shape: (5, 85)\n",
       "┌─────────┬────────────┬───────────┬───────────┬───┬───────────┬───────────┬───────────┬───────────┐\n",
       "│ mc4r_id ┆ sct_422549 ┆ sct_39942 ┆ sct_18409 ┆ … ┆ sct_30937 ┆ sct_12303 ┆ sct_84056 ┆ sct_21134 │\n",
       "│ ---     ┆ 004        ┆ 3000      ┆ 9003_y    ┆   ┆ 0004_case ┆ 8009      ┆ 6006      ┆ 002_class │\n",
       "│ str     ┆ ---        ┆ ---       ┆ ---       ┆   ┆ ---       ┆ ---       ┆ ---       ┆ ---       │\n",
       "│         ┆ str        ┆ str       ┆ i64       ┆   ┆ str       ┆ str       ┆ str       ┆ str       │\n",
       "╞═════════╪════════════╪═══════════╪═══════════╪═══╪═══════════╪═══════════╪═══════════╪═══════════╡\n",
       "│ 0       ┆ YD053      ┆ 2023-09-0 ┆ 1995      ┆ … ┆ sct_12205 ┆ sct_12205 ┆ sct_12205 ┆ sct_12205 │\n",
       "│         ┆            ┆ 5         ┆           ┆   ┆ 61009     ┆ 61009     ┆ 61009     ┆ 61009     │\n",
       "│ 1       ┆ ER019      ┆ 2023-09-0 ┆ 1992      ┆ … ┆ sct_12205 ┆ sct_12205 ┆ sct_12205 ┆ sct_12205 │\n",
       "│         ┆            ┆ 5         ┆           ┆   ┆ 61009     ┆ 61009     ┆ 61009     ┆ 61009     │\n",
       "│ 2       ┆ LD045      ┆ 2023-09-0 ┆ 1997      ┆ … ┆ sct_12205 ┆ sct_12205 ┆ sct_12205 ┆ sct_12205 │\n",
       "│         ┆            ┆ 5         ┆           ┆   ┆ 61009     ┆ 61009     ┆ 61009     ┆ 61009     │\n",
       "│ 3       ┆ AM034      ┆ 2023-09-0 ┆ 1994      ┆ … ┆ sct_12205 ┆ sct_12205 ┆ sct_12205 ┆ sct_12205 │\n",
       "│         ┆            ┆ 5         ┆           ┆   ┆ 61009     ┆ 61009     ┆ 61009     ┆ 61009     │\n",
       "│ 4       ┆ NS054      ┆ 2023-09-0 ┆ 1995      ┆ … ┆ sct_12205 ┆ sct_12205 ┆ sct_12205 ┆ sct_12205 │\n",
       "│         ┆            ┆ 5         ┆           ┆   ┆ 61009     ┆ 61009     ┆ 61009     ┆ 61009     │\n",
       "└─────────┴────────────┴───────────┴───────────┴───┴───────────┴───────────┴───────────┴───────────┘"
      ]
     },
     "execution_count": 13,
     "metadata": {},
     "output_type": "execute_result"
    }
   ],
   "source": [
    "df = PolarsUtils.add_id_col(df, id_col_name='mc4r_id', id_datatype = str)  # fuege neue ID hinzu\n",
    "df.head(5)"
   ]
  },
  {
   "cell_type": "markdown",
   "metadata": {
    "collapsed": false
   },
   "source": [
    "### Parsing step"
   ]
  },
  {
   "cell_type": "code",
   "execution_count": 14,
   "metadata": {
    "collapsed": false
   },
   "outputs": [],
   "source": [
    "from src.MC4R.MappingDicts import phenotype_label_map_erker2phenopackets\n",
    "from src.MC4R.MappingDicts import allele_label_map_erker2phenopackets\n",
    "from src.MC4R import zygosity_map_erker2phenopackets, sex_map_erker2phenopackets\n",
    "from src.MC4R.ParseMC4R import parse_date_of_diagnosis, parse_year_of_birth, \\\n",
    "parse_phenotyping_date, parse_omim\n",
    "\n",
    "config = configparser.ConfigParser()\n",
    "config.read('../../data/config/config.cfg')\n",
    "no_mutation = config.get('NoValue', 'mutation')\n",
    "no_phenotype = config.get('NoValue', 'phenotype')\n",
    "no_date = config.get('NoValue', 'date')\n",
    "no_omim = config.get('NoValue', 'omim')\n",
    "\n",
    "# sct_184099003_y (year of birth)\n",
    "df = PolarsUtils.map_col(df, map_from='sct_184099003_y', map_to='parsed_year_of_birth',\\\n",
    "    mapping=parse_year_of_birth)\n",
    "\n",
    "# sct_281053000 (sex)\n",
    "df = PolarsUtils.map_col(df, map_from='sct_281053000', map_to='parsed_sex',\\\n",
    "    mapping=sex_map_erker2phenopackets)\n",
    "\n",
    "# sct_432213005 (date of diagnosis)\n",
    "df = PolarsUtils.map_col(df, map_from='sct_432213005',\\\n",
    "    map_to='parsed_date_of_diagnosis' ,mapping=parse_date_of_diagnosis)\n",
    "df = PolarsUtils.fill_null_vals(df, 'parsed_date_of_diagnosis', no_date)\n",
    "\n",
    "# # ln_48007_9 (zygosity)\n",
    "df = PolarsUtils.map_col(df, map_from='ln_48007_9', map_to='parsed_zygosity',\\\n",
    "    mapping=zygosity_map_erker2phenopackets)\n",
    "df = PolarsUtils.map_col(df, map_from='ln_48007_9', map_to='allele_label', \\\n",
    "                         mapping=allele_label_map_erker2phenopackets)\n",
    "\n",
    "\n",
    "# sct_439401001_orpha (diagnosis (ORPHA))\n",
    "# does not require mapping\n",
    "\n",
    "# sct_439401001_omim_g_1, sct_439401001_omim_g_2, sct_439401001_omim_g_3 \\\n",
    "# (Primärdiagnose OMIM)\n",
    "df = PolarsUtils.map_col(df, map_from='sct_439401001_omim_g_1',\\\n",
    "    map_to='parsed_omim_1' ,mapping=parse_omim)\n",
    "df = PolarsUtils.fill_null_vals(df, 'parsed_omim_1', no_omim)\n",
    "    \n",
    "df = PolarsUtils.map_col(df, map_from='sct_439401001_omim_g_2',\\\n",
    "    map_to='parsed_omim_2' ,mapping=parse_omim)\n",
    "df = PolarsUtils.fill_null_vals(df, 'parsed_omim_2', no_omim)\n",
    "\n",
    "\n",
    "# ln_48005_3_1, ln_48005_3_2, ln_48005_3_3 (mutation p.HGVS)\n",
    "df = PolarsUtils.fill_null_vals(df, 'ln_48005_3_1', no_mutation)\n",
    "df = PolarsUtils.fill_null_vals(df, 'ln_48005_3_2', no_mutation)\n",
    "if 'ln_48005_3_3' in df.columns:\n",
    "    df = PolarsUtils.fill_null_vals(df, 'ln_48005_3_3', no_mutation)\n",
    "\n",
    "# ln_48004_6_1, ln_48004_6_2, ln_48004_6_3 (mutation c.HGVS)\n",
    "df = PolarsUtils.fill_null_vals(df, 'ln_48004_6_1', no_mutation)\n",
    "df = PolarsUtils.fill_null_vals(df, 'ln_48004_6_2', no_mutation)\n",
    "if 'ln_48004_6_3' in df.columns:\n",
    "    df = PolarsUtils.fill_null_vals(df, 'ln_48004_6_3', no_mutation)\n",
    "\n",
    "# ln_48018_6_1 (gene HGNC)\n",
    "# does not require mapping\n",
    "\n",
    "# sct_8116006_1, sct_8116006_2, sct_8116006_3, sct_8116006_4, sct_8116006_5 (phenotype\\\n",
    "  #classification\n",
    "df = PolarsUtils.fill_null_vals(df, 'sct_8116006_1', no_phenotype)\n",
    "df = PolarsUtils.fill_null_vals(df, 'sct_8116006_2', no_phenotype)\n",
    "df = PolarsUtils.fill_null_vals(df, 'sct_8116006_3', no_phenotype)\n",
    "df = PolarsUtils.fill_null_vals(df, 'sct_8116006_4', no_phenotype)\n",
    "if 'sct_8116006_5' in df.columns:\n",
    "    df = PolarsUtils.fill_null_vals(df, 'sct_8116006_5', no_phenotype)\n",
    "\n",
    "# sct_8116006_1_date, sct_8116006_2_date, sct_8116006_3_date, sct_8116006_4_date, \\\n",
    "    # sct_8116006_5_date (dates of phenotype determination)\n",
    "df = PolarsUtils.map_col(df, map_from='sct_8116006_1_date', map_to='parsed_date_of_phenotyping1', mapping=parse_phenotyping_date)\n",
    "df = PolarsUtils.fill_null_vals(df, 'parsed_date_of_phenotyping1',no_date)\n",
    "\n",
    "df = PolarsUtils.map_col(df, map_from='sct_8116006_2_date', map_to='parsed_date_of_phenotyping2', mapping=parse_phenotyping_date)\n",
    "df = PolarsUtils.fill_null_vals(df, 'parsed_date_of_phenotyping2',no_date)\n",
    "\n",
    "if 'sct_8116006_3_date' in df.columns:\n",
    "    df = PolarsUtils.map_col(df, map_from='sct_8116006_3_date', map_to='parsed_date_of_phenotyping3', mapping=parse_phenotyping_date)\n",
    "    df = PolarsUtils.fill_null_vals(df, 'parsed_date_of_phenotyping3',no_date)\n",
    "    \n",
    "if 'sct_8116006_4_date' in df.columns:\n",
    "    df = PolarsUtils.map_col(df, map_from='sct_8116006_4_date', map_to='parsed_date_of_phenotyping4', mapping=parse_phenotyping_date)\n",
    "    df = PolarsUtils.fill_null_vals(df, 'parsed_date_of_phenotyping4',no_date)\n",
    "    \n",
    "if 'sct_8116006_5_date' in df.columns:\n",
    "    df = PolarsUtils.map_col(df, map_from='sct_8116006_5_date', map_to='parsed_date_of_phenotyping5', mapping=parse_phenotyping_date)  \n",
    "    df = PolarsUtils.fill_null_vals(df, 'parsed_date_of_phenotyping5',no_date)  \n",
    "\n",
    "\n",
    "# phenotype label\n",
    "df = PolarsUtils.map_col(df, map_from='sct_8116006_1', map_to='parsed_phenotype_label1', mapping=phenotype_label_map_erker2phenopackets)\n",
    "df = PolarsUtils.map_col(df, map_from='sct_8116006_2', map_to='parsed_phenotype_label2', mapping=phenotype_label_map_erker2phenopackets)\n",
    "df = PolarsUtils.map_col(df, map_from='sct_8116006_3', map_to='parsed_phenotype_label3', mapping=phenotype_label_map_erker2phenopackets)\n",
    "df = PolarsUtils.map_col(df, map_from='sct_8116006_4', map_to='parsed_phenotype_label4', mapping=phenotype_label_map_erker2phenopackets)\n",
    "if 'sct_8116006_5' in df.columns:\n",
    "    df = PolarsUtils.map_col(df, map_from='sct_8116006_5', map_to='parsed_phenotype_label5', mapping=phenotype_label_map_erker2phenopackets)"
   ]
  },
  {
   "cell_type": "code",
   "execution_count": 15,
   "metadata": {},
   "outputs": [
    {
     "data": {
      "text/html": [
       "<div><style>\n",
       ".dataframe > thead > tr > th,\n",
       ".dataframe > tbody > tr > td {\n",
       "  text-align: right;\n",
       "}\n",
       "</style>\n",
       "<small>shape: (5, 100)</small><table border=\"1\" class=\"dataframe\"><thead><tr><th>mc4r_id</th><th>sct_422549004</th><th>sct_399423000</th><th>sct_184099003_y</th><th>sct_281053000</th><th>sct_364699009</th><th>sct_278844005</th><th>sct_767023003</th><th>sct_184305005_rd</th><th>sct_769681006_center</th><th>sct_440377005</th><th>sct_424850005</th><th>sct_423493009</th><th>sct_432213005_y</th><th>sct_432213005_m</th><th>sct_432213005_d</th><th>sct_717800004</th><th>sct_64245008</th><th>sct_125679009_proposit</th><th>sct_842009</th><th>sct_439401001_orpha</th><th>sct_439401001_icd10gm</th><th>sct_439401001_alphaid</th><th>sct_432213005</th><th>sct_263493007</th><th>sct_116694002</th><th>sct_246454002</th><th>sct_439401001_ver</th><th>sct_103330002</th><th>sct_439401001_val</th><th>sct_39154008_hpo</th><th>sct_406522009</th><th>ln_48007_9</th><th>ln_48007_9_mitoch</th><th>sct_439401001_gen_val</th><th>ln_ll4048_6</th><th>sct_439401001_omim_g_1</th><th>&hellip;</th><th>sct_8116006_2_date</th><th>sct_8116006_3</th><th>sct_8116006_3_date</th><th>sct_8116006_4</th><th>sct_8116006_4_date</th><th>sct_72705000_rd</th><th>sct_160430005</th><th>sct_66839005_rd</th><th>sct_160436004</th><th>sct_82101005_rd</th><th>sct_75226009_rd</th><th>sct_309370004_research</th><th>sct_309370004_narse</th><th>sct_309370004_data</th><th>sct_309370004_eu</th><th>sct_309370004_int</th><th>sct_309370004_aff</th><th>sct_309370004_gen</th><th>sct_309370004_case</th><th>sct_123038009</th><th>sct_840566006</th><th>sct_21134002_class</th><th>parsed_year_of_birth</th><th>parsed_sex</th><th>parsed_date_of_diagnosis</th><th>parsed_zygosity</th><th>allele_label</th><th>parsed_omim_1</th><th>parsed_omim_2</th><th>parsed_date_of_phenotyping1</th><th>parsed_date_of_phenotyping2</th><th>parsed_date_of_phenotyping3</th><th>parsed_date_of_phenotyping4</th><th>parsed_phenotype_label1</th><th>parsed_phenotype_label2</th><th>parsed_phenotype_label3</th><th>parsed_phenotype_label4</th></tr><tr><td>str</td><td>str</td><td>str</td><td>i64</td><td>str</td><td>str</td><td>str</td><td>str</td><td>str</td><td>str</td><td>str</td><td>str</td><td>str</td><td>f64</td><td>f64</td><td>f64</td><td>str</td><td>str</td><td>str</td><td>str</td><td>str</td><td>str</td><td>str</td><td>str</td><td>str</td><td>str</td><td>str</td><td>str</td><td>str</td><td>str</td><td>str</td><td>str</td><td>str</td><td>str</td><td>str</td><td>str</td><td>str</td><td>&hellip;</td><td>str</td><td>str</td><td>str</td><td>str</td><td>str</td><td>str</td><td>str</td><td>str</td><td>str</td><td>str</td><td>str</td><td>str</td><td>str</td><td>str</td><td>str</td><td>str</td><td>str</td><td>str</td><td>str</td><td>str</td><td>str</td><td>str</td><td>str</td><td>str</td><td>str</td><td>str</td><td>str</td><td>str</td><td>str</td><td>str</td><td>str</td><td>str</td><td>str</td><td>str</td><td>str</td><td>str</td><td>str</td></tr></thead><tbody><tr><td>&quot;0&quot;</td><td>&quot;YD053&quot;</td><td>&quot;2023-09-05&quot;</td><td>1995</td><td>&quot;sct_248153007&quot;</td><td>&quot;sct_414408004&quot;</td><td>&quot;CS_MII_Person_…</td><td>&quot;sct_41847000&quot;</td><td>&quot;sct_1220561009…</td><td>&quot;2007-17-20&quot;</td><td>&quot;sct_1220561009…</td><td>&quot;sct_261665006&quot;</td><td>&quot;sct_410672004&quot;</td><td>2008.0</td><td>11.0</td><td>19.0</td><td>&quot;sct_1220561009…</td><td>&quot;sct_1220561009…</td><td>&quot;sct_1220561009…</td><td>&quot;sct_1220561009…</td><td>&quot;ORPHA:71529&quot;</td><td>&quot;E66.8&quot;</td><td>&quot;sct_1220561009…</td><td>&quot;2014-05-07&quot;</td><td>&quot;sct_1220561009…</td><td>&quot;sct_1220561009…</td><td>&quot;sct_1220561009…</td><td>&quot;hl7_conditionv…</td><td>&quot;sct_373067005&quot;</td><td>&quot;sct_439401001_…</td><td>&quot;sct_373066001&quot;</td><td>&quot;sct_1220561009…</td><td>&quot;ln_LA6706-1&quot;</td><td>&quot;sct_1220561009…</td><td>&quot;sct_373066001&quot;</td><td>&quot;sct_1220561009…</td><td>&quot;&quot;nan&quot;&quot;</td><td>&hellip;</td><td>null</td><td>&quot;NO_PHENOTYPE&quot;</td><td>&quot;2001-03-17&quot;</td><td>&quot;NO_PHENOTYPE&quot;</td><td>null</td><td>&quot;sct_1220561009…</td><td>&quot;sct_1220561009…</td><td>&quot;sct_1220561009…</td><td>&quot;sct_1220561009…</td><td>&quot;sct_1220561009…</td><td>&quot;sct_1220561009…</td><td>&quot;sct_1220561009…</td><td>&quot;sct_1220561009…</td><td>&quot;sct_1220561009…</td><td>&quot;sct_1220561009…</td><td>&quot;sct_1220561009…</td><td>&quot;sct_1220561009…</td><td>&quot;sct_1220561009…</td><td>&quot;sct_1220561009…</td><td>&quot;sct_1220561009…</td><td>&quot;sct_1220561009…</td><td>&quot;sct_1220561009…</td><td>&quot;1995-01-01T00:…</td><td>&quot;MALE&quot;</td><td>&quot;2014-05-07T00:…</td><td>&quot;GENO:0000135&quot;</td><td>&quot;heterozygous&quot;</td><td>&quot;NO_OMIM&quot;</td><td>&quot;NO_OMIM&quot;</td><td>&quot;2008-01-13T00:…</td><td>&quot;NO_DATE&quot;</td><td>&quot;2001-03-17T00:…</td><td>&quot;NO_DATE&quot;</td><td>null</td><td>&quot;Class I obesit…</td><td>null</td><td>null</td></tr><tr><td>&quot;1&quot;</td><td>&quot;ER019&quot;</td><td>&quot;2023-09-05&quot;</td><td>1992</td><td>&quot;sct_248153007&quot;</td><td>&quot;sct_14045001&quot;</td><td>&quot;CS_MII_Person_…</td><td>&quot;sct_41847000&quot;</td><td>&quot;sct_1220561009…</td><td>&quot;2015-14-18&quot;</td><td>&quot;sct_1220561009…</td><td>&quot;sct_261665006&quot;</td><td>&quot;sct_410672004&quot;</td><td>2014.0</td><td>5.0</td><td>5.0</td><td>&quot;sct_1220561009…</td><td>&quot;sct_1220561009…</td><td>&quot;sct_1220561009…</td><td>&quot;sct_373067005&quot;</td><td>&quot;ORPHA:71529&quot;</td><td>&quot;E66.8&quot;</td><td>&quot;sct_1220561009…</td><td>&quot;2015-02-24&quot;</td><td>&quot;sct_1220561009…</td><td>&quot;sct_1220561009…</td><td>&quot;sct_1220561009…</td><td>&quot;hl7_conditionv…</td><td>&quot;sct_373067005&quot;</td><td>&quot;sct_439401001_…</td><td>&quot;sct_373066001&quot;</td><td>&quot;sct_1220561009…</td><td>&quot;ln_LA6706-1&quot;</td><td>&quot;sct_1220561009…</td><td>&quot;sct_373066001&quot;</td><td>&quot;sct_1220561009…</td><td>&quot;&quot;155541.0024&quot;&quot;</td><td>&hellip;</td><td>null</td><td>&quot;HP:0025499&quot;</td><td>null</td><td>&quot;NO_PHENOTYPE&quot;</td><td>null</td><td>&quot;sct_1220561009…</td><td>&quot;sct_1220561009…</td><td>&quot;sct_1220561009…</td><td>&quot;sct_1220561009…</td><td>&quot;sct_1220561009…</td><td>&quot;sct_1220561009…</td><td>&quot;sct_1220561009…</td><td>&quot;sct_1220561009…</td><td>&quot;sct_1220561009…</td><td>&quot;sct_1220561009…</td><td>&quot;sct_1220561009…</td><td>&quot;sct_1220561009…</td><td>&quot;sct_1220561009…</td><td>&quot;sct_1220561009…</td><td>&quot;sct_1220561009…</td><td>&quot;sct_1220561009…</td><td>&quot;sct_1220561009…</td><td>&quot;1992-01-01T00:…</td><td>&quot;MALE&quot;</td><td>&quot;2015-02-24T00:…</td><td>&quot;GENO:0000135&quot;</td><td>&quot;heterozygous&quot;</td><td>&quot;OMIM:155541.00…</td><td>&quot;NO_OMIM&quot;</td><td>&quot;2004-01-26T00:…</td><td>&quot;NO_DATE&quot;</td><td>&quot;NO_DATE&quot;</td><td>&quot;NO_DATE&quot;</td><td>null</td><td>null</td><td>&quot;Class I obesit…</td><td>null</td></tr><tr><td>&quot;2&quot;</td><td>&quot;LD045&quot;</td><td>&quot;2023-09-05&quot;</td><td>1997</td><td>&quot;sct_248152002&quot;</td><td>&quot;sct_14045001&quot;</td><td>&quot;CS_MII_Person_…</td><td>&quot;sct_41847000&quot;</td><td>&quot;sct_1220561009…</td><td>&quot;2001-7-16&quot;</td><td>&quot;sct_1220561009…</td><td>&quot;sct_261665006&quot;</td><td>&quot;sct_410672004&quot;</td><td>2018.0</td><td>7.0</td><td>7.0</td><td>&quot;sct_1220561009…</td><td>&quot;sct_1220561009…</td><td>&quot;sct_1220561009…</td><td>&quot;sct_1220561009…</td><td>&quot;ORPHA:71529&quot;</td><td>&quot;E66.8&quot;</td><td>&quot;sct_1220561009…</td><td>&quot;2007-12-12&quot;</td><td>&quot;sct_1220561009…</td><td>&quot;sct_1220561009…</td><td>&quot;sct_1220561009…</td><td>&quot;hl7_conditionv…</td><td>&quot;sct_373067005&quot;</td><td>&quot;sct_439401001_…</td><td>&quot;sct_373066001&quot;</td><td>&quot;sct_1220561009…</td><td>&quot;sct_1220561009…</td><td>&quot;sct_1220561009…</td><td>&quot;sct_373066001&quot;</td><td>&quot;sct_1220561009…</td><td>&quot;&quot;155541.0024&quot;&quot;</td><td>&hellip;</td><td>null</td><td>&quot;NO_PHENOTYPE&quot;</td><td>null</td><td>&quot;NO_PHENOTYPE&quot;</td><td>null</td><td>&quot;sct_1220561009…</td><td>&quot;sct_1220561009…</td><td>&quot;sct_1220561009…</td><td>&quot;sct_1220561009…</td><td>&quot;sct_1220561009…</td><td>&quot;sct_1220561009…</td><td>&quot;sct_1220561009…</td><td>&quot;sct_1220561009…</td><td>&quot;sct_1220561009…</td><td>&quot;sct_1220561009…</td><td>&quot;sct_1220561009…</td><td>&quot;sct_1220561009…</td><td>&quot;sct_1220561009…</td><td>&quot;sct_1220561009…</td><td>&quot;sct_1220561009…</td><td>&quot;sct_1220561009…</td><td>&quot;sct_1220561009…</td><td>&quot;1997-01-01T00:…</td><td>&quot;FEMALE&quot;</td><td>&quot;2007-12-12T00:…</td><td>&quot;GENO:0000137&quot;</td><td>&quot;unspecified zy…</td><td>&quot;OMIM:155541.00…</td><td>&quot;NO_OMIM&quot;</td><td>&quot;NO_DATE&quot;</td><td>&quot;NO_DATE&quot;</td><td>&quot;NO_DATE&quot;</td><td>&quot;NO_DATE&quot;</td><td>null</td><td>null</td><td>null</td><td>null</td></tr><tr><td>&quot;3&quot;</td><td>&quot;AM034&quot;</td><td>&quot;2023-09-05&quot;</td><td>1994</td><td>&quot;sct_248152002&quot;</td><td>&quot;sct_14045001&quot;</td><td>&quot;CS_MII_Person_…</td><td>&quot;sct_263659003&quot;</td><td>&quot;sct_1220561009…</td><td>&quot;2008-6-14&quot;</td><td>&quot;sct_1220561009…</td><td>&quot;sct_261665006&quot;</td><td>&quot;sct_410672004&quot;</td><td>2009.0</td><td>7.0</td><td>10.0</td><td>&quot;sct_1220561009…</td><td>&quot;sct_1220561009…</td><td>&quot;sct_1220561009…</td><td>&quot;sct_373066001&quot;</td><td>&quot;ORPHA:71529&quot;</td><td>&quot;E66.8&quot;</td><td>&quot;sct_1220561009…</td><td>&quot;2008-06-27&quot;</td><td>&quot;sct_1220561009…</td><td>&quot;sct_1220561009…</td><td>&quot;sct_1220561009…</td><td>&quot;hl7_conditionv…</td><td>&quot;sct_373067005&quot;</td><td>&quot;sct_439401001_…</td><td>&quot;sct_373066001&quot;</td><td>&quot;sct_1220561009…</td><td>&quot;ln_LA6706-1&quot;</td><td>&quot;sct_1220561009…</td><td>&quot;sct_373066001&quot;</td><td>&quot;sct_1220561009…</td><td>&quot;&quot;155541.0024&quot;&quot;</td><td>&hellip;</td><td>null</td><td>&quot;NO_PHENOTYPE&quot;</td><td>null</td><td>&quot;NO_PHENOTYPE&quot;</td><td>null</td><td>&quot;sct_1220561009…</td><td>&quot;sct_1220561009…</td><td>&quot;sct_1220561009…</td><td>&quot;sct_1220561009…</td><td>&quot;sct_1220561009…</td><td>&quot;sct_1220561009…</td><td>&quot;sct_1220561009…</td><td>&quot;sct_1220561009…</td><td>&quot;sct_1220561009…</td><td>&quot;sct_1220561009…</td><td>&quot;sct_1220561009…</td><td>&quot;sct_1220561009…</td><td>&quot;sct_1220561009…</td><td>&quot;sct_1220561009…</td><td>&quot;sct_1220561009…</td><td>&quot;sct_1220561009…</td><td>&quot;sct_1220561009…</td><td>&quot;1994-01-01T00:…</td><td>&quot;FEMALE&quot;</td><td>&quot;2008-06-27T00:…</td><td>&quot;GENO:0000135&quot;</td><td>&quot;heterozygous&quot;</td><td>&quot;OMIM:155541.00…</td><td>&quot;NO_OMIM&quot;</td><td>&quot;NO_DATE&quot;</td><td>&quot;NO_DATE&quot;</td><td>&quot;NO_DATE&quot;</td><td>&quot;NO_DATE&quot;</td><td>null</td><td>&quot;Class I obesit…</td><td>null</td><td>null</td></tr><tr><td>&quot;4&quot;</td><td>&quot;NS054&quot;</td><td>&quot;2023-09-05&quot;</td><td>1995</td><td>&quot;sct_248153007&quot;</td><td>&quot;sct_14045001&quot;</td><td>&quot;CS_MII_Person_…</td><td>&quot;sct_263659003&quot;</td><td>&quot;sct_1220561009…</td><td>&quot;2008-17-4&quot;</td><td>&quot;sct_1220561009…</td><td>&quot;sct_261665006&quot;</td><td>&quot;sct_410672004&quot;</td><td>2019.0</td><td>2.0</td><td>18.0</td><td>&quot;sct_1220561009…</td><td>&quot;sct_1220561009…</td><td>&quot;sct_1220561009…</td><td>&quot;sct_1220561009…</td><td>&quot;ORPHA:71529&quot;</td><td>&quot;E66.8&quot;</td><td>&quot;sct_1220561009…</td><td>&quot;2013-04-10&quot;</td><td>&quot;sct_1220561009…</td><td>&quot;sct_1220561009…</td><td>&quot;sct_1220561009…</td><td>&quot;hl7_conditionv…</td><td>&quot;sct_373067005&quot;</td><td>&quot;sct_439401001_…</td><td>&quot;sct_373066001&quot;</td><td>&quot;sct_1220561009…</td><td>&quot;ln_LA6706-1&quot;</td><td>&quot;sct_1220561009…</td><td>&quot;sct_373066001&quot;</td><td>&quot;sct_1220561009…</td><td>&quot;&quot;nan&quot;&quot;</td><td>&hellip;</td><td>null</td><td>&quot;NO_PHENOTYPE&quot;</td><td>&quot;2004-09-04&quot;</td><td>&quot;NO_PHENOTYPE&quot;</td><td>&quot;2002-01-12&quot;</td><td>&quot;sct_1220561009…</td><td>&quot;sct_1220561009…</td><td>&quot;sct_1220561009…</td><td>&quot;sct_1220561009…</td><td>&quot;sct_1220561009…</td><td>&quot;sct_1220561009…</td><td>&quot;sct_1220561009…</td><td>&quot;sct_1220561009…</td><td>&quot;sct_1220561009…</td><td>&quot;sct_1220561009…</td><td>&quot;sct_1220561009…</td><td>&quot;sct_1220561009…</td><td>&quot;sct_1220561009…</td><td>&quot;sct_1220561009…</td><td>&quot;sct_1220561009…</td><td>&quot;sct_1220561009…</td><td>&quot;sct_1220561009…</td><td>&quot;1995-01-01T00:…</td><td>&quot;MALE&quot;</td><td>&quot;2013-04-10T00:…</td><td>&quot;GENO:0000135&quot;</td><td>&quot;heterozygous&quot;</td><td>&quot;NO_OMIM&quot;</td><td>&quot;NO_OMIM&quot;</td><td>&quot;NO_DATE&quot;</td><td>&quot;NO_DATE&quot;</td><td>&quot;2004-09-04T00:…</td><td>&quot;2002-01-12T00:…</td><td>&quot;Class I obesit…</td><td>null</td><td>null</td><td>null</td></tr></tbody></table></div>"
      ],
      "text/plain": [
       "shape: (5, 100)\n",
       "┌─────────┬────────────┬───────────┬───────────┬───┬───────────┬───────────┬───────────┬───────────┐\n",
       "│ mc4r_id ┆ sct_422549 ┆ sct_39942 ┆ sct_18409 ┆ … ┆ parsed_ph ┆ parsed_ph ┆ parsed_ph ┆ parsed_ph │\n",
       "│ ---     ┆ 004        ┆ 3000      ┆ 9003_y    ┆   ┆ enotype_l ┆ enotype_l ┆ enotype_l ┆ enotype_l │\n",
       "│ str     ┆ ---        ┆ ---       ┆ ---       ┆   ┆ abel1     ┆ abel2     ┆ abel3     ┆ abel4     │\n",
       "│         ┆ str        ┆ str       ┆ i64       ┆   ┆ ---       ┆ ---       ┆ ---       ┆ ---       │\n",
       "│         ┆            ┆           ┆           ┆   ┆ str       ┆ str       ┆ str       ┆ str       │\n",
       "╞═════════╪════════════╪═══════════╪═══════════╪═══╪═══════════╪═══════════╪═══════════╪═══════════╡\n",
       "│ 0       ┆ YD053      ┆ 2023-09-0 ┆ 1995      ┆ … ┆ null      ┆ Class I   ┆ null      ┆ null      │\n",
       "│         ┆            ┆ 5         ┆           ┆   ┆           ┆ obesity   ┆           ┆           │\n",
       "│ 1       ┆ ER019      ┆ 2023-09-0 ┆ 1992      ┆ … ┆ null      ┆ null      ┆ Class I   ┆ null      │\n",
       "│         ┆            ┆ 5         ┆           ┆   ┆           ┆           ┆ obesity   ┆           │\n",
       "│ 2       ┆ LD045      ┆ 2023-09-0 ┆ 1997      ┆ … ┆ null      ┆ null      ┆ null      ┆ null      │\n",
       "│         ┆            ┆ 5         ┆           ┆   ┆           ┆           ┆           ┆           │\n",
       "│ 3       ┆ AM034      ┆ 2023-09-0 ┆ 1994      ┆ … ┆ null      ┆ Class I   ┆ null      ┆ null      │\n",
       "│         ┆            ┆ 5         ┆           ┆   ┆           ┆ obesity   ┆           ┆           │\n",
       "│ 4       ┆ NS054      ┆ 2023-09-0 ┆ 1995      ┆ … ┆ Class I   ┆ null      ┆ null      ┆ null      │\n",
       "│         ┆            ┆ 5         ┆           ┆   ┆ obesity   ┆           ┆           ┆           │\n",
       "└─────────┴────────────┴───────────┴───────────┴───┴───────────┴───────────┴───────────┴───────────┘"
      ]
     },
     "execution_count": 15,
     "metadata": {},
     "output_type": "execute_result"
    }
   ],
   "source": [
    "df.head()"
   ]
  },
  {
   "cell_type": "markdown",
   "metadata": {
    "collapsed": false
   },
   "source": [
    "## Map to phenopackets"
   ]
  },
  {
   "cell_type": "code",
   "execution_count": 16,
   "metadata": {},
   "outputs": [
    {
     "name": "stdout",
     "output_type": "stream",
     "text": [
      "2023-09-11-1043\n"
     ]
    }
   ],
   "source": [
    "print(cur_time)"
   ]
  },
  {
   "cell_type": "code",
   "execution_count": 17,
   "metadata": {
    "collapsed": false
   },
   "outputs": [
    {
     "name": "stdout",
     "output_type": "stream",
     "text": [
      "\u001b[32m2023-09-11 10:43:56\u001b[0m | \u001b[1mINFO    \u001b[0m | \u001b[36msrc.MC4R.MapMC4R\u001b[0m:\u001b[36m_map_chunk\u001b[0m:\u001b[36m68\u001b[0m - \u001b[1mCurrently working on thread 8631760384\u001b[0m\n",
      "\u001b[32m2023-09-11 10:43:56\u001b[0m | \u001b[34m\u001b[1mDEBUG   \u001b[0m | \u001b[36msrc.MC4R.MapMC4R\u001b[0m:\u001b[36m_map_chunk\u001b[0m:\u001b[36m74\u001b[0m - \u001b[34m\u001b[1m<class 'str'>\u001b[0m\n"
     ]
    },
    {
     "ename": "TypeError",
     "evalue": "Parameter to MergeFrom() must be instance of same class: expected google.protobuf.Timestamp got str.",
     "output_type": "error",
     "traceback": [
      "\u001b[0;31m---------------------------------------------------------------------------\u001b[0m",
      "\u001b[0;31mTypeError\u001b[0m                                 Traceback (most recent call last)",
      "\u001b[1;32m/Users/adam/Documents/BIH/ERKER2Phenopackets/ERKER2Phenopackets/src/MC4R/pipeline.ipynb Cell 30\u001b[0m line \u001b[0;36m<cell line: 4>\u001b[0;34m()\u001b[0m\n\u001b[1;32m      <a href='vscode-notebook-cell:/Users/adam/Documents/BIH/ERKER2Phenopackets/ERKER2Phenopackets/src/MC4R/pipeline.ipynb#Y120sZmlsZQ%3D%3D?line=0'>1</a>\u001b[0m \u001b[39mfrom\u001b[39;00m \u001b[39msrc\u001b[39;00m\u001b[39m.\u001b[39;00m\u001b[39mMC4R\u001b[39;00m\u001b[39m.\u001b[39;00m\u001b[39mMapMC4R\u001b[39;00m \u001b[39mimport\u001b[39;00m _map_chunk\n\u001b[0;32m----> <a href='vscode-notebook-cell:/Users/adam/Documents/BIH/ERKER2Phenopackets/ERKER2Phenopackets/src/MC4R/pipeline.ipynb#Y120sZmlsZQ%3D%3D?line=3'>4</a>\u001b[0m phenopackets \u001b[39m=\u001b[39m _map_chunk(df, cur_time[:\u001b[39m10\u001b[39;49m])\n",
      "File \u001b[0;32m~/Documents/BIH/ERKER2Phenopackets/ERKER2Phenopackets/src/MC4R/../../src/MC4R/MapMC4R.py:75\u001b[0m, in \u001b[0;36m_map_chunk\u001b[0;34m(chunk, cur_time)\u001b[0m\n\u001b[1;32m     73\u001b[0m created \u001b[39m=\u001b[39m parse_date_string_to_iso8601_utc_timestamp(cur_time)\n\u001b[1;32m     74\u001b[0m logger\u001b[39m.\u001b[39mdebug(\u001b[39mtype\u001b[39m(created))\n\u001b[0;32m---> 75\u001b[0m meta_data \u001b[39m=\u001b[39m _create_metadata(\n\u001b[1;32m     76\u001b[0m     created_by\u001b[39m=\u001b[39;49mconfig\u001b[39m.\u001b[39;49mget(\u001b[39m'\u001b[39;49m\u001b[39mConstants\u001b[39;49m\u001b[39m'\u001b[39;49m, \u001b[39m'\u001b[39;49m\u001b[39mcreator_tag\u001b[39;49m\u001b[39m'\u001b[39;49m),\n\u001b[1;32m     77\u001b[0m     created\u001b[39m=\u001b[39;49mcreated,\n\u001b[1;32m     78\u001b[0m     resources\u001b[39m=\u001b[39;49m[\u001b[39m'\u001b[39;49m\u001b[39mHPO\u001b[39;49m\u001b[39m'\u001b[39;49m, \u001b[39m'\u001b[39;49m\u001b[39mOMIM\u001b[39;49m\u001b[39m'\u001b[39;49m, \u001b[39m'\u001b[39;49m\u001b[39mORPHA\u001b[39;49m\u001b[39m'\u001b[39;49m, \u001b[39m'\u001b[39;49m\u001b[39mNCBITaxon\u001b[39;49m\u001b[39m'\u001b[39;49m, \u001b[39m'\u001b[39;49m\u001b[39mLOINC\u001b[39;49m\u001b[39m'\u001b[39;49m, \u001b[39m'\u001b[39;49m\u001b[39mHGNC\u001b[39;49m\u001b[39m'\u001b[39;49m, \u001b[39m'\u001b[39;49m\u001b[39mGENO\u001b[39;49m\u001b[39m'\u001b[39;49m],\n\u001b[1;32m     79\u001b[0m )\n\u001b[1;32m     81\u001b[0m phenopackets_list \u001b[39m=\u001b[39m []\n\u001b[1;32m     82\u001b[0m \u001b[39mfor\u001b[39;00m row \u001b[39min\u001b[39;00m chunk\u001b[39m.\u001b[39mrows(named\u001b[39m=\u001b[39m\u001b[39mTrue\u001b[39;00m):\n",
      "File \u001b[0;32m~/Documents/BIH/ERKER2Phenopackets/ERKER2Phenopackets/src/MC4R/../../src/MC4R/MapMC4R.py:186\u001b[0m, in \u001b[0;36m_create_metadata\u001b[0;34m(created_by, created, resources, phenopacket_schema_version)\u001b[0m\n\u001b[1;32m    165\u001b[0m \u001b[39mdef\u001b[39;00m \u001b[39m_create_metadata\u001b[39m(created_by: \u001b[39mstr\u001b[39m,\n\u001b[1;32m    166\u001b[0m                      created: \u001b[39mstr\u001b[39m,\n\u001b[1;32m    167\u001b[0m                      resources: List[\u001b[39mstr\u001b[39m],\n\u001b[1;32m    168\u001b[0m                      phenopacket_schema_version: \u001b[39mstr\u001b[39m\u001b[39m=\u001b[39mphenopackets\u001b[39m.\u001b[39m__version__,\n\u001b[1;32m    169\u001b[0m                      ) \u001b[39m-\u001b[39m\u001b[39m>\u001b[39m MetaData:\n\u001b[1;32m    170\u001b[0m     \u001b[39m\"\"\"Creates the metadata block of the Phenopacket\u001b[39;00m\n\u001b[1;32m    171\u001b[0m \n\u001b[1;32m    172\u001b[0m \u001b[39m    https://phenopacket-schema.readthedocs.io/en/latest/metadata.html\u001b[39;00m\n\u001b[0;32m   (...)\u001b[0m\n\u001b[1;32m    184\u001b[0m \u001b[39m    :rtype: MetaData\u001b[39;00m\n\u001b[1;32m    185\u001b[0m \u001b[39m    \"\"\"\u001b[39;00m\n\u001b[0;32m--> 186\u001b[0m     meta_data \u001b[39m=\u001b[39m MetaData(\n\u001b[1;32m    187\u001b[0m         created_by\u001b[39m=\u001b[39;49mcreated_by,\n\u001b[1;32m    188\u001b[0m         created\u001b[39m=\u001b[39;49mcreated,\n\u001b[1;32m    189\u001b[0m         phenopacket_schema_version\u001b[39m=\u001b[39;49mphenopacket_schema_version,\n\u001b[1;32m    190\u001b[0m         resources\u001b[39m=\u001b[39;49mresources\n\u001b[1;32m    191\u001b[0m     )\n\u001b[1;32m    192\u001b[0m     \u001b[39mreturn\u001b[39;00m meta_data\n",
      "\u001b[0;31mTypeError\u001b[0m: Parameter to MergeFrom() must be instance of same class: expected google.protobuf.Timestamp got str."
     ]
    }
   ],
   "source": [
    "from src.MC4R.MapMC4R import _map_chunk\n",
    "\n",
    "\n",
    "phenopackets = _map_chunk(df, cur_time[:10]) #map_mc4r2phenopackets(df, cur_time)"
   ]
  },
  {
   "cell_type": "markdown",
   "metadata": {},
   "source": [
    "## Write to json"
   ]
  },
  {
   "cell_type": "code",
   "execution_count": null,
   "metadata": {
    "ExecuteTime": {
     "end_time": "2023-08-30T16:59:04.142928Z",
     "start_time": "2023-08-30T16:59:04.048972Z"
    },
    "collapsed": false
   },
   "outputs": [],
   "source": [
    "phenopackets_out_dir = phenopackets_out / cur_time # create dir for output\n",
    "\n",
    "write_files(phenopackets, phenopackets_out_dir)"
   ]
  },
  {
   "cell_type": "code",
   "execution_count": null,
   "metadata": {},
   "outputs": [],
   "source": []
  },
  {
   "cell_type": "code",
   "execution_count": null,
   "metadata": {},
   "outputs": [],
   "source": []
  },
  {
   "cell_type": "code",
   "execution_count": null,
   "metadata": {},
   "outputs": [],
   "source": []
  }
 ],
 "metadata": {
  "kernelspec": {
   "display_name": "Python 3 (ipykernel)",
   "language": "python",
   "name": "python3"
  },
  "language_info": {
   "codemirror_mode": {
    "name": "ipython",
    "version": 3
   },
   "file_extension": ".py",
   "mimetype": "text/x-python",
   "name": "python",
   "nbconvert_exporter": "python",
   "pygments_lexer": "ipython3",
   "version": "3.10.6"
  },
  "orig_nbformat": 4
 },
 "nbformat": 4,
 "nbformat_minor": 2
}
