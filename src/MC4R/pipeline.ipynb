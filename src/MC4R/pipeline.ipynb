{
 "cells": [
  {
   "cell_type": "code",
   "execution_count": 52,
   "metadata": {
    "ExecuteTime": {
     "end_time": "2023-08-31T16:35:28.993929Z",
     "start_time": "2023-08-31T16:35:28.868428Z"
    }
   },
   "outputs": [],
   "source": [
    "import polars as pl # the same as pandas just faster\n",
    "from loguru import logger\n",
    "\n",
    "import configparser\n",
    "from pathlib import Path\n",
    "from datetime import datetime\n",
    "import sys\n",
    "\n",
    "sys.path.append('../..') # for imports to work\n",
    "from src.utils import write_files\n",
    "from src.MC4R import map_mc4r2phenopackets\n",
    "from src.utils import PolarsUtils"
   ]
  },
  {
   "cell_type": "markdown",
   "metadata": {},
   "source": [
    "### Set up logger using loguru"
   ]
  },
  {
   "cell_type": "code",
   "execution_count": 53,
   "metadata": {},
   "outputs": [
    {
     "data": {
      "text/plain": [
       "5"
      ]
     },
     "execution_count": 53,
     "metadata": {},
     "output_type": "execute_result"
    }
   ],
   "source": [
    "logger.remove()  \n",
    "# Remove default logger (stdout)    \n",
    "# TODO: activate: logger.add(log_file, level=log_level, rotation=\"1 week\", retention=\"2 weeks\")  # Log to a file     \n",
    "# You can customize the log format as needed    \n",
    "logger_format = (         \n",
    "    \"<green>{time:YYYY-MM-DD HH:mm:ss}</green> | \"       \n",
    "    \"<level>{level: <8}</level> | \"        \n",
    "    \"<cyan>{name}</cyan>:<cyan>{function}</cyan>:<cyan>{line}</cyan> - \"        \n",
    "    \"<level>{message}</level>\"    \n",
    ")\n",
    "     \n",
    "logger.add(lambda msg: print(msg, end=\"\"), colorize=True, format=logger_format, level=\"DEBUG\") #level=\"SUCCESS\" # Log to stdout\n",
    "# LOGGER LEVELS\n",
    "# 1. trace\n",
    "# 2. debug\n",
    "# 3. info\n",
    "# 4. success\n",
    "# 5. warning\n",
    "# 6. error\n",
    "# 7. critical"
   ]
  },
  {
   "cell_type": "markdown",
   "metadata": {},
   "source": [
    "### Get path to notebook from config file"
   ]
  },
  {
   "cell_type": "code",
   "execution_count": 54,
   "metadata": {
    "ExecuteTime": {
     "end_time": "2023-08-31T16:35:29.056631Z",
     "start_time": "2023-08-31T16:35:28.884050Z"
    }
   },
   "outputs": [],
   "source": [
    "config = configparser.ConfigParser()\n",
    "config.read('../../data/config/config.cfg')\n",
    "real_data = True\n",
    "\n",
    "if real_data:\n",
    "    path = Path(config.get('Paths', 'mc4r_path')) \n",
    "else:\n",
    "    path = Path(config.get('Paths', 'synth_data_path'))\n",
    "\n",
    "phenopackets_out = Path(config.get('Paths', 'phenopackets_out'))"
   ]
  },
  {
   "cell_type": "markdown",
   "metadata": {
    "collapsed": false
   },
   "source": [
    "### Set Creator Tag"
   ]
  },
  {
   "cell_type": "code",
   "execution_count": 55,
   "metadata": {
    "ExecuteTime": {
     "end_time": "2023-08-31T16:35:29.056631Z",
     "start_time": "2023-08-31T16:35:28.899673Z"
    },
    "collapsed": false
   },
   "outputs": [
    {
     "name": "stdout",
     "output_type": "stream",
     "text": [
      "Creator tag: P. Robinson, MD, D. Danis, PhD, A. Graefe, F. Rehburg\n"
     ]
    }
   ],
   "source": [
    "created_by = config.get('Constants', 'creator_tag')\n",
    "\n",
    "print(f'Creator tag: {created_by}')"
   ]
  },
  {
   "cell_type": "markdown",
   "metadata": {},
   "source": [
    "### Read data in"
   ]
  },
  {
   "cell_type": "code",
   "execution_count": 56,
   "metadata": {
    "ExecuteTime": {
     "end_time": "2023-08-31T16:35:29.056631Z",
     "start_time": "2023-08-31T16:35:28.915354Z"
    }
   },
   "outputs": [
    {
     "data": {
      "text/html": [
       "<div><style>\n",
       ".dataframe > thead > tr > th,\n",
       ".dataframe > tbody > tr > td {\n",
       "  text-align: right;\n",
       "}\n",
       "</style>\n",
       "<small>shape: (5, 317)</small><table border=\"1\" class=\"dataframe\"><thead><tr><th>record_id</th><th>sct_422549004</th><th>sct_399423000</th><th>sct_184099003_y</th><th>sct_281053000</th><th>sct_263495000</th><th>sct_315354004</th><th>sct_364699009</th><th>sct_278844005</th><th>sct_399753006</th><th>sct_420259009</th><th>sct_767023003</th><th>sct_184305005_rd</th><th>sct_16100001</th><th>sct_16100001_source</th><th>sct_769681006_center</th><th>sct_440377005</th><th>sct_276239002_aim</th><th>sct_424850005</th><th>sct_405795006_y</th><th>sct_405795006_m</th><th>sct_405795006_d</th><th>sct_423493009</th><th>sct_432213005_y</th><th>sct_432213005_m</th><th>sct_432213005_d</th><th>sct_717800004</th><th>sct_412726003</th><th>sct_64245008</th><th>sct_125679009_proposit</th><th>sct_842009</th><th>sct_439401001_orpha</th><th>sct_439401001_orpha_sub</th><th>sct_439401001_icd10gm</th><th>sct_439401001_alphaid</th><th>sct_439401001_alphaidstr</th><th>sct_38866009</th><th>&hellip;</th><th>sct_82101005_10_age</th><th>sct_82101005_10_gender</th><th>sct_75226009_rd</th><th>sct_75226009_1_age</th><th>sct_75226009_1_gender</th><th>sct_75226009_2_age</th><th>sct_75226009_2_gender</th><th>sct_75226009_3_age</th><th>sct_75226009_3_gender</th><th>sct_75226009_4_age</th><th>sct_75226009_4_gender</th><th>sct_75226009_5_age</th><th>sct_75226009_5_gender</th><th>sct_75226009_6_age</th><th>sct_75226009_6_gender</th><th>sct_75226009_7_age</th><th>sct_75226009_7_gender</th><th>sct_75226009_8_age</th><th>sct_75226009_8_gender</th><th>sct_75226009_9_age</th><th>sct_75226009_9_gender</th><th>sct_75226009_10_age</th><th>sct_75226009_10_gender</th><th>sct_309370004_research</th><th>sct_309370004_narse</th><th>sct_309370004_data</th><th>sct_309370004_eu</th><th>sct_309370004_int</th><th>sct_309370004_aff</th><th>sct_309370004_gen</th><th>sct_309370004_case</th><th>sct_123038009</th><th>sct_840566006</th><th>sct_840566006_specific</th><th>sct_21134002_class</th><th>sct_21134002_score</th><th>erker_v15_complete</th></tr><tr><td>i64</td><td>str</td><td>str</td><td>i64</td><td>str</td><td>str</td><td>str</td><td>str</td><td>str</td><td>str</td><td>str</td><td>str</td><td>str</td><td>str</td><td>str</td><td>str</td><td>str</td><td>str</td><td>str</td><td>str</td><td>str</td><td>str</td><td>str</td><td>f64</td><td>f64</td><td>f64</td><td>str</td><td>str</td><td>str</td><td>str</td><td>str</td><td>str</td><td>str</td><td>str</td><td>str</td><td>str</td><td>str</td><td>&hellip;</td><td>str</td><td>str</td><td>str</td><td>str</td><td>str</td><td>str</td><td>str</td><td>str</td><td>str</td><td>str</td><td>str</td><td>str</td><td>str</td><td>str</td><td>str</td><td>str</td><td>str</td><td>str</td><td>str</td><td>str</td><td>str</td><td>str</td><td>str</td><td>str</td><td>str</td><td>str</td><td>str</td><td>str</td><td>str</td><td>str</td><td>str</td><td>str</td><td>str</td><td>str</td><td>str</td><td>str</td><td>str</td></tr></thead><tbody><tr><td>1</td><td>&quot;FA062&quot;</td><td>null</td><td>2001</td><td>&quot;sct_248153007&quot;</td><td>null</td><td>null</td><td>&quot;sct_90027003&quot;</td><td>&quot;CS_MII_Person_…</td><td>null</td><td>null</td><td>&quot;sct_41847000&quot;</td><td>&quot;sct_1220561009…</td><td>null</td><td>null</td><td>&quot;2007-13-24&quot;</td><td>&quot;sct_1220561009…</td><td>null</td><td>&quot;sct_261665006&quot;</td><td>null</td><td>null</td><td>null</td><td>&quot;sct_410672004&quot;</td><td>2008.0</td><td>1.0</td><td>23.0</td><td>&quot;sct_1220561009…</td><td>null</td><td>&quot;sct_1220561009…</td><td>&quot;sct_1220561009…</td><td>&quot;sct_373066001&quot;</td><td>&quot;ORPHA:71529&quot;</td><td>null</td><td>&quot;E66.8&quot;</td><td>&quot;sct_1220561009…</td><td>null</td><td>null</td><td>&hellip;</td><td>null</td><td>null</td><td>&quot;sct_1220561009…</td><td>null</td><td>null</td><td>null</td><td>null</td><td>null</td><td>null</td><td>null</td><td>null</td><td>null</td><td>null</td><td>null</td><td>null</td><td>null</td><td>null</td><td>null</td><td>null</td><td>null</td><td>null</td><td>null</td><td>null</td><td>&quot;sct_1220561009…</td><td>&quot;sct_1220561009…</td><td>&quot;sct_1220561009…</td><td>&quot;sct_1220561009…</td><td>&quot;sct_1220561009…</td><td>&quot;sct_1220561009…</td><td>&quot;sct_1220561009…</td><td>&quot;sct_1220561009…</td><td>&quot;sct_1220561009…</td><td>&quot;sct_1220561009…</td><td>null</td><td>&quot;sct_1220561009…</td><td>null</td><td>null</td></tr><tr><td>2</td><td>&quot;YA074&quot;</td><td>null</td><td>2002</td><td>&quot;sct_248152002&quot;</td><td>null</td><td>null</td><td>&quot;sct_372148003_…</td><td>&quot;CS_MII_Person_…</td><td>null</td><td>null</td><td>&quot;sct_41847000&quot;</td><td>&quot;sct_1220561009…</td><td>null</td><td>null</td><td>&quot;2011-10-21&quot;</td><td>&quot;sct_1220561009…</td><td>null</td><td>&quot;sct_261665006&quot;</td><td>null</td><td>null</td><td>null</td><td>&quot;sct_410672004&quot;</td><td>2011.0</td><td>4.0</td><td>18.0</td><td>&quot;sct_1220561009…</td><td>null</td><td>&quot;sct_1220561009…</td><td>&quot;sct_1220561009…</td><td>&quot;sct_1220561009…</td><td>&quot;ORPHA:71529&quot;</td><td>null</td><td>&quot;E66.8&quot;</td><td>&quot;sct_1220561009…</td><td>null</td><td>null</td><td>&hellip;</td><td>null</td><td>null</td><td>&quot;sct_1220561009…</td><td>null</td><td>null</td><td>null</td><td>null</td><td>null</td><td>null</td><td>null</td><td>null</td><td>null</td><td>null</td><td>null</td><td>null</td><td>null</td><td>null</td><td>null</td><td>null</td><td>null</td><td>null</td><td>null</td><td>null</td><td>&quot;sct_1220561009…</td><td>&quot;sct_1220561009…</td><td>&quot;sct_1220561009…</td><td>&quot;sct_1220561009…</td><td>&quot;sct_1220561009…</td><td>&quot;sct_1220561009…</td><td>&quot;sct_1220561009…</td><td>&quot;sct_1220561009…</td><td>&quot;sct_1220561009…</td><td>&quot;sct_1220561009…</td><td>null</td><td>&quot;sct_1220561009…</td><td>null</td><td>null</td></tr><tr><td>3</td><td>&quot;SA099&quot;</td><td>null</td><td>2002</td><td>&quot;sct_248153007&quot;</td><td>null</td><td>null</td><td>&quot;sct_14045001&quot;</td><td>&quot;CS_MII_Person_…</td><td>null</td><td>null</td><td>&quot;sct_41847000&quot;</td><td>&quot;sct_1220561009…</td><td>null</td><td>null</td><td>&quot;2002-7-23&quot;</td><td>&quot;sct_1220561009…</td><td>null</td><td>&quot;sct_261665006&quot;</td><td>null</td><td>null</td><td>null</td><td>&quot;sct_261665006&quot;</td><td>null</td><td>null</td><td>null</td><td>&quot;sct_1220561009…</td><td>null</td><td>&quot;sct_1220561009…</td><td>&quot;sct_1220561009…</td><td>&quot;sct_1220561009…</td><td>&quot;ORPHA:71529&quot;</td><td>null</td><td>&quot;E66.8&quot;</td><td>&quot;sct_1220561009…</td><td>null</td><td>null</td><td>&hellip;</td><td>null</td><td>null</td><td>&quot;sct_1220561009…</td><td>null</td><td>null</td><td>null</td><td>null</td><td>null</td><td>null</td><td>null</td><td>null</td><td>null</td><td>null</td><td>null</td><td>null</td><td>null</td><td>null</td><td>null</td><td>null</td><td>null</td><td>null</td><td>null</td><td>null</td><td>&quot;sct_1220561009…</td><td>&quot;sct_1220561009…</td><td>&quot;sct_1220561009…</td><td>&quot;sct_1220561009…</td><td>&quot;sct_1220561009…</td><td>&quot;sct_1220561009…</td><td>&quot;sct_1220561009…</td><td>&quot;sct_1220561009…</td><td>&quot;sct_1220561009…</td><td>&quot;sct_1220561009…</td><td>null</td><td>&quot;sct_1220561009…</td><td>null</td><td>null</td></tr><tr><td>4</td><td>&quot;EA102&quot;</td><td>null</td><td>2007</td><td>&quot;sct_248152002&quot;</td><td>null</td><td>null</td><td>&quot;sct_372148003_…</td><td>&quot;CS_MII_Person_…</td><td>null</td><td>null</td><td>&quot;sct_263659003&quot;</td><td>&quot;sct_1220561009…</td><td>null</td><td>null</td><td>&quot;2018-9-26&quot;</td><td>&quot;sct_1220561009…</td><td>null</td><td>&quot;sct_261665006&quot;</td><td>null</td><td>null</td><td>null</td><td>&quot;sct_410672004&quot;</td><td>2018.0</td><td>10.0</td><td>17.0</td><td>&quot;sct_1220561009…</td><td>null</td><td>&quot;sct_1220561009…</td><td>&quot;sct_1220561009…</td><td>&quot;sct_373067005&quot;</td><td>&quot;ORPHA:71529&quot;</td><td>null</td><td>&quot;E66.8&quot;</td><td>&quot;sct_1220561009…</td><td>null</td><td>null</td><td>&hellip;</td><td>null</td><td>null</td><td>&quot;sct_1220561009…</td><td>null</td><td>null</td><td>null</td><td>null</td><td>null</td><td>null</td><td>null</td><td>null</td><td>null</td><td>null</td><td>null</td><td>null</td><td>null</td><td>null</td><td>null</td><td>null</td><td>null</td><td>null</td><td>null</td><td>null</td><td>&quot;sct_1220561009…</td><td>&quot;sct_1220561009…</td><td>&quot;sct_1220561009…</td><td>&quot;sct_1220561009…</td><td>&quot;sct_1220561009…</td><td>&quot;sct_1220561009…</td><td>&quot;sct_1220561009…</td><td>&quot;sct_1220561009…</td><td>&quot;sct_1220561009…</td><td>&quot;sct_1220561009…</td><td>null</td><td>&quot;sct_1220561009…</td><td>null</td><td>null</td></tr><tr><td>5</td><td>&quot;AA070&quot;</td><td>null</td><td>2000</td><td>&quot;sct_248152002&quot;</td><td>null</td><td>null</td><td>&quot;sct_372148003_…</td><td>&quot;CS_MII_Person_…</td><td>null</td><td>null</td><td>&quot;sct_41847000&quot;</td><td>&quot;sct_1220561009…</td><td>null</td><td>null</td><td>&quot;2009-4-17&quot;</td><td>&quot;sct_1220561009…</td><td>null</td><td>&quot;sct_261665006&quot;</td><td>null</td><td>null</td><td>null</td><td>&quot;sct_410672004&quot;</td><td>2009.0</td><td>7.0</td><td>5.0</td><td>&quot;sct_1220561009…</td><td>null</td><td>&quot;sct_1220561009…</td><td>&quot;sct_1220561009…</td><td>&quot;sct_1220561009…</td><td>&quot;ORPHA:71529&quot;</td><td>null</td><td>&quot;E66.8&quot;</td><td>&quot;sct_1220561009…</td><td>null</td><td>null</td><td>&hellip;</td><td>null</td><td>null</td><td>&quot;sct_1220561009…</td><td>null</td><td>null</td><td>null</td><td>null</td><td>null</td><td>null</td><td>null</td><td>null</td><td>null</td><td>null</td><td>null</td><td>null</td><td>null</td><td>null</td><td>null</td><td>null</td><td>null</td><td>null</td><td>null</td><td>null</td><td>&quot;sct_1220561009…</td><td>&quot;sct_1220561009…</td><td>&quot;sct_1220561009…</td><td>&quot;sct_1220561009…</td><td>&quot;sct_1220561009…</td><td>&quot;sct_1220561009…</td><td>&quot;sct_1220561009…</td><td>&quot;sct_1220561009…</td><td>&quot;sct_1220561009…</td><td>&quot;sct_1220561009…</td><td>null</td><td>&quot;sct_1220561009…</td><td>null</td><td>null</td></tr></tbody></table></div>"
      ],
      "text/plain": [
       "shape: (5, 317)\n",
       "┌───────────┬───────────┬───────────┬───────────┬───┬───────────┬───────────┬───────────┬──────────┐\n",
       "│ record_id ┆ sct_42254 ┆ sct_39942 ┆ sct_18409 ┆ … ┆ sct_84056 ┆ sct_21134 ┆ sct_21134 ┆ erker_v1 │\n",
       "│ ---       ┆ 9004      ┆ 3000      ┆ 9003_y    ┆   ┆ 6006_spec ┆ 002_class ┆ 002_score ┆ 5_comple │\n",
       "│ i64       ┆ ---       ┆ ---       ┆ ---       ┆   ┆ ific      ┆ ---       ┆ ---       ┆ te       │\n",
       "│           ┆ str       ┆ str       ┆ i64       ┆   ┆ ---       ┆ str       ┆ str       ┆ ---      │\n",
       "│           ┆           ┆           ┆           ┆   ┆ str       ┆           ┆           ┆ str      │\n",
       "╞═══════════╪═══════════╪═══════════╪═══════════╪═══╪═══════════╪═══════════╪═══════════╪══════════╡\n",
       "│ 1         ┆ FA062     ┆ null      ┆ 2001      ┆ … ┆ null      ┆ sct_12205 ┆ null      ┆ null     │\n",
       "│           ┆           ┆           ┆           ┆   ┆           ┆ 61009     ┆           ┆          │\n",
       "│ 2         ┆ YA074     ┆ null      ┆ 2002      ┆ … ┆ null      ┆ sct_12205 ┆ null      ┆ null     │\n",
       "│           ┆           ┆           ┆           ┆   ┆           ┆ 61009     ┆           ┆          │\n",
       "│ 3         ┆ SA099     ┆ null      ┆ 2002      ┆ … ┆ null      ┆ sct_12205 ┆ null      ┆ null     │\n",
       "│           ┆           ┆           ┆           ┆   ┆           ┆ 61009     ┆           ┆          │\n",
       "│ 4         ┆ EA102     ┆ null      ┆ 2007      ┆ … ┆ null      ┆ sct_12205 ┆ null      ┆ null     │\n",
       "│           ┆           ┆           ┆           ┆   ┆           ┆ 61009     ┆           ┆          │\n",
       "│ 5         ┆ AA070     ┆ null      ┆ 2000      ┆ … ┆ null      ┆ sct_12205 ┆ null      ┆ null     │\n",
       "│           ┆           ┆           ┆           ┆   ┆           ┆ 61009     ┆           ┆          │\n",
       "└───────────┴───────────┴───────────┴───────────┴───┴───────────┴───────────┴───────────┴──────────┘"
      ]
     },
     "execution_count": 56,
     "metadata": {},
     "output_type": "execute_result"
    }
   ],
   "source": [
    "df = pl.read_csv(path)\n",
    "df.head(5)"
   ]
  },
  {
   "cell_type": "markdown",
   "metadata": {
    "collapsed": false
   },
   "source": [
    "#### Get some info about the data"
   ]
  },
  {
   "cell_type": "markdown",
   "metadata": {
    "collapsed": false
   },
   "source": [
    "#### Get number of rows and columns"
   ]
  },
  {
   "cell_type": "code",
   "execution_count": 57,
   "metadata": {
    "ExecuteTime": {
     "end_time": "2023-08-31T16:35:29.056631Z",
     "start_time": "2023-08-31T16:35:28.947041Z"
    },
    "collapsed": false
   },
   "outputs": [
    {
     "name": "stdout",
     "output_type": "stream",
     "text": [
      "Number of rows: 317\n",
      "Number of cols: 98\n"
     ]
    }
   ],
   "source": [
    "print(f'Number of rows: {PolarsUtils.get_num_rows(df)}')\n",
    "print(f'Number of cols: {PolarsUtils.get_num_cols(df)}')"
   ]
  },
  {
   "cell_type": "code",
   "execution_count": 58,
   "metadata": {
    "ExecuteTime": {
     "end_time": "2023-08-31T16:35:29.072267Z",
     "start_time": "2023-08-31T16:35:28.962673Z"
    },
    "collapsed": false
   },
   "outputs": [
    {
     "data": {
      "text/html": [
       "<div><style>\n",
       ".dataframe > thead > tr > th,\n",
       ".dataframe > tbody > tr > td {\n",
       "  text-align: right;\n",
       "}\n",
       "</style>\n",
       "<small>shape: (9, 318)</small><table border=\"1\" class=\"dataframe\"><thead><tr><th>describe</th><th>record_id</th><th>sct_422549004</th><th>sct_399423000</th><th>sct_184099003_y</th><th>sct_281053000</th><th>sct_263495000</th><th>sct_315354004</th><th>sct_364699009</th><th>sct_278844005</th><th>sct_399753006</th><th>sct_420259009</th><th>sct_767023003</th><th>sct_184305005_rd</th><th>sct_16100001</th><th>sct_16100001_source</th><th>sct_769681006_center</th><th>sct_440377005</th><th>sct_276239002_aim</th><th>sct_424850005</th><th>sct_405795006_y</th><th>sct_405795006_m</th><th>sct_405795006_d</th><th>sct_423493009</th><th>sct_432213005_y</th><th>sct_432213005_m</th><th>sct_432213005_d</th><th>sct_717800004</th><th>sct_412726003</th><th>sct_64245008</th><th>sct_125679009_proposit</th><th>sct_842009</th><th>sct_439401001_orpha</th><th>sct_439401001_orpha_sub</th><th>sct_439401001_icd10gm</th><th>sct_439401001_alphaid</th><th>sct_439401001_alphaidstr</th><th>&hellip;</th><th>sct_82101005_10_age</th><th>sct_82101005_10_gender</th><th>sct_75226009_rd</th><th>sct_75226009_1_age</th><th>sct_75226009_1_gender</th><th>sct_75226009_2_age</th><th>sct_75226009_2_gender</th><th>sct_75226009_3_age</th><th>sct_75226009_3_gender</th><th>sct_75226009_4_age</th><th>sct_75226009_4_gender</th><th>sct_75226009_5_age</th><th>sct_75226009_5_gender</th><th>sct_75226009_6_age</th><th>sct_75226009_6_gender</th><th>sct_75226009_7_age</th><th>sct_75226009_7_gender</th><th>sct_75226009_8_age</th><th>sct_75226009_8_gender</th><th>sct_75226009_9_age</th><th>sct_75226009_9_gender</th><th>sct_75226009_10_age</th><th>sct_75226009_10_gender</th><th>sct_309370004_research</th><th>sct_309370004_narse</th><th>sct_309370004_data</th><th>sct_309370004_eu</th><th>sct_309370004_int</th><th>sct_309370004_aff</th><th>sct_309370004_gen</th><th>sct_309370004_case</th><th>sct_123038009</th><th>sct_840566006</th><th>sct_840566006_specific</th><th>sct_21134002_class</th><th>sct_21134002_score</th><th>erker_v15_complete</th></tr><tr><td>str</td><td>f64</td><td>str</td><td>str</td><td>f64</td><td>str</td><td>str</td><td>str</td><td>str</td><td>str</td><td>str</td><td>str</td><td>str</td><td>str</td><td>str</td><td>str</td><td>str</td><td>str</td><td>str</td><td>str</td><td>str</td><td>str</td><td>str</td><td>str</td><td>f64</td><td>f64</td><td>f64</td><td>str</td><td>str</td><td>str</td><td>str</td><td>str</td><td>str</td><td>str</td><td>str</td><td>str</td><td>str</td><td>&hellip;</td><td>str</td><td>str</td><td>str</td><td>str</td><td>str</td><td>str</td><td>str</td><td>str</td><td>str</td><td>str</td><td>str</td><td>str</td><td>str</td><td>str</td><td>str</td><td>str</td><td>str</td><td>str</td><td>str</td><td>str</td><td>str</td><td>str</td><td>str</td><td>str</td><td>str</td><td>str</td><td>str</td><td>str</td><td>str</td><td>str</td><td>str</td><td>str</td><td>str</td><td>str</td><td>str</td><td>str</td><td>str</td></tr></thead><tbody><tr><td>&quot;count&quot;</td><td>98.0</td><td>&quot;98&quot;</td><td>&quot;98&quot;</td><td>98.0</td><td>&quot;98&quot;</td><td>&quot;98&quot;</td><td>&quot;98&quot;</td><td>&quot;98&quot;</td><td>&quot;98&quot;</td><td>&quot;98&quot;</td><td>&quot;98&quot;</td><td>&quot;98&quot;</td><td>&quot;98&quot;</td><td>&quot;98&quot;</td><td>&quot;98&quot;</td><td>&quot;98&quot;</td><td>&quot;98&quot;</td><td>&quot;98&quot;</td><td>&quot;98&quot;</td><td>&quot;98&quot;</td><td>&quot;98&quot;</td><td>&quot;98&quot;</td><td>&quot;98&quot;</td><td>98.0</td><td>98.0</td><td>98.0</td><td>&quot;98&quot;</td><td>&quot;98&quot;</td><td>&quot;98&quot;</td><td>&quot;98&quot;</td><td>&quot;98&quot;</td><td>&quot;98&quot;</td><td>&quot;98&quot;</td><td>&quot;98&quot;</td><td>&quot;98&quot;</td><td>&quot;98&quot;</td><td>&hellip;</td><td>&quot;98&quot;</td><td>&quot;98&quot;</td><td>&quot;98&quot;</td><td>&quot;98&quot;</td><td>&quot;98&quot;</td><td>&quot;98&quot;</td><td>&quot;98&quot;</td><td>&quot;98&quot;</td><td>&quot;98&quot;</td><td>&quot;98&quot;</td><td>&quot;98&quot;</td><td>&quot;98&quot;</td><td>&quot;98&quot;</td><td>&quot;98&quot;</td><td>&quot;98&quot;</td><td>&quot;98&quot;</td><td>&quot;98&quot;</td><td>&quot;98&quot;</td><td>&quot;98&quot;</td><td>&quot;98&quot;</td><td>&quot;98&quot;</td><td>&quot;98&quot;</td><td>&quot;98&quot;</td><td>&quot;98&quot;</td><td>&quot;98&quot;</td><td>&quot;98&quot;</td><td>&quot;98&quot;</td><td>&quot;98&quot;</td><td>&quot;98&quot;</td><td>&quot;98&quot;</td><td>&quot;98&quot;</td><td>&quot;98&quot;</td><td>&quot;98&quot;</td><td>&quot;98&quot;</td><td>&quot;98&quot;</td><td>&quot;98&quot;</td><td>&quot;98&quot;</td></tr><tr><td>&quot;null_count&quot;</td><td>0.0</td><td>&quot;0&quot;</td><td>&quot;98&quot;</td><td>0.0</td><td>&quot;0&quot;</td><td>&quot;98&quot;</td><td>&quot;98&quot;</td><td>&quot;3&quot;</td><td>&quot;0&quot;</td><td>&quot;98&quot;</td><td>&quot;98&quot;</td><td>&quot;0&quot;</td><td>&quot;0&quot;</td><td>&quot;98&quot;</td><td>&quot;98&quot;</td><td>&quot;0&quot;</td><td>&quot;0&quot;</td><td>&quot;98&quot;</td><td>&quot;0&quot;</td><td>&quot;98&quot;</td><td>&quot;98&quot;</td><td>&quot;98&quot;</td><td>&quot;0&quot;</td><td>5.0</td><td>5.0</td><td>5.0</td><td>&quot;0&quot;</td><td>&quot;98&quot;</td><td>&quot;0&quot;</td><td>&quot;0&quot;</td><td>&quot;0&quot;</td><td>&quot;0&quot;</td><td>&quot;98&quot;</td><td>&quot;0&quot;</td><td>&quot;0&quot;</td><td>&quot;98&quot;</td><td>&hellip;</td><td>&quot;98&quot;</td><td>&quot;98&quot;</td><td>&quot;0&quot;</td><td>&quot;98&quot;</td><td>&quot;98&quot;</td><td>&quot;98&quot;</td><td>&quot;98&quot;</td><td>&quot;98&quot;</td><td>&quot;98&quot;</td><td>&quot;98&quot;</td><td>&quot;98&quot;</td><td>&quot;98&quot;</td><td>&quot;98&quot;</td><td>&quot;98&quot;</td><td>&quot;98&quot;</td><td>&quot;98&quot;</td><td>&quot;98&quot;</td><td>&quot;98&quot;</td><td>&quot;98&quot;</td><td>&quot;98&quot;</td><td>&quot;98&quot;</td><td>&quot;98&quot;</td><td>&quot;98&quot;</td><td>&quot;0&quot;</td><td>&quot;0&quot;</td><td>&quot;0&quot;</td><td>&quot;0&quot;</td><td>&quot;0&quot;</td><td>&quot;0&quot;</td><td>&quot;0&quot;</td><td>&quot;0&quot;</td><td>&quot;0&quot;</td><td>&quot;0&quot;</td><td>&quot;98&quot;</td><td>&quot;0&quot;</td><td>&quot;98&quot;</td><td>&quot;98&quot;</td></tr><tr><td>&quot;mean&quot;</td><td>49.5</td><td>null</td><td>null</td><td>2000.102041</td><td>null</td><td>null</td><td>null</td><td>null</td><td>null</td><td>null</td><td>null</td><td>null</td><td>null</td><td>null</td><td>null</td><td>null</td><td>null</td><td>null</td><td>null</td><td>null</td><td>null</td><td>null</td><td>null</td><td>2010.096774</td><td>5.645161</td><td>15.075269</td><td>null</td><td>null</td><td>null</td><td>null</td><td>null</td><td>null</td><td>null</td><td>null</td><td>null</td><td>null</td><td>&hellip;</td><td>null</td><td>null</td><td>null</td><td>null</td><td>null</td><td>null</td><td>null</td><td>null</td><td>null</td><td>null</td><td>null</td><td>null</td><td>null</td><td>null</td><td>null</td><td>null</td><td>null</td><td>null</td><td>null</td><td>null</td><td>null</td><td>null</td><td>null</td><td>null</td><td>null</td><td>null</td><td>null</td><td>null</td><td>null</td><td>null</td><td>null</td><td>null</td><td>null</td><td>null</td><td>null</td><td>null</td><td>null</td></tr><tr><td>&quot;std&quot;</td><td>28.434134</td><td>null</td><td>null</td><td>7.157276</td><td>null</td><td>null</td><td>null</td><td>null</td><td>null</td><td>null</td><td>null</td><td>null</td><td>null</td><td>null</td><td>null</td><td>null</td><td>null</td><td>null</td><td>null</td><td>null</td><td>null</td><td>null</td><td>null</td><td>5.039118</td><td>3.181622</td><td>8.106944</td><td>null</td><td>null</td><td>null</td><td>null</td><td>null</td><td>null</td><td>null</td><td>null</td><td>null</td><td>null</td><td>&hellip;</td><td>null</td><td>null</td><td>null</td><td>null</td><td>null</td><td>null</td><td>null</td><td>null</td><td>null</td><td>null</td><td>null</td><td>null</td><td>null</td><td>null</td><td>null</td><td>null</td><td>null</td><td>null</td><td>null</td><td>null</td><td>null</td><td>null</td><td>null</td><td>null</td><td>null</td><td>null</td><td>null</td><td>null</td><td>null</td><td>null</td><td>null</td><td>null</td><td>null</td><td>null</td><td>null</td><td>null</td><td>null</td></tr><tr><td>&quot;min&quot;</td><td>1.0</td><td>&quot;AA009&quot;</td><td>null</td><td>1988.0</td><td>&quot;sct_248152002&quot;</td><td>null</td><td>null</td><td>&quot;sct_14045001&quot;</td><td>&quot;CS_MII_Person_…</td><td>null</td><td>null</td><td>&quot;sct_255398004&quot;</td><td>&quot;sct_1220561009…</td><td>null</td><td>null</td><td>&quot;1988-10-21&quot;</td><td>&quot;sct_1220561009…</td><td>null</td><td>&quot;sct_261665006&quot;</td><td>null</td><td>null</td><td>null</td><td>&quot;sct_261665006&quot;</td><td>2000.0</td><td>1.0</td><td>1.0</td><td>&quot;sct_1220561009…</td><td>null</td><td>&quot;sct_1220561009…</td><td>&quot;sct_1220561009…</td><td>&quot;sct_1220561009…</td><td>&quot;ORPHA:71529&quot;</td><td>null</td><td>&quot;E66.8&quot;</td><td>&quot;sct_1220561009…</td><td>null</td><td>&hellip;</td><td>null</td><td>null</td><td>&quot;sct_1220561009…</td><td>null</td><td>null</td><td>null</td><td>null</td><td>null</td><td>null</td><td>null</td><td>null</td><td>null</td><td>null</td><td>null</td><td>null</td><td>null</td><td>null</td><td>null</td><td>null</td><td>null</td><td>null</td><td>null</td><td>null</td><td>&quot;sct_1220561009…</td><td>&quot;sct_1220561009…</td><td>&quot;sct_1220561009…</td><td>&quot;sct_1220561009…</td><td>&quot;sct_1220561009…</td><td>&quot;sct_1220561009…</td><td>&quot;sct_1220561009…</td><td>&quot;sct_1220561009…</td><td>&quot;sct_1220561009…</td><td>&quot;sct_1220561009…</td><td>null</td><td>&quot;sct_1220561009…</td><td>null</td><td>null</td></tr><tr><td>&quot;25%&quot;</td><td>25.0</td><td>null</td><td>null</td><td>1995.0</td><td>null</td><td>null</td><td>null</td><td>null</td><td>null</td><td>null</td><td>null</td><td>null</td><td>null</td><td>null</td><td>null</td><td>null</td><td>null</td><td>null</td><td>null</td><td>null</td><td>null</td><td>null</td><td>null</td><td>2007.0</td><td>3.0</td><td>8.0</td><td>null</td><td>null</td><td>null</td><td>null</td><td>null</td><td>null</td><td>null</td><td>null</td><td>null</td><td>null</td><td>&hellip;</td><td>null</td><td>null</td><td>null</td><td>null</td><td>null</td><td>null</td><td>null</td><td>null</td><td>null</td><td>null</td><td>null</td><td>null</td><td>null</td><td>null</td><td>null</td><td>null</td><td>null</td><td>null</td><td>null</td><td>null</td><td>null</td><td>null</td><td>null</td><td>null</td><td>null</td><td>null</td><td>null</td><td>null</td><td>null</td><td>null</td><td>null</td><td>null</td><td>null</td><td>null</td><td>null</td><td>null</td><td>null</td></tr><tr><td>&quot;50%&quot;</td><td>50.0</td><td>null</td><td>null</td><td>1999.0</td><td>null</td><td>null</td><td>null</td><td>null</td><td>null</td><td>null</td><td>null</td><td>null</td><td>null</td><td>null</td><td>null</td><td>null</td><td>null</td><td>null</td><td>null</td><td>null</td><td>null</td><td>null</td><td>null</td><td>2009.0</td><td>6.0</td><td>16.0</td><td>null</td><td>null</td><td>null</td><td>null</td><td>null</td><td>null</td><td>null</td><td>null</td><td>null</td><td>null</td><td>&hellip;</td><td>null</td><td>null</td><td>null</td><td>null</td><td>null</td><td>null</td><td>null</td><td>null</td><td>null</td><td>null</td><td>null</td><td>null</td><td>null</td><td>null</td><td>null</td><td>null</td><td>null</td><td>null</td><td>null</td><td>null</td><td>null</td><td>null</td><td>null</td><td>null</td><td>null</td><td>null</td><td>null</td><td>null</td><td>null</td><td>null</td><td>null</td><td>null</td><td>null</td><td>null</td><td>null</td><td>null</td><td>null</td></tr><tr><td>&quot;75%&quot;</td><td>74.0</td><td>null</td><td>null</td><td>2005.0</td><td>null</td><td>null</td><td>null</td><td>null</td><td>null</td><td>null</td><td>null</td><td>null</td><td>null</td><td>null</td><td>null</td><td>null</td><td>null</td><td>null</td><td>null</td><td>null</td><td>null</td><td>null</td><td>null</td><td>2014.0</td><td>8.0</td><td>21.0</td><td>null</td><td>null</td><td>null</td><td>null</td><td>null</td><td>null</td><td>null</td><td>null</td><td>null</td><td>null</td><td>&hellip;</td><td>null</td><td>null</td><td>null</td><td>null</td><td>null</td><td>null</td><td>null</td><td>null</td><td>null</td><td>null</td><td>null</td><td>null</td><td>null</td><td>null</td><td>null</td><td>null</td><td>null</td><td>null</td><td>null</td><td>null</td><td>null</td><td>null</td><td>null</td><td>null</td><td>null</td><td>null</td><td>null</td><td>null</td><td>null</td><td>null</td><td>null</td><td>null</td><td>null</td><td>null</td><td>null</td><td>null</td><td>null</td></tr><tr><td>&quot;max&quot;</td><td>98.0</td><td>&quot;ZK036&quot;</td><td>null</td><td>2017.0</td><td>&quot;sct_248153007&quot;</td><td>null</td><td>null</td><td>&quot;sct_90027003&quot;</td><td>&quot;CS_MII_Person_…</td><td>null</td><td>null</td><td>&quot;sct_41847000&quot;</td><td>&quot;sct_1220561009…</td><td>null</td><td>null</td><td>&quot;2020-5-16&quot;</td><td>&quot;sct_1220561009…</td><td>null</td><td>&quot;sct_261665006&quot;</td><td>null</td><td>null</td><td>null</td><td>&quot;sct_410672004&quot;</td><td>2020.0</td><td>12.0</td><td>29.0</td><td>&quot;sct_1220561009…</td><td>null</td><td>&quot;sct_1220561009…</td><td>&quot;sct_1220561009…</td><td>&quot;sct_373067005&quot;</td><td>&quot;ORPHA:71529&quot;</td><td>null</td><td>&quot;E66.8&quot;</td><td>&quot;sct_1220561009…</td><td>null</td><td>&hellip;</td><td>null</td><td>null</td><td>&quot;sct_1220561009…</td><td>null</td><td>null</td><td>null</td><td>null</td><td>null</td><td>null</td><td>null</td><td>null</td><td>null</td><td>null</td><td>null</td><td>null</td><td>null</td><td>null</td><td>null</td><td>null</td><td>null</td><td>null</td><td>null</td><td>null</td><td>&quot;sct_1220561009…</td><td>&quot;sct_1220561009…</td><td>&quot;sct_1220561009…</td><td>&quot;sct_1220561009…</td><td>&quot;sct_1220561009…</td><td>&quot;sct_1220561009…</td><td>&quot;sct_1220561009…</td><td>&quot;sct_1220561009…</td><td>&quot;sct_1220561009…</td><td>&quot;sct_1220561009…</td><td>null</td><td>&quot;sct_1220561009…</td><td>null</td><td>null</td></tr></tbody></table></div>"
      ],
      "text/plain": [
       "shape: (9, 318)\n",
       "┌───────────┬───────────┬───────────┬───────────┬───┬───────────┬───────────┬───────────┬──────────┐\n",
       "│ describe  ┆ record_id ┆ sct_42254 ┆ sct_39942 ┆ … ┆ sct_84056 ┆ sct_21134 ┆ sct_21134 ┆ erker_v1 │\n",
       "│ ---       ┆ ---       ┆ 9004      ┆ 3000      ┆   ┆ 6006_spec ┆ 002_class ┆ 002_score ┆ 5_comple │\n",
       "│ str       ┆ f64       ┆ ---       ┆ ---       ┆   ┆ ific      ┆ ---       ┆ ---       ┆ te       │\n",
       "│           ┆           ┆ str       ┆ str       ┆   ┆ ---       ┆ str       ┆ str       ┆ ---      │\n",
       "│           ┆           ┆           ┆           ┆   ┆ str       ┆           ┆           ┆ str      │\n",
       "╞═══════════╪═══════════╪═══════════╪═══════════╪═══╪═══════════╪═══════════╪═══════════╪══════════╡\n",
       "│ count     ┆ 98.0      ┆ 98        ┆ 98        ┆ … ┆ 98        ┆ 98        ┆ 98        ┆ 98       │\n",
       "│ null_coun ┆ 0.0       ┆ 0         ┆ 98        ┆ … ┆ 98        ┆ 0         ┆ 98        ┆ 98       │\n",
       "│ t         ┆           ┆           ┆           ┆   ┆           ┆           ┆           ┆          │\n",
       "│ mean      ┆ 49.5      ┆ null      ┆ null      ┆ … ┆ null      ┆ null      ┆ null      ┆ null     │\n",
       "│ std       ┆ 28.434134 ┆ null      ┆ null      ┆ … ┆ null      ┆ null      ┆ null      ┆ null     │\n",
       "│ min       ┆ 1.0       ┆ AA009     ┆ null      ┆ … ┆ null      ┆ sct_12205 ┆ null      ┆ null     │\n",
       "│           ┆           ┆           ┆           ┆   ┆           ┆ 61009     ┆           ┆          │\n",
       "│ 25%       ┆ 25.0      ┆ null      ┆ null      ┆ … ┆ null      ┆ null      ┆ null      ┆ null     │\n",
       "│ 50%       ┆ 50.0      ┆ null      ┆ null      ┆ … ┆ null      ┆ null      ┆ null      ┆ null     │\n",
       "│ 75%       ┆ 74.0      ┆ null      ┆ null      ┆ … ┆ null      ┆ null      ┆ null      ┆ null     │\n",
       "│ max       ┆ 98.0      ┆ ZK036     ┆ null      ┆ … ┆ null      ┆ sct_12205 ┆ null      ┆ null     │\n",
       "│           ┆           ┆           ┆           ┆   ┆           ┆ 61009     ┆           ┆          │\n",
       "└───────────┴───────────┴───────────┴───────────┴───┴───────────┴───────────┴───────────┴──────────┘"
      ]
     },
     "execution_count": 58,
     "metadata": {},
     "output_type": "execute_result"
    }
   ],
   "source": [
    "df.describe()"
   ]
  },
  {
   "cell_type": "markdown",
   "metadata": {
    "collapsed": false
   },
   "source": [
    "#### Display unique values for each column"
   ]
  },
  {
   "cell_type": "code",
   "execution_count": 59,
   "metadata": {
    "ExecuteTime": {
     "end_time": "2023-08-31T16:35:29.072267Z",
     "start_time": "2023-08-31T16:35:29.009550Z"
    },
    "collapsed": false
   },
   "outputs": [
    {
     "data": {
      "text/html": [
       "<div><style>\n",
       ".dataframe > thead > tr > th,\n",
       ".dataframe > tbody > tr > td {\n",
       "  text-align: right;\n",
       "}\n",
       "</style>\n",
       "<small>shape: (98, 317)</small><table border=\"1\" class=\"dataframe\"><thead><tr><th>record_id</th><th>sct_422549004</th><th>sct_399423000</th><th>sct_184099003_y</th><th>sct_281053000</th><th>sct_263495000</th><th>sct_315354004</th><th>sct_364699009</th><th>sct_278844005</th><th>sct_399753006</th><th>sct_420259009</th><th>sct_767023003</th><th>sct_184305005_rd</th><th>sct_16100001</th><th>sct_16100001_source</th><th>sct_769681006_center</th><th>sct_440377005</th><th>sct_276239002_aim</th><th>sct_424850005</th><th>sct_405795006_y</th><th>sct_405795006_m</th><th>sct_405795006_d</th><th>sct_423493009</th><th>sct_432213005_y</th><th>sct_432213005_m</th><th>sct_432213005_d</th><th>sct_717800004</th><th>sct_412726003</th><th>sct_64245008</th><th>sct_125679009_proposit</th><th>sct_842009</th><th>sct_439401001_orpha</th><th>sct_439401001_orpha_sub</th><th>sct_439401001_icd10gm</th><th>sct_439401001_alphaid</th><th>sct_439401001_alphaidstr</th><th>sct_38866009</th><th>&hellip;</th><th>sct_82101005_10_age</th><th>sct_82101005_10_gender</th><th>sct_75226009_rd</th><th>sct_75226009_1_age</th><th>sct_75226009_1_gender</th><th>sct_75226009_2_age</th><th>sct_75226009_2_gender</th><th>sct_75226009_3_age</th><th>sct_75226009_3_gender</th><th>sct_75226009_4_age</th><th>sct_75226009_4_gender</th><th>sct_75226009_5_age</th><th>sct_75226009_5_gender</th><th>sct_75226009_6_age</th><th>sct_75226009_6_gender</th><th>sct_75226009_7_age</th><th>sct_75226009_7_gender</th><th>sct_75226009_8_age</th><th>sct_75226009_8_gender</th><th>sct_75226009_9_age</th><th>sct_75226009_9_gender</th><th>sct_75226009_10_age</th><th>sct_75226009_10_gender</th><th>sct_309370004_research</th><th>sct_309370004_narse</th><th>sct_309370004_data</th><th>sct_309370004_eu</th><th>sct_309370004_int</th><th>sct_309370004_aff</th><th>sct_309370004_gen</th><th>sct_309370004_case</th><th>sct_123038009</th><th>sct_840566006</th><th>sct_840566006_specific</th><th>sct_21134002_class</th><th>sct_21134002_score</th><th>erker_v15_complete</th></tr><tr><td>i64</td><td>str</td><td>str</td><td>i64</td><td>str</td><td>str</td><td>str</td><td>str</td><td>str</td><td>str</td><td>str</td><td>str</td><td>str</td><td>str</td><td>str</td><td>str</td><td>str</td><td>str</td><td>str</td><td>str</td><td>str</td><td>str</td><td>str</td><td>f64</td><td>f64</td><td>f64</td><td>str</td><td>str</td><td>str</td><td>str</td><td>str</td><td>str</td><td>str</td><td>str</td><td>str</td><td>str</td><td>str</td><td>&hellip;</td><td>str</td><td>str</td><td>str</td><td>str</td><td>str</td><td>str</td><td>str</td><td>str</td><td>str</td><td>str</td><td>str</td><td>str</td><td>str</td><td>str</td><td>str</td><td>str</td><td>str</td><td>str</td><td>str</td><td>str</td><td>str</td><td>str</td><td>str</td><td>str</td><td>str</td><td>str</td><td>str</td><td>str</td><td>str</td><td>str</td><td>str</td><td>str</td><td>str</td><td>str</td><td>str</td><td>str</td><td>str</td></tr></thead><tbody><tr><td>2</td><td>&quot;YA074&quot;</td><td>null</td><td>2002</td><td>&quot;sct_248152002&quot;</td><td>null</td><td>null</td><td>&quot;sct_372148003_…</td><td>&quot;CS_MII_Person_…</td><td>null</td><td>null</td><td>&quot;sct_41847000&quot;</td><td>&quot;sct_1220561009…</td><td>null</td><td>null</td><td>&quot;2011-10-21&quot;</td><td>&quot;sct_1220561009…</td><td>null</td><td>&quot;sct_261665006&quot;</td><td>null</td><td>null</td><td>null</td><td>&quot;sct_410672004&quot;</td><td>2011.0</td><td>4.0</td><td>18.0</td><td>&quot;sct_1220561009…</td><td>null</td><td>&quot;sct_1220561009…</td><td>&quot;sct_1220561009…</td><td>&quot;sct_1220561009…</td><td>&quot;ORPHA:71529&quot;</td><td>null</td><td>&quot;E66.8&quot;</td><td>&quot;sct_1220561009…</td><td>null</td><td>null</td><td>&hellip;</td><td>null</td><td>null</td><td>&quot;sct_1220561009…</td><td>null</td><td>null</td><td>null</td><td>null</td><td>null</td><td>null</td><td>null</td><td>null</td><td>null</td><td>null</td><td>null</td><td>null</td><td>null</td><td>null</td><td>null</td><td>null</td><td>null</td><td>null</td><td>null</td><td>null</td><td>&quot;sct_1220561009…</td><td>&quot;sct_1220561009…</td><td>&quot;sct_1220561009…</td><td>&quot;sct_1220561009…</td><td>&quot;sct_1220561009…</td><td>&quot;sct_1220561009…</td><td>&quot;sct_1220561009…</td><td>&quot;sct_1220561009…</td><td>&quot;sct_1220561009…</td><td>&quot;sct_1220561009…</td><td>null</td><td>&quot;sct_1220561009…</td><td>null</td><td>null</td></tr><tr><td>14</td><td>&quot;AB043&quot;</td><td>null</td><td>1999</td><td>&quot;sct_248152002&quot;</td><td>null</td><td>null</td><td>&quot;sct_372148003_…</td><td>&quot;CS_MII_Person_…</td><td>null</td><td>null</td><td>&quot;sct_41847000&quot;</td><td>&quot;sct_1220561009…</td><td>null</td><td>null</td><td>&quot;2006-1-2&quot;</td><td>&quot;sct_1220561009…</td><td>null</td><td>&quot;sct_261665006&quot;</td><td>null</td><td>null</td><td>null</td><td>&quot;sct_410672004&quot;</td><td>2006.0</td><td>1.0</td><td>6.0</td><td>&quot;sct_1220561009…</td><td>null</td><td>&quot;sct_1220561009…</td><td>&quot;sct_1220561009…</td><td>&quot;sct_1220561009…</td><td>&quot;ORPHA:71529&quot;</td><td>null</td><td>&quot;E66.8&quot;</td><td>&quot;sct_1220561009…</td><td>null</td><td>null</td><td>&hellip;</td><td>null</td><td>null</td><td>&quot;sct_1220561009…</td><td>null</td><td>null</td><td>null</td><td>null</td><td>null</td><td>null</td><td>null</td><td>null</td><td>null</td><td>null</td><td>null</td><td>null</td><td>null</td><td>null</td><td>null</td><td>null</td><td>null</td><td>null</td><td>null</td><td>null</td><td>&quot;sct_1220561009…</td><td>&quot;sct_1220561009…</td><td>&quot;sct_1220561009…</td><td>&quot;sct_1220561009…</td><td>&quot;sct_1220561009…</td><td>&quot;sct_1220561009…</td><td>&quot;sct_1220561009…</td><td>&quot;sct_1220561009…</td><td>&quot;sct_1220561009…</td><td>&quot;sct_1220561009…</td><td>null</td><td>&quot;sct_1220561009…</td><td>null</td><td>null</td></tr><tr><td>15</td><td>&quot;LB004&quot;</td><td>null</td><td>2000</td><td>&quot;sct_248153007&quot;</td><td>null</td><td>null</td><td>&quot;sct_14045001&quot;</td><td>&quot;CS_MII_Person_…</td><td>null</td><td>null</td><td>&quot;sct_41847000&quot;</td><td>&quot;sct_1220561009…</td><td>null</td><td>null</td><td>&quot;2008-17-4&quot;</td><td>&quot;sct_1220561009…</td><td>null</td><td>&quot;sct_261665006&quot;</td><td>null</td><td>null</td><td>null</td><td>&quot;sct_410672004&quot;</td><td>2009.0</td><td>5.0</td><td>19.0</td><td>&quot;sct_1220561009…</td><td>null</td><td>&quot;sct_1220561009…</td><td>&quot;sct_1220561009…</td><td>&quot;sct_1220561009…</td><td>&quot;ORPHA:71529&quot;</td><td>null</td><td>&quot;E66.8&quot;</td><td>&quot;sct_1220561009…</td><td>null</td><td>null</td><td>&hellip;</td><td>null</td><td>null</td><td>&quot;sct_1220561009…</td><td>null</td><td>null</td><td>null</td><td>null</td><td>null</td><td>null</td><td>null</td><td>null</td><td>null</td><td>null</td><td>null</td><td>null</td><td>null</td><td>null</td><td>null</td><td>null</td><td>null</td><td>null</td><td>null</td><td>null</td><td>&quot;sct_1220561009…</td><td>&quot;sct_1220561009…</td><td>&quot;sct_1220561009…</td><td>&quot;sct_1220561009…</td><td>&quot;sct_1220561009…</td><td>&quot;sct_1220561009…</td><td>&quot;sct_1220561009…</td><td>&quot;sct_1220561009…</td><td>&quot;sct_1220561009…</td><td>&quot;sct_1220561009…</td><td>null</td><td>&quot;sct_1220561009…</td><td>null</td><td>null</td></tr><tr><td>19</td><td>&quot;HC046&quot;</td><td>null</td><td>1994</td><td>&quot;sct_248153007&quot;</td><td>null</td><td>null</td><td>&quot;sct_90027003&quot;</td><td>&quot;CS_MII_Person_…</td><td>null</td><td>null</td><td>&quot;sct_41847000&quot;</td><td>&quot;sct_1220561009…</td><td>null</td><td>null</td><td>&quot;2007-10-10&quot;</td><td>&quot;sct_1220561009…</td><td>null</td><td>&quot;sct_261665006&quot;</td><td>null</td><td>null</td><td>null</td><td>&quot;sct_410672004&quot;</td><td>2007.0</td><td>11.0</td><td>5.0</td><td>&quot;sct_1220561009…</td><td>null</td><td>&quot;sct_1220561009…</td><td>&quot;sct_1220561009…</td><td>&quot;sct_1220561009…</td><td>&quot;ORPHA:71529&quot;</td><td>null</td><td>&quot;E66.8&quot;</td><td>&quot;sct_1220561009…</td><td>null</td><td>null</td><td>&hellip;</td><td>null</td><td>null</td><td>&quot;sct_1220561009…</td><td>null</td><td>null</td><td>null</td><td>null</td><td>null</td><td>null</td><td>null</td><td>null</td><td>null</td><td>null</td><td>null</td><td>null</td><td>null</td><td>null</td><td>null</td><td>null</td><td>null</td><td>null</td><td>null</td><td>null</td><td>&quot;sct_1220561009…</td><td>&quot;sct_1220561009…</td><td>&quot;sct_1220561009…</td><td>&quot;sct_1220561009…</td><td>&quot;sct_1220561009…</td><td>&quot;sct_1220561009…</td><td>&quot;sct_1220561009…</td><td>&quot;sct_1220561009…</td><td>&quot;sct_1220561009…</td><td>&quot;sct_1220561009…</td><td>null</td><td>&quot;sct_1220561009…</td><td>null</td><td>null</td></tr><tr><td>20</td><td>&quot;NC061&quot;</td><td>null</td><td>1996</td><td>&quot;sct_248153007&quot;</td><td>null</td><td>null</td><td>null</td><td>&quot;CS_MII_Person_…</td><td>null</td><td>null</td><td>&quot;sct_41847000&quot;</td><td>&quot;sct_1220561009…</td><td>null</td><td>null</td><td>&quot;2006-14-29&quot;</td><td>&quot;sct_1220561009…</td><td>null</td><td>&quot;sct_261665006&quot;</td><td>null</td><td>null</td><td>null</td><td>&quot;sct_410672004&quot;</td><td>2007.0</td><td>3.0</td><td>12.0</td><td>&quot;sct_1220561009…</td><td>null</td><td>&quot;sct_1220561009…</td><td>&quot;sct_1220561009…</td><td>&quot;sct_1220561009…</td><td>&quot;ORPHA:71529&quot;</td><td>null</td><td>&quot;E66.8&quot;</td><td>&quot;sct_1220561009…</td><td>null</td><td>null</td><td>&hellip;</td><td>null</td><td>null</td><td>&quot;sct_1220561009…</td><td>null</td><td>null</td><td>null</td><td>null</td><td>null</td><td>null</td><td>null</td><td>null</td><td>null</td><td>null</td><td>null</td><td>null</td><td>null</td><td>null</td><td>null</td><td>null</td><td>null</td><td>null</td><td>null</td><td>null</td><td>&quot;sct_1220561009…</td><td>&quot;sct_1220561009…</td><td>&quot;sct_1220561009…</td><td>&quot;sct_1220561009…</td><td>&quot;sct_1220561009…</td><td>&quot;sct_1220561009…</td><td>&quot;sct_1220561009…</td><td>&quot;sct_1220561009…</td><td>&quot;sct_1220561009…</td><td>&quot;sct_1220561009…</td><td>null</td><td>&quot;sct_1220561009…</td><td>null</td><td>null</td></tr><tr><td>23</td><td>&quot;LD045&quot;</td><td>null</td><td>1997</td><td>&quot;sct_248152002&quot;</td><td>null</td><td>null</td><td>&quot;sct_372148003_…</td><td>&quot;CS_MII_Person_…</td><td>null</td><td>null</td><td>&quot;sct_41847000&quot;</td><td>&quot;sct_1220561009…</td><td>null</td><td>null</td><td>&quot;2007-12-5&quot;</td><td>&quot;sct_1220561009…</td><td>null</td><td>&quot;sct_261665006&quot;</td><td>null</td><td>null</td><td>null</td><td>&quot;sct_410672004&quot;</td><td>2007.0</td><td>12.0</td><td>12.0</td><td>&quot;sct_1220561009…</td><td>null</td><td>&quot;sct_1220561009…</td><td>&quot;sct_1220561009…</td><td>&quot;sct_1220561009…</td><td>&quot;ORPHA:71529&quot;</td><td>null</td><td>&quot;E66.8&quot;</td><td>&quot;sct_1220561009…</td><td>null</td><td>null</td><td>&hellip;</td><td>null</td><td>null</td><td>&quot;sct_1220561009…</td><td>null</td><td>null</td><td>null</td><td>null</td><td>null</td><td>null</td><td>null</td><td>null</td><td>null</td><td>null</td><td>null</td><td>null</td><td>null</td><td>null</td><td>null</td><td>null</td><td>null</td><td>null</td><td>null</td><td>null</td><td>&quot;sct_1220561009…</td><td>&quot;sct_1220561009…</td><td>&quot;sct_1220561009…</td><td>&quot;sct_1220561009…</td><td>&quot;sct_1220561009…</td><td>&quot;sct_1220561009…</td><td>&quot;sct_1220561009…</td><td>&quot;sct_1220561009…</td><td>&quot;sct_1220561009…</td><td>&quot;sct_1220561009…</td><td>null</td><td>&quot;sct_1220561009…</td><td>null</td><td>null</td></tr><tr><td>36</td><td>&quot;HJ081&quot;</td><td>null</td><td>2009</td><td>&quot;sct_248152002&quot;</td><td>null</td><td>null</td><td>&quot;sct_372148003_…</td><td>&quot;CS_MII_Person_…</td><td>null</td><td>null</td><td>&quot;sct_263659003&quot;</td><td>&quot;sct_1220561009…</td><td>null</td><td>null</td><td>&quot;2015-1-27&quot;</td><td>&quot;sct_1220561009…</td><td>null</td><td>&quot;sct_261665006&quot;</td><td>null</td><td>null</td><td>null</td><td>&quot;sct_410672004&quot;</td><td>2015.0</td><td>2.0</td><td>24.0</td><td>&quot;sct_1220561009…</td><td>null</td><td>&quot;sct_1220561009…</td><td>&quot;sct_1220561009…</td><td>&quot;sct_1220561009…</td><td>&quot;ORPHA:71529&quot;</td><td>null</td><td>&quot;E66.8&quot;</td><td>&quot;sct_1220561009…</td><td>null</td><td>null</td><td>&hellip;</td><td>null</td><td>null</td><td>&quot;sct_1220561009…</td><td>null</td><td>null</td><td>null</td><td>null</td><td>null</td><td>null</td><td>null</td><td>null</td><td>null</td><td>null</td><td>null</td><td>null</td><td>null</td><td>null</td><td>null</td><td>null</td><td>null</td><td>null</td><td>null</td><td>null</td><td>&quot;sct_1220561009…</td><td>&quot;sct_1220561009…</td><td>&quot;sct_1220561009…</td><td>&quot;sct_1220561009…</td><td>&quot;sct_1220561009…</td><td>&quot;sct_1220561009…</td><td>&quot;sct_1220561009…</td><td>&quot;sct_1220561009…</td><td>&quot;sct_1220561009…</td><td>&quot;sct_1220561009…</td><td>null</td><td>&quot;sct_1220561009…</td><td>null</td><td>null</td></tr><tr><td>44</td><td>&quot;RK101&quot;</td><td>null</td><td>2008</td><td>&quot;sct_248153007&quot;</td><td>null</td><td>null</td><td>&quot;sct_14045001&quot;</td><td>&quot;CS_MII_Person_…</td><td>null</td><td>null</td><td>&quot;sct_263659003&quot;</td><td>&quot;sct_1220561009…</td><td>null</td><td>null</td><td>&quot;2020-12-2&quot;</td><td>&quot;sct_1220561009…</td><td>null</td><td>&quot;sct_261665006&quot;</td><td>null</td><td>null</td><td>null</td><td>&quot;sct_410672004&quot;</td><td>2020.0</td><td>12.0</td><td>3.0</td><td>&quot;sct_1220561009…</td><td>null</td><td>&quot;sct_1220561009…</td><td>&quot;sct_1220561009…</td><td>&quot;sct_1220561009…</td><td>&quot;ORPHA:71529&quot;</td><td>null</td><td>&quot;E66.8&quot;</td><td>&quot;sct_1220561009…</td><td>null</td><td>null</td><td>&hellip;</td><td>null</td><td>null</td><td>&quot;sct_1220561009…</td><td>null</td><td>null</td><td>null</td><td>null</td><td>null</td><td>null</td><td>null</td><td>null</td><td>null</td><td>null</td><td>null</td><td>null</td><td>null</td><td>null</td><td>null</td><td>null</td><td>null</td><td>null</td><td>null</td><td>null</td><td>&quot;sct_1220561009…</td><td>&quot;sct_1220561009…</td><td>&quot;sct_1220561009…</td><td>&quot;sct_1220561009…</td><td>&quot;sct_1220561009…</td><td>&quot;sct_1220561009…</td><td>&quot;sct_1220561009…</td><td>&quot;sct_1220561009…</td><td>&quot;sct_1220561009…</td><td>&quot;sct_1220561009…</td><td>null</td><td>&quot;sct_1220561009…</td><td>null</td><td>null</td></tr><tr><td>52</td><td>&quot;RM084&quot;</td><td>null</td><td>2004</td><td>&quot;sct_248153007&quot;</td><td>null</td><td>null</td><td>&quot;sct_14045001&quot;</td><td>&quot;CS_MII_Person_…</td><td>null</td><td>null</td><td>&quot;sct_41847000&quot;</td><td>&quot;sct_1220561009…</td><td>null</td><td>null</td><td>&quot;2004-6-1&quot;</td><td>&quot;sct_1220561009…</td><td>null</td><td>&quot;sct_261665006&quot;</td><td>null</td><td>null</td><td>null</td><td>&quot;sct_261665006&quot;</td><td>null</td><td>null</td><td>null</td><td>&quot;sct_1220561009…</td><td>null</td><td>&quot;sct_1220561009…</td><td>&quot;sct_1220561009…</td><td>&quot;sct_1220561009…</td><td>&quot;ORPHA:71529&quot;</td><td>null</td><td>&quot;E66.8&quot;</td><td>&quot;sct_1220561009…</td><td>null</td><td>null</td><td>&hellip;</td><td>null</td><td>null</td><td>&quot;sct_1220561009…</td><td>null</td><td>null</td><td>null</td><td>null</td><td>null</td><td>null</td><td>null</td><td>null</td><td>null</td><td>null</td><td>null</td><td>null</td><td>null</td><td>null</td><td>null</td><td>null</td><td>null</td><td>null</td><td>null</td><td>null</td><td>&quot;sct_1220561009…</td><td>&quot;sct_1220561009…</td><td>&quot;sct_1220561009…</td><td>&quot;sct_1220561009…</td><td>&quot;sct_1220561009…</td><td>&quot;sct_1220561009…</td><td>&quot;sct_1220561009…</td><td>&quot;sct_1220561009…</td><td>&quot;sct_1220561009…</td><td>&quot;sct_1220561009…</td><td>null</td><td>&quot;sct_1220561009…</td><td>null</td><td>null</td></tr><tr><td>57</td><td>&quot;NO075&quot;</td><td>null</td><td>1999</td><td>&quot;sct_248153007&quot;</td><td>null</td><td>null</td><td>&quot;sct_372148003_…</td><td>&quot;CS_MII_Person_…</td><td>null</td><td>null</td><td>&quot;sct_41847000&quot;</td><td>&quot;sct_1220561009…</td><td>null</td><td>null</td><td>&quot;2009-7-21&quot;</td><td>&quot;sct_1220561009…</td><td>null</td><td>&quot;sct_261665006&quot;</td><td>null</td><td>null</td><td>null</td><td>&quot;sct_410672004&quot;</td><td>2009.0</td><td>7.0</td><td>23.0</td><td>&quot;sct_1220561009…</td><td>null</td><td>&quot;sct_1220561009…</td><td>&quot;sct_1220561009…</td><td>&quot;sct_1220561009…</td><td>&quot;ORPHA:71529&quot;</td><td>null</td><td>&quot;E66.8&quot;</td><td>&quot;sct_1220561009…</td><td>null</td><td>null</td><td>&hellip;</td><td>null</td><td>null</td><td>&quot;sct_1220561009…</td><td>null</td><td>null</td><td>null</td><td>null</td><td>null</td><td>null</td><td>null</td><td>null</td><td>null</td><td>null</td><td>null</td><td>null</td><td>null</td><td>null</td><td>null</td><td>null</td><td>null</td><td>null</td><td>null</td><td>null</td><td>&quot;sct_1220561009…</td><td>&quot;sct_1220561009…</td><td>&quot;sct_1220561009…</td><td>&quot;sct_1220561009…</td><td>&quot;sct_1220561009…</td><td>&quot;sct_1220561009…</td><td>&quot;sct_1220561009…</td><td>&quot;sct_1220561009…</td><td>&quot;sct_1220561009…</td><td>&quot;sct_1220561009…</td><td>null</td><td>&quot;sct_1220561009…</td><td>null</td><td>null</td></tr><tr><td>65</td><td>&quot;NR086&quot;</td><td>null</td><td>1996</td><td>&quot;sct_248152002&quot;</td><td>null</td><td>null</td><td>&quot;sct_14045001&quot;</td><td>&quot;CS_MII_Person_…</td><td>null</td><td>null</td><td>&quot;sct_41847000&quot;</td><td>&quot;sct_1220561009…</td><td>null</td><td>null</td><td>&quot;2008-6-14&quot;</td><td>&quot;sct_1220561009…</td><td>null</td><td>&quot;sct_261665006&quot;</td><td>null</td><td>null</td><td>null</td><td>&quot;sct_410672004&quot;</td><td>2008.0</td><td>6.0</td><td>27.0</td><td>&quot;sct_1220561009…</td><td>null</td><td>&quot;sct_1220561009…</td><td>&quot;sct_1220561009…</td><td>&quot;sct_1220561009…</td><td>&quot;ORPHA:71529&quot;</td><td>null</td><td>&quot;E66.8&quot;</td><td>&quot;sct_1220561009…</td><td>null</td><td>null</td><td>&hellip;</td><td>null</td><td>null</td><td>&quot;sct_1220561009…</td><td>null</td><td>null</td><td>null</td><td>null</td><td>null</td><td>null</td><td>null</td><td>null</td><td>null</td><td>null</td><td>null</td><td>null</td><td>null</td><td>null</td><td>null</td><td>null</td><td>null</td><td>null</td><td>null</td><td>null</td><td>&quot;sct_1220561009…</td><td>&quot;sct_1220561009…</td><td>&quot;sct_1220561009…</td><td>&quot;sct_1220561009…</td><td>&quot;sct_1220561009…</td><td>&quot;sct_1220561009…</td><td>&quot;sct_1220561009…</td><td>&quot;sct_1220561009…</td><td>&quot;sct_1220561009…</td><td>&quot;sct_1220561009…</td><td>null</td><td>&quot;sct_1220561009…</td><td>null</td><td>null</td></tr><tr><td>71</td><td>&quot;AS002&quot;</td><td>null</td><td>1994</td><td>&quot;sct_248152002&quot;</td><td>null</td><td>null</td><td>&quot;sct_14045001&quot;</td><td>&quot;CS_MII_Person_…</td><td>null</td><td>null</td><td>&quot;sct_41847000&quot;</td><td>&quot;sct_1220561009…</td><td>null</td><td>null</td><td>&quot;2004-16-13&quot;</td><td>&quot;sct_1220561009…</td><td>null</td><td>&quot;sct_261665006&quot;</td><td>null</td><td>null</td><td>null</td><td>&quot;sct_410672004&quot;</td><td>2005.0</td><td>4.0</td><td>18.0</td><td>&quot;sct_1220561009…</td><td>null</td><td>&quot;sct_1220561009…</td><td>&quot;sct_1220561009…</td><td>&quot;sct_1220561009…</td><td>&quot;ORPHA:71529&quot;</td><td>null</td><td>&quot;E66.8&quot;</td><td>&quot;sct_1220561009…</td><td>null</td><td>null</td><td>&hellip;</td><td>null</td><td>null</td><td>&quot;sct_1220561009…</td><td>null</td><td>null</td><td>null</td><td>null</td><td>null</td><td>null</td><td>null</td><td>null</td><td>null</td><td>null</td><td>null</td><td>null</td><td>null</td><td>null</td><td>null</td><td>null</td><td>null</td><td>null</td><td>null</td><td>null</td><td>&quot;sct_1220561009…</td><td>&quot;sct_1220561009…</td><td>&quot;sct_1220561009…</td><td>&quot;sct_1220561009…</td><td>&quot;sct_1220561009…</td><td>&quot;sct_1220561009…</td><td>&quot;sct_1220561009…</td><td>&quot;sct_1220561009…</td><td>&quot;sct_1220561009…</td><td>&quot;sct_1220561009…</td><td>null</td><td>&quot;sct_1220561009…</td><td>null</td><td>null</td></tr><tr><td>&hellip;</td><td>&hellip;</td><td>&hellip;</td><td>&hellip;</td><td>&hellip;</td><td>&hellip;</td><td>&hellip;</td><td>&hellip;</td><td>&hellip;</td><td>&hellip;</td><td>&hellip;</td><td>&hellip;</td><td>&hellip;</td><td>&hellip;</td><td>&hellip;</td><td>&hellip;</td><td>&hellip;</td><td>&hellip;</td><td>&hellip;</td><td>&hellip;</td><td>&hellip;</td><td>&hellip;</td><td>&hellip;</td><td>&hellip;</td><td>&hellip;</td><td>&hellip;</td><td>&hellip;</td><td>&hellip;</td><td>&hellip;</td><td>&hellip;</td><td>&hellip;</td><td>&hellip;</td><td>&hellip;</td><td>&hellip;</td><td>&hellip;</td><td>&hellip;</td><td>&hellip;</td><td>&hellip;</td><td>&hellip;</td><td>&hellip;</td><td>&hellip;</td><td>&hellip;</td><td>&hellip;</td><td>&hellip;</td><td>&hellip;</td><td>&hellip;</td><td>&hellip;</td><td>&hellip;</td><td>&hellip;</td><td>&hellip;</td><td>&hellip;</td><td>&hellip;</td><td>&hellip;</td><td>&hellip;</td><td>&hellip;</td><td>&hellip;</td><td>&hellip;</td><td>&hellip;</td><td>&hellip;</td><td>&hellip;</td><td>&hellip;</td><td>&hellip;</td><td>&hellip;</td><td>&hellip;</td><td>&hellip;</td><td>&hellip;</td><td>&hellip;</td><td>&hellip;</td><td>&hellip;</td><td>&hellip;</td><td>&hellip;</td><td>&hellip;</td><td>&hellip;</td><td>&hellip;</td><td>&hellip;</td></tr><tr><td>69</td><td>&quot;AR031&quot;</td><td>null</td><td>1992</td><td>&quot;sct_248152002&quot;</td><td>null</td><td>null</td><td>&quot;sct_14045001&quot;</td><td>&quot;CS_MII_Person_…</td><td>null</td><td>null</td><td>&quot;sct_41847000&quot;</td><td>&quot;sct_1220561009…</td><td>null</td><td>null</td><td>&quot;2008-14-3&quot;</td><td>&quot;sct_1220561009…</td><td>null</td><td>&quot;sct_261665006&quot;</td><td>null</td><td>null</td><td>null</td><td>&quot;sct_410672004&quot;</td><td>2009.0</td><td>2.0</td><td>10.0</td><td>&quot;sct_1220561009…</td><td>null</td><td>&quot;sct_1220561009…</td><td>&quot;sct_1220561009…</td><td>&quot;sct_1220561009…</td><td>&quot;ORPHA:71529&quot;</td><td>null</td><td>&quot;E66.8&quot;</td><td>&quot;sct_1220561009…</td><td>null</td><td>null</td><td>&hellip;</td><td>null</td><td>null</td><td>&quot;sct_1220561009…</td><td>null</td><td>null</td><td>null</td><td>null</td><td>null</td><td>null</td><td>null</td><td>null</td><td>null</td><td>null</td><td>null</td><td>null</td><td>null</td><td>null</td><td>null</td><td>null</td><td>null</td><td>null</td><td>null</td><td>null</td><td>&quot;sct_1220561009…</td><td>&quot;sct_1220561009…</td><td>&quot;sct_1220561009…</td><td>&quot;sct_1220561009…</td><td>&quot;sct_1220561009…</td><td>&quot;sct_1220561009…</td><td>&quot;sct_1220561009…</td><td>&quot;sct_1220561009…</td><td>&quot;sct_1220561009…</td><td>&quot;sct_1220561009…</td><td>null</td><td>&quot;sct_1220561009…</td><td>null</td><td>null</td></tr><tr><td>74</td><td>&quot;NS015&quot;</td><td>null</td><td>1999</td><td>&quot;sct_248152002&quot;</td><td>null</td><td>null</td><td>&quot;sct_14045001&quot;</td><td>&quot;CS_MII_Person_…</td><td>null</td><td>null</td><td>&quot;sct_41847000&quot;</td><td>&quot;sct_1220561009…</td><td>null</td><td>null</td><td>&quot;2013-1-13&quot;</td><td>&quot;sct_1220561009…</td><td>null</td><td>&quot;sct_261665006&quot;</td><td>null</td><td>null</td><td>null</td><td>&quot;sct_410672004&quot;</td><td>2013.0</td><td>1.0</td><td>16.0</td><td>&quot;sct_1220561009…</td><td>null</td><td>&quot;sct_1220561009…</td><td>&quot;sct_1220561009…</td><td>&quot;sct_1220561009…</td><td>&quot;ORPHA:71529&quot;</td><td>null</td><td>&quot;E66.8&quot;</td><td>&quot;sct_1220561009…</td><td>null</td><td>null</td><td>&hellip;</td><td>null</td><td>null</td><td>&quot;sct_1220561009…</td><td>null</td><td>null</td><td>null</td><td>null</td><td>null</td><td>null</td><td>null</td><td>null</td><td>null</td><td>null</td><td>null</td><td>null</td><td>null</td><td>null</td><td>null</td><td>null</td><td>null</td><td>null</td><td>null</td><td>null</td><td>&quot;sct_1220561009…</td><td>&quot;sct_1220561009…</td><td>&quot;sct_1220561009…</td><td>&quot;sct_1220561009…</td><td>&quot;sct_1220561009…</td><td>&quot;sct_1220561009…</td><td>&quot;sct_1220561009…</td><td>&quot;sct_1220561009…</td><td>&quot;sct_1220561009…</td><td>&quot;sct_1220561009…</td><td>null</td><td>&quot;sct_1220561009…</td><td>null</td><td>null</td></tr><tr><td>88</td><td>&quot;LT067&quot;</td><td>null</td><td>2014</td><td>&quot;sct_248153007&quot;</td><td>null</td><td>null</td><td>&quot;sct_372148003_…</td><td>&quot;CS_MII_Person_…</td><td>null</td><td>null</td><td>&quot;sct_255398004&quot;</td><td>&quot;sct_1220561009…</td><td>null</td><td>null</td><td>&quot;2016-6-16&quot;</td><td>&quot;sct_1220561009…</td><td>null</td><td>&quot;sct_261665006&quot;</td><td>null</td><td>null</td><td>null</td><td>&quot;sct_410672004&quot;</td><td>2016.0</td><td>8.0</td><td>16.0</td><td>&quot;sct_1220561009…</td><td>null</td><td>&quot;sct_1220561009…</td><td>&quot;sct_1220561009…</td><td>&quot;sct_1220561009…</td><td>&quot;ORPHA:71529&quot;</td><td>null</td><td>&quot;E66.8&quot;</td><td>&quot;sct_1220561009…</td><td>null</td><td>null</td><td>&hellip;</td><td>null</td><td>null</td><td>&quot;sct_1220561009…</td><td>null</td><td>null</td><td>null</td><td>null</td><td>null</td><td>null</td><td>null</td><td>null</td><td>null</td><td>null</td><td>null</td><td>null</td><td>null</td><td>null</td><td>null</td><td>null</td><td>null</td><td>null</td><td>null</td><td>null</td><td>&quot;sct_1220561009…</td><td>&quot;sct_1220561009…</td><td>&quot;sct_1220561009…</td><td>&quot;sct_1220561009…</td><td>&quot;sct_1220561009…</td><td>&quot;sct_1220561009…</td><td>&quot;sct_1220561009…</td><td>&quot;sct_1220561009…</td><td>&quot;sct_1220561009…</td><td>&quot;sct_1220561009…</td><td>null</td><td>&quot;sct_1220561009…</td><td>null</td><td>null</td></tr><tr><td>12</td><td>&quot;NB069&quot;</td><td>null</td><td>2004</td><td>&quot;sct_248152002&quot;</td><td>null</td><td>null</td><td>&quot;sct_14045001&quot;</td><td>&quot;CS_MII_Person_…</td><td>null</td><td>null</td><td>&quot;sct_41847000&quot;</td><td>&quot;sct_1220561009…</td><td>null</td><td>null</td><td>&quot;2007-17-25&quot;</td><td>&quot;sct_1220561009…</td><td>null</td><td>&quot;sct_261665006&quot;</td><td>null</td><td>null</td><td>null</td><td>&quot;sct_410672004&quot;</td><td>2008.0</td><td>6.0</td><td>3.0</td><td>&quot;sct_1220561009…</td><td>null</td><td>&quot;sct_1220561009…</td><td>&quot;sct_1220561009…</td><td>&quot;sct_373067005&quot;</td><td>&quot;ORPHA:71529&quot;</td><td>null</td><td>&quot;E66.8&quot;</td><td>&quot;sct_1220561009…</td><td>null</td><td>null</td><td>&hellip;</td><td>null</td><td>null</td><td>&quot;sct_1220561009…</td><td>null</td><td>null</td><td>null</td><td>null</td><td>null</td><td>null</td><td>null</td><td>null</td><td>null</td><td>null</td><td>null</td><td>null</td><td>null</td><td>null</td><td>null</td><td>null</td><td>null</td><td>null</td><td>null</td><td>null</td><td>&quot;sct_1220561009…</td><td>&quot;sct_1220561009…</td><td>&quot;sct_1220561009…</td><td>&quot;sct_1220561009…</td><td>&quot;sct_1220561009…</td><td>&quot;sct_1220561009…</td><td>&quot;sct_1220561009…</td><td>&quot;sct_1220561009…</td><td>&quot;sct_1220561009…</td><td>&quot;sct_1220561009…</td><td>null</td><td>&quot;sct_1220561009…</td><td>null</td><td>null</td></tr><tr><td>22</td><td>&quot;YD053&quot;</td><td>null</td><td>1993</td><td>&quot;sct_248153007&quot;</td><td>null</td><td>null</td><td>&quot;sct_372148003_…</td><td>&quot;CS_MII_Person_…</td><td>null</td><td>null</td><td>&quot;sct_41847000&quot;</td><td>&quot;sct_1220561009…</td><td>null</td><td>null</td><td>&quot;2000-17-8&quot;</td><td>&quot;sct_1220561009…</td><td>null</td><td>&quot;sct_261665006&quot;</td><td>null</td><td>null</td><td>null</td><td>&quot;sct_410672004&quot;</td><td>2001.0</td><td>5.0</td><td>15.0</td><td>&quot;sct_1220561009…</td><td>null</td><td>&quot;sct_1220561009…</td><td>&quot;sct_1220561009…</td><td>&quot;sct_1220561009…</td><td>&quot;ORPHA:71529&quot;</td><td>null</td><td>&quot;E66.8&quot;</td><td>&quot;sct_1220561009…</td><td>null</td><td>null</td><td>&hellip;</td><td>null</td><td>null</td><td>&quot;sct_1220561009…</td><td>null</td><td>null</td><td>null</td><td>null</td><td>null</td><td>null</td><td>null</td><td>null</td><td>null</td><td>null</td><td>null</td><td>null</td><td>null</td><td>null</td><td>null</td><td>null</td><td>null</td><td>null</td><td>null</td><td>null</td><td>&quot;sct_1220561009…</td><td>&quot;sct_1220561009…</td><td>&quot;sct_1220561009…</td><td>&quot;sct_1220561009…</td><td>&quot;sct_1220561009…</td><td>&quot;sct_1220561009…</td><td>&quot;sct_1220561009…</td><td>&quot;sct_1220561009…</td><td>&quot;sct_1220561009…</td><td>&quot;sct_1220561009…</td><td>null</td><td>&quot;sct_1220561009…</td><td>null</td><td>null</td></tr><tr><td>25</td><td>&quot;FE037&quot;</td><td>null</td><td>1990</td><td>&quot;sct_248153007&quot;</td><td>null</td><td>null</td><td>&quot;sct_14045001&quot;</td><td>&quot;CS_MII_Person_…</td><td>null</td><td>null</td><td>&quot;sct_41847000&quot;</td><td>&quot;sct_1220561009…</td><td>null</td><td>null</td><td>&quot;2001-7-26&quot;</td><td>&quot;sct_1220561009…</td><td>null</td><td>&quot;sct_261665006&quot;</td><td>null</td><td>null</td><td>null</td><td>&quot;sct_410672004&quot;</td><td>2001.0</td><td>7.0</td><td>15.0</td><td>&quot;sct_1220561009…</td><td>null</td><td>&quot;sct_1220561009…</td><td>&quot;sct_1220561009…</td><td>&quot;sct_373067005&quot;</td><td>&quot;ORPHA:71529&quot;</td><td>null</td><td>&quot;E66.8&quot;</td><td>&quot;sct_1220561009…</td><td>null</td><td>null</td><td>&hellip;</td><td>null</td><td>null</td><td>&quot;sct_1220561009…</td><td>null</td><td>null</td><td>null</td><td>null</td><td>null</td><td>null</td><td>null</td><td>null</td><td>null</td><td>null</td><td>null</td><td>null</td><td>null</td><td>null</td><td>null</td><td>null</td><td>null</td><td>null</td><td>null</td><td>null</td><td>&quot;sct_1220561009…</td><td>&quot;sct_1220561009…</td><td>&quot;sct_1220561009…</td><td>&quot;sct_1220561009…</td><td>&quot;sct_1220561009…</td><td>&quot;sct_1220561009…</td><td>&quot;sct_1220561009…</td><td>&quot;sct_1220561009…</td><td>&quot;sct_1220561009…</td><td>&quot;sct_1220561009…</td><td>null</td><td>&quot;sct_1220561009…</td><td>null</td><td>null</td></tr><tr><td>37</td><td>&quot;XK057&quot;</td><td>null</td><td>2009</td><td>&quot;sct_248153007&quot;</td><td>null</td><td>null</td><td>&quot;sct_14045001&quot;</td><td>&quot;CS_MII_Person_…</td><td>null</td><td>null</td><td>&quot;sct_263659003&quot;</td><td>&quot;sct_1220561009…</td><td>null</td><td>null</td><td>&quot;2020-15-30&quot;</td><td>&quot;sct_1220561009…</td><td>null</td><td>&quot;sct_261665006&quot;</td><td>null</td><td>null</td><td>null</td><td>&quot;sct_410672004&quot;</td><td>2015.0</td><td>3.0</td><td>17.0</td><td>&quot;sct_1220561009…</td><td>null</td><td>&quot;sct_1220561009…</td><td>&quot;sct_1220561009…</td><td>&quot;sct_373067005&quot;</td><td>&quot;ORPHA:71529&quot;</td><td>null</td><td>&quot;E66.8&quot;</td><td>&quot;sct_1220561009…</td><td>null</td><td>null</td><td>&hellip;</td><td>null</td><td>null</td><td>&quot;sct_1220561009…</td><td>null</td><td>null</td><td>null</td><td>null</td><td>null</td><td>null</td><td>null</td><td>null</td><td>null</td><td>null</td><td>null</td><td>null</td><td>null</td><td>null</td><td>null</td><td>null</td><td>null</td><td>null</td><td>null</td><td>null</td><td>&quot;sct_1220561009…</td><td>&quot;sct_1220561009…</td><td>&quot;sct_1220561009…</td><td>&quot;sct_1220561009…</td><td>&quot;sct_1220561009…</td><td>&quot;sct_1220561009…</td><td>&quot;sct_1220561009…</td><td>&quot;sct_1220561009…</td><td>&quot;sct_1220561009…</td><td>&quot;sct_1220561009…</td><td>null</td><td>&quot;sct_1220561009…</td><td>null</td><td>null</td></tr><tr><td>56</td><td>&quot;AM030&quot;</td><td>null</td><td>1993</td><td>&quot;sct_248152002&quot;</td><td>null</td><td>null</td><td>&quot;sct_14045001&quot;</td><td>&quot;CS_MII_Person_…</td><td>null</td><td>null</td><td>&quot;sct_41847000&quot;</td><td>&quot;sct_1220561009…</td><td>null</td><td>null</td><td>&quot;2009-13-18&quot;</td><td>&quot;sct_1220561009…</td><td>null</td><td>&quot;sct_261665006&quot;</td><td>null</td><td>null</td><td>null</td><td>&quot;sct_410672004&quot;</td><td>2010.0</td><td>1.0</td><td>19.0</td><td>&quot;sct_1220561009…</td><td>null</td><td>&quot;sct_1220561009…</td><td>&quot;sct_1220561009…</td><td>&quot;sct_373067005&quot;</td><td>&quot;ORPHA:71529&quot;</td><td>null</td><td>&quot;E66.8&quot;</td><td>&quot;sct_1220561009…</td><td>null</td><td>null</td><td>&hellip;</td><td>null</td><td>null</td><td>&quot;sct_1220561009…</td><td>null</td><td>null</td><td>null</td><td>null</td><td>null</td><td>null</td><td>null</td><td>null</td><td>null</td><td>null</td><td>null</td><td>null</td><td>null</td><td>null</td><td>null</td><td>null</td><td>null</td><td>null</td><td>null</td><td>null</td><td>&quot;sct_1220561009…</td><td>&quot;sct_1220561009…</td><td>&quot;sct_1220561009…</td><td>&quot;sct_1220561009…</td><td>&quot;sct_1220561009…</td><td>&quot;sct_1220561009…</td><td>&quot;sct_1220561009…</td><td>&quot;sct_1220561009…</td><td>&quot;sct_1220561009…</td><td>&quot;sct_1220561009…</td><td>null</td><td>&quot;sct_1220561009…</td><td>null</td><td>null</td></tr><tr><td>63</td><td>&quot;EP039&quot;</td><td>null</td><td>1999</td><td>&quot;sct_248152002&quot;</td><td>null</td><td>null</td><td>&quot;sct_372148003_…</td><td>&quot;CS_MII_Person_…</td><td>null</td><td>null</td><td>&quot;sct_41847000&quot;</td><td>&quot;sct_1220561009…</td><td>null</td><td>null</td><td>&quot;2007-17-20&quot;</td><td>&quot;sct_1220561009…</td><td>null</td><td>&quot;sct_261665006&quot;</td><td>null</td><td>null</td><td>null</td><td>&quot;sct_410672004&quot;</td><td>2008.0</td><td>6.0</td><td>9.0</td><td>&quot;sct_1220561009…</td><td>null</td><td>&quot;sct_1220561009…</td><td>&quot;sct_1220561009…</td><td>&quot;sct_373067005&quot;</td><td>&quot;ORPHA:71529&quot;</td><td>null</td><td>&quot;E66.8&quot;</td><td>&quot;sct_1220561009…</td><td>null</td><td>null</td><td>&hellip;</td><td>null</td><td>null</td><td>&quot;sct_1220561009…</td><td>null</td><td>null</td><td>null</td><td>null</td><td>null</td><td>null</td><td>null</td><td>null</td><td>null</td><td>null</td><td>null</td><td>null</td><td>null</td><td>null</td><td>null</td><td>null</td><td>null</td><td>null</td><td>null</td><td>null</td><td>&quot;sct_1220561009…</td><td>&quot;sct_1220561009…</td><td>&quot;sct_1220561009…</td><td>&quot;sct_1220561009…</td><td>&quot;sct_1220561009…</td><td>&quot;sct_1220561009…</td><td>&quot;sct_1220561009…</td><td>&quot;sct_1220561009…</td><td>&quot;sct_1220561009…</td><td>&quot;sct_1220561009…</td><td>null</td><td>&quot;sct_1220561009…</td><td>null</td><td>null</td></tr><tr><td>84</td><td>&quot;HT051&quot;</td><td>null</td><td>1996</td><td>&quot;sct_248152002&quot;</td><td>null</td><td>null</td><td>&quot;sct_14045001&quot;</td><td>&quot;CS_MII_Person_…</td><td>null</td><td>null</td><td>&quot;sct_41847000&quot;</td><td>&quot;sct_1220561009…</td><td>null</td><td>null</td><td>&quot;2013-13-25&quot;</td><td>&quot;sct_1220561009…</td><td>null</td><td>&quot;sct_261665006&quot;</td><td>null</td><td>null</td><td>null</td><td>&quot;sct_410672004&quot;</td><td>2014.0</td><td>1.0</td><td>21.0</td><td>&quot;sct_1220561009…</td><td>null</td><td>&quot;sct_1220561009…</td><td>&quot;sct_1220561009…</td><td>&quot;sct_373067005&quot;</td><td>&quot;ORPHA:71529&quot;</td><td>null</td><td>&quot;E66.8&quot;</td><td>&quot;sct_1220561009…</td><td>null</td><td>null</td><td>&hellip;</td><td>null</td><td>null</td><td>&quot;sct_1220561009…</td><td>null</td><td>null</td><td>null</td><td>null</td><td>null</td><td>null</td><td>null</td><td>null</td><td>null</td><td>null</td><td>null</td><td>null</td><td>null</td><td>null</td><td>null</td><td>null</td><td>null</td><td>null</td><td>null</td><td>null</td><td>&quot;sct_1220561009…</td><td>&quot;sct_1220561009…</td><td>&quot;sct_1220561009…</td><td>&quot;sct_1220561009…</td><td>&quot;sct_1220561009…</td><td>&quot;sct_1220561009…</td><td>&quot;sct_1220561009…</td><td>&quot;sct_1220561009…</td><td>&quot;sct_1220561009…</td><td>&quot;sct_1220561009…</td><td>null</td><td>&quot;sct_1220561009…</td><td>null</td><td>null</td></tr><tr><td>90</td><td>&quot;RV026&quot;</td><td>null</td><td>1992</td><td>&quot;sct_248152002&quot;</td><td>null</td><td>null</td><td>&quot;sct_372148003_…</td><td>&quot;CS_MII_Person_…</td><td>null</td><td>null</td><td>&quot;sct_41847000&quot;</td><td>&quot;sct_1220561009…</td><td>null</td><td>null</td><td>&quot;2003-2-30&quot;</td><td>&quot;sct_1220561009…</td><td>null</td><td>&quot;sct_261665006&quot;</td><td>null</td><td>null</td><td>null</td><td>&quot;sct_410672004&quot;</td><td>2003.0</td><td>3.0</td><td>19.0</td><td>&quot;sct_1220561009…</td><td>null</td><td>&quot;sct_1220561009…</td><td>&quot;sct_1220561009…</td><td>&quot;sct_1220561009…</td><td>&quot;ORPHA:71529&quot;</td><td>null</td><td>&quot;E66.8&quot;</td><td>&quot;sct_1220561009…</td><td>null</td><td>null</td><td>&hellip;</td><td>null</td><td>null</td><td>&quot;sct_1220561009…</td><td>null</td><td>null</td><td>null</td><td>null</td><td>null</td><td>null</td><td>null</td><td>null</td><td>null</td><td>null</td><td>null</td><td>null</td><td>null</td><td>null</td><td>null</td><td>null</td><td>null</td><td>null</td><td>null</td><td>null</td><td>&quot;sct_1220561009…</td><td>&quot;sct_1220561009…</td><td>&quot;sct_1220561009…</td><td>&quot;sct_1220561009…</td><td>&quot;sct_1220561009…</td><td>&quot;sct_1220561009…</td><td>&quot;sct_1220561009…</td><td>&quot;sct_1220561009…</td><td>&quot;sct_1220561009…</td><td>&quot;sct_1220561009…</td><td>null</td><td>&quot;sct_1220561009…</td><td>null</td><td>null</td></tr><tr><td>93</td><td>&quot;AW018&quot;</td><td>null</td><td>1993</td><td>&quot;sct_248152002&quot;</td><td>null</td><td>null</td><td>&quot;sct_14045001&quot;</td><td>&quot;CS_MII_Person_…</td><td>null</td><td>null</td><td>&quot;sct_41847000&quot;</td><td>&quot;sct_1220561009…</td><td>null</td><td>null</td><td>&quot;2004-15-25&quot;</td><td>&quot;sct_1220561009…</td><td>null</td><td>&quot;sct_261665006&quot;</td><td>null</td><td>null</td><td>null</td><td>&quot;sct_410672004&quot;</td><td>2007.0</td><td>3.0</td><td>27.0</td><td>&quot;sct_1220561009…</td><td>null</td><td>&quot;sct_1220561009…</td><td>&quot;sct_1220561009…</td><td>&quot;sct_1220561009…</td><td>&quot;ORPHA:71529&quot;</td><td>null</td><td>&quot;E66.8&quot;</td><td>&quot;sct_1220561009…</td><td>null</td><td>null</td><td>&hellip;</td><td>null</td><td>null</td><td>&quot;sct_1220561009…</td><td>null</td><td>null</td><td>null</td><td>null</td><td>null</td><td>null</td><td>null</td><td>null</td><td>null</td><td>null</td><td>null</td><td>null</td><td>null</td><td>null</td><td>null</td><td>null</td><td>null</td><td>null</td><td>null</td><td>null</td><td>&quot;sct_1220561009…</td><td>&quot;sct_1220561009…</td><td>&quot;sct_1220561009…</td><td>&quot;sct_1220561009…</td><td>&quot;sct_1220561009…</td><td>&quot;sct_1220561009…</td><td>&quot;sct_1220561009…</td><td>&quot;sct_1220561009…</td><td>&quot;sct_1220561009…</td><td>&quot;sct_1220561009…</td><td>null</td><td>&quot;sct_1220561009…</td><td>null</td><td>null</td></tr></tbody></table></div>"
      ],
      "text/plain": [
       "shape: (98, 317)\n",
       "┌───────────┬───────────┬───────────┬───────────┬───┬───────────┬───────────┬───────────┬──────────┐\n",
       "│ record_id ┆ sct_42254 ┆ sct_39942 ┆ sct_18409 ┆ … ┆ sct_84056 ┆ sct_21134 ┆ sct_21134 ┆ erker_v1 │\n",
       "│ ---       ┆ 9004      ┆ 3000      ┆ 9003_y    ┆   ┆ 6006_spec ┆ 002_class ┆ 002_score ┆ 5_comple │\n",
       "│ i64       ┆ ---       ┆ ---       ┆ ---       ┆   ┆ ific      ┆ ---       ┆ ---       ┆ te       │\n",
       "│           ┆ str       ┆ str       ┆ i64       ┆   ┆ ---       ┆ str       ┆ str       ┆ ---      │\n",
       "│           ┆           ┆           ┆           ┆   ┆ str       ┆           ┆           ┆ str      │\n",
       "╞═══════════╪═══════════╪═══════════╪═══════════╪═══╪═══════════╪═══════════╪═══════════╪══════════╡\n",
       "│ 2         ┆ YA074     ┆ null      ┆ 2002      ┆ … ┆ null      ┆ sct_12205 ┆ null      ┆ null     │\n",
       "│           ┆           ┆           ┆           ┆   ┆           ┆ 61009     ┆           ┆          │\n",
       "│ 14        ┆ AB043     ┆ null      ┆ 1999      ┆ … ┆ null      ┆ sct_12205 ┆ null      ┆ null     │\n",
       "│           ┆           ┆           ┆           ┆   ┆           ┆ 61009     ┆           ┆          │\n",
       "│ 15        ┆ LB004     ┆ null      ┆ 2000      ┆ … ┆ null      ┆ sct_12205 ┆ null      ┆ null     │\n",
       "│           ┆           ┆           ┆           ┆   ┆           ┆ 61009     ┆           ┆          │\n",
       "│ 19        ┆ HC046     ┆ null      ┆ 1994      ┆ … ┆ null      ┆ sct_12205 ┆ null      ┆ null     │\n",
       "│           ┆           ┆           ┆           ┆   ┆           ┆ 61009     ┆           ┆          │\n",
       "│ …         ┆ …         ┆ …         ┆ …         ┆ … ┆ …         ┆ …         ┆ …         ┆ …        │\n",
       "│ 63        ┆ EP039     ┆ null      ┆ 1999      ┆ … ┆ null      ┆ sct_12205 ┆ null      ┆ null     │\n",
       "│           ┆           ┆           ┆           ┆   ┆           ┆ 61009     ┆           ┆          │\n",
       "│ 84        ┆ HT051     ┆ null      ┆ 1996      ┆ … ┆ null      ┆ sct_12205 ┆ null      ┆ null     │\n",
       "│           ┆           ┆           ┆           ┆   ┆           ┆ 61009     ┆           ┆          │\n",
       "│ 90        ┆ RV026     ┆ null      ┆ 1992      ┆ … ┆ null      ┆ sct_12205 ┆ null      ┆ null     │\n",
       "│           ┆           ┆           ┆           ┆   ┆           ┆ 61009     ┆           ┆          │\n",
       "│ 93        ┆ AW018     ┆ null      ┆ 1993      ┆ … ┆ null      ┆ sct_12205 ┆ null      ┆ null     │\n",
       "│           ┆           ┆           ┆           ┆   ┆           ┆ 61009     ┆           ┆          │\n",
       "└───────────┴───────────┴───────────┴───────────┴───┴───────────┴───────────┴───────────┴──────────┘"
      ]
     },
     "execution_count": 59,
     "metadata": {},
     "output_type": "execute_result"
    }
   ],
   "source": [
    "df.unique()"
   ]
  },
  {
   "cell_type": "markdown",
   "metadata": {
    "collapsed": false
   },
   "source": [
    "#### Get number of null values for each column"
   ]
  },
  {
   "cell_type": "code",
   "execution_count": 60,
   "metadata": {
    "ExecuteTime": {
     "end_time": "2023-08-31T16:35:29.072267Z",
     "start_time": "2023-08-31T16:35:29.041618Z"
    },
    "collapsed": false
   },
   "outputs": [
    {
     "name": "stdout",
     "output_type": "stream",
     "text": [
      "There are 230/317 columns with only null values in the data\n",
      "There are 261/317 columns with at least one null value in the data\n"
     ]
    },
    {
     "data": {
      "text/html": [
       "<div><style>\n",
       ".dataframe > thead > tr > th,\n",
       ".dataframe > tbody > tr > td {\n",
       "  text-align: right;\n",
       "}\n",
       "</style>\n",
       "<small>shape: (261, 3)</small><table border=\"1\" class=\"dataframe\"><thead><tr><th>variable</th><th>null_count</th><th>all_null</th></tr><tr><td>str</td><td>u32</td><td>bool</td></tr></thead><tbody><tr><td>&quot;sct_399423000&quot;</td><td>98</td><td>false</td></tr><tr><td>&quot;sct_263495000&quot;</td><td>98</td><td>false</td></tr><tr><td>&quot;sct_315354004&quot;</td><td>98</td><td>false</td></tr><tr><td>&quot;sct_364699009&quot;</td><td>3</td><td>false</td></tr><tr><td>&quot;sct_399753006&quot;</td><td>98</td><td>false</td></tr><tr><td>&quot;sct_420259009&quot;</td><td>98</td><td>false</td></tr><tr><td>&quot;sct_16100001&quot;</td><td>98</td><td>false</td></tr><tr><td>&quot;sct_16100001_s…</td><td>98</td><td>false</td></tr><tr><td>&quot;sct_276239002_…</td><td>98</td><td>false</td></tr><tr><td>&quot;sct_405795006_…</td><td>98</td><td>false</td></tr><tr><td>&quot;sct_405795006_…</td><td>98</td><td>false</td></tr><tr><td>&quot;sct_405795006_…</td><td>98</td><td>false</td></tr><tr><td>&hellip;</td><td>&hellip;</td><td>&hellip;</td></tr><tr><td>&quot;sct_75226009_6…</td><td>98</td><td>false</td></tr><tr><td>&quot;sct_75226009_7…</td><td>98</td><td>false</td></tr><tr><td>&quot;sct_75226009_7…</td><td>98</td><td>false</td></tr><tr><td>&quot;sct_75226009_8…</td><td>98</td><td>false</td></tr><tr><td>&quot;sct_75226009_8…</td><td>98</td><td>false</td></tr><tr><td>&quot;sct_75226009_9…</td><td>98</td><td>false</td></tr><tr><td>&quot;sct_75226009_9…</td><td>98</td><td>false</td></tr><tr><td>&quot;sct_75226009_1…</td><td>98</td><td>false</td></tr><tr><td>&quot;sct_75226009_1…</td><td>98</td><td>false</td></tr><tr><td>&quot;sct_840566006_…</td><td>98</td><td>false</td></tr><tr><td>&quot;sct_21134002_s…</td><td>98</td><td>false</td></tr><tr><td>&quot;erker_v15_comp…</td><td>98</td><td>false</td></tr></tbody></table></div>"
      ],
      "text/plain": [
       "shape: (261, 3)\n",
       "┌────────────────────────┬────────────┬──────────┐\n",
       "│ variable               ┆ null_count ┆ all_null │\n",
       "│ ---                    ┆ ---        ┆ ---      │\n",
       "│ str                    ┆ u32        ┆ bool     │\n",
       "╞════════════════════════╪════════════╪══════════╡\n",
       "│ sct_399423000          ┆ 98         ┆ false    │\n",
       "│ sct_263495000          ┆ 98         ┆ false    │\n",
       "│ sct_315354004          ┆ 98         ┆ false    │\n",
       "│ sct_364699009          ┆ 3          ┆ false    │\n",
       "│ …                      ┆ …          ┆ …        │\n",
       "│ sct_75226009_10_gender ┆ 98         ┆ false    │\n",
       "│ sct_840566006_specific ┆ 98         ┆ false    │\n",
       "│ sct_21134002_score     ┆ 98         ┆ false    │\n",
       "│ erker_v15_complete     ┆ 98         ┆ false    │\n",
       "└────────────────────────┴────────────┴──────────┘"
      ]
     },
     "execution_count": 60,
     "metadata": {},
     "output_type": "execute_result"
    }
   ],
   "source": [
    "PolarsUtils.null_value_analysis(df, verbose=True)"
   ]
  },
  {
   "cell_type": "markdown",
   "metadata": {
    "collapsed": false
   },
   "source": [
    "## Preprocessing\n",
    "- remove null colus\n",
    "- clean up data\n",
    "- add id col to data (col name `'mc4r_id'`)"
   ]
  },
  {
   "cell_type": "markdown",
   "metadata": {
    "collapsed": false
   },
   "source": [
    "### Remove null cols"
   ]
  },
  {
   "cell_type": "code",
   "execution_count": 61,
   "metadata": {
    "ExecuteTime": {
     "end_time": "2023-08-31T16:35:29.213329Z",
     "start_time": "2023-08-31T16:35:29.056631Z"
    },
    "collapsed": false
   },
   "outputs": [
    {
     "name": "stdout",
     "output_type": "stream",
     "text": [
      "Dropped 230 columns. 87 columns remaining.\n"
     ]
    },
    {
     "data": {
      "text/html": [
       "<div><style>\n",
       ".dataframe > thead > tr > th,\n",
       ".dataframe > tbody > tr > td {\n",
       "  text-align: right;\n",
       "}\n",
       "</style>\n",
       "<small>shape: (5, 87)</small><table border=\"1\" class=\"dataframe\"><thead><tr><th>record_id</th><th>sct_422549004</th><th>sct_184099003_y</th><th>sct_281053000</th><th>sct_364699009</th><th>sct_278844005</th><th>sct_767023003</th><th>sct_184305005_rd</th><th>sct_769681006_center</th><th>sct_440377005</th><th>sct_424850005</th><th>sct_423493009</th><th>sct_432213005_y</th><th>sct_432213005_m</th><th>sct_432213005_d</th><th>sct_717800004</th><th>sct_64245008</th><th>sct_125679009_proposit</th><th>sct_842009</th><th>sct_439401001_orpha</th><th>sct_439401001_icd10gm</th><th>sct_439401001_alphaid</th><th>sct_432213005</th><th>sct_263493007</th><th>sct_116694002</th><th>sct_246454002</th><th>sct_439401001_ver</th><th>sct_103330002</th><th>sct_439401001_val</th><th>sct_39154008_hpo</th><th>sct_406522009</th><th>ln_48007_9</th><th>ln_48007_9_mitoch</th><th>sct_439401001_gen_val</th><th>ln_ll4048_6</th><th>sct_439401001_omim_g_1</th><th>sct_439401001_omim_g_2</th><th>&hellip;</th><th>ln_48018_6_2</th><th>ln_48002_0_2</th><th>ln_48019_4_2</th><th>ln_53037_8_2</th><th>ln_62374_4_3</th><th>sct_55446002_str_3</th><th>ln_48004_6_3</th><th>ln_48005_3_3</th><th>ln_48018_6_3</th><th>ln_48002_0_3</th><th>ln_48019_4_3</th><th>ln_53037_8_3</th><th>sct_8116006_1</th><th>sct_8116006_1_date</th><th>sct_8116006_2</th><th>sct_8116006_2_date</th><th>sct_8116006_3</th><th>sct_8116006_3_date</th><th>sct_8116006_4</th><th>sct_8116006_4_date</th><th>sct_72705000_rd</th><th>sct_160430005</th><th>sct_66839005_rd</th><th>sct_160436004</th><th>sct_82101005_rd</th><th>sct_75226009_rd</th><th>sct_309370004_research</th><th>sct_309370004_narse</th><th>sct_309370004_data</th><th>sct_309370004_eu</th><th>sct_309370004_int</th><th>sct_309370004_aff</th><th>sct_309370004_gen</th><th>sct_309370004_case</th><th>sct_123038009</th><th>sct_840566006</th><th>sct_21134002_class</th></tr><tr><td>i64</td><td>str</td><td>i64</td><td>str</td><td>str</td><td>str</td><td>str</td><td>str</td><td>str</td><td>str</td><td>str</td><td>str</td><td>f64</td><td>f64</td><td>f64</td><td>str</td><td>str</td><td>str</td><td>str</td><td>str</td><td>str</td><td>str</td><td>str</td><td>str</td><td>str</td><td>str</td><td>str</td><td>str</td><td>str</td><td>str</td><td>str</td><td>str</td><td>str</td><td>str</td><td>str</td><td>str</td><td>str</td><td>&hellip;</td><td>str</td><td>str</td><td>str</td><td>str</td><td>str</td><td>str</td><td>str</td><td>str</td><td>str</td><td>str</td><td>str</td><td>str</td><td>str</td><td>str</td><td>str</td><td>str</td><td>str</td><td>str</td><td>str</td><td>str</td><td>str</td><td>str</td><td>str</td><td>str</td><td>str</td><td>str</td><td>str</td><td>str</td><td>str</td><td>str</td><td>str</td><td>str</td><td>str</td><td>str</td><td>str</td><td>str</td><td>str</td></tr></thead><tbody><tr><td>1</td><td>&quot;FA062&quot;</td><td>2001</td><td>&quot;sct_248153007&quot;</td><td>&quot;sct_90027003&quot;</td><td>&quot;CS_MII_Person_…</td><td>&quot;sct_41847000&quot;</td><td>&quot;sct_1220561009…</td><td>&quot;2007-13-24&quot;</td><td>&quot;sct_1220561009…</td><td>&quot;sct_261665006&quot;</td><td>&quot;sct_410672004&quot;</td><td>2008.0</td><td>1.0</td><td>23.0</td><td>&quot;sct_1220561009…</td><td>&quot;sct_1220561009…</td><td>&quot;sct_1220561009…</td><td>&quot;sct_373066001&quot;</td><td>&quot;ORPHA:71529&quot;</td><td>&quot;E66.8&quot;</td><td>&quot;sct_1220561009…</td><td>&quot;2008-01-23&quot;</td><td>&quot;sct_1220561009…</td><td>&quot;sct_1220561009…</td><td>&quot;sct_1220561009…</td><td>&quot;hl7_conditionv…</td><td>&quot;sct_373067005&quot;</td><td>&quot;sct_439401001_…</td><td>&quot;sct_373066001&quot;</td><td>&quot;sct_1220561009…</td><td>&quot;ln_LA6706-1&quot;</td><td>&quot;sct_1220561009…</td><td>&quot;sct_373066001&quot;</td><td>&quot;sct_1220561009…</td><td>&quot;&quot;155541.0024&quot;&quot;</td><td>&quot;&quot;nan&quot;&quot;</td><td>&hellip;</td><td>&quot;HGNC:6932&quot;</td><td>null</td><td>null</td><td>null</td><td>&quot;ln_LA26806-2&quot;</td><td>null</td><td>null</td><td>null</td><td>&quot;HGNC:6932&quot;</td><td>null</td><td>null</td><td>null</td><td>&quot;HP:0025500&quot;</td><td>&quot;2003-06-24&quot;</td><td>&quot;HP:0025501&quot;</td><td>&quot;2001-08-24&quot;</td><td>&quot;HP:0025499&quot;</td><td>&quot;2006-10-24&quot;</td><td>null</td><td>null</td><td>&quot;sct_1220561009…</td><td>&quot;sct_1220561009…</td><td>&quot;sct_1220561009…</td><td>&quot;sct_1220561009…</td><td>&quot;sct_1220561009…</td><td>&quot;sct_1220561009…</td><td>&quot;sct_1220561009…</td><td>&quot;sct_1220561009…</td><td>&quot;sct_1220561009…</td><td>&quot;sct_1220561009…</td><td>&quot;sct_1220561009…</td><td>&quot;sct_1220561009…</td><td>&quot;sct_1220561009…</td><td>&quot;sct_1220561009…</td><td>&quot;sct_1220561009…</td><td>&quot;sct_1220561009…</td><td>&quot;sct_1220561009…</td></tr><tr><td>2</td><td>&quot;YA074&quot;</td><td>2002</td><td>&quot;sct_248152002&quot;</td><td>&quot;sct_372148003_…</td><td>&quot;CS_MII_Person_…</td><td>&quot;sct_41847000&quot;</td><td>&quot;sct_1220561009…</td><td>&quot;2011-10-21&quot;</td><td>&quot;sct_1220561009…</td><td>&quot;sct_261665006&quot;</td><td>&quot;sct_410672004&quot;</td><td>2011.0</td><td>4.0</td><td>18.0</td><td>&quot;sct_1220561009…</td><td>&quot;sct_1220561009…</td><td>&quot;sct_1220561009…</td><td>&quot;sct_1220561009…</td><td>&quot;ORPHA:71529&quot;</td><td>&quot;E66.8&quot;</td><td>&quot;sct_1220561009…</td><td>&quot;2011-04-18&quot;</td><td>&quot;sct_1220561009…</td><td>&quot;sct_1220561009…</td><td>&quot;sct_1220561009…</td><td>&quot;hl7_conditionv…</td><td>&quot;sct_373067005&quot;</td><td>&quot;sct_439401001_…</td><td>&quot;sct_373066001&quot;</td><td>&quot;sct_1220561009…</td><td>&quot;ln_LA6706-1&quot;</td><td>&quot;sct_1220561009…</td><td>&quot;sct_373066001&quot;</td><td>&quot;sct_1220561009…</td><td>&quot;&quot;155541.0024&quot;&quot;</td><td>&quot;&quot;nan&quot;&quot;</td><td>&hellip;</td><td>&quot;HGNC:6932&quot;</td><td>null</td><td>null</td><td>null</td><td>&quot;ln_LA26806-2&quot;</td><td>null</td><td>null</td><td>null</td><td>&quot;HGNC:6932&quot;</td><td>null</td><td>null</td><td>null</td><td>&quot;HP:0025499&quot;</td><td>&quot;2004-07-21&quot;</td><td>null</td><td>null</td><td>null</td><td>null</td><td>null</td><td>null</td><td>&quot;sct_1220561009…</td><td>&quot;sct_1220561009…</td><td>&quot;sct_1220561009…</td><td>&quot;sct_1220561009…</td><td>&quot;sct_1220561009…</td><td>&quot;sct_1220561009…</td><td>&quot;sct_1220561009…</td><td>&quot;sct_1220561009…</td><td>&quot;sct_1220561009…</td><td>&quot;sct_1220561009…</td><td>&quot;sct_1220561009…</td><td>&quot;sct_1220561009…</td><td>&quot;sct_1220561009…</td><td>&quot;sct_1220561009…</td><td>&quot;sct_1220561009…</td><td>&quot;sct_1220561009…</td><td>&quot;sct_1220561009…</td></tr><tr><td>3</td><td>&quot;SA099&quot;</td><td>2002</td><td>&quot;sct_248153007&quot;</td><td>&quot;sct_14045001&quot;</td><td>&quot;CS_MII_Person_…</td><td>&quot;sct_41847000&quot;</td><td>&quot;sct_1220561009…</td><td>&quot;2002-7-23&quot;</td><td>&quot;sct_1220561009…</td><td>&quot;sct_261665006&quot;</td><td>&quot;sct_261665006&quot;</td><td>null</td><td>null</td><td>null</td><td>&quot;sct_1220561009…</td><td>&quot;sct_1220561009…</td><td>&quot;sct_1220561009…</td><td>&quot;sct_1220561009…</td><td>&quot;ORPHA:71529&quot;</td><td>&quot;E66.8&quot;</td><td>&quot;sct_1220561009…</td><td>null</td><td>&quot;sct_1220561009…</td><td>&quot;sct_1220561009…</td><td>&quot;sct_1220561009…</td><td>&quot;hl7_conditionv…</td><td>&quot;sct_373067005&quot;</td><td>&quot;sct_439401001_…</td><td>&quot;sct_373066001&quot;</td><td>&quot;sct_1220561009…</td><td>&quot;sct_1220561009…</td><td>&quot;sct_1220561009…</td><td>&quot;sct_373066001&quot;</td><td>&quot;sct_1220561009…</td><td>&quot;&quot;nan&quot;&quot;</td><td>&quot;&quot;nan&quot;&quot;</td><td>&hellip;</td><td>&quot;HGNC:6932&quot;</td><td>null</td><td>null</td><td>null</td><td>&quot;ln_LA26806-2&quot;</td><td>null</td><td>null</td><td>null</td><td>&quot;HGNC:6932&quot;</td><td>null</td><td>null</td><td>null</td><td>&quot;HP:0025502&quot;</td><td>&quot;2006-09-23&quot;</td><td>&quot;HP:0025499&quot;</td><td>&quot;2007-10-23&quot;</td><td>null</td><td>null</td><td>null</td><td>null</td><td>&quot;sct_1220561009…</td><td>&quot;sct_1220561009…</td><td>&quot;sct_1220561009…</td><td>&quot;sct_1220561009…</td><td>&quot;sct_1220561009…</td><td>&quot;sct_1220561009…</td><td>&quot;sct_1220561009…</td><td>&quot;sct_1220561009…</td><td>&quot;sct_1220561009…</td><td>&quot;sct_1220561009…</td><td>&quot;sct_1220561009…</td><td>&quot;sct_1220561009…</td><td>&quot;sct_1220561009…</td><td>&quot;sct_1220561009…</td><td>&quot;sct_1220561009…</td><td>&quot;sct_1220561009…</td><td>&quot;sct_1220561009…</td></tr><tr><td>4</td><td>&quot;EA102&quot;</td><td>2007</td><td>&quot;sct_248152002&quot;</td><td>&quot;sct_372148003_…</td><td>&quot;CS_MII_Person_…</td><td>&quot;sct_263659003&quot;</td><td>&quot;sct_1220561009…</td><td>&quot;2018-9-26&quot;</td><td>&quot;sct_1220561009…</td><td>&quot;sct_261665006&quot;</td><td>&quot;sct_410672004&quot;</td><td>2018.0</td><td>10.0</td><td>17.0</td><td>&quot;sct_1220561009…</td><td>&quot;sct_1220561009…</td><td>&quot;sct_1220561009…</td><td>&quot;sct_373067005&quot;</td><td>&quot;ORPHA:71529&quot;</td><td>&quot;E66.8&quot;</td><td>&quot;sct_1220561009…</td><td>&quot;2018-10-17&quot;</td><td>&quot;sct_1220561009…</td><td>&quot;sct_1220561009…</td><td>&quot;sct_1220561009…</td><td>&quot;hl7_conditionv…</td><td>&quot;sct_373067005&quot;</td><td>&quot;sct_439401001_…</td><td>&quot;sct_373066001&quot;</td><td>&quot;sct_1220561009…</td><td>&quot;ln_LA6706-1&quot;</td><td>&quot;sct_1220561009…</td><td>&quot;sct_373066001&quot;</td><td>&quot;sct_1220561009…</td><td>&quot;&quot;155541.0021&quot;&quot;</td><td>&quot;&quot;nan&quot;&quot;</td><td>&hellip;</td><td>&quot;HGNC:6932&quot;</td><td>null</td><td>null</td><td>null</td><td>&quot;ln_LA26806-2&quot;</td><td>null</td><td>null</td><td>null</td><td>&quot;HGNC:6932&quot;</td><td>null</td><td>null</td><td>null</td><td>&quot;HP:0025499&quot;</td><td>&quot;2008-01-26&quot;</td><td>&quot;HP:0025500&quot;</td><td>&quot;2009-01-26&quot;</td><td>&quot;HP:0025500&quot;</td><td>&quot;2010-10-26&quot;</td><td>&quot;HP:0025500&quot;</td><td>&quot;2012-01-26&quot;</td><td>&quot;sct_1220561009…</td><td>&quot;sct_1220561009…</td><td>&quot;sct_1220561009…</td><td>&quot;sct_1220561009…</td><td>&quot;sct_1220561009…</td><td>&quot;sct_1220561009…</td><td>&quot;sct_1220561009…</td><td>&quot;sct_1220561009…</td><td>&quot;sct_1220561009…</td><td>&quot;sct_1220561009…</td><td>&quot;sct_1220561009…</td><td>&quot;sct_1220561009…</td><td>&quot;sct_1220561009…</td><td>&quot;sct_1220561009…</td><td>&quot;sct_1220561009…</td><td>&quot;sct_1220561009…</td><td>&quot;sct_1220561009…</td></tr><tr><td>5</td><td>&quot;AA070&quot;</td><td>2000</td><td>&quot;sct_248152002&quot;</td><td>&quot;sct_372148003_…</td><td>&quot;CS_MII_Person_…</td><td>&quot;sct_41847000&quot;</td><td>&quot;sct_1220561009…</td><td>&quot;2009-4-17&quot;</td><td>&quot;sct_1220561009…</td><td>&quot;sct_261665006&quot;</td><td>&quot;sct_410672004&quot;</td><td>2009.0</td><td>7.0</td><td>5.0</td><td>&quot;sct_1220561009…</td><td>&quot;sct_1220561009…</td><td>&quot;sct_1220561009…</td><td>&quot;sct_1220561009…</td><td>&quot;ORPHA:71529&quot;</td><td>&quot;E66.8&quot;</td><td>&quot;sct_1220561009…</td><td>&quot;2009-07-05&quot;</td><td>&quot;sct_1220561009…</td><td>&quot;sct_1220561009…</td><td>&quot;sct_1220561009…</td><td>&quot;hl7_conditionv…</td><td>&quot;sct_373067005&quot;</td><td>&quot;sct_439401001_…</td><td>&quot;sct_373066001&quot;</td><td>&quot;sct_1220561009…</td><td>&quot;ln_LA6706-1&quot;</td><td>&quot;sct_1220561009…</td><td>&quot;sct_373066001&quot;</td><td>&quot;sct_1220561009…</td><td>&quot;&quot;nan&quot;&quot;</td><td>&quot;&quot;nan&quot;&quot;</td><td>&hellip;</td><td>&quot;HGNC:6932&quot;</td><td>null</td><td>null</td><td>null</td><td>&quot;ln_LA26806-2&quot;</td><td>null</td><td>null</td><td>null</td><td>&quot;HGNC:6932&quot;</td><td>null</td><td>null</td><td>null</td><td>&quot;HP:0025499&quot;</td><td>&quot;2002-11-17&quot;</td><td>&quot;HP:0025499&quot;</td><td>&quot;2005-02-17&quot;</td><td>null</td><td>null</td><td>null</td><td>null</td><td>&quot;sct_1220561009…</td><td>&quot;sct_1220561009…</td><td>&quot;sct_1220561009…</td><td>&quot;sct_1220561009…</td><td>&quot;sct_1220561009…</td><td>&quot;sct_1220561009…</td><td>&quot;sct_1220561009…</td><td>&quot;sct_1220561009…</td><td>&quot;sct_1220561009…</td><td>&quot;sct_1220561009…</td><td>&quot;sct_1220561009…</td><td>&quot;sct_1220561009…</td><td>&quot;sct_1220561009…</td><td>&quot;sct_1220561009…</td><td>&quot;sct_1220561009…</td><td>&quot;sct_1220561009…</td><td>&quot;sct_1220561009…</td></tr></tbody></table></div>"
      ],
      "text/plain": [
       "shape: (5, 87)\n",
       "┌───────────┬───────────┬───────────┬───────────┬───┬───────────┬───────────┬───────────┬──────────┐\n",
       "│ record_id ┆ sct_42254 ┆ sct_18409 ┆ sct_28105 ┆ … ┆ sct_30937 ┆ sct_12303 ┆ sct_84056 ┆ sct_2113 │\n",
       "│ ---       ┆ 9004      ┆ 9003_y    ┆ 3000      ┆   ┆ 0004_case ┆ 8009      ┆ 6006      ┆ 4002_cla │\n",
       "│ i64       ┆ ---       ┆ ---       ┆ ---       ┆   ┆ ---       ┆ ---       ┆ ---       ┆ ss       │\n",
       "│           ┆ str       ┆ i64       ┆ str       ┆   ┆ str       ┆ str       ┆ str       ┆ ---      │\n",
       "│           ┆           ┆           ┆           ┆   ┆           ┆           ┆           ┆ str      │\n",
       "╞═══════════╪═══════════╪═══════════╪═══════════╪═══╪═══════════╪═══════════╪═══════════╪══════════╡\n",
       "│ 1         ┆ FA062     ┆ 2001      ┆ sct_24815 ┆ … ┆ sct_12205 ┆ sct_12205 ┆ sct_12205 ┆ sct_1220 │\n",
       "│           ┆           ┆           ┆ 3007      ┆   ┆ 61009     ┆ 61009     ┆ 61009     ┆ 561009   │\n",
       "│ 2         ┆ YA074     ┆ 2002      ┆ sct_24815 ┆ … ┆ sct_12205 ┆ sct_12205 ┆ sct_12205 ┆ sct_1220 │\n",
       "│           ┆           ┆           ┆ 2002      ┆   ┆ 61009     ┆ 61009     ┆ 61009     ┆ 561009   │\n",
       "│ 3         ┆ SA099     ┆ 2002      ┆ sct_24815 ┆ … ┆ sct_12205 ┆ sct_12205 ┆ sct_12205 ┆ sct_1220 │\n",
       "│           ┆           ┆           ┆ 3007      ┆   ┆ 61009     ┆ 61009     ┆ 61009     ┆ 561009   │\n",
       "│ 4         ┆ EA102     ┆ 2007      ┆ sct_24815 ┆ … ┆ sct_12205 ┆ sct_12205 ┆ sct_12205 ┆ sct_1220 │\n",
       "│           ┆           ┆           ┆ 2002      ┆   ┆ 61009     ┆ 61009     ┆ 61009     ┆ 561009   │\n",
       "│ 5         ┆ AA070     ┆ 2000      ┆ sct_24815 ┆ … ┆ sct_12205 ┆ sct_12205 ┆ sct_12205 ┆ sct_1220 │\n",
       "│           ┆           ┆           ┆ 2002      ┆   ┆ 61009     ┆ 61009     ┆ 61009     ┆ 561009   │\n",
       "└───────────┴───────────┴───────────┴───────────┴───┴───────────┴───────────┴───────────┴──────────┘"
      ]
     },
     "execution_count": 61,
     "metadata": {},
     "output_type": "execute_result"
    }
   ],
   "source": [
    "df = PolarsUtils.drop_null_cols(df, remove_all_null=True, remove_any_null=False)\n",
    "df.head(5)"
   ]
  },
  {
   "cell_type": "markdown",
   "metadata": {
    "collapsed": false
   },
   "source": [
    "### Update id column\n",
    "1. Drop old ID (has duplicate values)\n",
    "2. Initialize new ID column"
   ]
  },
  {
   "cell_type": "code",
   "execution_count": 62,
   "metadata": {
    "ExecuteTime": {
     "end_time": "2023-08-31T16:35:29.228952Z",
     "start_time": "2023-08-31T16:35:29.087892Z"
    },
    "collapsed": false
   },
   "outputs": [],
   "source": [
    "df.drop_in_place('record_id');  # entferne alte ID"
   ]
  },
  {
   "cell_type": "code",
   "execution_count": 63,
   "metadata": {
    "ExecuteTime": {
     "end_time": "2023-08-31T16:35:29.260602Z",
     "start_time": "2023-08-31T16:35:29.103517Z"
    },
    "collapsed": false
   },
   "outputs": [
    {
     "data": {
      "text/html": [
       "<div><style>\n",
       ".dataframe > thead > tr > th,\n",
       ".dataframe > tbody > tr > td {\n",
       "  text-align: right;\n",
       "}\n",
       "</style>\n",
       "<small>shape: (5, 87)</small><table border=\"1\" class=\"dataframe\"><thead><tr><th>mc4r_id</th><th>sct_422549004</th><th>sct_184099003_y</th><th>sct_281053000</th><th>sct_364699009</th><th>sct_278844005</th><th>sct_767023003</th><th>sct_184305005_rd</th><th>sct_769681006_center</th><th>sct_440377005</th><th>sct_424850005</th><th>sct_423493009</th><th>sct_432213005_y</th><th>sct_432213005_m</th><th>sct_432213005_d</th><th>sct_717800004</th><th>sct_64245008</th><th>sct_125679009_proposit</th><th>sct_842009</th><th>sct_439401001_orpha</th><th>sct_439401001_icd10gm</th><th>sct_439401001_alphaid</th><th>sct_432213005</th><th>sct_263493007</th><th>sct_116694002</th><th>sct_246454002</th><th>sct_439401001_ver</th><th>sct_103330002</th><th>sct_439401001_val</th><th>sct_39154008_hpo</th><th>sct_406522009</th><th>ln_48007_9</th><th>ln_48007_9_mitoch</th><th>sct_439401001_gen_val</th><th>ln_ll4048_6</th><th>sct_439401001_omim_g_1</th><th>sct_439401001_omim_g_2</th><th>&hellip;</th><th>ln_48018_6_2</th><th>ln_48002_0_2</th><th>ln_48019_4_2</th><th>ln_53037_8_2</th><th>ln_62374_4_3</th><th>sct_55446002_str_3</th><th>ln_48004_6_3</th><th>ln_48005_3_3</th><th>ln_48018_6_3</th><th>ln_48002_0_3</th><th>ln_48019_4_3</th><th>ln_53037_8_3</th><th>sct_8116006_1</th><th>sct_8116006_1_date</th><th>sct_8116006_2</th><th>sct_8116006_2_date</th><th>sct_8116006_3</th><th>sct_8116006_3_date</th><th>sct_8116006_4</th><th>sct_8116006_4_date</th><th>sct_72705000_rd</th><th>sct_160430005</th><th>sct_66839005_rd</th><th>sct_160436004</th><th>sct_82101005_rd</th><th>sct_75226009_rd</th><th>sct_309370004_research</th><th>sct_309370004_narse</th><th>sct_309370004_data</th><th>sct_309370004_eu</th><th>sct_309370004_int</th><th>sct_309370004_aff</th><th>sct_309370004_gen</th><th>sct_309370004_case</th><th>sct_123038009</th><th>sct_840566006</th><th>sct_21134002_class</th></tr><tr><td>i64</td><td>str</td><td>i64</td><td>str</td><td>str</td><td>str</td><td>str</td><td>str</td><td>str</td><td>str</td><td>str</td><td>str</td><td>f64</td><td>f64</td><td>f64</td><td>str</td><td>str</td><td>str</td><td>str</td><td>str</td><td>str</td><td>str</td><td>str</td><td>str</td><td>str</td><td>str</td><td>str</td><td>str</td><td>str</td><td>str</td><td>str</td><td>str</td><td>str</td><td>str</td><td>str</td><td>str</td><td>str</td><td>&hellip;</td><td>str</td><td>str</td><td>str</td><td>str</td><td>str</td><td>str</td><td>str</td><td>str</td><td>str</td><td>str</td><td>str</td><td>str</td><td>str</td><td>str</td><td>str</td><td>str</td><td>str</td><td>str</td><td>str</td><td>str</td><td>str</td><td>str</td><td>str</td><td>str</td><td>str</td><td>str</td><td>str</td><td>str</td><td>str</td><td>str</td><td>str</td><td>str</td><td>str</td><td>str</td><td>str</td><td>str</td><td>str</td></tr></thead><tbody><tr><td>0</td><td>&quot;FA062&quot;</td><td>2001</td><td>&quot;sct_248153007&quot;</td><td>&quot;sct_90027003&quot;</td><td>&quot;CS_MII_Person_…</td><td>&quot;sct_41847000&quot;</td><td>&quot;sct_1220561009…</td><td>&quot;2007-13-24&quot;</td><td>&quot;sct_1220561009…</td><td>&quot;sct_261665006&quot;</td><td>&quot;sct_410672004&quot;</td><td>2008.0</td><td>1.0</td><td>23.0</td><td>&quot;sct_1220561009…</td><td>&quot;sct_1220561009…</td><td>&quot;sct_1220561009…</td><td>&quot;sct_373066001&quot;</td><td>&quot;ORPHA:71529&quot;</td><td>&quot;E66.8&quot;</td><td>&quot;sct_1220561009…</td><td>&quot;2008-01-23&quot;</td><td>&quot;sct_1220561009…</td><td>&quot;sct_1220561009…</td><td>&quot;sct_1220561009…</td><td>&quot;hl7_conditionv…</td><td>&quot;sct_373067005&quot;</td><td>&quot;sct_439401001_…</td><td>&quot;sct_373066001&quot;</td><td>&quot;sct_1220561009…</td><td>&quot;ln_LA6706-1&quot;</td><td>&quot;sct_1220561009…</td><td>&quot;sct_373066001&quot;</td><td>&quot;sct_1220561009…</td><td>&quot;&quot;155541.0024&quot;&quot;</td><td>&quot;&quot;nan&quot;&quot;</td><td>&hellip;</td><td>&quot;HGNC:6932&quot;</td><td>null</td><td>null</td><td>null</td><td>&quot;ln_LA26806-2&quot;</td><td>null</td><td>null</td><td>null</td><td>&quot;HGNC:6932&quot;</td><td>null</td><td>null</td><td>null</td><td>&quot;HP:0025500&quot;</td><td>&quot;2003-06-24&quot;</td><td>&quot;HP:0025501&quot;</td><td>&quot;2001-08-24&quot;</td><td>&quot;HP:0025499&quot;</td><td>&quot;2006-10-24&quot;</td><td>null</td><td>null</td><td>&quot;sct_1220561009…</td><td>&quot;sct_1220561009…</td><td>&quot;sct_1220561009…</td><td>&quot;sct_1220561009…</td><td>&quot;sct_1220561009…</td><td>&quot;sct_1220561009…</td><td>&quot;sct_1220561009…</td><td>&quot;sct_1220561009…</td><td>&quot;sct_1220561009…</td><td>&quot;sct_1220561009…</td><td>&quot;sct_1220561009…</td><td>&quot;sct_1220561009…</td><td>&quot;sct_1220561009…</td><td>&quot;sct_1220561009…</td><td>&quot;sct_1220561009…</td><td>&quot;sct_1220561009…</td><td>&quot;sct_1220561009…</td></tr><tr><td>1</td><td>&quot;YA074&quot;</td><td>2002</td><td>&quot;sct_248152002&quot;</td><td>&quot;sct_372148003_…</td><td>&quot;CS_MII_Person_…</td><td>&quot;sct_41847000&quot;</td><td>&quot;sct_1220561009…</td><td>&quot;2011-10-21&quot;</td><td>&quot;sct_1220561009…</td><td>&quot;sct_261665006&quot;</td><td>&quot;sct_410672004&quot;</td><td>2011.0</td><td>4.0</td><td>18.0</td><td>&quot;sct_1220561009…</td><td>&quot;sct_1220561009…</td><td>&quot;sct_1220561009…</td><td>&quot;sct_1220561009…</td><td>&quot;ORPHA:71529&quot;</td><td>&quot;E66.8&quot;</td><td>&quot;sct_1220561009…</td><td>&quot;2011-04-18&quot;</td><td>&quot;sct_1220561009…</td><td>&quot;sct_1220561009…</td><td>&quot;sct_1220561009…</td><td>&quot;hl7_conditionv…</td><td>&quot;sct_373067005&quot;</td><td>&quot;sct_439401001_…</td><td>&quot;sct_373066001&quot;</td><td>&quot;sct_1220561009…</td><td>&quot;ln_LA6706-1&quot;</td><td>&quot;sct_1220561009…</td><td>&quot;sct_373066001&quot;</td><td>&quot;sct_1220561009…</td><td>&quot;&quot;155541.0024&quot;&quot;</td><td>&quot;&quot;nan&quot;&quot;</td><td>&hellip;</td><td>&quot;HGNC:6932&quot;</td><td>null</td><td>null</td><td>null</td><td>&quot;ln_LA26806-2&quot;</td><td>null</td><td>null</td><td>null</td><td>&quot;HGNC:6932&quot;</td><td>null</td><td>null</td><td>null</td><td>&quot;HP:0025499&quot;</td><td>&quot;2004-07-21&quot;</td><td>null</td><td>null</td><td>null</td><td>null</td><td>null</td><td>null</td><td>&quot;sct_1220561009…</td><td>&quot;sct_1220561009…</td><td>&quot;sct_1220561009…</td><td>&quot;sct_1220561009…</td><td>&quot;sct_1220561009…</td><td>&quot;sct_1220561009…</td><td>&quot;sct_1220561009…</td><td>&quot;sct_1220561009…</td><td>&quot;sct_1220561009…</td><td>&quot;sct_1220561009…</td><td>&quot;sct_1220561009…</td><td>&quot;sct_1220561009…</td><td>&quot;sct_1220561009…</td><td>&quot;sct_1220561009…</td><td>&quot;sct_1220561009…</td><td>&quot;sct_1220561009…</td><td>&quot;sct_1220561009…</td></tr><tr><td>2</td><td>&quot;SA099&quot;</td><td>2002</td><td>&quot;sct_248153007&quot;</td><td>&quot;sct_14045001&quot;</td><td>&quot;CS_MII_Person_…</td><td>&quot;sct_41847000&quot;</td><td>&quot;sct_1220561009…</td><td>&quot;2002-7-23&quot;</td><td>&quot;sct_1220561009…</td><td>&quot;sct_261665006&quot;</td><td>&quot;sct_261665006&quot;</td><td>null</td><td>null</td><td>null</td><td>&quot;sct_1220561009…</td><td>&quot;sct_1220561009…</td><td>&quot;sct_1220561009…</td><td>&quot;sct_1220561009…</td><td>&quot;ORPHA:71529&quot;</td><td>&quot;E66.8&quot;</td><td>&quot;sct_1220561009…</td><td>null</td><td>&quot;sct_1220561009…</td><td>&quot;sct_1220561009…</td><td>&quot;sct_1220561009…</td><td>&quot;hl7_conditionv…</td><td>&quot;sct_373067005&quot;</td><td>&quot;sct_439401001_…</td><td>&quot;sct_373066001&quot;</td><td>&quot;sct_1220561009…</td><td>&quot;sct_1220561009…</td><td>&quot;sct_1220561009…</td><td>&quot;sct_373066001&quot;</td><td>&quot;sct_1220561009…</td><td>&quot;&quot;nan&quot;&quot;</td><td>&quot;&quot;nan&quot;&quot;</td><td>&hellip;</td><td>&quot;HGNC:6932&quot;</td><td>null</td><td>null</td><td>null</td><td>&quot;ln_LA26806-2&quot;</td><td>null</td><td>null</td><td>null</td><td>&quot;HGNC:6932&quot;</td><td>null</td><td>null</td><td>null</td><td>&quot;HP:0025502&quot;</td><td>&quot;2006-09-23&quot;</td><td>&quot;HP:0025499&quot;</td><td>&quot;2007-10-23&quot;</td><td>null</td><td>null</td><td>null</td><td>null</td><td>&quot;sct_1220561009…</td><td>&quot;sct_1220561009…</td><td>&quot;sct_1220561009…</td><td>&quot;sct_1220561009…</td><td>&quot;sct_1220561009…</td><td>&quot;sct_1220561009…</td><td>&quot;sct_1220561009…</td><td>&quot;sct_1220561009…</td><td>&quot;sct_1220561009…</td><td>&quot;sct_1220561009…</td><td>&quot;sct_1220561009…</td><td>&quot;sct_1220561009…</td><td>&quot;sct_1220561009…</td><td>&quot;sct_1220561009…</td><td>&quot;sct_1220561009…</td><td>&quot;sct_1220561009…</td><td>&quot;sct_1220561009…</td></tr><tr><td>3</td><td>&quot;EA102&quot;</td><td>2007</td><td>&quot;sct_248152002&quot;</td><td>&quot;sct_372148003_…</td><td>&quot;CS_MII_Person_…</td><td>&quot;sct_263659003&quot;</td><td>&quot;sct_1220561009…</td><td>&quot;2018-9-26&quot;</td><td>&quot;sct_1220561009…</td><td>&quot;sct_261665006&quot;</td><td>&quot;sct_410672004&quot;</td><td>2018.0</td><td>10.0</td><td>17.0</td><td>&quot;sct_1220561009…</td><td>&quot;sct_1220561009…</td><td>&quot;sct_1220561009…</td><td>&quot;sct_373067005&quot;</td><td>&quot;ORPHA:71529&quot;</td><td>&quot;E66.8&quot;</td><td>&quot;sct_1220561009…</td><td>&quot;2018-10-17&quot;</td><td>&quot;sct_1220561009…</td><td>&quot;sct_1220561009…</td><td>&quot;sct_1220561009…</td><td>&quot;hl7_conditionv…</td><td>&quot;sct_373067005&quot;</td><td>&quot;sct_439401001_…</td><td>&quot;sct_373066001&quot;</td><td>&quot;sct_1220561009…</td><td>&quot;ln_LA6706-1&quot;</td><td>&quot;sct_1220561009…</td><td>&quot;sct_373066001&quot;</td><td>&quot;sct_1220561009…</td><td>&quot;&quot;155541.0021&quot;&quot;</td><td>&quot;&quot;nan&quot;&quot;</td><td>&hellip;</td><td>&quot;HGNC:6932&quot;</td><td>null</td><td>null</td><td>null</td><td>&quot;ln_LA26806-2&quot;</td><td>null</td><td>null</td><td>null</td><td>&quot;HGNC:6932&quot;</td><td>null</td><td>null</td><td>null</td><td>&quot;HP:0025499&quot;</td><td>&quot;2008-01-26&quot;</td><td>&quot;HP:0025500&quot;</td><td>&quot;2009-01-26&quot;</td><td>&quot;HP:0025500&quot;</td><td>&quot;2010-10-26&quot;</td><td>&quot;HP:0025500&quot;</td><td>&quot;2012-01-26&quot;</td><td>&quot;sct_1220561009…</td><td>&quot;sct_1220561009…</td><td>&quot;sct_1220561009…</td><td>&quot;sct_1220561009…</td><td>&quot;sct_1220561009…</td><td>&quot;sct_1220561009…</td><td>&quot;sct_1220561009…</td><td>&quot;sct_1220561009…</td><td>&quot;sct_1220561009…</td><td>&quot;sct_1220561009…</td><td>&quot;sct_1220561009…</td><td>&quot;sct_1220561009…</td><td>&quot;sct_1220561009…</td><td>&quot;sct_1220561009…</td><td>&quot;sct_1220561009…</td><td>&quot;sct_1220561009…</td><td>&quot;sct_1220561009…</td></tr><tr><td>4</td><td>&quot;AA070&quot;</td><td>2000</td><td>&quot;sct_248152002&quot;</td><td>&quot;sct_372148003_…</td><td>&quot;CS_MII_Person_…</td><td>&quot;sct_41847000&quot;</td><td>&quot;sct_1220561009…</td><td>&quot;2009-4-17&quot;</td><td>&quot;sct_1220561009…</td><td>&quot;sct_261665006&quot;</td><td>&quot;sct_410672004&quot;</td><td>2009.0</td><td>7.0</td><td>5.0</td><td>&quot;sct_1220561009…</td><td>&quot;sct_1220561009…</td><td>&quot;sct_1220561009…</td><td>&quot;sct_1220561009…</td><td>&quot;ORPHA:71529&quot;</td><td>&quot;E66.8&quot;</td><td>&quot;sct_1220561009…</td><td>&quot;2009-07-05&quot;</td><td>&quot;sct_1220561009…</td><td>&quot;sct_1220561009…</td><td>&quot;sct_1220561009…</td><td>&quot;hl7_conditionv…</td><td>&quot;sct_373067005&quot;</td><td>&quot;sct_439401001_…</td><td>&quot;sct_373066001&quot;</td><td>&quot;sct_1220561009…</td><td>&quot;ln_LA6706-1&quot;</td><td>&quot;sct_1220561009…</td><td>&quot;sct_373066001&quot;</td><td>&quot;sct_1220561009…</td><td>&quot;&quot;nan&quot;&quot;</td><td>&quot;&quot;nan&quot;&quot;</td><td>&hellip;</td><td>&quot;HGNC:6932&quot;</td><td>null</td><td>null</td><td>null</td><td>&quot;ln_LA26806-2&quot;</td><td>null</td><td>null</td><td>null</td><td>&quot;HGNC:6932&quot;</td><td>null</td><td>null</td><td>null</td><td>&quot;HP:0025499&quot;</td><td>&quot;2002-11-17&quot;</td><td>&quot;HP:0025499&quot;</td><td>&quot;2005-02-17&quot;</td><td>null</td><td>null</td><td>null</td><td>null</td><td>&quot;sct_1220561009…</td><td>&quot;sct_1220561009…</td><td>&quot;sct_1220561009…</td><td>&quot;sct_1220561009…</td><td>&quot;sct_1220561009…</td><td>&quot;sct_1220561009…</td><td>&quot;sct_1220561009…</td><td>&quot;sct_1220561009…</td><td>&quot;sct_1220561009…</td><td>&quot;sct_1220561009…</td><td>&quot;sct_1220561009…</td><td>&quot;sct_1220561009…</td><td>&quot;sct_1220561009…</td><td>&quot;sct_1220561009…</td><td>&quot;sct_1220561009…</td><td>&quot;sct_1220561009…</td><td>&quot;sct_1220561009…</td></tr></tbody></table></div>"
      ],
      "text/plain": [
       "shape: (5, 87)\n",
       "┌─────────┬────────────┬───────────┬───────────┬───┬───────────┬───────────┬───────────┬───────────┐\n",
       "│ mc4r_id ┆ sct_422549 ┆ sct_18409 ┆ sct_28105 ┆ … ┆ sct_30937 ┆ sct_12303 ┆ sct_84056 ┆ sct_21134 │\n",
       "│ ---     ┆ 004        ┆ 9003_y    ┆ 3000      ┆   ┆ 0004_case ┆ 8009      ┆ 6006      ┆ 002_class │\n",
       "│ i64     ┆ ---        ┆ ---       ┆ ---       ┆   ┆ ---       ┆ ---       ┆ ---       ┆ ---       │\n",
       "│         ┆ str        ┆ i64       ┆ str       ┆   ┆ str       ┆ str       ┆ str       ┆ str       │\n",
       "╞═════════╪════════════╪═══════════╪═══════════╪═══╪═══════════╪═══════════╪═══════════╪═══════════╡\n",
       "│ 0       ┆ FA062      ┆ 2001      ┆ sct_24815 ┆ … ┆ sct_12205 ┆ sct_12205 ┆ sct_12205 ┆ sct_12205 │\n",
       "│         ┆            ┆           ┆ 3007      ┆   ┆ 61009     ┆ 61009     ┆ 61009     ┆ 61009     │\n",
       "│ 1       ┆ YA074      ┆ 2002      ┆ sct_24815 ┆ … ┆ sct_12205 ┆ sct_12205 ┆ sct_12205 ┆ sct_12205 │\n",
       "│         ┆            ┆           ┆ 2002      ┆   ┆ 61009     ┆ 61009     ┆ 61009     ┆ 61009     │\n",
       "│ 2       ┆ SA099      ┆ 2002      ┆ sct_24815 ┆ … ┆ sct_12205 ┆ sct_12205 ┆ sct_12205 ┆ sct_12205 │\n",
       "│         ┆            ┆           ┆ 3007      ┆   ┆ 61009     ┆ 61009     ┆ 61009     ┆ 61009     │\n",
       "│ 3       ┆ EA102      ┆ 2007      ┆ sct_24815 ┆ … ┆ sct_12205 ┆ sct_12205 ┆ sct_12205 ┆ sct_12205 │\n",
       "│         ┆            ┆           ┆ 2002      ┆   ┆ 61009     ┆ 61009     ┆ 61009     ┆ 61009     │\n",
       "│ 4       ┆ AA070      ┆ 2000      ┆ sct_24815 ┆ … ┆ sct_12205 ┆ sct_12205 ┆ sct_12205 ┆ sct_12205 │\n",
       "│         ┆            ┆           ┆ 2002      ┆   ┆ 61009     ┆ 61009     ┆ 61009     ┆ 61009     │\n",
       "└─────────┴────────────┴───────────┴───────────┴───┴───────────┴───────────┴───────────┴───────────┘"
      ]
     },
     "execution_count": 63,
     "metadata": {},
     "output_type": "execute_result"
    }
   ],
   "source": [
    "df = PolarsUtils.add_id_col(df, id_col_name='mc4r_id')  # fuege neue ID hinzu\n",
    "df.head(5)"
   ]
  },
  {
   "cell_type": "markdown",
   "metadata": {
    "collapsed": false
   },
   "source": [
    "### Parsing step"
   ]
  },
  {
   "cell_type": "code",
   "execution_count": 64,
   "metadata": {
    "collapsed": false
   },
   "outputs": [],
   "source": [
    "from src.MC4R.MappingDicts import phenotype_label_map_erker2phenopackets\n",
    "from src.MC4R.MappingDicts import allele_label_map_erker2phenopackets\n",
    "from src.MC4R import zygosity_map_erker2phenopackets, sex_map_erker2phenopackets\n",
    "from src.MC4R.ParseMC4R import parse_date_of_diagnosis, parse_year_of_birth, \\\n",
    "parse_phenotyping_date, parse_omim\n",
    "\n",
    "config = configparser.ConfigParser()\n",
    "config.read('../../data/config/config.cfg')\n",
    "no_mutation = config.get('NoValue', 'mutation')\n",
    "no_phenotype = config.get('NoValue', 'phenotype')\n",
    "no_date = config.get('NoValue', 'date')\n",
    "no_omim = config.get('NoValue', 'omim')\n",
    "\n",
    "# sct_184099003_y (year of birth)\n",
    "df = PolarsUtils.map_col(df, map_from='sct_184099003_y', map_to='parsed_year_of_birth',\\\n",
    "    mapping=parse_year_of_birth)\n",
    "\n",
    "# sct_281053000 (sex)\n",
    "df = PolarsUtils.map_col(df, map_from='sct_281053000', map_to='parsed_sex',\\\n",
    "    mapping=sex_map_erker2phenopackets)\n",
    "\n",
    "# sct_432213005 (date of diagnosis)\n",
    "df = PolarsUtils.map_col(df, map_from='sct_432213005',\\\n",
    "    map_to='parsed_date_of_diagnosis' ,mapping=parse_date_of_diagnosis)\n",
    "df = PolarsUtils.fill_null_vals(df, 'parsed_date_of_diagnosis', no_date)\n",
    "\n",
    "# # ln_48007_9 (zygosity)\n",
    "df = PolarsUtils.map_col(df, map_from='ln_48007_9', map_to='parsed_zygosity',\\\n",
    "    mapping=zygosity_map_erker2phenopackets)\n",
    "df = PolarsUtils.map_col(df, map_from='ln_48007_9', map_to='allele_label', \\\n",
    "                         mapping=allele_label_map_erker2phenopackets)\n",
    "\n",
    "\n",
    "# sct_439401001_orpha (diagnosis (ORPHA))\n",
    "# does not require mapping\n",
    "\n",
    "# sct_439401001_omim_g_1, sct_439401001_omim_g_2, sct_439401001_omim_g_3 \\\n",
    "# (Primärdiagnose OMIM)\n",
    "df = PolarsUtils.map_col(df, map_from='sct_439401001_omim_g_1',\\\n",
    "    map_to='parsed_omim_1' ,mapping=parse_omim)\n",
    "df = PolarsUtils.fill_null_vals(df, 'parsed_omim_1', no_omim)\n",
    "    \n",
    "df = PolarsUtils.map_col(df, map_from='sct_439401001_omim_g_2',\\\n",
    "    map_to='parsed_omim_2' ,mapping=parse_omim)\n",
    "df = PolarsUtils.fill_null_vals(df, 'parsed_omim_2', no_omim)\n",
    "\n",
    "\n",
    "# ln_48005_3_1, ln_48005_3_2, ln_48005_3_3 (mutation p.HGVS)\n",
    "df = PolarsUtils.fill_null_vals(df, 'ln_48005_3_1', no_mutation)\n",
    "df = PolarsUtils.fill_null_vals(df, 'ln_48005_3_2', no_mutation)\n",
    "df = PolarsUtils.fill_null_vals(df, 'ln_48005_3_3', no_mutation)\n",
    "\n",
    "# ln_48004_6_1, ln_48004_6_2, ln_48004_6_3 (mutation c.HGVS)\n",
    "df = PolarsUtils.fill_null_vals(df, 'ln_48004_6_1', no_mutation)\n",
    "df = PolarsUtils.fill_null_vals(df, 'ln_48004_6_2', no_mutation)\n",
    "df = PolarsUtils.fill_null_vals(df, 'ln_48004_6_3', no_mutation)\n",
    "\n",
    "# ln_48018_6_1 (gene HGNC)\n",
    "# does not require mapping\n",
    "\n",
    "# sct_8116006_1, sct_8116006_2, sct_8116006_3, sct_8116006_4, sct_8116006_5 (phenotype\\\n",
    "  #classification\n",
    "df = PolarsUtils.fill_null_vals(df, 'sct_8116006_1', no_phenotype)\n",
    "df = PolarsUtils.fill_null_vals(df, 'sct_8116006_2', no_phenotype)\n",
    "df = PolarsUtils.fill_null_vals(df, 'sct_8116006_3', no_phenotype)\n",
    "df = PolarsUtils.fill_null_vals(df, 'sct_8116006_4', no_phenotype)\n",
    "if 'sct_8116006_5' in df.columns:\n",
    "    df = PolarsUtils.fill_null_vals(df, 'sct_8116006_5', no_phenotype)\n",
    "\n",
    "# sct_8116006_1_date, sct_8116006_2_date, sct_8116006_3_date, sct_8116006_4_date, \\\n",
    "    # sct_8116006_5_date (dates of phenotype determination)\n",
    "df = PolarsUtils.map_col(df, map_from='sct_8116006_1_date', map_to='parsed_date_of_phenotyping1', mapping=parse_phenotyping_date)\n",
    "df = PolarsUtils.fill_null_vals(df, 'parsed_date_of_phenotyping1',no_date)\n",
    "\n",
    "df = PolarsUtils.map_col(df, map_from='sct_8116006_2_date', map_to='parsed_date_of_phenotyping2', mapping=parse_phenotyping_date)\n",
    "df = PolarsUtils.fill_null_vals(df, 'parsed_date_of_phenotyping2',no_date)\n",
    "\n",
    "if 'sct_8116006_3_date' in df.columns:\n",
    "    df = PolarsUtils.map_col(df, map_from='sct_8116006_3_date', map_to='parsed_date_of_phenotyping3', mapping=parse_phenotyping_date)\n",
    "    df = PolarsUtils.fill_null_vals(df, 'parsed_date_of_phenotyping3',no_date)\n",
    "    \n",
    "if 'sct_8116006_4_date' in df.columns:\n",
    "    df = PolarsUtils.map_col(df, map_from='sct_8116006_4_date', map_to='parsed_date_of_phenotyping4', mapping=parse_phenotyping_date)\n",
    "    df = PolarsUtils.fill_null_vals(df, 'parsed_date_of_phenotyping4',no_date)\n",
    "    \n",
    "if 'sct_8116006_5_date' in df.columns:\n",
    "    df = PolarsUtils.map_col(df, map_from='sct_8116006_5_date', map_to='parsed_date_of_phenotyping5', mapping=parse_phenotyping_date)  \n",
    "    df = PolarsUtils.fill_null_vals(df, 'parsed_date_of_phenotyping5',no_date)  \n",
    "\n",
    "\n",
    "# phenotype label\n",
    "df = PolarsUtils.map_col(df, map_from='sct_8116006_1', map_to='parsed_phenotype_label1', mapping=phenotype_label_map_erker2phenopackets)\n",
    "df = PolarsUtils.map_col(df, map_from='sct_8116006_2', map_to='parsed_phenotype_label2', mapping=phenotype_label_map_erker2phenopackets)\n",
    "df = PolarsUtils.map_col(df, map_from='sct_8116006_3', map_to='parsed_phenotype_label3', mapping=phenotype_label_map_erker2phenopackets)\n",
    "df = PolarsUtils.map_col(df, map_from='sct_8116006_4', map_to='parsed_phenotype_label4', mapping=phenotype_label_map_erker2phenopackets)\n",
    "if 'sct_8116006_5' in df.columns:\n",
    "    df = PolarsUtils.map_col(df, map_from='sct_8116006_5', map_to='parsed_phenotype_label5', mapping=phenotype_label_map_erker2phenopackets)"
   ]
  },
  {
   "cell_type": "code",
   "execution_count": 65,
   "metadata": {},
   "outputs": [
    {
     "data": {
      "text/html": [
       "<div><style>\n",
       ".dataframe > thead > tr > th,\n",
       ".dataframe > tbody > tr > td {\n",
       "  text-align: right;\n",
       "}\n",
       "</style>\n",
       "<small>shape: (5, 102)</small><table border=\"1\" class=\"dataframe\"><thead><tr><th>mc4r_id</th><th>sct_422549004</th><th>sct_184099003_y</th><th>sct_281053000</th><th>sct_364699009</th><th>sct_278844005</th><th>sct_767023003</th><th>sct_184305005_rd</th><th>sct_769681006_center</th><th>sct_440377005</th><th>sct_424850005</th><th>sct_423493009</th><th>sct_432213005_y</th><th>sct_432213005_m</th><th>sct_432213005_d</th><th>sct_717800004</th><th>sct_64245008</th><th>sct_125679009_proposit</th><th>sct_842009</th><th>sct_439401001_orpha</th><th>sct_439401001_icd10gm</th><th>sct_439401001_alphaid</th><th>sct_432213005</th><th>sct_263493007</th><th>sct_116694002</th><th>sct_246454002</th><th>sct_439401001_ver</th><th>sct_103330002</th><th>sct_439401001_val</th><th>sct_39154008_hpo</th><th>sct_406522009</th><th>ln_48007_9</th><th>ln_48007_9_mitoch</th><th>sct_439401001_gen_val</th><th>ln_ll4048_6</th><th>sct_439401001_omim_g_1</th><th>sct_439401001_omim_g_2</th><th>&hellip;</th><th>sct_8116006_2_date</th><th>sct_8116006_3</th><th>sct_8116006_3_date</th><th>sct_8116006_4</th><th>sct_8116006_4_date</th><th>sct_72705000_rd</th><th>sct_160430005</th><th>sct_66839005_rd</th><th>sct_160436004</th><th>sct_82101005_rd</th><th>sct_75226009_rd</th><th>sct_309370004_research</th><th>sct_309370004_narse</th><th>sct_309370004_data</th><th>sct_309370004_eu</th><th>sct_309370004_int</th><th>sct_309370004_aff</th><th>sct_309370004_gen</th><th>sct_309370004_case</th><th>sct_123038009</th><th>sct_840566006</th><th>sct_21134002_class</th><th>parsed_year_of_birth</th><th>parsed_sex</th><th>parsed_date_of_diagnosis</th><th>parsed_zygosity</th><th>allele_label</th><th>parsed_omim_1</th><th>parsed_omim_2</th><th>parsed_date_of_phenotyping1</th><th>parsed_date_of_phenotyping2</th><th>parsed_date_of_phenotyping3</th><th>parsed_date_of_phenotyping4</th><th>parsed_phenotype_label1</th><th>parsed_phenotype_label2</th><th>parsed_phenotype_label3</th><th>parsed_phenotype_label4</th></tr><tr><td>i64</td><td>str</td><td>i64</td><td>str</td><td>str</td><td>str</td><td>str</td><td>str</td><td>str</td><td>str</td><td>str</td><td>str</td><td>f64</td><td>f64</td><td>f64</td><td>str</td><td>str</td><td>str</td><td>str</td><td>str</td><td>str</td><td>str</td><td>str</td><td>str</td><td>str</td><td>str</td><td>str</td><td>str</td><td>str</td><td>str</td><td>str</td><td>str</td><td>str</td><td>str</td><td>str</td><td>str</td><td>str</td><td>&hellip;</td><td>str</td><td>str</td><td>str</td><td>str</td><td>str</td><td>str</td><td>str</td><td>str</td><td>str</td><td>str</td><td>str</td><td>str</td><td>str</td><td>str</td><td>str</td><td>str</td><td>str</td><td>str</td><td>str</td><td>str</td><td>str</td><td>str</td><td>str</td><td>str</td><td>str</td><td>str</td><td>str</td><td>str</td><td>str</td><td>str</td><td>str</td><td>str</td><td>str</td><td>str</td><td>str</td><td>str</td><td>str</td></tr></thead><tbody><tr><td>0</td><td>&quot;FA062&quot;</td><td>2001</td><td>&quot;sct_248153007&quot;</td><td>&quot;sct_90027003&quot;</td><td>&quot;CS_MII_Person_…</td><td>&quot;sct_41847000&quot;</td><td>&quot;sct_1220561009…</td><td>&quot;2007-13-24&quot;</td><td>&quot;sct_1220561009…</td><td>&quot;sct_261665006&quot;</td><td>&quot;sct_410672004&quot;</td><td>2008.0</td><td>1.0</td><td>23.0</td><td>&quot;sct_1220561009…</td><td>&quot;sct_1220561009…</td><td>&quot;sct_1220561009…</td><td>&quot;sct_373066001&quot;</td><td>&quot;ORPHA:71529&quot;</td><td>&quot;E66.8&quot;</td><td>&quot;sct_1220561009…</td><td>&quot;2008-01-23&quot;</td><td>&quot;sct_1220561009…</td><td>&quot;sct_1220561009…</td><td>&quot;sct_1220561009…</td><td>&quot;hl7_conditionv…</td><td>&quot;sct_373067005&quot;</td><td>&quot;sct_439401001_…</td><td>&quot;sct_373066001&quot;</td><td>&quot;sct_1220561009…</td><td>&quot;ln_LA6706-1&quot;</td><td>&quot;sct_1220561009…</td><td>&quot;sct_373066001&quot;</td><td>&quot;sct_1220561009…</td><td>&quot;&quot;155541.0024&quot;&quot;</td><td>&quot;&quot;nan&quot;&quot;</td><td>&hellip;</td><td>&quot;2001-08-24&quot;</td><td>&quot;HP:0025499&quot;</td><td>&quot;2006-10-24&quot;</td><td>&quot;NO_PHENOTYPE&quot;</td><td>null</td><td>&quot;sct_1220561009…</td><td>&quot;sct_1220561009…</td><td>&quot;sct_1220561009…</td><td>&quot;sct_1220561009…</td><td>&quot;sct_1220561009…</td><td>&quot;sct_1220561009…</td><td>&quot;sct_1220561009…</td><td>&quot;sct_1220561009…</td><td>&quot;sct_1220561009…</td><td>&quot;sct_1220561009…</td><td>&quot;sct_1220561009…</td><td>&quot;sct_1220561009…</td><td>&quot;sct_1220561009…</td><td>&quot;sct_1220561009…</td><td>&quot;sct_1220561009…</td><td>&quot;sct_1220561009…</td><td>&quot;sct_1220561009…</td><td>&quot;2001-01-01T00:…</td><td>&quot;MALE&quot;</td><td>&quot;2008-01-23T00:…</td><td>&quot;GENO:0000135&quot;</td><td>&quot;heterozygous&quot;</td><td>&quot;OMIM:155541.00…</td><td>&quot;NO_OMIM&quot;</td><td>&quot;2003-06-24T00:…</td><td>&quot;2001-08-24T00:…</td><td>&quot;2006-10-24T00:…</td><td>&quot;NO_DATE&quot;</td><td>&quot;Class II obesi…</td><td>&quot;Class III obes…</td><td>&quot;Class I obesit…</td><td>null</td></tr><tr><td>1</td><td>&quot;YA074&quot;</td><td>2002</td><td>&quot;sct_248152002&quot;</td><td>&quot;sct_372148003_…</td><td>&quot;CS_MII_Person_…</td><td>&quot;sct_41847000&quot;</td><td>&quot;sct_1220561009…</td><td>&quot;2011-10-21&quot;</td><td>&quot;sct_1220561009…</td><td>&quot;sct_261665006&quot;</td><td>&quot;sct_410672004&quot;</td><td>2011.0</td><td>4.0</td><td>18.0</td><td>&quot;sct_1220561009…</td><td>&quot;sct_1220561009…</td><td>&quot;sct_1220561009…</td><td>&quot;sct_1220561009…</td><td>&quot;ORPHA:71529&quot;</td><td>&quot;E66.8&quot;</td><td>&quot;sct_1220561009…</td><td>&quot;2011-04-18&quot;</td><td>&quot;sct_1220561009…</td><td>&quot;sct_1220561009…</td><td>&quot;sct_1220561009…</td><td>&quot;hl7_conditionv…</td><td>&quot;sct_373067005&quot;</td><td>&quot;sct_439401001_…</td><td>&quot;sct_373066001&quot;</td><td>&quot;sct_1220561009…</td><td>&quot;ln_LA6706-1&quot;</td><td>&quot;sct_1220561009…</td><td>&quot;sct_373066001&quot;</td><td>&quot;sct_1220561009…</td><td>&quot;&quot;155541.0024&quot;&quot;</td><td>&quot;&quot;nan&quot;&quot;</td><td>&hellip;</td><td>null</td><td>&quot;NO_PHENOTYPE&quot;</td><td>null</td><td>&quot;NO_PHENOTYPE&quot;</td><td>null</td><td>&quot;sct_1220561009…</td><td>&quot;sct_1220561009…</td><td>&quot;sct_1220561009…</td><td>&quot;sct_1220561009…</td><td>&quot;sct_1220561009…</td><td>&quot;sct_1220561009…</td><td>&quot;sct_1220561009…</td><td>&quot;sct_1220561009…</td><td>&quot;sct_1220561009…</td><td>&quot;sct_1220561009…</td><td>&quot;sct_1220561009…</td><td>&quot;sct_1220561009…</td><td>&quot;sct_1220561009…</td><td>&quot;sct_1220561009…</td><td>&quot;sct_1220561009…</td><td>&quot;sct_1220561009…</td><td>&quot;sct_1220561009…</td><td>&quot;2002-01-01T00:…</td><td>&quot;FEMALE&quot;</td><td>&quot;2011-04-18T00:…</td><td>&quot;GENO:0000135&quot;</td><td>&quot;heterozygous&quot;</td><td>&quot;OMIM:155541.00…</td><td>&quot;NO_OMIM&quot;</td><td>&quot;2004-07-21T00:…</td><td>&quot;NO_DATE&quot;</td><td>&quot;NO_DATE&quot;</td><td>&quot;NO_DATE&quot;</td><td>&quot;Class I obesit…</td><td>null</td><td>null</td><td>null</td></tr><tr><td>2</td><td>&quot;SA099&quot;</td><td>2002</td><td>&quot;sct_248153007&quot;</td><td>&quot;sct_14045001&quot;</td><td>&quot;CS_MII_Person_…</td><td>&quot;sct_41847000&quot;</td><td>&quot;sct_1220561009…</td><td>&quot;2002-7-23&quot;</td><td>&quot;sct_1220561009…</td><td>&quot;sct_261665006&quot;</td><td>&quot;sct_261665006&quot;</td><td>null</td><td>null</td><td>null</td><td>&quot;sct_1220561009…</td><td>&quot;sct_1220561009…</td><td>&quot;sct_1220561009…</td><td>&quot;sct_1220561009…</td><td>&quot;ORPHA:71529&quot;</td><td>&quot;E66.8&quot;</td><td>&quot;sct_1220561009…</td><td>null</td><td>&quot;sct_1220561009…</td><td>&quot;sct_1220561009…</td><td>&quot;sct_1220561009…</td><td>&quot;hl7_conditionv…</td><td>&quot;sct_373067005&quot;</td><td>&quot;sct_439401001_…</td><td>&quot;sct_373066001&quot;</td><td>&quot;sct_1220561009…</td><td>&quot;sct_1220561009…</td><td>&quot;sct_1220561009…</td><td>&quot;sct_373066001&quot;</td><td>&quot;sct_1220561009…</td><td>&quot;&quot;nan&quot;&quot;</td><td>&quot;&quot;nan&quot;&quot;</td><td>&hellip;</td><td>&quot;2007-10-23&quot;</td><td>&quot;NO_PHENOTYPE&quot;</td><td>null</td><td>&quot;NO_PHENOTYPE&quot;</td><td>null</td><td>&quot;sct_1220561009…</td><td>&quot;sct_1220561009…</td><td>&quot;sct_1220561009…</td><td>&quot;sct_1220561009…</td><td>&quot;sct_1220561009…</td><td>&quot;sct_1220561009…</td><td>&quot;sct_1220561009…</td><td>&quot;sct_1220561009…</td><td>&quot;sct_1220561009…</td><td>&quot;sct_1220561009…</td><td>&quot;sct_1220561009…</td><td>&quot;sct_1220561009…</td><td>&quot;sct_1220561009…</td><td>&quot;sct_1220561009…</td><td>&quot;sct_1220561009…</td><td>&quot;sct_1220561009…</td><td>&quot;sct_1220561009…</td><td>&quot;2002-01-01T00:…</td><td>&quot;MALE&quot;</td><td>&quot;NO_DATE&quot;</td><td>&quot;GENO:0000137&quot;</td><td>&quot;unspecified zy…</td><td>&quot;NO_OMIM&quot;</td><td>&quot;NO_OMIM&quot;</td><td>&quot;2006-09-23T00:…</td><td>&quot;2007-10-23T00:…</td><td>&quot;NO_DATE&quot;</td><td>&quot;NO_DATE&quot;</td><td>&quot;Overweight&quot;</td><td>&quot;Class I obesit…</td><td>null</td><td>null</td></tr><tr><td>3</td><td>&quot;EA102&quot;</td><td>2007</td><td>&quot;sct_248152002&quot;</td><td>&quot;sct_372148003_…</td><td>&quot;CS_MII_Person_…</td><td>&quot;sct_263659003&quot;</td><td>&quot;sct_1220561009…</td><td>&quot;2018-9-26&quot;</td><td>&quot;sct_1220561009…</td><td>&quot;sct_261665006&quot;</td><td>&quot;sct_410672004&quot;</td><td>2018.0</td><td>10.0</td><td>17.0</td><td>&quot;sct_1220561009…</td><td>&quot;sct_1220561009…</td><td>&quot;sct_1220561009…</td><td>&quot;sct_373067005&quot;</td><td>&quot;ORPHA:71529&quot;</td><td>&quot;E66.8&quot;</td><td>&quot;sct_1220561009…</td><td>&quot;2018-10-17&quot;</td><td>&quot;sct_1220561009…</td><td>&quot;sct_1220561009…</td><td>&quot;sct_1220561009…</td><td>&quot;hl7_conditionv…</td><td>&quot;sct_373067005&quot;</td><td>&quot;sct_439401001_…</td><td>&quot;sct_373066001&quot;</td><td>&quot;sct_1220561009…</td><td>&quot;ln_LA6706-1&quot;</td><td>&quot;sct_1220561009…</td><td>&quot;sct_373066001&quot;</td><td>&quot;sct_1220561009…</td><td>&quot;&quot;155541.0021&quot;&quot;</td><td>&quot;&quot;nan&quot;&quot;</td><td>&hellip;</td><td>&quot;2009-01-26&quot;</td><td>&quot;HP:0025500&quot;</td><td>&quot;2010-10-26&quot;</td><td>&quot;HP:0025500&quot;</td><td>&quot;2012-01-26&quot;</td><td>&quot;sct_1220561009…</td><td>&quot;sct_1220561009…</td><td>&quot;sct_1220561009…</td><td>&quot;sct_1220561009…</td><td>&quot;sct_1220561009…</td><td>&quot;sct_1220561009…</td><td>&quot;sct_1220561009…</td><td>&quot;sct_1220561009…</td><td>&quot;sct_1220561009…</td><td>&quot;sct_1220561009…</td><td>&quot;sct_1220561009…</td><td>&quot;sct_1220561009…</td><td>&quot;sct_1220561009…</td><td>&quot;sct_1220561009…</td><td>&quot;sct_1220561009…</td><td>&quot;sct_1220561009…</td><td>&quot;sct_1220561009…</td><td>&quot;2007-01-01T00:…</td><td>&quot;FEMALE&quot;</td><td>&quot;2018-10-17T00:…</td><td>&quot;GENO:0000135&quot;</td><td>&quot;heterozygous&quot;</td><td>&quot;OMIM:155541.00…</td><td>&quot;NO_OMIM&quot;</td><td>&quot;2008-01-26T00:…</td><td>&quot;2009-01-26T00:…</td><td>&quot;2010-10-26T00:…</td><td>&quot;2012-01-26T00:…</td><td>&quot;Class I obesit…</td><td>&quot;Class II obesi…</td><td>&quot;Class II obesi…</td><td>&quot;Class II obesi…</td></tr><tr><td>4</td><td>&quot;AA070&quot;</td><td>2000</td><td>&quot;sct_248152002&quot;</td><td>&quot;sct_372148003_…</td><td>&quot;CS_MII_Person_…</td><td>&quot;sct_41847000&quot;</td><td>&quot;sct_1220561009…</td><td>&quot;2009-4-17&quot;</td><td>&quot;sct_1220561009…</td><td>&quot;sct_261665006&quot;</td><td>&quot;sct_410672004&quot;</td><td>2009.0</td><td>7.0</td><td>5.0</td><td>&quot;sct_1220561009…</td><td>&quot;sct_1220561009…</td><td>&quot;sct_1220561009…</td><td>&quot;sct_1220561009…</td><td>&quot;ORPHA:71529&quot;</td><td>&quot;E66.8&quot;</td><td>&quot;sct_1220561009…</td><td>&quot;2009-07-05&quot;</td><td>&quot;sct_1220561009…</td><td>&quot;sct_1220561009…</td><td>&quot;sct_1220561009…</td><td>&quot;hl7_conditionv…</td><td>&quot;sct_373067005&quot;</td><td>&quot;sct_439401001_…</td><td>&quot;sct_373066001&quot;</td><td>&quot;sct_1220561009…</td><td>&quot;ln_LA6706-1&quot;</td><td>&quot;sct_1220561009…</td><td>&quot;sct_373066001&quot;</td><td>&quot;sct_1220561009…</td><td>&quot;&quot;nan&quot;&quot;</td><td>&quot;&quot;nan&quot;&quot;</td><td>&hellip;</td><td>&quot;2005-02-17&quot;</td><td>&quot;NO_PHENOTYPE&quot;</td><td>null</td><td>&quot;NO_PHENOTYPE&quot;</td><td>null</td><td>&quot;sct_1220561009…</td><td>&quot;sct_1220561009…</td><td>&quot;sct_1220561009…</td><td>&quot;sct_1220561009…</td><td>&quot;sct_1220561009…</td><td>&quot;sct_1220561009…</td><td>&quot;sct_1220561009…</td><td>&quot;sct_1220561009…</td><td>&quot;sct_1220561009…</td><td>&quot;sct_1220561009…</td><td>&quot;sct_1220561009…</td><td>&quot;sct_1220561009…</td><td>&quot;sct_1220561009…</td><td>&quot;sct_1220561009…</td><td>&quot;sct_1220561009…</td><td>&quot;sct_1220561009…</td><td>&quot;sct_1220561009…</td><td>&quot;2000-01-01T00:…</td><td>&quot;FEMALE&quot;</td><td>&quot;2009-07-05T00:…</td><td>&quot;GENO:0000135&quot;</td><td>&quot;heterozygous&quot;</td><td>&quot;NO_OMIM&quot;</td><td>&quot;NO_OMIM&quot;</td><td>&quot;2002-11-17T00:…</td><td>&quot;2005-02-17T00:…</td><td>&quot;NO_DATE&quot;</td><td>&quot;NO_DATE&quot;</td><td>&quot;Class I obesit…</td><td>&quot;Class I obesit…</td><td>null</td><td>null</td></tr></tbody></table></div>"
      ],
      "text/plain": [
       "shape: (5, 102)\n",
       "┌─────────┬────────────┬───────────┬───────────┬───┬───────────┬───────────┬───────────┬───────────┐\n",
       "│ mc4r_id ┆ sct_422549 ┆ sct_18409 ┆ sct_28105 ┆ … ┆ parsed_ph ┆ parsed_ph ┆ parsed_ph ┆ parsed_ph │\n",
       "│ ---     ┆ 004        ┆ 9003_y    ┆ 3000      ┆   ┆ enotype_l ┆ enotype_l ┆ enotype_l ┆ enotype_l │\n",
       "│ i64     ┆ ---        ┆ ---       ┆ ---       ┆   ┆ abel1     ┆ abel2     ┆ abel3     ┆ abel4     │\n",
       "│         ┆ str        ┆ i64       ┆ str       ┆   ┆ ---       ┆ ---       ┆ ---       ┆ ---       │\n",
       "│         ┆            ┆           ┆           ┆   ┆ str       ┆ str       ┆ str       ┆ str       │\n",
       "╞═════════╪════════════╪═══════════╪═══════════╪═══╪═══════════╪═══════════╪═══════════╪═══════════╡\n",
       "│ 0       ┆ FA062      ┆ 2001      ┆ sct_24815 ┆ … ┆ Class II  ┆ Class III ┆ Class I   ┆ null      │\n",
       "│         ┆            ┆           ┆ 3007      ┆   ┆ obesity   ┆ obesity   ┆ obesity   ┆           │\n",
       "│ 1       ┆ YA074      ┆ 2002      ┆ sct_24815 ┆ … ┆ Class I   ┆ null      ┆ null      ┆ null      │\n",
       "│         ┆            ┆           ┆ 2002      ┆   ┆ obesity   ┆           ┆           ┆           │\n",
       "│ 2       ┆ SA099      ┆ 2002      ┆ sct_24815 ┆ … ┆ Overweigh ┆ Class I   ┆ null      ┆ null      │\n",
       "│         ┆            ┆           ┆ 3007      ┆   ┆ t         ┆ obesity   ┆           ┆           │\n",
       "│ 3       ┆ EA102      ┆ 2007      ┆ sct_24815 ┆ … ┆ Class I   ┆ Class II  ┆ Class II  ┆ Class II  │\n",
       "│         ┆            ┆           ┆ 2002      ┆   ┆ obesity   ┆ obesity   ┆ obesity   ┆ obesity   │\n",
       "│ 4       ┆ AA070      ┆ 2000      ┆ sct_24815 ┆ … ┆ Class I   ┆ Class I   ┆ null      ┆ null      │\n",
       "│         ┆            ┆           ┆ 2002      ┆   ┆ obesity   ┆ obesity   ┆           ┆           │\n",
       "└─────────┴────────────┴───────────┴───────────┴───┴───────────┴───────────┴───────────┴───────────┘"
      ]
     },
     "execution_count": 65,
     "metadata": {},
     "output_type": "execute_result"
    }
   ],
   "source": [
    "df.head()"
   ]
  },
  {
   "cell_type": "markdown",
   "metadata": {
    "collapsed": false
   },
   "source": [
    "## Map to phenopackets"
   ]
  },
  {
   "cell_type": "code",
   "execution_count": 66,
   "metadata": {
    "collapsed": false
   },
   "outputs": [
    {
     "ename": "TypeError",
     "evalue": "0 has type int, but expected one of: bytes, unicode",
     "output_type": "error",
     "traceback": [
      "\u001b[0;31m---------------------------------------------------------------------------\u001b[0m",
      "\u001b[0;31mTypeError\u001b[0m                                 Traceback (most recent call last)",
      "\u001b[1;32m/Users/adam/Documents/BIH/ERKER2Phenopackets/ERKER2Phenopackets/src/MC4R/pipeline.ipynb Cell 28\u001b[0m in \u001b[0;36m<cell line: 4>\u001b[0;34m()\u001b[0m\n\u001b[1;32m      <a href='vscode-notebook-cell:/Users/adam/Documents/BIH/ERKER2Phenopackets/ERKER2Phenopackets/src/MC4R/pipeline.ipynb#X34sZmlsZQ%3D%3D?line=0'>1</a>\u001b[0m \u001b[39mfrom\u001b[39;00m \u001b[39msrc\u001b[39;00m\u001b[39m.\u001b[39;00m\u001b[39mMC4R\u001b[39;00m\u001b[39m.\u001b[39;00m\u001b[39mMapMC4R\u001b[39;00m \u001b[39mimport\u001b[39;00m _map_chunk\n\u001b[0;32m----> <a href='vscode-notebook-cell:/Users/adam/Documents/BIH/ERKER2Phenopackets/ERKER2Phenopackets/src/MC4R/pipeline.ipynb#X34sZmlsZQ%3D%3D?line=3'>4</a>\u001b[0m phenopackets \u001b[39m=\u001b[39m _map_chunk(df)\n",
      "File \u001b[0;32m~/Documents/BIH/ERKER2Phenopackets/ERKER2Phenopackets/src/MC4R/../../src/MC4R/MapMC4R.py:66\u001b[0m, in \u001b[0;36m_map_chunk\u001b[0;34m(chunk)\u001b[0m\n\u001b[1;32m     63\u001b[0m no_date \u001b[39m=\u001b[39m config\u001b[39m.\u001b[39mget(\u001b[39m'\u001b[39m\u001b[39mNoValue\u001b[39m\u001b[39m'\u001b[39m, \u001b[39m'\u001b[39m\u001b[39mdate\u001b[39m\u001b[39m'\u001b[39m)\n\u001b[1;32m     64\u001b[0m no_omim \u001b[39m=\u001b[39m config\u001b[39m.\u001b[39mget(\u001b[39m'\u001b[39m\u001b[39mNoValue\u001b[39m\u001b[39m'\u001b[39m, \u001b[39m'\u001b[39m\u001b[39momim\u001b[39m\u001b[39m'\u001b[39m)\n\u001b[0;32m---> 66\u001b[0m individual \u001b[39m=\u001b[39m _map_individual(\n\u001b[1;32m     67\u001b[0m     phenopacket_id\u001b[39m=\u001b[39;49mphenopacket_id,\n\u001b[1;32m     68\u001b[0m     year_of_birth\u001b[39m=\u001b[39;49mrow[\u001b[39m'\u001b[39;49m\u001b[39mparsed_year_of_birth\u001b[39;49m\u001b[39m'\u001b[39;49m],\n\u001b[1;32m     69\u001b[0m     sex\u001b[39m=\u001b[39;49mrow[\u001b[39m'\u001b[39;49m\u001b[39mparsed_sex\u001b[39;49m\u001b[39m'\u001b[39;49m]\n\u001b[1;32m     70\u001b[0m )\n\u001b[1;32m     72\u001b[0m phenotypic_features \u001b[39m=\u001b[39m _map_phenotypic_features(\n\u001b[1;32m     73\u001b[0m     hpos\u001b[39m=\u001b[39m[\n\u001b[1;32m     74\u001b[0m         row[\u001b[39m'\u001b[39m\u001b[39msct_8116006_1\u001b[39m\u001b[39m'\u001b[39m], row[\u001b[39m'\u001b[39m\u001b[39msct_8116006_2\u001b[39m\u001b[39m'\u001b[39m],\n\u001b[0;32m   (...)\u001b[0m\n\u001b[1;32m     89\u001b[0m     no_date\u001b[39m=\u001b[39mno_date,\n\u001b[1;32m     90\u001b[0m )\n\u001b[1;32m     92\u001b[0m variation_descriptor \u001b[39m=\u001b[39m _map_variation_descriptor(\n\u001b[1;32m     93\u001b[0m     variant_descriptor_id\u001b[39m=\u001b[39mconfig\u001b[39m.\u001b[39mget(\u001b[39m'\u001b[39m\u001b[39mConstants\u001b[39m\u001b[39m'\u001b[39m, \u001b[39m'\u001b[39m\u001b[39mvariant_descriptor_id\u001b[39m\u001b[39m'\u001b[39m),\n\u001b[1;32m     94\u001b[0m     zygosity\u001b[39m=\u001b[39mrow[\u001b[39m'\u001b[39m\u001b[39mparsed_zygosity\u001b[39m\u001b[39m'\u001b[39m],\n\u001b[0;32m   (...)\u001b[0m\n\u001b[1;32m    100\u001b[0m     no_mutation\u001b[39m=\u001b[39mno_mutation\n\u001b[1;32m    101\u001b[0m )\n",
      "File \u001b[0;32m~/Documents/BIH/ERKER2Phenopackets/ERKER2Phenopackets/src/MC4R/../../src/MC4R/MapMC4R.py:151\u001b[0m, in \u001b[0;36m_map_individual\u001b[0;34m(phenopacket_id, year_of_birth, sex)\u001b[0m\n\u001b[1;32m    135\u001b[0m \u001b[39mdef\u001b[39;00m \u001b[39m_map_individual\u001b[39m(phenopacket_id: \u001b[39mstr\u001b[39m, year_of_birth: \u001b[39mstr\u001b[39m, sex: \u001b[39mstr\u001b[39m) \u001b[39m-\u001b[39m\u001b[39m>\u001b[39m Individual:\n\u001b[1;32m    136\u001b[0m     \u001b[39m\"\"\"Maps ERKER patient data to Individual block\u001b[39;00m\n\u001b[1;32m    137\u001b[0m \n\u001b[1;32m    138\u001b[0m \u001b[39m    Phenopackets Documentation of the Individual block:\u001b[39;00m\n\u001b[0;32m   (...)\u001b[0m\n\u001b[1;32m    149\u001b[0m \u001b[39m    :rtype: Individual\u001b[39;00m\n\u001b[1;32m    150\u001b[0m \u001b[39m    \"\"\"\u001b[39;00m\n\u001b[0;32m--> 151\u001b[0m     individual \u001b[39m=\u001b[39m Individual(\n\u001b[1;32m    152\u001b[0m         \u001b[39mid\u001b[39;49m\u001b[39m=\u001b[39;49mphenopacket_id,\n\u001b[1;32m    153\u001b[0m         date_of_birth\u001b[39m=\u001b[39;49myear_of_birth,\n\u001b[1;32m    154\u001b[0m         sex\u001b[39m=\u001b[39;49msex,\n\u001b[1;32m    155\u001b[0m         taxonomy\u001b[39m=\u001b[39;49mOntologyClass(\u001b[39mid\u001b[39;49m\u001b[39m=\u001b[39;49m\u001b[39m'\u001b[39;49m\u001b[39mNCBITaxon:9606\u001b[39;49m\u001b[39m'\u001b[39;49m, label\u001b[39m=\u001b[39;49m\u001b[39m'\u001b[39;49m\u001b[39mHomo sapiens\u001b[39;49m\u001b[39m'\u001b[39;49m)\n\u001b[1;32m    156\u001b[0m     )\n\u001b[1;32m    158\u001b[0m     \u001b[39mreturn\u001b[39;00m individual\n",
      "\u001b[0;31mTypeError\u001b[0m: 0 has type int, but expected one of: bytes, unicode"
     ]
    }
   ],
   "source": [
    "from src.MC4R.MapMC4R import _map_chunk\n",
    "\n",
    "\n",
    "phenopackets = _map_chunk(df) #map_mc4r2phenopackets(df)"
   ]
  },
  {
   "cell_type": "markdown",
   "metadata": {},
   "source": [
    "## Write to json"
   ]
  },
  {
   "cell_type": "code",
   "execution_count": null,
   "metadata": {
    "ExecuteTime": {
     "end_time": "2023-08-30T16:59:04.142928Z",
     "start_time": "2023-08-30T16:59:04.048972Z"
    },
    "collapsed": false
   },
   "outputs": [
    {
     "ename": "NameError",
     "evalue": "name 'phenopackets' is not defined",
     "output_type": "error",
     "traceback": [
      "\u001b[0;31m---------------------------------------------------------------------------\u001b[0m",
      "\u001b[0;31mNameError\u001b[0m                                 Traceback (most recent call last)",
      "\u001b[1;32m/Users/adam/Documents/BIH/ERKER2Phenopackets/ERKER2Phenopackets/src/MC4R/pipeline.ipynb Cell 28\u001b[0m in \u001b[0;36m<cell line: 4>\u001b[0;34m()\u001b[0m\n\u001b[1;32m      <a href='vscode-notebook-cell:/Users/adam/Documents/BIH/ERKER2Phenopackets/ERKER2Phenopackets/src/MC4R/pipeline.ipynb#X36sZmlsZQ%3D%3D?line=0'>1</a>\u001b[0m cur_time \u001b[39m=\u001b[39m datetime\u001b[39m.\u001b[39mnow()\u001b[39m.\u001b[39mstrftime(\u001b[39m\"\u001b[39m\u001b[39m%\u001b[39m\u001b[39mY\u001b[39m\u001b[39m%\u001b[39m\u001b[39mm\u001b[39m\u001b[39m%d\u001b[39;00m\u001b[39m-\u001b[39m\u001b[39m%\u001b[39m\u001b[39mH\u001b[39m\u001b[39m%\u001b[39m\u001b[39mM\u001b[39m\u001b[39m%\u001b[39m\u001b[39mS\u001b[39m\u001b[39m\"\u001b[39m) \u001b[39m# get cur time for unique dir name\u001b[39;00m\n\u001b[1;32m      <a href='vscode-notebook-cell:/Users/adam/Documents/BIH/ERKER2Phenopackets/ERKER2Phenopackets/src/MC4R/pipeline.ipynb#X36sZmlsZQ%3D%3D?line=1'>2</a>\u001b[0m phenopackets_out_dir \u001b[39m=\u001b[39m phenopackets_out \u001b[39m/\u001b[39m cur_time \u001b[39m# create dir for output\u001b[39;00m\n\u001b[0;32m----> <a href='vscode-notebook-cell:/Users/adam/Documents/BIH/ERKER2Phenopackets/ERKER2Phenopackets/src/MC4R/pipeline.ipynb#X36sZmlsZQ%3D%3D?line=3'>4</a>\u001b[0m write_files(phenopackets, phenopackets_out_dir)\n",
      "\u001b[0;31mNameError\u001b[0m: name 'phenopackets' is not defined"
     ]
    }
   ],
   "source": [
    "cur_time = datetime.now().strftime(\"%Y%m%d-%H%M%S\") # get cur time for unique dir name\n",
    "phenopackets_out_dir = phenopackets_out / cur_time # create dir for output\n",
    "\n",
    "write_files(phenopackets, phenopackets_out_dir)"
   ]
  },
  {
   "cell_type": "code",
   "execution_count": null,
   "metadata": {},
   "outputs": [],
   "source": []
  },
  {
   "cell_type": "code",
   "execution_count": null,
   "metadata": {},
   "outputs": [],
   "source": []
  },
  {
   "cell_type": "code",
   "execution_count": null,
   "metadata": {},
   "outputs": [],
   "source": []
  }
 ],
 "metadata": {
  "kernelspec": {
   "display_name": "Python 3 (ipykernel)",
   "language": "python",
   "name": "python3"
  },
  "language_info": {
   "codemirror_mode": {
    "name": "ipython",
    "version": 3
   },
   "file_extension": ".py",
   "mimetype": "text/x-python",
   "name": "python",
   "nbconvert_exporter": "python",
   "pygments_lexer": "ipython3",
   "version": "3.10.6"
  },
  "orig_nbformat": 4
 },
 "nbformat": 4,
 "nbformat_minor": 2
}
