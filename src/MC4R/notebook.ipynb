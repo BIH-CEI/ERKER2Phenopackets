{
 "cells": [
  {
   "cell_type": "code",
   "execution_count": 19,
   "metadata": {
    "ExecuteTime": {
     "start_time": "2023-08-30T16:59:00.539190Z",
     "end_time": "2023-08-30T16:59:00.644039Z"
    }
   },
   "outputs": [],
   "source": [
    "import polars as pl # the same as pandas just faster\n",
    "\n",
    "import configparser\n",
    "from pathlib import Path\n",
    "from datetime import datetime\n",
    "\n",
    "from src.erker_mapping import map_erker2phenopackets, write_phenopackets"
   ]
  },
  {
   "cell_type": "markdown",
   "metadata": {},
   "source": [
    "### Get path to notebook from config file"
   ]
  },
  {
   "cell_type": "code",
   "execution_count": 20,
   "metadata": {
    "ExecuteTime": {
     "start_time": "2023-08-30T16:59:00.564906Z",
     "end_time": "2023-08-30T16:59:00.644039Z"
    }
   },
   "outputs": [],
   "source": [
    "config = configparser.ConfigParser()\n",
    "config.read('../../data/config/config.cfg')\n",
    "real_data = False\n",
    "\n",
    "if real_data:\n",
    "    path = Path(config.get('Paths', 'mc4r_path')) \n",
    "else:\n",
    "    path = Path(config.get('Paths', 'synth_data_path'))\n",
    "\n",
    "phenopackets_out = Path(config.get('Paths', 'phenopackets_out'))"
   ]
  },
  {
   "cell_type": "markdown",
   "source": [
    "### Set Creator Tag"
   ],
   "metadata": {
    "collapsed": false
   }
  },
  {
   "cell_type": "code",
   "execution_count": 21,
   "outputs": [
    {
     "name": "stdout",
     "output_type": "stream",
     "text": [
      "Creator tag: P. Robinson, MD, D. Danis, PhD, A. Graefe, F. Rehburg\n"
     ]
    }
   ],
   "source": [
    "created_by = config.get('Creator', 'creator_tag')\n",
    "\n",
    "print(f'Creator tag: {created_by}')"
   ],
   "metadata": {
    "collapsed": false,
    "ExecuteTime": {
     "start_time": "2023-08-30T16:59:00.579504Z",
     "end_time": "2023-08-30T16:59:00.645039Z"
    }
   }
  },
  {
   "cell_type": "markdown",
   "metadata": {},
   "source": [
    "### Read data in"
   ]
  },
  {
   "cell_type": "code",
   "execution_count": 22,
   "metadata": {
    "ExecuteTime": {
     "start_time": "2023-08-30T16:59:00.596634Z",
     "end_time": "2023-08-30T16:59:00.679189Z"
    }
   },
   "outputs": [],
   "source": [
    "df = pl.read_csv(path)"
   ]
  },
  {
   "cell_type": "markdown",
   "source": [
    "## Map to phenopackets"
   ],
   "metadata": {
    "collapsed": false
   }
  },
  {
   "cell_type": "code",
   "execution_count": 23,
   "outputs": [
    {
     "ename": "AttributeError",
     "evalue": "'DataFrame' object has no attribute 'iterrows'",
     "output_type": "error",
     "traceback": [
      "\u001B[1;31m---------------------------------------------------------------------------\u001B[0m",
      "\u001B[1;31mAttributeError\u001B[0m                            Traceback (most recent call last)",
      "Cell \u001B[1;32mIn[23], line 1\u001B[0m\n\u001B[1;32m----> 1\u001B[0m phenopackets \u001B[38;5;241m=\u001B[39m \u001B[43mmap_erker2phenopackets\u001B[49m\u001B[43m(\u001B[49m\u001B[43mdf\u001B[49m\u001B[43m,\u001B[49m\u001B[43m \u001B[49m\u001B[43mcreated_by\u001B[49m\u001B[38;5;241;43m=\u001B[39;49m\u001B[43mcreated_by\u001B[49m\u001B[43m)\u001B[49m\n",
      "File \u001B[1;32m~\\OneDrive\\Documents\\DataSpell\\ERKER2Phenopackets\\src\\erker_mapping\\MapERKER2Phenopackets.py:35\u001B[0m, in \u001B[0;36mmap_erker2phenopackets\u001B[1;34m(df, created_by)\u001B[0m\n\u001B[0;32m     28\u001B[0m \u001B[38;5;66;03m# vorher quasi nur mapping, hier zusammensetzen\u001B[39;00m\n\u001B[0;32m     29\u001B[0m resources \u001B[38;5;241m=\u001B[39m [\n\u001B[0;32m     30\u001B[0m     _create_resource(\u001B[38;5;124m'\u001B[39m\u001B[38;5;124mncbitaxon\u001B[39m\u001B[38;5;124m'\u001B[39m, \u001B[38;5;124m'\u001B[39m\u001B[38;5;124mNCBI organismal classification\u001B[39m\u001B[38;5;124m'\u001B[39m, \u001B[38;5;124m'\u001B[39m\u001B[38;5;124mNCBITaxon\u001B[39m\u001B[38;5;124m'\u001B[39m,\n\u001B[0;32m     31\u001B[0m                     \u001B[38;5;124m'\u001B[39m\u001B[38;5;124mhttp://purl.obolibrary.org/obo/ncbitaxon.owl\u001B[39m\u001B[38;5;124m'\u001B[39m, \u001B[38;5;124m'\u001B[39m\u001B[38;5;124m2021-06-10\u001B[39m\u001B[38;5;124m'\u001B[39m,\n\u001B[0;32m     32\u001B[0m                     \u001B[38;5;124m'\u001B[39m\u001B[38;5;124mhttp://purl.obolibrary.org/obo/NCBITaxon_\u001B[39m\u001B[38;5;124m'\u001B[39m)\n\u001B[0;32m     33\u001B[0m ]\n\u001B[1;32m---> 35\u001B[0m \u001B[38;5;28;01mfor\u001B[39;00m i, (phenopacket_id, row) \u001B[38;5;129;01min\u001B[39;00m \u001B[38;5;28menumerate\u001B[39m(\u001B[43mdf\u001B[49m\u001B[38;5;241;43m.\u001B[39;49m\u001B[43miterrows\u001B[49m()):\n\u001B[0;32m     36\u001B[0m     phenopacket_id \u001B[38;5;241m=\u001B[39m \u001B[38;5;124mf\u001B[39m\u001B[38;5;124m'\u001B[39m\u001B[38;5;132;01m{\u001B[39;00mi\u001B[38;5;132;01m}\u001B[39;00m\u001B[38;5;124m-\u001B[39m\u001B[38;5;132;01m{\u001B[39;00mphenopacket_id\u001B[38;5;132;01m}\u001B[39;00m\u001B[38;5;124m'\u001B[39m  \u001B[38;5;66;03m# TODO: come up with a better ID\u001B[39;00m\n\u001B[0;32m     37\u001B[0m     phenopacket \u001B[38;5;241m=\u001B[39m map_erker_row2phenopacket(\n\u001B[0;32m     38\u001B[0m         phenopacket_id, row, resources, created_by\n\u001B[0;32m     39\u001B[0m     )\n",
      "File \u001B[1;32m~\\anaconda3\\envs\\ERKER2Phenopackets\\lib\\site-packages\\polars\\utils\\deprecation.py:168\u001B[0m, in \u001B[0;36mdeprecate_renamed_methods.<locals>._redirecting_getattr_\u001B[1;34m(obj, item)\u001B[0m\n\u001B[0;32m    161\u001B[0m     issue_deprecation_warning(\n\u001B[0;32m    162\u001B[0m         \u001B[38;5;124mf\u001B[39m\u001B[38;5;124m\"\u001B[39m\u001B[38;5;124m`\u001B[39m\u001B[38;5;132;01m{\u001B[39;00mclass_name\u001B[38;5;132;01m}\u001B[39;00m\u001B[38;5;124m.\u001B[39m\u001B[38;5;132;01m{\u001B[39;00mitem\u001B[38;5;132;01m}\u001B[39;00m\u001B[38;5;124m` is deprecated.\u001B[39m\u001B[38;5;124m\"\u001B[39m\n\u001B[0;32m    163\u001B[0m         \u001B[38;5;124mf\u001B[39m\u001B[38;5;124m\"\u001B[39m\u001B[38;5;124m It has been renamed to `\u001B[39m\u001B[38;5;132;01m{\u001B[39;00mclass_name\u001B[38;5;132;01m}\u001B[39;00m\u001B[38;5;124m.\u001B[39m\u001B[38;5;132;01m{\u001B[39;00mnew_item_name\u001B[38;5;132;01m}\u001B[39;00m\u001B[38;5;124m`.\u001B[39m\u001B[38;5;124m\"\u001B[39m,\n\u001B[0;32m    164\u001B[0m         version\u001B[38;5;241m=\u001B[39mversions[item],\n\u001B[0;32m    165\u001B[0m     )\n\u001B[0;32m    166\u001B[0m     item \u001B[38;5;241m=\u001B[39m new_item_name\n\u001B[1;32m--> 168\u001B[0m attr \u001B[38;5;241m=\u001B[39m \u001B[43mobj\u001B[49m\u001B[38;5;241;43m.\u001B[39;49m\u001B[38;5;21;43m__getattribute__\u001B[39;49m\u001B[43m(\u001B[49m\u001B[43mitem\u001B[49m\u001B[43m)\u001B[49m\n\u001B[0;32m    169\u001B[0m \u001B[38;5;28;01mif\u001B[39;00m \u001B[38;5;28misinstance\u001B[39m(new_item, \u001B[38;5;28mtuple\u001B[39m):\n\u001B[0;32m    170\u001B[0m     attr \u001B[38;5;241m=\u001B[39m partial(attr, \u001B[38;5;241m*\u001B[39m\u001B[38;5;241m*\u001B[39mnew_item[\u001B[38;5;241m1\u001B[39m])\n",
      "\u001B[1;31mAttributeError\u001B[0m: 'DataFrame' object has no attribute 'iterrows'"
     ]
    }
   ],
   "source": [
    "phenopackets = map_erker2phenopackets(df, created_by=created_by)"
   ],
   "metadata": {
    "collapsed": false
   }
  },
  {
   "cell_type": "markdown",
   "metadata": {},
   "source": [
    "## Write to json"
   ]
  },
  {
   "cell_type": "code",
   "execution_count": 24,
   "outputs": [
    {
     "name": "stdout",
     "output_type": "stream",
     "text": [
      "..\\..\\data\\out\\phenopackets\\20230830-165904\n"
     ]
    }
   ],
   "source": [
    "cur_time = datetime.now().strftime(\"%Y%m%d-%H%M%S\")\n",
    "phenopackets_out_dir = phenopackets_out / cur_time\n",
    "\n",
    "write_phenopackets(phenopackets, phenopackets_out_dir)"
   ],
   "metadata": {
    "collapsed": false,
    "ExecuteTime": {
     "start_time": "2023-08-30T16:59:04.048972Z",
     "end_time": "2023-08-30T16:59:04.142928Z"
    }
   }
  }
 ],
 "metadata": {
  "language_info": {
   "name": "python"
  },
  "orig_nbformat": 4,
  "kernelspec": {
   "name": "python3",
   "language": "python",
   "display_name": "Python 3 (ipykernel)"
  }
 },
 "nbformat": 4,
 "nbformat_minor": 2
}
