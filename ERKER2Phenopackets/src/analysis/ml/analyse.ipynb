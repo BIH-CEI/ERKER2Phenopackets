{
 "cells": [
  {
   "cell_type": "code",
   "execution_count": 1,
   "outputs": [
    {
     "name": "stdout",
     "output_type": "stream",
     "text": [
      "C:\\Users\\Surface\\OneDrive\\Documents\\DataSpell\\ERKER2Phenopackets\\ERKER2Phenopackets\\src\\analysis\\ml\n",
      "C:\\Users\\Surface\\OneDrive\\Documents\\DataSpell\\ERKER2Phenopackets\n",
      "C:\\Users\\Surface\\anaconda3\\envs\\ERKER2Phenopackets\\python310.zip\n",
      "C:\\Users\\Surface\\anaconda3\\envs\\ERKER2Phenopackets\\DLLs\n",
      "C:\\Users\\Surface\\anaconda3\\envs\\ERKER2Phenopackets\\lib\n",
      "C:\\Users\\Surface\\anaconda3\\envs\\ERKER2Phenopackets\n",
      "\n",
      "C:\\Users\\Surface\\anaconda3\\envs\\ERKER2Phenopackets\\lib\\site-packages\n",
      "C:\\Users\\Surface\\anaconda3\\envs\\ERKER2Phenopackets\\lib\\site-packages\\win32\n",
      "C:\\Users\\Surface\\anaconda3\\envs\\ERKER2Phenopackets\\lib\\site-packages\\win32\\lib\n",
      "C:\\Users\\Surface\\anaconda3\\envs\\ERKER2Phenopackets\\lib\\site-packages\\Pythonwin\n",
      "C:\\Users\\Surface\\OneDrive\\Documents\\DataSpell\\ERKER2Phenopackets\\ERKER2Phenopackets\\src\\analysis\\ml\n"
     ]
    }
   ],
   "source": [
    "import os\n",
    "import sys\n",
    "for path in sys.path:\n",
    "    print(path)\n",
    "\n",
    "sys.path.append('..')\n",
    "\n",
    "print(os.getcwd())\n",
    "\n",
    "confidential_phenopackets_path = ''"
   ],
   "metadata": {
    "collapsed": false,
    "ExecuteTime": {
     "end_time": "2023-12-18T14:30:14.185902200Z",
     "start_time": "2023-12-18T14:30:12.710017400Z"
    }
   },
   "id": "259770dd648872c"
  },
  {
   "cell_type": "code",
   "execution_count": 2,
   "outputs": [
    {
     "data": {
      "text/plain": "WindowsPath('C:/Users/Surface/OneDrive/Documents/DataSpell/ERKER2Phenopackets/ERKER2Phenopackets/data/out/phenopackets')"
     },
     "execution_count": 2,
     "metadata": {},
     "output_type": "execute_result"
    }
   ],
   "source": [
    "import configparser\n",
    "from pathlib import Path\n",
    "\n",
    "config = configparser.ConfigParser()\n",
    "config.read('../../../data/config/config.cfg')\n",
    "\n",
    "phenopackets_out_dir = ('..' / Path(config.get('Paths', 'phenopackets_out'))).resolve()\n",
    "\n",
    "phenopackets_out_dir"
   ],
   "metadata": {
    "collapsed": false,
    "ExecuteTime": {
     "end_time": "2023-12-18T14:30:14.188116Z",
     "start_time": "2023-12-18T14:30:12.725564900Z"
    }
   },
   "id": "initial_id"
  },
  {
   "cell_type": "markdown",
   "source": [
    "# read in data from phenopackets"
   ],
   "metadata": {
    "collapsed": false
   },
   "id": "3acfd38d139a2a23"
  },
  {
   "cell_type": "code",
   "execution_count": 3,
   "outputs": [],
   "source": [
    "from ERKER2Phenopackets.src.utils.io import read_files\n",
    "\n",
    "example_phenopackets_dir = phenopackets_out_dir / 'example-phenopackets-from-synthetic-data'\n",
    "is_synth_data = True\n",
    "pps = read_files(example_phenopackets_dir)"
   ],
   "metadata": {
    "collapsed": false,
    "ExecuteTime": {
     "end_time": "2023-12-18T14:30:14.205644900Z",
     "start_time": "2023-12-18T14:30:12.766262400Z"
    }
   },
   "id": "f871b71d017e1148"
  },
  {
   "cell_type": "markdown",
   "source": [
    "# convert phenopackets to dataframe\n",
    "Necessary fields:\n",
    "- id\n",
    "- zygosity\n",
    "- cHGVS mutation\n",
    "- Obsesity Class and timestamp"
   ],
   "metadata": {
    "collapsed": false
   },
   "id": "e34f4c13d1b06892"
  },
  {
   "cell_type": "code",
   "execution_count": 4,
   "outputs": [],
   "source": [
    "from typing import Tuple, Any\n",
    "from phenopackets import Phenopacket\n",
    "\n",
    "sex_map = {0: 'unknown', 1: 'female', 2: 'male', 3: 'other'}\n",
    "\n",
    "def extract_phenotype(phenotypic_features, i) -> Tuple[str, str, bool, int]:\n",
    "    phenotypic_features = phenotypic_features[i]\n",
    "    obesity_class_hpo = phenotypic_features.type.id\n",
    "    obesity_class = phenotypic_features.type.label\n",
    "    excluded = phenotypic_features.excluded\n",
    "    onset = phenotypic_features.onset.timestamp.ToSeconds()\n",
    "    return obesity_class_hpo, obesity_class, excluded, onset\n",
    "\n",
    "def extract_fields(phenopacket: Phenopacket):\n",
    "    pp_id = int(phenopacket.id)\n",
    "    dob = phenopacket.subject.date_of_birth.ToSeconds()\n",
    "    sex = sex_map[phenopacket.subject.sex]\n",
    "\n",
    "    try:\n",
    "        variation_descriptor = phenopacket.interpretations[0].diagnosis.genomic_interpretations[0].variant_interpretation.variation_descriptor\n",
    "        c_hgvs = variation_descriptor.expressions[1].value\n",
    "        zygosity = variation_descriptor.allelic_state.label\n",
    "    except IndexError:\n",
    "        return None\n",
    "\n",
    "    phenotypic_features = phenopacket.phenotypic_features\n",
    "\n",
    "    phenotype_data = []\n",
    "    for i in range(5):\n",
    "        try:\n",
    "            obesity_class_hpo, obesity_class, excluded, onset = extract_phenotype(phenotypic_features, i)\n",
    "        except IndexError:\n",
    "            obesity_class_hpo, obesity_class, excluded, onset = None, None, None, None\n",
    "        phenotype_data.extend([obesity_class_hpo, obesity_class, excluded, onset])\n",
    "\n",
    "    return tuple([pp_id, dob, sex, zygosity, c_hgvs] + phenotype_data)\n"
   ],
   "metadata": {
    "collapsed": false,
    "ExecuteTime": {
     "end_time": "2023-12-18T14:30:14.221271Z",
     "start_time": "2023-12-18T14:30:13.804107600Z"
    }
   },
   "id": "376850abf12de9b"
  },
  {
   "cell_type": "code",
   "execution_count": 5,
   "outputs": [],
   "source": [
    "# todo: some people have multiple variants max 3"
   ],
   "metadata": {
    "collapsed": false,
    "ExecuteTime": {
     "end_time": "2023-12-18T14:30:14.221271Z",
     "start_time": "2023-12-18T14:30:13.833141Z"
    }
   },
   "id": "a33a8b9fe2db3454"
  },
  {
   "cell_type": "code",
   "execution_count": 6,
   "outputs": [
    {
     "data": {
      "text/plain": "id: \"0\"\nsubject {\n  id: \"0\"\n  date_of_birth {\n    seconds: 946684800\n  }\n  sex: FEMALE\n  taxonomy {\n    id: \"NCBITaxon:9606\"\n    label: \"Homo sapiens\"\n  }\n}\nphenotypic_features {\n  type {\n    id: \"HP:0001513\"\n    label: \"Obesity\"\n  }\n  excluded: true\n  onset {\n    timestamp {\n      seconds: 708652800\n    }\n  }\n}\ninterpretations {\n  id: \"e0dd47b3-6e13-4507-84a7-5606bee17024\"\n  progress_status: SOLVED\n  diagnosis {\n    disease {\n      id: \"ORPHA:71529\"\n      label: \"Obesity due to melanocortin 4 receptor deficiency\"\n    }\n    genomic_interpretations {\n      subject_or_biosample_id: \"0\"\n      interpretation_status: CONTRIBUTORY\n      variant_interpretation {\n        variation_descriptor {\n          id: \"id:A\"\n          expressions {\n            syntax: \"hgvs\"\n            value: \"NP_005903.2:p.(Val103Ile)\"\n          }\n          expressions {\n            syntax: \"hgvs\"\n            value: \"NM_005912.3:c.181G>T\"\n          }\n          allelic_state {\n            id: \"GENO:0000135\"\n            label: \"heterozygous\"\n          }\n        }\n      }\n    }\n  }\n}\nmeta_data {\n  created {\n    seconds: 1696204800\n  }\n  created_by: \"A. Graefe, F. Rehburg\"\n  resources {\n    id: \"HP\"\n    name: \"Human Phenotype Ontology\"\n    url: \"http://www.human-phenotype-ontology.org\"\n    version: \"2023-06-06\"\n    namespace_prefix: \"HP\"\n    iri_prefix: \"http://purl.obolibrary.org/obo/HP_\"\n  }\n  resources {\n    id: \"OMIM\"\n    name: \"Online Mendelian Inheritance in Man\"\n    url: \"https://www.omim.org/\"\n    version: \"2023-09-08\"\n    namespace_prefix: \"OMIM\"\n    iri_prefix: \"https://www.omim.org/\"\n  }\n  resources {\n    id: \"ORPHA\"\n    name: \"Orphanet Rare Disease Ontology\"\n    url: \"https://www.orpha.net/\"\n    version: \"2023-09-10\"\n    namespace_prefix: \"ORPHA\"\n    iri_prefix: \"https://registry.identifiers.org/registry/orphanet.ordo\"\n  }\n  resources {\n    id: \"NCBITaxon\"\n    name: \"National Center for Biotechnology Information Taxonomy\"\n    url: \"https://www.ncbi.nlm.nih.gov/taxonomy\"\n    version: \"2023-02-21\"\n    namespace_prefix: \"NCBITaxon\"\n    iri_prefix: \"http://purl.obolibrary.org/obo/NCBITaxon_\"\n  }\n  resources {\n    id: \"LOINC\"\n    name: \"Logical Observation Identifiers Names and Codes\"\n    url: \"https://loinc.org/\"\n    version: \"2023-08-15\"\n    namespace_prefix: \"LOINC\"\n    iri_prefix: \"https://loinc.org/\"\n  }\n  resources {\n    id: \"HGNC\"\n    name: \"HUGO Gene Nomenclature Committee\"\n    url: \"https://www.genenames.org/\"\n    version: \"2023-09-10\"\n    namespace_prefix: \"HGNC\"\n    iri_prefix: \"https://www.genenames.org/data/gene-symbol-report/#!/hgnc_id/\"\n  }\n  resources {\n    id: \"GENO\"\n    name: \"Gene Ontology\"\n    url: \"https://geneontology.org/\"\n    version: \"2023-07-27\"\n    namespace_prefix: \"GENO\"\n    iri_prefix: \"http://purl.obolibrary.org/obo/GENO_\"\n  }\n  phenopacket_schema_version: \"2.0.2\"\n}"
     },
     "execution_count": 6,
     "metadata": {},
     "output_type": "execute_result"
    }
   ],
   "source": [
    "phenopacket = pps[0]\n",
    "variation_descriptor = phenopacket.interpretations[0].diagnosis.genomic_interpretations[0].variant_interpretation\n",
    "\n",
    "phenopacket"
   ],
   "metadata": {
    "collapsed": false,
    "ExecuteTime": {
     "end_time": "2023-12-18T14:30:14.221271Z",
     "start_time": "2023-12-18T14:30:13.843141100Z"
    }
   },
   "id": "d0cd4da031dd0c8e"
  },
  {
   "cell_type": "code",
   "execution_count": 7,
   "outputs": [
    {
     "name": "stdout",
     "output_type": "stream",
     "text": [
      "(0, 946684800, 'female', 'heterozygous', 'NM_005912.3:c.181G>T', 'HP:0001513', 'Obesity', True, 708652800, None, None, None, None, None, None, None, None, None, None, None, None, None, None, None, None)\n",
      "(1, 915148800, 'female', 'heterozygous', 'NM_005912.3:c.307G>A', 'HP:0001513', 'Obesity', True, 1254268800, 'HP:0001513', 'Obesity', False, 967507200, None, None, None, None, None, None, None, None, None, None, None, None)\n",
      "None\n",
      "None\n",
      "(12, 757382400, 'male', 'heterozygous', 'NM_005912.3:c.307G>A', 'HP:0001513', 'Obesity', False, 1118793600, 'HP:0025500', 'Class II obesity', False, 1267056000, None, None, None, None, None, None, None, None, None, None, None, None)\n",
      "(13, 757382400, 'male', 'heterozygous', 'NM_005912.3:c.307G>A', 'HP:0001513', 'Obesity', True, 1234051200, 'HP:0001507', 'Growth abnormality', True, 985219200, 'HP:0001507', 'Growth abnormality', False, 876528000, None, None, None, None, None, None, None, None)\n",
      "None\n",
      "None\n",
      "None\n",
      "(17, 1072915200, 'female', 'homozygous', 'NM_005912.3:c.253A>G', 'HP:0025500', 'Class II obesity', True, 638409600, None, None, None, None, None, None, None, None, None, None, None, None, None, None, None, None)\n",
      "(18, 1136073600, 'female', 'heterozygous', 'NM_005912.3:c.508A>G', 'HP:0001513', 'Obesity', True, 916272000, None, None, None, None, None, None, None, None, None, None, None, None, None, None, None, None)\n",
      "None\n",
      "(2, 1009843200, 'female', 'heterozygous', 'NM_005912.3:c.821A>G', 'HP:0001513', 'Obesity', True, 1087257600, 'HP:0001513', 'Obesity', True, 825811200, 'HP:0001507', 'Growth abnormality', False, 976406400, None, None, None, None, None, None, None, None)\n",
      "(20, 1072915200, 'male', 'heterozygous', 'NM_005912.3:c.307G>A', 'HP:0001513', 'Obesity', True, 872208000, 'HP:0025499', 'Class I obesity', False, 674524800, 'HP:0001507', 'Growth abnormality', False, 1037750400, None, None, None, None, None, None, None, None)\n",
      "(21, 1136073600, 'male', 'heterozygous', 'NM_005912.3:c.751A>C', 'HP:0001513', 'Obesity', True, 938563200, 'HP:0001513', 'Obesity', True, 1149724800, 'HP:0001507', 'Growth abnormality', False, 1451606400, None, None, None, None, None, None, None, None)\n",
      "(22, 694224000, 'male', 'heterozygous', 'NM_005912.3:c.268G>A', 'HP:0001513', 'Obesity', True, 804816000, 'HP:0001507', 'Growth abnormality', False, 801792000, None, None, None, None, None, None, None, None, None, None, None, None)\n",
      "(23, 1293840000, 'female', 'heterozygous', 'NM_005912.3:c.307G>A', 'HP:0001513', 'Obesity', True, 766368000, 'HP:0001513', 'Obesity', True, 669772800, 'HP:0001507', 'Growth abnormality', False, 764467200, None, None, None, None, None, None, None, None)\n",
      "(24, 1072915200, 'male', 'unspecified zygosity', 'NM_005912.3:c.533C>T', 'HP:0001513', 'Obesity', True, 998611200, None, None, None, None, None, None, None, None, None, None, None, None, None, None, None, None)\n",
      "(25, 820454400, 'male', 'heterozygous', 'NM_005912.3:c.230C>T', 'HP:0001507', 'Growth abnormality', True, 1234051200, 'HP:0025499', 'Class I obesity', False, 918432000, None, None, None, None, None, None, None, None, None, None, None, None)\n",
      "(26, 757382400, 'female', 'heterozygous', 'NM_005912.3:c.268G>A', 'HP:0001507', 'Growth abnormality', True, 638409600, 'HP:0001507', 'Growth abnormality', True, 740188800, None, None, None, None, None, None, None, None, None, None, None, None)\n",
      "None\n",
      "(28, 631152000, 'female', 'heterozygous', 'NM_005912.3:c.823C>T', 'HP:0001513', 'Obesity', True, 942969600, 'HP:0025502', 'Overweight', True, 1117584000, 'HP:0001507', 'Growth abnormality', False, 818294400, None, None, None, None, None, None, None, None)\n",
      "(29, 1483228800, 'male', 'heterozygous', 'NM_005912.3:c.230C>T', 'HP:0001513', 'Obesity', False, 1298851200, 'HP:0001507', 'Growth abnormality', False, 892598400, None, None, None, None, None, None, None, None, None, None, None, None)\n",
      "(3, 820454400, 'male', 'heterozygous', 'NM_005912.3:c.307G>A', None, None, None, None, None, None, None, None, None, None, None, None, None, None, None, None, None, None, None, None)\n",
      "(30, 725846400, 'female', 'heterozygous', 'NM_005912.3:c.181G>T', 'HP:0001507', 'Growth abnormality', True, 712800000, 'HP:0001507', 'Growth abnormality', False, 719625600, None, None, None, None, None, None, None, None, None, None, None, None)\n",
      "(31, 915148800, 'female', 'heterozygous', 'NM_005912.3:c.335C>A', 'HP:0001513', 'Obesity', True, 900979200, 'HP:0001507', 'Growth abnormality', True, 1388534400, 'HP:0025502', 'Overweight', False, 1090368000, 'HP:0025499', 'Class I obesity', False, 770083200, None, None, None, None)\n",
      "(32, 1420070400, 'male', 'heterozygous', 'NM_005912.3:c.307G>A', 'HP:0001513', 'Obesity', True, 749174400, 'HP:0001507', 'Growth abnormality', False, 719625600, None, None, None, None, None, None, None, None, None, None, None, None)\n",
      "(33, 978307200, 'female', 'heterozygous', 'NM_005912.3:c.811T>C', 'HP:0001513', 'Obesity', True, 1489104000, 'HP:0001507', 'Growth abnormality', False, 1061424000, None, None, None, None, None, None, None, None, None, None, None, None)\n",
      "None\n",
      "None\n",
      "(36, 788918400, 'female', 'homozygous', 'NM_005912.3:c.335C>T', 'HP:0001513', 'Obesity', True, 1471392000, None, None, None, None, None, None, None, None, None, None, None, None, None, None, None, None)\n",
      "(37, 1072915200, 'female', 'heterozygous', 'NM_005912.3:c.307G>A', 'HP:0001513', 'Obesity', True, 916185600, 'HP:0025499', 'Class I obesity', True, 903744000, 'HP:0001513', 'Obesity', False, 833414400, None, None, None, None, None, None, None, None)\n",
      "(38, 978307200, 'female', 'heterozygous', 'NM_005912.3:c.307G>A', 'HP:0001513', 'Obesity', True, 843609600, 'HP:0001507', 'Growth abnormality', False, 1010793600, None, None, None, None, None, None, None, None, None, None, None, None)\n",
      "(39, 1356998400, 'female', 'homozygous', 'NM_005912.3:c.751A>C', 'HP:0001507', 'Growth abnormality', True, 1234051200, 'HP:0001507', 'Growth abnormality', False, 1241913600, 'HP:0001513', 'Obesity', False, 968025600, None, None, None, None, None, None, None, None)\n",
      "(4, 946684800, 'male', 'heterozygous', 'NM_005912.3:c.239A>G', None, None, None, None, None, None, None, None, None, None, None, None, None, None, None, None, None, None, None, None)\n",
      "None\n",
      "(41, 915148800, 'female', 'heterozygous', 'NM_005912.3:c.496G>C', 'HP:0001513', 'Obesity', True, 1293667200, None, None, None, None, None, None, None, None, None, None, None, None, None, None, None, None)\n",
      "(42, 1009843200, 'female', 'heterozygous', 'NM_005912.3:c.751A>C', 'HP:0001513', 'Obesity', True, 1203897600, 'HP:0001507', 'Growth abnormality', True, 976492800, None, None, None, None, None, None, None, None, None, None, None, None)\n",
      "(43, 1041379200, 'male', 'heterozygous', 'NM_005912.3:c.751A>C', 'HP:0001507', 'Growth abnormality', True, 816825600, 'HP:0001513', 'Obesity', False, 1088467200, None, None, None, None, None, None, None, None, None, None, None, None)\n",
      "(44, 1009843200, 'female', 'heterozygous', 'NM_005912.3:c.307G>A', 'HP:0001513', 'Obesity', True, 760665600, 'HP:0001507', 'Growth abnormality', False, 1265068800, 'HP:0001507', 'Growth abnormality', False, 822960000, None, None, None, None, None, None, None, None)\n",
      "(45, 946684800, 'male', 'heterozygous', 'NM_005912.3:c.751A>C', 'HP:0001513', 'Obesity', True, 1356998400, 'HP:0001507', 'Growth abnormality', False, 1024617600, None, None, None, None, None, None, None, None, None, None, None, None)\n",
      "(46, 1483228800, 'male', 'heterozygous', 'NM_005912.3:c.230C>T', 'HP:0001513', 'Obesity', True, 813369600, 'HP:0025499', 'Class I obesity', False, 787104000, 'HP:0001507', 'Growth abnormality', False, 1076976000, None, None, None, None, None, None, None, None)\n",
      "(47, 1009843200, 'female', 'heterozygous', 'NM_005912.3:c.523G>A', 'HP:0001513', 'Obesity', True, 1234051200, 'HP:0025502', 'Overweight', False, 976406400, None, None, None, None, None, None, None, None, None, None, None, None)\n",
      "(48, 757382400, 'female', 'heterozygous', 'NM_005912.3:c.307G>A', 'HP:0001513', 'Obesity', True, 1014681600, 'HP:0001507', 'Growth abnormality', True, 951091200, 'HP:0001507', 'Growth abnormality', False, 941673600, None, None, None, None, None, None, None, None)\n",
      "None\n",
      "None\n",
      "None\n",
      "(51, 946684800, 'female', 'heterozygous', 'NM_005912.3:c.181G>T', 'HP:0001513', 'Obesity', True, 708652800, 'HP:0001513', 'Obesity', True, 708652800, 'HP:0001513', 'Obesity', True, 708652800, 'HP:0001513', 'Obesity', True, 708652800, 'HP:0025501', 'Class III obesity', False, 708652800)\n",
      "None\n",
      "(7, 1009843200, 'female', 'heterozygous', 'NM_005912.3:c.751A>C', 'HP:0001513', 'Obesity', True, 824256000, 'HP:0001507', 'Growth abnormality', False, 701568000, None, None, None, None, None, None, None, None, None, None, None, None)\n",
      "None\n",
      "(9, 1072915200, 'male', 'heterozygous', 'NM_005912.3:c.307G>A', 'HP:0001513', 'Obesity', False, 1056153600, 'HP:0001507', 'Growth abnormality', False, 1396915200, None, None, None, None, None, None, None, None, None, None, None, None)\n"
     ]
    }
   ],
   "source": [
    "for pp in pps:\n",
    "    print(extract_fields(pp))"
   ],
   "metadata": {
    "collapsed": false,
    "ExecuteTime": {
     "end_time": "2023-12-18T14:30:14.221271Z",
     "start_time": "2023-12-18T14:30:13.855041Z"
    }
   },
   "id": "5c29bfa549db9a2a"
  },
  {
   "cell_type": "code",
   "execution_count": 8,
   "outputs": [
    {
     "data": {
      "text/plain": "([(0,\n   946684800,\n   'female',\n   'heterozygous',\n   'NM_005912.3:c.181G>T',\n   'HP:0001513',\n   'Obesity',\n   True,\n   708652800,\n   None,\n   None,\n   None,\n   None,\n   None,\n   None,\n   None,\n   None,\n   None,\n   None,\n   None,\n   None,\n   None,\n   None,\n   None,\n   None),\n  (1,\n   915148800,\n   'female',\n   'heterozygous',\n   'NM_005912.3:c.307G>A',\n   'HP:0001513',\n   'Obesity',\n   True,\n   1254268800,\n   'HP:0001513',\n   'Obesity',\n   False,\n   967507200,\n   None,\n   None,\n   None,\n   None,\n   None,\n   None,\n   None,\n   None,\n   None,\n   None,\n   None,\n   None),\n  (12,\n   757382400,\n   'male',\n   'heterozygous',\n   'NM_005912.3:c.307G>A',\n   'HP:0001513',\n   'Obesity',\n   False,\n   1118793600,\n   'HP:0025500',\n   'Class II obesity',\n   False,\n   1267056000,\n   None,\n   None,\n   None,\n   None,\n   None,\n   None,\n   None,\n   None,\n   None,\n   None,\n   None,\n   None),\n  (13,\n   757382400,\n   'male',\n   'heterozygous',\n   'NM_005912.3:c.307G>A',\n   'HP:0001513',\n   'Obesity',\n   True,\n   1234051200,\n   'HP:0001507',\n   'Growth abnormality',\n   True,\n   985219200,\n   'HP:0001507',\n   'Growth abnormality',\n   False,\n   876528000,\n   None,\n   None,\n   None,\n   None,\n   None,\n   None,\n   None,\n   None),\n  (17,\n   1072915200,\n   'female',\n   'homozygous',\n   'NM_005912.3:c.253A>G',\n   'HP:0025500',\n   'Class II obesity',\n   True,\n   638409600,\n   None,\n   None,\n   None,\n   None,\n   None,\n   None,\n   None,\n   None,\n   None,\n   None,\n   None,\n   None,\n   None,\n   None,\n   None,\n   None),\n  (18,\n   1136073600,\n   'female',\n   'heterozygous',\n   'NM_005912.3:c.508A>G',\n   'HP:0001513',\n   'Obesity',\n   True,\n   916272000,\n   None,\n   None,\n   None,\n   None,\n   None,\n   None,\n   None,\n   None,\n   None,\n   None,\n   None,\n   None,\n   None,\n   None,\n   None,\n   None),\n  (2,\n   1009843200,\n   'female',\n   'heterozygous',\n   'NM_005912.3:c.821A>G',\n   'HP:0001513',\n   'Obesity',\n   True,\n   1087257600,\n   'HP:0001513',\n   'Obesity',\n   True,\n   825811200,\n   'HP:0001507',\n   'Growth abnormality',\n   False,\n   976406400,\n   None,\n   None,\n   None,\n   None,\n   None,\n   None,\n   None,\n   None),\n  (20,\n   1072915200,\n   'male',\n   'heterozygous',\n   'NM_005912.3:c.307G>A',\n   'HP:0001513',\n   'Obesity',\n   True,\n   872208000,\n   'HP:0025499',\n   'Class I obesity',\n   False,\n   674524800,\n   'HP:0001507',\n   'Growth abnormality',\n   False,\n   1037750400,\n   None,\n   None,\n   None,\n   None,\n   None,\n   None,\n   None,\n   None),\n  (21,\n   1136073600,\n   'male',\n   'heterozygous',\n   'NM_005912.3:c.751A>C',\n   'HP:0001513',\n   'Obesity',\n   True,\n   938563200,\n   'HP:0001513',\n   'Obesity',\n   True,\n   1149724800,\n   'HP:0001507',\n   'Growth abnormality',\n   False,\n   1451606400,\n   None,\n   None,\n   None,\n   None,\n   None,\n   None,\n   None,\n   None),\n  (22,\n   694224000,\n   'male',\n   'heterozygous',\n   'NM_005912.3:c.268G>A',\n   'HP:0001513',\n   'Obesity',\n   True,\n   804816000,\n   'HP:0001507',\n   'Growth abnormality',\n   False,\n   801792000,\n   None,\n   None,\n   None,\n   None,\n   None,\n   None,\n   None,\n   None,\n   None,\n   None,\n   None,\n   None),\n  (23,\n   1293840000,\n   'female',\n   'heterozygous',\n   'NM_005912.3:c.307G>A',\n   'HP:0001513',\n   'Obesity',\n   True,\n   766368000,\n   'HP:0001513',\n   'Obesity',\n   True,\n   669772800,\n   'HP:0001507',\n   'Growth abnormality',\n   False,\n   764467200,\n   None,\n   None,\n   None,\n   None,\n   None,\n   None,\n   None,\n   None),\n  (24,\n   1072915200,\n   'male',\n   'unspecified zygosity',\n   'NM_005912.3:c.533C>T',\n   'HP:0001513',\n   'Obesity',\n   True,\n   998611200,\n   None,\n   None,\n   None,\n   None,\n   None,\n   None,\n   None,\n   None,\n   None,\n   None,\n   None,\n   None,\n   None,\n   None,\n   None,\n   None),\n  (25,\n   820454400,\n   'male',\n   'heterozygous',\n   'NM_005912.3:c.230C>T',\n   'HP:0001507',\n   'Growth abnormality',\n   True,\n   1234051200,\n   'HP:0025499',\n   'Class I obesity',\n   False,\n   918432000,\n   None,\n   None,\n   None,\n   None,\n   None,\n   None,\n   None,\n   None,\n   None,\n   None,\n   None,\n   None),\n  (26,\n   757382400,\n   'female',\n   'heterozygous',\n   'NM_005912.3:c.268G>A',\n   'HP:0001507',\n   'Growth abnormality',\n   True,\n   638409600,\n   'HP:0001507',\n   'Growth abnormality',\n   True,\n   740188800,\n   None,\n   None,\n   None,\n   None,\n   None,\n   None,\n   None,\n   None,\n   None,\n   None,\n   None,\n   None),\n  (28,\n   631152000,\n   'female',\n   'heterozygous',\n   'NM_005912.3:c.823C>T',\n   'HP:0001513',\n   'Obesity',\n   True,\n   942969600,\n   'HP:0025502',\n   'Overweight',\n   True,\n   1117584000,\n   'HP:0001507',\n   'Growth abnormality',\n   False,\n   818294400,\n   None,\n   None,\n   None,\n   None,\n   None,\n   None,\n   None,\n   None),\n  (29,\n   1483228800,\n   'male',\n   'heterozygous',\n   'NM_005912.3:c.230C>T',\n   'HP:0001513',\n   'Obesity',\n   False,\n   1298851200,\n   'HP:0001507',\n   'Growth abnormality',\n   False,\n   892598400,\n   None,\n   None,\n   None,\n   None,\n   None,\n   None,\n   None,\n   None,\n   None,\n   None,\n   None,\n   None),\n  (3,\n   820454400,\n   'male',\n   'heterozygous',\n   'NM_005912.3:c.307G>A',\n   None,\n   None,\n   None,\n   None,\n   None,\n   None,\n   None,\n   None,\n   None,\n   None,\n   None,\n   None,\n   None,\n   None,\n   None,\n   None,\n   None,\n   None,\n   None,\n   None),\n  (30,\n   725846400,\n   'female',\n   'heterozygous',\n   'NM_005912.3:c.181G>T',\n   'HP:0001507',\n   'Growth abnormality',\n   True,\n   712800000,\n   'HP:0001507',\n   'Growth abnormality',\n   False,\n   719625600,\n   None,\n   None,\n   None,\n   None,\n   None,\n   None,\n   None,\n   None,\n   None,\n   None,\n   None,\n   None),\n  (31,\n   915148800,\n   'female',\n   'heterozygous',\n   'NM_005912.3:c.335C>A',\n   'HP:0001513',\n   'Obesity',\n   True,\n   900979200,\n   'HP:0001507',\n   'Growth abnormality',\n   True,\n   1388534400,\n   'HP:0025502',\n   'Overweight',\n   False,\n   1090368000,\n   'HP:0025499',\n   'Class I obesity',\n   False,\n   770083200,\n   None,\n   None,\n   None,\n   None),\n  (32,\n   1420070400,\n   'male',\n   'heterozygous',\n   'NM_005912.3:c.307G>A',\n   'HP:0001513',\n   'Obesity',\n   True,\n   749174400,\n   'HP:0001507',\n   'Growth abnormality',\n   False,\n   719625600,\n   None,\n   None,\n   None,\n   None,\n   None,\n   None,\n   None,\n   None,\n   None,\n   None,\n   None,\n   None),\n  (33,\n   978307200,\n   'female',\n   'heterozygous',\n   'NM_005912.3:c.811T>C',\n   'HP:0001513',\n   'Obesity',\n   True,\n   1489104000,\n   'HP:0001507',\n   'Growth abnormality',\n   False,\n   1061424000,\n   None,\n   None,\n   None,\n   None,\n   None,\n   None,\n   None,\n   None,\n   None,\n   None,\n   None,\n   None),\n  (36,\n   788918400,\n   'female',\n   'homozygous',\n   'NM_005912.3:c.335C>T',\n   'HP:0001513',\n   'Obesity',\n   True,\n   1471392000,\n   None,\n   None,\n   None,\n   None,\n   None,\n   None,\n   None,\n   None,\n   None,\n   None,\n   None,\n   None,\n   None,\n   None,\n   None,\n   None),\n  (37,\n   1072915200,\n   'female',\n   'heterozygous',\n   'NM_005912.3:c.307G>A',\n   'HP:0001513',\n   'Obesity',\n   True,\n   916185600,\n   'HP:0025499',\n   'Class I obesity',\n   True,\n   903744000,\n   'HP:0001513',\n   'Obesity',\n   False,\n   833414400,\n   None,\n   None,\n   None,\n   None,\n   None,\n   None,\n   None,\n   None),\n  (38,\n   978307200,\n   'female',\n   'heterozygous',\n   'NM_005912.3:c.307G>A',\n   'HP:0001513',\n   'Obesity',\n   True,\n   843609600,\n   'HP:0001507',\n   'Growth abnormality',\n   False,\n   1010793600,\n   None,\n   None,\n   None,\n   None,\n   None,\n   None,\n   None,\n   None,\n   None,\n   None,\n   None,\n   None),\n  (39,\n   1356998400,\n   'female',\n   'homozygous',\n   'NM_005912.3:c.751A>C',\n   'HP:0001507',\n   'Growth abnormality',\n   True,\n   1234051200,\n   'HP:0001507',\n   'Growth abnormality',\n   False,\n   1241913600,\n   'HP:0001513',\n   'Obesity',\n   False,\n   968025600,\n   None,\n   None,\n   None,\n   None,\n   None,\n   None,\n   None,\n   None),\n  (4,\n   946684800,\n   'male',\n   'heterozygous',\n   'NM_005912.3:c.239A>G',\n   None,\n   None,\n   None,\n   None,\n   None,\n   None,\n   None,\n   None,\n   None,\n   None,\n   None,\n   None,\n   None,\n   None,\n   None,\n   None,\n   None,\n   None,\n   None,\n   None),\n  (41,\n   915148800,\n   'female',\n   'heterozygous',\n   'NM_005912.3:c.496G>C',\n   'HP:0001513',\n   'Obesity',\n   True,\n   1293667200,\n   None,\n   None,\n   None,\n   None,\n   None,\n   None,\n   None,\n   None,\n   None,\n   None,\n   None,\n   None,\n   None,\n   None,\n   None,\n   None),\n  (42,\n   1009843200,\n   'female',\n   'heterozygous',\n   'NM_005912.3:c.751A>C',\n   'HP:0001513',\n   'Obesity',\n   True,\n   1203897600,\n   'HP:0001507',\n   'Growth abnormality',\n   True,\n   976492800,\n   None,\n   None,\n   None,\n   None,\n   None,\n   None,\n   None,\n   None,\n   None,\n   None,\n   None,\n   None),\n  (43,\n   1041379200,\n   'male',\n   'heterozygous',\n   'NM_005912.3:c.751A>C',\n   'HP:0001507',\n   'Growth abnormality',\n   True,\n   816825600,\n   'HP:0001513',\n   'Obesity',\n   False,\n   1088467200,\n   None,\n   None,\n   None,\n   None,\n   None,\n   None,\n   None,\n   None,\n   None,\n   None,\n   None,\n   None),\n  (44,\n   1009843200,\n   'female',\n   'heterozygous',\n   'NM_005912.3:c.307G>A',\n   'HP:0001513',\n   'Obesity',\n   True,\n   760665600,\n   'HP:0001507',\n   'Growth abnormality',\n   False,\n   1265068800,\n   'HP:0001507',\n   'Growth abnormality',\n   False,\n   822960000,\n   None,\n   None,\n   None,\n   None,\n   None,\n   None,\n   None,\n   None),\n  (45,\n   946684800,\n   'male',\n   'heterozygous',\n   'NM_005912.3:c.751A>C',\n   'HP:0001513',\n   'Obesity',\n   True,\n   1356998400,\n   'HP:0001507',\n   'Growth abnormality',\n   False,\n   1024617600,\n   None,\n   None,\n   None,\n   None,\n   None,\n   None,\n   None,\n   None,\n   None,\n   None,\n   None,\n   None),\n  (46,\n   1483228800,\n   'male',\n   'heterozygous',\n   'NM_005912.3:c.230C>T',\n   'HP:0001513',\n   'Obesity',\n   True,\n   813369600,\n   'HP:0025499',\n   'Class I obesity',\n   False,\n   787104000,\n   'HP:0001507',\n   'Growth abnormality',\n   False,\n   1076976000,\n   None,\n   None,\n   None,\n   None,\n   None,\n   None,\n   None,\n   None),\n  (47,\n   1009843200,\n   'female',\n   'heterozygous',\n   'NM_005912.3:c.523G>A',\n   'HP:0001513',\n   'Obesity',\n   True,\n   1234051200,\n   'HP:0025502',\n   'Overweight',\n   False,\n   976406400,\n   None,\n   None,\n   None,\n   None,\n   None,\n   None,\n   None,\n   None,\n   None,\n   None,\n   None,\n   None),\n  (48,\n   757382400,\n   'female',\n   'heterozygous',\n   'NM_005912.3:c.307G>A',\n   'HP:0001513',\n   'Obesity',\n   True,\n   1014681600,\n   'HP:0001507',\n   'Growth abnormality',\n   True,\n   951091200,\n   'HP:0001507',\n   'Growth abnormality',\n   False,\n   941673600,\n   None,\n   None,\n   None,\n   None,\n   None,\n   None,\n   None,\n   None),\n  (51,\n   946684800,\n   'female',\n   'heterozygous',\n   'NM_005912.3:c.181G>T',\n   'HP:0001513',\n   'Obesity',\n   True,\n   708652800,\n   'HP:0001513',\n   'Obesity',\n   True,\n   708652800,\n   'HP:0001513',\n   'Obesity',\n   True,\n   708652800,\n   'HP:0001513',\n   'Obesity',\n   True,\n   708652800,\n   'HP:0025501',\n   'Class III obesity',\n   False,\n   708652800),\n  (7,\n   1009843200,\n   'female',\n   'heterozygous',\n   'NM_005912.3:c.751A>C',\n   'HP:0001513',\n   'Obesity',\n   True,\n   824256000,\n   'HP:0001507',\n   'Growth abnormality',\n   False,\n   701568000,\n   None,\n   None,\n   None,\n   None,\n   None,\n   None,\n   None,\n   None,\n   None,\n   None,\n   None,\n   None),\n  (9,\n   1072915200,\n   'male',\n   'heterozygous',\n   'NM_005912.3:c.307G>A',\n   'HP:0001513',\n   'Obesity',\n   False,\n   1056153600,\n   'HP:0001507',\n   'Growth abnormality',\n   False,\n   1396915200,\n   None,\n   None,\n   None,\n   None,\n   None,\n   None,\n   None,\n   None,\n   None,\n   None,\n   None,\n   None)],\n 37)"
     },
     "execution_count": 8,
     "metadata": {},
     "output_type": "execute_result"
    }
   ],
   "source": [
    "import polars as pl\n",
    "\n",
    "data = list(filter(lambda x: x is not None, map(extract_fields, pps)))\n",
    "\n",
    "data, len(data)"
   ],
   "metadata": {
    "collapsed": false,
    "ExecuteTime": {
     "end_time": "2023-12-18T14:30:14.236893100Z",
     "start_time": "2023-12-18T14:30:13.931140300Z"
    }
   },
   "id": "26d37f2348812bb7"
  },
  {
   "cell_type": "code",
   "execution_count": 9,
   "outputs": [],
   "source": [
    "columns = ['id', 'date_of_birth', 'sex', 'zygosity', 'c_hgvs', 'obesity_class_hpo0', 'obesity_class0', 'phenotype_refuted0', 'onset0', 'obesity_class_hpo1', 'obesity_class1', 'phenotype_refuted1', 'onset1', 'obesity_class_hpo2', 'obesity_class2', 'phenotype_refuted2', 'onset2', 'obesity_class_hpo3', 'obesity_class3', 'phenotype_refuted3', 'onset3', 'obesity_class_hpo4', 'obesity_class4', 'phenotype_refuted4', 'onset4']\n",
    "transposed_data = list(zip(*data))\n",
    "\n",
    "df = pl.DataFrame({col: transposed_data[i] for i, col in enumerate(columns)})"
   ],
   "metadata": {
    "collapsed": false,
    "ExecuteTime": {
     "end_time": "2023-12-18T14:30:14.266559700Z",
     "start_time": "2023-12-18T14:30:14.002839200Z"
    }
   },
   "id": "eda56fbf896dc8d5"
  },
  {
   "cell_type": "code",
   "execution_count": 10,
   "outputs": [
    {
     "data": {
      "text/plain": "shape: (37, 25)\n┌─────┬─────────────┬────────┬─────────────┬───┬─────────────┬────────────┬────────────┬───────────┐\n│ id  ┆ date_of_bir ┆ sex    ┆ zygosity    ┆ … ┆ obesity_cla ┆ obesity_cl ┆ phenotype_ ┆ onset4    │\n│ --- ┆ th          ┆ ---    ┆ ---         ┆   ┆ ss_hpo4     ┆ ass4       ┆ refuted4   ┆ ---       │\n│ i64 ┆ ---         ┆ str    ┆ str         ┆   ┆ ---         ┆ ---        ┆ ---        ┆ i64       │\n│     ┆ i64         ┆        ┆             ┆   ┆ str         ┆ str        ┆ bool       ┆           │\n╞═════╪═════════════╪════════╪═════════════╪═══╪═════════════╪════════════╪════════════╪═══════════╡\n│ 0   ┆ 946684800   ┆ female ┆ heterozygou ┆ … ┆ null        ┆ null       ┆ null       ┆ null      │\n│     ┆             ┆        ┆ s           ┆   ┆             ┆            ┆            ┆           │\n│ 1   ┆ 915148800   ┆ female ┆ heterozygou ┆ … ┆ null        ┆ null       ┆ null       ┆ null      │\n│     ┆             ┆        ┆ s           ┆   ┆             ┆            ┆            ┆           │\n│ 12  ┆ 757382400   ┆ male   ┆ heterozygou ┆ … ┆ null        ┆ null       ┆ null       ┆ null      │\n│     ┆             ┆        ┆ s           ┆   ┆             ┆            ┆            ┆           │\n│ 13  ┆ 757382400   ┆ male   ┆ heterozygou ┆ … ┆ null        ┆ null       ┆ null       ┆ null      │\n│     ┆             ┆        ┆ s           ┆   ┆             ┆            ┆            ┆           │\n│ …   ┆ …           ┆ …      ┆ …           ┆ … ┆ …           ┆ …          ┆ …          ┆ …         │\n│ 48  ┆ 757382400   ┆ female ┆ heterozygou ┆ … ┆ null        ┆ null       ┆ null       ┆ null      │\n│     ┆             ┆        ┆ s           ┆   ┆             ┆            ┆            ┆           │\n│ 51  ┆ 946684800   ┆ female ┆ heterozygou ┆ … ┆ HP:0025501  ┆ Class III  ┆ false      ┆ 708652800 │\n│     ┆             ┆        ┆ s           ┆   ┆             ┆ obesity    ┆            ┆           │\n│ 7   ┆ 1009843200  ┆ female ┆ heterozygou ┆ … ┆ null        ┆ null       ┆ null       ┆ null      │\n│     ┆             ┆        ┆ s           ┆   ┆             ┆            ┆            ┆           │\n│ 9   ┆ 1072915200  ┆ male   ┆ heterozygou ┆ … ┆ null        ┆ null       ┆ null       ┆ null      │\n│     ┆             ┆        ┆ s           ┆   ┆             ┆            ┆            ┆           │\n└─────┴─────────────┴────────┴─────────────┴───┴─────────────┴────────────┴────────────┴───────────┘",
      "text/html": "<div><style>\n.dataframe > thead > tr > th,\n.dataframe > tbody > tr > td {\n  text-align: right;\n}\n</style>\n<small>shape: (37, 25)</small><table border=\"1\" class=\"dataframe\"><thead><tr><th>id</th><th>date_of_birth</th><th>sex</th><th>zygosity</th><th>c_hgvs</th><th>obesity_class_hpo0</th><th>obesity_class0</th><th>phenotype_refuted0</th><th>onset0</th><th>obesity_class_hpo1</th><th>obesity_class1</th><th>phenotype_refuted1</th><th>onset1</th><th>obesity_class_hpo2</th><th>obesity_class2</th><th>phenotype_refuted2</th><th>onset2</th><th>obesity_class_hpo3</th><th>obesity_class3</th><th>phenotype_refuted3</th><th>onset3</th><th>obesity_class_hpo4</th><th>obesity_class4</th><th>phenotype_refuted4</th><th>onset4</th></tr><tr><td>i64</td><td>i64</td><td>str</td><td>str</td><td>str</td><td>str</td><td>str</td><td>bool</td><td>i64</td><td>str</td><td>str</td><td>bool</td><td>i64</td><td>str</td><td>str</td><td>bool</td><td>i64</td><td>str</td><td>str</td><td>bool</td><td>i64</td><td>str</td><td>str</td><td>bool</td><td>i64</td></tr></thead><tbody><tr><td>0</td><td>946684800</td><td>&quot;female&quot;</td><td>&quot;heterozygous&quot;</td><td>&quot;NM_005912.3:c.…</td><td>&quot;HP:0001513&quot;</td><td>&quot;Obesity&quot;</td><td>true</td><td>708652800</td><td>null</td><td>null</td><td>null</td><td>null</td><td>null</td><td>null</td><td>null</td><td>null</td><td>null</td><td>null</td><td>null</td><td>null</td><td>null</td><td>null</td><td>null</td><td>null</td></tr><tr><td>1</td><td>915148800</td><td>&quot;female&quot;</td><td>&quot;heterozygous&quot;</td><td>&quot;NM_005912.3:c.…</td><td>&quot;HP:0001513&quot;</td><td>&quot;Obesity&quot;</td><td>true</td><td>1254268800</td><td>&quot;HP:0001513&quot;</td><td>&quot;Obesity&quot;</td><td>false</td><td>967507200</td><td>null</td><td>null</td><td>null</td><td>null</td><td>null</td><td>null</td><td>null</td><td>null</td><td>null</td><td>null</td><td>null</td><td>null</td></tr><tr><td>12</td><td>757382400</td><td>&quot;male&quot;</td><td>&quot;heterozygous&quot;</td><td>&quot;NM_005912.3:c.…</td><td>&quot;HP:0001513&quot;</td><td>&quot;Obesity&quot;</td><td>false</td><td>1118793600</td><td>&quot;HP:0025500&quot;</td><td>&quot;Class II obesi…</td><td>false</td><td>1267056000</td><td>null</td><td>null</td><td>null</td><td>null</td><td>null</td><td>null</td><td>null</td><td>null</td><td>null</td><td>null</td><td>null</td><td>null</td></tr><tr><td>13</td><td>757382400</td><td>&quot;male&quot;</td><td>&quot;heterozygous&quot;</td><td>&quot;NM_005912.3:c.…</td><td>&quot;HP:0001513&quot;</td><td>&quot;Obesity&quot;</td><td>true</td><td>1234051200</td><td>&quot;HP:0001507&quot;</td><td>&quot;Growth abnorma…</td><td>true</td><td>985219200</td><td>&quot;HP:0001507&quot;</td><td>&quot;Growth abnorma…</td><td>false</td><td>876528000</td><td>null</td><td>null</td><td>null</td><td>null</td><td>null</td><td>null</td><td>null</td><td>null</td></tr><tr><td>17</td><td>1072915200</td><td>&quot;female&quot;</td><td>&quot;homozygous&quot;</td><td>&quot;NM_005912.3:c.…</td><td>&quot;HP:0025500&quot;</td><td>&quot;Class II obesi…</td><td>true</td><td>638409600</td><td>null</td><td>null</td><td>null</td><td>null</td><td>null</td><td>null</td><td>null</td><td>null</td><td>null</td><td>null</td><td>null</td><td>null</td><td>null</td><td>null</td><td>null</td><td>null</td></tr><tr><td>18</td><td>1136073600</td><td>&quot;female&quot;</td><td>&quot;heterozygous&quot;</td><td>&quot;NM_005912.3:c.…</td><td>&quot;HP:0001513&quot;</td><td>&quot;Obesity&quot;</td><td>true</td><td>916272000</td><td>null</td><td>null</td><td>null</td><td>null</td><td>null</td><td>null</td><td>null</td><td>null</td><td>null</td><td>null</td><td>null</td><td>null</td><td>null</td><td>null</td><td>null</td><td>null</td></tr><tr><td>2</td><td>1009843200</td><td>&quot;female&quot;</td><td>&quot;heterozygous&quot;</td><td>&quot;NM_005912.3:c.…</td><td>&quot;HP:0001513&quot;</td><td>&quot;Obesity&quot;</td><td>true</td><td>1087257600</td><td>&quot;HP:0001513&quot;</td><td>&quot;Obesity&quot;</td><td>true</td><td>825811200</td><td>&quot;HP:0001507&quot;</td><td>&quot;Growth abnorma…</td><td>false</td><td>976406400</td><td>null</td><td>null</td><td>null</td><td>null</td><td>null</td><td>null</td><td>null</td><td>null</td></tr><tr><td>20</td><td>1072915200</td><td>&quot;male&quot;</td><td>&quot;heterozygous&quot;</td><td>&quot;NM_005912.3:c.…</td><td>&quot;HP:0001513&quot;</td><td>&quot;Obesity&quot;</td><td>true</td><td>872208000</td><td>&quot;HP:0025499&quot;</td><td>&quot;Class I obesit…</td><td>false</td><td>674524800</td><td>&quot;HP:0001507&quot;</td><td>&quot;Growth abnorma…</td><td>false</td><td>1037750400</td><td>null</td><td>null</td><td>null</td><td>null</td><td>null</td><td>null</td><td>null</td><td>null</td></tr><tr><td>21</td><td>1136073600</td><td>&quot;male&quot;</td><td>&quot;heterozygous&quot;</td><td>&quot;NM_005912.3:c.…</td><td>&quot;HP:0001513&quot;</td><td>&quot;Obesity&quot;</td><td>true</td><td>938563200</td><td>&quot;HP:0001513&quot;</td><td>&quot;Obesity&quot;</td><td>true</td><td>1149724800</td><td>&quot;HP:0001507&quot;</td><td>&quot;Growth abnorma…</td><td>false</td><td>1451606400</td><td>null</td><td>null</td><td>null</td><td>null</td><td>null</td><td>null</td><td>null</td><td>null</td></tr><tr><td>22</td><td>694224000</td><td>&quot;male&quot;</td><td>&quot;heterozygous&quot;</td><td>&quot;NM_005912.3:c.…</td><td>&quot;HP:0001513&quot;</td><td>&quot;Obesity&quot;</td><td>true</td><td>804816000</td><td>&quot;HP:0001507&quot;</td><td>&quot;Growth abnorma…</td><td>false</td><td>801792000</td><td>null</td><td>null</td><td>null</td><td>null</td><td>null</td><td>null</td><td>null</td><td>null</td><td>null</td><td>null</td><td>null</td><td>null</td></tr><tr><td>23</td><td>1293840000</td><td>&quot;female&quot;</td><td>&quot;heterozygous&quot;</td><td>&quot;NM_005912.3:c.…</td><td>&quot;HP:0001513&quot;</td><td>&quot;Obesity&quot;</td><td>true</td><td>766368000</td><td>&quot;HP:0001513&quot;</td><td>&quot;Obesity&quot;</td><td>true</td><td>669772800</td><td>&quot;HP:0001507&quot;</td><td>&quot;Growth abnorma…</td><td>false</td><td>764467200</td><td>null</td><td>null</td><td>null</td><td>null</td><td>null</td><td>null</td><td>null</td><td>null</td></tr><tr><td>24</td><td>1072915200</td><td>&quot;male&quot;</td><td>&quot;unspecified zy…</td><td>&quot;NM_005912.3:c.…</td><td>&quot;HP:0001513&quot;</td><td>&quot;Obesity&quot;</td><td>true</td><td>998611200</td><td>null</td><td>null</td><td>null</td><td>null</td><td>null</td><td>null</td><td>null</td><td>null</td><td>null</td><td>null</td><td>null</td><td>null</td><td>null</td><td>null</td><td>null</td><td>null</td></tr><tr><td>&hellip;</td><td>&hellip;</td><td>&hellip;</td><td>&hellip;</td><td>&hellip;</td><td>&hellip;</td><td>&hellip;</td><td>&hellip;</td><td>&hellip;</td><td>&hellip;</td><td>&hellip;</td><td>&hellip;</td><td>&hellip;</td><td>&hellip;</td><td>&hellip;</td><td>&hellip;</td><td>&hellip;</td><td>&hellip;</td><td>&hellip;</td><td>&hellip;</td><td>&hellip;</td><td>&hellip;</td><td>&hellip;</td><td>&hellip;</td><td>&hellip;</td></tr><tr><td>4</td><td>946684800</td><td>&quot;male&quot;</td><td>&quot;heterozygous&quot;</td><td>&quot;NM_005912.3:c.…</td><td>null</td><td>null</td><td>null</td><td>null</td><td>null</td><td>null</td><td>null</td><td>null</td><td>null</td><td>null</td><td>null</td><td>null</td><td>null</td><td>null</td><td>null</td><td>null</td><td>null</td><td>null</td><td>null</td><td>null</td></tr><tr><td>41</td><td>915148800</td><td>&quot;female&quot;</td><td>&quot;heterozygous&quot;</td><td>&quot;NM_005912.3:c.…</td><td>&quot;HP:0001513&quot;</td><td>&quot;Obesity&quot;</td><td>true</td><td>1293667200</td><td>null</td><td>null</td><td>null</td><td>null</td><td>null</td><td>null</td><td>null</td><td>null</td><td>null</td><td>null</td><td>null</td><td>null</td><td>null</td><td>null</td><td>null</td><td>null</td></tr><tr><td>42</td><td>1009843200</td><td>&quot;female&quot;</td><td>&quot;heterozygous&quot;</td><td>&quot;NM_005912.3:c.…</td><td>&quot;HP:0001513&quot;</td><td>&quot;Obesity&quot;</td><td>true</td><td>1203897600</td><td>&quot;HP:0001507&quot;</td><td>&quot;Growth abnorma…</td><td>true</td><td>976492800</td><td>null</td><td>null</td><td>null</td><td>null</td><td>null</td><td>null</td><td>null</td><td>null</td><td>null</td><td>null</td><td>null</td><td>null</td></tr><tr><td>43</td><td>1041379200</td><td>&quot;male&quot;</td><td>&quot;heterozygous&quot;</td><td>&quot;NM_005912.3:c.…</td><td>&quot;HP:0001507&quot;</td><td>&quot;Growth abnorma…</td><td>true</td><td>816825600</td><td>&quot;HP:0001513&quot;</td><td>&quot;Obesity&quot;</td><td>false</td><td>1088467200</td><td>null</td><td>null</td><td>null</td><td>null</td><td>null</td><td>null</td><td>null</td><td>null</td><td>null</td><td>null</td><td>null</td><td>null</td></tr><tr><td>44</td><td>1009843200</td><td>&quot;female&quot;</td><td>&quot;heterozygous&quot;</td><td>&quot;NM_005912.3:c.…</td><td>&quot;HP:0001513&quot;</td><td>&quot;Obesity&quot;</td><td>true</td><td>760665600</td><td>&quot;HP:0001507&quot;</td><td>&quot;Growth abnorma…</td><td>false</td><td>1265068800</td><td>&quot;HP:0001507&quot;</td><td>&quot;Growth abnorma…</td><td>false</td><td>822960000</td><td>null</td><td>null</td><td>null</td><td>null</td><td>null</td><td>null</td><td>null</td><td>null</td></tr><tr><td>45</td><td>946684800</td><td>&quot;male&quot;</td><td>&quot;heterozygous&quot;</td><td>&quot;NM_005912.3:c.…</td><td>&quot;HP:0001513&quot;</td><td>&quot;Obesity&quot;</td><td>true</td><td>1356998400</td><td>&quot;HP:0001507&quot;</td><td>&quot;Growth abnorma…</td><td>false</td><td>1024617600</td><td>null</td><td>null</td><td>null</td><td>null</td><td>null</td><td>null</td><td>null</td><td>null</td><td>null</td><td>null</td><td>null</td><td>null</td></tr><tr><td>46</td><td>1483228800</td><td>&quot;male&quot;</td><td>&quot;heterozygous&quot;</td><td>&quot;NM_005912.3:c.…</td><td>&quot;HP:0001513&quot;</td><td>&quot;Obesity&quot;</td><td>true</td><td>813369600</td><td>&quot;HP:0025499&quot;</td><td>&quot;Class I obesit…</td><td>false</td><td>787104000</td><td>&quot;HP:0001507&quot;</td><td>&quot;Growth abnorma…</td><td>false</td><td>1076976000</td><td>null</td><td>null</td><td>null</td><td>null</td><td>null</td><td>null</td><td>null</td><td>null</td></tr><tr><td>47</td><td>1009843200</td><td>&quot;female&quot;</td><td>&quot;heterozygous&quot;</td><td>&quot;NM_005912.3:c.…</td><td>&quot;HP:0001513&quot;</td><td>&quot;Obesity&quot;</td><td>true</td><td>1234051200</td><td>&quot;HP:0025502&quot;</td><td>&quot;Overweight&quot;</td><td>false</td><td>976406400</td><td>null</td><td>null</td><td>null</td><td>null</td><td>null</td><td>null</td><td>null</td><td>null</td><td>null</td><td>null</td><td>null</td><td>null</td></tr><tr><td>48</td><td>757382400</td><td>&quot;female&quot;</td><td>&quot;heterozygous&quot;</td><td>&quot;NM_005912.3:c.…</td><td>&quot;HP:0001513&quot;</td><td>&quot;Obesity&quot;</td><td>true</td><td>1014681600</td><td>&quot;HP:0001507&quot;</td><td>&quot;Growth abnorma…</td><td>true</td><td>951091200</td><td>&quot;HP:0001507&quot;</td><td>&quot;Growth abnorma…</td><td>false</td><td>941673600</td><td>null</td><td>null</td><td>null</td><td>null</td><td>null</td><td>null</td><td>null</td><td>null</td></tr><tr><td>51</td><td>946684800</td><td>&quot;female&quot;</td><td>&quot;heterozygous&quot;</td><td>&quot;NM_005912.3:c.…</td><td>&quot;HP:0001513&quot;</td><td>&quot;Obesity&quot;</td><td>true</td><td>708652800</td><td>&quot;HP:0001513&quot;</td><td>&quot;Obesity&quot;</td><td>true</td><td>708652800</td><td>&quot;HP:0001513&quot;</td><td>&quot;Obesity&quot;</td><td>true</td><td>708652800</td><td>&quot;HP:0001513&quot;</td><td>&quot;Obesity&quot;</td><td>true</td><td>708652800</td><td>&quot;HP:0025501&quot;</td><td>&quot;Class III obes…</td><td>false</td><td>708652800</td></tr><tr><td>7</td><td>1009843200</td><td>&quot;female&quot;</td><td>&quot;heterozygous&quot;</td><td>&quot;NM_005912.3:c.…</td><td>&quot;HP:0001513&quot;</td><td>&quot;Obesity&quot;</td><td>true</td><td>824256000</td><td>&quot;HP:0001507&quot;</td><td>&quot;Growth abnorma…</td><td>false</td><td>701568000</td><td>null</td><td>null</td><td>null</td><td>null</td><td>null</td><td>null</td><td>null</td><td>null</td><td>null</td><td>null</td><td>null</td><td>null</td></tr><tr><td>9</td><td>1072915200</td><td>&quot;male&quot;</td><td>&quot;heterozygous&quot;</td><td>&quot;NM_005912.3:c.…</td><td>&quot;HP:0001513&quot;</td><td>&quot;Obesity&quot;</td><td>false</td><td>1056153600</td><td>&quot;HP:0001507&quot;</td><td>&quot;Growth abnorma…</td><td>false</td><td>1396915200</td><td>null</td><td>null</td><td>null</td><td>null</td><td>null</td><td>null</td><td>null</td><td>null</td><td>null</td><td>null</td><td>null</td><td>null</td></tr></tbody></table></div>"
     },
     "execution_count": 10,
     "metadata": {},
     "output_type": "execute_result"
    }
   ],
   "source": [
    "df.head(50)"
   ],
   "metadata": {
    "collapsed": false,
    "ExecuteTime": {
     "end_time": "2023-12-18T14:30:14.268637800Z",
     "start_time": "2023-12-18T14:30:14.029831100Z"
    }
   },
   "id": "fbd80717f0cb057d"
  },
  {
   "cell_type": "markdown",
   "source": [
    "# Data Cleaning\n",
    "\n",
    "There is only one person with an unspecified zygosity, so we can drop this person."
   ],
   "metadata": {
    "collapsed": false
   },
   "id": "a2cedb3d480161e7"
  },
  {
   "cell_type": "code",
   "execution_count": 11,
   "outputs": [],
   "source": [
    "df = df.filter(df['zygosity'] != 'unspecified zygosity')"
   ],
   "metadata": {
    "collapsed": false,
    "ExecuteTime": {
     "end_time": "2023-12-18T14:30:14.268637800Z",
     "start_time": "2023-12-18T14:30:14.081418800Z"
    }
   },
   "id": "56ad901aa1294329"
  },
  {
   "cell_type": "code",
   "execution_count": 12,
   "outputs": [
    {
     "ename": "ImportError",
     "evalue": "cannot import name 'seconds_to_date' from 'ERKER2Phenopackets.src.utils.dateutils' (C:\\Users\\Surface\\OneDrive\\Documents\\DataSpell\\ERKER2Phenopackets\\ERKER2Phenopackets\\src\\utils\\dateutils.py)",
     "output_type": "error",
     "traceback": [
      "\u001B[1;31m---------------------------------------------------------------------------\u001B[0m",
      "\u001B[1;31mImportError\u001B[0m                               Traceback (most recent call last)",
      "Cell \u001B[1;32mIn[12], line 3\u001B[0m\n\u001B[0;32m      1\u001B[0m \u001B[38;5;66;03m# add new timestamps to make the data more realistic\u001B[39;00m\n\u001B[0;32m      2\u001B[0m \u001B[38;5;28;01mif\u001B[39;00m is_synth_data:\n\u001B[1;32m----> 3\u001B[0m     \u001B[38;5;28;01mfrom\u001B[39;00m \u001B[38;5;21;01mERKER2Phenopackets\u001B[39;00m\u001B[38;5;21;01m.\u001B[39;00m\u001B[38;5;21;01msrc\u001B[39;00m\u001B[38;5;21;01m.\u001B[39;00m\u001B[38;5;21;01mutils\u001B[39;00m\u001B[38;5;21;01m.\u001B[39;00m\u001B[38;5;21;01mdateutils\u001B[39;00m \u001B[38;5;28;01mimport\u001B[39;00m date_to_seconds, seconds_to_date, generate_random_date\n\u001B[0;32m      4\u001B[0m     \u001B[38;5;28;01mdef\u001B[39;00m \u001B[38;5;21mrandom_onsets\u001B[39m():\n\u001B[0;32m      5\u001B[0m         seconds_per_day \u001B[38;5;241m=\u001B[39m \u001B[38;5;241m60\u001B[39m \u001B[38;5;241m*\u001B[39m \u001B[38;5;241m60\u001B[39m \u001B[38;5;241m*\u001B[39m \u001B[38;5;241m24\u001B[39m\n",
      "\u001B[1;31mImportError\u001B[0m: cannot import name 'seconds_to_date' from 'ERKER2Phenopackets.src.utils.dateutils' (C:\\Users\\Surface\\OneDrive\\Documents\\DataSpell\\ERKER2Phenopackets\\ERKER2Phenopackets\\src\\utils\\dateutils.py)"
     ]
    }
   ],
   "source": [
    "# add new timestamps to make the data more realistic\n",
    "if is_synth_data:\n",
    "    from ERKER2Phenopackets.src.utils.dateutils import date_to_seconds, seconds_to_date, generate_random_date\n",
    "    def random_onsets():\n",
    "        seconds_per_day = 60 * 60 * 24\n",
    "        dob = generate_random_date('1990-01-01', '2010-01-01')\n",
    "        dob_seconds = date_to_seconds(dob)\n",
    "        # dates:\n",
    "        # 1. untersuchung bei geburt\n",
    "        # 2. u6: 10 - 12 monate\n",
    "        # 3. u7: 21 - 24 monate\n",
    "        # 4. u8: 46 - 48 monate\n",
    "        # 5. u9: 60 - 64 monate\n",
    "        intervals = [\n",
    "            (0, 35),\n",
    "            (304, 365),\n",
    "            (639, 730),\n",
    "            (1399, 1460),\n",
    "            (1825, 1947)\n",
    "        ]\n",
    "    \n",
    "        onset_dates = [dob_seconds]\n",
    "        for interval in intervals:\n",
    "            min_days, max_days = interval\n",
    "            min_date = seconds_to_date(dob_seconds + min_days * seconds_per_day)\n",
    "            max_date = seconds_to_date(dob_seconds + max_days * seconds_per_day)\n",
    "            onset_dates.append(date_to_seconds(generate_random_date(min_date, max_date)))\n",
    "    \n",
    "        return onset_dates\n",
    "    \n",
    "    dob, u1, u6, u7, u8, u9 = [], [], [], [], [], []\n",
    "    \n",
    "    for i in range(df.height):\n",
    "        cur_dob, cur_u1, cur_u6, cur_u7, cur_u8, cur_u9 = random_onsets()\n",
    "        dob.append(cur_dob)\n",
    "        u1.append(cur_u1)\n",
    "        u6.append(cur_u6)\n",
    "        u7.append(cur_u7)\n",
    "        u8.append(cur_u8)\n",
    "        u9.append(cur_u9)\n",
    "    \n",
    "    df = df.with_columns(\n",
    "        pl.Series(name='date_of_birth', values=dob),\n",
    "        pl.Series(name='onset0', values=u1),\n",
    "        pl.Series(name='onset1', values=u6),\n",
    "        pl.Series(name='onset2', values=u7),\n",
    "        pl.Series(name='onset3', values=u8),\n",
    "        pl.Series(name='onset4', values=u9),\n",
    "    )"
   ],
   "metadata": {
    "collapsed": false,
    "ExecuteTime": {
     "end_time": "2023-12-18T14:30:19.455642400Z",
     "start_time": "2023-12-18T14:30:14.112177900Z"
    }
   },
   "id": "553c9942c1f450b2"
  },
  {
   "cell_type": "code",
   "execution_count": null,
   "outputs": [],
   "source": [
    "df.head(50)"
   ],
   "metadata": {
    "collapsed": false,
    "ExecuteTime": {
     "end_time": "2023-12-18T14:30:19.502538700Z",
     "start_time": "2023-12-18T14:30:19.455642400Z"
    }
   },
   "id": "c487cd2ac76f8303"
  },
  {
   "cell_type": "markdown",
   "source": [
    "# Preprocessing\n",
    "\n",
    "Order dataframe by descending number of same c_hgvs mutations"
   ],
   "metadata": {
    "collapsed": false
   },
   "id": "40f815cf73e09bf0"
  },
  {
   "cell_type": "code",
   "execution_count": null,
   "outputs": [],
   "source": [
    "from ERKER2Phenopackets.src.utils.polars_utils import sort_by_method\n",
    "\n",
    "def c_hgvs_occurences(df: pl.DataFrame) -> pl.DataFrame:\n",
    "    return  df.join(other=df.groupby('c_hgvs').agg(pl.count('c_hgvs').alias('count')).select(['c_hgvs','count']), on='c_hgvs', how='inner').select(['count'])\n",
    "\n",
    "df = sort_by_method(df, c_hgvs_occurences)"
   ],
   "metadata": {
    "collapsed": false,
    "ExecuteTime": {
     "start_time": "2023-12-18T14:30:19.471285800Z"
    }
   },
   "id": "bab9535a219122be"
  },
  {
   "cell_type": "code",
   "execution_count": null,
   "outputs": [],
   "source": [
    "# correct value of refuted columns to match phenotype: only Obesity has refuted true these are our negatives\n",
    "if is_synth_data:\n",
    "    df = df.with_columns(\n",
    "        phenotype_refuted0=df['obesity_class0'] == 'Obesity',\n",
    "        phenotype_refuted1=df['obesity_class1'] == 'Obesity',\n",
    "        phenotype_refuted2=df['obesity_class2'] == 'Obesity',\n",
    "        phenotype_refuted3=df['obesity_class3'] == 'Obesity',\n",
    "        phenotype_refuted4=df['obesity_class4'] == 'Obesity',\n",
    "    )"
   ],
   "metadata": {
    "collapsed": false,
    "ExecuteTime": {
     "start_time": "2023-12-18T14:30:19.471285800Z"
    }
   },
   "id": "27589472e00ef5a"
  },
  {
   "cell_type": "code",
   "execution_count": null,
   "outputs": [],
   "source": [
    "from ERKER2Phenopackets.src.utils.polars_utils import replace_value\n",
    "\n",
    "# growth abnormality: not recorded phenotype -> replace null\n",
    "growth_abnormality = 'Growth abnormality'\n",
    "growth_abnormality_hpo = 'HP:0001507'\n",
    "\n",
    "for i in range(5):\n",
    "    df = replace_value(df, f'obesity_class{i}', growth_abnormality, None)\n",
    "    df = replace_value(df, f'obesity_class_hpo{i}', growth_abnormality_hpo, None)"
   ],
   "metadata": {
    "collapsed": false,
    "ExecuteTime": {
     "start_time": "2023-12-18T14:30:19.486913Z"
    }
   },
   "id": "66ad56663d877128"
  },
  {
   "cell_type": "code",
   "execution_count": null,
   "outputs": [],
   "source": [
    "from ERKER2Phenopackets.src.analysis.ml.analysis_helper_methods import create_label\n",
    "from ERKER2Phenopackets.src.utils.polars_utils import map_col\n",
    "\n",
    "# 0: Obesity refuted\n",
    "# 1: Overweight\n",
    "# 2: Class I Obesity (HPO)\n",
    "# 3: Class II Obesity (HPO)\n",
    "# 4: Class III Obesity (HPO)\n",
    "\n",
    "for i in range(5):\n",
    "    df = map_col(\n",
    "        df, \n",
    "        map_from=[f'obesity_class_hpo{i}', f'obesity_class{i}', f'phenotype_refuted{i}'], \n",
    "        map_to=f'obesity_label{i}', \n",
    "        mapping=create_label\n",
    "    )"
   ],
   "metadata": {
    "collapsed": false,
    "ExecuteTime": {
     "start_time": "2023-12-18T14:30:19.486913Z"
    }
   },
   "id": "dc90a5108b26b22f"
  },
  {
   "cell_type": "code",
   "execution_count": null,
   "outputs": [],
   "source": [
    "# normalize timestamps\n",
    "df = df.with_columns(\n",
    "    onset0=df['onset0'] - df['date_of_birth'],\n",
    "    onset1=df['onset1'] - df['date_of_birth'],\n",
    "    onset2=df['onset2'] - df['date_of_birth'],\n",
    "    onset3=df['onset3'] - df['date_of_birth'],\n",
    "    onset4=df['onset4'] - df['date_of_birth'],\n",
    ")"
   ],
   "metadata": {
    "collapsed": false,
    "ExecuteTime": {
     "start_time": "2023-12-18T14:30:19.486913Z"
    }
   },
   "id": "e9f9e817ed5f7428"
  },
  {
   "cell_type": "code",
   "execution_count": null,
   "outputs": [],
   "source": [
    "df.head(50)"
   ],
   "metadata": {
    "collapsed": false,
    "ExecuteTime": {
     "end_time": "2023-12-18T14:30:19.670494800Z",
     "start_time": "2023-12-18T14:30:19.502538700Z"
    }
   },
   "id": "7750ed24220a9f44"
  },
  {
   "cell_type": "markdown",
   "source": [
    "Overweight, Class I-III Obesity: excluded false\n",
    "if excluded (refuted) true -> BMI in normal range\n",
    "\n",
    "only Obesity has refuted true these are our negatives\n",
    "\n",
    "growth abnormality: not recorded phenotype -> drop rows"
   ],
   "metadata": {
    "collapsed": false
   },
   "id": "69a906342e11eaa2"
  },
  {
   "cell_type": "markdown",
   "source": [
    "# Questions\n",
    "## Descriptive Statistics\n",
    "1. Distribution of zygosity? \n",
    "2. Distribution of sex?\n",
    "3. Distribution of c_hgvs mutations?\n",
    "4. c_hgvs distribution by zygosity?\n",
    "5. Obesity Class Distribution?\n",
    "6. Obesity Class Distribution by zygosity?\n",
    "7. Obesity Class Distribution by c_hgvs mutation?\n",
    "8. Obesity Class Distribution c_hgvs mutation and zygosity?\n",
    "9. Obesity Class Distribution by sex?\n",
    "10. How long does it take for a person to develop the different obesity classes based on their mutation?\n",
    "\n",
    "## Predictive Statistics\n",
    "1. What is the probability of a person with a certain c_hgvs mutation to develop a certain obesity class?\n",
    "2. Prediction model of obesity class based on c_hgvs mutation and zygosity"
   ],
   "metadata": {
    "collapsed": false
   },
   "id": "fc88fa3f2a117bbf"
  },
  {
   "cell_type": "code",
   "execution_count": null,
   "outputs": [],
   "source": [
    "import matplotlib.pyplot as plt\n",
    "import numpy as np\n",
    "from ERKER2Phenopackets.src.utils.polars_utils import barchart, barchart_3d, barchart_subplot, barchart_relative_distribution, barchart_relative_distribution_subplot, piechart_subplot, piechart\n",
    "\n",
    "figsize = None"
   ],
   "metadata": {
    "collapsed": false,
    "ExecuteTime": {
     "start_time": "2023-12-18T14:30:19.509424700Z"
    }
   },
   "id": "33372f6a2112e81f"
  },
  {
   "cell_type": "markdown",
   "source": [
    "# Descriptive Statistics\n",
    "# 1. Zygosity Distribution"
   ],
   "metadata": {
    "collapsed": false
   },
   "id": "9ee7ae2399d89428"
  },
  {
   "cell_type": "code",
   "execution_count": null,
   "outputs": [],
   "source": [
    "grouped_by_zygosity = df.groupby('zygosity').count()\n",
    "num_zygosity = grouped_by_zygosity.height\n",
    "\n",
    "barchart(grouped_by_zygosity['zygosity'], grouped_by_zygosity['count'], figsize=figsize)\n",
    "piechart(grouped_by_zygosity['zygosity'], grouped_by_zygosity['count'], figsize=figsize)\n",
    "\n",
    "grouped_by_zygosity.head()"
   ],
   "metadata": {
    "collapsed": false,
    "ExecuteTime": {
     "start_time": "2023-12-18T14:30:19.524446400Z"
    }
   },
   "id": "7a2ccd79fbfe351b"
  },
  {
   "cell_type": "markdown",
   "source": [
    "# 2. Sex Distribution"
   ],
   "metadata": {
    "collapsed": false
   },
   "id": "cd8eb453de844943"
  },
  {
   "cell_type": "code",
   "execution_count": null,
   "outputs": [],
   "source": [
    "grouped_by_sex = df.groupby('sex').count()\n",
    "\n",
    "barchart(grouped_by_sex['sex'], grouped_by_sex['count'], figsize=figsize)\n",
    "piechart(grouped_by_sex['sex'], grouped_by_sex['count'], figsize=figsize)\n",
    "\n",
    "grouped_by_sex.head()"
   ],
   "metadata": {
    "collapsed": false,
    "ExecuteTime": {
     "start_time": "2023-12-18T14:30:19.524446400Z"
    }
   },
   "id": "d44f481f9fd5acb"
  },
  {
   "cell_type": "markdown",
   "source": [
    "# 3. c_hgvs variant distribution"
   ],
   "metadata": {
    "collapsed": false
   },
   "id": "1bcce87fade265ad"
  },
  {
   "cell_type": "code",
   "execution_count": null,
   "outputs": [],
   "source": [
    "grouped_by_c_hgvs = df.groupby('c_hgvs').count().sort('count', descending=True)\n",
    "num_c_hgvs = grouped_by_c_hgvs.height\n",
    "\n",
    "# barchart(grouped_by_c_hgvs['c_hgvs'], grouped_by_c_hgvs['count'], figsize=figsize, x_tick_rotation='vertical')\n",
    "\n",
    "barchart_relative_distribution(grouped_by_c_hgvs['c_hgvs'], grouped_by_c_hgvs['count'], figsize=figsize, x_tick_rotation='vertical')\n",
    "\n",
    "grouped_by_c_hgvs.head(50)"
   ],
   "metadata": {
    "collapsed": false,
    "ExecuteTime": {
     "start_time": "2023-12-18T14:30:19.540096600Z"
    }
   },
   "id": "dcbaec8f1a2ba548"
  },
  {
   "cell_type": "code",
   "execution_count": null,
   "outputs": [],
   "source": [
    "fig, (ax1, ax2) = plt.subplots(1, 2)\n",
    "piechart_subplot(ax1, grouped_by_zygosity['zygosity'], grouped_by_zygosity['count'], 'Zygosity distribution',)\n",
    "barchart_relative_distribution_subplot(ax2, grouped_by_c_hgvs['c_hgvs'], grouped_by_c_hgvs['count'], 'c_hgvs distribution', x_tick_rotation='vertical')\n",
    "plt.show()"
   ],
   "metadata": {
    "collapsed": false,
    "ExecuteTime": {
     "start_time": "2023-12-18T14:30:19.556135300Z"
    }
   },
   "id": "17f870b6cd2d1fed"
  },
  {
   "cell_type": "markdown",
   "source": [
    "# 4. c_hgvs distribution by zygosity"
   ],
   "metadata": {
    "collapsed": false
   },
   "id": "d27d7f6cad7371a2"
  },
  {
   "cell_type": "code",
   "execution_count": null,
   "outputs": [],
   "source": [
    "from ERKER2Phenopackets.src.utils.polars_utils import contingency_table\n",
    "\n",
    "# barchart_3d(df, 'zygosity', 'c_hgvs', figsize=figsize, grouped_by_col1=grouped_by_zygosity, grouped_by_col2=grouped_by_c_hgvs) # not really useful\n",
    "\n",
    "ct_zygosity_c_hgvs = contingency_table(df, 'zygosity', 'c_hgvs', grouped_by_zygosity['zygosity'], grouped_by_c_hgvs['c_hgvs'])\n",
    "heterozygous_c_hgvs_frquency, homozygous_c_hgvs_frquency = ct_zygosity_c_hgvs[0], ct_zygosity_c_hgvs[1]\n",
    "y_lim = int(np.max(ct_zygosity_c_hgvs) * 1.1) + 1\n",
    "\n",
    "fig, (ax1, ax2) = plt.subplots(1, 2)\n",
    "barchart_subplot(ax1, grouped_by_c_hgvs['c_hgvs'], heterozygous_c_hgvs_frquency, 'Heterozygous c hgvs distribution', x_tick_rotation='vertical', y_min=0, y_max=y_lim)\n",
    "barchart_subplot(ax2, grouped_by_c_hgvs['c_hgvs'], homozygous_c_hgvs_frquency, 'Homozygous c hgvs distribution', x_tick_rotation='vertical', y_min=0, y_max=y_lim)\n",
    "plt.show()"
   ],
   "metadata": {
    "collapsed": false,
    "ExecuteTime": {
     "start_time": "2023-12-18T14:30:19.571781900Z"
    }
   },
   "id": "45e565a5ebe61e5b"
  },
  {
   "cell_type": "code",
   "execution_count": null,
   "outputs": [],
   "source": [
    "ct_sex_c_hgvs = contingency_table(df, 'sex', 'c_hgvs', ('male', 'female'), grouped_by_c_hgvs['c_hgvs'])\n",
    "male_c_hgvs_frquency, female_c_hgvs_frquency = ct_sex_c_hgvs[0], ct_sex_c_hgvs[1]\n",
    "y_lim = int(np.max(ct_sex_c_hgvs) * 1.1) + 1\n",
    "\n",
    "fig, (ax1, ax2) = plt.subplots(1, 2)\n",
    "barchart_subplot(ax1, grouped_by_c_hgvs['c_hgvs'], male_c_hgvs_frquency, 'Male c hgvs distribution', x_tick_rotation='vertical', y_min=0, y_max=y_lim)\n",
    "barchart_subplot(ax2, grouped_by_c_hgvs['c_hgvs'], female_c_hgvs_frquency, 'Female c hgvs distribution', x_tick_rotation='vertical', y_min=0, y_max=y_lim)\n",
    "plt.show()"
   ],
   "metadata": {
    "collapsed": false,
    "ExecuteTime": {
     "start_time": "2023-12-18T14:30:19.571781900Z"
    }
   },
   "id": "505372140f4c91a2"
  },
  {
   "cell_type": "markdown",
   "source": [
    "# 4. Obesity Class Distribution"
   ],
   "metadata": {
    "collapsed": false
   },
   "id": "b2c585c1fc6eab3c"
  },
  {
   "cell_type": "code",
   "execution_count": null,
   "outputs": [],
   "source": [
    "from ERKER2Phenopackets.src.utils.polars_utils import melt_groupby_count, sort_columns\n",
    "\n",
    "# 4.1 count appearance of obesity classes/ hpo terms at each of the 3 inspections\n",
    "obesity_class_count = melt_groupby_count(df, columns=[f'obesity_label{i}' for i in range(5)]).sort(by='value')\n",
    "\n",
    "obesity_class_count = sort_columns(obesity_class_count, ['value'])\n",
    "\n",
    "print(obesity_class_count.head(50))"
   ],
   "metadata": {
    "collapsed": false,
    "ExecuteTime": {
     "start_time": "2023-12-18T14:30:19.587404700Z"
    }
   },
   "id": "7b544bde7c11fa5"
  },
  {
   "cell_type": "code",
   "execution_count": null,
   "outputs": [],
   "source": [
    "column_names = tuple(obesity_class_count['value'])\n",
    "obesity_class_count_transpose = obesity_class_count.transpose(column_names=column_names)\n",
    "if column_names != obesity_class_count_transpose.row(0):\n",
    "    raise Exception('New column names do not match old row names')\n",
    "obesity_class_count_transpose = obesity_class_count_transpose.tail(5).select(['Refuted Obesity (HP:0001513)', 'Overweight (HP:0025502)', 'Class I obesity (HP:0025499)', 'Class II obesity (HP:0025500)', 'Class III obesity (HP:0025501)'])\n",
    "print(obesity_class_count_transpose.head(50))"
   ],
   "metadata": {
    "collapsed": false,
    "ExecuteTime": {
     "start_time": "2023-12-18T14:30:19.605483500Z"
    }
   },
   "id": "6f4bc392c533a995"
  },
  {
   "cell_type": "code",
   "execution_count": null,
   "outputs": [],
   "source": [
    "def cast(column):\n",
    "    return column.cast(pl.Int32).to_list()"
   ],
   "metadata": {
    "collapsed": false,
    "ExecuteTime": {
     "start_time": "2023-12-18T14:30:19.605483500Z"
    }
   },
   "id": "ab40927090a71ae6"
  },
  {
   "cell_type": "code",
   "execution_count": null,
   "outputs": [],
   "source": [
    "categories = obesity_class_count_transpose.columns\n",
    "\n",
    "time_stamps = ['U1', 'U6', 'U7', 'U8', 'U9']\n",
    "\n",
    "\n",
    "values = [cast(obesity_class_count_transpose[cat]) for cat in categories]\n",
    "\n",
    "plt.figure(figsize=figsize)\n",
    "\n",
    "plt.stackplot(range(5), values[0], values[1], values[2], values[3], values[4], labels=categories)\n",
    "plt.xticks(range(5), time_stamps)\n",
    "plt.ylabel('Cases')\n",
    "plt.legend()\n",
    "plt.show()"
   ],
   "metadata": {
    "collapsed": false,
    "ExecuteTime": {
     "start_time": "2023-12-18T14:30:19.618995400Z"
    }
   },
   "id": "47d2fca434653c2b"
  },
  {
   "cell_type": "code",
   "execution_count": null,
   "outputs": [],
   "source": [
    "from ERKER2Phenopackets.src.utils.polars_utils import barchart_multiple\n",
    "\n",
    "barchart_multiple(time_stamps, values, 'Cases', categories)"
   ],
   "metadata": {
    "collapsed": false,
    "ExecuteTime": {
     "start_time": "2023-12-18T14:30:19.618995400Z"
    }
   },
   "id": "efaef64706254530"
  },
  {
   "cell_type": "markdown",
   "source": [
    "# 4.1 Phenotype Transition Graphs\n",
    "1. Markov chain style"
   ],
   "metadata": {
    "collapsed": false
   },
   "id": "2b2593b8bf00d02e"
  },
  {
   "cell_type": "code",
   "execution_count": null,
   "outputs": [],
   "source": [
    "from ERKER2Phenopackets.src.analysis.ml.analysis_helper_methods import plot_phenotype_transition_graph\n",
    "\n",
    "file_path = 'markov_chain_obesity_classes.png'\n",
    "phenotype_labels = ['Refuted Obesity \\n(HP:0001513)', 'Overweight \\n(HP:0025502)', 'Class I obesity \\n(HP:0025499)', 'Class II obesity \\n(HP:0025500)', 'Class III obesity \\n(HP:0025501)']\n",
    "\n",
    "initial_counts_df = (melt_groupby_count(df, columns=\n",
    "[f'obesity_label{i}' for i in range(5)])\n",
    "                     .select(['value', 'obesity_label0'])\n",
    "                     )\n",
    "initial_counts_dict = {\n",
    "    row['value']: row['obesity_label0']\n",
    "    for row in initial_counts_df.to_struct('test')\n",
    "}\n",
    "initial_counts = (\n",
    "        [initial_counts_dict[pheno_label]\n",
    "         for pheno_label in categories]\n",
    "        + [initial_counts_dict['Not recorded']]\n",
    ")\n",
    "\n",
    "plot_phenotype_transition_graph(df, 'obesity_label', phenotype_labels.copy(), initial_counts=initial_counts, count_not_recorded=True, percentages=False, file_path=file_path)"
   ],
   "metadata": {
    "collapsed": false,
    "ExecuteTime": {
     "start_time": "2023-12-18T14:30:19.634641100Z"
    }
   },
   "id": "e950fe645cd8e098"
  },
  {
   "cell_type": "markdown",
   "source": [
    "2. Patient Journey"
   ],
   "metadata": {
    "collapsed": false
   },
   "id": "28ca5b82d5e1c507"
  },
  {
   "cell_type": "code",
   "execution_count": null,
   "outputs": [],
   "source": [
    "from ERKER2Phenopackets.src.analysis.ml.analysis_helper_methods import index_similar\n",
    "from ERKER2Phenopackets.src.utils.graphutils import graphplot\n",
    "import networkx as nx\n",
    "\n",
    "# def connect_rows(num_rows, num_nodes_per_row):\n",
    "#     for row in range(1, num_rows):\n",
    "#         for node_in_first_row in range(1, num_nodes_per_row + 1):\n",
    "#             for node_in_next_row in range(1, num_nodes_per_row + 1):\n",
    "#                 current_node_index = (row - 1) * num_nodes_per_row + node_in_first_row\n",
    "#                 next_node_index = row * num_nodes_per_row + node_in_next_row\n",
    "#                 yield current_node_index, next_node_index\n",
    "\n",
    "file_path = 'time_split_graph_obesity_classes.png'\n",
    "num_phenotype_labels = len(phenotype_labels)\n",
    "num_phenotype_measurements = 5\n",
    "source = 0\n",
    "sink = len(categories)*5+1\n",
    "not_recorded = -1\n",
    "\n",
    "G = nx.DiGraph()\n",
    "G.add_node(source, label='Source')\n",
    "G.add_node(sink, label='Sink')\n",
    "G.add_node(not_recorded, label='Not recorded')\n",
    "\n",
    "node = 1\n",
    "empty_nodes = []\n",
    "# transition_counts = {i: [] for i in range(sink)}\n",
    "for i in range(num_phenotype_measurements):\n",
    "    target_addend = 1 + (i + 1) * num_phenotype_labels\n",
    "    \n",
    "    for label in phenotype_labels:\n",
    "        row, col = i, (node - 1) % num_phenotype_labels\n",
    "        count = int(obesity_class_count_transpose.item(row, col))\n",
    "        if count == 0:\n",
    "            empty_nodes.append(node)\n",
    "        else:\n",
    "            G.add_node(node, label=f'{label}\\n{time_stamps[i]}\\n{count}/{df.height}')\n",
    "            \n",
    "            if i < num_phenotype_measurements - 1:\n",
    "                label_wo_newlines = categories[index_similar(categories, label)]\n",
    "                # target nodes and how many patients transition to these targets\n",
    "                outgoing = df.filter(df[f'obesity_label{i}'] == label_wo_newlines).select([f'obesity_label{i + 1}']).groupby(by=[f'obesity_label{i + 1}']).count()\n",
    "                \n",
    "                \n",
    "                for target_label, count_transitioning_to_target in outgoing.rows():\n",
    "                    target = not_recorded\n",
    "                    try:\n",
    "                        target = categories.index(target_label)\n",
    "                    except ValueError:\n",
    "                        pass\n",
    "                    else: # if label in row\n",
    "                        target += target_addend\n",
    "                        \n",
    "                    # add the edge\n",
    "                    if G.has_edge(node, target):\n",
    "                        G.edges[node, target]['denominator'] += count\n",
    "                        G.edges[node, target]['numerator'] += count_transitioning_to_target\n",
    "                    else:\n",
    "                        G.add_edge(node, target, denominator=count, numerator=count_transitioning_to_target)   \n",
    "                \n",
    "        node += 1\n",
    "\n",
    "# connect first row to source\n",
    "for i in range(1, num_phenotype_labels + 1):\n",
    "    if not i in empty_nodes:\n",
    "        G.add_edge(source, i)\n",
    "\n",
    "for edge in G.edges(data=True):\n",
    "    from_, to, data = edge\n",
    "    if data:\n",
    "        G.edges[from_, to]['label'] = f'{data[\"numerator\"]}/{data[\"denominator\"]}'\n",
    "\n",
    "# connect last row to sink \n",
    "for i in range(len(categories)*4+1, len(categories)*5+1):\n",
    "    if not i in empty_nodes:\n",
    "        G.add_edge(i, sink)\n",
    "G.remove_node(not_recorded)\n",
    "\n",
    "ccs = list(nx.connected_components(G.to_undirected()))\n",
    "# determine largest connected component (this is the main graph) and remove it\n",
    "max_component_id, max_component_length = max(\n",
    "    ((i, len(component)) for i, component in enumerate(ccs)),\n",
    "    key=lambda x: x[1],\n",
    "    default=(-1, 0)\n",
    ")\n",
    "ccs = [component for i, component in enumerate(ccs) if i != max_component_id]\n",
    "\n",
    "for cc in ccs: # assume each cc could have multiple nodes in multiple layers\n",
    "    cc = list(cc)\n",
    "    # separate the sinks and sources of the cc into layers \n",
    "    sources, sinks = [node for node in cc if G.in_degree(node) == 0], [node for node in cc if G.out_degree(node) == 0]\n",
    "    layers = {i: [node for node in cc if i * num_phenotype_labels <= node < (i + 1) * num_phenotype_labels] for i in range(num_phenotype_measurements)}\n",
    "\n",
    "    # 1. \n",
    "    while len(sources) > 0:\n",
    "        for node in sources:\n",
    "            previous = node - num_phenotype_labels\n",
    "            if previous < source:\n",
    "                previous = source\n",
    "\n",
    "            if not G.has_node(previous):\n",
    "                G.add_node(previous, label=f'{phenotype_labels[(previous - 1) % num_phenotype_labels]}\\n{time_stamps[(previous - 1) // num_phenotype_labels]}\\n?/?') # todo\n",
    "\n",
    "            if not G.has_edge(previous, node):\n",
    "                G.add_edge(previous, node, label=\"?\") # todo\n",
    "\n",
    "            if previous != source:\n",
    "                cc.append(previous)\n",
    "\n",
    "        sources = [node for node in cc if G.in_degree(node) == 0]\n",
    "\n",
    "\n",
    "    # 2. find the last layer, go forwards until you hit source and add the connections\n",
    "    while len(sinks) > 0:\n",
    "        # 1. \n",
    "        for node in sinks:\n",
    "            next_ = node + num_phenotype_labels\n",
    "            if next_ > sink:\n",
    "                next_ = sink\n",
    "\n",
    "            if not G.has_node(next_):\n",
    "                G.add_node(next_, label=f'{phenotype_labels[(next_ - 1) % num_phenotype_labels]}\\n{time_stamps[(next_ - 1) // num_phenotype_labels]}\\n?/?') # todo\n",
    "\n",
    "            if not G.has_edge(node, next_):\n",
    "                G.add_edge(node, next_, label=\"?\") # todo\n",
    "\n",
    "            if next_ != sink:\n",
    "                cc.append(next_)\n",
    "\n",
    "        sinks = [node for node in cc if G.out_degree(node) == 0]\n",
    "\n",
    "    # todo: add counts to the edges and nodes that were filled in\n",
    "\n",
    "graphplot(G, file_path=file_path, orientation=\"LR\")"
   ],
   "metadata": {
    "collapsed": false,
    "ExecuteTime": {
     "start_time": "2023-12-18T14:30:19.634641100Z"
    }
   },
   "id": "682fb2499203bdf7"
  },
  {
   "cell_type": "markdown",
   "source": [
    "# 4.2 Table Obesity Class distribution in general and how long it takes to develop each class on average"
   ],
   "metadata": {
    "collapsed": false
   },
   "id": "f8c543b671409dbc"
  },
  {
   "cell_type": "code",
   "execution_count": null,
   "outputs": [],
   "source": [
    "from typing import List, Union\n",
    "import polars as pl\n",
    "\n",
    "def time_to_phenotype(df, phenotype_col_prefix, timestamp_col_prefix, time_unit_df: str, time_unit_output: str, by_col_labels: Union[str,List[str]] = None):\n",
    "    \"\"\"\n",
    "    \n",
    "    Expects a polars dataframe in ERKER format, with 5 label columns and 5 timestamp columns. For each patient, it notes when the patient was first diagnosed with a label and then calculates the average time it took for the patient to be diagnosed with the label. This data is then averaged in a new dataframe to show the average time it takes for a patient to be diagnosed with a label. \n",
    "    :param df: \n",
    "    :param phenotype_col_prefix: \n",
    "    :param timestamp_col_prefix:\n",
    "    :param by_col_labels: columns to stratify by\n",
    "    :return: \n",
    "    \"\"\"\n",
    "    if by_col_labels and isinstance(by_col_labels, str): # wrap in list\n",
    "        by_col_labels = [by_col_labels]\n",
    "        \n",
    "    label_cols = [col for col in df.columns if col.startswith(phenotype_col_prefix)]\n",
    "    timestamp_cols = [col for col in df.columns if col.startswith(timestamp_col_prefix)]\n",
    "\n",
    "    new_data = {'id': [], 'phenotype': [], 'timestamp': []}\n",
    "    \n",
    "    if by_col_labels:\n",
    "        for by_col_label in by_col_labels:\n",
    "            new_data[by_col_label] = []\n",
    "        for id_, by_cols, labels, timestamps in zip(df['id'], zip(*[df[by_col_label] for by_col_label in by_col_labels]), zip(*[df[col] for col in label_cols]), zip(*[df[col] for col in timestamp_cols])):\n",
    "            seen_labels = set()\n",
    "            for label, timestamp in zip(labels, timestamps):\n",
    "                if label not in seen_labels:\n",
    "                    new_data['id'].append(id_)\n",
    "                    for i, by_col_label in enumerate(by_col_labels):\n",
    "                        new_data[by_col_label].append(by_cols[i])\n",
    "                    new_data['phenotype'].append(label)\n",
    "                    new_data['timestamp'].append(timestamp)\n",
    "                    seen_labels.add(label)\n",
    "        groupby = by_col_labels + ['phenotype']\n",
    "    else:\n",
    "        for id_, labels, timestamps in zip(df['id'], zip(*[df[col] for col in label_cols]),\n",
    "                                           zip(*[df[col] for col in timestamp_cols])):\n",
    "            seen_labels = set()\n",
    "            for label, timestamp in zip(labels, timestamps):\n",
    "                if label not in seen_labels:\n",
    "                    new_data['id'].append(id_)\n",
    "                    new_data['phenotype'].append(label)\n",
    "                    new_data['timestamp'].append(timestamp)\n",
    "                    seen_labels.add(label)\n",
    "        groupby = ['phenotype']\n",
    "\n",
    "    result =  pl.DataFrame(new_data).groupby(groupby).agg(\n",
    "        pl.mean('timestamp').alias('avg_timestamp'),\n",
    "        pl.std('timestamp').alias('std_timestamp'),\n",
    "        pl.count('timestamp').alias('count')\n",
    "    )\n",
    "    \n",
    "    # change time units\n",
    "    unit_switch = {\n",
    "        'seconds': 1,\n",
    "        'minutes': 60,\n",
    "        'hours': 60 * 60,\n",
    "        'days': 60 * 60 * 24,\n",
    "        'months': 60 * 60 * 24 * 30,\n",
    "        'years': 60 * 60 * 24 * 365\n",
    "    }\n",
    "    change_unit = unit_switch[time_unit_df] / unit_switch[time_unit_output]\n",
    "    result = result.with_columns(\n",
    "        (pl.col('avg_timestamp') * change_unit).apply(lambda x: round(x, 2)).alias('avg_timestamp_' + time_unit_output),\n",
    "        (pl.col('std_timestamp') * change_unit).apply(lambda x: round(x, 2)).alias('std_timestamp_' + time_unit_output),\n",
    "    ).drop('avg_timestamp', 'std_timestamp').sort(by='avg_timestamp_' + time_unit_output)\n",
    "    \n",
    "    # add total count and percentage\n",
    "    total_counts = result.groupby(by_col_labels).agg(pl.sum('count').alias('total_count'))\n",
    "    result = result.join(total_counts, on=by_col_labels, how='left').select(\n",
    "        [col for col in result.columns if col != 'count' and col != 'total_count'] + ['count', 'total_count']\n",
    "    )\n",
    "    \n",
    "    result = result.with_columns((pl.col('count') / pl.col('total_count')).alias('frequency'))\n",
    "    \n",
    "    return result\n",
    "output_unit = 'months'\n",
    "avg_time_phenotype = time_to_phenotype(df, 'obesity_label', 'onset', time_unit_df='seconds', time_unit_output=output_unit, by_col_labels=['c_hgvs', 'zygosity'])\n",
    "avg_time_phenotype = avg_time_phenotype.filter(pl.col('phenotype') != 'Not recorded').sort(by='avg_timestamp_' + output_unit)\n",
    "\n",
    "# todo: p values for difference in avg time to phenotype between categories"
   ],
   "metadata": {
    "collapsed": false,
    "ExecuteTime": {
     "start_time": "2023-12-18T14:30:19.650678700Z"
    }
   },
   "id": "4e7d5a9e14a8d564"
  },
  {
   "cell_type": "code",
   "execution_count": null,
   "outputs": [],
   "source": [
    "avg_time_phenotype"
   ],
   "metadata": {
    "collapsed": false,
    "ExecuteTime": {
     "end_time": "2023-12-18T14:30:19.750718500Z",
     "start_time": "2023-12-18T14:30:19.671687100Z"
    }
   },
   "id": "aa02e79e8c5baac0"
  },
  {
   "cell_type": "code",
   "execution_count": null,
   "outputs": [],
   "source": [
    "from ERKER2Phenopackets.src.utils.polars_utils import scatter_plot, scatter_subplot\n",
    "# todo: maybe change this to include ranges (std) and not just the mean\n",
    "avg_time_phenotype = avg_time_phenotype.sort(by='phenotype', descending=False)\n",
    "x = avg_time_phenotype['avg_timestamp_months']\n",
    "y_labels = [\"Refuted Obesity (HP:0001513)\", \"Overweight (HP:0025502)\", \"Class I obesity (HP:0025499)\", \"Class II obesity (HP:0025500)\", \"Class III obesity (HP:0025501)\"]\n",
    "phenotyp_to_number = {phenotype: i for i, phenotype in enumerate(y_labels)}\n",
    "y = np.array([phenotyp_to_number[phenotype] for phenotype in avg_time_phenotype['phenotype']])\n",
    "z = avg_time_phenotype['c_hgvs']\n",
    "\n",
    "fig, ax = plt.subplots(1, 1, figsize=(15,10))\n",
    "ax.axhspan(ymin=3.75, ymax=4.25, xmin=0.05, xmax=0.89, color='red', alpha=0.3, hatch='//')\n",
    "scatter_subplot(ax, x, y, z, title='Average time to phenotype', z_discrete=True, y_labels=y_labels, x_label='Months')\n",
    "plt.show()"
   ],
   "metadata": {
    "collapsed": false,
    "ExecuteTime": {
     "start_time": "2023-12-18T14:30:19.671687100Z"
    }
   },
   "id": "881a2b103154a4a9"
  },
  {
   "cell_type": "code",
   "execution_count": null,
   "outputs": [],
   "source": [
    "import matplotlib.pyplot as plt\n",
    "import numpy as np\n",
    "\n",
    "data = [np.random.normal(0, std, 100) for std in range(1, 4)]\n",
    "plt.violinplot(data, vert=False)\n",
    "plt.show()"
   ],
   "metadata": {
    "collapsed": false,
    "ExecuteTime": {
     "start_time": "2023-12-18T14:30:19.680750100Z"
    }
   },
   "id": "f9720170b7730a1e"
  },
  {
   "cell_type": "markdown",
   "source": [
    "# Which combinations lead to the development of Class III obesity (HP:0025501) before 5 years of age (60 months)?"
   ],
   "metadata": {
    "collapsed": false
   },
   "id": "7e9d8902644f7672"
  },
  {
   "cell_type": "code",
   "execution_count": null,
   "outputs": [],
   "source": [
    "before_5 = avg_time_phenotype.filter((pl.col('phenotype') == \"Class III obesity (HP:0025501)\") & (pl.col('avg_timestamp_months') < 59))\n",
    "if before_5.is_empty():\n",
    "    print('No combinations lead to the development of Class III obesity (HP:0025501) before 5 years of age (60 months)')\n",
    "else:\n",
    "    before_5"
   ],
   "metadata": {
    "collapsed": false,
    "ExecuteTime": {
     "start_time": "2023-12-18T14:30:19.687764300Z"
    }
   },
   "id": "a9b303e40388f127"
  },
  {
   "cell_type": "markdown",
   "source": [
    "# Which combinations lead to a high risk of developing Class III obesity (HP:0025501)?"
   ],
   "metadata": {
    "collapsed": false
   },
   "id": "643eef176a5ad56"
  },
  {
   "cell_type": "code",
   "execution_count": null,
   "outputs": [],
   "source": [
    "risk_factor = 0.1\n",
    "high_risk = avg_time_phenotype.filter((pl.col('phenotype') == \"Class III obesity (HP:0025501)\") & (pl.col('frequency') > risk_factor))\n",
    "if high_risk.is_empty():\n",
    "    print('No combinations lead to a high risk of developing Class III obesity (HP:0025501)')\n",
    "else:\n",
    "    print(high_risk)"
   ],
   "metadata": {
    "collapsed": false,
    "ExecuteTime": {
     "start_time": "2023-12-18T14:30:19.687764300Z"
    }
   },
   "id": "34aad730318dfa4c"
  },
  {
   "cell_type": "code",
   "execution_count": null,
   "outputs": [],
   "source": [
    "# todo: std is null for real data for some reason and some patients are counte double in the count column"
   ],
   "metadata": {
    "collapsed": false,
    "ExecuteTime": {
     "start_time": "2023-12-18T14:30:19.687764300Z"
    }
   },
   "id": "13814a69e5234085"
  },
  {
   "cell_type": "markdown",
   "source": [
    "# Classification"
   ],
   "metadata": {
    "collapsed": false
   },
   "id": "5cf94f54198d70e6"
  },
  {
   "cell_type": "markdown",
   "source": [
    "## prepare dataset for classification"
   ],
   "metadata": {
    "collapsed": false
   },
   "id": "6d4e80d49642a8e2"
  },
  {
   "cell_type": "code",
   "execution_count": null,
   "outputs": [],
   "source": [
    "df"
   ],
   "metadata": {
    "collapsed": false,
    "ExecuteTime": {
     "start_time": "2023-12-18T14:30:19.703411Z"
    }
   },
   "id": "1a8d3036dd99be14"
  },
  {
   "cell_type": "code",
   "execution_count": null,
   "outputs": [],
   "source": [
    "from sklearn.datasets import load_iris\n",
    "from sklearn.model_selection import train_test_split\n",
    "from sklearn.linear_model import LogisticRegression\n",
    "from sklearn.tree import DecisionTreeClassifier\n",
    "from sklearn.ensemble import RandomForestClassifier\n",
    "from sklearn.svm import SVC\n",
    "from sklearn.neighbors import KNeighborsClassifier\n",
    "from sklearn.naive_bayes import GaussianNB\n",
    "from sklearn.ensemble import GradientBoostingClassifier\n",
    "from sklearn import metrics\n",
    "\n",
    "# Load the Iris dataset (or any dataset of your choice)\n",
    "data = load_iris()\n",
    "X = data.data\n",
    "y = data.target\n",
    "\n",
    "# Split the data into training and testing sets\n",
    "X_train, X_test, y_train, y_test = train_test_split(X, y, test_size=0.3, random_state=42)\n",
    "\n",
    "# Initialize models for different classifiers\n",
    "models = {\n",
    "    'Logistic Regression': LogisticRegression(max_iter=10000),\n",
    "    'Decision Tree': DecisionTreeClassifier(),\n",
    "    'Random Forest': RandomForestClassifier(),\n",
    "    'SVM': SVC(),\n",
    "    'K-Nearest Neighbors': KNeighborsClassifier(),\n",
    "    'Naive Bayes': GaussianNB(),\n",
    "    'Gradient Boosting': GradientBoostingClassifier()\n",
    "}\n",
    "\n",
    "# Train and evaluate each model\n",
    "for name, model in models.items():\n",
    "    # Train the model\n",
    "    model.fit(X_train, y_train)\n",
    "\n",
    "    # Make predictions on the test data\n",
    "    y_pred = model.predict(X_test)\n",
    "\n",
    "    # Evaluate the model\n",
    "    accuracy = metrics.accuracy_score(y_test, y_pred)\n",
    "    print(f\"{name} Accuracy:\", accuracy)"
   ],
   "metadata": {
    "collapsed": false,
    "ExecuteTime": {
     "start_time": "2023-12-18T14:30:19.703411Z"
    }
   },
   "id": "7aa60ce8f24fc1b2"
  },
  {
   "cell_type": "code",
   "execution_count": null,
   "outputs": [],
   "source": [],
   "metadata": {
    "collapsed": false,
    "ExecuteTime": {
     "start_time": "2023-12-18T14:30:19.719037300Z"
    }
   },
   "id": "b90fa94bb4455312"
  }
 ],
 "metadata": {
  "kernelspec": {
   "display_name": "Python 3",
   "language": "python",
   "name": "python3"
  },
  "language_info": {
   "codemirror_mode": {
    "name": "ipython",
    "version": 2
   },
   "file_extension": ".py",
   "mimetype": "text/x-python",
   "name": "python",
   "nbconvert_exporter": "python",
   "pygments_lexer": "ipython2",
   "version": "2.7.6"
  }
 },
 "nbformat": 4,
 "nbformat_minor": 5
}
