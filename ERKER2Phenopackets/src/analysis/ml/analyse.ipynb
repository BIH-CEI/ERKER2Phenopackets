{
 "cells": [
  {
   "cell_type": "code",
   "execution_count": 14,
   "id": "initial_id",
   "metadata": {
    "collapsed": true,
    "ExecuteTime": {
     "end_time": "2023-12-04T14:50:58.768410400Z",
     "start_time": "2023-12-04T14:50:58.739335400Z"
    }
   },
   "outputs": [
    {
     "data": {
      "text/plain": "WindowsPath('C:/Users/Surface/OneDrive/Documents/DataSpell/ERKER2Phenopackets/ERKER2Phenopackets/data/out/phenopackets')"
     },
     "execution_count": 14,
     "metadata": {},
     "output_type": "execute_result"
    }
   ],
   "source": [
    "import configparser\n",
    "from pathlib import Path\n",
    "\n",
    "config = configparser.ConfigParser()\n",
    "config.read('../../../data/config/config.cfg')\n",
    "\n",
    "phenopackets_out_dir = ('..' / Path(config.get('Paths', 'phenopackets_out'))).resolve()\n",
    "\n",
    "phenopackets_out_dir"
   ]
  },
  {
   "cell_type": "markdown",
   "source": [
    "# read in data from phenopackets"
   ],
   "metadata": {
    "collapsed": false
   },
   "id": "3acfd38d139a2a23"
  },
  {
   "cell_type": "code",
   "execution_count": 15,
   "outputs": [],
   "source": [
    "from ERKER2Phenopackets.src.utils.io import read_files\n",
    "\n",
    "example_phenopackets_dir = phenopackets_out_dir / 'example-phenopackets-from-synthetic-data'\n",
    "pps = read_files(example_phenopackets_dir)"
   ],
   "metadata": {
    "collapsed": false,
    "ExecuteTime": {
     "end_time": "2023-12-04T14:50:59.034911800Z",
     "start_time": "2023-12-04T14:50:58.754579700Z"
    }
   },
   "id": "f871b71d017e1148"
  },
  {
   "cell_type": "markdown",
   "source": [
    "# convert phenopackets to dataframe\n",
    "Necessary fields:\n",
    "- id\n",
    "- zygosity\n",
    "- cHGVS mutation\n",
    "- Obsesity Class and timestamp"
   ],
   "metadata": {
    "collapsed": false
   },
   "id": "e34f4c13d1b06892"
  },
  {
   "cell_type": "code",
   "execution_count": 16,
   "outputs": [
    {
     "name": "stdout",
     "output_type": "stream",
     "text": [
      "id: \"0\"\n",
      "subject {\n",
      "  id: \"0\"\n",
      "  date_of_birth {\n",
      "    seconds: 946684800\n",
      "  }\n",
      "  sex: FEMALE\n",
      "  taxonomy {\n",
      "    id: \"NCBITaxon:9606\"\n",
      "    label: \"Homo sapiens\"\n",
      "  }\n",
      "}\n",
      "phenotypic_features {\n",
      "  type {\n",
      "    id: \"HP:0001513\"\n",
      "    label: \"Obesity\"\n",
      "  }\n",
      "  excluded: true\n",
      "  onset {\n",
      "    timestamp {\n",
      "      seconds: 708652800\n",
      "    }\n",
      "  }\n",
      "}\n",
      "interpretations {\n",
      "  id: \"e0dd47b3-6e13-4507-84a7-5606bee17024\"\n",
      "  progress_status: SOLVED\n",
      "  diagnosis {\n",
      "    disease {\n",
      "      id: \"ORPHA:71529\"\n",
      "      label: \"Obesity due to melanocortin 4 receptor deficiency\"\n",
      "    }\n",
      "    genomic_interpretations {\n",
      "      subject_or_biosample_id: \"0\"\n",
      "      interpretation_status: CONTRIBUTORY\n",
      "      variant_interpretation {\n",
      "        variation_descriptor {\n",
      "          id: \"id:A\"\n",
      "          expressions {\n",
      "            syntax: \"hgvs\"\n",
      "            value: \"NP_005903.2:p.(Val103Ile)\"\n",
      "          }\n",
      "          expressions {\n",
      "            syntax: \"hgvs\"\n",
      "            value: \"NM_005912.3:c.181G>T\"\n",
      "          }\n",
      "          allelic_state {\n",
      "            id: \"GENO:0000135\"\n",
      "            label: \"heterozygous\"\n",
      "          }\n",
      "        }\n",
      "      }\n",
      "    }\n",
      "  }\n",
      "}\n",
      "meta_data {\n",
      "  created {\n",
      "    seconds: 1696204800\n",
      "  }\n",
      "  created_by: \"A. Graefe, F. Rehburg\"\n",
      "  resources {\n",
      "    id: \"HP\"\n",
      "    name: \"Human Phenotype Ontology\"\n",
      "    url: \"http://www.human-phenotype-ontology.org\"\n",
      "    version: \"2023-06-06\"\n",
      "    namespace_prefix: \"HP\"\n",
      "    iri_prefix: \"http://purl.obolibrary.org/obo/HP_\"\n",
      "  }\n",
      "  resources {\n",
      "    id: \"OMIM\"\n",
      "    name: \"Online Mendelian Inheritance in Man\"\n",
      "    url: \"https://www.omim.org/\"\n",
      "    version: \"2023-09-08\"\n",
      "    namespace_prefix: \"OMIM\"\n",
      "    iri_prefix: \"https://www.omim.org/\"\n",
      "  }\n",
      "  resources {\n",
      "    id: \"ORPHA\"\n",
      "    name: \"Orphanet Rare Disease Ontology\"\n",
      "    url: \"https://www.orpha.net/\"\n",
      "    version: \"2023-09-10\"\n",
      "    namespace_prefix: \"ORPHA\"\n",
      "    iri_prefix: \"https://registry.identifiers.org/registry/orphanet.ordo\"\n",
      "  }\n",
      "  resources {\n",
      "    id: \"NCBITaxon\"\n",
      "    name: \"National Center for Biotechnology Information Taxonomy\"\n",
      "    url: \"https://www.ncbi.nlm.nih.gov/taxonomy\"\n",
      "    version: \"2023-02-21\"\n",
      "    namespace_prefix: \"NCBITaxon\"\n",
      "    iri_prefix: \"http://purl.obolibrary.org/obo/NCBITaxon_\"\n",
      "  }\n",
      "  resources {\n",
      "    id: \"LOINC\"\n",
      "    name: \"Logical Observation Identifiers Names and Codes\"\n",
      "    url: \"https://loinc.org/\"\n",
      "    version: \"2023-08-15\"\n",
      "    namespace_prefix: \"LOINC\"\n",
      "    iri_prefix: \"https://loinc.org/\"\n",
      "  }\n",
      "  resources {\n",
      "    id: \"HGNC\"\n",
      "    name: \"HUGO Gene Nomenclature Committee\"\n",
      "    url: \"https://www.genenames.org/\"\n",
      "    version: \"2023-09-10\"\n",
      "    namespace_prefix: \"HGNC\"\n",
      "    iri_prefix: \"https://www.genenames.org/data/gene-symbol-report/#!/hgnc_id/\"\n",
      "  }\n",
      "  resources {\n",
      "    id: \"GENO\"\n",
      "    name: \"Gene Ontology\"\n",
      "    url: \"https://geneontology.org/\"\n",
      "    version: \"2023-07-27\"\n",
      "    namespace_prefix: \"GENO\"\n",
      "    iri_prefix: \"http://purl.obolibrary.org/obo/GENO_\"\n",
      "  }\n",
      "  phenopacket_schema_version: \"2.0.2\"\n",
      "}\n"
     ]
    }
   ],
   "source": [
    "print(pps[0])"
   ],
   "metadata": {
    "collapsed": false
   },
   "id": "9334ce8817c33067"
  },
  {
   "cell_type": "code",
   "execution_count": 83,
   "outputs": [],
   "source": [
    "from typing import Tuple\n",
    "from phenopackets import Phenopacket\n",
    "\n",
    "sex_map = {0: 'unknown', 1: 'female', 2: 'male', 3: 'other'}\n",
    "\n",
    "def extract_fields(phenopacket: Phenopacket) -> Tuple[str, int, str]:\n",
    "    pp_id = int(phenopacket.id)\n",
    "    dob = phenopacket.subject.date_of_birth.ToSeconds()\n",
    "    sex = sex_map[phenopacket.subject.sex]\n",
    "    \n",
    "    try:\n",
    "        variation_descriptor = phenopacket.interpretations[0].diagnosis.genomic_interpretations[0].variant_interpretation.variation_descriptor\n",
    "        \n",
    "        c_hgvs = variation_descriptor.expressions[1].value\n",
    "        zygosity = variation_descriptor.allelic_state.label\n",
    "    except IndexError:\n",
    "        return None\n",
    "    return pp_id, dob, sex, zygosity, c_hgvs"
   ],
   "metadata": {
    "collapsed": false,
    "ExecuteTime": {
     "end_time": "2023-12-04T15:36:15.376022900Z",
     "start_time": "2023-12-04T15:36:15.344079100Z"
    }
   },
   "id": "376850abf12de9b"
  },
  {
   "cell_type": "code",
   "execution_count": 84,
   "outputs": [],
   "source": [
    "phenopacket = pps[0]\n",
    "variation_descriptor = phenopacket.interpretations[0].diagnosis.genomic_interpretations[0].variant_interpretation"
   ],
   "metadata": {
    "collapsed": false,
    "ExecuteTime": {
     "end_time": "2023-12-04T15:36:15.879506300Z",
     "start_time": "2023-12-04T15:36:15.847818500Z"
    }
   },
   "id": "d0cd4da031dd0c8e"
  },
  {
   "cell_type": "code",
   "execution_count": 85,
   "outputs": [
    {
     "name": "stdout",
     "output_type": "stream",
     "text": [
      "(0, 946684800, 'female', 'heterozygous', 'NM_005912.3:c.181G>T')\n",
      "(1, 915148800, 'female', 'heterozygous', 'NM_005912.3:c.307G>A')\n",
      "None\n",
      "None\n",
      "(12, 757382400, 'male', 'heterozygous', 'NM_005912.3:c.307G>A')\n",
      "(13, 757382400, 'male', 'heterozygous', 'NM_005912.3:c.307G>A')\n",
      "None\n",
      "None\n",
      "None\n",
      "(17, 1072915200, 'female', 'homozygous', 'NM_005912.3:c.253A>G')\n",
      "(18, 1136073600, 'female', 'heterozygous', 'NM_005912.3:c.508A>G')\n",
      "None\n",
      "(2, 1009843200, 'female', 'heterozygous', 'NM_005912.3:c.821A>G')\n",
      "(20, 1072915200, 'male', 'heterozygous', 'NM_005912.3:c.307G>A')\n",
      "(21, 1136073600, 'male', 'heterozygous', 'NM_005912.3:c.751A>C')\n",
      "(22, 694224000, 'male', 'heterozygous', 'NM_005912.3:c.268G>A')\n",
      "(23, 1293840000, 'female', 'heterozygous', 'NM_005912.3:c.307G>A')\n",
      "(24, 1072915200, 'male', 'unspecified zygosity', 'NM_005912.3:c.533C>T')\n",
      "(25, 820454400, 'male', 'heterozygous', 'NM_005912.3:c.230C>T')\n",
      "(26, 757382400, 'female', 'heterozygous', 'NM_005912.3:c.268G>A')\n",
      "None\n",
      "(28, 631152000, 'female', 'heterozygous', 'NM_005912.3:c.823C>T')\n",
      "(29, 1483228800, 'male', 'heterozygous', 'NM_005912.3:c.230C>T')\n",
      "(3, 820454400, 'male', 'heterozygous', 'NM_005912.3:c.307G>A')\n",
      "(30, 725846400, 'female', 'heterozygous', 'NM_005912.3:c.181G>T')\n",
      "(31, 915148800, 'female', 'heterozygous', 'NM_005912.3:c.335C>A')\n",
      "(32, 1420070400, 'male', 'heterozygous', 'NM_005912.3:c.307G>A')\n",
      "(33, 978307200, 'female', 'heterozygous', 'NM_005912.3:c.811T>C')\n",
      "None\n",
      "None\n",
      "(36, 788918400, 'female', 'homozygous', 'NM_005912.3:c.335C>T')\n",
      "(37, 1072915200, 'female', 'heterozygous', 'NM_005912.3:c.307G>A')\n",
      "(38, 978307200, 'female', 'heterozygous', 'NM_005912.3:c.307G>A')\n",
      "(39, 1356998400, 'female', 'homozygous', 'NM_005912.3:c.751A>C')\n",
      "(4, 946684800, 'male', 'heterozygous', 'NM_005912.3:c.239A>G')\n",
      "None\n",
      "(41, 915148800, 'female', 'heterozygous', 'NM_005912.3:c.496G>C')\n",
      "(42, 1009843200, 'female', 'heterozygous', 'NM_005912.3:c.751A>C')\n",
      "(43, 1041379200, 'male', 'heterozygous', 'NM_005912.3:c.751A>C')\n",
      "(44, 1009843200, 'female', 'heterozygous', 'NM_005912.3:c.307G>A')\n",
      "(45, 946684800, 'male', 'heterozygous', 'NM_005912.3:c.751A>C')\n",
      "(46, 1483228800, 'male', 'heterozygous', 'NM_005912.3:c.230C>T')\n",
      "(47, 1009843200, 'female', 'heterozygous', 'NM_005912.3:c.523G>A')\n",
      "(48, 757382400, 'female', 'heterozygous', 'NM_005912.3:c.307G>A')\n",
      "None\n",
      "None\n",
      "None\n",
      "(7, 1009843200, 'female', 'heterozygous', 'NM_005912.3:c.751A>C')\n",
      "None\n",
      "(9, 1072915200, 'male', 'heterozygous', 'NM_005912.3:c.307G>A')\n"
     ]
    }
   ],
   "source": [
    "for pp in pps:\n",
    "    print(extract_fields(pp))"
   ],
   "metadata": {
    "collapsed": false,
    "ExecuteTime": {
     "end_time": "2023-12-04T15:36:16.791685400Z",
     "start_time": "2023-12-04T15:36:16.787548600Z"
    }
   },
   "id": "5c29bfa549db9a2a"
  },
  {
   "cell_type": "code",
   "execution_count": 86,
   "outputs": [
    {
     "data": {
      "text/plain": "([(0, 946684800, 'female', 'heterozygous', 'NM_005912.3:c.181G>T'),\n  (1, 915148800, 'female', 'heterozygous', 'NM_005912.3:c.307G>A'),\n  (12, 757382400, 'male', 'heterozygous', 'NM_005912.3:c.307G>A'),\n  (13, 757382400, 'male', 'heterozygous', 'NM_005912.3:c.307G>A'),\n  (17, 1072915200, 'female', 'homozygous', 'NM_005912.3:c.253A>G'),\n  (18, 1136073600, 'female', 'heterozygous', 'NM_005912.3:c.508A>G'),\n  (2, 1009843200, 'female', 'heterozygous', 'NM_005912.3:c.821A>G'),\n  (20, 1072915200, 'male', 'heterozygous', 'NM_005912.3:c.307G>A'),\n  (21, 1136073600, 'male', 'heterozygous', 'NM_005912.3:c.751A>C'),\n  (22, 694224000, 'male', 'heterozygous', 'NM_005912.3:c.268G>A'),\n  (23, 1293840000, 'female', 'heterozygous', 'NM_005912.3:c.307G>A'),\n  (24, 1072915200, 'male', 'unspecified zygosity', 'NM_005912.3:c.533C>T'),\n  (25, 820454400, 'male', 'heterozygous', 'NM_005912.3:c.230C>T'),\n  (26, 757382400, 'female', 'heterozygous', 'NM_005912.3:c.268G>A'),\n  (28, 631152000, 'female', 'heterozygous', 'NM_005912.3:c.823C>T'),\n  (29, 1483228800, 'male', 'heterozygous', 'NM_005912.3:c.230C>T'),\n  (3, 820454400, 'male', 'heterozygous', 'NM_005912.3:c.307G>A'),\n  (30, 725846400, 'female', 'heterozygous', 'NM_005912.3:c.181G>T'),\n  (31, 915148800, 'female', 'heterozygous', 'NM_005912.3:c.335C>A'),\n  (32, 1420070400, 'male', 'heterozygous', 'NM_005912.3:c.307G>A'),\n  (33, 978307200, 'female', 'heterozygous', 'NM_005912.3:c.811T>C'),\n  (36, 788918400, 'female', 'homozygous', 'NM_005912.3:c.335C>T'),\n  (37, 1072915200, 'female', 'heterozygous', 'NM_005912.3:c.307G>A'),\n  (38, 978307200, 'female', 'heterozygous', 'NM_005912.3:c.307G>A'),\n  (39, 1356998400, 'female', 'homozygous', 'NM_005912.3:c.751A>C'),\n  (4, 946684800, 'male', 'heterozygous', 'NM_005912.3:c.239A>G'),\n  (41, 915148800, 'female', 'heterozygous', 'NM_005912.3:c.496G>C'),\n  (42, 1009843200, 'female', 'heterozygous', 'NM_005912.3:c.751A>C'),\n  (43, 1041379200, 'male', 'heterozygous', 'NM_005912.3:c.751A>C'),\n  (44, 1009843200, 'female', 'heterozygous', 'NM_005912.3:c.307G>A'),\n  (45, 946684800, 'male', 'heterozygous', 'NM_005912.3:c.751A>C'),\n  (46, 1483228800, 'male', 'heterozygous', 'NM_005912.3:c.230C>T'),\n  (47, 1009843200, 'female', 'heterozygous', 'NM_005912.3:c.523G>A'),\n  (48, 757382400, 'female', 'heterozygous', 'NM_005912.3:c.307G>A'),\n  (7, 1009843200, 'female', 'heterozygous', 'NM_005912.3:c.751A>C'),\n  (9, 1072915200, 'male', 'heterozygous', 'NM_005912.3:c.307G>A')],\n 36)"
     },
     "execution_count": 86,
     "metadata": {},
     "output_type": "execute_result"
    }
   ],
   "source": [
    "import polars as pl\n",
    "\n",
    "data = list(filter(lambda x: x is not None, map(extract_fields, pps)))\n",
    "\n",
    "data, len(data)"
   ],
   "metadata": {
    "collapsed": false,
    "ExecuteTime": {
     "end_time": "2023-12-04T15:36:17.544522900Z",
     "start_time": "2023-12-04T15:36:17.525321500Z"
    }
   },
   "id": "26d37f2348812bb7"
  },
  {
   "cell_type": "code",
   "execution_count": 92,
   "outputs": [],
   "source": [
    "columns = ['id', 'date_of_birth', 'sex', 'zygosity', 'c_hgvs']\n",
    "transposed_data = list(zip(*data))\n",
    "\n",
    "df = pl.DataFrame({col: transposed_data[i] for i, col in enumerate(columns)})"
   ],
   "metadata": {
    "collapsed": false,
    "ExecuteTime": {
     "end_time": "2023-12-04T15:41:21.439649800Z",
     "start_time": "2023-12-04T15:41:21.407949800Z"
    }
   },
   "id": "eda56fbf896dc8d5"
  },
  {
   "cell_type": "code",
   "execution_count": 93,
   "outputs": [
    {
     "data": {
      "text/plain": "shape: (5, 5)\n┌─────┬───────────────┬────────┬──────────────┬──────────────────────┐\n│ id  ┆ date_of_birth ┆ sex    ┆ zygosity     ┆ c_hgvs               │\n│ --- ┆ ---           ┆ ---    ┆ ---          ┆ ---                  │\n│ i64 ┆ i64           ┆ str    ┆ str          ┆ str                  │\n╞═════╪═══════════════╪════════╪══════════════╪══════════════════════╡\n│ 0   ┆ 946684800     ┆ female ┆ heterozygous ┆ NM_005912.3:c.181G>T │\n│ 1   ┆ 915148800     ┆ female ┆ heterozygous ┆ NM_005912.3:c.307G>A │\n│ 12  ┆ 757382400     ┆ male   ┆ heterozygous ┆ NM_005912.3:c.307G>A │\n│ 13  ┆ 757382400     ┆ male   ┆ heterozygous ┆ NM_005912.3:c.307G>A │\n│ 17  ┆ 1072915200    ┆ female ┆ homozygous   ┆ NM_005912.3:c.253A>G │\n└─────┴───────────────┴────────┴──────────────┴──────────────────────┘",
      "text/html": "<div><style>\n.dataframe > thead > tr > th,\n.dataframe > tbody > tr > td {\n  text-align: right;\n}\n</style>\n<small>shape: (5, 5)</small><table border=\"1\" class=\"dataframe\"><thead><tr><th>id</th><th>date_of_birth</th><th>sex</th><th>zygosity</th><th>c_hgvs</th></tr><tr><td>i64</td><td>i64</td><td>str</td><td>str</td><td>str</td></tr></thead><tbody><tr><td>0</td><td>946684800</td><td>&quot;female&quot;</td><td>&quot;heterozygous&quot;</td><td>&quot;NM_005912.3:c.…</td></tr><tr><td>1</td><td>915148800</td><td>&quot;female&quot;</td><td>&quot;heterozygous&quot;</td><td>&quot;NM_005912.3:c.…</td></tr><tr><td>12</td><td>757382400</td><td>&quot;male&quot;</td><td>&quot;heterozygous&quot;</td><td>&quot;NM_005912.3:c.…</td></tr><tr><td>13</td><td>757382400</td><td>&quot;male&quot;</td><td>&quot;heterozygous&quot;</td><td>&quot;NM_005912.3:c.…</td></tr><tr><td>17</td><td>1072915200</td><td>&quot;female&quot;</td><td>&quot;homozygous&quot;</td><td>&quot;NM_005912.3:c.…</td></tr></tbody></table></div>"
     },
     "execution_count": 93,
     "metadata": {},
     "output_type": "execute_result"
    }
   ],
   "source": [
    "df.head()"
   ],
   "metadata": {
    "collapsed": false,
    "ExecuteTime": {
     "end_time": "2023-12-04T15:41:28.092553100Z",
     "start_time": "2023-12-04T15:41:27.904220300Z"
    }
   },
   "id": "fbd80717f0cb057d"
  },
  {
   "cell_type": "code",
   "execution_count": null,
   "outputs": [],
   "source": [],
   "metadata": {
    "collapsed": false
   },
   "id": "45cfc6f69972be6e"
  }
 ],
 "metadata": {
  "kernelspec": {
   "display_name": "Python 3",
   "language": "python",
   "name": "python3"
  },
  "language_info": {
   "codemirror_mode": {
    "name": "ipython",
    "version": 2
   },
   "file_extension": ".py",
   "mimetype": "text/x-python",
   "name": "python",
   "nbconvert_exporter": "python",
   "pygments_lexer": "ipython2",
   "version": "2.7.6"
  }
 },
 "nbformat": 4,
 "nbformat_minor": 5
}
