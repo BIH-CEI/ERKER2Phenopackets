{
 "cells": [
  {
   "cell_type": "code",
   "execution_count": 14,
   "id": "initial_id",
   "metadata": {
    "collapsed": true,
    "ExecuteTime": {
     "end_time": "2023-12-04T14:50:58.768410400Z",
     "start_time": "2023-12-04T14:50:58.739335400Z"
    }
   },
   "outputs": [
    {
     "data": {
      "text/plain": "WindowsPath('C:/Users/Surface/OneDrive/Documents/DataSpell/ERKER2Phenopackets/ERKER2Phenopackets/data/out/phenopackets')"
     },
     "execution_count": 14,
     "metadata": {},
     "output_type": "execute_result"
    }
   ],
   "source": [
    "import configparser\n",
    "from pathlib import Path\n",
    "\n",
    "config = configparser.ConfigParser()\n",
    "config.read('../../../data/config/config.cfg')\n",
    "\n",
    "phenopackets_out_dir = ('..' / Path(config.get('Paths', 'phenopackets_out'))).resolve()\n",
    "\n",
    "phenopackets_out_dir"
   ]
  },
  {
   "cell_type": "markdown",
   "source": [
    "# read in data from phenopackets"
   ],
   "metadata": {
    "collapsed": false
   },
   "id": "3acfd38d139a2a23"
  },
  {
   "cell_type": "code",
   "execution_count": 15,
   "outputs": [],
   "source": [
    "from ERKER2Phenopackets.src.utils.io import read_files\n",
    "\n",
    "example_phenopackets_dir = phenopackets_out_dir / 'example-phenopackets-from-synthetic-data'\n",
    "pps = read_files(example_phenopackets_dir)"
   ],
   "metadata": {
    "collapsed": false,
    "ExecuteTime": {
     "end_time": "2023-12-04T14:50:59.034911800Z",
     "start_time": "2023-12-04T14:50:58.754579700Z"
    }
   },
   "id": "f871b71d017e1148"
  },
  {
   "cell_type": "markdown",
   "source": [
    "# convert phenopackets to dataframe\n",
    "Necessary fields:\n",
    "- id\n",
    "- zygosity\n",
    "- cHGVS mutation\n",
    "- Obsesity Class and timestamp"
   ],
   "metadata": {
    "collapsed": false
   },
   "id": "e34f4c13d1b06892"
  },
  {
   "cell_type": "code",
   "execution_count": 16,
   "outputs": [
    {
     "name": "stdout",
     "output_type": "stream",
     "text": [
      "id: \"0\"\n",
      "subject {\n",
      "  id: \"0\"\n",
      "  date_of_birth {\n",
      "    seconds: 946684800\n",
      "  }\n",
      "  sex: FEMALE\n",
      "  taxonomy {\n",
      "    id: \"NCBITaxon:9606\"\n",
      "    label: \"Homo sapiens\"\n",
      "  }\n",
      "}\n",
      "phenotypic_features {\n",
      "  type {\n",
      "    id: \"HP:0001513\"\n",
      "    label: \"Obesity\"\n",
      "  }\n",
      "  excluded: true\n",
      "  onset {\n",
      "    timestamp {\n",
      "      seconds: 708652800\n",
      "    }\n",
      "  }\n",
      "}\n",
      "interpretations {\n",
      "  id: \"e0dd47b3-6e13-4507-84a7-5606bee17024\"\n",
      "  progress_status: SOLVED\n",
      "  diagnosis {\n",
      "    disease {\n",
      "      id: \"ORPHA:71529\"\n",
      "      label: \"Obesity due to melanocortin 4 receptor deficiency\"\n",
      "    }\n",
      "    genomic_interpretations {\n",
      "      subject_or_biosample_id: \"0\"\n",
      "      interpretation_status: CONTRIBUTORY\n",
      "      variant_interpretation {\n",
      "        variation_descriptor {\n",
      "          id: \"id:A\"\n",
      "          expressions {\n",
      "            syntax: \"hgvs\"\n",
      "            value: \"NP_005903.2:p.(Val103Ile)\"\n",
      "          }\n",
      "          expressions {\n",
      "            syntax: \"hgvs\"\n",
      "            value: \"NM_005912.3:c.181G>T\"\n",
      "          }\n",
      "          allelic_state {\n",
      "            id: \"GENO:0000135\"\n",
      "            label: \"heterozygous\"\n",
      "          }\n",
      "        }\n",
      "      }\n",
      "    }\n",
      "  }\n",
      "}\n",
      "meta_data {\n",
      "  created {\n",
      "    seconds: 1696204800\n",
      "  }\n",
      "  created_by: \"A. Graefe, F. Rehburg\"\n",
      "  resources {\n",
      "    id: \"HP\"\n",
      "    name: \"Human Phenotype Ontology\"\n",
      "    url: \"http://www.human-phenotype-ontology.org\"\n",
      "    version: \"2023-06-06\"\n",
      "    namespace_prefix: \"HP\"\n",
      "    iri_prefix: \"http://purl.obolibrary.org/obo/HP_\"\n",
      "  }\n",
      "  resources {\n",
      "    id: \"OMIM\"\n",
      "    name: \"Online Mendelian Inheritance in Man\"\n",
      "    url: \"https://www.omim.org/\"\n",
      "    version: \"2023-09-08\"\n",
      "    namespace_prefix: \"OMIM\"\n",
      "    iri_prefix: \"https://www.omim.org/\"\n",
      "  }\n",
      "  resources {\n",
      "    id: \"ORPHA\"\n",
      "    name: \"Orphanet Rare Disease Ontology\"\n",
      "    url: \"https://www.orpha.net/\"\n",
      "    version: \"2023-09-10\"\n",
      "    namespace_prefix: \"ORPHA\"\n",
      "    iri_prefix: \"https://registry.identifiers.org/registry/orphanet.ordo\"\n",
      "  }\n",
      "  resources {\n",
      "    id: \"NCBITaxon\"\n",
      "    name: \"National Center for Biotechnology Information Taxonomy\"\n",
      "    url: \"https://www.ncbi.nlm.nih.gov/taxonomy\"\n",
      "    version: \"2023-02-21\"\n",
      "    namespace_prefix: \"NCBITaxon\"\n",
      "    iri_prefix: \"http://purl.obolibrary.org/obo/NCBITaxon_\"\n",
      "  }\n",
      "  resources {\n",
      "    id: \"LOINC\"\n",
      "    name: \"Logical Observation Identifiers Names and Codes\"\n",
      "    url: \"https://loinc.org/\"\n",
      "    version: \"2023-08-15\"\n",
      "    namespace_prefix: \"LOINC\"\n",
      "    iri_prefix: \"https://loinc.org/\"\n",
      "  }\n",
      "  resources {\n",
      "    id: \"HGNC\"\n",
      "    name: \"HUGO Gene Nomenclature Committee\"\n",
      "    url: \"https://www.genenames.org/\"\n",
      "    version: \"2023-09-10\"\n",
      "    namespace_prefix: \"HGNC\"\n",
      "    iri_prefix: \"https://www.genenames.org/data/gene-symbol-report/#!/hgnc_id/\"\n",
      "  }\n",
      "  resources {\n",
      "    id: \"GENO\"\n",
      "    name: \"Gene Ontology\"\n",
      "    url: \"https://geneontology.org/\"\n",
      "    version: \"2023-07-27\"\n",
      "    namespace_prefix: \"GENO\"\n",
      "    iri_prefix: \"http://purl.obolibrary.org/obo/GENO_\"\n",
      "  }\n",
      "  phenopacket_schema_version: \"2.0.2\"\n",
      "}\n"
     ]
    }
   ],
   "source": [
    "print(pps[0])"
   ],
   "metadata": {
    "collapsed": false,
    "ExecuteTime": {
     "end_time": "2023-12-04T15:00:22.872965300Z",
     "start_time": "2023-12-04T15:00:22.857341700Z"
    }
   },
   "id": "9334ce8817c33067"
  },
  {
   "cell_type": "code",
   "execution_count": 62,
   "outputs": [],
   "source": [
    "from typing import Tuple\n",
    "from phenopackets import Phenopacket\n",
    "\n",
    "def extract_fields(phenopacket: Phenopacket) -> Tuple[str, int, str]:\n",
    "    pp_id = int(phenopacket.id)\n",
    "    dob = phenopacket.subject.date_of_birth.ToSeconds()\n",
    "    sex = phenopacket.subject.sex\n",
    "    \n",
    "    try:\n",
    "        zygosity = phenopacket.interpretations[0].diagnosis.genomic_interpretations[0].variant_interpretation.variation_descriptor.allelic_state.label\n",
    "    except IndexError:\n",
    "        return None\n",
    "    return pp_id, dob, sex, zygosity"
   ],
   "metadata": {
    "collapsed": false,
    "ExecuteTime": {
     "end_time": "2023-12-04T15:19:29.070964300Z",
     "start_time": "2023-12-04T15:19:29.023967500Z"
    }
   },
   "id": "376850abf12de9b"
  },
  {
   "cell_type": "code",
   "execution_count": 63,
   "outputs": [
    {
     "data": {
      "text/plain": "'heterozygous'"
     },
     "execution_count": 63,
     "metadata": {},
     "output_type": "execute_result"
    }
   ],
   "source": [
    "phenopacket = pps[0]\n",
    "pp_id = int(phenopacket.id)\n",
    "dob = phenopacket.subject.date_of_birth.ToSeconds()\n",
    "sex = phenopacket.subject.sex\n",
    "\n",
    "zygosity = phenopacket.interpretations[0].diagnosis.genomic_interpretations[0].variant_interpretation.variation_descriptor.allelic_state.label\n",
    "zygosity"
   ],
   "metadata": {
    "collapsed": false,
    "ExecuteTime": {
     "end_time": "2023-12-04T15:19:29.483384100Z",
     "start_time": "2023-12-04T15:19:29.433496300Z"
    }
   },
   "id": "d0cd4da031dd0c8e"
  },
  {
   "cell_type": "code",
   "execution_count": 64,
   "outputs": [
    {
     "name": "stdout",
     "output_type": "stream",
     "text": [
      "(0, 946684800, 1, 'heterozygous')\n",
      "(1, 915148800, 1, 'heterozygous')\n",
      "None\n",
      "None\n",
      "(12, 757382400, 2, 'heterozygous')\n",
      "(13, 757382400, 2, 'heterozygous')\n",
      "None\n",
      "None\n",
      "None\n",
      "(17, 1072915200, 1, 'homozygous')\n",
      "(18, 1136073600, 1, 'heterozygous')\n",
      "None\n",
      "(2, 1009843200, 1, 'heterozygous')\n",
      "(20, 1072915200, 2, 'heterozygous')\n",
      "(21, 1136073600, 2, 'heterozygous')\n",
      "(22, 694224000, 2, 'heterozygous')\n",
      "(23, 1293840000, 1, 'heterozygous')\n",
      "(24, 1072915200, 2, 'unspecified zygosity')\n",
      "(25, 820454400, 2, 'heterozygous')\n",
      "(26, 757382400, 1, 'heterozygous')\n",
      "None\n",
      "(28, 631152000, 1, 'heterozygous')\n",
      "(29, 1483228800, 2, 'heterozygous')\n",
      "(3, 820454400, 2, 'heterozygous')\n",
      "(30, 725846400, 1, 'heterozygous')\n",
      "(31, 915148800, 1, 'heterozygous')\n",
      "(32, 1420070400, 2, 'heterozygous')\n",
      "(33, 978307200, 1, 'heterozygous')\n",
      "None\n",
      "None\n",
      "(36, 788918400, 1, 'homozygous')\n",
      "(37, 1072915200, 1, 'heterozygous')\n",
      "(38, 978307200, 1, 'heterozygous')\n",
      "(39, 1356998400, 1, 'homozygous')\n",
      "(4, 946684800, 2, 'heterozygous')\n",
      "None\n",
      "(41, 915148800, 1, 'heterozygous')\n",
      "(42, 1009843200, 1, 'heterozygous')\n",
      "(43, 1041379200, 2, 'heterozygous')\n",
      "(44, 1009843200, 1, 'heterozygous')\n",
      "(45, 946684800, 2, 'heterozygous')\n",
      "(46, 1483228800, 2, 'heterozygous')\n",
      "(47, 1009843200, 1, 'heterozygous')\n",
      "(48, 757382400, 1, 'heterozygous')\n",
      "None\n",
      "None\n",
      "None\n",
      "(7, 1009843200, 1, 'heterozygous')\n",
      "None\n",
      "(9, 1072915200, 2, 'heterozygous')\n"
     ]
    }
   ],
   "source": [
    "for pp in pps:\n",
    "    print(extract_fields(pp))"
   ],
   "metadata": {
    "collapsed": false,
    "ExecuteTime": {
     "end_time": "2023-12-04T15:19:30.339311400Z",
     "start_time": "2023-12-04T15:19:30.308080700Z"
    }
   },
   "id": "5c29bfa549db9a2a"
  },
  {
   "cell_type": "code",
   "execution_count": null,
   "outputs": [],
   "source": [
    "import polars as pl\n",
    "\n",
    "data = list(map(extract_fields, pps))\n",
    "columns = ['id', 'date_of_birth', 'sex', 'zygosity', 'cHGVS mutation', 'Obsesity Class and timestamp']\n",
    "\n",
    "df = pl.Dataframe(data, columns=columns)"
   ],
   "metadata": {
    "collapsed": false
   },
   "id": "536e14ab995d18d"
  }
 ],
 "metadata": {
  "kernelspec": {
   "display_name": "Python 3",
   "language": "python",
   "name": "python3"
  },
  "language_info": {
   "codemirror_mode": {
    "name": "ipython",
    "version": 2
   },
   "file_extension": ".py",
   "mimetype": "text/x-python",
   "name": "python",
   "nbconvert_exporter": "python",
   "pygments_lexer": "ipython2",
   "version": "2.7.6"
  }
 },
 "nbformat": 4,
 "nbformat_minor": 5
}
