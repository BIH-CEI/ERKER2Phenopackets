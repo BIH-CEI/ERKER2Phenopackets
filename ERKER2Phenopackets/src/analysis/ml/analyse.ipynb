{
 "cells": [
  {
   "cell_type": "code",
   "execution_count": 134,
   "id": "initial_id",
   "metadata": {
    "collapsed": true,
    "ExecuteTime": {
     "end_time": "2023-12-04T15:53:16.118089400Z",
     "start_time": "2023-12-04T15:53:16.003167700Z"
    }
   },
   "outputs": [
    {
     "data": {
      "text/plain": "WindowsPath('C:/Users/Surface/OneDrive/Documents/DataSpell/ERKER2Phenopackets/ERKER2Phenopackets/data/out/phenopackets')"
     },
     "execution_count": 134,
     "metadata": {},
     "output_type": "execute_result"
    }
   ],
   "source": [
    "import configparser\n",
    "from pathlib import Path\n",
    "\n",
    "config = configparser.ConfigParser()\n",
    "config.read('../../../data/config/config.cfg')\n",
    "\n",
    "phenopackets_out_dir = ('..' / Path(config.get('Paths', 'phenopackets_out'))).resolve()\n",
    "\n",
    "phenopackets_out_dir"
   ]
  },
  {
   "cell_type": "markdown",
   "source": [
    "# read in data from phenopackets"
   ],
   "metadata": {
    "collapsed": false
   },
   "id": "3acfd38d139a2a23"
  },
  {
   "cell_type": "code",
   "execution_count": 135,
   "outputs": [],
   "source": [
    "from ERKER2Phenopackets.src.utils.io import read_files\n",
    "\n",
    "example_phenopackets_dir = phenopackets_out_dir / 'example-phenopackets-from-synthetic-data'\n",
    "pps = read_files(example_phenopackets_dir)"
   ],
   "metadata": {
    "collapsed": false,
    "ExecuteTime": {
     "end_time": "2023-12-04T15:53:16.252044900Z",
     "start_time": "2023-12-04T15:53:16.023926Z"
    }
   },
   "id": "f871b71d017e1148"
  },
  {
   "cell_type": "markdown",
   "source": [
    "# convert phenopackets to dataframe\n",
    "Necessary fields:\n",
    "- id\n",
    "- zygosity\n",
    "- cHGVS mutation\n",
    "- Obsesity Class and timestamp"
   ],
   "metadata": {
    "collapsed": false
   },
   "id": "e34f4c13d1b06892"
  },
  {
   "cell_type": "code",
   "execution_count": 136,
   "outputs": [
    {
     "name": "stdout",
     "output_type": "stream",
     "text": [
      "id: \"0\"\n",
      "subject {\n",
      "  id: \"0\"\n",
      "  date_of_birth {\n",
      "    seconds: 946684800\n",
      "  }\n",
      "  sex: FEMALE\n",
      "  taxonomy {\n",
      "    id: \"NCBITaxon:9606\"\n",
      "    label: \"Homo sapiens\"\n",
      "  }\n",
      "}\n",
      "phenotypic_features {\n",
      "  type {\n",
      "    id: \"HP:0001513\"\n",
      "    label: \"Obesity\"\n",
      "  }\n",
      "  excluded: true\n",
      "  onset {\n",
      "    timestamp {\n",
      "      seconds: 708652800\n",
      "    }\n",
      "  }\n",
      "}\n",
      "interpretations {\n",
      "  id: \"e0dd47b3-6e13-4507-84a7-5606bee17024\"\n",
      "  progress_status: SOLVED\n",
      "  diagnosis {\n",
      "    disease {\n",
      "      id: \"ORPHA:71529\"\n",
      "      label: \"Obesity due to melanocortin 4 receptor deficiency\"\n",
      "    }\n",
      "    genomic_interpretations {\n",
      "      subject_or_biosample_id: \"0\"\n",
      "      interpretation_status: CONTRIBUTORY\n",
      "      variant_interpretation {\n",
      "        variation_descriptor {\n",
      "          id: \"id:A\"\n",
      "          expressions {\n",
      "            syntax: \"hgvs\"\n",
      "            value: \"NP_005903.2:p.(Val103Ile)\"\n",
      "          }\n",
      "          expressions {\n",
      "            syntax: \"hgvs\"\n",
      "            value: \"NM_005912.3:c.181G>T\"\n",
      "          }\n",
      "          allelic_state {\n",
      "            id: \"GENO:0000135\"\n",
      "            label: \"heterozygous\"\n",
      "          }\n",
      "        }\n",
      "      }\n",
      "    }\n",
      "  }\n",
      "}\n",
      "meta_data {\n",
      "  created {\n",
      "    seconds: 1696204800\n",
      "  }\n",
      "  created_by: \"A. Graefe, F. Rehburg\"\n",
      "  resources {\n",
      "    id: \"HP\"\n",
      "    name: \"Human Phenotype Ontology\"\n",
      "    url: \"http://www.human-phenotype-ontology.org\"\n",
      "    version: \"2023-06-06\"\n",
      "    namespace_prefix: \"HP\"\n",
      "    iri_prefix: \"http://purl.obolibrary.org/obo/HP_\"\n",
      "  }\n",
      "  resources {\n",
      "    id: \"OMIM\"\n",
      "    name: \"Online Mendelian Inheritance in Man\"\n",
      "    url: \"https://www.omim.org/\"\n",
      "    version: \"2023-09-08\"\n",
      "    namespace_prefix: \"OMIM\"\n",
      "    iri_prefix: \"https://www.omim.org/\"\n",
      "  }\n",
      "  resources {\n",
      "    id: \"ORPHA\"\n",
      "    name: \"Orphanet Rare Disease Ontology\"\n",
      "    url: \"https://www.orpha.net/\"\n",
      "    version: \"2023-09-10\"\n",
      "    namespace_prefix: \"ORPHA\"\n",
      "    iri_prefix: \"https://registry.identifiers.org/registry/orphanet.ordo\"\n",
      "  }\n",
      "  resources {\n",
      "    id: \"NCBITaxon\"\n",
      "    name: \"National Center for Biotechnology Information Taxonomy\"\n",
      "    url: \"https://www.ncbi.nlm.nih.gov/taxonomy\"\n",
      "    version: \"2023-02-21\"\n",
      "    namespace_prefix: \"NCBITaxon\"\n",
      "    iri_prefix: \"http://purl.obolibrary.org/obo/NCBITaxon_\"\n",
      "  }\n",
      "  resources {\n",
      "    id: \"LOINC\"\n",
      "    name: \"Logical Observation Identifiers Names and Codes\"\n",
      "    url: \"https://loinc.org/\"\n",
      "    version: \"2023-08-15\"\n",
      "    namespace_prefix: \"LOINC\"\n",
      "    iri_prefix: \"https://loinc.org/\"\n",
      "  }\n",
      "  resources {\n",
      "    id: \"HGNC\"\n",
      "    name: \"HUGO Gene Nomenclature Committee\"\n",
      "    url: \"https://www.genenames.org/\"\n",
      "    version: \"2023-09-10\"\n",
      "    namespace_prefix: \"HGNC\"\n",
      "    iri_prefix: \"https://www.genenames.org/data/gene-symbol-report/#!/hgnc_id/\"\n",
      "  }\n",
      "  resources {\n",
      "    id: \"GENO\"\n",
      "    name: \"Gene Ontology\"\n",
      "    url: \"https://geneontology.org/\"\n",
      "    version: \"2023-07-27\"\n",
      "    namespace_prefix: \"GENO\"\n",
      "    iri_prefix: \"http://purl.obolibrary.org/obo/GENO_\"\n",
      "  }\n",
      "  phenopacket_schema_version: \"2.0.2\"\n",
      "}\n"
     ]
    }
   ],
   "source": [
    "print(pps[0])"
   ],
   "metadata": {
    "collapsed": false,
    "ExecuteTime": {
     "end_time": "2023-12-04T15:53:16.283305400Z",
     "start_time": "2023-12-04T15:53:16.252044900Z"
    }
   },
   "id": "9334ce8817c33067"
  },
  {
   "cell_type": "code",
   "execution_count": 137,
   "outputs": [],
   "source": [
    "from typing import Tuple, Any\n",
    "from phenopackets import Phenopacket\n",
    "\n",
    "sex_map = {0: 'unknown', 1: 'female', 2: 'male', 3: 'other'}\n",
    "\n",
    "def extract_phenotype(phenotypic_features, i) -> Tuple[str, str, bool, int]:\n",
    "    phenotypic_features = phenotypic_features[i]\n",
    "    obesity_class_hpo = phenotypic_features.type.id\n",
    "    obesity_class = phenotypic_features.type.label\n",
    "    excluded = phenotypic_features.excluded\n",
    "    onset = phenotypic_features.onset.timestamp.ToSeconds()\n",
    "    return obesity_class_hpo, obesity_class, excluded, onset\n",
    "\n",
    "def extract_fields(phenopacket: Phenopacket) -> tuple[\n",
    "                                                    Any, Any, Any, Any, Any, Any, Any, Any, Any, Any, Any, Any, Any, Any, Any, Any, Any] | None:\n",
    "    pp_id = int(phenopacket.id)\n",
    "    dob = phenopacket.subject.date_of_birth.ToSeconds()\n",
    "    sex = sex_map[phenopacket.subject.sex]\n",
    "    \n",
    "    try:\n",
    "        variation_descriptor = phenopacket.interpretations[0].diagnosis.genomic_interpretations[0].variant_interpretation.variation_descriptor\n",
    "        \n",
    "        c_hgvs = variation_descriptor.expressions[1].value\n",
    "        zygosity = variation_descriptor.allelic_state.label\n",
    "    except IndexError:\n",
    "        return None\n",
    "    \n",
    "    phenotypic_features = phenopacket.phenotypic_features\n",
    "    obesity_class_hpo0, obesity_class0, excluded0, onset0 = None, None, None, None\n",
    "    obesity_class_hpo1, obesity_class1, excluded1, onset1 = None, None, None, None\n",
    "    obesity_class_hpo2, obesity_class2, excluded2, onset2 = None, None, None, None\n",
    "    \n",
    "    try:\n",
    "        obesity_class_hpo0, obesity_class0, excluded0, onset0 = extract_phenotype(phenotypic_features, 0)\n",
    "\n",
    "        try:\n",
    "            obesity_class_hpo1, obesity_class1, excluded1, onset1 = extract_phenotype(phenotypic_features, 1)\n",
    "\n",
    "            try:\n",
    "                obesity_class_hpo2, obesity_class2, excluded2, onset2 = extract_phenotype(phenotypic_features, 2)\n",
    "            except IndexError:\n",
    "                pass\n",
    "        except IndexError:\n",
    "            pass\n",
    "    except IndexError:\n",
    "        return None\n",
    "    return pp_id, dob, sex, zygosity, c_hgvs, obesity_class_hpo0, obesity_class0, excluded0, onset0, obesity_class_hpo1, obesity_class1, excluded1, onset1, obesity_class_hpo2, obesity_class2, excluded2, onset2"
   ],
   "metadata": {
    "collapsed": false,
    "ExecuteTime": {
     "end_time": "2023-12-04T15:53:16.346264Z",
     "start_time": "2023-12-04T15:53:16.267707700Z"
    }
   },
   "id": "376850abf12de9b"
  },
  {
   "cell_type": "code",
   "execution_count": 138,
   "outputs": [],
   "source": [
    "phenopacket = pps[0]\n",
    "variation_descriptor = phenopacket.interpretations[0].diagnosis.genomic_interpretations[0].variant_interpretation"
   ],
   "metadata": {
    "collapsed": false,
    "ExecuteTime": {
     "end_time": "2023-12-04T15:53:16.361898100Z",
     "start_time": "2023-12-04T15:53:16.283305400Z"
    }
   },
   "id": "d0cd4da031dd0c8e"
  },
  {
   "cell_type": "code",
   "execution_count": 139,
   "outputs": [
    {
     "name": "stdout",
     "output_type": "stream",
     "text": [
      "(0, 946684800, 'female', 'heterozygous', 'NM_005912.3:c.181G>T', 'HP:0001513', 'Obesity', True, 708652800, None, None, None, None, None, None, None, None)\n",
      "(1, 915148800, 'female', 'heterozygous', 'NM_005912.3:c.307G>A', 'HP:0001513', 'Obesity', True, 1254268800, 'HP:0001513', 'Obesity', False, 967507200, None, None, None, None)\n",
      "None\n",
      "None\n",
      "(12, 757382400, 'male', 'heterozygous', 'NM_005912.3:c.307G>A', 'HP:0001513', 'Obesity', False, 1118793600, 'HP:0025500', 'Class II obesity', False, 1267056000, None, None, None, None)\n",
      "(13, 757382400, 'male', 'heterozygous', 'NM_005912.3:c.307G>A', 'HP:0001513', 'Obesity', True, 1234051200, 'HP:0001507', 'Growth abnormality', True, 985219200, 'HP:0001507', 'Growth abnormality', False, 876528000)\n",
      "None\n",
      "None\n",
      "None\n",
      "(17, 1072915200, 'female', 'homozygous', 'NM_005912.3:c.253A>G', 'HP:0025500', 'Class II obesity', True, 638409600, None, None, None, None, None, None, None, None)\n",
      "(18, 1136073600, 'female', 'heterozygous', 'NM_005912.3:c.508A>G', 'HP:0001513', 'Obesity', True, 916272000, None, None, None, None, None, None, None, None)\n",
      "None\n",
      "(2, 1009843200, 'female', 'heterozygous', 'NM_005912.3:c.821A>G', 'HP:0001513', 'Obesity', True, 1087257600, 'HP:0001513', 'Obesity', True, 825811200, 'HP:0001507', 'Growth abnormality', False, 976406400)\n",
      "(20, 1072915200, 'male', 'heterozygous', 'NM_005912.3:c.307G>A', 'HP:0001513', 'Obesity', True, 872208000, 'HP:0025499', 'Class I obesity', False, 674524800, 'HP:0001507', 'Growth abnormality', False, 1037750400)\n",
      "(21, 1136073600, 'male', 'heterozygous', 'NM_005912.3:c.751A>C', 'HP:0001513', 'Obesity', True, 938563200, 'HP:0001513', 'Obesity', True, 1149724800, 'HP:0001507', 'Growth abnormality', False, 1451606400)\n",
      "(22, 694224000, 'male', 'heterozygous', 'NM_005912.3:c.268G>A', 'HP:0001513', 'Obesity', True, 804816000, 'HP:0001507', 'Growth abnormality', False, 801792000, None, None, None, None)\n",
      "(23, 1293840000, 'female', 'heterozygous', 'NM_005912.3:c.307G>A', 'HP:0001513', 'Obesity', True, 766368000, 'HP:0001513', 'Obesity', True, 669772800, 'HP:0001507', 'Growth abnormality', False, 764467200)\n",
      "(24, 1072915200, 'male', 'unspecified zygosity', 'NM_005912.3:c.533C>T', 'HP:0001513', 'Obesity', True, 998611200, None, None, None, None, None, None, None, None)\n",
      "(25, 820454400, 'male', 'heterozygous', 'NM_005912.3:c.230C>T', 'HP:0001507', 'Growth abnormality', True, 1234051200, 'HP:0025499', 'Class I obesity', False, 918432000, None, None, None, None)\n",
      "(26, 757382400, 'female', 'heterozygous', 'NM_005912.3:c.268G>A', 'HP:0001507', 'Growth abnormality', True, 638409600, 'HP:0001507', 'Growth abnormality', True, 740188800, None, None, None, None)\n",
      "None\n",
      "(28, 631152000, 'female', 'heterozygous', 'NM_005912.3:c.823C>T', 'HP:0001513', 'Obesity', True, 942969600, 'HP:0025502', 'Overweight', True, 1117584000, 'HP:0001507', 'Growth abnormality', False, 818294400)\n",
      "(29, 1483228800, 'male', 'heterozygous', 'NM_005912.3:c.230C>T', 'HP:0001513', 'Obesity', False, 1298851200, 'HP:0001507', 'Growth abnormality', False, 892598400, None, None, None, None)\n",
      "None\n",
      "(30, 725846400, 'female', 'heterozygous', 'NM_005912.3:c.181G>T', 'HP:0001507', 'Growth abnormality', True, 712800000, 'HP:0001507', 'Growth abnormality', False, 719625600, None, None, None, None)\n",
      "(31, 915148800, 'female', 'heterozygous', 'NM_005912.3:c.335C>A', 'HP:0001513', 'Obesity', True, 900979200, 'HP:0001507', 'Growth abnormality', True, 1388534400, 'HP:0025502', 'Overweight', False, 1090368000)\n",
      "(32, 1420070400, 'male', 'heterozygous', 'NM_005912.3:c.307G>A', 'HP:0001513', 'Obesity', True, 749174400, 'HP:0001507', 'Growth abnormality', False, 719625600, None, None, None, None)\n",
      "(33, 978307200, 'female', 'heterozygous', 'NM_005912.3:c.811T>C', 'HP:0001513', 'Obesity', True, 1489104000, 'HP:0001507', 'Growth abnormality', False, 1061424000, None, None, None, None)\n",
      "None\n",
      "None\n",
      "(36, 788918400, 'female', 'homozygous', 'NM_005912.3:c.335C>T', 'HP:0001513', 'Obesity', True, 1471392000, None, None, None, None, None, None, None, None)\n",
      "(37, 1072915200, 'female', 'heterozygous', 'NM_005912.3:c.307G>A', 'HP:0001513', 'Obesity', True, 916185600, 'HP:0025499', 'Class I obesity', True, 903744000, 'HP:0001513', 'Obesity', False, 833414400)\n",
      "(38, 978307200, 'female', 'heterozygous', 'NM_005912.3:c.307G>A', 'HP:0001513', 'Obesity', True, 843609600, 'HP:0001507', 'Growth abnormality', False, 1010793600, None, None, None, None)\n",
      "(39, 1356998400, 'female', 'homozygous', 'NM_005912.3:c.751A>C', 'HP:0001507', 'Growth abnormality', True, 1234051200, 'HP:0001507', 'Growth abnormality', False, 1241913600, 'HP:0001513', 'Obesity', False, 968025600)\n",
      "None\n",
      "None\n",
      "(41, 915148800, 'female', 'heterozygous', 'NM_005912.3:c.496G>C', 'HP:0001513', 'Obesity', True, 1293667200, None, None, None, None, None, None, None, None)\n",
      "(42, 1009843200, 'female', 'heterozygous', 'NM_005912.3:c.751A>C', 'HP:0001513', 'Obesity', True, 1203897600, 'HP:0001507', 'Growth abnormality', True, 976492800, None, None, None, None)\n",
      "(43, 1041379200, 'male', 'heterozygous', 'NM_005912.3:c.751A>C', 'HP:0001507', 'Growth abnormality', True, 816825600, 'HP:0001513', 'Obesity', False, 1088467200, None, None, None, None)\n",
      "(44, 1009843200, 'female', 'heterozygous', 'NM_005912.3:c.307G>A', 'HP:0001513', 'Obesity', True, 760665600, 'HP:0001507', 'Growth abnormality', False, 1265068800, 'HP:0001507', 'Growth abnormality', False, 822960000)\n",
      "(45, 946684800, 'male', 'heterozygous', 'NM_005912.3:c.751A>C', 'HP:0001513', 'Obesity', True, 1356998400, 'HP:0001507', 'Growth abnormality', False, 1024617600, None, None, None, None)\n",
      "(46, 1483228800, 'male', 'heterozygous', 'NM_005912.3:c.230C>T', 'HP:0001513', 'Obesity', True, 813369600, 'HP:0025499', 'Class I obesity', False, 787104000, 'HP:0001507', 'Growth abnormality', False, 1076976000)\n",
      "(47, 1009843200, 'female', 'heterozygous', 'NM_005912.3:c.523G>A', 'HP:0001513', 'Obesity', True, 1234051200, 'HP:0025502', 'Overweight', False, 976406400, None, None, None, None)\n",
      "(48, 757382400, 'female', 'heterozygous', 'NM_005912.3:c.307G>A', 'HP:0001513', 'Obesity', True, 1014681600, 'HP:0001507', 'Growth abnormality', True, 951091200, 'HP:0001507', 'Growth abnormality', False, 941673600)\n",
      "None\n",
      "None\n",
      "None\n",
      "(7, 1009843200, 'female', 'heterozygous', 'NM_005912.3:c.751A>C', 'HP:0001513', 'Obesity', True, 824256000, 'HP:0001507', 'Growth abnormality', False, 701568000, None, None, None, None)\n",
      "None\n",
      "(9, 1072915200, 'male', 'heterozygous', 'NM_005912.3:c.307G>A', 'HP:0001513', 'Obesity', False, 1056153600, 'HP:0001507', 'Growth abnormality', False, 1396915200, None, None, None, None)\n"
     ]
    }
   ],
   "source": [
    "for pp in pps:\n",
    "    print(extract_fields(pp))"
   ],
   "metadata": {
    "collapsed": false,
    "ExecuteTime": {
     "end_time": "2023-12-04T15:53:16.361898100Z",
     "start_time": "2023-12-04T15:53:16.298930800Z"
    }
   },
   "id": "5c29bfa549db9a2a"
  },
  {
   "cell_type": "code",
   "execution_count": 140,
   "outputs": [
    {
     "data": {
      "text/plain": "([(0,\n   946684800,\n   'female',\n   'heterozygous',\n   'NM_005912.3:c.181G>T',\n   'HP:0001513',\n   'Obesity',\n   True,\n   708652800,\n   None,\n   None,\n   None,\n   None,\n   None,\n   None,\n   None,\n   None),\n  (1,\n   915148800,\n   'female',\n   'heterozygous',\n   'NM_005912.3:c.307G>A',\n   'HP:0001513',\n   'Obesity',\n   True,\n   1254268800,\n   'HP:0001513',\n   'Obesity',\n   False,\n   967507200,\n   None,\n   None,\n   None,\n   None),\n  (12,\n   757382400,\n   'male',\n   'heterozygous',\n   'NM_005912.3:c.307G>A',\n   'HP:0001513',\n   'Obesity',\n   False,\n   1118793600,\n   'HP:0025500',\n   'Class II obesity',\n   False,\n   1267056000,\n   None,\n   None,\n   None,\n   None),\n  (13,\n   757382400,\n   'male',\n   'heterozygous',\n   'NM_005912.3:c.307G>A',\n   'HP:0001513',\n   'Obesity',\n   True,\n   1234051200,\n   'HP:0001507',\n   'Growth abnormality',\n   True,\n   985219200,\n   'HP:0001507',\n   'Growth abnormality',\n   False,\n   876528000),\n  (17,\n   1072915200,\n   'female',\n   'homozygous',\n   'NM_005912.3:c.253A>G',\n   'HP:0025500',\n   'Class II obesity',\n   True,\n   638409600,\n   None,\n   None,\n   None,\n   None,\n   None,\n   None,\n   None,\n   None),\n  (18,\n   1136073600,\n   'female',\n   'heterozygous',\n   'NM_005912.3:c.508A>G',\n   'HP:0001513',\n   'Obesity',\n   True,\n   916272000,\n   None,\n   None,\n   None,\n   None,\n   None,\n   None,\n   None,\n   None),\n  (2,\n   1009843200,\n   'female',\n   'heterozygous',\n   'NM_005912.3:c.821A>G',\n   'HP:0001513',\n   'Obesity',\n   True,\n   1087257600,\n   'HP:0001513',\n   'Obesity',\n   True,\n   825811200,\n   'HP:0001507',\n   'Growth abnormality',\n   False,\n   976406400),\n  (20,\n   1072915200,\n   'male',\n   'heterozygous',\n   'NM_005912.3:c.307G>A',\n   'HP:0001513',\n   'Obesity',\n   True,\n   872208000,\n   'HP:0025499',\n   'Class I obesity',\n   False,\n   674524800,\n   'HP:0001507',\n   'Growth abnormality',\n   False,\n   1037750400),\n  (21,\n   1136073600,\n   'male',\n   'heterozygous',\n   'NM_005912.3:c.751A>C',\n   'HP:0001513',\n   'Obesity',\n   True,\n   938563200,\n   'HP:0001513',\n   'Obesity',\n   True,\n   1149724800,\n   'HP:0001507',\n   'Growth abnormality',\n   False,\n   1451606400),\n  (22,\n   694224000,\n   'male',\n   'heterozygous',\n   'NM_005912.3:c.268G>A',\n   'HP:0001513',\n   'Obesity',\n   True,\n   804816000,\n   'HP:0001507',\n   'Growth abnormality',\n   False,\n   801792000,\n   None,\n   None,\n   None,\n   None),\n  (23,\n   1293840000,\n   'female',\n   'heterozygous',\n   'NM_005912.3:c.307G>A',\n   'HP:0001513',\n   'Obesity',\n   True,\n   766368000,\n   'HP:0001513',\n   'Obesity',\n   True,\n   669772800,\n   'HP:0001507',\n   'Growth abnormality',\n   False,\n   764467200),\n  (24,\n   1072915200,\n   'male',\n   'unspecified zygosity',\n   'NM_005912.3:c.533C>T',\n   'HP:0001513',\n   'Obesity',\n   True,\n   998611200,\n   None,\n   None,\n   None,\n   None,\n   None,\n   None,\n   None,\n   None),\n  (25,\n   820454400,\n   'male',\n   'heterozygous',\n   'NM_005912.3:c.230C>T',\n   'HP:0001507',\n   'Growth abnormality',\n   True,\n   1234051200,\n   'HP:0025499',\n   'Class I obesity',\n   False,\n   918432000,\n   None,\n   None,\n   None,\n   None),\n  (26,\n   757382400,\n   'female',\n   'heterozygous',\n   'NM_005912.3:c.268G>A',\n   'HP:0001507',\n   'Growth abnormality',\n   True,\n   638409600,\n   'HP:0001507',\n   'Growth abnormality',\n   True,\n   740188800,\n   None,\n   None,\n   None,\n   None),\n  (28,\n   631152000,\n   'female',\n   'heterozygous',\n   'NM_005912.3:c.823C>T',\n   'HP:0001513',\n   'Obesity',\n   True,\n   942969600,\n   'HP:0025502',\n   'Overweight',\n   True,\n   1117584000,\n   'HP:0001507',\n   'Growth abnormality',\n   False,\n   818294400),\n  (29,\n   1483228800,\n   'male',\n   'heterozygous',\n   'NM_005912.3:c.230C>T',\n   'HP:0001513',\n   'Obesity',\n   False,\n   1298851200,\n   'HP:0001507',\n   'Growth abnormality',\n   False,\n   892598400,\n   None,\n   None,\n   None,\n   None),\n  (30,\n   725846400,\n   'female',\n   'heterozygous',\n   'NM_005912.3:c.181G>T',\n   'HP:0001507',\n   'Growth abnormality',\n   True,\n   712800000,\n   'HP:0001507',\n   'Growth abnormality',\n   False,\n   719625600,\n   None,\n   None,\n   None,\n   None),\n  (31,\n   915148800,\n   'female',\n   'heterozygous',\n   'NM_005912.3:c.335C>A',\n   'HP:0001513',\n   'Obesity',\n   True,\n   900979200,\n   'HP:0001507',\n   'Growth abnormality',\n   True,\n   1388534400,\n   'HP:0025502',\n   'Overweight',\n   False,\n   1090368000),\n  (32,\n   1420070400,\n   'male',\n   'heterozygous',\n   'NM_005912.3:c.307G>A',\n   'HP:0001513',\n   'Obesity',\n   True,\n   749174400,\n   'HP:0001507',\n   'Growth abnormality',\n   False,\n   719625600,\n   None,\n   None,\n   None,\n   None),\n  (33,\n   978307200,\n   'female',\n   'heterozygous',\n   'NM_005912.3:c.811T>C',\n   'HP:0001513',\n   'Obesity',\n   True,\n   1489104000,\n   'HP:0001507',\n   'Growth abnormality',\n   False,\n   1061424000,\n   None,\n   None,\n   None,\n   None),\n  (36,\n   788918400,\n   'female',\n   'homozygous',\n   'NM_005912.3:c.335C>T',\n   'HP:0001513',\n   'Obesity',\n   True,\n   1471392000,\n   None,\n   None,\n   None,\n   None,\n   None,\n   None,\n   None,\n   None),\n  (37,\n   1072915200,\n   'female',\n   'heterozygous',\n   'NM_005912.3:c.307G>A',\n   'HP:0001513',\n   'Obesity',\n   True,\n   916185600,\n   'HP:0025499',\n   'Class I obesity',\n   True,\n   903744000,\n   'HP:0001513',\n   'Obesity',\n   False,\n   833414400),\n  (38,\n   978307200,\n   'female',\n   'heterozygous',\n   'NM_005912.3:c.307G>A',\n   'HP:0001513',\n   'Obesity',\n   True,\n   843609600,\n   'HP:0001507',\n   'Growth abnormality',\n   False,\n   1010793600,\n   None,\n   None,\n   None,\n   None),\n  (39,\n   1356998400,\n   'female',\n   'homozygous',\n   'NM_005912.3:c.751A>C',\n   'HP:0001507',\n   'Growth abnormality',\n   True,\n   1234051200,\n   'HP:0001507',\n   'Growth abnormality',\n   False,\n   1241913600,\n   'HP:0001513',\n   'Obesity',\n   False,\n   968025600),\n  (41,\n   915148800,\n   'female',\n   'heterozygous',\n   'NM_005912.3:c.496G>C',\n   'HP:0001513',\n   'Obesity',\n   True,\n   1293667200,\n   None,\n   None,\n   None,\n   None,\n   None,\n   None,\n   None,\n   None),\n  (42,\n   1009843200,\n   'female',\n   'heterozygous',\n   'NM_005912.3:c.751A>C',\n   'HP:0001513',\n   'Obesity',\n   True,\n   1203897600,\n   'HP:0001507',\n   'Growth abnormality',\n   True,\n   976492800,\n   None,\n   None,\n   None,\n   None),\n  (43,\n   1041379200,\n   'male',\n   'heterozygous',\n   'NM_005912.3:c.751A>C',\n   'HP:0001507',\n   'Growth abnormality',\n   True,\n   816825600,\n   'HP:0001513',\n   'Obesity',\n   False,\n   1088467200,\n   None,\n   None,\n   None,\n   None),\n  (44,\n   1009843200,\n   'female',\n   'heterozygous',\n   'NM_005912.3:c.307G>A',\n   'HP:0001513',\n   'Obesity',\n   True,\n   760665600,\n   'HP:0001507',\n   'Growth abnormality',\n   False,\n   1265068800,\n   'HP:0001507',\n   'Growth abnormality',\n   False,\n   822960000),\n  (45,\n   946684800,\n   'male',\n   'heterozygous',\n   'NM_005912.3:c.751A>C',\n   'HP:0001513',\n   'Obesity',\n   True,\n   1356998400,\n   'HP:0001507',\n   'Growth abnormality',\n   False,\n   1024617600,\n   None,\n   None,\n   None,\n   None),\n  (46,\n   1483228800,\n   'male',\n   'heterozygous',\n   'NM_005912.3:c.230C>T',\n   'HP:0001513',\n   'Obesity',\n   True,\n   813369600,\n   'HP:0025499',\n   'Class I obesity',\n   False,\n   787104000,\n   'HP:0001507',\n   'Growth abnormality',\n   False,\n   1076976000),\n  (47,\n   1009843200,\n   'female',\n   'heterozygous',\n   'NM_005912.3:c.523G>A',\n   'HP:0001513',\n   'Obesity',\n   True,\n   1234051200,\n   'HP:0025502',\n   'Overweight',\n   False,\n   976406400,\n   None,\n   None,\n   None,\n   None),\n  (48,\n   757382400,\n   'female',\n   'heterozygous',\n   'NM_005912.3:c.307G>A',\n   'HP:0001513',\n   'Obesity',\n   True,\n   1014681600,\n   'HP:0001507',\n   'Growth abnormality',\n   True,\n   951091200,\n   'HP:0001507',\n   'Growth abnormality',\n   False,\n   941673600),\n  (7,\n   1009843200,\n   'female',\n   'heterozygous',\n   'NM_005912.3:c.751A>C',\n   'HP:0001513',\n   'Obesity',\n   True,\n   824256000,\n   'HP:0001507',\n   'Growth abnormality',\n   False,\n   701568000,\n   None,\n   None,\n   None,\n   None),\n  (9,\n   1072915200,\n   'male',\n   'heterozygous',\n   'NM_005912.3:c.307G>A',\n   'HP:0001513',\n   'Obesity',\n   False,\n   1056153600,\n   'HP:0001507',\n   'Growth abnormality',\n   False,\n   1396915200,\n   None,\n   None,\n   None,\n   None)],\n 34)"
     },
     "execution_count": 140,
     "metadata": {},
     "output_type": "execute_result"
    }
   ],
   "source": [
    "import polars as pl\n",
    "\n",
    "data = list(filter(lambda x: x is not None, map(extract_fields, pps)))\n",
    "\n",
    "data, len(data)"
   ],
   "metadata": {
    "collapsed": false,
    "ExecuteTime": {
     "end_time": "2023-12-04T15:53:16.361898100Z",
     "start_time": "2023-12-04T15:53:16.314555700Z"
    }
   },
   "id": "26d37f2348812bb7"
  },
  {
   "cell_type": "code",
   "execution_count": 141,
   "outputs": [],
   "source": [
    "columns = ['id', 'date_of_birth', 'sex', 'zygosity', 'c_hgvs', 'obesity_class_hpo0', 'obesity_class0', 'excluded0', 'onset0', 'obesity_class_hpo1', 'obesity_class1', 'excluded1', 'onset1', 'obesity_class_hpo2', 'obesity_class2', 'excluded2', 'onset2']\n",
    "transposed_data = list(zip(*data))\n",
    "\n",
    "df = pl.DataFrame({col: transposed_data[i] for i, col in enumerate(columns)})"
   ],
   "metadata": {
    "collapsed": false,
    "ExecuteTime": {
     "end_time": "2023-12-04T15:53:16.361898100Z",
     "start_time": "2023-12-04T15:53:16.346264Z"
    }
   },
   "id": "eda56fbf896dc8d5"
  },
  {
   "cell_type": "code",
   "execution_count": 142,
   "outputs": [
    {
     "data": {
      "text/plain": "shape: (5, 17)\n┌─────┬─────────────┬────────┬─────────────┬───┬─────────────┬─────────────┬───────────┬───────────┐\n│ id  ┆ date_of_bir ┆ sex    ┆ zygosity    ┆ … ┆ obesity_cla ┆ obesity_cla ┆ excluded2 ┆ onset2    │\n│ --- ┆ th          ┆ ---    ┆ ---         ┆   ┆ ss_hpo2     ┆ ss2         ┆ ---       ┆ ---       │\n│ i64 ┆ ---         ┆ str    ┆ str         ┆   ┆ ---         ┆ ---         ┆ bool      ┆ i64       │\n│     ┆ i64         ┆        ┆             ┆   ┆ str         ┆ str         ┆           ┆           │\n╞═════╪═════════════╪════════╪═════════════╪═══╪═════════════╪═════════════╪═══════════╪═══════════╡\n│ 0   ┆ 946684800   ┆ female ┆ heterozygou ┆ … ┆ null        ┆ null        ┆ null      ┆ null      │\n│     ┆             ┆        ┆ s           ┆   ┆             ┆             ┆           ┆           │\n│ 1   ┆ 915148800   ┆ female ┆ heterozygou ┆ … ┆ null        ┆ null        ┆ null      ┆ null      │\n│     ┆             ┆        ┆ s           ┆   ┆             ┆             ┆           ┆           │\n│ 12  ┆ 757382400   ┆ male   ┆ heterozygou ┆ … ┆ null        ┆ null        ┆ null      ┆ null      │\n│     ┆             ┆        ┆ s           ┆   ┆             ┆             ┆           ┆           │\n│ 13  ┆ 757382400   ┆ male   ┆ heterozygou ┆ … ┆ HP:0001507  ┆ Growth      ┆ false     ┆ 876528000 │\n│     ┆             ┆        ┆ s           ┆   ┆             ┆ abnormality ┆           ┆           │\n│ 17  ┆ 1072915200  ┆ female ┆ homozygous  ┆ … ┆ null        ┆ null        ┆ null      ┆ null      │\n└─────┴─────────────┴────────┴─────────────┴───┴─────────────┴─────────────┴───────────┴───────────┘",
      "text/html": "<div><style>\n.dataframe > thead > tr > th,\n.dataframe > tbody > tr > td {\n  text-align: right;\n}\n</style>\n<small>shape: (5, 17)</small><table border=\"1\" class=\"dataframe\"><thead><tr><th>id</th><th>date_of_birth</th><th>sex</th><th>zygosity</th><th>c_hgvs</th><th>obesity_class_hpo0</th><th>obesity_class0</th><th>excluded0</th><th>onset0</th><th>obesity_class_hpo1</th><th>obesity_class1</th><th>excluded1</th><th>onset1</th><th>obesity_class_hpo2</th><th>obesity_class2</th><th>excluded2</th><th>onset2</th></tr><tr><td>i64</td><td>i64</td><td>str</td><td>str</td><td>str</td><td>str</td><td>str</td><td>bool</td><td>i64</td><td>str</td><td>str</td><td>bool</td><td>i64</td><td>str</td><td>str</td><td>bool</td><td>i64</td></tr></thead><tbody><tr><td>0</td><td>946684800</td><td>&quot;female&quot;</td><td>&quot;heterozygous&quot;</td><td>&quot;NM_005912.3:c.…</td><td>&quot;HP:0001513&quot;</td><td>&quot;Obesity&quot;</td><td>true</td><td>708652800</td><td>null</td><td>null</td><td>null</td><td>null</td><td>null</td><td>null</td><td>null</td><td>null</td></tr><tr><td>1</td><td>915148800</td><td>&quot;female&quot;</td><td>&quot;heterozygous&quot;</td><td>&quot;NM_005912.3:c.…</td><td>&quot;HP:0001513&quot;</td><td>&quot;Obesity&quot;</td><td>true</td><td>1254268800</td><td>&quot;HP:0001513&quot;</td><td>&quot;Obesity&quot;</td><td>false</td><td>967507200</td><td>null</td><td>null</td><td>null</td><td>null</td></tr><tr><td>12</td><td>757382400</td><td>&quot;male&quot;</td><td>&quot;heterozygous&quot;</td><td>&quot;NM_005912.3:c.…</td><td>&quot;HP:0001513&quot;</td><td>&quot;Obesity&quot;</td><td>false</td><td>1118793600</td><td>&quot;HP:0025500&quot;</td><td>&quot;Class II obesi…</td><td>false</td><td>1267056000</td><td>null</td><td>null</td><td>null</td><td>null</td></tr><tr><td>13</td><td>757382400</td><td>&quot;male&quot;</td><td>&quot;heterozygous&quot;</td><td>&quot;NM_005912.3:c.…</td><td>&quot;HP:0001513&quot;</td><td>&quot;Obesity&quot;</td><td>true</td><td>1234051200</td><td>&quot;HP:0001507&quot;</td><td>&quot;Growth abnorma…</td><td>true</td><td>985219200</td><td>&quot;HP:0001507&quot;</td><td>&quot;Growth abnorma…</td><td>false</td><td>876528000</td></tr><tr><td>17</td><td>1072915200</td><td>&quot;female&quot;</td><td>&quot;homozygous&quot;</td><td>&quot;NM_005912.3:c.…</td><td>&quot;HP:0025500&quot;</td><td>&quot;Class II obesi…</td><td>true</td><td>638409600</td><td>null</td><td>null</td><td>null</td><td>null</td><td>null</td><td>null</td><td>null</td><td>null</td></tr></tbody></table></div>"
     },
     "execution_count": 142,
     "metadata": {},
     "output_type": "execute_result"
    }
   ],
   "source": [
    "df.head()"
   ],
   "metadata": {
    "collapsed": false,
    "ExecuteTime": {
     "end_time": "2023-12-04T15:53:16.440478300Z",
     "start_time": "2023-12-04T15:53:16.361898100Z"
    }
   },
   "id": "fbd80717f0cb057d"
  },
  {
   "cell_type": "code",
   "execution_count": 142,
   "outputs": [],
   "source": [],
   "metadata": {
    "collapsed": false,
    "ExecuteTime": {
     "end_time": "2023-12-04T15:53:16.456498600Z",
     "start_time": "2023-12-04T15:53:16.377523100Z"
    }
   },
   "id": "45cfc6f69972be6e"
  }
 ],
 "metadata": {
  "kernelspec": {
   "display_name": "Python 3",
   "language": "python",
   "name": "python3"
  },
  "language_info": {
   "codemirror_mode": {
    "name": "ipython",
    "version": 2
   },
   "file_extension": ".py",
   "mimetype": "text/x-python",
   "name": "python",
   "nbconvert_exporter": "python",
   "pygments_lexer": "ipython2",
   "version": "2.7.6"
  }
 },
 "nbformat": 4,
 "nbformat_minor": 5
}
