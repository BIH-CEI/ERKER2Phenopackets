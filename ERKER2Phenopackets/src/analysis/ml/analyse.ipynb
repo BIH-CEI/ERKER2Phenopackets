{
 "cells": [
  {
   "cell_type": "code",
   "execution_count": 14,
   "id": "initial_id",
   "metadata": {
    "collapsed": true,
    "ExecuteTime": {
     "end_time": "2023-12-04T14:50:58.768410400Z",
     "start_time": "2023-12-04T14:50:58.739335400Z"
    }
   },
   "outputs": [
    {
     "data": {
      "text/plain": "WindowsPath('C:/Users/Surface/OneDrive/Documents/DataSpell/ERKER2Phenopackets/ERKER2Phenopackets/data/out/phenopackets')"
     },
     "execution_count": 14,
     "metadata": {},
     "output_type": "execute_result"
    }
   ],
   "source": [
    "import configparser\n",
    "from pathlib import Path\n",
    "\n",
    "config = configparser.ConfigParser()\n",
    "config.read('../../../data/config/config.cfg')\n",
    "\n",
    "phenopackets_out_dir = ('..' / Path(config.get('Paths', 'phenopackets_out'))).resolve()\n",
    "\n",
    "phenopackets_out_dir"
   ]
  },
  {
   "cell_type": "markdown",
   "source": [
    "# read in data from pehnopackets"
   ],
   "metadata": {
    "collapsed": false
   },
   "id": "3acfd38d139a2a23"
  },
  {
   "cell_type": "code",
   "execution_count": 15,
   "outputs": [],
   "source": [
    "from ERKER2Phenopackets.src.utils.io import read_files\n",
    "\n",
    "example_phenopackets_dir = phenopackets_out_dir / 'example-phenopackets-from-synthetic-data'\n",
    "pps = read_files(example_phenopackets_dir)"
   ],
   "metadata": {
    "collapsed": false,
    "ExecuteTime": {
     "end_time": "2023-12-04T14:50:59.034911800Z",
     "start_time": "2023-12-04T14:50:58.754579700Z"
    }
   },
   "id": "f871b71d017e1148"
  },
  {
   "cell_type": "code",
   "execution_count": 15,
   "outputs": [],
   "source": [],
   "metadata": {
    "collapsed": false,
    "ExecuteTime": {
     "end_time": "2023-12-04T14:50:59.051959400Z",
     "start_time": "2023-12-04T14:50:59.038909100Z"
    }
   },
   "id": "df93acd5e8b1521d"
  }
 ],
 "metadata": {
  "kernelspec": {
   "display_name": "Python 3",
   "language": "python",
   "name": "python3"
  },
  "language_info": {
   "codemirror_mode": {
    "name": "ipython",
    "version": 2
   },
   "file_extension": ".py",
   "mimetype": "text/x-python",
   "name": "python",
   "nbconvert_exporter": "python",
   "pygments_lexer": "ipython2",
   "version": "2.7.6"
  }
 },
 "nbformat": 4,
 "nbformat_minor": 5
}
