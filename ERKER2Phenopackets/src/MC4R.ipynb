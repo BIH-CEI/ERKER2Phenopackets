{
 "cells": [
  {
   "cell_type": "markdown",
   "metadata": {
    "collapsed": false
   },
   "source": [
    "# MC4R  genotype-phenotype correlation  analysis\n",
    "TODO"
   ]
  },
  {
   "cell_type": "markdown",
   "metadata": {
    "collapsed": false
   },
   "source": [
    "### Initial Setup"
   ]
  },
  {
   "cell_type": "code",
   "execution_count": 1,
   "metadata": {
    "ExecuteTime": {
     "end_time": "2023-10-04T17:36:06.416844Z",
     "start_time": "2023-10-04T17:35:58.204942Z"
    },
    "collapsed": false
   },
   "outputs": [
    {
     "name": "stdout",
     "output_type": "stream",
     "text": [
      "Loaded HPO v2023-09-01\n"
     ]
    }
   ],
   "source": [
    "import hpotk\n",
    "hpo_purl = \"http://purl.obolibrary.org/obo/hp.json\"\n",
    "hpo = hpotk.load_minimal_ontology(hpo_purl)\n",
    "print(f'Loaded HPO v{hpo.version}')"
   ]
  },
  {
   "cell_type": "markdown",
   "metadata": {
    "collapsed": false
   },
   "source": [
    "## Load Phenopackets\n",
    "\n",
    "TODO: Some of the real data patients do not have recorded variants (id: 4, ...), exclude them from the analysis."
   ]
  },
  {
   "cell_type": "code",
   "execution_count": 2,
   "metadata": {
    "ExecuteTime": {
     "end_time": "2023-10-04T17:37:25.658977Z",
     "start_time": "2023-10-04T17:37:21.711420Z"
    },
    "collapsed": false
   },
   "outputs": [
    {
     "ename": "ValueError",
     "evalue": "Cannot determine variant coordinate from genomic interpretation subject_or_biosample_id: \"26\"\ninterpretation_status: CONTRIBUTORY\nvariant_interpretation {\n  variation_descriptor {\n    id: \"id:A\"\n    expressions {\n      syntax: \"hgvs\"\n      value: \"NP_005903.2:p.(Ala175Thr)\"\n    }\n    expressions {\n      syntax: \"hgvs\"\n      value: \"NM_005912.3:c.268G>A\"\n    }\n    allelic_state {\n      id: \"GENO:0000135\"\n      label: \"heterozygous\"\n    }\n  }\n}\n",
     "output_type": "error",
     "traceback": [
      "\u001b[0;31m---------------------------------------------------------------------------\u001b[0m",
      "\u001b[0;31mValueError\u001b[0m                                Traceback (most recent call last)",
      "\u001b[1;32m/Users/adam/Documents/BIH/ERKER2Phenopackets/ERKER2Phenopackets/ERKER2Phenopackets/src/MC4R.ipynb Cell 5\u001b[0m line \u001b[0;36m<cell line: 5>\u001b[0;34m()\u001b[0m\n\u001b[1;32m      <a href='vscode-notebook-cell:/Users/adam/Documents/BIH/ERKER2Phenopackets/ERKER2Phenopackets/ERKER2Phenopackets/src/MC4R.ipynb#W4sZmlsZQ%3D%3D?line=2'>3</a>\u001b[0m patient_creator \u001b[39m=\u001b[39m configure_caching_patient_creator(hpo)\n\u001b[1;32m      <a href='vscode-notebook-cell:/Users/adam/Documents/BIH/ERKER2Phenopackets/ERKER2Phenopackets/ERKER2Phenopackets/src/MC4R.ipynb#W4sZmlsZQ%3D%3D?line=3'>4</a>\u001b[0m phenopacket_input_folder \u001b[39m=\u001b[39m \u001b[39mr\u001b[39m\u001b[39m'\u001b[39m\u001b[39m/Users/adam/Documents/BIH/ERKER2Phenopackets/ERKER2Phenopackets/ERKER2Phenopackets/data/out/experimental_phenopackets/copy-of-examples\u001b[39m\u001b[39m'\u001b[39m\n\u001b[0;32m----> <a href='vscode-notebook-cell:/Users/adam/Documents/BIH/ERKER2Phenopackets/ERKER2Phenopackets/ERKER2Phenopackets/src/MC4R.ipynb#W4sZmlsZQ%3D%3D?line=4'>5</a>\u001b[0m patient_list \u001b[39m=\u001b[39m load_phenopacket_folder(pp_directory\u001b[39m=\u001b[39;49mphenopacket_input_folder, patient_creator\u001b[39m=\u001b[39;49mpatient_creator)\n",
      "File \u001b[0;32m~/opt/anaconda3/envs/phenopacket_venv/lib/python3.10/site-packages/genophenocorr/preprocessing/_phenopacket.py:185\u001b[0m, in \u001b[0;36mload_phenopacket_folder\u001b[0;34m(pp_directory, patient_creator)\u001b[0m\n\u001b[1;32m    182\u001b[0m     \u001b[39mraise\u001b[39;00m \u001b[39mValueError\u001b[39;00m(\u001b[39mf\u001b[39m\u001b[39m\"\u001b[39m\u001b[39mNo JSON Phenopackets were found in \u001b[39m\u001b[39m{\u001b[39;00mpp_directory\u001b[39m}\u001b[39;00m\u001b[39m\"\u001b[39m)\n\u001b[1;32m    184\u001b[0m \u001b[39m# turn phenopackets into patients using patient creator\u001b[39;00m\n\u001b[0;32m--> 185\u001b[0m patients \u001b[39m=\u001b[39m [patient_creator\u001b[39m.\u001b[39mcreate_patient(pp) \u001b[39mfor\u001b[39;00m pp \u001b[39min\u001b[39;00m pps]\n\u001b[1;32m    187\u001b[0m \u001b[39m# create cohort from patients\u001b[39;00m\n\u001b[1;32m    188\u001b[0m \u001b[39mreturn\u001b[39;00m Cohort\u001b[39m.\u001b[39mfrom_patients(patients)\n",
      "File \u001b[0;32m~/opt/anaconda3/envs/phenopacket_venv/lib/python3.10/site-packages/genophenocorr/preprocessing/_phenopacket.py:185\u001b[0m, in \u001b[0;36m<listcomp>\u001b[0;34m(.0)\u001b[0m\n\u001b[1;32m    182\u001b[0m     \u001b[39mraise\u001b[39;00m \u001b[39mValueError\u001b[39;00m(\u001b[39mf\u001b[39m\u001b[39m\"\u001b[39m\u001b[39mNo JSON Phenopackets were found in \u001b[39m\u001b[39m{\u001b[39;00mpp_directory\u001b[39m}\u001b[39;00m\u001b[39m\"\u001b[39m)\n\u001b[1;32m    184\u001b[0m \u001b[39m# turn phenopackets into patients using patient creator\u001b[39;00m\n\u001b[0;32m--> 185\u001b[0m patients \u001b[39m=\u001b[39m [patient_creator\u001b[39m.\u001b[39;49mcreate_patient(pp) \u001b[39mfor\u001b[39;00m pp \u001b[39min\u001b[39;00m pps]\n\u001b[1;32m    187\u001b[0m \u001b[39m# create cohort from patients\u001b[39;00m\n\u001b[1;32m    188\u001b[0m \u001b[39mreturn\u001b[39;00m Cohort\u001b[39m.\u001b[39mfrom_patients(patients)\n",
      "File \u001b[0;32m~/opt/anaconda3/envs/phenopacket_venv/lib/python3.10/site-packages/genophenocorr/preprocessing/_phenopacket.py:108\u001b[0m, in \u001b[0;36mPhenopacketPatientCreator.create_patient\u001b[0;34m(self, item)\u001b[0m\n\u001b[1;32m    100\u001b[0m \u001b[39m\"\"\"Creates a Patient from the data in a given Phenopacket\u001b[39;00m\n\u001b[1;32m    101\u001b[0m \n\u001b[1;32m    102\u001b[0m \u001b[39mArgs:\u001b[39;00m\n\u001b[0;32m   (...)\u001b[0m\n\u001b[1;32m    105\u001b[0m \u001b[39m    Patient: A Patient object\u001b[39;00m\n\u001b[1;32m    106\u001b[0m \u001b[39m\"\"\"\u001b[39;00m\n\u001b[1;32m    107\u001b[0m phenotypes \u001b[39m=\u001b[39m \u001b[39mself\u001b[39m\u001b[39m.\u001b[39m_add_phenotypes(item)\n\u001b[0;32m--> 108\u001b[0m variants \u001b[39m=\u001b[39m \u001b[39mself\u001b[39;49m\u001b[39m.\u001b[39;49m_add_variants(item)\n\u001b[1;32m    109\u001b[0m protein_data \u001b[39m=\u001b[39m \u001b[39mself\u001b[39m\u001b[39m.\u001b[39m_add_protein_data(variants)\n\u001b[1;32m    110\u001b[0m \u001b[39mreturn\u001b[39;00m Patient(item\u001b[39m.\u001b[39mid, phenotypes, variants, protein_data)\n",
      "File \u001b[0;32m~/opt/anaconda3/envs/phenopacket_venv/lib/python3.10/site-packages/genophenocorr/preprocessing/_phenopacket.py:124\u001b[0m, in \u001b[0;36mPhenopacketPatientCreator._add_variants\u001b[0;34m(self, pp)\u001b[0m\n\u001b[1;32m    122\u001b[0m \u001b[39mif\u001b[39;00m \u001b[39mhasattr\u001b[39m(interp, \u001b[39m'\u001b[39m\u001b[39mdiagnosis\u001b[39m\u001b[39m'\u001b[39m) \u001b[39mand\u001b[39;00m interp\u001b[39m.\u001b[39mdiagnosis \u001b[39mis\u001b[39;00m \u001b[39mnot\u001b[39;00m \u001b[39mNone\u001b[39;00m:\n\u001b[1;32m    123\u001b[0m     \u001b[39mfor\u001b[39;00m genomic_interp \u001b[39min\u001b[39;00m interp\u001b[39m.\u001b[39mdiagnosis\u001b[39m.\u001b[39mgenomic_interpretations:\n\u001b[0;32m--> 124\u001b[0m         vc \u001b[39m=\u001b[39m \u001b[39mself\u001b[39;49m\u001b[39m.\u001b[39;49m_coord_finder\u001b[39m.\u001b[39;49mfind_coordinates(genomic_interp)\n\u001b[1;32m    125\u001b[0m         variant \u001b[39m=\u001b[39m \u001b[39mself\u001b[39m\u001b[39m.\u001b[39m_func_ann\u001b[39m.\u001b[39mannotate(vc)\n\u001b[1;32m    126\u001b[0m         variants_list\u001b[39m.\u001b[39mappend(variant)\n",
      "File \u001b[0;32m~/opt/anaconda3/envs/phenopacket_venv/lib/python3.10/site-packages/genophenocorr/preprocessing/_phenopacket.py:73\u001b[0m, in \u001b[0;36mPhenopacketVariantCoordinateFinder.find_coordinates\u001b[0;34m(self, item)\u001b[0m\n\u001b[1;32m     70\u001b[0m genotype \u001b[39m=\u001b[39m variant_descriptor\u001b[39m.\u001b[39mallelic_state\u001b[39m.\u001b[39mlabel\n\u001b[1;32m     72\u001b[0m \u001b[39mif\u001b[39;00m \u001b[39many\u001b[39m(field \u001b[39mis\u001b[39;00m \u001b[39mNone\u001b[39;00m \u001b[39mfor\u001b[39;00m field \u001b[39min\u001b[39;00m (chrom, ref, alt, genotype)):\n\u001b[0;32m---> 73\u001b[0m     \u001b[39mraise\u001b[39;00m \u001b[39mValueError\u001b[39;00m(\u001b[39mf\u001b[39m\u001b[39m'\u001b[39m\u001b[39mCannot determine variant coordinate from genomic interpretation \u001b[39m\u001b[39m{\u001b[39;00mitem\u001b[39m}\u001b[39;00m\u001b[39m'\u001b[39m)\n\u001b[1;32m     74\u001b[0m \u001b[39mreturn\u001b[39;00m VariantCoordinates(chrom, start, end, ref, alt, \u001b[39mlen\u001b[39m(alt) \u001b[39m-\u001b[39m \u001b[39mlen\u001b[39m(ref), genotype)\n",
      "\u001b[0;31mValueError\u001b[0m: Cannot determine variant coordinate from genomic interpretation subject_or_biosample_id: \"26\"\ninterpretation_status: CONTRIBUTORY\nvariant_interpretation {\n  variation_descriptor {\n    id: \"id:A\"\n    expressions {\n      syntax: \"hgvs\"\n      value: \"NP_005903.2:p.(Ala175Thr)\"\n    }\n    expressions {\n      syntax: \"hgvs\"\n      value: \"NM_005912.3:c.268G>A\"\n    }\n    allelic_state {\n      id: \"GENO:0000135\"\n      label: \"heterozygous\"\n    }\n  }\n}\n"
     ]
    }
   ],
   "source": [
    "from genophenocorr.preprocessing import configure_caching_patient_creator\n",
    "from genophenocorr.preprocessing import load_phenopacket_folder\n",
    "patient_creator = configure_caching_patient_creator(hpo)\n",
    "phenopacket_input_folder = r'/Users/adam/Documents/BIH/ERKER2Phenopackets/ERKER2Phenopackets/ERKER2Phenopackets/data/out/experimental_phenopackets/copy-of-examples'\n",
    "patient_list = load_phenopacket_folder(pp_directory=phenopacket_input_folder, patient_creator=patient_creator)"
   ]
  },
  {
   "cell_type": "markdown",
   "metadata": {
    "collapsed": false
   },
   "source": [
    "## Cohort"
   ]
  },
  {
   "cell_type": "code",
   "execution_count": null,
   "metadata": {
    "collapsed": false
   },
   "outputs": [],
   "source": [
    "from genophenocorr.model import Cohort\n",
    "from genophenocorr.view import CohortViewer\n",
    "from IPython.display import display, HTML\n",
    "cohort = Cohort.from_patients(patient_list)\n",
    "viewer = CohortViewer(cohort)"
   ]
  },
  {
   "cell_type": "code",
   "execution_count": null,
   "metadata": {
    "collapsed": false
   },
   "outputs": [],
   "source": [
    "cohort.list_all_variants()"
   ]
  },
  {
   "cell_type": "code",
   "execution_count": null,
   "metadata": {
    "collapsed": false
   },
   "outputs": [],
   "source": [
    "cohort.list_all_phenotypes()"
   ]
  },
  {
   "cell_type": "markdown",
   "metadata": {
    "collapsed": false
   },
   "source": [
    "## Analysis"
   ]
  },
  {
   "cell_type": "code",
   "execution_count": null,
   "metadata": {
    "collapsed": false
   },
   "outputs": [],
   "source": [
    "from genophenocorr.analysis import CohortAnalysis\n",
    "from genophenocorr.model import FeatureType\n",
    "from genophenocorr.constants import VariantEffect\n",
    "mane_select_MC4R = \"\"\n",
    "analysis = CohortAnalysis(cohort, mane_select_MC4R, hpo, include_unmeasured=False)"
   ]
  },
  {
   "cell_type": "code",
   "execution_count": null,
   "metadata": {
    "collapsed": false
   },
   "outputs": [],
   "source": [
    "analysis.compare_by_variant_type(VariantEffect.MISSENSE_VARIANT)\n",
    "analysis.compare_by_variant('')\n",
    "analysis.compare_by_exon(-1)\n",
    "analysis.compare_by_protein_feature_type(FeatureType.REGION)"
   ]
  }
 ],
 "metadata": {
  "kernelspec": {
   "display_name": "Python 3",
   "language": "python",
   "name": "python3"
  },
  "language_info": {
   "codemirror_mode": {
    "name": "ipython",
    "version": 3
   },
   "file_extension": ".py",
   "mimetype": "text/x-python",
   "name": "python",
   "nbconvert_exporter": "python",
   "pygments_lexer": "ipython3",
   "version": "3.10.6"
  }
 },
 "nbformat": 4,
 "nbformat_minor": 0
}
