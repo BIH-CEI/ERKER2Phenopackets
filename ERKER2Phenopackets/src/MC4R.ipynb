{
 "cells": [
  {
   "cell_type": "markdown",
   "source": [
    "# MC4R  genotype-phenotype correlation  analysis\n",
    "TODO"
   ],
   "metadata": {
    "collapsed": false
   }
  },
  {
   "cell_type": "markdown",
   "source": [
    "### Initial Setup"
   ],
   "metadata": {
    "collapsed": false
   }
  },
  {
   "cell_type": "code",
   "execution_count": 1,
   "outputs": [
    {
     "name": "stdout",
     "output_type": "stream",
     "text": [
      "Loaded HPO v2023-09-01\n"
     ]
    }
   ],
   "source": [
    "import hpotk\n",
    "hpo_purl = \"http://purl.obolibrary.org/obo/hp.json\"\n",
    "hpo = hpotk.load_minimal_ontology(hpo_purl)\n",
    "print(f'Loaded HPO v{hpo.version}')"
   ],
   "metadata": {
    "collapsed": false,
    "ExecuteTime": {
     "start_time": "2023-10-04T17:35:58.204942Z",
     "end_time": "2023-10-04T17:36:06.416844Z"
    }
   }
  },
  {
   "cell_type": "markdown",
   "source": [
    "## Load Phenopackets"
   ],
   "metadata": {
    "collapsed": false
   }
  },
  {
   "cell_type": "code",
   "execution_count": 3,
   "outputs": [
    {
     "ename": "ValueError",
     "evalue": "Cannot determine variant coordinate from genomic interpretation subject_or_biosample_id: \"0\"\ninterpretation_status: CONTRIBUTORY\nvariant_interpretation {\n  variation_descriptor {\n    id: \"id:A\"\n    expressions {\n      syntax: \"hgvs\"\n      value: \"NP_005903.2:p.(Val103Ile)\"\n    }\n    expressions {\n      syntax: \"hgvs\"\n      value: \"NM_005912.3:c.181G>T\"\n    }\n    allelic_state {\n      id: \"GENO:0000135\"\n      label: \"heterozygous\"\n    }\n  }\n}\n",
     "output_type": "error",
     "traceback": [
      "\u001B[1;31m---------------------------------------------------------------------------\u001B[0m",
      "\u001B[1;31mValueError\u001B[0m                                Traceback (most recent call last)",
      "Cell \u001B[1;32mIn[3], line 5\u001B[0m\n\u001B[0;32m      3\u001B[0m patient_creator \u001B[38;5;241m=\u001B[39m configure_caching_patient_creator(hpo)\n\u001B[0;32m      4\u001B[0m phenopacket_input_folder \u001B[38;5;241m=\u001B[39m \u001B[38;5;124mr\u001B[39m\u001B[38;5;124m'\u001B[39m\u001B[38;5;124m..\u001B[39m\u001B[38;5;124m\\\u001B[39m\u001B[38;5;124mdata\u001B[39m\u001B[38;5;124m\\\u001B[39m\u001B[38;5;124mout\u001B[39m\u001B[38;5;124m\\\u001B[39m\u001B[38;5;124mphenopackets\u001B[39m\u001B[38;5;124m\\\u001B[39m\u001B[38;5;124mexample-phenopackets-from-synthetic-data\u001B[39m\u001B[38;5;124m'\u001B[39m\n\u001B[1;32m----> 5\u001B[0m patient_list \u001B[38;5;241m=\u001B[39m \u001B[43mload_phenopacket_folder\u001B[49m\u001B[43m(\u001B[49m\u001B[43mpp_directory\u001B[49m\u001B[38;5;241;43m=\u001B[39;49m\u001B[43mphenopacket_input_folder\u001B[49m\u001B[43m,\u001B[49m\u001B[43m \u001B[49m\u001B[43mpatient_creator\u001B[49m\u001B[38;5;241;43m=\u001B[39;49m\u001B[43mpatient_creator\u001B[49m\u001B[43m)\u001B[49m\n",
      "File \u001B[1;32m~\\anaconda3\\envs\\ERKER2Phenopackets\\lib\\site-packages\\genophenocorr\\preprocessing\\_phenopacket.py:185\u001B[0m, in \u001B[0;36mload_phenopacket_folder\u001B[1;34m(pp_directory, patient_creator)\u001B[0m\n\u001B[0;32m    182\u001B[0m     \u001B[38;5;28;01mraise\u001B[39;00m \u001B[38;5;167;01mValueError\u001B[39;00m(\u001B[38;5;124mf\u001B[39m\u001B[38;5;124m\"\u001B[39m\u001B[38;5;124mNo JSON Phenopackets were found in \u001B[39m\u001B[38;5;132;01m{\u001B[39;00mpp_directory\u001B[38;5;132;01m}\u001B[39;00m\u001B[38;5;124m\"\u001B[39m)\n\u001B[0;32m    184\u001B[0m \u001B[38;5;66;03m# turn phenopackets into patients using patient creator\u001B[39;00m\n\u001B[1;32m--> 185\u001B[0m patients \u001B[38;5;241m=\u001B[39m [patient_creator\u001B[38;5;241m.\u001B[39mcreate_patient(pp) \u001B[38;5;28;01mfor\u001B[39;00m pp \u001B[38;5;129;01min\u001B[39;00m pps]\n\u001B[0;32m    187\u001B[0m \u001B[38;5;66;03m# create cohort from patients\u001B[39;00m\n\u001B[0;32m    188\u001B[0m \u001B[38;5;28;01mreturn\u001B[39;00m Cohort\u001B[38;5;241m.\u001B[39mfrom_patients(patients)\n",
      "File \u001B[1;32m~\\anaconda3\\envs\\ERKER2Phenopackets\\lib\\site-packages\\genophenocorr\\preprocessing\\_phenopacket.py:185\u001B[0m, in \u001B[0;36m<listcomp>\u001B[1;34m(.0)\u001B[0m\n\u001B[0;32m    182\u001B[0m     \u001B[38;5;28;01mraise\u001B[39;00m \u001B[38;5;167;01mValueError\u001B[39;00m(\u001B[38;5;124mf\u001B[39m\u001B[38;5;124m\"\u001B[39m\u001B[38;5;124mNo JSON Phenopackets were found in \u001B[39m\u001B[38;5;132;01m{\u001B[39;00mpp_directory\u001B[38;5;132;01m}\u001B[39;00m\u001B[38;5;124m\"\u001B[39m)\n\u001B[0;32m    184\u001B[0m \u001B[38;5;66;03m# turn phenopackets into patients using patient creator\u001B[39;00m\n\u001B[1;32m--> 185\u001B[0m patients \u001B[38;5;241m=\u001B[39m [\u001B[43mpatient_creator\u001B[49m\u001B[38;5;241;43m.\u001B[39;49m\u001B[43mcreate_patient\u001B[49m\u001B[43m(\u001B[49m\u001B[43mpp\u001B[49m\u001B[43m)\u001B[49m \u001B[38;5;28;01mfor\u001B[39;00m pp \u001B[38;5;129;01min\u001B[39;00m pps]\n\u001B[0;32m    187\u001B[0m \u001B[38;5;66;03m# create cohort from patients\u001B[39;00m\n\u001B[0;32m    188\u001B[0m \u001B[38;5;28;01mreturn\u001B[39;00m Cohort\u001B[38;5;241m.\u001B[39mfrom_patients(patients)\n",
      "File \u001B[1;32m~\\anaconda3\\envs\\ERKER2Phenopackets\\lib\\site-packages\\genophenocorr\\preprocessing\\_phenopacket.py:108\u001B[0m, in \u001B[0;36mPhenopacketPatientCreator.create_patient\u001B[1;34m(self, item)\u001B[0m\n\u001B[0;32m    100\u001B[0m \u001B[38;5;250m\u001B[39m\u001B[38;5;124;03m\"\"\"Creates a Patient from the data in a given Phenopacket\u001B[39;00m\n\u001B[0;32m    101\u001B[0m \n\u001B[0;32m    102\u001B[0m \u001B[38;5;124;03mArgs:\u001B[39;00m\n\u001B[1;32m   (...)\u001B[0m\n\u001B[0;32m    105\u001B[0m \u001B[38;5;124;03m    Patient: A Patient object\u001B[39;00m\n\u001B[0;32m    106\u001B[0m \u001B[38;5;124;03m\"\"\"\u001B[39;00m\n\u001B[0;32m    107\u001B[0m phenotypes \u001B[38;5;241m=\u001B[39m \u001B[38;5;28mself\u001B[39m\u001B[38;5;241m.\u001B[39m_add_phenotypes(item)\n\u001B[1;32m--> 108\u001B[0m variants \u001B[38;5;241m=\u001B[39m \u001B[38;5;28;43mself\u001B[39;49m\u001B[38;5;241;43m.\u001B[39;49m\u001B[43m_add_variants\u001B[49m\u001B[43m(\u001B[49m\u001B[43mitem\u001B[49m\u001B[43m)\u001B[49m\n\u001B[0;32m    109\u001B[0m protein_data \u001B[38;5;241m=\u001B[39m \u001B[38;5;28mself\u001B[39m\u001B[38;5;241m.\u001B[39m_add_protein_data(variants)\n\u001B[0;32m    110\u001B[0m \u001B[38;5;28;01mreturn\u001B[39;00m Patient(item\u001B[38;5;241m.\u001B[39mid, phenotypes, variants, protein_data)\n",
      "File \u001B[1;32m~\\anaconda3\\envs\\ERKER2Phenopackets\\lib\\site-packages\\genophenocorr\\preprocessing\\_phenopacket.py:124\u001B[0m, in \u001B[0;36mPhenopacketPatientCreator._add_variants\u001B[1;34m(self, pp)\u001B[0m\n\u001B[0;32m    122\u001B[0m \u001B[38;5;28;01mif\u001B[39;00m \u001B[38;5;28mhasattr\u001B[39m(interp, \u001B[38;5;124m'\u001B[39m\u001B[38;5;124mdiagnosis\u001B[39m\u001B[38;5;124m'\u001B[39m) \u001B[38;5;129;01mand\u001B[39;00m interp\u001B[38;5;241m.\u001B[39mdiagnosis \u001B[38;5;129;01mis\u001B[39;00m \u001B[38;5;129;01mnot\u001B[39;00m \u001B[38;5;28;01mNone\u001B[39;00m:\n\u001B[0;32m    123\u001B[0m     \u001B[38;5;28;01mfor\u001B[39;00m genomic_interp \u001B[38;5;129;01min\u001B[39;00m interp\u001B[38;5;241m.\u001B[39mdiagnosis\u001B[38;5;241m.\u001B[39mgenomic_interpretations:\n\u001B[1;32m--> 124\u001B[0m         vc \u001B[38;5;241m=\u001B[39m \u001B[38;5;28;43mself\u001B[39;49m\u001B[38;5;241;43m.\u001B[39;49m\u001B[43m_coord_finder\u001B[49m\u001B[38;5;241;43m.\u001B[39;49m\u001B[43mfind_coordinates\u001B[49m\u001B[43m(\u001B[49m\u001B[43mgenomic_interp\u001B[49m\u001B[43m)\u001B[49m\n\u001B[0;32m    125\u001B[0m         variant \u001B[38;5;241m=\u001B[39m \u001B[38;5;28mself\u001B[39m\u001B[38;5;241m.\u001B[39m_func_ann\u001B[38;5;241m.\u001B[39mannotate(vc)\n\u001B[0;32m    126\u001B[0m         variants_list\u001B[38;5;241m.\u001B[39mappend(variant)\n",
      "File \u001B[1;32m~\\anaconda3\\envs\\ERKER2Phenopackets\\lib\\site-packages\\genophenocorr\\preprocessing\\_phenopacket.py:73\u001B[0m, in \u001B[0;36mPhenopacketVariantCoordinateFinder.find_coordinates\u001B[1;34m(self, item)\u001B[0m\n\u001B[0;32m     70\u001B[0m genotype \u001B[38;5;241m=\u001B[39m variant_descriptor\u001B[38;5;241m.\u001B[39mallelic_state\u001B[38;5;241m.\u001B[39mlabel\n\u001B[0;32m     72\u001B[0m \u001B[38;5;28;01mif\u001B[39;00m \u001B[38;5;28many\u001B[39m(field \u001B[38;5;129;01mis\u001B[39;00m \u001B[38;5;28;01mNone\u001B[39;00m \u001B[38;5;28;01mfor\u001B[39;00m field \u001B[38;5;129;01min\u001B[39;00m (chrom, ref, alt, genotype)):\n\u001B[1;32m---> 73\u001B[0m     \u001B[38;5;28;01mraise\u001B[39;00m \u001B[38;5;167;01mValueError\u001B[39;00m(\u001B[38;5;124mf\u001B[39m\u001B[38;5;124m'\u001B[39m\u001B[38;5;124mCannot determine variant coordinate from genomic interpretation \u001B[39m\u001B[38;5;132;01m{\u001B[39;00mitem\u001B[38;5;132;01m}\u001B[39;00m\u001B[38;5;124m'\u001B[39m)\n\u001B[0;32m     74\u001B[0m \u001B[38;5;28;01mreturn\u001B[39;00m VariantCoordinates(chrom, start, end, ref, alt, \u001B[38;5;28mlen\u001B[39m(alt) \u001B[38;5;241m-\u001B[39m \u001B[38;5;28mlen\u001B[39m(ref), genotype)\n",
      "\u001B[1;31mValueError\u001B[0m: Cannot determine variant coordinate from genomic interpretation subject_or_biosample_id: \"0\"\ninterpretation_status: CONTRIBUTORY\nvariant_interpretation {\n  variation_descriptor {\n    id: \"id:A\"\n    expressions {\n      syntax: \"hgvs\"\n      value: \"NP_005903.2:p.(Val103Ile)\"\n    }\n    expressions {\n      syntax: \"hgvs\"\n      value: \"NM_005912.3:c.181G>T\"\n    }\n    allelic_state {\n      id: \"GENO:0000135\"\n      label: \"heterozygous\"\n    }\n  }\n}\n"
     ]
    }
   ],
   "source": [
    "from genophenocorr.preprocessing import configure_caching_patient_creator\n",
    "from genophenocorr.preprocessing import load_phenopacket_folder\n",
    "patient_creator = configure_caching_patient_creator(hpo)\n",
    "phenopacket_input_folder = r'..\\data\\out\\phenopackets\\example-phenopackets-from-synthetic-data'\n",
    "patient_list = load_phenopacket_folder(pp_directory=phenopacket_input_folder, patient_creator=patient_creator)"
   ],
   "metadata": {
    "collapsed": false,
    "ExecuteTime": {
     "start_time": "2023-10-04T17:37:21.711420Z",
     "end_time": "2023-10-04T17:37:25.658977Z"
    }
   }
  },
  {
   "cell_type": "code",
   "execution_count": null,
   "outputs": [],
   "source": [],
   "metadata": {
    "collapsed": false
   }
  }
 ],
 "metadata": {
  "kernelspec": {
   "display_name": "Python 3",
   "language": "python",
   "name": "python3"
  },
  "language_info": {
   "codemirror_mode": {
    "name": "ipython",
    "version": 2
   },
   "file_extension": ".py",
   "mimetype": "text/x-python",
   "name": "python",
   "nbconvert_exporter": "python",
   "pygments_lexer": "ipython2",
   "version": "2.7.6"
  }
 },
 "nbformat": 4,
 "nbformat_minor": 0
}
