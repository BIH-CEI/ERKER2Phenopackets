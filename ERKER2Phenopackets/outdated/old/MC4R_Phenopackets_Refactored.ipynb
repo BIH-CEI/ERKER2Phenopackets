{
 "cells": [
  {
   "cell_type": "markdown",
   "id": "880c1fa1-4f22-43bf-b2c5-acca74d14179",
   "metadata": {},
   "source": [
    "# Map Obesity dataset into Phenopackets"
   ]
  },
  {
   "cell_type": "markdown",
   "id": "81b59b13-cc85-4c3d-8b6f-ee0c09682eb9",
   "metadata": {
    "tags": []
   },
   "source": [
    "### Imports"
   ]
  },
  {
   "cell_type": "code",
   "execution_count": 27,
   "id": "bcba9d20-c977-4c96-9d34-1b5bb9a9d758",
   "metadata": {
    "ExecuteTime": {
     "start_time": "2023-08-24T17:09:17.574623Z",
     "end_time": "2023-08-24T17:09:17.975304Z"
    }
   },
   "outputs": [],
   "source": [
    "import os\n",
    "\n",
    "import matplotlib.pyplot as plt\n",
    "import pandas as pd\n",
    "import phenopackets\n",
    "\n",
    "from google.protobuf.timestamp_pb2 import Timestamp\n",
    "from phenopackets import Individual, PhenotypicFeature, OntologyClass, Phenopacket\n",
    "from phenopackets import Measurement, Quantity\n",
    "from phenopackets import Disease\n",
    "from phenopackets import Interpretation\n",
    "from phenopackets import MetaData, Resource\n",
    "from phenopackets import VariantInterpretation\n",
    "\n",
    "figargs = {'figsize': (6,4), 'dpi': 120}\n",
    "\n",
    "created_by = 'JoeCurator'\n",
    "\n",
    "phenopacket_schema_version = phenopackets.__version__"
   ]
  },
  {
   "cell_type": "markdown",
   "id": "3f3b0745-0440-475c-9a20-dbceaebbe385",
   "metadata": {
    "tags": []
   },
   "source": [
    "# Define mapping functions"
   ]
  },
  {
   "cell_type": "markdown",
   "id": "42c6f69b-d606-4e8b-8bdb-df6c46d97ed0",
   "metadata": {
    "jupyter": {
     "outputs_hidden": true
    },
    "tags": []
   },
   "source": [
    "## Map temporal data\n",
    "\n",
    "in brackets and # behind def functions: names of variables and columns in test_final.csv\n",
    "\n",
    "file_path: /Users/adam/Documents/BIH/Adipositas/MC4R/mapping_phenos/ERKER_MC4R_demographics_real.csv"
   ]
  },
  {
   "cell_type": "code",
   "execution_count": 28,
   "id": "665eaaac-73e5-4e1a-99b2-4aa0fed5d3b0",
   "metadata": {
    "ExecuteTime": {
     "start_time": "2023-08-24T17:09:17.841944Z",
     "end_time": "2023-08-24T17:09:18.034155Z"
    }
   },
   "outputs": [
    {
     "data": {
      "text/plain": "           redcap_event_name  redcap_repeat_instrument  \\\nrecord_id                                                \n1                        0.0                       0.0   \n1                        0.0                       0.0   \n1                        0.0                       0.0   \n1                        0.0                       0.0   \n1                        0.0                       0.0   \n1                        0.0                       0.0   \n\n           redcap_repeat_instance  sct_422549004  sct_399423000  \\\nrecord_id                                                         \n1                             0.0            0.0            0.0   \n1                             0.0            0.0            0.0   \n1                             0.0            0.0            0.0   \n1                             0.0            0.0            0.0   \n1                             0.0            0.0            0.0   \n1                             0.0            0.0            0.0   \n\n           sct_184099003_y  sct_281053000    lnc_67162_8  sct_399753006  \\\nrecord_id                                                                 \n1                     1998  sct_248152002  lnc_67162-8_X            0.0   \n1                     2011  sct_248153007  lnc_67162-8_X            0.0   \n1                     1988  sct_248153007  lnc_67162-8_X            0.0   \n1                     2008  sct_248153007  lnc_67162-8_X            0.0   \n1                     2001  sct_248153007  lnc_67162-8_X            0.0   \n1                     2012  sct_248152002  lnc_67162-8_X            0.0   \n\n           sct_410598002  ...  w_percentile_5y denver iq_test  \\\nrecord_id                 ...                                   \n1           sct_13393600  ...                3      3     0.0   \n1          sct_133937008  ...                3      3     0.0   \n1           sct_13393600  ...                3      3     0.0   \n1           sct_13393600  ...                3      3     0.0   \n1           sct_13393600  ...                3      3     0.0   \n1           sct_13393600  ...                3      3     0.0   \n\n           mentale_retardierung  motorik_untersuchung  groesse_vater  \\\nrecord_id                                                              \n1                             3                     3            0.0   \n1                             3                     3            0.0   \n1                             3                     3            0.0   \n1                             3                     3            0.0   \n1                             3                     3            0.0   \n1                             3                     3            0.0   \n\n          groesse_mutter  erw_gen_zielgroesse_2  auffaellige_entwicklung  \\\nrecord_id                                                                  \n1                    0.0                      3                        3   \n1                    0.0                      3                        3   \n1                    0.0                      3                        3   \n1                    0.0                      3                        3   \n1                    0.0                      3                        3   \n1                    0.0                      3                        3   \n\n           mc4r_demographics_complete  \nrecord_id                              \n1                                   2  \n1                                   2  \n1                                   2  \n1                                   2  \n1                                   2  \n1                                   2  \n\n[6 rows x 175 columns]",
      "text/html": "<div>\n<style scoped>\n    .dataframe tbody tr th:only-of-type {\n        vertical-align: middle;\n    }\n\n    .dataframe tbody tr th {\n        vertical-align: top;\n    }\n\n    .dataframe thead th {\n        text-align: right;\n    }\n</style>\n<table border=\"1\" class=\"dataframe\">\n  <thead>\n    <tr style=\"text-align: right;\">\n      <th></th>\n      <th>redcap_event_name</th>\n      <th>redcap_repeat_instrument</th>\n      <th>redcap_repeat_instance</th>\n      <th>sct_422549004</th>\n      <th>sct_399423000</th>\n      <th>sct_184099003_y</th>\n      <th>sct_281053000</th>\n      <th>lnc_67162_8</th>\n      <th>sct_399753006</th>\n      <th>sct_410598002</th>\n      <th>...</th>\n      <th>w_percentile_5y</th>\n      <th>denver</th>\n      <th>iq_test</th>\n      <th>mentale_retardierung</th>\n      <th>motorik_untersuchung</th>\n      <th>groesse_vater</th>\n      <th>groesse_mutter</th>\n      <th>erw_gen_zielgroesse_2</th>\n      <th>auffaellige_entwicklung</th>\n      <th>mc4r_demographics_complete</th>\n    </tr>\n    <tr>\n      <th>record_id</th>\n      <th></th>\n      <th></th>\n      <th></th>\n      <th></th>\n      <th></th>\n      <th></th>\n      <th></th>\n      <th></th>\n      <th></th>\n      <th></th>\n      <th></th>\n      <th></th>\n      <th></th>\n      <th></th>\n      <th></th>\n      <th></th>\n      <th></th>\n      <th></th>\n      <th></th>\n      <th></th>\n      <th></th>\n    </tr>\n  </thead>\n  <tbody>\n    <tr>\n      <th>1</th>\n      <td>0.0</td>\n      <td>0.0</td>\n      <td>0.0</td>\n      <td>0.0</td>\n      <td>0.0</td>\n      <td>1998</td>\n      <td>sct_248152002</td>\n      <td>lnc_67162-8_X</td>\n      <td>0.0</td>\n      <td>sct_13393600</td>\n      <td>...</td>\n      <td>3</td>\n      <td>3</td>\n      <td>0.0</td>\n      <td>3</td>\n      <td>3</td>\n      <td>0.0</td>\n      <td>0.0</td>\n      <td>3</td>\n      <td>3</td>\n      <td>2</td>\n    </tr>\n    <tr>\n      <th>1</th>\n      <td>0.0</td>\n      <td>0.0</td>\n      <td>0.0</td>\n      <td>0.0</td>\n      <td>0.0</td>\n      <td>2011</td>\n      <td>sct_248153007</td>\n      <td>lnc_67162-8_X</td>\n      <td>0.0</td>\n      <td>sct_133937008</td>\n      <td>...</td>\n      <td>3</td>\n      <td>3</td>\n      <td>0.0</td>\n      <td>3</td>\n      <td>3</td>\n      <td>0.0</td>\n      <td>0.0</td>\n      <td>3</td>\n      <td>3</td>\n      <td>2</td>\n    </tr>\n    <tr>\n      <th>1</th>\n      <td>0.0</td>\n      <td>0.0</td>\n      <td>0.0</td>\n      <td>0.0</td>\n      <td>0.0</td>\n      <td>1988</td>\n      <td>sct_248153007</td>\n      <td>lnc_67162-8_X</td>\n      <td>0.0</td>\n      <td>sct_13393600</td>\n      <td>...</td>\n      <td>3</td>\n      <td>3</td>\n      <td>0.0</td>\n      <td>3</td>\n      <td>3</td>\n      <td>0.0</td>\n      <td>0.0</td>\n      <td>3</td>\n      <td>3</td>\n      <td>2</td>\n    </tr>\n    <tr>\n      <th>1</th>\n      <td>0.0</td>\n      <td>0.0</td>\n      <td>0.0</td>\n      <td>0.0</td>\n      <td>0.0</td>\n      <td>2008</td>\n      <td>sct_248153007</td>\n      <td>lnc_67162-8_X</td>\n      <td>0.0</td>\n      <td>sct_13393600</td>\n      <td>...</td>\n      <td>3</td>\n      <td>3</td>\n      <td>0.0</td>\n      <td>3</td>\n      <td>3</td>\n      <td>0.0</td>\n      <td>0.0</td>\n      <td>3</td>\n      <td>3</td>\n      <td>2</td>\n    </tr>\n    <tr>\n      <th>1</th>\n      <td>0.0</td>\n      <td>0.0</td>\n      <td>0.0</td>\n      <td>0.0</td>\n      <td>0.0</td>\n      <td>2001</td>\n      <td>sct_248153007</td>\n      <td>lnc_67162-8_X</td>\n      <td>0.0</td>\n      <td>sct_13393600</td>\n      <td>...</td>\n      <td>3</td>\n      <td>3</td>\n      <td>0.0</td>\n      <td>3</td>\n      <td>3</td>\n      <td>0.0</td>\n      <td>0.0</td>\n      <td>3</td>\n      <td>3</td>\n      <td>2</td>\n    </tr>\n    <tr>\n      <th>1</th>\n      <td>0.0</td>\n      <td>0.0</td>\n      <td>0.0</td>\n      <td>0.0</td>\n      <td>0.0</td>\n      <td>2012</td>\n      <td>sct_248152002</td>\n      <td>lnc_67162-8_X</td>\n      <td>0.0</td>\n      <td>sct_13393600</td>\n      <td>...</td>\n      <td>3</td>\n      <td>3</td>\n      <td>0.0</td>\n      <td>3</td>\n      <td>3</td>\n      <td>0.0</td>\n      <td>0.0</td>\n      <td>3</td>\n      <td>3</td>\n      <td>2</td>\n    </tr>\n  </tbody>\n</table>\n<p>6 rows × 175 columns</p>\n</div>"
     },
     "execution_count": 28,
     "metadata": {},
     "output_type": "execute_result"
    }
   ],
   "source": [
    "synthdata_path = '../data/sdv_synthetic_data.csv'\n",
    "# can create synth data with import  template (in /data)\n",
    "\n",
    "\n",
    "synthdata = pd.read_csv(synthdata_path, index_col='record_id').sort_index()\n",
    "synthdata.head(6)"
   ]
  },
  {
   "cell_type": "markdown",
   "id": "46dd018e-8ef1-42a7-b315-d6aa7ae8964b",
   "metadata": {},
   "source": [
    " "
   ]
  },
  {
   "cell_type": "markdown",
   "id": "529aa96b-c98a-45cd-bc52-ea6005a8d6fe",
   "metadata": {
    "tags": []
   },
   "source": [
    "### Mapping: **Age**, **Sex**, **Agerange**, **Disease Onset**, **Date Diagnosis**"
   ]
  },
  {
   "cell_type": "code",
   "execution_count": 29,
   "id": "7fdf936a-7143-4d54-a98c-bf9ba67566bf",
   "metadata": {
    "tags": [],
    "ExecuteTime": {
     "start_time": "2023-08-24T17:09:18.038640Z",
     "end_time": "2023-08-24T17:09:18.131473Z"
    }
   },
   "outputs": [],
   "source": [
    "from src.ParseErker import parse_erker_date_of_birth\n",
    "from src.ParseErker import parse_erker_sex\n",
    "from src.ParseErker import parse_erker_agerange\n",
    "from src.ParseErker import parse_erker_onset\n",
    "from src.ParseErker import parse_erker_datediagnosis"
   ]
  },
  {
   "cell_type": "markdown",
   "id": "0990fdbb-c5f7-43e3-b219-65a87e9e6ccb",
   "metadata": {
    "tags": []
   },
   "source": [
    "## Map categorical data"
   ]
  },
  {
   "cell_type": "markdown",
   "id": "28597ce0-7c33-4739-af12-631c048175e5",
   "metadata": {},
   "source": [
    "### Mapping: **Zygosity**, **HGNC**, **HGVS**, **Phenotype**"
   ]
  },
  {
   "cell_type": "markdown",
   "id": "c5942c2a-3351-4a7c-b145-901ce8911915",
   "metadata": {},
   "source": [
    "**HGNC**: mapped without a function since all individuals have the same HGNC code"
   ]
  },
  {
   "cell_type": "markdown",
   "id": "0600025c-7f86-4de9-ba1e-2db3abb0040f",
   "metadata": {},
   "source": [
    "**Phenotype**: calculate Class 1-3 obesity from measurements https://hpo.jax.org/app/browse/term/HP:0001513 "
   ]
  },
  {
   "cell_type": "code",
   "execution_count": 30,
   "id": "b4922059-3f62-4b13-a719-1d469182d0c3",
   "metadata": {
    "tags": [],
    "ExecuteTime": {
     "start_time": "2023-08-24T17:09:18.114558Z",
     "end_time": "2023-08-24T17:09:18.310603Z"
    }
   },
   "outputs": [],
   "source": [
    "from src.ParseErker import parse_erker_zygosity"
   ]
  },
  {
   "cell_type": "markdown",
   "id": "c691f6fd-fb08-4cd2-b5df-0d754083256d",
   "metadata": {
    "tags": []
   },
   "source": [
    "### Creating: **Disease**, **Individual**, **Phenotyping_feature**"
   ]
  },
  {
   "cell_type": "markdown",
   "id": "1a6eddc1-77c2-4925-ac8a-0414823ccfe5",
   "metadata": {
    "tags": []
   },
   "source": [
    "**diagnosis**: all directly into phenopackets"
   ]
  },
  {
   "cell_type": "markdown",
   "id": "3b09cc59-eda9-437c-ac4b-02a2dbb527cb",
   "metadata": {},
   "source": [
    " \n",
    "  \n",
    "   "
   ]
  },
  {
   "cell_type": "markdown",
   "id": "9094d3b7-66d8-410c-920c-ba2af878188d",
   "metadata": {
    "tags": []
   },
   "source": [
    "## Map & Create MC4R weight_course"
   ]
  },
  {
   "cell_type": "markdown",
   "id": "052f818f-03d9-47e3-99ee-6fa0db1e465f",
   "metadata": {},
   "source": [
    "### Mapping **Measurements**: weight, height, age"
   ]
  },
  {
   "cell_type": "raw",
   "id": "9942a20d-ffda-4e33-b81a-5e28dfc59378",
   "metadata": {},
   "source": [
    "def parse_measurements(weight_col, height_col)                \n",
    "    if weight_col == \"Weight-Birth\\nkg\" and height_col == \"Height-Birth\\ncm\"\n",
    "            age = 'P0Y0M'\n",
    "    elif weight_col == \"Weight - U6\\nkg\" and height_col == \"Height-U6\\ncm\"\n",
    "            age = 'P1Y0M'\n",
    "    elif weight_col == \"Weight-U7\\nkg\" and height_col == \"Height-U7\\ncm\"\n",
    "            age = 'P2Y0M'\n",
    "    elif weight_col == \"Weight-U7a\\nkg\" and height_col == \"Height-U7a\\ncm\"\n",
    "            age = 'P3Y0M'\n",
    "    elif weight_col == \"Weight-U8\\nkg\" and height_col == \"Height-U8\\ncm\"\n",
    "            age = 'P4Y0M'\n",
    "    elif weight_col == \"Weight-U9\\nkg\" and height_col == \"Height-U9\\ncm\"\n",
    "            age = 'P5Y0M'\n",
    "    elif weight_col == \"Weight- 6y\\nkg\" and height_col == \"Height- 6y\\ncm\"\n",
    "            age = 'P6Y0M'\n",
    "    elif weight_col == \"Weight-9y\\nkg\" and height_col == \"Height 9y\\ncm\"\n",
    "            age = 'P9Y0M'\n",
    "    elif weight_col == \"Weight-12y\\nkg\" and height_col == \"Height-12y\\ncm\"\n",
    "            age = 'P12Y0M'\n",
    "    elif weight_col == \"Weight-15y\\nkg\" and height_col == \"Height-15y\\ncm\"\n",
    "            age = 'P15Y0M'\n",
    "    elif weight_col == \"Weight-18y\\nkg\" and height_col == \"Height-18y\\ncm\"\n",
    "            age = 'P18Y0M'    \n",
    "    else weight_col == \"Weight -21y\\nkg\" and height_col == \"Height-21y\\ncm\"\n",
    "            age = 'P21Y0M'"
   ]
  },
  {
   "cell_type": "markdown",
   "id": "d16bda71-eb7b-41a2-bb57-385afe653aeb",
   "metadata": {},
   "source": [
    "### Creating **Measurements**: weight, height, age"
   ]
  },
  {
   "cell_type": "code",
   "execution_count": 31,
   "id": "af627dc9-c7b2-482e-a2fd-996aee8f8ed9",
   "metadata": {
    "ExecuteTime": {
     "start_time": "2023-08-24T17:09:18.524065Z",
     "end_time": "2023-08-24T17:09:18.638897Z"
    }
   },
   "outputs": [],
   "source": [
    "# create method with all the columns\n",
    "#kg=OntologyClass(unit='UCUM:kg', label='kilogram'\n",
    "\n",
    "def create_measurements(weight_col: str, height_col: str, age_col:str):\n",
    "    # Process weight\n",
    "    assay = OntologyClass(id='LOINC:3141-9', label='Body weight Measured')\n",
    "    value = weight_col if isinstance(weight_col, float) else float(weight_col)\n",
    "    quantity = Quantity(unit=kg, value=value)\n",
    "    \n",
    "    assay = OntologyClass(id='LOINC:3137-7', label='Body height Measured')\n",
    "    value = weight_col if isinstance(height_col, float) else float(height)\n",
    "    quantity = Quantity(unit=cm, value=value)\n",
    "    \n"
   ]
  },
  {
   "cell_type": "markdown",
   "id": "11a814fe-6ace-4754-9d72-aa386637ce3f",
   "metadata": {
    "tags": []
   },
   "source": [
    "# Load data dictionary\n",
    "\n",
    "Load the XLSX data dictionary file into a data frame."
   ]
  },
  {
   "cell_type": "code",
   "execution_count": 32,
   "id": "12ffd01c-f6fa-4438-8ee2-b85ce3c48ce3",
   "metadata": {
    "ExecuteTime": {
     "start_time": "2023-08-24T17:09:18.700151Z",
     "end_time": "2023-08-24T17:09:18.718142Z"
    }
   },
   "outputs": [],
   "source": [
    "data_dictionary_path = 'ERKER_v1.2_DataDictionary.xlsx'\n",
    "data_dictionary = pd.read_excel(data_dictionary_path, index_col='Variable / Field Name').sort_index()\n",
    "data_dictionary.head(2)"
   ]
  },
  {
   "cell_type": "markdown",
   "id": "c769bef8-1f73-450f-876e-e853b822121c",
   "metadata": {
    "tags": []
   },
   "source": [
    "# Process synthetic dataset\n",
    "\n",
    "## Load dataset into dataframe"
   ]
  },
  {
   "cell_type": "code",
   "execution_count": 33,
   "id": "8077f4d7-3f60-4ead-9217-b12149f26482",
   "metadata": {
    "ExecuteTime": {
     "start_time": "2023-08-24T17:09:18.718142Z",
     "end_time": "2023-08-24T17:09:18.813124Z"
    }
   },
   "outputs": [
    {
     "data": {
      "text/plain": "           redcap_event_name  redcap_repeat_instrument  \\\nrecord_id                                                \n1                        0.0                       0.0   \n1                        0.0                       0.0   \n1                        0.0                       0.0   \n1                        0.0                       0.0   \n1                        0.0                       0.0   \n\n           redcap_repeat_instance  sct_422549004  sct_399423000  \\\nrecord_id                                                         \n1                             0.0            0.0            0.0   \n1                             0.0            0.0            0.0   \n1                             0.0            0.0            0.0   \n1                             0.0            0.0            0.0   \n1                             0.0            0.0            0.0   \n\n           sct_184099003_y  sct_281053000    lnc_67162_8  sct_399753006  \\\nrecord_id                                                                 \n1                     1998  sct_248152002  lnc_67162-8_X            0.0   \n1                     2011  sct_248153007  lnc_67162-8_X            0.0   \n1                     1988  sct_248153007  lnc_67162-8_X            0.0   \n1                     2008  sct_248153007  lnc_67162-8_X            0.0   \n1                     2001  sct_248153007  lnc_67162-8_X            0.0   \n\n           sct_410598002  ...  w_percentile_5y denver iq_test  \\\nrecord_id                 ...                                   \n1           sct_13393600  ...                3      3     0.0   \n1          sct_133937008  ...                3      3     0.0   \n1           sct_13393600  ...                3      3     0.0   \n1           sct_13393600  ...                3      3     0.0   \n1           sct_13393600  ...                3      3     0.0   \n\n           mentale_retardierung  motorik_untersuchung  groesse_vater  \\\nrecord_id                                                              \n1                             3                     3            0.0   \n1                             3                     3            0.0   \n1                             3                     3            0.0   \n1                             3                     3            0.0   \n1                             3                     3            0.0   \n\n          groesse_mutter  erw_gen_zielgroesse_2  auffaellige_entwicklung  \\\nrecord_id                                                                  \n1                    0.0                      3                        3   \n1                    0.0                      3                        3   \n1                    0.0                      3                        3   \n1                    0.0                      3                        3   \n1                    0.0                      3                        3   \n\n           mc4r_demographics_complete  \nrecord_id                              \n1                                   2  \n1                                   2  \n1                                   2  \n1                                   2  \n1                                   2  \n\n[5 rows x 175 columns]",
      "text/html": "<div>\n<style scoped>\n    .dataframe tbody tr th:only-of-type {\n        vertical-align: middle;\n    }\n\n    .dataframe tbody tr th {\n        vertical-align: top;\n    }\n\n    .dataframe thead th {\n        text-align: right;\n    }\n</style>\n<table border=\"1\" class=\"dataframe\">\n  <thead>\n    <tr style=\"text-align: right;\">\n      <th></th>\n      <th>redcap_event_name</th>\n      <th>redcap_repeat_instrument</th>\n      <th>redcap_repeat_instance</th>\n      <th>sct_422549004</th>\n      <th>sct_399423000</th>\n      <th>sct_184099003_y</th>\n      <th>sct_281053000</th>\n      <th>lnc_67162_8</th>\n      <th>sct_399753006</th>\n      <th>sct_410598002</th>\n      <th>...</th>\n      <th>w_percentile_5y</th>\n      <th>denver</th>\n      <th>iq_test</th>\n      <th>mentale_retardierung</th>\n      <th>motorik_untersuchung</th>\n      <th>groesse_vater</th>\n      <th>groesse_mutter</th>\n      <th>erw_gen_zielgroesse_2</th>\n      <th>auffaellige_entwicklung</th>\n      <th>mc4r_demographics_complete</th>\n    </tr>\n    <tr>\n      <th>record_id</th>\n      <th></th>\n      <th></th>\n      <th></th>\n      <th></th>\n      <th></th>\n      <th></th>\n      <th></th>\n      <th></th>\n      <th></th>\n      <th></th>\n      <th></th>\n      <th></th>\n      <th></th>\n      <th></th>\n      <th></th>\n      <th></th>\n      <th></th>\n      <th></th>\n      <th></th>\n      <th></th>\n      <th></th>\n    </tr>\n  </thead>\n  <tbody>\n    <tr>\n      <th>1</th>\n      <td>0.0</td>\n      <td>0.0</td>\n      <td>0.0</td>\n      <td>0.0</td>\n      <td>0.0</td>\n      <td>1998</td>\n      <td>sct_248152002</td>\n      <td>lnc_67162-8_X</td>\n      <td>0.0</td>\n      <td>sct_13393600</td>\n      <td>...</td>\n      <td>3</td>\n      <td>3</td>\n      <td>0.0</td>\n      <td>3</td>\n      <td>3</td>\n      <td>0.0</td>\n      <td>0.0</td>\n      <td>3</td>\n      <td>3</td>\n      <td>2</td>\n    </tr>\n    <tr>\n      <th>1</th>\n      <td>0.0</td>\n      <td>0.0</td>\n      <td>0.0</td>\n      <td>0.0</td>\n      <td>0.0</td>\n      <td>2011</td>\n      <td>sct_248153007</td>\n      <td>lnc_67162-8_X</td>\n      <td>0.0</td>\n      <td>sct_133937008</td>\n      <td>...</td>\n      <td>3</td>\n      <td>3</td>\n      <td>0.0</td>\n      <td>3</td>\n      <td>3</td>\n      <td>0.0</td>\n      <td>0.0</td>\n      <td>3</td>\n      <td>3</td>\n      <td>2</td>\n    </tr>\n    <tr>\n      <th>1</th>\n      <td>0.0</td>\n      <td>0.0</td>\n      <td>0.0</td>\n      <td>0.0</td>\n      <td>0.0</td>\n      <td>1988</td>\n      <td>sct_248153007</td>\n      <td>lnc_67162-8_X</td>\n      <td>0.0</td>\n      <td>sct_13393600</td>\n      <td>...</td>\n      <td>3</td>\n      <td>3</td>\n      <td>0.0</td>\n      <td>3</td>\n      <td>3</td>\n      <td>0.0</td>\n      <td>0.0</td>\n      <td>3</td>\n      <td>3</td>\n      <td>2</td>\n    </tr>\n    <tr>\n      <th>1</th>\n      <td>0.0</td>\n      <td>0.0</td>\n      <td>0.0</td>\n      <td>0.0</td>\n      <td>0.0</td>\n      <td>2008</td>\n      <td>sct_248153007</td>\n      <td>lnc_67162-8_X</td>\n      <td>0.0</td>\n      <td>sct_13393600</td>\n      <td>...</td>\n      <td>3</td>\n      <td>3</td>\n      <td>0.0</td>\n      <td>3</td>\n      <td>3</td>\n      <td>0.0</td>\n      <td>0.0</td>\n      <td>3</td>\n      <td>3</td>\n      <td>2</td>\n    </tr>\n    <tr>\n      <th>1</th>\n      <td>0.0</td>\n      <td>0.0</td>\n      <td>0.0</td>\n      <td>0.0</td>\n      <td>0.0</td>\n      <td>2001</td>\n      <td>sct_248153007</td>\n      <td>lnc_67162-8_X</td>\n      <td>0.0</td>\n      <td>sct_13393600</td>\n      <td>...</td>\n      <td>3</td>\n      <td>3</td>\n      <td>0.0</td>\n      <td>3</td>\n      <td>3</td>\n      <td>0.0</td>\n      <td>0.0</td>\n      <td>3</td>\n      <td>3</td>\n      <td>2</td>\n    </tr>\n  </tbody>\n</table>\n<p>5 rows × 175 columns</p>\n</div>"
     },
     "execution_count": 33,
     "metadata": {},
     "output_type": "execute_result"
    }
   ],
   "source": [
    "synthdata = pd.read_csv(synthdata_path, index_col='record_id').sort_index()\n",
    "synthdata.head(5)"
   ]
  },
  {
   "cell_type": "markdown",
   "id": "021883b7-4d98-4859-bb67-364e3a17fa37",
   "metadata": {},
   "source": [
    "## Explore the synthetic dataset\n",
    "\n",
    "### Dataset shape"
   ]
  },
  {
   "cell_type": "code",
   "execution_count": 34,
   "id": "fc89e570-5bd6-466d-b220-6e535e0cfe56",
   "metadata": {
    "ExecuteTime": {
     "start_time": "2023-08-24T17:09:18.793787Z",
     "end_time": "2023-08-24T17:09:18.889944Z"
    }
   },
   "outputs": [
    {
     "data": {
      "text/plain": "(98, 175)"
     },
     "execution_count": 34,
     "metadata": {},
     "output_type": "execute_result"
    }
   ],
   "source": [
    "synthdata.shape"
   ]
  },
  {
   "cell_type": "markdown",
   "id": "4a526f6b-2182-4ed2-ace6-7b0e69e36d38",
   "metadata": {
    "tags": []
   },
   "source": [
    "### `record_id` column\n",
    "\n",
    "What is the meaning of the `record_id` column? Can we use it as an index?\n",
    "\n",
    "`record_id` is not unique, it is present in >1 rows. The rows with the same `record_id` do not seem to represent the same patient since the date of birth (`sct_184099003_y`) is different."
   ]
  },
  {
   "cell_type": "code",
   "execution_count": 35,
   "id": "08848b91-48ba-42be-a1b6-540ac183eb63",
   "metadata": {
    "ExecuteTime": {
     "start_time": "2023-08-24T17:09:18.826382Z",
     "end_time": "2023-08-24T17:09:19.186611Z"
    }
   },
   "outputs": [
    {
     "data": {
      "text/plain": "<Figure size 720x480 with 1 Axes>",
      "image/png": "[encoded data removed]"
     },
     "metadata": {},
     "output_type": "display_data"
    }
   ],
   "source": [
    "fig, ax = plt.subplots(**figargs)\n",
    "\n",
    "synthdata_record_counts_per_id = synthdata.groupby('record_id').size().value_counts().sort_index()\n",
    "\n",
    "ax.bar(synthdata_record_counts_per_id.index, synthdata_record_counts_per_id)\n",
    "ax.set(xlabel='record counts', ylabel='# records')\n",
    "\n",
    "fig.tight_layout()"
   ]
  },
  {
   "cell_type": "markdown",
   "id": "6002e471-6544-4af9-949f-c49a10a425d3",
   "metadata": {},
   "source": [
    "### Genes\n",
    "\n",
    "What genes do we have in the dataset?"
   ]
  },
  {
   "cell_type": "code",
   "execution_count": 36,
   "id": "bbfd0e38-adf3-4a5c-b8dd-878b10f91ca6",
   "metadata": {
    "ExecuteTime": {
     "start_time": "2023-08-24T17:09:19.078017Z",
     "end_time": "2023-08-24T17:09:19.186611Z"
    }
   },
   "outputs": [
    {
     "data": {
      "text/plain": "array(['HGNC:6932'], dtype=object)"
     },
     "execution_count": 36,
     "metadata": {},
     "output_type": "execute_result"
    }
   ],
   "source": [
    "genes = synthdata.loc[:, synthdata.columns.str.match(r'ln_47999_8_hgnc_\\d')]\\\n",
    "  .melt(ignore_index=False)\\\n",
    "  .loc[lambda x: x['value'].str.contains('^HGNC:.*', na=False), 'value']\n",
    "genes.unique()"
   ]
  },
  {
   "cell_type": "markdown",
   "id": "d705136b-d224-4e92-913a-103c7e8e8c0c",
   "metadata": {},
   "source": [
    "## Orchestrate the mapping \n",
    "\n",
    "Let's iterate over the dataset rows and map the data into phenopackets. We use the functions defined above."
   ]
  },
  {
   "cell_type": "code",
   "execution_count": 38,
   "id": "844d1247-a801-4d34-abd5-e9a9507da118",
   "metadata": {
    "ExecuteTime": {
     "start_time": "2023-08-24T17:09:19.155394Z",
     "end_time": "2023-08-24T17:09:19.442576Z"
    }
   },
   "outputs": [],
   "source": [
    "from src.MapERKER2Phenopackets import map_erker2phenopackets\n",
    "erker_phenopackets = map_erker2phenopackets(df=synthdata, created_by=created_by)"
   ]
  },
  {
   "cell_type": "markdown",
   "id": "43f9c132-f007-4f71-95ab-94a5da23da89",
   "metadata": {},
   "source": [
    "## Store the phenopackets into JSON files\n",
    "\n",
    "Let's store the phenopackets into JSON files, one file per phenopacket. We store the phenopackets in `phenopackets` folder by default."
   ]
  },
  {
   "cell_type": "code",
   "execution_count": 39,
   "id": "2e6cb3c8-4e1b-4a38-bba8-8eb2de2f2cec",
   "metadata": {
    "ExecuteTime": {
     "start_time": "2023-08-24T17:09:19.203831Z",
     "end_time": "2023-08-24T17:09:19.468257Z"
    }
   },
   "outputs": [],
   "source": [
    "from src.Phenopackets2JSON import write_phenopackets2json_files\n",
    "write_phenopackets2json_files(erker_phenopackets, output_folder='phenopackets')"
   ]
  },
  {
   "cell_type": "markdown",
   "id": "4383fcac-84bf-4e21-b80e-541520b42a3c",
   "metadata": {
    "ExecuteTime": {
     "start_time": "2023-08-24T17:09:19.455896Z",
     "end_time": "2023-08-24T17:09:19.526247Z"
    }
   },
   "source": [
    "**Done!**"
   ],
   "outputs": [],
   "execution_count": 40
  },
  {
   "cell_type": "code",
   "execution_count": null,
   "id": "f67c3e1c-ca8d-4be4-acb3-16783473f494",
   "metadata": {},
   "outputs": [],
   "source": []
  }
 ],
 "metadata": {
  "kernelspec": {
   "name": "python3",
   "language": "python",
   "display_name": "Python 3 (ipykernel)"
  },
  "language_info": {
   "codemirror_mode": {
    "name": "ipython",
    "version": 3
   },
   "file_extension": ".py",
   "mimetype": "text/x-python",
   "name": "python",
   "nbconvert_exporter": "python",
   "pygments_lexer": "ipython3",
   "version": "3.10.6"
  }
 },
 "nbformat": 4,
 "nbformat_minor": 5
}
