{
 "cells": [
  {
   "cell_type": "markdown",
   "id": "880c1fa1-4f22-43bf-b2c5-acca74d14179",
   "metadata": {},
   "source": [
    "# Map Obesity dataset into Phenopackets"
   ]
  },
  {
   "cell_type": "markdown",
   "id": "81b59b13-cc85-4c3d-8b6f-ee0c09682eb9",
   "metadata": {
    "tags": []
   },
   "source": [
    "### Imports"
   ]
  },
  {
   "cell_type": "code",
   "execution_count": 1,
   "id": "bcba9d20-c977-4c96-9d34-1b5bb9a9d758",
   "metadata": {},
   "outputs": [],
   "source": [
    "import math\n",
    "import re\n",
    "import os\n",
    "import csv\n",
    "\n",
    "\n",
    "from datetime import datetime, date, timedelta\n",
    "\n",
    "import matplotlib as mpl\n",
    "import matplotlib.pyplot as plt\n",
    "import numpy as np\n",
    "import pandas as pd \n",
    "\n",
    "import phenopackets\n",
    "from phenopackets import Individual, PhenotypicFeature, OntologyClass, Phenopacket, Sex\n",
    "from phenopackets import Measurement, Quantity\n",
    "from phenopackets import AgeRange, Age\n",
    "from phenopackets import Diagnosis\n",
    "from phenopackets import Disease\n",
    "from phenopackets import Interpretation\n",
    "from phenopackets import MetaData, Resource\n",
    "from phenopackets import VariantInterpretation\n",
    "\n",
    "from google.protobuf.timestamp_pb2 import Timestamp\n",
    "\n",
    "figargs = {'figsize': (6,4), 'dpi': 120}\n",
    "\n",
    "created_by = 'JoeCurator'\n",
    "\n",
    "phenopacket_schema_version = phenopackets.__version__"
   ]
  },
  {
   "cell_type": "markdown",
   "id": "3f3b0745-0440-475c-9a20-dbceaebbe385",
   "metadata": {
    "tags": []
   },
   "source": [
    "# Define mapping functions"
   ]
  },
  {
   "cell_type": "markdown",
   "id": "42c6f69b-d606-4e8b-8bdb-df6c46d97ed0",
   "metadata": {
    "jupyter": {
     "outputs_hidden": true
    },
    "tags": []
   },
   "source": [
    "## Map temporal data\n",
    "\n",
    "in brackets and # behind def functions: names of variables and columns in test_final.csv\n",
    "\n",
    "file_path: /Users/adam/Documents/BIH/Adipositas/MC4R/mapping_phenos/ERKER_MC4R_demographics_real.csv"
   ]
  },
  {
   "cell_type": "code",
   "execution_count": 2,
   "id": "665eaaac-73e5-4e1a-99b2-4aa0fed5d3b0",
   "metadata": {},
   "outputs": [
    {
     "data": {
      "text/html": [
       "<div>\n",
       "<style scoped>\n",
       "    .dataframe tbody tr th:only-of-type {\n",
       "        vertical-align: middle;\n",
       "    }\n",
       "\n",
       "    .dataframe tbody tr th {\n",
       "        vertical-align: top;\n",
       "    }\n",
       "\n",
       "    .dataframe thead th {\n",
       "        text-align: right;\n",
       "    }\n",
       "</style>\n",
       "<table border=\"1\" class=\"dataframe\">\n",
       "  <thead>\n",
       "    <tr style=\"text-align: right;\">\n",
       "      <th></th>\n",
       "      <th>redcap_event_name</th>\n",
       "      <th>redcap_repeat_instrument</th>\n",
       "      <th>redcap_repeat_instance</th>\n",
       "      <th>sct_422549004</th>\n",
       "      <th>sct_399423000</th>\n",
       "      <th>sct_184099003_y</th>\n",
       "      <th>sct_281053000</th>\n",
       "      <th>lnc_67162_8</th>\n",
       "      <th>sct_399753006</th>\n",
       "      <th>sct_410598002</th>\n",
       "      <th>...</th>\n",
       "      <th>w_percentile_5y</th>\n",
       "      <th>denver</th>\n",
       "      <th>iq_test</th>\n",
       "      <th>mentale_retardierung</th>\n",
       "      <th>motorik_untersuchung</th>\n",
       "      <th>groesse_vater</th>\n",
       "      <th>groesse_mutter</th>\n",
       "      <th>erw_gen_zielgroesse_2</th>\n",
       "      <th>auffaellige_entwicklung</th>\n",
       "      <th>mc4r_demographics_complete</th>\n",
       "    </tr>\n",
       "    <tr>\n",
       "      <th>record_id</th>\n",
       "      <th></th>\n",
       "      <th></th>\n",
       "      <th></th>\n",
       "      <th></th>\n",
       "      <th></th>\n",
       "      <th></th>\n",
       "      <th></th>\n",
       "      <th></th>\n",
       "      <th></th>\n",
       "      <th></th>\n",
       "      <th></th>\n",
       "      <th></th>\n",
       "      <th></th>\n",
       "      <th></th>\n",
       "      <th></th>\n",
       "      <th></th>\n",
       "      <th></th>\n",
       "      <th></th>\n",
       "      <th></th>\n",
       "      <th></th>\n",
       "      <th></th>\n",
       "    </tr>\n",
       "  </thead>\n",
       "  <tbody>\n",
       "    <tr>\n",
       "      <th>1</th>\n",
       "      <td>0.0</td>\n",
       "      <td>0.0</td>\n",
       "      <td>0.0</td>\n",
       "      <td>0.0</td>\n",
       "      <td>0.0</td>\n",
       "      <td>1998</td>\n",
       "      <td>sct_248152002</td>\n",
       "      <td>lnc_67162-8_X</td>\n",
       "      <td>0.0</td>\n",
       "      <td>sct_13393600</td>\n",
       "      <td>...</td>\n",
       "      <td>3</td>\n",
       "      <td>3</td>\n",
       "      <td>0.0</td>\n",
       "      <td>3</td>\n",
       "      <td>3</td>\n",
       "      <td>0.0</td>\n",
       "      <td>0.0</td>\n",
       "      <td>3</td>\n",
       "      <td>3</td>\n",
       "      <td>2</td>\n",
       "    </tr>\n",
       "    <tr>\n",
       "      <th>1</th>\n",
       "      <td>0.0</td>\n",
       "      <td>0.0</td>\n",
       "      <td>0.0</td>\n",
       "      <td>0.0</td>\n",
       "      <td>0.0</td>\n",
       "      <td>2011</td>\n",
       "      <td>sct_248153007</td>\n",
       "      <td>lnc_67162-8_X</td>\n",
       "      <td>0.0</td>\n",
       "      <td>sct_133937008</td>\n",
       "      <td>...</td>\n",
       "      <td>3</td>\n",
       "      <td>3</td>\n",
       "      <td>0.0</td>\n",
       "      <td>3</td>\n",
       "      <td>3</td>\n",
       "      <td>0.0</td>\n",
       "      <td>0.0</td>\n",
       "      <td>3</td>\n",
       "      <td>3</td>\n",
       "      <td>2</td>\n",
       "    </tr>\n",
       "    <tr>\n",
       "      <th>1</th>\n",
       "      <td>0.0</td>\n",
       "      <td>0.0</td>\n",
       "      <td>0.0</td>\n",
       "      <td>0.0</td>\n",
       "      <td>0.0</td>\n",
       "      <td>1988</td>\n",
       "      <td>sct_248153007</td>\n",
       "      <td>lnc_67162-8_X</td>\n",
       "      <td>0.0</td>\n",
       "      <td>sct_13393600</td>\n",
       "      <td>...</td>\n",
       "      <td>3</td>\n",
       "      <td>3</td>\n",
       "      <td>0.0</td>\n",
       "      <td>3</td>\n",
       "      <td>3</td>\n",
       "      <td>0.0</td>\n",
       "      <td>0.0</td>\n",
       "      <td>3</td>\n",
       "      <td>3</td>\n",
       "      <td>2</td>\n",
       "    </tr>\n",
       "    <tr>\n",
       "      <th>1</th>\n",
       "      <td>0.0</td>\n",
       "      <td>0.0</td>\n",
       "      <td>0.0</td>\n",
       "      <td>0.0</td>\n",
       "      <td>0.0</td>\n",
       "      <td>2008</td>\n",
       "      <td>sct_248153007</td>\n",
       "      <td>lnc_67162-8_X</td>\n",
       "      <td>0.0</td>\n",
       "      <td>sct_13393600</td>\n",
       "      <td>...</td>\n",
       "      <td>3</td>\n",
       "      <td>3</td>\n",
       "      <td>0.0</td>\n",
       "      <td>3</td>\n",
       "      <td>3</td>\n",
       "      <td>0.0</td>\n",
       "      <td>0.0</td>\n",
       "      <td>3</td>\n",
       "      <td>3</td>\n",
       "      <td>2</td>\n",
       "    </tr>\n",
       "    <tr>\n",
       "      <th>1</th>\n",
       "      <td>0.0</td>\n",
       "      <td>0.0</td>\n",
       "      <td>0.0</td>\n",
       "      <td>0.0</td>\n",
       "      <td>0.0</td>\n",
       "      <td>2001</td>\n",
       "      <td>sct_248153007</td>\n",
       "      <td>lnc_67162-8_X</td>\n",
       "      <td>0.0</td>\n",
       "      <td>sct_13393600</td>\n",
       "      <td>...</td>\n",
       "      <td>3</td>\n",
       "      <td>3</td>\n",
       "      <td>0.0</td>\n",
       "      <td>3</td>\n",
       "      <td>3</td>\n",
       "      <td>0.0</td>\n",
       "      <td>0.0</td>\n",
       "      <td>3</td>\n",
       "      <td>3</td>\n",
       "      <td>2</td>\n",
       "    </tr>\n",
       "    <tr>\n",
       "      <th>1</th>\n",
       "      <td>0.0</td>\n",
       "      <td>0.0</td>\n",
       "      <td>0.0</td>\n",
       "      <td>0.0</td>\n",
       "      <td>0.0</td>\n",
       "      <td>2012</td>\n",
       "      <td>sct_248152002</td>\n",
       "      <td>lnc_67162-8_X</td>\n",
       "      <td>0.0</td>\n",
       "      <td>sct_13393600</td>\n",
       "      <td>...</td>\n",
       "      <td>3</td>\n",
       "      <td>3</td>\n",
       "      <td>0.0</td>\n",
       "      <td>3</td>\n",
       "      <td>3</td>\n",
       "      <td>0.0</td>\n",
       "      <td>0.0</td>\n",
       "      <td>3</td>\n",
       "      <td>3</td>\n",
       "      <td>2</td>\n",
       "    </tr>\n",
       "  </tbody>\n",
       "</table>\n",
       "<p>6 rows × 175 columns</p>\n",
       "</div>"
      ],
      "text/plain": [
       "           redcap_event_name  redcap_repeat_instrument  \\\n",
       "record_id                                                \n",
       "1                        0.0                       0.0   \n",
       "1                        0.0                       0.0   \n",
       "1                        0.0                       0.0   \n",
       "1                        0.0                       0.0   \n",
       "1                        0.0                       0.0   \n",
       "1                        0.0                       0.0   \n",
       "\n",
       "           redcap_repeat_instance  sct_422549004  sct_399423000  \\\n",
       "record_id                                                         \n",
       "1                             0.0            0.0            0.0   \n",
       "1                             0.0            0.0            0.0   \n",
       "1                             0.0            0.0            0.0   \n",
       "1                             0.0            0.0            0.0   \n",
       "1                             0.0            0.0            0.0   \n",
       "1                             0.0            0.0            0.0   \n",
       "\n",
       "           sct_184099003_y  sct_281053000    lnc_67162_8  sct_399753006  \\\n",
       "record_id                                                                 \n",
       "1                     1998  sct_248152002  lnc_67162-8_X            0.0   \n",
       "1                     2011  sct_248153007  lnc_67162-8_X            0.0   \n",
       "1                     1988  sct_248153007  lnc_67162-8_X            0.0   \n",
       "1                     2008  sct_248153007  lnc_67162-8_X            0.0   \n",
       "1                     2001  sct_248153007  lnc_67162-8_X            0.0   \n",
       "1                     2012  sct_248152002  lnc_67162-8_X            0.0   \n",
       "\n",
       "           sct_410598002  ...  w_percentile_5y denver iq_test  \\\n",
       "record_id                 ...                                   \n",
       "1           sct_13393600  ...                3      3     0.0   \n",
       "1          sct_133937008  ...                3      3     0.0   \n",
       "1           sct_13393600  ...                3      3     0.0   \n",
       "1           sct_13393600  ...                3      3     0.0   \n",
       "1           sct_13393600  ...                3      3     0.0   \n",
       "1           sct_13393600  ...                3      3     0.0   \n",
       "\n",
       "           mentale_retardierung  motorik_untersuchung  groesse_vater  \\\n",
       "record_id                                                              \n",
       "1                             3                     3            0.0   \n",
       "1                             3                     3            0.0   \n",
       "1                             3                     3            0.0   \n",
       "1                             3                     3            0.0   \n",
       "1                             3                     3            0.0   \n",
       "1                             3                     3            0.0   \n",
       "\n",
       "          groesse_mutter  erw_gen_zielgroesse_2  auffaellige_entwicklung  \\\n",
       "record_id                                                                  \n",
       "1                    0.0                      3                        3   \n",
       "1                    0.0                      3                        3   \n",
       "1                    0.0                      3                        3   \n",
       "1                    0.0                      3                        3   \n",
       "1                    0.0                      3                        3   \n",
       "1                    0.0                      3                        3   \n",
       "\n",
       "           mc4r_demographics_complete  \n",
       "record_id                              \n",
       "1                                   2  \n",
       "1                                   2  \n",
       "1                                   2  \n",
       "1                                   2  \n",
       "1                                   2  \n",
       "1                                   2  \n",
       "\n",
       "[6 rows x 175 columns]"
      ]
     },
     "execution_count": 2,
     "metadata": {},
     "output_type": "execute_result"
    }
   ],
   "source": [
    "fpath_synthdata = 'sdv_synthetic_data.csv'\n",
    "fpath_measurements = 'mc4r_weight_course.csv'\n",
    "# can create synth data with import  template (in /data)\n",
    "\n",
    "\n",
    "synthdata = pd.read_csv(fpath_synthdata, index_col='record_id').sort_index()\n",
    "synthdata.head(6)"
   ]
  },
  {
   "cell_type": "markdown",
   "id": "46dd018e-8ef1-42a7-b315-d6aa7ae8964b",
   "metadata": {},
   "source": [
    " "
   ]
  },
  {
   "cell_type": "markdown",
   "id": "529aa96b-c98a-45cd-bc52-ea6005a8d6fe",
   "metadata": {
    "tags": []
   },
   "source": [
    "### Mapping: **Age**, **Sex**, **Agerange**, **Disease Onset**, **Date Diagnosis**"
   ]
  },
  {
   "cell_type": "code",
   "execution_count": 3,
   "id": "84ef7a36-95a9-40db-9749-f845a972adea",
   "metadata": {
    "tags": []
   },
   "outputs": [],
   "source": [
    "def parse_erker_date_of_birth(age) -> Timestamp: \n",
    "    \"\"\"\n",
    "    col 6: sct_184099003_y / Birthyear\n",
    "    \n",
    "    The value should be an int or str, e.g. 2004\n",
    "    \"\"\"\n",
    "    if isinstance(age, int):\n",
    "        age = str(age)\n",
    "    elif isinstance(age, str):\n",
    "        pass\n",
    "    else:\n",
    "        raise ValueError(f'Expected either int or str but got {type(age)}')\n",
    "        \n",
    "    dob = datetime.strptime(age, '%Y')\n",
    "    ts = dob.timestamp()  # ts is a float\n",
    "    seconds = math.floor(ts)\n",
    "    nanos = math.floor((ts-seconds) * 1e9) \n",
    "    return Timestamp(seconds=seconds, nanos=nanos)"
   ]
  },
  {
   "cell_type": "code",
   "execution_count": 4,
   "id": "4fad7951-1207-4f42-9cf9-7100f926c34e",
   "metadata": {
    "tags": []
   },
   "outputs": [],
   "source": [
    "def parse_erker_sex(sex): \n",
    "    \"\"\"\n",
    "    col 8: sct_281053000 / Sex at birth\n",
    "    \"\"\"\n",
    "    sexdict = {\n",
    "        'sct_248152002': 'FEMALE',\n",
    "        'sct_248153007': 'MALE',\n",
    "        \n",
    "        'sct_184115007': 'OTHER_SEX',  # Unbestimmt\n",
    "        'sct_33791000087105': 'OTHER_SEX',  # Divers\n",
    "        'sct_394743007_foetus': 'UNKNOWN_SEX'  # Fötus (unbekannt)\n",
    "    }\n",
    "    if sex in sexdict: \n",
    "        return sexdict[sex]\n",
    "    else:\n",
    "        raise ValueError(f'Unknown sex value {sex}')"
   ]
  },
  {
   "cell_type": "code",
   "execution_count": 5,
   "id": "7fdf936a-7143-4d54-a98c-bf9ba67566bf",
   "metadata": {
    "tags": []
   },
   "outputs": [],
   "source": [
    "def parse_erker_agerange(age_range): \n",
    "    \"\"\"\n",
    "    col 11: sct_410598002 / age category\n",
    "    \"\"\"\n",
    "    if age_range == 'sct_133931009':\n",
    "        start = Age(iso8601duration='P0Y')\n",
    "        end = Age(iso8601duration='P1Y')\n",
    "    elif age_range == 'sct_410602000':\n",
    "        start = Age(iso8601duration='P1Y')\n",
    "        end = Age(iso8601duration='P6Y')\n",
    "    elif age_range == 'sct_410600008':\n",
    "        start = Age(iso8601duration='P6Y')\n",
    "        end = Age(iso8601duration='P12Y')\n",
    "    elif age_range == 'sct_133937008':\n",
    "        start = Age(iso8601duration='P12Y')\n",
    "        end = Age(iso8601duration='P18Y')\n",
    "    elif age_range == 'sct_13393600':\n",
    "        start = Age(iso8601duration='P18Y')\n",
    "        end = Age(iso8601duration='P99Y')\n",
    "    else:\n",
    "        print(f'lnc_67162-8_X {age_range}')\n",
    "        return None\n",
    "    \n",
    "    return AgeRange(start=start, end=end)"
   ]
  },
  {
   "cell_type": "code",
   "execution_count": 6,
   "id": "4dc051c3-31af-42b9-862f-d99c6b2bb602",
   "metadata": {
    "tags": []
   },
   "outputs": [],
   "source": [
    "def parse_erker_onset(onset):\n",
    "    \"\"\"\n",
    "    col14: sct_424850005 / Disease onset (Symptoms)\n",
    "    \"\"\"\n",
    "    onset_dict = {\n",
    "        'sct_118189007': 'HP:0030674', #Antenatal onset\n",
    "        'sct_364586004': 'HP:0003577', #Congenital onset\n",
    "        'sct_424850005': 'HP:0003674', #onset_date #onset\n",
    "    }\n",
    "    return onset_dict.get(onset, f'Unknown onset value {onset}')"
   ]
  },
  {
   "cell_type": "code",
   "execution_count": 7,
   "id": "c6fe8aef-0aee-444b-81ec-69949f29f85c",
   "metadata": {
    "tags": []
   },
   "outputs": [],
   "source": [
    "def parse_erker_datediagnosis(age_dg):\n",
    "    \"\"\"\n",
    "    col 18: sct_423493009 / age of diagnosis\n",
    "    col 19-21: sct_423493009_y,_m,_d / Date_diagnosis\n",
    "    \"\"\"\n",
    "    datediagnosis_dict: {'sct_424850005' : 'Date_diagnois'}\n",
    "    \n",
    "    \n",
    "    if age_dg in datediagnosis_dict:         \n",
    "        return Age(iso8601duration=f'P{age_dg.y}Y{age_dg.m}M')\n",
    "    else:\n",
    "        raise ValueError(f'Unknown disease date value {age_dg}')  \n",
    "\n",
    "        "
   ]
  },
  {
   "cell_type": "markdown",
   "id": "0990fdbb-c5f7-43e3-b219-65a87e9e6ccb",
   "metadata": {
    "tags": []
   },
   "source": [
    "## Map categorical data"
   ]
  },
  {
   "cell_type": "markdown",
   "id": "28597ce0-7c33-4739-af12-631c048175e5",
   "metadata": {},
   "source": [
    "### Mapping: **Zygosity**, **HGNC**, **HGVS**, **Phenotype**"
   ]
  },
  {
   "cell_type": "markdown",
   "id": "c5942c2a-3351-4a7c-b145-901ce8911915",
   "metadata": {},
   "source": [
    "**HGNC**: mapped without a function since all individuals have the same HGNC code"
   ]
  },
  {
   "cell_type": "markdown",
   "id": "0600025c-7f86-4de9-ba1e-2db3abb0040f",
   "metadata": {},
   "source": [
    "**Phenotype**: calculate Class 1-3 obesity from measurements https://hpo.jax.org/app/browse/term/HP:0001513 "
   ]
  },
  {
   "cell_type": "code",
   "execution_count": 8,
   "id": "b4922059-3f62-4b13-a719-1d469182d0c3",
   "metadata": {
    "tags": []
   },
   "outputs": [],
   "source": [
    "def parse_erker_zygosity(f, col1, col2):\n",
    "    zygosity_dict = {'sct_22061001': 'homozygous', 'sct_14556007': 'heterozygous'}\n",
    "    reader = csv.DictReader(f)\n",
    "    for row in reader:\n",
    "        if row[col1] in zygosity_dict or row[col2] in zygosity_dict:\n",
    "            if row[col1] in zygosity_dict:\n",
    "                return zygosity_dict[row[col1]]\n",
    "            else:\n",
    "                return zygosity_dict[row[col2]]\n",
    "    return None\n",
    "\n",
    "# Example usage\n",
    "with open('sdv_synthetic_data.csv', 'r') as f:\n",
    "      value = parse_erker_zygosity(f, 'ln_55198_6___sct_22061001', 'ln_55198_6___sct_14556007')\n",
    "\n",
    "#if zygosity == \"sct_22061001\":\n",
    " #       variantInterpretation = allelicState(id=\"GENO:0000136\", label=\"homozygous\")\n",
    "  #  elif zygosity == \"sct_14556007\": \n",
    "#        variantInterpretation = allelicStat(id=\"GENO:0000135\", label=\"heterozygous\")\n",
    " #   elif zygosity == \"homoplasmy\": \n",
    "  #      variantInterpretation = allelicStat(id=\"GENO:0000602\", label=\"homoplasmic\")\n",
    "#    elif zygosity == \"heteroplasmy\": \n",
    " #       variantInterpretation = allelicStat(id=\"GENO:0000603\", label=\"heteroplasmic\")\n",
    "  #  elif zygosity == \"sct_1220561009\" \n",
    " #       return None "
   ]
  },
  {
   "cell_type": "code",
   "execution_count": 9,
   "id": "92670f0c-093a-4908-90c7-5508d706cae6",
   "metadata": {
    "tags": []
   },
   "outputs": [],
   "source": [
    "#def parse_erker_hgvs(hgvs):\n",
    "    \n",
    "    "
   ]
  },
  {
   "cell_type": "markdown",
   "id": "c691f6fd-fb08-4cd2-b5df-0d754083256d",
   "metadata": {
    "tags": []
   },
   "source": [
    "### Creating: **Disease**, **Individual**, **Phenotyping_feature**"
   ]
  },
  {
   "cell_type": "markdown",
   "id": "1a6eddc1-77c2-4925-ac8a-0414823ccfe5",
   "metadata": {
    "tags": []
   },
   "source": [
    "**diagnosis**: all directly into phenopackets"
   ]
  },
  {
   "cell_type": "markdown",
   "id": "3b09cc59-eda9-437c-ac4b-02a2dbb527cb",
   "metadata": {},
   "source": [
    " \n",
    "  \n",
    "   "
   ]
  },
  {
   "cell_type": "markdown",
   "id": "9094d3b7-66d8-410c-920c-ba2af878188d",
   "metadata": {
    "tags": []
   },
   "source": [
    "## Map & Create MC4R weight_course"
   ]
  },
  {
   "cell_type": "markdown",
   "id": "052f818f-03d9-47e3-99ee-6fa0db1e465f",
   "metadata": {},
   "source": [
    "### Mapping **Measurements**: weight, height, age"
   ]
  },
  {
   "cell_type": "raw",
   "id": "9942a20d-ffda-4e33-b81a-5e28dfc59378",
   "metadata": {},
   "source": [
    "def parse_measurements(weight_col, height_col)                \n",
    "    if weight_col == \"Weight-Birth\\nkg\" and height_col == \"Height-Birth\\ncm\"\n",
    "            age = 'P0Y0M'\n",
    "    elif weight_col == \"Weight - U6\\nkg\" and height_col == \"Height-U6\\ncm\"\n",
    "            age = 'P1Y0M'\n",
    "    elif weight_col == \"Weight-U7\\nkg\" and height_col == \"Height-U7\\ncm\"\n",
    "            age = 'P2Y0M'\n",
    "    elif weight_col == \"Weight-U7a\\nkg\" and height_col == \"Height-U7a\\ncm\"\n",
    "            age = 'P3Y0M'\n",
    "    elif weight_col == \"Weight-U8\\nkg\" and height_col == \"Height-U8\\ncm\"\n",
    "            age = 'P4Y0M'\n",
    "    elif weight_col == \"Weight-U9\\nkg\" and height_col == \"Height-U9\\ncm\"\n",
    "            age = 'P5Y0M'\n",
    "    elif weight_col == \"Weight- 6y\\nkg\" and height_col == \"Height- 6y\\ncm\"\n",
    "            age = 'P6Y0M'\n",
    "    elif weight_col == \"Weight-9y\\nkg\" and height_col == \"Height 9y\\ncm\"\n",
    "            age = 'P9Y0M'\n",
    "    elif weight_col == \"Weight-12y\\nkg\" and height_col == \"Height-12y\\ncm\"\n",
    "            age = 'P12Y0M'\n",
    "    elif weight_col == \"Weight-15y\\nkg\" and height_col == \"Height-15y\\ncm\"\n",
    "            age = 'P15Y0M'\n",
    "    elif weight_col == \"Weight-18y\\nkg\" and height_col == \"Height-18y\\ncm\"\n",
    "            age = 'P18Y0M'    \n",
    "    else weight_col == \"Weight -21y\\nkg\" and height_col == \"Height-21y\\ncm\"\n",
    "            age = 'P21Y0M'"
   ]
  },
  {
   "cell_type": "markdown",
   "id": "d16bda71-eb7b-41a2-bb57-385afe653aeb",
   "metadata": {},
   "source": [
    "### Creating **Measurements**: weight, height, age"
   ]
  },
  {
   "cell_type": "code",
   "execution_count": 10,
   "id": "af627dc9-c7b2-482e-a2fd-996aee8f8ed9",
   "metadata": {},
   "outputs": [],
   "source": [
    "# create method with all the columns\n",
    "#kg=OntologyClass(unit='UCUM:kg', label='kilogram'\n",
    "\n",
    "def create_measurements(weight_col: str, height_col: str, age_col:str):\n",
    "    # Process weight\n",
    "    assay = OntologyClass(id='LOINC:3141-9', label='Body weight Measured') \n",
    "    value = weight_col if isinstance(weight_col, float) else float(weight_col)\n",
    "    quantity = Quantity(unit=kg, value=value)\n",
    "    \n",
    "    assay = OntologyClass(id='LOINC:3137-7', label='Body height Measured')\n",
    "    value = weight_col if isinstance(height_col, float) else float(height)\n",
    "    quantity = Quantity(unit=cm, value=value)\n",
    "    \n",
    "    "
   ]
  },
  {
   "cell_type": "code",
   "execution_count": null,
   "id": "f4e56bc5-9e67-45a8-b552-f4b47a9c0432",
   "metadata": {},
   "outputs": [],
   "source": []
  },
  {
   "cell_type": "markdown",
   "id": "11a814fe-6ace-4754-9d72-aa386637ce3f",
   "metadata": {
    "tags": []
   },
   "source": [
    "# Load data dictionary\n",
    "\n",
    "Load the XLSX data dictionary file into a data frame."
   ]
  },
  {
   "cell_type": "code",
   "execution_count": 11,
   "id": "12ffd01c-f6fa-4438-8ee2-b85ce3c48ce3",
   "metadata": {},
   "outputs": [
    {
     "data": {
      "text/html": [
       "<div>\n",
       "<style scoped>\n",
       "    .dataframe tbody tr th:only-of-type {\n",
       "        vertical-align: middle;\n",
       "    }\n",
       "\n",
       "    .dataframe tbody tr th {\n",
       "        vertical-align: top;\n",
       "    }\n",
       "\n",
       "    .dataframe thead th {\n",
       "        text-align: right;\n",
       "    }\n",
       "</style>\n",
       "<table border=\"1\" class=\"dataframe\">\n",
       "  <thead>\n",
       "    <tr style=\"text-align: right;\">\n",
       "      <th></th>\n",
       "      <th>Form Name</th>\n",
       "      <th>Section Header</th>\n",
       "      <th>Field Type</th>\n",
       "      <th>Field Label</th>\n",
       "      <th>Choices, Calculations, OR Slider Labels</th>\n",
       "      <th>Field Note</th>\n",
       "      <th>Text Validation Type OR Show Slider Number</th>\n",
       "      <th>Text Validation Min</th>\n",
       "      <th>Text Validation Max</th>\n",
       "      <th>Identifier?</th>\n",
       "      <th>Branching Logic (Show field only if...)</th>\n",
       "      <th>Required Field?</th>\n",
       "      <th>Custom Alignment</th>\n",
       "      <th>Question Number (surveys only)</th>\n",
       "      <th>Matrix Group Name</th>\n",
       "      <th>Matrix Ranking?</th>\n",
       "      <th>Field Annotation</th>\n",
       "    </tr>\n",
       "    <tr>\n",
       "      <th>Variable / Field Name</th>\n",
       "      <th></th>\n",
       "      <th></th>\n",
       "      <th></th>\n",
       "      <th></th>\n",
       "      <th></th>\n",
       "      <th></th>\n",
       "      <th></th>\n",
       "      <th></th>\n",
       "      <th></th>\n",
       "      <th></th>\n",
       "      <th></th>\n",
       "      <th></th>\n",
       "      <th></th>\n",
       "      <th></th>\n",
       "      <th></th>\n",
       "      <th></th>\n",
       "      <th></th>\n",
       "    </tr>\n",
       "  </thead>\n",
       "  <tbody>\n",
       "    <tr>\n",
       "      <th>dg_biomarker</th>\n",
       "      <td>erker_v12</td>\n",
       "      <td>NaN</td>\n",
       "      <td>dropdown</td>\n",
       "      <td>6.2.4 Gesicherte Diagnose anhand spezifischer ...</td>\n",
       "      <td>sct_373066001, Ja | sct_373067005, Nein | sct_...</td>\n",
       "      <td>Bitte angeben, ob eine gesicherte Diagnose anh...</td>\n",
       "      <td>NaN</td>\n",
       "      <td>NaN</td>\n",
       "      <td>NaN</td>\n",
       "      <td>NaN</td>\n",
       "      <td>NaN</td>\n",
       "      <td>NaN</td>\n",
       "      <td>NaN</td>\n",
       "      <td>NaN</td>\n",
       "      <td>NaN</td>\n",
       "      <td>NaN</td>\n",
       "      <td>NaN</td>\n",
       "    </tr>\n",
       "    <tr>\n",
       "      <th>dg_biomarker_befund</th>\n",
       "      <td>erker_v12</td>\n",
       "      <td>NaN</td>\n",
       "      <td>text</td>\n",
       "      <td>6.2.4A Biomarker Befund\\n</td>\n",
       "      <td>NaN</td>\n",
       "      <td>Bitte Biomarker Befund angeben</td>\n",
       "      <td>NaN</td>\n",
       "      <td>NaN</td>\n",
       "      <td>NaN</td>\n",
       "      <td>NaN</td>\n",
       "      <td>[dg_biomarker] = \"sct_373066001\"</td>\n",
       "      <td>NaN</td>\n",
       "      <td>NaN</td>\n",
       "      <td>NaN</td>\n",
       "      <td>NaN</td>\n",
       "      <td>NaN</td>\n",
       "      <td>NaN</td>\n",
       "    </tr>\n",
       "  </tbody>\n",
       "</table>\n",
       "</div>"
      ],
      "text/plain": [
       "                       Form Name Section Header Field Type  \\\n",
       "Variable / Field Name                                        \n",
       "dg_biomarker           erker_v12            NaN   dropdown   \n",
       "dg_biomarker_befund    erker_v12            NaN       text   \n",
       "\n",
       "                                                             Field Label  \\\n",
       "Variable / Field Name                                                      \n",
       "dg_biomarker           6.2.4 Gesicherte Diagnose anhand spezifischer ...   \n",
       "dg_biomarker_befund                            6.2.4A Biomarker Befund\\n   \n",
       "\n",
       "                                 Choices, Calculations, OR Slider Labels  \\\n",
       "Variable / Field Name                                                      \n",
       "dg_biomarker           sct_373066001, Ja | sct_373067005, Nein | sct_...   \n",
       "dg_biomarker_befund                                                  NaN   \n",
       "\n",
       "                                                              Field Note  \\\n",
       "Variable / Field Name                                                      \n",
       "dg_biomarker           Bitte angeben, ob eine gesicherte Diagnose anh...   \n",
       "dg_biomarker_befund                       Bitte Biomarker Befund angeben   \n",
       "\n",
       "                      Text Validation Type OR Show Slider Number  \\\n",
       "Variable / Field Name                                              \n",
       "dg_biomarker                                                 NaN   \n",
       "dg_biomarker_befund                                          NaN   \n",
       "\n",
       "                       Text Validation Min  Text Validation Max Identifier?  \\\n",
       "Variable / Field Name                                                         \n",
       "dg_biomarker                           NaN                  NaN         NaN   \n",
       "dg_biomarker_befund                    NaN                  NaN         NaN   \n",
       "\n",
       "                      Branching Logic (Show field only if...) Required Field?  \\\n",
       "Variable / Field Name                                                           \n",
       "dg_biomarker                                              NaN             NaN   \n",
       "dg_biomarker_befund          [dg_biomarker] = \"sct_373066001\"             NaN   \n",
       "\n",
       "                       Custom Alignment  Question Number (surveys only)  \\\n",
       "Variable / Field Name                                                     \n",
       "dg_biomarker                        NaN                             NaN   \n",
       "dg_biomarker_befund                 NaN                             NaN   \n",
       "\n",
       "                      Matrix Group Name  Matrix Ranking? Field Annotation  \n",
       "Variable / Field Name                                                      \n",
       "dg_biomarker                        NaN              NaN              NaN  \n",
       "dg_biomarker_befund                 NaN              NaN              NaN  "
      ]
     },
     "execution_count": 11,
     "metadata": {},
     "output_type": "execute_result"
    }
   ],
   "source": [
    "fpath_datadict = 'ERKER_v1.2_DataDictionary.xlsx'\n",
    "ddict = pd.read_excel(fpath_datadict, index_col='Variable / Field Name').sort_index()\n",
    "ddict.head(2)"
   ]
  },
  {
   "cell_type": "markdown",
   "id": "c769bef8-1f73-450f-876e-e853b822121c",
   "metadata": {
    "tags": []
   },
   "source": [
    "# Process synthetic dataset\n",
    "\n",
    "## Load dataset into dataframe"
   ]
  },
  {
   "cell_type": "code",
   "execution_count": 12,
   "id": "8077f4d7-3f60-4ead-9217-b12149f26482",
   "metadata": {},
   "outputs": [
    {
     "data": {
      "text/html": [
       "<div>\n",
       "<style scoped>\n",
       "    .dataframe tbody tr th:only-of-type {\n",
       "        vertical-align: middle;\n",
       "    }\n",
       "\n",
       "    .dataframe tbody tr th {\n",
       "        vertical-align: top;\n",
       "    }\n",
       "\n",
       "    .dataframe thead th {\n",
       "        text-align: right;\n",
       "    }\n",
       "</style>\n",
       "<table border=\"1\" class=\"dataframe\">\n",
       "  <thead>\n",
       "    <tr style=\"text-align: right;\">\n",
       "      <th></th>\n",
       "      <th>redcap_event_name</th>\n",
       "      <th>redcap_repeat_instrument</th>\n",
       "      <th>redcap_repeat_instance</th>\n",
       "      <th>sct_422549004</th>\n",
       "      <th>sct_399423000</th>\n",
       "      <th>sct_184099003_y</th>\n",
       "      <th>sct_281053000</th>\n",
       "      <th>lnc_67162_8</th>\n",
       "      <th>sct_399753006</th>\n",
       "      <th>sct_410598002</th>\n",
       "      <th>...</th>\n",
       "      <th>w_percentile_5y</th>\n",
       "      <th>denver</th>\n",
       "      <th>iq_test</th>\n",
       "      <th>mentale_retardierung</th>\n",
       "      <th>motorik_untersuchung</th>\n",
       "      <th>groesse_vater</th>\n",
       "      <th>groesse_mutter</th>\n",
       "      <th>erw_gen_zielgroesse_2</th>\n",
       "      <th>auffaellige_entwicklung</th>\n",
       "      <th>mc4r_demographics_complete</th>\n",
       "    </tr>\n",
       "    <tr>\n",
       "      <th>record_id</th>\n",
       "      <th></th>\n",
       "      <th></th>\n",
       "      <th></th>\n",
       "      <th></th>\n",
       "      <th></th>\n",
       "      <th></th>\n",
       "      <th></th>\n",
       "      <th></th>\n",
       "      <th></th>\n",
       "      <th></th>\n",
       "      <th></th>\n",
       "      <th></th>\n",
       "      <th></th>\n",
       "      <th></th>\n",
       "      <th></th>\n",
       "      <th></th>\n",
       "      <th></th>\n",
       "      <th></th>\n",
       "      <th></th>\n",
       "      <th></th>\n",
       "      <th></th>\n",
       "    </tr>\n",
       "  </thead>\n",
       "  <tbody>\n",
       "    <tr>\n",
       "      <th>1</th>\n",
       "      <td>0.0</td>\n",
       "      <td>0.0</td>\n",
       "      <td>0.0</td>\n",
       "      <td>0.0</td>\n",
       "      <td>0.0</td>\n",
       "      <td>1998</td>\n",
       "      <td>sct_248152002</td>\n",
       "      <td>lnc_67162-8_X</td>\n",
       "      <td>0.0</td>\n",
       "      <td>sct_13393600</td>\n",
       "      <td>...</td>\n",
       "      <td>3</td>\n",
       "      <td>3</td>\n",
       "      <td>0.0</td>\n",
       "      <td>3</td>\n",
       "      <td>3</td>\n",
       "      <td>0.0</td>\n",
       "      <td>0.0</td>\n",
       "      <td>3</td>\n",
       "      <td>3</td>\n",
       "      <td>2</td>\n",
       "    </tr>\n",
       "    <tr>\n",
       "      <th>1</th>\n",
       "      <td>0.0</td>\n",
       "      <td>0.0</td>\n",
       "      <td>0.0</td>\n",
       "      <td>0.0</td>\n",
       "      <td>0.0</td>\n",
       "      <td>2011</td>\n",
       "      <td>sct_248153007</td>\n",
       "      <td>lnc_67162-8_X</td>\n",
       "      <td>0.0</td>\n",
       "      <td>sct_133937008</td>\n",
       "      <td>...</td>\n",
       "      <td>3</td>\n",
       "      <td>3</td>\n",
       "      <td>0.0</td>\n",
       "      <td>3</td>\n",
       "      <td>3</td>\n",
       "      <td>0.0</td>\n",
       "      <td>0.0</td>\n",
       "      <td>3</td>\n",
       "      <td>3</td>\n",
       "      <td>2</td>\n",
       "    </tr>\n",
       "  </tbody>\n",
       "</table>\n",
       "<p>2 rows × 175 columns</p>\n",
       "</div>"
      ],
      "text/plain": [
       "           redcap_event_name  redcap_repeat_instrument  \\\n",
       "record_id                                                \n",
       "1                        0.0                       0.0   \n",
       "1                        0.0                       0.0   \n",
       "\n",
       "           redcap_repeat_instance  sct_422549004  sct_399423000  \\\n",
       "record_id                                                         \n",
       "1                             0.0            0.0            0.0   \n",
       "1                             0.0            0.0            0.0   \n",
       "\n",
       "           sct_184099003_y  sct_281053000    lnc_67162_8  sct_399753006  \\\n",
       "record_id                                                                 \n",
       "1                     1998  sct_248152002  lnc_67162-8_X            0.0   \n",
       "1                     2011  sct_248153007  lnc_67162-8_X            0.0   \n",
       "\n",
       "           sct_410598002  ...  w_percentile_5y denver iq_test  \\\n",
       "record_id                 ...                                   \n",
       "1           sct_13393600  ...                3      3     0.0   \n",
       "1          sct_133937008  ...                3      3     0.0   \n",
       "\n",
       "           mentale_retardierung  motorik_untersuchung  groesse_vater  \\\n",
       "record_id                                                              \n",
       "1                             3                     3            0.0   \n",
       "1                             3                     3            0.0   \n",
       "\n",
       "          groesse_mutter  erw_gen_zielgroesse_2  auffaellige_entwicklung  \\\n",
       "record_id                                                                  \n",
       "1                    0.0                      3                        3   \n",
       "1                    0.0                      3                        3   \n",
       "\n",
       "           mc4r_demographics_complete  \n",
       "record_id                              \n",
       "1                                   2  \n",
       "1                                   2  \n",
       "\n",
       "[2 rows x 175 columns]"
      ]
     },
     "execution_count": 12,
     "metadata": {},
     "output_type": "execute_result"
    }
   ],
   "source": [
    "fpath_synthdata = 'sdv_synthetic_data.csv'\n",
    "\n",
    "synthdata = pd.read_csv(fpath_synthdata, index_col='record_id').sort_index()\n",
    "synthdata.head(2)"
   ]
  },
  {
   "cell_type": "markdown",
   "id": "021883b7-4d98-4859-bb67-364e3a17fa37",
   "metadata": {},
   "source": [
    "## Explore the synthetic dataset\n",
    "\n",
    "### Dataset shape"
   ]
  },
  {
   "cell_type": "code",
   "execution_count": 13,
   "id": "fc89e570-5bd6-466d-b220-6e535e0cfe56",
   "metadata": {},
   "outputs": [
    {
     "data": {
      "text/plain": [
       "(98, 175)"
      ]
     },
     "execution_count": 13,
     "metadata": {},
     "output_type": "execute_result"
    }
   ],
   "source": [
    "synthdata.shape"
   ]
  },
  {
   "cell_type": "markdown",
   "id": "4a526f6b-2182-4ed2-ace6-7b0e69e36d38",
   "metadata": {
    "tags": []
   },
   "source": [
    "### `record_id` column\n",
    "\n",
    "What is the meaning of the `record_id` column? Can we use it as an index?\n",
    "\n",
    "`record_id` is not unique, it is present in >1 rows. The rows with the same `record_id` do not seem to represent the same patient since the date of birth (`sct_184099003_y`) is different."
   ]
  },
  {
   "cell_type": "code",
   "execution_count": 14,
   "id": "08848b91-48ba-42be-a1b6-540ac183eb63",
   "metadata": {},
   "outputs": [
    {
     "data": {
      "image/png": "[encoded data removed]",
      "text/plain": [
       "<Figure size 720x480 with 1 Axes>"
      ]
     },
     "metadata": {},
     "output_type": "display_data"
    }
   ],
   "source": [
    "fig, ax = plt.subplots(**figargs)\n",
    "\n",
    "data = synthdata.groupby('record_id').size().value_counts().sort_index()\n",
    "\n",
    "ax.bar(data.index, data)\n",
    "ax.set(xlabel='record counts', ylabel='# records')\n",
    "\n",
    "fig.tight_layout()"
   ]
  },
  {
   "cell_type": "markdown",
   "id": "6002e471-6544-4af9-949f-c49a10a425d3",
   "metadata": {},
   "source": [
    "### Genes\n",
    "\n",
    "What genes do we have in the dataset?"
   ]
  },
  {
   "cell_type": "code",
   "execution_count": 15,
   "id": "bbfd0e38-adf3-4a5c-b8dd-878b10f91ca6",
   "metadata": {},
   "outputs": [
    {
     "data": {
      "text/plain": [
       "array(['HGNC:6932'], dtype=object)"
      ]
     },
     "execution_count": 15,
     "metadata": {},
     "output_type": "execute_result"
    }
   ],
   "source": [
    "genes = synthdata.loc[:, synthdata.columns.str.match(r'ln_47999_8_hgnc_\\d')]\\\n",
    "  .melt(ignore_index=False)\\\n",
    "  .loc[lambda x: x['value'].str.contains('^HGNC:.*', na=False), 'value']\n",
    "genes.unique()"
   ]
  },
  {
   "cell_type": "markdown",
   "id": "d705136b-d224-4e92-913a-103c7e8e8c0c",
   "metadata": {},
   "source": [
    "## Orchestrate the mapping \n",
    "\n",
    "Let's iterate over the dataset rows and map the data into phenopackets. We use the functions defined above."
   ]
  },
  {
   "cell_type": "code",
   "execution_count": 16,
   "id": "9f04e2fc-05c5-461c-bced-1090e60d0600",
   "metadata": {},
   "outputs": [],
   "source": [
    "def get_resource(id:str, name:str, namespace_prefix:str, url:str, version:str, iri_prefix:str) -> Resource:\n",
    "    \"\"\"A convenience method to create a Phenopacket Schema resource.\"\"\"\n",
    "    return Resource(id=id, name=name, namespace_prefix=namespace_prefix, url=url, version=version, iri_prefix=iri_prefix)"
   ]
  },
  {
   "cell_type": "code",
   "execution_count": 17,
   "id": "844d1247-a801-4d34-abd5-e9a9507da118",
   "metadata": {},
   "outputs": [
    {
     "name": "stdout",
     "output_type": "stream",
     "text": [
      "Mapped 98 phenopackets\n"
     ]
    }
   ],
   "source": [
    "pps = []\n",
    "# TODO: das hier ist am wichtigsten zu verstehen\n",
    "# vorher quasi nur mapping, hier zusammensetzen\n",
    "for i, (idx, row) in enumerate(synthdata.iterrows()):\n",
    "    ## Subject\n",
    "    # The elements we may consider adding:\n",
    "    #  age at last encounter, vital status, karyotypic sex, gender\n",
    "    \n",
    "    subject = Individual(\n",
    "        id=str(idx),\n",
    "        date_of_birth=parse_erker_date_of_birth(row['sct_184099003_y']),\n",
    "        sex=parse_erker_sex(row['sct_281053000']),\n",
    "        taxonomy=OntologyClass(id='NCBITaxon:9606', label='Homo sapiens')\n",
    "    )\n",
    "    \n",
    "    ## PhenotypicFeatures\n",
    "    # Unsure if it is useful to add HPO terms in this dataset, \n",
    "    #  considering we have the weight measurements.\n",
    "    phenotypicFeatures = PhenotypicFeature(\n",
    "        type=OntologyClass(id='HP:0001513', label='Obesity')\n",
    "        \n",
    "    )\n",
    "    ## Measurements\n",
    "    # TODO - the weight course\n",
    "    measurements=Measurement(\n",
    "\n",
    "    )\n",
    "    \n",
    "    ## Interpretations\n",
    "    interpretation=Interpretation(\n",
    "        id=str(idx),\n",
    "        progress_status='SOLVED',\n",
    "       # diagnosis=Diagnosis(id='ORPHA:71529', label='Obesity due to melanocortin 4 receptor deficiency'),\n",
    "    )\n",
    "    \n",
    "    # TODO - add variants\n",
    "    variantInterpretation = VariantInterpretation(\n",
    "        acmg_pathogenicity_classification='NOT_PROVIDED', #acmg will be added\n",
    "        therapeutic_actionability='UNKNOWN_ACTIONABILITY',\n",
    "      #  variant=parse_erker_hgvs()  \n",
    "        \n",
    "    )\n",
    "\n",
    "    ## Disease\n",
    "    disease = Disease(\n",
    "        term=OntologyClass(id='ORPHA:71529',label='Obesity due to melanocortin 4 receptor deficiency'),\n",
    "    #    onset=parse_erker_onset(row['sct_424850005']),\n",
    "    )\n",
    "   \n",
    "    ## MetaData\n",
    "    created = Timestamp()\n",
    "    created.GetCurrentTime()\n",
    "    \n",
    "    resources = [\n",
    "        get_resource('ncbitaxon', 'NCBI organismal classification', 'NCBITaxon', \n",
    "                     'http://purl.obolibrary.org/obo/ncbitaxon.owl', '2021-06-10', 'http://purl.obolibrary.org/obo/NCBITaxon_')\n",
    "    ]\n",
    "    \n",
    "    \n",
    "    meta_data = MetaData(\n",
    "        created=created,\n",
    "        created_by=created_by,\n",
    "        submitted_by=created_by,  # The same for simplicity\n",
    "        resources=resources,\n",
    "        phenopacket_schema_version=phenopacket_schema_version\n",
    "    )\n",
    "    \n",
    "    pp = Phenopacket(\n",
    "        id=f'{i}-{idx}',  # TODO - can we come up with a better ID?\n",
    "        subject=subject, \n",
    "        phenotypic_features=[phenotypicFeatures],\n",
    "        interpretations=[interpretation],\n",
    "        meta_data=meta_data,\n",
    "        measurements=[],\n",
    "        \n",
    "        \n",
    "\n",
    "\n",
    "\n",
    "        \n",
    "        \n",
    "    )\n",
    "    pps.append(pp)\n",
    "    \n",
    "print(f'Mapped {len(pps)} phenopackets')"
   ]
  },
  {
   "cell_type": "markdown",
   "id": "43f9c132-f007-4f71-95ab-94a5da23da89",
   "metadata": {},
   "source": [
    "## Store the phenopackets into JSON files\n",
    "\n",
    "Let's store the phenopackets into JSON files, one file per phenopacket. We store the phenopackets in `phenopackets` folder by default."
   ]
  },
  {
   "cell_type": "code",
   "execution_count": 18,
   "id": "2e6cb3c8-4e1b-4a38-bba8-8eb2de2f2cec",
   "metadata": {},
   "outputs": [],
   "source": [
    "from google.protobuf.json_format import MessageToJson\n",
    "\n",
    "# Ensure the output directory exists\n",
    "fpath_out = 'phenopackets'\n",
    "os.makedirs(fpath_out, exist_ok=True)\n",
    "\n",
    "# Write the phenopackets into JSON files\n",
    "for pp in pps:\n",
    "    json = MessageToJson(pp)\n",
    "    fpath = os.path.join(fpath_out, pp.id)\n",
    "    with open(fpath, 'w') as fh:\n",
    "        fh.write(json)"
   ]
  },
  {
   "cell_type": "markdown",
   "id": "4383fcac-84bf-4e21-b80e-541520b42a3c",
   "metadata": {},
   "source": [
    "**Done!**"
   ]
  },
  {
   "cell_type": "code",
   "execution_count": null,
   "id": "f67c3e1c-ca8d-4be4-acb3-16783473f494",
   "metadata": {},
   "outputs": [],
   "source": []
  },
  {
   "cell_type": "code",
   "execution_count": null,
   "id": "2d1b002a-8630-49a8-8e1a-7271f4396b99",
   "metadata": {},
   "outputs": [],
   "source": []
  },
  {
   "cell_type": "code",
   "execution_count": null,
   "id": "5a1d390d-ad47-4926-b619-2b5b41beff7f",
   "metadata": {},
   "outputs": [],
   "source": []
  }
 ],
 "metadata": {
  "kernelspec": {
   "display_name": "Phenopacket 'Python3.9'",
   "language": "python",
   "name": "phenopacket_venv"
  },
  "language_info": {
   "codemirror_mode": {
    "name": "ipython",
    "version": 3
   },
   "file_extension": ".py",
   "mimetype": "text/x-python",
   "name": "python",
   "nbconvert_exporter": "python",
   "pygments_lexer": "ipython3",
   "version": "3.10.6"
  }
 },
 "nbformat": 4,
 "nbformat_minor": 5
}
