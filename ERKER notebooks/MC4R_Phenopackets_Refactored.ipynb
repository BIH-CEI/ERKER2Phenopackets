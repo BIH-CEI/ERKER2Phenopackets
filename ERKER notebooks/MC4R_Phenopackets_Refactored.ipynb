{
 "cells": [
  {
   "cell_type": "markdown",
   "id": "880c1fa1-4f22-43bf-b2c5-acca74d14179",
   "metadata": {},
   "source": [
    "# Map Obesity dataset into Phenopackets"
   ]
  },
  {
   "cell_type": "markdown",
   "id": "81b59b13-cc85-4c3d-8b6f-ee0c09682eb9",
   "metadata": {
    "tags": []
   },
   "source": [
    "### Imports"
   ]
  },
  {
   "cell_type": "code",
   "execution_count": 24,
   "id": "bcba9d20-c977-4c96-9d34-1b5bb9a9d758",
   "metadata": {
    "ExecuteTime": {
     "start_time": "2023-08-23T16:08:31.990851Z",
     "end_time": "2023-08-23T16:08:32.147478Z"
    }
   },
   "outputs": [],
   "source": [
    "import math\n",
    "import os\n",
    "import csv\n",
    "from datetime import datetime\n",
    "\n",
    "import matplotlib.pyplot as plt\n",
    "import pandas as pd\n",
    "import phenopackets\n",
    "\n",
    "from google.protobuf.timestamp_pb2 import Timestamp\n",
    "from phenopackets import Individual, PhenotypicFeature, OntologyClass, Phenopacket\n",
    "from phenopackets import Measurement, Quantity\n",
    "from phenopackets import AgeRange, Age\n",
    "from phenopackets import Disease\n",
    "from phenopackets import Interpretation\n",
    "from phenopackets import MetaData, Resource\n",
    "from phenopackets import VariantInterpretation\n",
    "\n",
    "figargs = {'figsize': (6,4), 'dpi': 120}\n",
    "\n",
    "created_by = 'JoeCurator'\n",
    "\n",
    "phenopacket_schema_version = phenopackets.__version__"
   ]
  },
  {
   "cell_type": "markdown",
   "id": "3f3b0745-0440-475c-9a20-dbceaebbe385",
   "metadata": {
    "tags": []
   },
   "source": [
    "# Define mapping functions"
   ]
  },
  {
   "cell_type": "markdown",
   "id": "42c6f69b-d606-4e8b-8bdb-df6c46d97ed0",
   "metadata": {
    "jupyter": {
     "outputs_hidden": true
    },
    "tags": []
   },
   "source": [
    "## Map temporal data\n",
    "\n",
    "in brackets and # behind def functions: names of variables and columns in test_final.csv\n",
    "\n",
    "file_path: /Users/adam/Documents/BIH/Adipositas/MC4R/mapping_phenos/ERKER_MC4R_demographics_real.csv"
   ]
  },
  {
   "cell_type": "code",
   "execution_count": 25,
   "id": "665eaaac-73e5-4e1a-99b2-4aa0fed5d3b0",
   "metadata": {
    "ExecuteTime": {
     "start_time": "2023-08-23T16:08:32.006478Z",
     "end_time": "2023-08-23T16:08:32.210426Z"
    }
   },
   "outputs": [
    {
     "data": {
      "text/plain": "           redcap_event_name  redcap_repeat_instrument  \\\nrecord_id                                                \n1                        0.0                       0.0   \n1                        0.0                       0.0   \n1                        0.0                       0.0   \n1                        0.0                       0.0   \n1                        0.0                       0.0   \n1                        0.0                       0.0   \n\n           redcap_repeat_instance  sct_422549004  sct_399423000  \\\nrecord_id                                                         \n1                             0.0            0.0            0.0   \n1                             0.0            0.0            0.0   \n1                             0.0            0.0            0.0   \n1                             0.0            0.0            0.0   \n1                             0.0            0.0            0.0   \n1                             0.0            0.0            0.0   \n\n           sct_184099003_y  sct_281053000    lnc_67162_8  sct_399753006  \\\nrecord_id                                                                 \n1                     1998  sct_248152002  lnc_67162-8_X            0.0   \n1                     2011  sct_248153007  lnc_67162-8_X            0.0   \n1                     1988  sct_248153007  lnc_67162-8_X            0.0   \n1                     2008  sct_248153007  lnc_67162-8_X            0.0   \n1                     2001  sct_248153007  lnc_67162-8_X            0.0   \n1                     2012  sct_248152002  lnc_67162-8_X            0.0   \n\n           sct_410598002  ...  w_percentile_5y denver iq_test  \\\nrecord_id                 ...                                   \n1           sct_13393600  ...                3      3     0.0   \n1          sct_133937008  ...                3      3     0.0   \n1           sct_13393600  ...                3      3     0.0   \n1           sct_13393600  ...                3      3     0.0   \n1           sct_13393600  ...                3      3     0.0   \n1           sct_13393600  ...                3      3     0.0   \n\n           mentale_retardierung  motorik_untersuchung  groesse_vater  \\\nrecord_id                                                              \n1                             3                     3            0.0   \n1                             3                     3            0.0   \n1                             3                     3            0.0   \n1                             3                     3            0.0   \n1                             3                     3            0.0   \n1                             3                     3            0.0   \n\n          groesse_mutter  erw_gen_zielgroesse_2  auffaellige_entwicklung  \\\nrecord_id                                                                  \n1                    0.0                      3                        3   \n1                    0.0                      3                        3   \n1                    0.0                      3                        3   \n1                    0.0                      3                        3   \n1                    0.0                      3                        3   \n1                    0.0                      3                        3   \n\n           mc4r_demographics_complete  \nrecord_id                              \n1                                   2  \n1                                   2  \n1                                   2  \n1                                   2  \n1                                   2  \n1                                   2  \n\n[6 rows x 175 columns]",
      "text/html": "<div>\n<style scoped>\n    .dataframe tbody tr th:only-of-type {\n        vertical-align: middle;\n    }\n\n    .dataframe tbody tr th {\n        vertical-align: top;\n    }\n\n    .dataframe thead th {\n        text-align: right;\n    }\n</style>\n<table border=\"1\" class=\"dataframe\">\n  <thead>\n    <tr style=\"text-align: right;\">\n      <th></th>\n      <th>redcap_event_name</th>\n      <th>redcap_repeat_instrument</th>\n      <th>redcap_repeat_instance</th>\n      <th>sct_422549004</th>\n      <th>sct_399423000</th>\n      <th>sct_184099003_y</th>\n      <th>sct_281053000</th>\n      <th>lnc_67162_8</th>\n      <th>sct_399753006</th>\n      <th>sct_410598002</th>\n      <th>...</th>\n      <th>w_percentile_5y</th>\n      <th>denver</th>\n      <th>iq_test</th>\n      <th>mentale_retardierung</th>\n      <th>motorik_untersuchung</th>\n      <th>groesse_vater</th>\n      <th>groesse_mutter</th>\n      <th>erw_gen_zielgroesse_2</th>\n      <th>auffaellige_entwicklung</th>\n      <th>mc4r_demographics_complete</th>\n    </tr>\n    <tr>\n      <th>record_id</th>\n      <th></th>\n      <th></th>\n      <th></th>\n      <th></th>\n      <th></th>\n      <th></th>\n      <th></th>\n      <th></th>\n      <th></th>\n      <th></th>\n      <th></th>\n      <th></th>\n      <th></th>\n      <th></th>\n      <th></th>\n      <th></th>\n      <th></th>\n      <th></th>\n      <th></th>\n      <th></th>\n      <th></th>\n    </tr>\n  </thead>\n  <tbody>\n    <tr>\n      <th>1</th>\n      <td>0.0</td>\n      <td>0.0</td>\n      <td>0.0</td>\n      <td>0.0</td>\n      <td>0.0</td>\n      <td>1998</td>\n      <td>sct_248152002</td>\n      <td>lnc_67162-8_X</td>\n      <td>0.0</td>\n      <td>sct_13393600</td>\n      <td>...</td>\n      <td>3</td>\n      <td>3</td>\n      <td>0.0</td>\n      <td>3</td>\n      <td>3</td>\n      <td>0.0</td>\n      <td>0.0</td>\n      <td>3</td>\n      <td>3</td>\n      <td>2</td>\n    </tr>\n    <tr>\n      <th>1</th>\n      <td>0.0</td>\n      <td>0.0</td>\n      <td>0.0</td>\n      <td>0.0</td>\n      <td>0.0</td>\n      <td>2011</td>\n      <td>sct_248153007</td>\n      <td>lnc_67162-8_X</td>\n      <td>0.0</td>\n      <td>sct_133937008</td>\n      <td>...</td>\n      <td>3</td>\n      <td>3</td>\n      <td>0.0</td>\n      <td>3</td>\n      <td>3</td>\n      <td>0.0</td>\n      <td>0.0</td>\n      <td>3</td>\n      <td>3</td>\n      <td>2</td>\n    </tr>\n    <tr>\n      <th>1</th>\n      <td>0.0</td>\n      <td>0.0</td>\n      <td>0.0</td>\n      <td>0.0</td>\n      <td>0.0</td>\n      <td>1988</td>\n      <td>sct_248153007</td>\n      <td>lnc_67162-8_X</td>\n      <td>0.0</td>\n      <td>sct_13393600</td>\n      <td>...</td>\n      <td>3</td>\n      <td>3</td>\n      <td>0.0</td>\n      <td>3</td>\n      <td>3</td>\n      <td>0.0</td>\n      <td>0.0</td>\n      <td>3</td>\n      <td>3</td>\n      <td>2</td>\n    </tr>\n    <tr>\n      <th>1</th>\n      <td>0.0</td>\n      <td>0.0</td>\n      <td>0.0</td>\n      <td>0.0</td>\n      <td>0.0</td>\n      <td>2008</td>\n      <td>sct_248153007</td>\n      <td>lnc_67162-8_X</td>\n      <td>0.0</td>\n      <td>sct_13393600</td>\n      <td>...</td>\n      <td>3</td>\n      <td>3</td>\n      <td>0.0</td>\n      <td>3</td>\n      <td>3</td>\n      <td>0.0</td>\n      <td>0.0</td>\n      <td>3</td>\n      <td>3</td>\n      <td>2</td>\n    </tr>\n    <tr>\n      <th>1</th>\n      <td>0.0</td>\n      <td>0.0</td>\n      <td>0.0</td>\n      <td>0.0</td>\n      <td>0.0</td>\n      <td>2001</td>\n      <td>sct_248153007</td>\n      <td>lnc_67162-8_X</td>\n      <td>0.0</td>\n      <td>sct_13393600</td>\n      <td>...</td>\n      <td>3</td>\n      <td>3</td>\n      <td>0.0</td>\n      <td>3</td>\n      <td>3</td>\n      <td>0.0</td>\n      <td>0.0</td>\n      <td>3</td>\n      <td>3</td>\n      <td>2</td>\n    </tr>\n    <tr>\n      <th>1</th>\n      <td>0.0</td>\n      <td>0.0</td>\n      <td>0.0</td>\n      <td>0.0</td>\n      <td>0.0</td>\n      <td>2012</td>\n      <td>sct_248152002</td>\n      <td>lnc_67162-8_X</td>\n      <td>0.0</td>\n      <td>sct_13393600</td>\n      <td>...</td>\n      <td>3</td>\n      <td>3</td>\n      <td>0.0</td>\n      <td>3</td>\n      <td>3</td>\n      <td>0.0</td>\n      <td>0.0</td>\n      <td>3</td>\n      <td>3</td>\n      <td>2</td>\n    </tr>\n  </tbody>\n</table>\n<p>6 rows × 175 columns</p>\n</div>"
     },
     "execution_count": 25,
     "metadata": {},
     "output_type": "execute_result"
    }
   ],
   "source": [
    "synthdata_path = '../data/sdv_synthetic_data.csv'\n",
    "# can create synth data with import  template (in /data)\n",
    "\n",
    "\n",
    "synthdata = pd.read_csv(synthdata_path, index_col='record_id').sort_index()\n",
    "synthdata.head(6)"
   ]
  },
  {
   "cell_type": "markdown",
   "id": "46dd018e-8ef1-42a7-b315-d6aa7ae8964b",
   "metadata": {},
   "source": [
    " "
   ]
  },
  {
   "cell_type": "markdown",
   "id": "529aa96b-c98a-45cd-bc52-ea6005a8d6fe",
   "metadata": {
    "tags": []
   },
   "source": [
    "### Mapping: **Age**, **Sex**, **Agerange**, **Disease Onset**, **Date Diagnosis**"
   ]
  },
  {
   "cell_type": "code",
   "execution_count": 28,
   "id": "7fdf936a-7143-4d54-a98c-bf9ba67566bf",
   "metadata": {
    "tags": [],
    "ExecuteTime": {
     "start_time": "2023-08-23T16:08:32.084947Z",
     "end_time": "2023-08-23T16:08:32.226051Z"
    }
   },
   "outputs": [],
   "source": [
    "from ParseErker import parse_erker_date_of_birth\n",
    "from ParseErker import parse_erker_sex\n",
    "from ParseErker import parse_erker_agerange\n",
    "from ParseErker import parse_erker_onset\n",
    "from ParseErker import parse_erker_datediagnosis"
   ]
  },
  {
   "cell_type": "code",
   "execution_count": 30,
   "id": "c6fe8aef-0aee-444b-81ec-69949f29f85c",
   "metadata": {
    "tags": [],
    "ExecuteTime": {
     "start_time": "2023-08-23T16:08:32.116206Z",
     "end_time": "2023-08-23T16:08:32.226051Z"
    }
   },
   "outputs": [],
   "source": [
    "def parse_erker_datediagnosis(age_dg):\n",
    "    \"\"\"\n",
    "    col 18: sct_423493009 / age of diagnosis\n",
    "    col 19-21: sct_423493009_y,_m,_d / Date_diagnosis\n",
    "    \"\"\"\n",
    "    datediagnosis_dict: {'sct_424850005' : 'Date_diagnois'}\n",
    "    \n",
    "    \n",
    "    if age_dg in datediagnosis_dict:         \n",
    "        return Age(iso8601duration=f'P{age_dg.y}Y{age_dg.m}M')\n",
    "    else:\n",
    "        raise ValueError(f'Unknown disease date value {age_dg}')  \n",
    "\n",
    "        "
   ]
  },
  {
   "cell_type": "markdown",
   "id": "0990fdbb-c5f7-43e3-b219-65a87e9e6ccb",
   "metadata": {
    "tags": []
   },
   "source": [
    "## Map categorical data"
   ]
  },
  {
   "cell_type": "markdown",
   "id": "28597ce0-7c33-4739-af12-631c048175e5",
   "metadata": {},
   "source": [
    "### Mapping: **Zygosity**, **HGNC**, **HGVS**, **Phenotype**"
   ]
  },
  {
   "cell_type": "markdown",
   "id": "c5942c2a-3351-4a7c-b145-901ce8911915",
   "metadata": {},
   "source": [
    "**HGNC**: mapped without a function since all individuals have the same HGNC code"
   ]
  },
  {
   "cell_type": "markdown",
   "id": "0600025c-7f86-4de9-ba1e-2db3abb0040f",
   "metadata": {},
   "source": [
    "**Phenotype**: calculate Class 1-3 obesity from measurements https://hpo.jax.org/app/browse/term/HP:0001513 "
   ]
  },
  {
   "cell_type": "code",
   "execution_count": 31,
   "id": "b4922059-3f62-4b13-a719-1d469182d0c3",
   "metadata": {
    "tags": [],
    "ExecuteTime": {
     "start_time": "2023-08-23T16:08:32.131848Z",
     "end_time": "2023-08-23T16:08:32.226051Z"
    }
   },
   "outputs": [],
   "source": [
    "def parse_erker_zygosity(f, col1, col2):\n",
    "    zygosity_dict = {'sct_22061001': 'homozygous', 'sct_14556007': 'heterozygous'}\n",
    "    reader = csv.DictReader(f)\n",
    "    for row in reader:\n",
    "        if row[col1] in zygosity_dict or row[col2] in zygosity_dict:\n",
    "            if row[col1] in zygosity_dict:\n",
    "                return zygosity_dict[row[col1]]\n",
    "            else:\n",
    "                return zygosity_dict[row[col2]]\n",
    "    return None\n",
    "\n",
    "# Example usage\n",
    "with open(synthdata_path, 'r') as f:\n",
    "      value = parse_erker_zygosity(f, 'ln_55198_6___sct_22061001', 'ln_55198_6___sct_14556007')\n",
    "\n",
    "#if zygosity == \"sct_22061001\":\n",
    " #       variantInterpretation = allelicState(id=\"GENO:0000136\", label=\"homozygous\")\n",
    "  #  elif zygosity == \"sct_14556007\": \n",
    "#        variantInterpretation = allelicStat(id=\"GENO:0000135\", label=\"heterozygous\")\n",
    " #   elif zygosity == \"homoplasmy\": \n",
    "  #      variantInterpretation = allelicStat(id=\"GENO:0000602\", label=\"homoplasmic\")\n",
    "#    elif zygosity == \"heteroplasmy\": \n",
    " #       variantInterpretation = allelicStat(id=\"GENO:0000603\", label=\"heteroplasmic\")\n",
    "  #  elif zygosity == \"sct_1220561009\" \n",
    " #       return None "
   ]
  },
  {
   "cell_type": "code",
   "execution_count": 32,
   "id": "92670f0c-093a-4908-90c7-5508d706cae6",
   "metadata": {
    "tags": [],
    "ExecuteTime": {
     "start_time": "2023-08-23T16:08:32.147478Z",
     "end_time": "2023-08-23T16:08:32.226051Z"
    }
   },
   "outputs": [],
   "source": [
    "#def parse_erker_hgvs(hgvs):\n",
    "    \n",
    "    "
   ]
  },
  {
   "cell_type": "markdown",
   "id": "c691f6fd-fb08-4cd2-b5df-0d754083256d",
   "metadata": {
    "tags": []
   },
   "source": [
    "### Creating: **Disease**, **Individual**, **Phenotyping_feature**"
   ]
  },
  {
   "cell_type": "markdown",
   "id": "1a6eddc1-77c2-4925-ac8a-0414823ccfe5",
   "metadata": {
    "tags": []
   },
   "source": [
    "**diagnosis**: all directly into phenopackets"
   ]
  },
  {
   "cell_type": "markdown",
   "id": "3b09cc59-eda9-437c-ac4b-02a2dbb527cb",
   "metadata": {},
   "source": [
    " \n",
    "  \n",
    "   "
   ]
  },
  {
   "cell_type": "markdown",
   "id": "9094d3b7-66d8-410c-920c-ba2af878188d",
   "metadata": {
    "tags": []
   },
   "source": [
    "## Map & Create MC4R weight_course"
   ]
  },
  {
   "cell_type": "markdown",
   "id": "052f818f-03d9-47e3-99ee-6fa0db1e465f",
   "metadata": {},
   "source": [
    "### Mapping **Measurements**: weight, height, age"
   ]
  },
  {
   "cell_type": "raw",
   "id": "9942a20d-ffda-4e33-b81a-5e28dfc59378",
   "metadata": {},
   "source": [
    "def parse_measurements(weight_col, height_col)                \n",
    "    if weight_col == \"Weight-Birth\\nkg\" and height_col == \"Height-Birth\\ncm\"\n",
    "            age = 'P0Y0M'\n",
    "    elif weight_col == \"Weight - U6\\nkg\" and height_col == \"Height-U6\\ncm\"\n",
    "            age = 'P1Y0M'\n",
    "    elif weight_col == \"Weight-U7\\nkg\" and height_col == \"Height-U7\\ncm\"\n",
    "            age = 'P2Y0M'\n",
    "    elif weight_col == \"Weight-U7a\\nkg\" and height_col == \"Height-U7a\\ncm\"\n",
    "            age = 'P3Y0M'\n",
    "    elif weight_col == \"Weight-U8\\nkg\" and height_col == \"Height-U8\\ncm\"\n",
    "            age = 'P4Y0M'\n",
    "    elif weight_col == \"Weight-U9\\nkg\" and height_col == \"Height-U9\\ncm\"\n",
    "            age = 'P5Y0M'\n",
    "    elif weight_col == \"Weight- 6y\\nkg\" and height_col == \"Height- 6y\\ncm\"\n",
    "            age = 'P6Y0M'\n",
    "    elif weight_col == \"Weight-9y\\nkg\" and height_col == \"Height 9y\\ncm\"\n",
    "            age = 'P9Y0M'\n",
    "    elif weight_col == \"Weight-12y\\nkg\" and height_col == \"Height-12y\\ncm\"\n",
    "            age = 'P12Y0M'\n",
    "    elif weight_col == \"Weight-15y\\nkg\" and height_col == \"Height-15y\\ncm\"\n",
    "            age = 'P15Y0M'\n",
    "    elif weight_col == \"Weight-18y\\nkg\" and height_col == \"Height-18y\\ncm\"\n",
    "            age = 'P18Y0M'    \n",
    "    else weight_col == \"Weight -21y\\nkg\" and height_col == \"Height-21y\\ncm\"\n",
    "            age = 'P21Y0M'"
   ]
  },
  {
   "cell_type": "markdown",
   "id": "d16bda71-eb7b-41a2-bb57-385afe653aeb",
   "metadata": {},
   "source": [
    "### Creating **Measurements**: weight, height, age"
   ]
  },
  {
   "cell_type": "code",
   "execution_count": 33,
   "id": "af627dc9-c7b2-482e-a2fd-996aee8f8ed9",
   "metadata": {
    "ExecuteTime": {
     "start_time": "2023-08-23T16:08:32.163082Z",
     "end_time": "2023-08-23T16:08:32.226051Z"
    }
   },
   "outputs": [],
   "source": [
    "# create method with all the columns\n",
    "#kg=OntologyClass(unit='UCUM:kg', label='kilogram'\n",
    "\n",
    "def create_measurements(weight_col: str, height_col: str, age_col:str):\n",
    "    # Process weight\n",
    "    assay = OntologyClass(id='LOINC:3141-9', label='Body weight Measured')\n",
    "    value = weight_col if isinstance(weight_col, float) else float(weight_col)\n",
    "    quantity = Quantity(unit=kg, value=value)\n",
    "    \n",
    "    assay = OntologyClass(id='LOINC:3137-7', label='Body height Measured')\n",
    "    value = weight_col if isinstance(height_col, float) else float(height)\n",
    "    quantity = Quantity(unit=cm, value=value)\n",
    "    \n",
    "    "
   ]
  },
  {
   "cell_type": "code",
   "execution_count": 33,
   "id": "f4e56bc5-9e67-45a8-b552-f4b47a9c0432",
   "metadata": {
    "ExecuteTime": {
     "start_time": "2023-08-23T16:08:32.179146Z",
     "end_time": "2023-08-23T16:08:32.226051Z"
    }
   },
   "outputs": [],
   "source": []
  },
  {
   "cell_type": "markdown",
   "id": "11a814fe-6ace-4754-9d72-aa386637ce3f",
   "metadata": {
    "tags": []
   },
   "source": [
    "# Load data dictionary\n",
    "\n",
    "Load the XLSX data dictionary file into a data frame."
   ]
  },
  {
   "cell_type": "code",
   "execution_count": 34,
   "id": "12ffd01c-f6fa-4438-8ee2-b85ce3c48ce3",
   "metadata": {},
   "outputs": [
    {
     "ename": "FileNotFoundError",
     "evalue": "[Errno 2] No such file or directory: 'ERKER_v1.2_DataDictionary.xlsx'",
     "output_type": "error",
     "traceback": [
      "\u001B[1;31m---------------------------------------------------------------------------\u001B[0m",
      "\u001B[1;31mFileNotFoundError\u001B[0m                         Traceback (most recent call last)",
      "Cell \u001B[1;32mIn[34], line 2\u001B[0m\n\u001B[0;32m      1\u001B[0m fpath_datadict \u001B[38;5;241m=\u001B[39m \u001B[38;5;124m'\u001B[39m\u001B[38;5;124mERKER_v1.2_DataDictionary.xlsx\u001B[39m\u001B[38;5;124m'\u001B[39m\n\u001B[1;32m----> 2\u001B[0m ddict \u001B[38;5;241m=\u001B[39m \u001B[43mpd\u001B[49m\u001B[38;5;241;43m.\u001B[39;49m\u001B[43mread_excel\u001B[49m\u001B[43m(\u001B[49m\u001B[43mfpath_datadict\u001B[49m\u001B[43m,\u001B[49m\u001B[43m \u001B[49m\u001B[43mindex_col\u001B[49m\u001B[38;5;241;43m=\u001B[39;49m\u001B[38;5;124;43m'\u001B[39;49m\u001B[38;5;124;43mVariable / Field Name\u001B[39;49m\u001B[38;5;124;43m'\u001B[39;49m\u001B[43m)\u001B[49m\u001B[38;5;241m.\u001B[39msort_index()\n\u001B[0;32m      3\u001B[0m ddict\u001B[38;5;241m.\u001B[39mhead(\u001B[38;5;241m2\u001B[39m)\n",
      "File \u001B[1;32m~\\anaconda3\\envs\\ERKER2Phenopackets\\lib\\site-packages\\pandas\\util\\_decorators.py:211\u001B[0m, in \u001B[0;36mdeprecate_kwarg.<locals>._deprecate_kwarg.<locals>.wrapper\u001B[1;34m(*args, **kwargs)\u001B[0m\n\u001B[0;32m    209\u001B[0m     \u001B[38;5;28;01melse\u001B[39;00m:\n\u001B[0;32m    210\u001B[0m         kwargs[new_arg_name] \u001B[38;5;241m=\u001B[39m new_arg_value\n\u001B[1;32m--> 211\u001B[0m \u001B[38;5;28;01mreturn\u001B[39;00m func(\u001B[38;5;241m*\u001B[39margs, \u001B[38;5;241m*\u001B[39m\u001B[38;5;241m*\u001B[39mkwargs)\n",
      "File \u001B[1;32m~\\anaconda3\\envs\\ERKER2Phenopackets\\lib\\site-packages\\pandas\\util\\_decorators.py:331\u001B[0m, in \u001B[0;36mdeprecate_nonkeyword_arguments.<locals>.decorate.<locals>.wrapper\u001B[1;34m(*args, **kwargs)\u001B[0m\n\u001B[0;32m    325\u001B[0m \u001B[38;5;28;01mif\u001B[39;00m \u001B[38;5;28mlen\u001B[39m(args) \u001B[38;5;241m>\u001B[39m num_allow_args:\n\u001B[0;32m    326\u001B[0m     warnings\u001B[38;5;241m.\u001B[39mwarn(\n\u001B[0;32m    327\u001B[0m         msg\u001B[38;5;241m.\u001B[39mformat(arguments\u001B[38;5;241m=\u001B[39m_format_argument_list(allow_args)),\n\u001B[0;32m    328\u001B[0m         \u001B[38;5;167;01mFutureWarning\u001B[39;00m,\n\u001B[0;32m    329\u001B[0m         stacklevel\u001B[38;5;241m=\u001B[39mfind_stack_level(),\n\u001B[0;32m    330\u001B[0m     )\n\u001B[1;32m--> 331\u001B[0m \u001B[38;5;28;01mreturn\u001B[39;00m func(\u001B[38;5;241m*\u001B[39margs, \u001B[38;5;241m*\u001B[39m\u001B[38;5;241m*\u001B[39mkwargs)\n",
      "File \u001B[1;32m~\\anaconda3\\envs\\ERKER2Phenopackets\\lib\\site-packages\\pandas\\io\\excel\\_base.py:482\u001B[0m, in \u001B[0;36mread_excel\u001B[1;34m(io, sheet_name, header, names, index_col, usecols, squeeze, dtype, engine, converters, true_values, false_values, skiprows, nrows, na_values, keep_default_na, na_filter, verbose, parse_dates, date_parser, thousands, decimal, comment, skipfooter, convert_float, mangle_dupe_cols, storage_options)\u001B[0m\n\u001B[0;32m    480\u001B[0m \u001B[38;5;28;01mif\u001B[39;00m \u001B[38;5;129;01mnot\u001B[39;00m \u001B[38;5;28misinstance\u001B[39m(io, ExcelFile):\n\u001B[0;32m    481\u001B[0m     should_close \u001B[38;5;241m=\u001B[39m \u001B[38;5;28;01mTrue\u001B[39;00m\n\u001B[1;32m--> 482\u001B[0m     io \u001B[38;5;241m=\u001B[39m \u001B[43mExcelFile\u001B[49m\u001B[43m(\u001B[49m\u001B[43mio\u001B[49m\u001B[43m,\u001B[49m\u001B[43m \u001B[49m\u001B[43mstorage_options\u001B[49m\u001B[38;5;241;43m=\u001B[39;49m\u001B[43mstorage_options\u001B[49m\u001B[43m,\u001B[49m\u001B[43m \u001B[49m\u001B[43mengine\u001B[49m\u001B[38;5;241;43m=\u001B[39;49m\u001B[43mengine\u001B[49m\u001B[43m)\u001B[49m\n\u001B[0;32m    483\u001B[0m \u001B[38;5;28;01melif\u001B[39;00m engine \u001B[38;5;129;01mand\u001B[39;00m engine \u001B[38;5;241m!=\u001B[39m io\u001B[38;5;241m.\u001B[39mengine:\n\u001B[0;32m    484\u001B[0m     \u001B[38;5;28;01mraise\u001B[39;00m \u001B[38;5;167;01mValueError\u001B[39;00m(\n\u001B[0;32m    485\u001B[0m         \u001B[38;5;124m\"\u001B[39m\u001B[38;5;124mEngine should not be specified when passing \u001B[39m\u001B[38;5;124m\"\u001B[39m\n\u001B[0;32m    486\u001B[0m         \u001B[38;5;124m\"\u001B[39m\u001B[38;5;124man ExcelFile - ExcelFile already has the engine set\u001B[39m\u001B[38;5;124m\"\u001B[39m\n\u001B[0;32m    487\u001B[0m     )\n",
      "File \u001B[1;32m~\\anaconda3\\envs\\ERKER2Phenopackets\\lib\\site-packages\\pandas\\io\\excel\\_base.py:1652\u001B[0m, in \u001B[0;36mExcelFile.__init__\u001B[1;34m(self, path_or_buffer, engine, storage_options)\u001B[0m\n\u001B[0;32m   1650\u001B[0m     ext \u001B[38;5;241m=\u001B[39m \u001B[38;5;124m\"\u001B[39m\u001B[38;5;124mxls\u001B[39m\u001B[38;5;124m\"\u001B[39m\n\u001B[0;32m   1651\u001B[0m \u001B[38;5;28;01melse\u001B[39;00m:\n\u001B[1;32m-> 1652\u001B[0m     ext \u001B[38;5;241m=\u001B[39m \u001B[43minspect_excel_format\u001B[49m\u001B[43m(\u001B[49m\n\u001B[0;32m   1653\u001B[0m \u001B[43m        \u001B[49m\u001B[43mcontent_or_path\u001B[49m\u001B[38;5;241;43m=\u001B[39;49m\u001B[43mpath_or_buffer\u001B[49m\u001B[43m,\u001B[49m\u001B[43m \u001B[49m\u001B[43mstorage_options\u001B[49m\u001B[38;5;241;43m=\u001B[39;49m\u001B[43mstorage_options\u001B[49m\n\u001B[0;32m   1654\u001B[0m \u001B[43m    \u001B[49m\u001B[43m)\u001B[49m\n\u001B[0;32m   1655\u001B[0m     \u001B[38;5;28;01mif\u001B[39;00m ext \u001B[38;5;129;01mis\u001B[39;00m \u001B[38;5;28;01mNone\u001B[39;00m:\n\u001B[0;32m   1656\u001B[0m         \u001B[38;5;28;01mraise\u001B[39;00m \u001B[38;5;167;01mValueError\u001B[39;00m(\n\u001B[0;32m   1657\u001B[0m             \u001B[38;5;124m\"\u001B[39m\u001B[38;5;124mExcel file format cannot be determined, you must specify \u001B[39m\u001B[38;5;124m\"\u001B[39m\n\u001B[0;32m   1658\u001B[0m             \u001B[38;5;124m\"\u001B[39m\u001B[38;5;124man engine manually.\u001B[39m\u001B[38;5;124m\"\u001B[39m\n\u001B[0;32m   1659\u001B[0m         )\n",
      "File \u001B[1;32m~\\anaconda3\\envs\\ERKER2Phenopackets\\lib\\site-packages\\pandas\\io\\excel\\_base.py:1525\u001B[0m, in \u001B[0;36minspect_excel_format\u001B[1;34m(content_or_path, storage_options)\u001B[0m\n\u001B[0;32m   1522\u001B[0m \u001B[38;5;28;01mif\u001B[39;00m \u001B[38;5;28misinstance\u001B[39m(content_or_path, \u001B[38;5;28mbytes\u001B[39m):\n\u001B[0;32m   1523\u001B[0m     content_or_path \u001B[38;5;241m=\u001B[39m BytesIO(content_or_path)\n\u001B[1;32m-> 1525\u001B[0m \u001B[38;5;28;01mwith\u001B[39;00m \u001B[43mget_handle\u001B[49m\u001B[43m(\u001B[49m\n\u001B[0;32m   1526\u001B[0m \u001B[43m    \u001B[49m\u001B[43mcontent_or_path\u001B[49m\u001B[43m,\u001B[49m\u001B[43m \u001B[49m\u001B[38;5;124;43m\"\u001B[39;49m\u001B[38;5;124;43mrb\u001B[39;49m\u001B[38;5;124;43m\"\u001B[39;49m\u001B[43m,\u001B[49m\u001B[43m \u001B[49m\u001B[43mstorage_options\u001B[49m\u001B[38;5;241;43m=\u001B[39;49m\u001B[43mstorage_options\u001B[49m\u001B[43m,\u001B[49m\u001B[43m \u001B[49m\u001B[43mis_text\u001B[49m\u001B[38;5;241;43m=\u001B[39;49m\u001B[38;5;28;43;01mFalse\u001B[39;49;00m\n\u001B[0;32m   1527\u001B[0m \u001B[43m\u001B[49m\u001B[43m)\u001B[49m \u001B[38;5;28;01mas\u001B[39;00m handle:\n\u001B[0;32m   1528\u001B[0m     stream \u001B[38;5;241m=\u001B[39m handle\u001B[38;5;241m.\u001B[39mhandle\n\u001B[0;32m   1529\u001B[0m     stream\u001B[38;5;241m.\u001B[39mseek(\u001B[38;5;241m0\u001B[39m)\n",
      "File \u001B[1;32m~\\anaconda3\\envs\\ERKER2Phenopackets\\lib\\site-packages\\pandas\\io\\common.py:865\u001B[0m, in \u001B[0;36mget_handle\u001B[1;34m(path_or_buf, mode, encoding, compression, memory_map, is_text, errors, storage_options)\u001B[0m\n\u001B[0;32m    856\u001B[0m         handle \u001B[38;5;241m=\u001B[39m \u001B[38;5;28mopen\u001B[39m(\n\u001B[0;32m    857\u001B[0m             handle,\n\u001B[0;32m    858\u001B[0m             ioargs\u001B[38;5;241m.\u001B[39mmode,\n\u001B[1;32m   (...)\u001B[0m\n\u001B[0;32m    861\u001B[0m             newline\u001B[38;5;241m=\u001B[39m\u001B[38;5;124m\"\u001B[39m\u001B[38;5;124m\"\u001B[39m,\n\u001B[0;32m    862\u001B[0m         )\n\u001B[0;32m    863\u001B[0m     \u001B[38;5;28;01melse\u001B[39;00m:\n\u001B[0;32m    864\u001B[0m         \u001B[38;5;66;03m# Binary mode\u001B[39;00m\n\u001B[1;32m--> 865\u001B[0m         handle \u001B[38;5;241m=\u001B[39m \u001B[38;5;28;43mopen\u001B[39;49m\u001B[43m(\u001B[49m\u001B[43mhandle\u001B[49m\u001B[43m,\u001B[49m\u001B[43m \u001B[49m\u001B[43mioargs\u001B[49m\u001B[38;5;241;43m.\u001B[39;49m\u001B[43mmode\u001B[49m\u001B[43m)\u001B[49m\n\u001B[0;32m    866\u001B[0m     handles\u001B[38;5;241m.\u001B[39mappend(handle)\n\u001B[0;32m    868\u001B[0m \u001B[38;5;66;03m# Convert BytesIO or file objects passed with an encoding\u001B[39;00m\n",
      "\u001B[1;31mFileNotFoundError\u001B[0m: [Errno 2] No such file or directory: 'ERKER_v1.2_DataDictionary.xlsx'"
     ]
    }
   ],
   "source": [
    "fpath_datadict = 'ERKER_v1.2_DataDictionary.xlsx'\n",
    "ddict = pd.read_excel(fpath_datadict, index_col='Variable / Field Name').sort_index()\n",
    "ddict.head(2)"
   ]
  },
  {
   "cell_type": "markdown",
   "id": "c769bef8-1f73-450f-876e-e853b822121c",
   "metadata": {
    "tags": []
   },
   "source": [
    "# Process synthetic dataset\n",
    "\n",
    "## Load dataset into dataframe"
   ]
  },
  {
   "cell_type": "code",
   "execution_count": 38,
   "id": "8077f4d7-3f60-4ead-9217-b12149f26482",
   "metadata": {
    "ExecuteTime": {
     "start_time": "2023-08-23T16:09:12.189283Z",
     "end_time": "2023-08-23T16:09:12.253383Z"
    }
   },
   "outputs": [
    {
     "data": {
      "text/plain": "           redcap_event_name  redcap_repeat_instrument  \\\nrecord_id                                                \n1                        0.0                       0.0   \n1                        0.0                       0.0   \n1                        0.0                       0.0   \n1                        0.0                       0.0   \n1                        0.0                       0.0   \n\n           redcap_repeat_instance  sct_422549004  sct_399423000  \\\nrecord_id                                                         \n1                             0.0            0.0            0.0   \n1                             0.0            0.0            0.0   \n1                             0.0            0.0            0.0   \n1                             0.0            0.0            0.0   \n1                             0.0            0.0            0.0   \n\n           sct_184099003_y  sct_281053000    lnc_67162_8  sct_399753006  \\\nrecord_id                                                                 \n1                     1998  sct_248152002  lnc_67162-8_X            0.0   \n1                     2011  sct_248153007  lnc_67162-8_X            0.0   \n1                     1988  sct_248153007  lnc_67162-8_X            0.0   \n1                     2008  sct_248153007  lnc_67162-8_X            0.0   \n1                     2001  sct_248153007  lnc_67162-8_X            0.0   \n\n           sct_410598002  ...  w_percentile_5y denver iq_test  \\\nrecord_id                 ...                                   \n1           sct_13393600  ...                3      3     0.0   \n1          sct_133937008  ...                3      3     0.0   \n1           sct_13393600  ...                3      3     0.0   \n1           sct_13393600  ...                3      3     0.0   \n1           sct_13393600  ...                3      3     0.0   \n\n           mentale_retardierung  motorik_untersuchung  groesse_vater  \\\nrecord_id                                                              \n1                             3                     3            0.0   \n1                             3                     3            0.0   \n1                             3                     3            0.0   \n1                             3                     3            0.0   \n1                             3                     3            0.0   \n\n          groesse_mutter  erw_gen_zielgroesse_2  auffaellige_entwicklung  \\\nrecord_id                                                                  \n1                    0.0                      3                        3   \n1                    0.0                      3                        3   \n1                    0.0                      3                        3   \n1                    0.0                      3                        3   \n1                    0.0                      3                        3   \n\n           mc4r_demographics_complete  \nrecord_id                              \n1                                   2  \n1                                   2  \n1                                   2  \n1                                   2  \n1                                   2  \n\n[5 rows x 175 columns]",
      "text/html": "<div>\n<style scoped>\n    .dataframe tbody tr th:only-of-type {\n        vertical-align: middle;\n    }\n\n    .dataframe tbody tr th {\n        vertical-align: top;\n    }\n\n    .dataframe thead th {\n        text-align: right;\n    }\n</style>\n<table border=\"1\" class=\"dataframe\">\n  <thead>\n    <tr style=\"text-align: right;\">\n      <th></th>\n      <th>redcap_event_name</th>\n      <th>redcap_repeat_instrument</th>\n      <th>redcap_repeat_instance</th>\n      <th>sct_422549004</th>\n      <th>sct_399423000</th>\n      <th>sct_184099003_y</th>\n      <th>sct_281053000</th>\n      <th>lnc_67162_8</th>\n      <th>sct_399753006</th>\n      <th>sct_410598002</th>\n      <th>...</th>\n      <th>w_percentile_5y</th>\n      <th>denver</th>\n      <th>iq_test</th>\n      <th>mentale_retardierung</th>\n      <th>motorik_untersuchung</th>\n      <th>groesse_vater</th>\n      <th>groesse_mutter</th>\n      <th>erw_gen_zielgroesse_2</th>\n      <th>auffaellige_entwicklung</th>\n      <th>mc4r_demographics_complete</th>\n    </tr>\n    <tr>\n      <th>record_id</th>\n      <th></th>\n      <th></th>\n      <th></th>\n      <th></th>\n      <th></th>\n      <th></th>\n      <th></th>\n      <th></th>\n      <th></th>\n      <th></th>\n      <th></th>\n      <th></th>\n      <th></th>\n      <th></th>\n      <th></th>\n      <th></th>\n      <th></th>\n      <th></th>\n      <th></th>\n      <th></th>\n      <th></th>\n    </tr>\n  </thead>\n  <tbody>\n    <tr>\n      <th>1</th>\n      <td>0.0</td>\n      <td>0.0</td>\n      <td>0.0</td>\n      <td>0.0</td>\n      <td>0.0</td>\n      <td>1998</td>\n      <td>sct_248152002</td>\n      <td>lnc_67162-8_X</td>\n      <td>0.0</td>\n      <td>sct_13393600</td>\n      <td>...</td>\n      <td>3</td>\n      <td>3</td>\n      <td>0.0</td>\n      <td>3</td>\n      <td>3</td>\n      <td>0.0</td>\n      <td>0.0</td>\n      <td>3</td>\n      <td>3</td>\n      <td>2</td>\n    </tr>\n    <tr>\n      <th>1</th>\n      <td>0.0</td>\n      <td>0.0</td>\n      <td>0.0</td>\n      <td>0.0</td>\n      <td>0.0</td>\n      <td>2011</td>\n      <td>sct_248153007</td>\n      <td>lnc_67162-8_X</td>\n      <td>0.0</td>\n      <td>sct_133937008</td>\n      <td>...</td>\n      <td>3</td>\n      <td>3</td>\n      <td>0.0</td>\n      <td>3</td>\n      <td>3</td>\n      <td>0.0</td>\n      <td>0.0</td>\n      <td>3</td>\n      <td>3</td>\n      <td>2</td>\n    </tr>\n    <tr>\n      <th>1</th>\n      <td>0.0</td>\n      <td>0.0</td>\n      <td>0.0</td>\n      <td>0.0</td>\n      <td>0.0</td>\n      <td>1988</td>\n      <td>sct_248153007</td>\n      <td>lnc_67162-8_X</td>\n      <td>0.0</td>\n      <td>sct_13393600</td>\n      <td>...</td>\n      <td>3</td>\n      <td>3</td>\n      <td>0.0</td>\n      <td>3</td>\n      <td>3</td>\n      <td>0.0</td>\n      <td>0.0</td>\n      <td>3</td>\n      <td>3</td>\n      <td>2</td>\n    </tr>\n    <tr>\n      <th>1</th>\n      <td>0.0</td>\n      <td>0.0</td>\n      <td>0.0</td>\n      <td>0.0</td>\n      <td>0.0</td>\n      <td>2008</td>\n      <td>sct_248153007</td>\n      <td>lnc_67162-8_X</td>\n      <td>0.0</td>\n      <td>sct_13393600</td>\n      <td>...</td>\n      <td>3</td>\n      <td>3</td>\n      <td>0.0</td>\n      <td>3</td>\n      <td>3</td>\n      <td>0.0</td>\n      <td>0.0</td>\n      <td>3</td>\n      <td>3</td>\n      <td>2</td>\n    </tr>\n    <tr>\n      <th>1</th>\n      <td>0.0</td>\n      <td>0.0</td>\n      <td>0.0</td>\n      <td>0.0</td>\n      <td>0.0</td>\n      <td>2001</td>\n      <td>sct_248153007</td>\n      <td>lnc_67162-8_X</td>\n      <td>0.0</td>\n      <td>sct_13393600</td>\n      <td>...</td>\n      <td>3</td>\n      <td>3</td>\n      <td>0.0</td>\n      <td>3</td>\n      <td>3</td>\n      <td>0.0</td>\n      <td>0.0</td>\n      <td>3</td>\n      <td>3</td>\n      <td>2</td>\n    </tr>\n  </tbody>\n</table>\n<p>5 rows × 175 columns</p>\n</div>"
     },
     "execution_count": 38,
     "metadata": {},
     "output_type": "execute_result"
    }
   ],
   "source": [
    "synthdata = pd.read_csv(synthdata_path, index_col='record_id').sort_index()\n",
    "synthdata.head(5)"
   ]
  },
  {
   "cell_type": "markdown",
   "id": "021883b7-4d98-4859-bb67-364e3a17fa37",
   "metadata": {},
   "source": [
    "## Explore the synthetic dataset\n",
    "\n",
    "### Dataset shape"
   ]
  },
  {
   "cell_type": "code",
   "execution_count": 39,
   "id": "fc89e570-5bd6-466d-b220-6e535e0cfe56",
   "metadata": {
    "ExecuteTime": {
     "start_time": "2023-08-23T16:09:26.013674Z",
     "end_time": "2023-08-23T16:09:26.044920Z"
    }
   },
   "outputs": [
    {
     "data": {
      "text/plain": "(98, 175)"
     },
     "execution_count": 39,
     "metadata": {},
     "output_type": "execute_result"
    }
   ],
   "source": [
    "synthdata.shape"
   ]
  },
  {
   "cell_type": "markdown",
   "id": "4a526f6b-2182-4ed2-ace6-7b0e69e36d38",
   "metadata": {
    "tags": []
   },
   "source": [
    "### `record_id` column\n",
    "\n",
    "What is the meaning of the `record_id` column? Can we use it as an index?\n",
    "\n",
    "`record_id` is not unique, it is present in >1 rows. The rows with the same `record_id` do not seem to represent the same patient since the date of birth (`sct_184099003_y`) is different."
   ]
  },
  {
   "cell_type": "code",
   "execution_count": 40,
   "id": "08848b91-48ba-42be-a1b6-540ac183eb63",
   "metadata": {
    "ExecuteTime": {
     "start_time": "2023-08-23T16:09:39.469717Z",
     "end_time": "2023-08-23T16:09:39.794440Z"
    }
   },
   "outputs": [
    {
     "data": {
      "text/plain": "<Figure size 720x480 with 1 Axes>",
      "image/png": "[encoded data removed]"
     },
     "metadata": {},
     "output_type": "display_data"
    }
   ],
   "source": [
    "fig, ax = plt.subplots(**figargs)\n",
    "\n",
    "data = synthdata.groupby('record_id').size().value_counts().sort_index()\n",
    "\n",
    "ax.bar(data.index, data)\n",
    "ax.set(xlabel='record counts', ylabel='# records')\n",
    "\n",
    "fig.tight_layout()"
   ]
  },
  {
   "cell_type": "markdown",
   "id": "6002e471-6544-4af9-949f-c49a10a425d3",
   "metadata": {},
   "source": [
    "### Genes\n",
    "\n",
    "What genes do we have in the dataset?"
   ]
  },
  {
   "cell_type": "code",
   "execution_count": 41,
   "id": "bbfd0e38-adf3-4a5c-b8dd-878b10f91ca6",
   "metadata": {
    "ExecuteTime": {
     "start_time": "2023-08-23T16:09:46.568511Z",
     "end_time": "2023-08-23T16:09:46.646035Z"
    }
   },
   "outputs": [
    {
     "data": {
      "text/plain": "array(['HGNC:6932'], dtype=object)"
     },
     "execution_count": 41,
     "metadata": {},
     "output_type": "execute_result"
    }
   ],
   "source": [
    "genes = synthdata.loc[:, synthdata.columns.str.match(r'ln_47999_8_hgnc_\\d')]\\\n",
    "  .melt(ignore_index=False)\\\n",
    "  .loc[lambda x: x['value'].str.contains('^HGNC:.*', na=False), 'value']\n",
    "genes.unique()"
   ]
  },
  {
   "cell_type": "markdown",
   "id": "d705136b-d224-4e92-913a-103c7e8e8c0c",
   "metadata": {},
   "source": [
    "## Orchestrate the mapping \n",
    "\n",
    "Let's iterate over the dataset rows and map the data into phenopackets. We use the functions defined above."
   ]
  },
  {
   "cell_type": "code",
   "execution_count": 42,
   "id": "9f04e2fc-05c5-461c-bced-1090e60d0600",
   "metadata": {
    "ExecuteTime": {
     "start_time": "2023-08-23T16:09:50.465880Z",
     "end_time": "2023-08-23T16:09:50.480387Z"
    }
   },
   "outputs": [],
   "source": [
    "def get_resource(id:str, name:str, namespace_prefix:str, url:str, version:str, iri_prefix:str) -> Resource:\n",
    "    \"\"\"A convenience method to create a Phenopacket Schema resource.\"\"\"\n",
    "    return Resource(id=id, name=name, namespace_prefix=namespace_prefix, url=url, version=version, iri_prefix=iri_prefix)"
   ]
  },
  {
   "cell_type": "code",
   "execution_count": 17,
   "id": "844d1247-a801-4d34-abd5-e9a9507da118",
   "metadata": {},
   "outputs": [
    {
     "name": "stdout",
     "output_type": "stream",
     "text": [
      "Mapped 98 phenopackets\n"
     ]
    }
   ],
   "source": [
    "pps = []\n",
    "# TODO: das hier ist am wichtigsten zu verstehen\n",
    "# vorher quasi nur mapping, hier zusammensetzen\n",
    "for i, (idx, row) in enumerate(synthdata.iterrows()):\n",
    "    ## Subject\n",
    "    # The elements we may consider adding:\n",
    "    #  age at last encounter, vital status, karyotypic sex, gender\n",
    "    \n",
    "    subject = Individual(\n",
    "        id=str(idx),\n",
    "        date_of_birth=parse_erker_date_of_birth(row['sct_184099003_y']),\n",
    "        sex=parse_erker_sex(row['sct_281053000']),\n",
    "        taxonomy=OntologyClass(id='NCBITaxon:9606', label='Homo sapiens')\n",
    "    )\n",
    "    \n",
    "    ## PhenotypicFeatures\n",
    "    # Unsure if it is useful to add HPO terms in this dataset, \n",
    "    #  considering we have the weight measurements.\n",
    "    phenotypicFeatures = PhenotypicFeature(\n",
    "        type=OntologyClass(id='HP:0001513', label='Obesity')\n",
    "        \n",
    "    )\n",
    "    ## Measurements\n",
    "    # TODO - the weight course\n",
    "    measurements=Measurement(\n",
    "\n",
    "    )\n",
    "    \n",
    "    ## Interpretations\n",
    "    interpretation=Interpretation(\n",
    "        id=str(idx),\n",
    "        progress_status='SOLVED',\n",
    "       # diagnosis=Diagnosis(id='ORPHA:71529', label='Obesity due to melanocortin 4 receptor deficiency'),\n",
    "    )\n",
    "    \n",
    "    # TODO - add variants\n",
    "    variantInterpretation = VariantInterpretation(\n",
    "        acmg_pathogenicity_classification='NOT_PROVIDED', #acmg will be added\n",
    "        therapeutic_actionability='UNKNOWN_ACTIONABILITY',\n",
    "      #  variant=parse_erker_hgvs()  \n",
    "        \n",
    "    )\n",
    "\n",
    "    ## Disease\n",
    "    disease = Disease(\n",
    "        term=OntologyClass(id='ORPHA:71529',label='Obesity due to melanocortin 4 receptor deficiency'),\n",
    "    #    onset=parse_erker_onset(row['sct_424850005']),\n",
    "    )\n",
    "   \n",
    "    ## MetaData\n",
    "    created = Timestamp()\n",
    "    created.GetCurrentTime()\n",
    "    \n",
    "    resources = [\n",
    "        get_resource('ncbitaxon', 'NCBI organismal classification', 'NCBITaxon', \n",
    "                     'http://purl.obolibrary.org/obo/ncbitaxon.owl', '2021-06-10', 'http://purl.obolibrary.org/obo/NCBITaxon_')\n",
    "    ]\n",
    "    \n",
    "    \n",
    "    meta_data = MetaData(\n",
    "        created=created,\n",
    "        created_by=created_by,\n",
    "        submitted_by=created_by,  # The same for simplicity\n",
    "        resources=resources,\n",
    "        phenopacket_schema_version=phenopacket_schema_version\n",
    "    )\n",
    "    \n",
    "    pp = Phenopacket(\n",
    "        id=f'{i}-{idx}',  # TODO - can we come up with a better ID?\n",
    "        subject=subject, \n",
    "        phenotypic_features=[phenotypicFeatures],\n",
    "        interpretations=[interpretation],\n",
    "        meta_data=meta_data,\n",
    "        measurements=[],\n",
    "        \n",
    "        \n",
    "\n",
    "\n",
    "\n",
    "        \n",
    "        \n",
    "    )\n",
    "    pps.append(pp)\n",
    "    \n",
    "print(f'Mapped {len(pps)} phenopackets')"
   ]
  },
  {
   "cell_type": "markdown",
   "id": "43f9c132-f007-4f71-95ab-94a5da23da89",
   "metadata": {},
   "source": [
    "## Store the phenopackets into JSON files\n",
    "\n",
    "Let's store the phenopackets into JSON files, one file per phenopacket. We store the phenopackets in `phenopackets` folder by default."
   ]
  },
  {
   "cell_type": "code",
   "execution_count": 18,
   "id": "2e6cb3c8-4e1b-4a38-bba8-8eb2de2f2cec",
   "metadata": {},
   "outputs": [],
   "source": [
    "from google.protobuf.json_format import MessageToJson\n",
    "\n",
    "# Ensure the output directory exists\n",
    "fpath_out = 'phenopackets'\n",
    "os.makedirs(fpath_out, exist_ok=True)\n",
    "\n",
    "# Write the phenopackets into JSON files\n",
    "for pp in pps:\n",
    "    json = MessageToJson(pp)\n",
    "    fpath = os.path.join(fpath_out, pp.id)\n",
    "    with open(fpath, 'w') as fh:\n",
    "        fh.write(json)"
   ]
  },
  {
   "cell_type": "markdown",
   "id": "4383fcac-84bf-4e21-b80e-541520b42a3c",
   "metadata": {},
   "source": [
    "**Done!**"
   ]
  },
  {
   "cell_type": "code",
   "execution_count": null,
   "id": "f67c3e1c-ca8d-4be4-acb3-16783473f494",
   "metadata": {},
   "outputs": [],
   "source": []
  },
  {
   "cell_type": "code",
   "execution_count": null,
   "id": "2d1b002a-8630-49a8-8e1a-7271f4396b99",
   "metadata": {},
   "outputs": [],
   "source": []
  },
  {
   "cell_type": "code",
   "execution_count": null,
   "id": "5a1d390d-ad47-4926-b619-2b5b41beff7f",
   "metadata": {},
   "outputs": [],
   "source": []
  }
 ],
 "metadata": {
  "kernelspec": {
   "name": "python3",
   "language": "python",
   "display_name": "Python 3 (ipykernel)"
  },
  "language_info": {
   "codemirror_mode": {
    "name": "ipython",
    "version": 3
   },
   "file_extension": ".py",
   "mimetype": "text/x-python",
   "name": "python",
   "nbconvert_exporter": "python",
   "pygments_lexer": "ipython3",
   "version": "3.10.6"
  }
 },
 "nbformat": 4,
 "nbformat_minor": 5
}
